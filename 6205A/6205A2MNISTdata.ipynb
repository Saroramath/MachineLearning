{
  "nbformat": 4,
  "nbformat_minor": 0,
  "metadata": {
    "colab": {
      "name": "6205A2MNISTdata.ipynb",
      "provenance": [],
      "authorship_tag": "ABX9TyMStKfovwY75brGV63tHOcg",
      "include_colab_link": true
    },
    "kernelspec": {
      "name": "python3",
      "display_name": "Python 3"
    }
  },
  "cells": [
    {
      "cell_type": "markdown",
      "metadata": {
        "id": "view-in-github",
        "colab_type": "text"
      },
      "source": [
        "<a href=\"https://colab.research.google.com/github/Saroramath/MachineLearning/blob/main/6205A/6205A2MNISTdata.ipynb\" target=\"_parent\"><img src=\"https://colab.research.google.com/assets/colab-badge.svg\" alt=\"Open In Colab\"/></a>"
      ]
    },
    {
      "cell_type": "markdown",
      "metadata": {
        "id": "que4aCPsRgd6"
      },
      "source": [
        "## Learning Goals\n",
        ">Data Preprocessing \n",
        "\n",
        ">Pipeline\n",
        "\n",
        ">Hyperparameter Tuning"
      ]
    },
    {
      "cell_type": "markdown",
      "metadata": {
        "id": "fvfYSpSfu7-m"
      },
      "source": [
        "SVM with linear kernel and 'rbf' kernel"
      ]
    },
    {
      "cell_type": "markdown",
      "metadata": {
        "id": "BQmCSTANvSXm"
      },
      "source": [
        "We will make model for the handwritten digit recognition through SVM. We will use two different models linear and rbf. RBF has two hyperparameters. C and Gamma. We will use GridSearchCV and RandomSearchCV to find the best hyperparameters.  "
      ]
    },
    {
      "cell_type": "code",
      "metadata": {
        "id": "5eBEbdDOfG7f"
      },
      "source": [
        "import numpy as np\n",
        "import matplotlib.pyplot as plt\n",
        "import pandas as pd\n",
        "\n",
        "from sklearn.model_selection import train_test_split\n",
        "\n",
        "\n",
        "from sklearn.metrics import accuracy_score, recall_score, precision_score, make_scorer\n"
      ],
      "execution_count": null,
      "outputs": []
    },
    {
      "cell_type": "markdown",
      "metadata": {
        "id": "GKiYjfFuw7pA"
      },
      "source": [
        "## Import data"
      ]
    },
    {
      "cell_type": "code",
      "metadata": {
        "id": "rFa-UTEzdyel"
      },
      "source": [
        "from sklearn.datasets import fetch_openml\n",
        "mnist = fetch_openml('mnist_784')"
      ],
      "execution_count": null,
      "outputs": []
    },
    {
      "cell_type": "code",
      "metadata": {
        "id": "MqZtTC_pegEu",
        "colab": {
          "base_uri": "https://localhost:8080/"
        },
        "outputId": "78131e5a-a47e-419a-ac82-7390e1323d91"
      },
      "source": [
        "mnist.keys()"
      ],
      "execution_count": null,
      "outputs": [
        {
          "output_type": "execute_result",
          "data": {
            "text/plain": [
              "dict_keys(['data', 'target', 'frame', 'feature_names', 'target_names', 'DESCR', 'details', 'categories', 'url'])"
            ]
          },
          "metadata": {
            "tags": []
          },
          "execution_count": 32
        }
      ]
    },
    {
      "cell_type": "code",
      "metadata": {
        "id": "FjSSclbaemX7",
        "colab": {
          "base_uri": "https://localhost:8080/",
          "height": 140
        },
        "outputId": "89dbd9bd-276a-430d-d588-66e4fc1de979"
      },
      "source": [
        "mnist.DESCR"
      ],
      "execution_count": null,
      "outputs": [
        {
          "output_type": "execute_result",
          "data": {
            "application/vnd.google.colaboratory.intrinsic+json": {
              "type": "string"
            },
            "text/plain": [
              "\"**Author**: Yann LeCun, Corinna Cortes, Christopher J.C. Burges  \\n**Source**: [MNIST Website](http://yann.lecun.com/exdb/mnist/) - Date unknown  \\n**Please cite**:  \\n\\nThe MNIST database of handwritten digits with 784 features, raw data available at: http://yann.lecun.com/exdb/mnist/. It can be split in a training set of the first 60,000 examples, and a test set of 10,000 examples  \\n\\nIt is a subset of a larger set available from NIST. The digits have been size-normalized and centered in a fixed-size image. It is a good database for people who want to try learning techniques and pattern recognition methods on real-world data while spending minimal efforts on preprocessing and formatting. The original black and white (bilevel) images from NIST were size normalized to fit in a 20x20 pixel box while preserving their aspect ratio. The resulting images contain grey levels as a result of the anti-aliasing technique used by the normalization algorithm. the images were centered in a 28x28 image by computing the center of mass of the pixels, and translating the image so as to position this point at the center of the 28x28 field.  \\n\\nWith some classification methods (particularly template-based methods, such as SVM and K-nearest neighbors), the error rate improves when the digits are centered by bounding box rather than center of mass. If you do this kind of pre-processing, you should report it in your publications. The MNIST database was constructed from NIST's NIST originally designated SD-3 as their training set and SD-1 as their test set. However, SD-3 is much cleaner and easier to recognize than SD-1. The reason for this can be found on the fact that SD-3 was collected among Census Bureau employees, while SD-1 was collected among high-school students. Drawing sensible conclusions from learning experiments requires that the result be independent of the choice of training set and test among the complete set of samples. Therefore it was necessary to build a new database by mixing NIST's datasets.  \\n\\nThe MNIST training set is composed of 30,000 patterns from SD-3 and 30,000 patterns from SD-1. Our test set was composed of 5,000 patterns from SD-3 and 5,000 patterns from SD-1. The 60,000 pattern training set contained examples from approximately 250 writers. We made sure that the sets of writers of the training set and test set were disjoint. SD-1 contains 58,527 digit images written by 500 different writers. In contrast to SD-3, where blocks of data from each writer appeared in sequence, the data in SD-1 is scrambled. Writer identities for SD-1 is available and we used this information to unscramble the writers. We then split SD-1 in two: characters written by the first 250 writers went into our new training set. The remaining 250 writers were placed in our test set. Thus we had two sets with nearly 30,000 examples each. The new training set was completed with enough examples from SD-3, starting at pattern # 0, to make a full set of 60,000 training patterns. Similarly, the new test set was completed with SD-3 examples starting at pattern # 35,000 to make a full set with 60,000 test patterns. Only a subset of 10,000 test images (5,000 from SD-1 and 5,000 from SD-3) is available on this site. The full 60,000 sample training set is available.\\n\\nDownloaded from openml.org.\""
            ]
          },
          "metadata": {
            "tags": []
          },
          "execution_count": 33
        }
      ]
    },
    {
      "cell_type": "code",
      "metadata": {
        "id": "NeKBoaIXe5Tr",
        "colab": {
          "base_uri": "https://localhost:8080/",
          "height": 591
        },
        "outputId": "6b3de507-688d-4cd7-da04-a93b954b50c3"
      },
      "source": [
        "plt.figure(figsize=(10,10))\n",
        "for i in range(1,17):\n",
        "  plt.subplot(4,4,i)\n",
        "  X_im = np.reshape(mnist.data[i,],[28,28])\n",
        "  plt.imshow(X_im, cmap=plt.cm.gray_r)\n",
        "  plt.axis('off')\n",
        "  plt.title('Label: {}'.format(mnist.target[i]))"
      ],
      "execution_count": null,
      "outputs": [
        {
          "output_type": "display_data",
          "data": {
            "image/png": "[encoded data removed]",
            "text/plain": [
              "<Figure size 720x720 with 16 Axes>"
            ]
          },
          "metadata": {
            "tags": [],
            "needs_background": "light"
          }
        }
      ]
    },
    {
      "cell_type": "markdown",
      "metadata": {
        "id": "P5xgWlsAxGBe"
      },
      "source": [
        "We will work with only 10% of the whole data to reduce time in training."
      ]
    },
    {
      "cell_type": "code",
      "metadata": {
        "id": "ewu2-OgDjzIn"
      },
      "source": [
        "data = mnist.data"
      ],
      "execution_count": null,
      "outputs": []
    },
    {
      "cell_type": "code",
      "metadata": {
        "id": "nWs_LFsUAqfi"
      },
      "source": [
        "data = data[0:7000]"
      ],
      "execution_count": null,
      "outputs": []
    },
    {
      "cell_type": "code",
      "metadata": {
        "id": "GSaq6nbBkeRs"
      },
      "source": [
        "target = mnist.target"
      ],
      "execution_count": null,
      "outputs": []
    },
    {
      "cell_type": "code",
      "metadata": {
        "id": "xH22cqkwBZ8h"
      },
      "source": [
        "target = target[0:7000]"
      ],
      "execution_count": null,
      "outputs": []
    },
    {
      "cell_type": "code",
      "metadata": {
        "id": "pVxNq2QEkcgH",
        "colab": {
          "base_uri": "https://localhost:8080/"
        },
        "outputId": "aa50521f-43b2-4f91-a7d2-a6eb0c4d1741"
      },
      "source": [
        "data.shape"
      ],
      "execution_count": null,
      "outputs": [
        {
          "output_type": "execute_result",
          "data": {
            "text/plain": [
              "(7000, 784)"
            ]
          },
          "metadata": {
            "tags": []
          },
          "execution_count": 39
        }
      ]
    },
    {
      "cell_type": "code",
      "metadata": {
        "id": "aOYQy6jxBeu2",
        "colab": {
          "base_uri": "https://localhost:8080/"
        },
        "outputId": "8df24b76-a9ff-471f-80ba-b9f9ec5300cf"
      },
      "source": [
        "target.shape"
      ],
      "execution_count": null,
      "outputs": [
        {
          "output_type": "execute_result",
          "data": {
            "text/plain": [
              "(7000,)"
            ]
          },
          "metadata": {
            "tags": []
          },
          "execution_count": 40
        }
      ]
    },
    {
      "cell_type": "markdown",
      "metadata": {
        "id": "AoZ1DxM2QNJX"
      },
      "source": [
        "**We check that each label is reasonably represented in the data when we look at a subset of the data.**"
      ]
    },
    {
      "cell_type": "code",
      "metadata": {
        "id": "HnwogRKzPo0w"
      },
      "source": [
        "values, counts = np.unique(target, return_counts=True)"
      ],
      "execution_count": null,
      "outputs": []
    },
    {
      "cell_type": "code",
      "metadata": {
        "id": "zz1UhchjQJO8",
        "colab": {
          "base_uri": "https://localhost:8080/"
        },
        "outputId": "81afea5b-7302-46b1-a61a-ed79f7935883"
      },
      "source": [
        "values"
      ],
      "execution_count": null,
      "outputs": [
        {
          "output_type": "execute_result",
          "data": {
            "text/plain": [
              "array(['0', '1', '2', '3', '4', '5', '6', '7', '8', '9'], dtype=object)"
            ]
          },
          "metadata": {
            "tags": []
          },
          "execution_count": 42
        }
      ]
    },
    {
      "cell_type": "code",
      "metadata": {
        "id": "RT7nMD1YQKwh",
        "colab": {
          "base_uri": "https://localhost:8080/"
        },
        "outputId": "c916bbeb-1b14-4c37-a760-c6d328bb5976"
      },
      "source": [
        "counts"
      ],
      "execution_count": null,
      "outputs": [
        {
          "output_type": "execute_result",
          "data": {
            "text/plain": [
              "array([691, 784, 675, 716, 716, 610, 709, 754, 650, 695])"
            ]
          },
          "metadata": {
            "tags": []
          },
          "execution_count": 43
        }
      ]
    },
    {
      "cell_type": "markdown",
      "metadata": {
        "id": "IKYxtVFVQnW3"
      },
      "source": [
        "## Modelling the data"
      ]
    },
    {
      "cell_type": "code",
      "metadata": {
        "id": "gfY97Jsok_5V"
      },
      "source": [
        "from sklearn import svm\n",
        "from sklearn.svm import SVC, LinearSVC\n",
        "from sklearn.model_selection import GridSearchCV"
      ],
      "execution_count": null,
      "outputs": []
    },
    {
      "cell_type": "code",
      "metadata": {
        "id": "OtlSbrQKlMeu"
      },
      "source": [
        "X_train, X_test, y_train, y_test = train_test_split(data, target, test_size=0.2, \n",
        "                                                    shuffle=True)"
      ],
      "execution_count": null,
      "outputs": []
    },
    {
      "cell_type": "markdown",
      "metadata": {
        "id": "ts6MthZcxvkS"
      },
      "source": [
        "We will measure the time taken in fitting different models."
      ]
    },
    {
      "cell_type": "code",
      "metadata": {
        "id": "3X41-abJ58Uf",
        "colab": {
          "base_uri": "https://localhost:8080/"
        },
        "outputId": "845ecbd8-5109-4663-bdd1-f8eb5bcfafe1"
      },
      "source": [
        "svm_digit = svm.SVC(kernel='linear')\n",
        "%time svm_digit.fit(X_train, y_train)"
      ],
      "execution_count": null,
      "outputs": [
        {
          "output_type": "stream",
          "text": [
            "CPU times: user 7.7 s, sys: 6 ms, total: 7.7 s\n",
            "Wall time: 7.74 s\n"
          ],
          "name": "stdout"
        },
        {
          "output_type": "execute_result",
          "data": {
            "text/plain": [
              "SVC(C=1.0, break_ties=False, cache_size=200, class_weight=None, coef0=0.0,\n",
              "    decision_function_shape='ovr', degree=3, gamma='scale', kernel='linear',\n",
              "    max_iter=-1, probability=False, random_state=None, shrinking=True,\n",
              "    tol=0.001, verbose=False)"
            ]
          },
          "metadata": {
            "tags": []
          },
          "execution_count": 46
        }
      ]
    },
    {
      "cell_type": "code",
      "metadata": {
        "id": "Ds0LM2BslYcG",
        "colab": {
          "base_uri": "https://localhost:8080/"
        },
        "outputId": "862edbd6-a994-4ac7-b1b5-0dc683f376c9"
      },
      "source": [
        "y_pred = svm_digit.predict(X_test)\n",
        "\n",
        "acc = accuracy_score(y_test, y_pred)\n",
        "print(\"Accuracy on the test dataset: {}\".format(acc))"
      ],
      "execution_count": null,
      "outputs": [
        {
          "output_type": "stream",
          "text": [
            "Accuracy on the test dataset: 0.9178571428571428\n"
          ],
          "name": "stdout"
        }
      ]
    },
    {
      "cell_type": "code",
      "metadata": {
        "id": "LgoWWfFCBoiS",
        "colab": {
          "base_uri": "https://localhost:8080/"
        },
        "outputId": "2c8107fb-009d-4d6e-dbfe-5f2abab81503"
      },
      "source": [
        "svm_digit = svm.SVC(kernel='rbf')\n",
        "%time fit_rbf = svm_digit.fit(X_train, y_train)"
      ],
      "execution_count": null,
      "outputs": [
        {
          "output_type": "stream",
          "text": [
            "CPU times: user 14.5 s, sys: 5 ms, total: 14.5 s\n",
            "Wall time: 14.6 s\n"
          ],
          "name": "stdout"
        }
      ]
    },
    {
      "cell_type": "code",
      "metadata": {
        "colab": {
          "base_uri": "https://localhost:8080/"
        },
        "id": "FIJhRUxfyElD",
        "outputId": "c6ab435b-97ad-4d87-b8d4-2b34d0a0a242"
      },
      "source": [
        "fit_rbf"
      ],
      "execution_count": null,
      "outputs": [
        {
          "output_type": "execute_result",
          "data": {
            "text/plain": [
              "SVC(C=1.0, break_ties=False, cache_size=200, class_weight=None, coef0=0.0,\n",
              "    decision_function_shape='ovr', degree=3, gamma='scale', kernel='rbf',\n",
              "    max_iter=-1, probability=False, random_state=None, shrinking=True,\n",
              "    tol=0.001, verbose=False)"
            ]
          },
          "metadata": {
            "tags": []
          },
          "execution_count": 49
        }
      ]
    },
    {
      "cell_type": "code",
      "metadata": {
        "colab": {
          "base_uri": "https://localhost:8080/"
        },
        "id": "1CBWPE1QPK4g",
        "outputId": "a6e22db5-ca66-4d07-ac5f-fb5bafa4da0f"
      },
      "source": [
        "fit_rbf._gamma"
      ],
      "execution_count": null,
      "outputs": [
        {
          "output_type": "execute_result",
          "data": {
            "text/plain": [
              "2.042974231835564e-07"
            ]
          },
          "metadata": {
            "tags": []
          },
          "execution_count": 50
        }
      ]
    },
    {
      "cell_type": "markdown",
      "metadata": {
        "id": "Cdrj_g0uyPWV"
      },
      "source": [
        "By default we have C = 1 and gamma ~ 2.0709057645274015e-07"
      ]
    },
    {
      "cell_type": "code",
      "metadata": {
        "id": "3K8qpSlUB8TN",
        "colab": {
          "base_uri": "https://localhost:8080/"
        },
        "outputId": "5dc88ba2-4398-4be2-8f0c-bc37391109c0"
      },
      "source": [
        " y_pred = svm_digit.predict(X_test)\n",
        "\n",
        "acc = accuracy_score(y_test, y_pred)\n",
        "print(\"Accuracy on the test dataset: {}\".format(acc))"
      ],
      "execution_count": null,
      "outputs": [
        {
          "output_type": "stream",
          "text": [
            "Accuracy on the test dataset: 0.9635714285714285\n"
          ],
          "name": "stdout"
        }
      ]
    },
    {
      "cell_type": "markdown",
      "metadata": {
        "id": "-1xkDDgNaTaG"
      },
      "source": [
        "# Grid Search for best parameters"
      ]
    },
    {
      "cell_type": "markdown",
      "metadata": {
        "id": "RDSgORWtybZu"
      },
      "source": [
        "We will do grid search on a parameter space influcened by the good performance on deafault parameteres."
      ]
    },
    {
      "cell_type": "code",
      "metadata": {
        "id": "oGmYyrsvWLbE"
      },
      "source": [
        "parameters = {'C':[1, 10, 100,1000], 'gamma': [1e-3,1e-4, 1e-5,1e-6,1e-7,1e-8] }"
      ],
      "execution_count": null,
      "outputs": []
    },
    {
      "cell_type": "markdown",
      "metadata": {
        "id": "hUzsTvH4ZZDC"
      },
      "source": [
        "## Recall score"
      ]
    },
    {
      "cell_type": "markdown",
      "metadata": {
        "id": "3-pfFVNe2ysZ"
      },
      "source": [
        "We calculated other scores but will skip in the final run to save time."
      ]
    },
    {
      "cell_type": "code",
      "metadata": {
        "id": "dLIboq75WFXf"
      },
      "source": [
        "#clf = GridSearchCV(SVC(kernel='rbf'), parameters, scoring='recall_macro')"
      ],
      "execution_count": null,
      "outputs": []
    },
    {
      "cell_type": "code",
      "metadata": {
        "id": "YEVKs2tmZbyz"
      },
      "source": [
        "#%time clf.fit(X_train,y_train)\n",
        "#print(clf.best_params_)"
      ],
      "execution_count": null,
      "outputs": []
    },
    {
      "cell_type": "markdown",
      "metadata": {
        "id": "hUYVj5znyWyp"
      },
      "source": [
        ""
      ]
    },
    {
      "cell_type": "markdown",
      "metadata": {
        "id": "ExqLuqjFMsva"
      },
      "source": [
        "CPU times: user 58min 25s, sys: 703 ms, total: 58min 26s\n",
        "Wall time: 58min 36s\n",
        "{'C': 100, 'gamma': 1e-07}\n",
        "clf.best_score_\n",
        "\n",
        "0.9537723158869695"
      ]
    },
    {
      "cell_type": "code",
      "metadata": {
        "id": "--sZa1-3oDcq"
      },
      "source": [
        "#clf.best_score_"
      ],
      "execution_count": null,
      "outputs": []
    },
    {
      "cell_type": "code",
      "metadata": {
        "id": "lQgdrYfPC2Db"
      },
      "source": [
        "#y_pred = clf.predict(X_test)\n",
        "\n",
        "#acc = accuracy_score(y_test, y_pred)\n",
        "#print(\"Accuracy on the test dataset: {}\".format(acc))"
      ],
      "execution_count": null,
      "outputs": []
    },
    {
      "cell_type": "markdown",
      "metadata": {
        "id": "RErrBYpeZggc"
      },
      "source": [
        "## Precision Score"
      ]
    },
    {
      "cell_type": "code",
      "metadata": {
        "id": "aalprD_qZnwx"
      },
      "source": [
        "#clf2 = GridSearchCV(SVC(kernel='rbf'), parameters, scoring='precision_macro')"
      ],
      "execution_count": null,
      "outputs": []
    },
    {
      "cell_type": "code",
      "metadata": {
        "id": "WkhFnrSmZv3V"
      },
      "source": [
        "#%time clf2.fit(X_train,y_train)\n",
        "#print(clf2.best_params_)"
      ],
      "execution_count": null,
      "outputs": []
    },
    {
      "cell_type": "code",
      "metadata": {
        "id": "5vCsLUP3oKoC"
      },
      "source": [
        "#clf2.best_score_"
      ],
      "execution_count": null,
      "outputs": []
    },
    {
      "cell_type": "code",
      "metadata": {
        "id": "DhFWnDV9C61r"
      },
      "source": [
        "#y_pred = clf2.predict(X_test)\n",
        "\n",
        "#acc = accuracy_score(y_test, y_pred)\n",
        "#print(\"Accuracy on the test dataset: {}\".format(acc))"
      ],
      "execution_count": null,
      "outputs": []
    },
    {
      "cell_type": "markdown",
      "metadata": {
        "id": "TCkh6sDvaA1Q"
      },
      "source": [
        "## Accuracy score"
      ]
    },
    {
      "cell_type": "code",
      "metadata": {
        "id": "_oPsh5TaZkhw"
      },
      "source": [
        "sc = make_scorer(accuracy_score)"
      ],
      "execution_count": null,
      "outputs": []
    },
    {
      "cell_type": "code",
      "metadata": {
        "id": "UdG1jvTVZ1si"
      },
      "source": [
        "clf3 = GridSearchCV(SVC(kernel='rbf'), parameters, scoring=sc)"
      ],
      "execution_count": null,
      "outputs": []
    },
    {
      "cell_type": "code",
      "metadata": {
        "id": "pt5Fml_xZ2hK",
        "colab": {
          "base_uri": "https://localhost:8080/"
        },
        "outputId": "e6fe1d4d-d7e2-4b35-b4ba-92bbe5403ab4"
      },
      "source": [
        "%time clf3.fit(X_train,y_train)\n",
        "print(clf3.best_params_)"
      ],
      "execution_count": null,
      "outputs": [
        {
          "output_type": "stream",
          "text": [
            "CPU times: user 1h 18min 36s, sys: 832 ms, total: 1h 18min 37s\n",
            "Wall time: 1h 18min 49s\n",
            "{'C': 10, 'gamma': 1e-07}\n"
          ],
          "name": "stdout"
        }
      ]
    },
    {
      "cell_type": "markdown",
      "metadata": {
        "id": "Tw7jGpf0jf1X"
      },
      "source": [
        "CPU times: user 1h 18min 36s, sys: 832 ms, total: 1h 18min 37s\n",
        "Wall time: 1h 18min 49s\n",
        "{'C': 10, 'gamma': 1e-07}"
      ]
    },
    {
      "cell_type": "code",
      "metadata": {
        "id": "PyOAm-TfoLrn",
        "colab": {
          "base_uri": "https://localhost:8080/"
        },
        "outputId": "c217ff11-cc78-4a13-926e-f71ccc211a05"
      },
      "source": [
        "clf3.best_score_"
      ],
      "execution_count": null,
      "outputs": [
        {
          "output_type": "execute_result",
          "data": {
            "text/plain": [
              "0.9571428571428571"
            ]
          },
          "metadata": {
            "tags": []
          },
          "execution_count": 64
        }
      ]
    },
    {
      "cell_type": "markdown",
      "metadata": {
        "id": "yPhOZ15Pjl3y"
      },
      "source": [
        "\n",
        "clf3.best_score_\n",
        "\n",
        "0.9571428571428571"
      ]
    },
    {
      "cell_type": "code",
      "metadata": {
        "id": "_9UChppuDAEx",
        "colab": {
          "base_uri": "https://localhost:8080/"
        },
        "outputId": "e144a777-cfa3-4375-a658-3f3f74f21c4b"
      },
      "source": [
        "y_pred = clf3.predict(X_test)\n",
        "\n",
        "acc = accuracy_score(y_test, y_pred)\n",
        "print(\"Accuracy on the test dataset: {}\".format(acc))"
      ],
      "execution_count": null,
      "outputs": [
        {
          "output_type": "stream",
          "text": [
            "Accuracy on the test dataset: 0.965\n"
          ],
          "name": "stdout"
        }
      ]
    },
    {
      "cell_type": "markdown",
      "metadata": {
        "id": "5pgc4V7gjqSO"
      },
      "source": [
        "Accuracy on the test dataset: 0.965"
      ]
    },
    {
      "cell_type": "markdown",
      "metadata": {
        "id": "wjYj8w0rvI0E"
      },
      "source": [
        "# Random Search for the parameters"
      ]
    },
    {
      "cell_type": "code",
      "metadata": {
        "id": "U-4Glau2vKZ3"
      },
      "source": [
        "from sklearn.model_selection import RandomizedSearchCV\n",
        "from scipy.stats import uniform\n",
        "import scipy"
      ],
      "execution_count": null,
      "outputs": []
    },
    {
      "cell_type": "markdown",
      "metadata": {
        "id": "CHoO_jjK08tH"
      },
      "source": [
        "We first do a random search on same parameter space"
      ]
    },
    {
      "cell_type": "code",
      "metadata": {
        "id": "Dx9s-F-001s2"
      },
      "source": [
        "clf = RandomizedSearchCV(SVC(), parameters, random_state=0)"
      ],
      "execution_count": null,
      "outputs": []
    },
    {
      "cell_type": "code",
      "metadata": {
        "id": "qcGrHSvu1PVu",
        "colab": {
          "base_uri": "https://localhost:8080/"
        },
        "outputId": "42fd96b8-99cf-4bf6-e013-15e8303a6d0e"
      },
      "source": [
        "%time clf.fit(X_train,y_train)"
      ],
      "execution_count": null,
      "outputs": [
        {
          "output_type": "stream",
          "text": [
            "CPU times: user 27min 22s, sys: 269 ms, total: 27min 22s\n",
            "Wall time: 27min 27s\n"
          ],
          "name": "stdout"
        },
        {
          "output_type": "execute_result",
          "data": {
            "text/plain": [
              "RandomizedSearchCV(cv=None, error_score=nan,\n",
              "                   estimator=SVC(C=1.0, break_ties=False, cache_size=200,\n",
              "                                 class_weight=None, coef0=0.0,\n",
              "                                 decision_function_shape='ovr', degree=3,\n",
              "                                 gamma='scale', kernel='rbf', max_iter=-1,\n",
              "                                 probability=False, random_state=None,\n",
              "                                 shrinking=True, tol=0.001, verbose=False),\n",
              "                   iid='deprecated', n_iter=10, n_jobs=None,\n",
              "                   param_distributions={'C': [1, 10, 100, 1000],\n",
              "                                        'gamma': [0.001, 0.0001, 1e-05, 1e-06,\n",
              "                                                  1e-07, 1e-08]},\n",
              "                   pre_dispatch='2*n_jobs', random_state=0, refit=True,\n",
              "                   return_train_score=False, scoring=None, verbose=0)"
            ]
          },
          "metadata": {
            "tags": []
          },
          "execution_count": 68
        }
      ]
    },
    {
      "cell_type": "code",
      "metadata": {
        "id": "hWwIOZhE1Sxh",
        "colab": {
          "base_uri": "https://localhost:8080/"
        },
        "outputId": "421be52d-1950-4aff-95c8-714a9421fe1b"
      },
      "source": [
        "clf.best_params_"
      ],
      "execution_count": null,
      "outputs": [
        {
          "output_type": "execute_result",
          "data": {
            "text/plain": [
              "{'C': 10, 'gamma': 1e-07}"
            ]
          },
          "metadata": {
            "tags": []
          },
          "execution_count": 69
        }
      ]
    },
    {
      "cell_type": "code",
      "metadata": {
        "id": "o2EfFfbc1VGw",
        "colab": {
          "base_uri": "https://localhost:8080/"
        },
        "outputId": "9abaa104-b291-4074-f49a-b6a031189849"
      },
      "source": [
        "clf.best_score_"
      ],
      "execution_count": null,
      "outputs": [
        {
          "output_type": "execute_result",
          "data": {
            "text/plain": [
              "0.9571428571428571"
            ]
          },
          "metadata": {
            "tags": []
          },
          "execution_count": 70
        }
      ]
    },
    {
      "cell_type": "code",
      "metadata": {
        "id": "purpi4CB1YrP",
        "colab": {
          "base_uri": "https://localhost:8080/"
        },
        "outputId": "7bb3b070-a983-4d79-facb-107550d3b7c0"
      },
      "source": [
        "y_pred = clf.predict(X_test)\n",
        "\n",
        "acc = accuracy_score(y_test, y_pred)\n",
        "print(\"Accuracy on the test dataset: {}\".format(acc))"
      ],
      "execution_count": null,
      "outputs": [
        {
          "output_type": "stream",
          "text": [
            "Accuracy on the test dataset: 0.965\n"
          ],
          "name": "stdout"
        }
      ]
    },
    {
      "cell_type": "markdown",
      "metadata": {
        "id": "JcWc37-o1DPV"
      },
      "source": [
        "We try a different parameter space for the random search"
      ]
    },
    {
      "cell_type": "code",
      "metadata": {
        "id": "KGRnIdqGus0j"
      },
      "source": [
        "from sklearn.utils.fixes import loguniform\n",
        "para = {'C': loguniform(1e0, 1e3),\n",
        " 'gamma': loguniform(1e-8, 1e-2),\n",
        " 'kernel': ['rbf'],\n",
        " 'class_weight':['balanced', None]}\n",
        "clf = RandomizedSearchCV(SVC(), para, random_state=0)"
      ],
      "execution_count": null,
      "outputs": []
    },
    {
      "cell_type": "code",
      "metadata": {
        "id": "0AuSvoxtu5OV",
        "colab": {
          "base_uri": "https://localhost:8080/"
        },
        "outputId": "8526afde-6508-41d1-82be-6121e6260dfd"
      },
      "source": [
        "%time clf.fit(X_train,y_train)"
      ],
      "execution_count": null,
      "outputs": [
        {
          "output_type": "stream",
          "text": [
            "CPU times: user 36min 1s, sys: 460 ms, total: 36min 2s\n",
            "Wall time: 36min 7s\n"
          ],
          "name": "stdout"
        },
        {
          "output_type": "execute_result",
          "data": {
            "text/plain": [
              "RandomizedSearchCV(cv=None, error_score=nan,\n",
              "                   estimator=SVC(C=1.0, break_ties=False, cache_size=200,\n",
              "                                 class_weight=None, coef0=0.0,\n",
              "                                 decision_function_shape='ovr', degree=3,\n",
              "                                 gamma='scale', kernel='rbf', max_iter=-1,\n",
              "                                 probability=False, random_state=None,\n",
              "                                 shrinking=True, tol=0.001, verbose=False),\n",
              "                   iid='deprecated', n_iter=10, n_jobs=None,\n",
              "                   param_distributions={'C': <scipy.stats._distn_infrastructure.rv_frozen object at 0x7fb6cd723b38>,\n",
              "                                        'class_weight': ['balanced', None],\n",
              "                                        'gamma': <scipy.stats._distn_infrastructure.rv_frozen object at 0x7fb6cd723cc0>,\n",
              "                                        'kernel': ['rbf']},\n",
              "                   pre_dispatch='2*n_jobs', random_state=0, refit=True,\n",
              "                   return_train_score=False, scoring=None, verbose=0)"
            ]
          },
          "metadata": {
            "tags": []
          },
          "execution_count": 73
        }
      ]
    },
    {
      "cell_type": "code",
      "metadata": {
        "id": "oouFdviOu77G",
        "colab": {
          "base_uri": "https://localhost:8080/"
        },
        "outputId": "b57181e1-9ba5-4604-9d5d-38c4aa2c500f"
      },
      "source": [
        "clf.best_params_"
      ],
      "execution_count": null,
      "outputs": [
        {
          "output_type": "execute_result",
          "data": {
            "text/plain": [
              "{'C': 86.63279761354555,\n",
              " 'class_weight': 'balanced',\n",
              " 'gamma': 6.098283908236053e-07,\n",
              " 'kernel': 'rbf'}"
            ]
          },
          "metadata": {
            "tags": []
          },
          "execution_count": 74
        }
      ]
    },
    {
      "cell_type": "code",
      "metadata": {
        "id": "UP1HCgZku-xZ",
        "colab": {
          "base_uri": "https://localhost:8080/"
        },
        "outputId": "1e4fb799-6f41-4e95-f4a6-ba4f788478c6"
      },
      "source": [
        "clf.best_score_"
      ],
      "execution_count": null,
      "outputs": [
        {
          "output_type": "execute_result",
          "data": {
            "text/plain": [
              "0.9603571428571429"
            ]
          },
          "metadata": {
            "tags": []
          },
          "execution_count": 75
        }
      ]
    },
    {
      "cell_type": "code",
      "metadata": {
        "id": "9UflvbG9vBCO",
        "colab": {
          "base_uri": "https://localhost:8080/"
        },
        "outputId": "55cbf193-70a3-48c8-bb9e-a04ed3736df8"
      },
      "source": [
        "y_pred = clf.predict(X_test)\n",
        "\n",
        "acc = accuracy_score(y_test, y_pred)\n",
        "print(\"Accuracy on the test dataset: {}\".format(acc))"
      ],
      "execution_count": null,
      "outputs": [
        {
          "output_type": "stream",
          "text": [
            "Accuracy on the test dataset: 0.9771428571428571\n"
          ],
          "name": "stdout"
        }
      ]
    },
    {
      "cell_type": "markdown",
      "metadata": {
        "id": "Uhknr_1t17Yd"
      },
      "source": [
        "# Conclusion"
      ]
    },
    {
      "cell_type": "markdown",
      "metadata": {
        "id": "c2i-nCpv26Vj"
      },
      "source": [
        "a) The model was trained with linera kerenl with default C = 1 with an accuracy of **0.9178571428571428** taking Wall time: **7.74 s**"
      ]
    },
    {
      "cell_type": "markdown",
      "metadata": {
        "id": "BTdJuh8E3JVj"
      },
      "source": [
        "b) The RBF kernel performed better. It had better accuracy of **0.9635714285714285**"
      ]
    },
    {
      "cell_type": "markdown",
      "metadata": {
        "id": "lBGWpjP6318-"
      },
      "source": [
        "c) The default hyperparameters were C = 1 and gamma = 'scale' i.e.  it is calculated by gamma = 1 / (n_features * X.var()). Here the gamma is **2.042974231835564e-07**"
      ]
    },
    {
      "cell_type": "markdown",
      "metadata": {
        "id": "kLE3KEE54E8W"
      },
      "source": [
        "## d) Accuracy"
      ]
    },
    {
      "cell_type": "markdown",
      "metadata": {
        "id": "R317vL143lcY"
      },
      "source": [
        "The grid search and random search found following as the best parameters with cross-validation. The random search on same parameter space found the same parameters as gridsearch much quicker. On a bigger space it found better parameters in almost half the time compared to GridSearchCV.\n",
        "\n",
        "The parameter found on a given space need not be better than the default ones as we can see it in this case. It is important that prameter space searched in is big as well as dense enough. But since Grid search can take a lot of time with a dense space. A random search on a bigger and denser parameter space is the most optimal way to go."
      ]
    },
    {
      "cell_type": "markdown",
      "metadata": {
        "id": "xZbaB6v6y4m_"
      },
      "source": [
        "**Grid search**: \n",
        "\n",
        "{'C': 10, 'gamma': 1e-07}\n",
        "\n",
        "Best score on training CV: 0.9571428571428571\n",
        "\n",
        "**Accuracy** on the test dataset: **0.965**\n"
      ]
    },
    {
      "cell_type": "markdown",
      "metadata": {
        "id": "8PkEuRktzsYI"
      },
      "source": [
        "**Random Search on same parameter space:** \n",
        "\n",
        "'C': 10, 'gamma': 1e-07}\n",
        "\n",
        "Best score on training CV: 0.9571428571428571\n",
        "\n",
        "**Accuracy** on the test dataset:**0.965**"
      ]
    },
    {
      "cell_type": "markdown",
      "metadata": {
        "id": "Mh4hIugWznCJ"
      },
      "source": [
        "**Random Search on larger parameter space:** \n",
        "\n",
        "{'C': 86.63279761354555,\n",
        " 'class_weight': 'balanced',\n",
        " 'gamma': 6.098283908236053e-07,\n",
        " 'kernel': 'rbf'}\n",
        "\n",
        " Best score on training CV: 0.9603571428571429\n",
        "\n",
        " **Accuracy** on the test dataset: **0.9771428571428571**"
      ]
    },
    {
      "cell_type": "markdown",
      "metadata": {
        "id": "UogS0eHKzTIP"
      },
      "source": [
        "The random search on a bigger parameter space gave the best accuracy."
      ]
    },
    {
      "cell_type": "markdown",
      "metadata": {
        "id": "sNp4xCY64Lqr"
      },
      "source": [
        "## e) Computational time"
      ]
    },
    {
      "cell_type": "markdown",
      "metadata": {
        "id": "fX4tKSsX3qIy"
      },
      "source": [
        " In general the search of parameters is an expansive operation. The time difference between Grid search and Random search was significant on same parameter space. "
      ]
    },
    {
      "cell_type": "markdown",
      "metadata": {
        "id": "tX0GLPj-zJrL"
      },
      "source": [
        "**Grid search**: \n",
        "Wall time: 1h 18min 49s"
      ]
    },
    {
      "cell_type": "markdown",
      "metadata": {
        "id": "oGt5gERMzOxb"
      },
      "source": [
        "**Random Search on same parameter space:** \n",
        "\n",
        "\n",
        "Wall time: 27min 27s"
      ]
    },
    {
      "cell_type": "markdown",
      "metadata": {
        "id": "6Od0Huyp00lL"
      },
      "source": [
        "**Random Search on larger parameter space:** \n",
        "\n",
        "\n",
        "Wall time: 36min 7s"
      ]
    },
    {
      "cell_type": "markdown",
      "metadata": {
        "id": "QCNPe-5C2QcV"
      },
      "source": [
        "The random search on a bigger parameter space is optimal in terms of computational time and gave a much significant improvement in the accuracy."
      ]
    },
    {
      "cell_type": "markdown",
      "metadata": {
        "id": "fyGheAgrTVuQ"
      },
      "source": [
        "# Appendix"
      ]
    },
    {
      "cell_type": "markdown",
      "metadata": {
        "id": "CRhLz29M4O16"
      },
      "source": [
        "##Data Standadization\n"
      ]
    },
    {
      "cell_type": "markdown",
      "metadata": {
        "id": "cvqhH5qjNww9"
      },
      "source": [
        "For SVM and similar models, it is key that you standadridise the data so that the magnitude of variance in each feature is in the same range otherwise some of the features would influence more than others."
      ]
    },
    {
      "cell_type": "markdown",
      "metadata": {
        "id": "fyZW9cT6OYZU"
      },
      "source": [
        "We can use the StandardScaler(). In this data the fetures represnts pixels which are in same range so it is not necessary. Though in the documentation it is metioned this:\n",
        ">For instance, many elements used in the objective function of a learning algorithm (such as the RBF kernel of Support Vector Machines or the l1 and l2 regularizers of linear models) assume that all features are **centered around zero** and have variance in the same order.\n",
        "\n",
        "It is not very clear if and where they are assuming the data to be centred at zero, in addition to that variance is unit. We posted a question on Stackexchange ( [here](https://datascience.stackexchange.com/questions/88919/preprocessing-standardscaler-do-we-really-need-mean-to-be-zero/89039?noredirect=1#comment93244_89039)) but haven't received a satisfactory answer though. "
      ]
    },
    {
      "cell_type": "markdown",
      "metadata": {
        "id": "EKhIRFDCQVgY"
      },
      "source": [
        "## Cross Validation\n",
        "Alternative to Grid Search"
      ]
    },
    {
      "cell_type": "markdown",
      "metadata": {
        "id": "u-OG-RgeQnG5"
      },
      "source": [
        "Since we saw that a search through the parameter space is quite expensive, another quicker way to find good parameters is to pivoting the default parameters and using cross-validation to ensure it is not an overfitting choice."
      ]
    },
    {
      "cell_type": "code",
      "metadata": {
        "id": "QBF3arkZRLSv"
      },
      "source": [
        "from sklearn.model_selection import cross_val_score"
      ],
      "execution_count": null,
      "outputs": []
    },
    {
      "cell_type": "code",
      "metadata": {
        "id": "AFDFQYAgSbf9"
      },
      "source": [
        "svm_digit = svm.SVC(kernel='rbf', C = 86.63279761354555, gamma=6.098283908236053e-07, class_weight='balanced') #C = 86.63279761354555 ,'class_weight'= 'balanced')"
      ],
      "execution_count": null,
      "outputs": []
    },
    {
      "cell_type": "code",
      "metadata": {
        "colab": {
          "base_uri": "https://localhost:8080/"
        },
        "id": "us9WoCyN5tTB",
        "outputId": "6da428e0-d29e-4168-f340-768502ec5933"
      },
      "source": [
        "%time fit_rbf = svm_digit.fit(X_train, y_train)"
      ],
      "execution_count": null,
      "outputs": [
        {
          "output_type": "stream",
          "text": [
            "CPU times: user 36.1 s, sys: 12 ms, total: 36.1 s\n",
            "Wall time: 36.2 s\n"
          ],
          "name": "stdout"
        }
      ]
    },
    {
      "cell_type": "code",
      "metadata": {
        "colab": {
          "base_uri": "https://localhost:8080/"
        },
        "id": "jho3p_roRRzb",
        "outputId": "b1a5cdc3-6a64-4844-b4c4-ace42d3b9030"
      },
      "source": [
        "scores = cross_val_score(svm_digit, X_train, y_train, cv=5)\n",
        "scores"
      ],
      "execution_count": null,
      "outputs": [
        {
          "output_type": "execute_result",
          "data": {
            "text/plain": [
              "array([0.96160714, 0.96071429, 0.9625    , 0.96160714, 0.95535714])"
            ]
          },
          "metadata": {
            "tags": []
          },
          "execution_count": 90
        }
      ]
    },
    {
      "cell_type": "code",
      "metadata": {
        "colab": {
          "base_uri": "https://localhost:8080/"
        },
        "id": "iesWxWsO524t",
        "outputId": "66c86a7a-d417-4925-e268-26424b074e03"
      },
      "source": [
        " y_pred = svm_digit.predict(X_test)\n",
        "\n",
        "acc = accuracy_score(y_test, y_pred)\n",
        "print(\"Accuracy on the test dataset: {}\".format(acc))"
      ],
      "execution_count": null,
      "outputs": [
        {
          "output_type": "stream",
          "text": [
            "Accuracy on the test dataset: 0.9771428571428571\n"
          ],
          "name": "stdout"
        }
      ]
    },
    {
      "cell_type": "markdown",
      "metadata": {
        "id": "e_cN-FRbRZCB"
      },
      "source": [
        "## Pipeline"
      ]
    },
    {
      "cell_type": "markdown",
      "metadata": {
        "id": "_bEPfqGAS2Qo"
      },
      "source": [
        "In case, we want to pre-process the data before fitting, we can construct a pipeline to do them together."
      ]
    },
    {
      "cell_type": "code",
      "metadata": {
        "id": "jdEu6CE9RxgO"
      },
      "source": [
        "from sklearn.preprocessing import StandardScaler"
      ],
      "execution_count": null,
      "outputs": []
    },
    {
      "cell_type": "code",
      "metadata": {
        "id": "JimZHCOtRlEK"
      },
      "source": [
        "from sklearn.pipeline import make_pipeline # Here we see that making standard data has no benefit really, since the data was already in the similar range for each feature, no point in making it in floating point.\n",
        "clf = make_pipeline(StandardScaler(), svm.SVC(C=1))\n",
        "cross_val_score(clf, X_train, y_train, cv=5)"
      ],
      "execution_count": null,
      "outputs": []
    }
  ]
}