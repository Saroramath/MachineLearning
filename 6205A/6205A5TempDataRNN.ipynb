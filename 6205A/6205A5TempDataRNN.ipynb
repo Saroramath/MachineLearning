{
  "nbformat": 4,
  "nbformat_minor": 0,
  "metadata": {
    "colab": {
      "name": "6205A5TempDataRNN.ipynb",
      "provenance": [],
      "collapsed_sections": [],
      "authorship_tag": "ABX9TyOlxVPXAQ6zfCxXGsC+mZ7x",
      "include_colab_link": true
    },
    "kernelspec": {
      "name": "python3",
      "display_name": "Python 3"
    }
  },
  "cells": [
    {
      "cell_type": "markdown",
      "metadata": {
        "id": "view-in-github",
        "colab_type": "text"
      },
      "source": [
        "<a href=\"https://colab.research.google.com/github/Saroramath/MachineLearning/blob/main/6205A/6205A5TempDataRNN.ipynb\" target=\"_parent\"><img src=\"https://colab.research.google.com/assets/colab-badge.svg\" alt=\"Open In Colab\"/></a>"
      ]
    },
    {
      "cell_type": "markdown",
      "metadata": {
        "id": "xlC6YSAfI9-U"
      },
      "source": [
        "# Learning goals"
      ]
    },
    {
      "cell_type": "markdown",
      "metadata": {
        "id": "FB0-70PxJDB9"
      },
      "source": [
        "1. Prepare the time series data into samples.\n",
        "2. We will us primitive commands to understand the sample generation steps."
      ]
    },
    {
      "cell_type": "code",
      "metadata": {
        "colab": {
          "base_uri": "https://localhost:8080/"
        },
        "id": "gu7VuJBQTAfR",
        "outputId": "a5b6c59f-05a4-48f0-e902-0182a29700e6"
      },
      "source": [
        "!pip install netCDF4"
      ],
      "execution_count": 242,
      "outputs": [
        {
          "output_type": "stream",
          "text": [
            "Requirement already satisfied: netCDF4 in /usr/local/lib/python3.7/dist-packages (1.5.6)\n",
            "Requirement already satisfied: numpy>=1.9 in /usr/local/lib/python3.7/dist-packages (from netCDF4) (1.19.5)\n",
            "Requirement already satisfied: cftime in /usr/local/lib/python3.7/dist-packages (from netCDF4) (1.4.1)\n"
          ],
          "name": "stdout"
        }
      ]
    },
    {
      "cell_type": "code",
      "metadata": {
        "id": "EuH1MnIaRjl-"
      },
      "source": [
        "from netCDF4 import Dataset\n",
        "from google.colab import drive\n",
        "import numpy as np\n",
        "import matplotlib.pyplot as plt\n",
        "import tensorflow as tf\n"
      ],
      "execution_count": 243,
      "outputs": []
    },
    {
      "cell_type": "code",
      "metadata": {
        "id": "vEYGALlJTNoz"
      },
      "source": [
        "from google.colab import files\n",
        "#uploaded = files.upload()"
      ],
      "execution_count": 244,
      "outputs": []
    },
    {
      "cell_type": "code",
      "metadata": {
        "id": "KOGGyOlyUnVb"
      },
      "source": [
        "#drive.mount('/content/gdrive')"
      ],
      "execution_count": 245,
      "outputs": []
    },
    {
      "cell_type": "markdown",
      "metadata": {
        "id": "Z75CYkXz1NeQ"
      },
      "source": [
        "> The file is too big to call as raw from github or to use upload. "
      ]
    },
    {
      "cell_type": "markdown",
      "metadata": {
        "id": "xeMBHtfTCmFH"
      },
      "source": [
        "Upload the file in sample_data directory from system."
      ]
    },
    {
      "cell_type": "code",
      "metadata": {
        "id": "LQW7R0Oo-7_V"
      },
      "source": [
        "file = '/content/sample_data/tempStJohns.nc'"
      ],
      "execution_count": 246,
      "outputs": []
    },
    {
      "cell_type": "markdown",
      "metadata": {
        "id": "bCOH74s-UJsK"
      },
      "source": [
        "# Explore the data"
      ]
    },
    {
      "cell_type": "code",
      "metadata": {
        "id": "k6Am9iu0Rtas"
      },
      "source": [
        "df = Dataset(file)"
      ],
      "execution_count": 247,
      "outputs": []
    },
    {
      "cell_type": "code",
      "metadata": {
        "colab": {
          "base_uri": "https://localhost:8080/"
        },
        "id": "sL_YLtc4_6Mc",
        "outputId": "35103f87-a04d-4174-d98c-4a526e282ae4"
      },
      "source": [
        "df"
      ],
      "execution_count": 248,
      "outputs": [
        {
          "output_type": "execute_result",
          "data": {
            "text/plain": [
              "<class 'netCDF4._netCDF4.Dataset'>\n",
              "root group (NETCDF3_64BIT_OFFSET data model, file format NETCDF3):\n",
              "    Conventions: CF-1.6\n",
              "    history: 2021-02-03 00:49:51 GMT by grib_to_netcdf-2.16.0: /opt/ecmwf/eccodes/bin/grib_to_netcdf -S param -o /cache/data2/adaptor.mars.internal-1612306467.0641284-4955-27-685dbd6e-9572-4267-a9a7-5a61b7e919e4.nc /cache/tmp/685dbd6e-9572-4267-a9a7-5a61b7e919e4-adaptor.mars.internal-1612306467.0646257-4955-9-tmp.grib\n",
              "    dimensions(sizes): longitude(1), latitude(1), expver(2), time(87672)\n",
              "    variables(dimensions): float32 longitude(longitude), float32 latitude(latitude), int32 expver(expver), int32 time(time), int16 t2m(time, expver, latitude, longitude)\n",
              "    groups: "
            ]
          },
          "metadata": {
            "tags": []
          },
          "execution_count": 248
        }
      ]
    },
    {
      "cell_type": "code",
      "metadata": {
        "colab": {
          "base_uri": "https://localhost:8080/"
        },
        "id": "M5MfMO8sU5__",
        "outputId": "34c1cf2b-7e98-42c7-f4f4-2663292395da"
      },
      "source": [
        "df['longitude'][0] #longitude of the place"
      ],
      "execution_count": 249,
      "outputs": [
        {
          "output_type": "execute_result",
          "data": {
            "text/plain": [
              "masked_array(data=-52.75,\n",
              "             mask=False,\n",
              "       fill_value=1e+20,\n",
              "            dtype=float32)"
            ]
          },
          "metadata": {
            "tags": []
          },
          "execution_count": 249
        }
      ]
    },
    {
      "cell_type": "code",
      "metadata": {
        "colab": {
          "base_uri": "https://localhost:8080/"
        },
        "id": "wvG4OC29Z3Dq",
        "outputId": "ae1b6f9c-eac5-42f3-a2ff-34633ed6379e"
      },
      "source": [
        "df['time'] # Time series units: hours since 1900-01-01 00:00:00.0"
      ],
      "execution_count": 250,
      "outputs": [
        {
          "output_type": "execute_result",
          "data": {
            "text/plain": [
              "<class 'netCDF4._netCDF4.Variable'>\n",
              "int32 time(time)\n",
              "    units: hours since 1900-01-01 00:00:00.0\n",
              "    long_name: time\n",
              "    calendar: gregorian\n",
              "unlimited dimensions: \n",
              "current shape = (87672,)\n",
              "filling on, default _FillValue of -2147483647 used"
            ]
          },
          "metadata": {
            "tags": []
          },
          "execution_count": 250
        }
      ]
    },
    {
      "cell_type": "code",
      "metadata": {
        "id": "ZzX4IqtoZA27"
      },
      "source": [
        "time = df['time'][:] #start value 973008, end value 1060679"
      ],
      "execution_count": 251,
      "outputs": []
    },
    {
      "cell_type": "code",
      "metadata": {
        "colab": {
          "base_uri": "https://localhost:8080/"
        },
        "id": "TEbfj7IAcvAa",
        "outputId": "35bcf7f2-a548-492e-a4a6-87c4483252b4"
      },
      "source": [
        "time"
      ],
      "execution_count": 252,
      "outputs": [
        {
          "output_type": "execute_result",
          "data": {
            "text/plain": [
              "masked_array(data=[ 973008,  973009,  973010, ..., 1060677, 1060678,\n",
              "                   1060679],\n",
              "             mask=False,\n",
              "       fill_value=999999,\n",
              "            dtype=int32)"
            ]
          },
          "metadata": {
            "tags": []
          },
          "execution_count": 252
        }
      ]
    },
    {
      "cell_type": "code",
      "metadata": {
        "colab": {
          "base_uri": "https://localhost:8080/"
        },
        "id": "MHucNB65cwoj",
        "outputId": "8c0cd4b1-c36f-4804-cab2-7c26881c09dd"
      },
      "source": [
        "time.shape"
      ],
      "execution_count": 253,
      "outputs": [
        {
          "output_type": "execute_result",
          "data": {
            "text/plain": [
              "(87672,)"
            ]
          },
          "metadata": {
            "tags": []
          },
          "execution_count": 253
        }
      ]
    },
    {
      "cell_type": "markdown",
      "metadata": {
        "id": "BjQsqwIe2AwP"
      },
      "source": [
        "> Consider columns with time data"
      ]
    },
    {
      "cell_type": "code",
      "metadata": {
        "colab": {
          "base_uri": "https://localhost:8080/"
        },
        "id": "PXOn5113ZLRb",
        "outputId": "3ad821e5-9dae-4871-c831-bd8e4f980c90"
      },
      "source": [
        " df['t2m'][:,0,0,0]"
      ],
      "execution_count": 254,
      "outputs": [
        {
          "output_type": "execute_result",
          "data": {
            "text/plain": [
              "masked_array(data=[272.81080791804084, 272.6567134137989,\n",
              "                   272.7837285490946, ..., --, --, --],\n",
              "             mask=[False, False, False, ...,  True,  True,  True],\n",
              "       fill_value=-32767)"
            ]
          },
          "metadata": {
            "tags": []
          },
          "execution_count": 254
        }
      ]
    },
    {
      "cell_type": "markdown",
      "metadata": {
        "id": "NmaTrYCo1-LB"
      },
      "source": [
        "> Convert to Celsius"
      ]
    },
    {
      "cell_type": "code",
      "metadata": {
        "id": "LiF0cETrSiA-"
      },
      "source": [
        "temp = df['t2m'][:,0,0,0]-273.15"
      ],
      "execution_count": 255,
      "outputs": []
    },
    {
      "cell_type": "markdown",
      "metadata": {
        "id": "55w3GiSf2fU_"
      },
      "source": [
        "> Masked arrays are arrays that may have missing or invalid entries. The numpy.ma module provides a nearly work-alike replacement for numpy that supports data arrays with masks.\n",
        "\n"
      ]
    },
    {
      "cell_type": "code",
      "metadata": {
        "colab": {
          "base_uri": "https://localhost:8080/"
        },
        "id": "MG4oMJ7LAGWa",
        "outputId": "fc250943-d5af-4eae-f189-1f027d42bc1f"
      },
      "source": [
        "temp "
      ],
      "execution_count": 256,
      "outputs": [
        {
          "output_type": "execute_result",
          "data": {
            "text/plain": [
              "masked_array(data=[-0.3391920819591405, -0.4932865862010658,\n",
              "                   -0.36627145090540125, ..., --, --, --],\n",
              "             mask=[False, False, False, ...,  True,  True,  True],\n",
              "       fill_value=-32767)"
            ]
          },
          "metadata": {
            "tags": []
          },
          "execution_count": 256
        }
      ]
    },
    {
      "cell_type": "markdown",
      "metadata": {
        "id": "Zf99GruZ3Jde"
      },
      "source": [
        " The array is masked, filled with -32767 for the missing values, mask tells us where is that happeneing."
      ]
    },
    {
      "cell_type": "code",
      "metadata": {
        "colab": {
          "base_uri": "https://localhost:8080/"
        },
        "id": "2OYt2iuGHaTQ",
        "outputId": "19a8555a-bc95-4f78-8f3a-648df3ccf87d"
      },
      "source": [
        "temp.data "
      ],
      "execution_count": 257,
      "outputs": [
        {
          "output_type": "execute_result",
          "data": {
            "text/plain": [
              "array([-3.39192082e-01, -4.93286586e-01, -3.66271451e-01, ...,\n",
              "       -3.27670000e+04, -3.27670000e+04, -3.27670000e+04])"
            ]
          },
          "metadata": {
            "tags": []
          },
          "execution_count": 257
        }
      ]
    },
    {
      "cell_type": "code",
      "metadata": {
        "colab": {
          "base_uri": "https://localhost:8080/"
        },
        "id": "aSdpaEECGFIJ",
        "outputId": "9af30117-3dba-4198-b509-a3145c7b839e"
      },
      "source": [
        "temp.shape"
      ],
      "execution_count": 258,
      "outputs": [
        {
          "output_type": "execute_result",
          "data": {
            "text/plain": [
              "(87672,)"
            ]
          },
          "metadata": {
            "tags": []
          },
          "execution_count": 258
        }
      ]
    },
    {
      "cell_type": "code",
      "metadata": {
        "colab": {
          "base_uri": "https://localhost:8080/"
        },
        "id": "7cTEcw36GPAJ",
        "outputId": "eadf2d0b-545b-4208-c741-3795f199cb24"
      },
      "source": [
        "temp.mask"
      ],
      "execution_count": 259,
      "outputs": [
        {
          "output_type": "execute_result",
          "data": {
            "text/plain": [
              "array([False, False, False, ...,  True,  True,  True])"
            ]
          },
          "metadata": {
            "tags": []
          },
          "execution_count": 259
        }
      ]
    },
    {
      "cell_type": "markdown",
      "metadata": {
        "id": "DiOFH3vFDXbJ"
      },
      "source": [
        "## Rmoving masked values."
      ]
    },
    {
      "cell_type": "markdown",
      "metadata": {
        "id": "4AiZrrg4V7b-"
      },
      "source": [
        "First we check if the masked values are continuous or not."
      ]
    },
    {
      "cell_type": "code",
      "metadata": {
        "id": "A0Z4Ab1_V6oi"
      },
      "source": [
        "missing = np.where(temp.mask == True)"
      ],
      "execution_count": 260,
      "outputs": []
    },
    {
      "cell_type": "code",
      "metadata": {
        "colab": {
          "base_uri": "https://localhost:8080/"
        },
        "id": "s6BoZ-2nWvfg",
        "outputId": "93ef9f51-fddb-4a9d-ae3d-0f4b950ce277"
      },
      "source": [
        "missing[0][0] # The missing data is infact continuous so our time series is not broken anywhere"
      ],
      "execution_count": 261,
      "outputs": [
        {
          "output_type": "execute_result",
          "data": {
            "text/plain": [
              "86928"
            ]
          },
          "metadata": {
            "tags": []
          },
          "execution_count": 261
        }
      ]
    },
    {
      "cell_type": "code",
      "metadata": {
        "id": "tLDymdf7HApc"
      },
      "source": [
        "temp = temp[~temp.mask] #use the inverse of the mask as an index."
      ],
      "execution_count": 262,
      "outputs": []
    },
    {
      "cell_type": "code",
      "metadata": {
        "colab": {
          "base_uri": "https://localhost:8080/"
        },
        "id": "9yijNfMlHQnr",
        "outputId": "7bf5efbb-2407-47ee-b7ff-4b3dae56ebfe"
      },
      "source": [
        "temp.shape # This is a continuous time series for temperature."
      ],
      "execution_count": 263,
      "outputs": [
        {
          "output_type": "execute_result",
          "data": {
            "text/plain": [
              "(86928,)"
            ]
          },
          "metadata": {
            "tags": []
          },
          "execution_count": 263
        }
      ]
    },
    {
      "cell_type": "markdown",
      "metadata": {
        "id": "vGfNPxwNc0Kj"
      },
      "source": [
        "Reducing time seris to match with it"
      ]
    },
    {
      "cell_type": "code",
      "metadata": {
        "id": "W6502fRXc7mZ"
      },
      "source": [
        "time = time[:86928]"
      ],
      "execution_count": 264,
      "outputs": []
    },
    {
      "cell_type": "code",
      "metadata": {
        "colab": {
          "base_uri": "https://localhost:8080/"
        },
        "id": "W9rHjMAKdLWo",
        "outputId": "d55efa1d-3efa-4f4c-d94c-a4763f284a53"
      },
      "source": [
        "time.shape"
      ],
      "execution_count": 265,
      "outputs": [
        {
          "output_type": "execute_result",
          "data": {
            "text/plain": [
              "(86928,)"
            ]
          },
          "metadata": {
            "tags": []
          },
          "execution_count": 265
        }
      ]
    },
    {
      "cell_type": "markdown",
      "metadata": {
        "id": "-ZWEvZ-0c84R"
      },
      "source": [
        "Find the unique value in numpy"
      ]
    },
    {
      "cell_type": "code",
      "metadata": {
        "colab": {
          "base_uri": "https://localhost:8080/"
        },
        "id": "F14kRU1KVOZs",
        "outputId": "a409c268-3e69-43ea-cb5b-21f10d6bae60"
      },
      "source": [
        "np.unique(temp.mask) #All values are genuine now"
      ],
      "execution_count": 266,
      "outputs": [
        {
          "output_type": "execute_result",
          "data": {
            "text/plain": [
              "array([False])"
            ]
          },
          "metadata": {
            "tags": []
          },
          "execution_count": 266
        }
      ]
    },
    {
      "cell_type": "markdown",
      "metadata": {
        "id": "Nzm0Kd4eDnTG"
      },
      "source": [
        "## Plot the temperature over time."
      ]
    },
    {
      "cell_type": "markdown",
      "metadata": {
        "id": "XvpsqcxKeF-W"
      },
      "source": [
        "Plot the time series against time\n",
        "\n",
        "\n"
      ]
    },
    {
      "cell_type": "code",
      "metadata": {
        "id": "vsTvefA-s0No"
      },
      "source": [
        "number_of_years = (time-973008)/8760 "
      ],
      "execution_count": 267,
      "outputs": []
    },
    {
      "cell_type": "markdown",
      "metadata": {
        "id": "iRxAfyoqDKFr"
      },
      "source": [
        "Temperature plot over approximately 10 years"
      ]
    },
    {
      "cell_type": "code",
      "metadata": {
        "colab": {
          "base_uri": "https://localhost:8080/",
          "height": 282
        },
        "id": "hX025uRYeFl5",
        "outputId": "558957c3-7fa0-455e-ede2-afe42639f1b8"
      },
      "source": [
        "plt.plot(number_of_years,temp)"
      ],
      "execution_count": 268,
      "outputs": [
        {
          "output_type": "execute_result",
          "data": {
            "text/plain": [
              "[<matplotlib.lines.Line2D at 0x7f3505088090>]"
            ]
          },
          "metadata": {
            "tags": []
          },
          "execution_count": 268
        },
        {
          "output_type": "display_data",
          "data": {
            "image/png": "[encoded data removed]",
            "text/plain": [
              "<Figure size 432x288 with 1 Axes>"
            ]
          },
          "metadata": {
            "tags": [],
            "needs_background": "light"
          }
        }
      ]
    },
    {
      "cell_type": "markdown",
      "metadata": {
        "id": "0EW6HY0mzXQT"
      },
      "source": [
        "## Standardize the temperature"
      ]
    },
    {
      "cell_type": "code",
      "metadata": {
        "colab": {
          "base_uri": "https://localhost:8080/"
        },
        "id": "4rXEOPUetmhQ",
        "outputId": "21154de6-3442-420e-ae7b-b9eb116af86b"
      },
      "source": [
        "temp.shape"
      ],
      "execution_count": 269,
      "outputs": [
        {
          "output_type": "execute_result",
          "data": {
            "text/plain": [
              "(86928,)"
            ]
          },
          "metadata": {
            "tags": []
          },
          "execution_count": 269
        }
      ]
    },
    {
      "cell_type": "code",
      "metadata": {
        "id": "-eP9aC_Mt7G3",
        "colab": {
          "base_uri": "https://localhost:8080/"
        },
        "outputId": "c5145630-80a1-4de1-ddf8-72b2bc6c7873"
      },
      "source": [
        "temp.mean()"
      ],
      "execution_count": 270,
      "outputs": [
        {
          "output_type": "execute_result",
          "data": {
            "text/plain": [
              "5.57589982331033"
            ]
          },
          "metadata": {
            "tags": []
          },
          "execution_count": 270
        }
      ]
    },
    {
      "cell_type": "code",
      "metadata": {
        "colab": {
          "base_uri": "https://localhost:8080/"
        },
        "id": "hqjm3Klsrh10",
        "outputId": "bd74e8e6-6f1d-4cac-80cc-25be164fe353"
      },
      "source": [
        "temp.std()"
      ],
      "execution_count": 271,
      "outputs": [
        {
          "output_type": "execute_result",
          "data": {
            "text/plain": [
              "7.754305350561417"
            ]
          },
          "metadata": {
            "tags": []
          },
          "execution_count": 271
        }
      ]
    },
    {
      "cell_type": "code",
      "metadata": {
        "colab": {
          "base_uri": "https://localhost:8080/",
          "height": 367
        },
        "id": "xeYvQMjFrmtI",
        "outputId": "77ac5fea-eb18-4d3e-9515-1fd56483a83f"
      },
      "source": [
        "plt.hist(temp)"
      ],
      "execution_count": 272,
      "outputs": [
        {
          "output_type": "execute_result",
          "data": {
            "text/plain": [
              "(array([  297.,  2100.,  6706., 15629., 17035., 14113., 12733., 11795.,\n",
              "         5601.,   919.]),\n",
              " array([-16.62485352, -12.39963379,  -8.17441406,  -3.94919434,\n",
              "          0.27602539,   4.50124512,   8.72646484,  12.95168457,\n",
              "         17.1769043 ,  21.40212402,  25.62734375]),\n",
              " <a list of 10 Patch objects>)"
            ]
          },
          "metadata": {
            "tags": []
          },
          "execution_count": 272
        },
        {
          "output_type": "display_data",
          "data": {
            "image/png": "[encoded data removed]",
            "text/plain": [
              "<Figure size 432x288 with 1 Axes>"
            ]
          },
          "metadata": {
            "tags": [],
            "needs_background": "light"
          }
        }
      ]
    },
    {
      "cell_type": "code",
      "metadata": {
        "id": "ZE61KVZrrxc0"
      },
      "source": [
        "#temp = (temp - temp.mean())/temp.std()"
      ],
      "execution_count": 273,
      "outputs": []
    },
    {
      "cell_type": "code",
      "metadata": {
        "colab": {
          "base_uri": "https://localhost:8080/"
        },
        "id": "7cdy_DhUELGl",
        "outputId": "c9ffd049-12e8-4c0d-808b-09105e05916a"
      },
      "source": [
        "temp.mean()"
      ],
      "execution_count": 274,
      "outputs": [
        {
          "output_type": "execute_result",
          "data": {
            "text/plain": [
              "5.57589982331033"
            ]
          },
          "metadata": {
            "tags": []
          },
          "execution_count": 274
        }
      ]
    },
    {
      "cell_type": "code",
      "metadata": {
        "colab": {
          "base_uri": "https://localhost:8080/"
        },
        "id": "GNh-ICRmENdT",
        "outputId": "02ba0506-ae13-4247-a8e4-7fd71c786df6"
      },
      "source": [
        "temp.std()"
      ],
      "execution_count": 275,
      "outputs": [
        {
          "output_type": "execute_result",
          "data": {
            "text/plain": [
              "7.754305350561417"
            ]
          },
          "metadata": {
            "tags": []
          },
          "execution_count": 275
        }
      ]
    },
    {
      "cell_type": "code",
      "metadata": {
        "id": "otA5KK524DOm",
        "colab": {
          "base_uri": "https://localhost:8080/"
        },
        "outputId": "69644608-3b1a-42f9-ee22-77f0662348a4"
      },
      "source": [
        "temp.max()"
      ],
      "execution_count": 276,
      "outputs": [
        {
          "output_type": "execute_result",
          "data": {
            "text/plain": [
              "25.627343750000023"
            ]
          },
          "metadata": {
            "tags": []
          },
          "execution_count": 276
        }
      ]
    },
    {
      "cell_type": "code",
      "metadata": {
        "colab": {
          "base_uri": "https://localhost:8080/"
        },
        "id": "JqaBoSov1EW_",
        "outputId": "63067e6d-d243-4148-9a86-5073cdba203a"
      },
      "source": [
        "temp.min()"
      ],
      "execution_count": 277,
      "outputs": [
        {
          "output_type": "execute_result",
          "data": {
            "text/plain": [
              "-16.624853515624977"
            ]
          },
          "metadata": {
            "tags": []
          },
          "execution_count": 277
        }
      ]
    },
    {
      "cell_type": "markdown",
      "metadata": {
        "id": "UMZUOts7s_ks"
      },
      "source": [
        "## Generate Samples"
      ]
    },
    {
      "cell_type": "markdown",
      "metadata": {
        "id": "00AHc-f4DKue"
      },
      "source": [
        "We will avoid using functions to generate smaples to understand the process."
      ]
    },
    {
      "cell_type": "markdown",
      "metadata": {
        "id": "3A1QkayuDsw1"
      },
      "source": [
        "We want the prediction model to predict the next 6 hr of data with previous 6 hrs of temp data available."
      ]
    },
    {
      "cell_type": "code",
      "metadata": {
        "colab": {
          "base_uri": "https://localhost:8080/"
        },
        "id": "VsE0ArRFDsQS",
        "outputId": "e77fcadf-9c14-4d4f-b258-89bd68528f0e"
      },
      "source": [
        "temp[0:6]"
      ],
      "execution_count": 278,
      "outputs": [
        {
          "output_type": "execute_result",
          "data": {
            "text/plain": [
              "masked_array(data=[-0.3391920819591405, -0.4932865862010658,\n",
              "                   -0.36627145090540125, -0.1728473870034577,\n",
              "                   -0.26569093767636787, -0.4346146201507963],\n",
              "             mask=[False, False, False, False, False, False],\n",
              "       fill_value=-32767)"
            ]
          },
          "metadata": {
            "tags": []
          },
          "execution_count": 278
        }
      ]
    },
    {
      "cell_type": "markdown",
      "metadata": {
        "id": "hp5_X5rIbSd7"
      },
      "source": [
        "We make the vectors of size 6"
      ]
    },
    {
      "cell_type": "code",
      "metadata": {
        "id": "0F3XOYBqDaoz"
      },
      "source": [
        "\n"
      ],
      "execution_count": 278,
      "outputs": []
    },
    {
      "cell_type": "code",
      "metadata": {
        "id": "IbsNEq5YGgBC"
      },
      "source": [
        "future = 6\n",
        "past = 12"
      ],
      "execution_count": 279,
      "outputs": []
    },
    {
      "cell_type": "code",
      "metadata": {
        "id": "WrBV39mPGgBL"
      },
      "source": [
        "data = []\n",
        "\n",
        "for i in range(len(temp)- (future + past)  +1):\n",
        "  data.append(temp[i:i+past].data)\n",
        "data  = np.array(data) "
      ],
      "execution_count": 280,
      "outputs": []
    },
    {
      "cell_type": "code",
      "metadata": {
        "id": "IIl-SaeCGgBM"
      },
      "source": [
        "label = []\n",
        "for i in range(len(temp)- (future + past)  +1):\n",
        "  label.append(temp[i+ past:i+past + future].data)\n",
        "\n",
        "label = np.array(label)\n"
      ],
      "execution_count": 281,
      "outputs": []
    },
    {
      "cell_type": "code",
      "metadata": {
        "colab": {
          "base_uri": "https://localhost:8080/"
        },
        "id": "48h9WMgJIPQq",
        "outputId": "5c4d4557-b043-480f-9130-031fb0c52731"
      },
      "source": [
        "#no of samples\n",
        "n_dataSample = len(temp)-past-future +1\n",
        "print(n_dataSample)"
      ],
      "execution_count": 282,
      "outputs": [
        {
          "output_type": "stream",
          "text": [
            "86911\n"
          ],
          "name": "stdout"
        }
      ]
    },
    {
      "cell_type": "code",
      "metadata": {
        "colab": {
          "base_uri": "https://localhost:8080/"
        },
        "id": "gFpXn8oMGgBN",
        "outputId": "de0f96fc-bf9e-4be7-e4ad-f7c6124d5bb9"
      },
      "source": [
        "data.shape"
      ],
      "execution_count": 283,
      "outputs": [
        {
          "output_type": "execute_result",
          "data": {
            "text/plain": [
              "(86911, 12)"
            ]
          },
          "metadata": {
            "tags": []
          },
          "execution_count": 283
        }
      ]
    },
    {
      "cell_type": "code",
      "metadata": {
        "colab": {
          "base_uri": "https://localhost:8080/"
        },
        "id": "FsEcuwj_GgBP",
        "outputId": "5f4464a4-4706-45d8-e005-1e3c8b2da4e2"
      },
      "source": [
        "label.shape"
      ],
      "execution_count": 284,
      "outputs": [
        {
          "output_type": "execute_result",
          "data": {
            "text/plain": [
              "(86911, 6)"
            ]
          },
          "metadata": {
            "tags": []
          },
          "execution_count": 284
        }
      ]
    },
    {
      "cell_type": "markdown",
      "metadata": {
        "id": "WdR0ak8-307l"
      },
      "source": [
        "> Split the samples into train and test data"
      ]
    },
    {
      "cell_type": "code",
      "metadata": {
        "id": "IYqFyO8Wiylk"
      },
      "source": [
        "temp_train_number = np.int(0.8*len(data))"
      ],
      "execution_count": 285,
      "outputs": []
    },
    {
      "cell_type": "code",
      "metadata": {
        "colab": {
          "base_uri": "https://localhost:8080/"
        },
        "id": "rtuZyWlkkGbQ",
        "outputId": "92928572-33fa-44cf-dd70-cc462a65f47f"
      },
      "source": [
        "temp_train_number"
      ],
      "execution_count": 286,
      "outputs": [
        {
          "output_type": "execute_result",
          "data": {
            "text/plain": [
              "69528"
            ]
          },
          "metadata": {
            "tags": []
          },
          "execution_count": 286
        }
      ]
    },
    {
      "cell_type": "code",
      "metadata": {
        "id": "MuC6Bm6ckNG1"
      },
      "source": [
        "train_temp = data[:temp_train_number]"
      ],
      "execution_count": 287,
      "outputs": []
    },
    {
      "cell_type": "code",
      "metadata": {
        "colab": {
          "base_uri": "https://localhost:8080/"
        },
        "id": "T22dohhlkWRL",
        "outputId": "211f41a4-e972-49ca-d960-8a96a25897c1"
      },
      "source": [
        "train_temp.shape"
      ],
      "execution_count": 288,
      "outputs": [
        {
          "output_type": "execute_result",
          "data": {
            "text/plain": [
              "(69528, 12)"
            ]
          },
          "metadata": {
            "tags": []
          },
          "execution_count": 288
        }
      ]
    },
    {
      "cell_type": "code",
      "metadata": {
        "colab": {
          "base_uri": "https://localhost:8080/"
        },
        "id": "_mecrf3Olbw3",
        "outputId": "a4568706-6330-457b-9e54-5ab620411b02"
      },
      "source": [
        "train_temp[temp_train_number-1]"
      ],
      "execution_count": 289,
      "outputs": [
        {
          "output_type": "execute_result",
          "data": {
            "text/plain": [
              "array([-1.99554682, -1.93300637, -1.8537025 , -1.38819526, -1.04003194,\n",
              "       -0.77310673, -0.56485349, -0.4797469 , -0.47200994, -0.68284217,\n",
              "       -0.84338414, -1.15157315])"
            ]
          },
          "metadata": {
            "tags": []
          },
          "execution_count": 289
        }
      ]
    },
    {
      "cell_type": "code",
      "metadata": {
        "id": "f1Xl_Jk8kawN"
      },
      "source": [
        "train_label = label[:temp_train_number]"
      ],
      "execution_count": 290,
      "outputs": []
    },
    {
      "cell_type": "code",
      "metadata": {
        "colab": {
          "base_uri": "https://localhost:8080/"
        },
        "id": "czfweIwskgbU",
        "outputId": "0f7911e8-780a-4870-f4e8-c2ab6bee4802"
      },
      "source": [
        "train_label.shape"
      ],
      "execution_count": 291,
      "outputs": [
        {
          "output_type": "execute_result",
          "data": {
            "text/plain": [
              "(69528, 6)"
            ]
          },
          "metadata": {
            "tags": []
          },
          "execution_count": 291
        }
      ]
    },
    {
      "cell_type": "code",
      "metadata": {
        "id": "swF0pfs_kjJa"
      },
      "source": [
        "test_temp = data[temp_train_number:]"
      ],
      "execution_count": 292,
      "outputs": []
    },
    {
      "cell_type": "code",
      "metadata": {
        "id": "Ao5XV2YYlkm_"
      },
      "source": [
        "test_label = label[temp_train_number:]"
      ],
      "execution_count": 293,
      "outputs": []
    },
    {
      "cell_type": "code",
      "metadata": {
        "colab": {
          "base_uri": "https://localhost:8080/"
        },
        "id": "JfursmMulpap",
        "outputId": "4383305d-9a80-442f-a815-0a7c2d00ddd1"
      },
      "source": [
        "print(test_label.shape)\n",
        "print(test_temp.shape)"
      ],
      "execution_count": 294,
      "outputs": [
        {
          "output_type": "stream",
          "text": [
            "(17383, 6)\n",
            "(17383, 12)\n"
          ],
          "name": "stdout"
        }
      ]
    },
    {
      "cell_type": "code",
      "metadata": {
        "colab": {
          "base_uri": "https://localhost:8080/"
        },
        "id": "UFC8ixk6lZ9G",
        "outputId": "424946c1-0a39-4227-85fc-ec29be2be6e5"
      },
      "source": [
        "test_temp[1].shape"
      ],
      "execution_count": 295,
      "outputs": [
        {
          "output_type": "execute_result",
          "data": {
            "text/plain": [
              "(12,)"
            ]
          },
          "metadata": {
            "tags": []
          },
          "execution_count": 295
        }
      ]
    },
    {
      "cell_type": "markdown",
      "metadata": {
        "id": "sgyLZVdnGtX5"
      },
      "source": [
        "#  Persistence Model"
      ]
    },
    {
      "cell_type": "code",
      "metadata": {
        "id": "GbP98gYzGw8K"
      },
      "source": [
        "def model_persistence(test_temp_entry):\n",
        "  arr = np.full((future,),test_temp_entry[past-1])\n",
        "\n",
        "  return arr"
      ],
      "execution_count": 296,
      "outputs": []
    },
    {
      "cell_type": "code",
      "metadata": {
        "colab": {
          "base_uri": "https://localhost:8080/"
        },
        "id": "SSDmsKs8IAF6",
        "outputId": "20ec0a38-727c-4c6d-a7a2-72f5d0f78ddc"
      },
      "source": [
        "test_temp[1]"
      ],
      "execution_count": 297,
      "outputs": [
        {
          "output_type": "execute_result",
          "data": {
            "text/plain": [
              "array([-1.8537025 , -1.38819526, -1.04003194, -0.77310673, -0.56485349,\n",
              "       -0.4797469 , -0.47200994, -0.68284217, -0.84338414, -1.15157315,\n",
              "       -1.24312721, -1.32629955])"
            ]
          },
          "metadata": {
            "tags": []
          },
          "execution_count": 297
        }
      ]
    },
    {
      "cell_type": "code",
      "metadata": {
        "colab": {
          "base_uri": "https://localhost:8080/"
        },
        "id": "g_ukdfIJHLwC",
        "outputId": "8d99034f-b632-4519-e9f7-3dbd63dec284"
      },
      "source": [
        "model_persistence(test_temp[1])"
      ],
      "execution_count": 298,
      "outputs": [
        {
          "output_type": "execute_result",
          "data": {
            "text/plain": [
              "array([-1.32629955, -1.32629955, -1.32629955, -1.32629955, -1.32629955,\n",
              "       -1.32629955])"
            ]
          },
          "metadata": {
            "tags": []
          },
          "execution_count": 298
        }
      ]
    },
    {
      "cell_type": "code",
      "metadata": {
        "id": "uXDZvx9yIh4c"
      },
      "source": [
        "def y_persis(test_temp):\n",
        "  arr = np.empty(test_label.shape)\n",
        "  for i in range(len(test_temp)):\n",
        "    arr[i] = model_persistence(test_temp[i])\n",
        "  return arr    "
      ],
      "execution_count": 299,
      "outputs": []
    },
    {
      "cell_type": "code",
      "metadata": {
        "colab": {
          "base_uri": "https://localhost:8080/"
        },
        "id": "ak5iT6eHLWfS",
        "outputId": "1db8db32-92fb-4799-e0bc-3a62df445aca"
      },
      "source": [
        "test_temp.shape"
      ],
      "execution_count": 300,
      "outputs": [
        {
          "output_type": "execute_result",
          "data": {
            "text/plain": [
              "(17383, 12)"
            ]
          },
          "metadata": {
            "tags": []
          },
          "execution_count": 300
        }
      ]
    },
    {
      "cell_type": "code",
      "metadata": {
        "id": "PsRl5gc_JvRR"
      },
      "source": [
        "y_persistence = y_persis(test_temp)"
      ],
      "execution_count": 301,
      "outputs": []
    },
    {
      "cell_type": "markdown",
      "metadata": {
        "id": "N860J48I-QH_"
      },
      "source": [
        "### MSE_Persistence"
      ]
    },
    {
      "cell_type": "code",
      "metadata": {
        "id": "xDZpuZM9Pb7B"
      },
      "source": [
        "from sklearn import linear_model\n",
        "from sklearn.metrics import mean_squared_error, r2_score\n",
        "from sklearn.model_selection import train_test_split"
      ],
      "execution_count": 302,
      "outputs": []
    },
    {
      "cell_type": "code",
      "metadata": {
        "colab": {
          "base_uri": "https://localhost:8080/"
        },
        "id": "KU8c5Cm0PVjG",
        "outputId": "678a1da3-5836-4aef-fda9-6076b33d22b4"
      },
      "source": [
        "# The mean squared error\n",
        "print('Mean squared error: %.2f'\n",
        "      % mean_squared_error(test_label, y_persistence))\n",
        "print('Coefficient of determination: %.2f'\n",
        "      % r2_score(test_label, y_persistence))"
      ],
      "execution_count": 303,
      "outputs": [
        {
          "output_type": "stream",
          "text": [
            "Mean squared error: 2.91\n",
            "Coefficient of determination: 0.95\n"
          ],
          "name": "stdout"
        }
      ]
    },
    {
      "cell_type": "markdown",
      "metadata": {
        "id": "hBr8-kEM-bd0"
      },
      "source": [
        "### Plot the temp"
      ]
    },
    {
      "cell_type": "code",
      "metadata": {
        "colab": {
          "base_uri": "https://localhost:8080/",
          "height": 282
        },
        "id": "s83P6z6OPPoN",
        "outputId": "f3beeada-9e96-4c8c-c7e9-7da482200ba2"
      },
      "source": [
        "z = np.linspace(past, past+future,future)\n",
        "plt.plot(test_temp[101])\n",
        "plt.scatter(z,y_persistence[101])\n",
        "plt.scatter(z,test_label[101])"
      ],
      "execution_count": 304,
      "outputs": [
        {
          "output_type": "execute_result",
          "data": {
            "text/plain": [
              "<matplotlib.collections.PathCollection at 0x7f3504cd0cd0>"
            ]
          },
          "metadata": {
            "tags": []
          },
          "execution_count": 304
        },
        {
          "output_type": "display_data",
          "data": {
            "image/png": "[encoded data removed]",
            "text/plain": [
              "<Figure size 432x288 with 1 Axes>"
            ]
          },
          "metadata": {
            "tags": [],
            "needs_background": "light"
          }
        }
      ]
    },
    {
      "cell_type": "markdown",
      "metadata": {
        "id": "aQelxbdFB5yc"
      },
      "source": [
        "# Linear regression using Sklearn"
      ]
    },
    {
      "cell_type": "code",
      "metadata": {
        "id": "Y_YDixjmlab3"
      },
      "source": [
        "from sklearn import linear_model\n",
        "from sklearn.metrics import mean_squared_error, r2_score\n",
        "from sklearn.model_selection import train_test_split"
      ],
      "execution_count": 305,
      "outputs": []
    },
    {
      "cell_type": "code",
      "metadata": {
        "id": "PHyp_49zlab6"
      },
      "source": [
        "linear_regression = linear_model.LinearRegression()"
      ],
      "execution_count": 306,
      "outputs": []
    },
    {
      "cell_type": "code",
      "metadata": {
        "colab": {
          "base_uri": "https://localhost:8080/"
        },
        "id": "AXnSmakPlab6",
        "outputId": "198023ef-86f3-4e09-a865-e8a34d819d0b"
      },
      "source": [
        "linear_regression.fit(train_temp, train_label)"
      ],
      "execution_count": 307,
      "outputs": [
        {
          "output_type": "execute_result",
          "data": {
            "text/plain": [
              "LinearRegression(copy_X=True, fit_intercept=True, n_jobs=None, normalize=False)"
            ]
          },
          "metadata": {
            "tags": []
          },
          "execution_count": 307
        }
      ]
    },
    {
      "cell_type": "code",
      "metadata": {
        "id": "sbI3PsBqlab7"
      },
      "source": [
        "predict_label = linear_regression.predict(test_temp)"
      ],
      "execution_count": 308,
      "outputs": []
    },
    {
      "cell_type": "markdown",
      "metadata": {
        "id": "OiyQTdng-lZV"
      },
      "source": [
        "### MSE_Linear_Regression"
      ]
    },
    {
      "cell_type": "code",
      "metadata": {
        "colab": {
          "base_uri": "https://localhost:8080/"
        },
        "id": "8bSydjDslab7",
        "outputId": "5caf3ce1-10f1-4f84-8a9b-f41ba05ac487"
      },
      "source": [
        "# The mean squared error\n",
        "print('Mean squared error: %.2f'\n",
        "      % mean_squared_error(test_label, predict_label))\n",
        "# The coefficient of determination: 1 is perfect prediction\n",
        "print('Coefficient of determination: %.2f'\n",
        "      % r2_score(test_label, predict_label))"
      ],
      "execution_count": 309,
      "outputs": [
        {
          "output_type": "stream",
          "text": [
            "Mean squared error: 2.03\n",
            "Coefficient of determination: 0.97\n"
          ],
          "name": "stdout"
        }
      ]
    },
    {
      "cell_type": "code",
      "metadata": {
        "colab": {
          "base_uri": "https://localhost:8080/",
          "height": 282
        },
        "id": "cA28QS0Klab8",
        "outputId": "021e75e9-81c7-4953-ddc5-8526cb9bc109"
      },
      "source": [
        "z = np.linspace(past, past+future,future)\n",
        "plt.plot(test_temp[101])\n",
        "plt.scatter(z,predict_label[101])\n",
        "plt.scatter(z,test_label[101])"
      ],
      "execution_count": 310,
      "outputs": [
        {
          "output_type": "execute_result",
          "data": {
            "text/plain": [
              "<matplotlib.collections.PathCollection at 0x7f3504e94810>"
            ]
          },
          "metadata": {
            "tags": []
          },
          "execution_count": 310
        },
        {
          "output_type": "display_data",
          "data": {
            "image/png": "[encoded data removed]",
            "text/plain": [
              "<Figure size 432x288 with 1 Axes>"
            ]
          },
          "metadata": {
            "tags": [],
            "needs_background": "light"
          }
        }
      ]
    },
    {
      "cell_type": "markdown",
      "metadata": {
        "id": "xzKXduve-sxi"
      },
      "source": [
        "# Neural Network"
      ]
    },
    {
      "cell_type": "markdown",
      "metadata": {
        "id": "iU2Yf8c-lHCh"
      },
      "source": [
        "## Normalize the data"
      ]
    },
    {
      "cell_type": "code",
      "metadata": {
        "id": "woziVs3h1zuJ"
      },
      "source": [
        "train_temp_max = train_temp.max()\n",
        "train_temp_min = train_temp.min()\n",
        "\n",
        "train_temp_norm = (train_temp- train_temp_min)/(train_temp_max-train_temp_min)\n",
        "test_temp_norm = (test_temp- train_temp_min)/(train_temp_max-train_temp_min)\n",
        "\n",
        "train_label_norm = (train_label- train_temp_min)/(train_temp_max-train_temp_min)\n",
        "test_label_norm = (test_label- train_temp_min)/(train_temp_max-train_temp_min)\n",
        "\n"
      ],
      "execution_count": 311,
      "outputs": []
    },
    {
      "cell_type": "code",
      "metadata": {
        "colab": {
          "base_uri": "https://localhost:8080/"
        },
        "id": "qGtae2jG2zLB",
        "outputId": "601ff11e-c7e0-4eea-b3b3-d7289170fd4c"
      },
      "source": [
        "train_temp.max()"
      ],
      "execution_count": 312,
      "outputs": [
        {
          "output_type": "execute_result",
          "data": {
            "text/plain": [
              "25.627343750000023"
            ]
          },
          "metadata": {
            "tags": []
          },
          "execution_count": 312
        }
      ]
    },
    {
      "cell_type": "code",
      "metadata": {
        "colab": {
          "base_uri": "https://localhost:8080/"
        },
        "id": "_4y5SDPP23gB",
        "outputId": "8b01af51-a669-418a-e7fa-a876d071a65c"
      },
      "source": [
        "train_label.min()"
      ],
      "execution_count": 313,
      "outputs": [
        {
          "output_type": "execute_result",
          "data": {
            "text/plain": [
              "-16.624853515624977"
            ]
          },
          "metadata": {
            "tags": []
          },
          "execution_count": 313
        }
      ]
    },
    {
      "cell_type": "code",
      "metadata": {
        "id": "1GIhFFxSxtWu"
      },
      "source": [
        "#inp = tf.keras.layers.Input(shape=(6,))     # Sequential api\n",
        "#b = tf.keras.layers.Dense(128,activation='relu')(inp)\n",
        "##b = tf.keras.layers.Dense(128,activation='relu')(inp)\n",
        "#b = tf.keras.layers.Dense(128,activation='relu')(inp)\n",
        "#out = tf.keras.layers.Dense(6, activation='linear')(b)\n",
        "\n",
        "#model = tf.keras.models.Model(inp,out)\n",
        "#model.summary()"
      ],
      "execution_count": 314,
      "outputs": []
    },
    {
      "cell_type": "code",
      "metadata": {
        "colab": {
          "base_uri": "https://localhost:8080/",
          "height": 282
        },
        "id": "VFqROSNq7qoB",
        "outputId": "b329354e-d049-4af6-9012-1ab1a91474b9"
      },
      "source": [
        "axis = np.linspace(0,1999,2000)\n",
        "axisy = temp[0:2000]\n",
        "plt.scatter(axis,axisy)"
      ],
      "execution_count": 315,
      "outputs": [
        {
          "output_type": "execute_result",
          "data": {
            "text/plain": [
              "<matplotlib.collections.PathCollection at 0x7f3504ec0610>"
            ]
          },
          "metadata": {
            "tags": []
          },
          "execution_count": 315
        },
        {
          "output_type": "display_data",
          "data": {
            "image/png": "[encoded data removed]",
            "text/plain": [
              "<Figure size 432x288 with 1 Axes>"
            ]
          },
          "metadata": {
            "tags": [],
            "needs_background": "light"
          }
        }
      ]
    },
    {
      "cell_type": "markdown",
      "metadata": {
        "id": "_p_eF52cMIUX"
      },
      "source": [
        "## Model"
      ]
    },
    {
      "cell_type": "code",
      "metadata": {
        "colab": {
          "base_uri": "https://localhost:8080/"
        },
        "id": "ANZh00SVFVR8",
        "outputId": "c0daba8e-f04a-4369-c1d6-a75cbe07010b"
      },
      "source": [
        "model = tf.keras.models.Sequential([\n",
        "  \n",
        "  tf.keras.layers.Input(shape=(past,)),\n",
        "  tf.keras.layers.Dense(128,activation='relu'),\n",
        "  tf.keras.layers.Dense(128,activation='relu'),\n",
        "  tf.keras.layers.Dense(128,activation='relu'),\n",
        "  tf.keras.layers.Dense(future, activation='linear')\n",
        "])\n",
        "\n",
        "# Compile the model, i.e. associate a loss function and the chosen variant of GD\n",
        "model.compile(\n",
        "    loss=tf.losses.MeanSquaredError(),\n",
        "                optimizer=tf.optimizers.Adam(),\n",
        "                metrics=[tf.metrics.MeanAbsoluteError(),'accuracy']\n",
        ")\n",
        "\n",
        "# Summary of the model\n",
        "model.summary()"
      ],
      "execution_count": 316,
      "outputs": [
        {
          "output_type": "stream",
          "text": [
            "Model: \"sequential_19\"\n",
            "_________________________________________________________________\n",
            "Layer (type)                 Output Shape              Param #   \n",
            "=================================================================\n",
            "dense_19 (Dense)             (None, 128)               1664      \n",
            "_________________________________________________________________\n",
            "dense_20 (Dense)             (None, 128)               16512     \n",
            "_________________________________________________________________\n",
            "dense_21 (Dense)             (None, 128)               16512     \n",
            "_________________________________________________________________\n",
            "dense_22 (Dense)             (None, 6)                 774       \n",
            "=================================================================\n",
            "Total params: 35,462\n",
            "Trainable params: 35,462\n",
            "Non-trainable params: 0\n",
            "_________________________________________________________________\n"
          ],
          "name": "stdout"
        }
      ]
    },
    {
      "cell_type": "code",
      "metadata": {
        "id": "ZXboj3oyFAa5"
      },
      "source": [
        "test = test_temp_norm, test_label_norm"
      ],
      "execution_count": 317,
      "outputs": []
    },
    {
      "cell_type": "code",
      "metadata": {
        "colab": {
          "base_uri": "https://localhost:8080/"
        },
        "id": "cgHmdimPHWWn",
        "outputId": "1235124c-c269-406c-a112-623398cd0f3c"
      },
      "source": [
        "hist = model.fit(train_temp_norm,train_label_norm ,batch_size=64, epochs=40,callbacks = tf.keras.callbacks.EarlyStopping(patience=5), validation_data= test)"
      ],
      "execution_count": 318,
      "outputs": [
        {
          "output_type": "stream",
          "text": [
            "Epoch 1/40\n",
            "1087/1087 [==============================] - 5s 4ms/step - loss: 0.0093 - mean_absolute_error: 0.0514 - accuracy: 0.2945 - val_loss: 0.0014 - val_mean_absolute_error: 0.0271 - val_accuracy: 0.5236\n",
            "Epoch 2/40\n",
            "1087/1087 [==============================] - 4s 3ms/step - loss: 0.0013 - mean_absolute_error: 0.0256 - accuracy: 0.4195 - val_loss: 0.0011 - val_mean_absolute_error: 0.0231 - val_accuracy: 0.4790\n",
            "Epoch 3/40\n",
            "1087/1087 [==============================] - 4s 3ms/step - loss: 0.0013 - mean_absolute_error: 0.0253 - accuracy: 0.4297 - val_loss: 0.0014 - val_mean_absolute_error: 0.0271 - val_accuracy: 0.3306\n",
            "Epoch 4/40\n",
            "1087/1087 [==============================] - 3s 3ms/step - loss: 0.0013 - mean_absolute_error: 0.0251 - accuracy: 0.4478 - val_loss: 0.0011 - val_mean_absolute_error: 0.0239 - val_accuracy: 0.3860\n",
            "Epoch 5/40\n",
            "1087/1087 [==============================] - 3s 3ms/step - loss: 0.0012 - mean_absolute_error: 0.0247 - accuracy: 0.4467 - val_loss: 0.0011 - val_mean_absolute_error: 0.0240 - val_accuracy: 0.4929\n",
            "Epoch 6/40\n",
            "1087/1087 [==============================] - 3s 3ms/step - loss: 0.0013 - mean_absolute_error: 0.0251 - accuracy: 0.4570 - val_loss: 0.0011 - val_mean_absolute_error: 0.0228 - val_accuracy: 0.5251\n",
            "Epoch 7/40\n",
            "1087/1087 [==============================] - 4s 3ms/step - loss: 0.0012 - mean_absolute_error: 0.0247 - accuracy: 0.4583 - val_loss: 0.0015 - val_mean_absolute_error: 0.0295 - val_accuracy: 0.5103\n",
            "Epoch 8/40\n",
            "1087/1087 [==============================] - 4s 3ms/step - loss: 0.0013 - mean_absolute_error: 0.0256 - accuracy: 0.4655 - val_loss: 0.0010 - val_mean_absolute_error: 0.0227 - val_accuracy: 0.4734\n",
            "Epoch 9/40\n",
            "1087/1087 [==============================] - 3s 3ms/step - loss: 0.0012 - mean_absolute_error: 0.0244 - accuracy: 0.4674 - val_loss: 0.0011 - val_mean_absolute_error: 0.0235 - val_accuracy: 0.4871\n",
            "Epoch 10/40\n",
            "1087/1087 [==============================] - 3s 3ms/step - loss: 0.0012 - mean_absolute_error: 0.0243 - accuracy: 0.4731 - val_loss: 0.0011 - val_mean_absolute_error: 0.0229 - val_accuracy: 0.5129\n",
            "Epoch 11/40\n",
            "1087/1087 [==============================] - 3s 3ms/step - loss: 0.0012 - mean_absolute_error: 0.0244 - accuracy: 0.4705 - val_loss: 0.0010 - val_mean_absolute_error: 0.0221 - val_accuracy: 0.5319\n",
            "Epoch 12/40\n",
            "1087/1087 [==============================] - 4s 3ms/step - loss: 0.0012 - mean_absolute_error: 0.0243 - accuracy: 0.4755 - val_loss: 0.0013 - val_mean_absolute_error: 0.0274 - val_accuracy: 0.4664\n",
            "Epoch 13/40\n",
            "1087/1087 [==============================] - 3s 3ms/step - loss: 0.0012 - mean_absolute_error: 0.0247 - accuracy: 0.4752 - val_loss: 0.0010 - val_mean_absolute_error: 0.0226 - val_accuracy: 0.3948\n",
            "Epoch 14/40\n",
            "1087/1087 [==============================] - 3s 3ms/step - loss: 0.0012 - mean_absolute_error: 0.0242 - accuracy: 0.4680 - val_loss: 0.0011 - val_mean_absolute_error: 0.0238 - val_accuracy: 0.4827\n",
            "Epoch 15/40\n",
            "1087/1087 [==============================] - 3s 3ms/step - loss: 0.0012 - mean_absolute_error: 0.0242 - accuracy: 0.4756 - val_loss: 0.0011 - val_mean_absolute_error: 0.0226 - val_accuracy: 0.5108\n",
            "Epoch 16/40\n",
            "1087/1087 [==============================] - 3s 3ms/step - loss: 0.0012 - mean_absolute_error: 0.0242 - accuracy: 0.4793 - val_loss: 0.0010 - val_mean_absolute_error: 0.0221 - val_accuracy: 0.3458\n",
            "Epoch 17/40\n",
            "1087/1087 [==============================] - 3s 3ms/step - loss: 0.0012 - mean_absolute_error: 0.0240 - accuracy: 0.4752 - val_loss: 0.0010 - val_mean_absolute_error: 0.0219 - val_accuracy: 0.5244\n",
            "Epoch 18/40\n",
            "1087/1087 [==============================] - 3s 3ms/step - loss: 0.0012 - mean_absolute_error: 0.0238 - accuracy: 0.4760 - val_loss: 0.0010 - val_mean_absolute_error: 0.0221 - val_accuracy: 0.5352\n",
            "Epoch 19/40\n",
            "1087/1087 [==============================] - 3s 3ms/step - loss: 0.0012 - mean_absolute_error: 0.0241 - accuracy: 0.4654 - val_loss: 0.0010 - val_mean_absolute_error: 0.0221 - val_accuracy: 0.4696\n",
            "Epoch 20/40\n",
            "1087/1087 [==============================] - 3s 3ms/step - loss: 0.0012 - mean_absolute_error: 0.0241 - accuracy: 0.4786 - val_loss: 0.0010 - val_mean_absolute_error: 0.0220 - val_accuracy: 0.5406\n",
            "Epoch 21/40\n",
            "1087/1087 [==============================] - 3s 3ms/step - loss: 0.0012 - mean_absolute_error: 0.0239 - accuracy: 0.4783 - val_loss: 0.0011 - val_mean_absolute_error: 0.0241 - val_accuracy: 0.4699\n",
            "Epoch 22/40\n",
            "1087/1087 [==============================] - 3s 3ms/step - loss: 0.0012 - mean_absolute_error: 0.0242 - accuracy: 0.4740 - val_loss: 0.0015 - val_mean_absolute_error: 0.0289 - val_accuracy: 0.5082\n"
          ],
          "name": "stdout"
        }
      ]
    },
    {
      "cell_type": "code",
      "metadata": {
        "colab": {
          "base_uri": "https://localhost:8080/"
        },
        "id": "tBA6pHJtzE4X",
        "outputId": "289decfa-d5a3-4cca-f09d-3abef3eb6a45"
      },
      "source": [
        "test_temp"
      ],
      "execution_count": 319,
      "outputs": [
        {
          "output_type": "execute_result",
          "data": {
            "text/plain": [
              "array([[-1.93300637, -1.8537025 , -1.38819526, ..., -0.84338414,\n",
              "        -1.15157315, -1.24312721],\n",
              "       [-1.8537025 , -1.38819526, -1.04003194, ..., -1.15157315,\n",
              "        -1.24312721, -1.32629955],\n",
              "       [-1.38819526, -1.04003194, -0.77310673, ..., -1.24312721,\n",
              "        -1.32629955, -1.44493298],\n",
              "       ...,\n",
              "       [ 2.26300632,  2.15662309,  2.12567524, ...,  2.18370246,\n",
              "         2.84908124,  3.12825664],\n",
              "       [ 2.15662309,  2.12567524,  2.0921484 , ...,  2.84908124,\n",
              "         3.12825664,  3.38099741],\n",
              "       [ 2.12567524,  2.0921484 ,  2.09021416, ...,  3.12825664,\n",
              "         3.38099741,  3.79363542]])"
            ]
          },
          "metadata": {
            "tags": []
          },
          "execution_count": 319
        }
      ]
    },
    {
      "cell_type": "code",
      "metadata": {
        "id": "690uGOO0HkPf"
      },
      "source": [
        "prediction = model.predict(test_temp_norm)"
      ],
      "execution_count": 320,
      "outputs": []
    },
    {
      "cell_type": "code",
      "metadata": {
        "colab": {
          "base_uri": "https://localhost:8080/"
        },
        "id": "MVUgTcGpNKwa",
        "outputId": "87960aea-d040-41cb-c7b8-347ed05830f0"
      },
      "source": [
        "prediction.shape"
      ],
      "execution_count": 321,
      "outputs": [
        {
          "output_type": "execute_result",
          "data": {
            "text/plain": [
              "(17383, 6)"
            ]
          },
          "metadata": {
            "tags": []
          },
          "execution_count": 321
        }
      ]
    },
    {
      "cell_type": "code",
      "metadata": {
        "colab": {
          "base_uri": "https://localhost:8080/"
        },
        "id": "dHbfItmpNNu7",
        "outputId": "a7235dce-fae2-4c84-9263-fbfbf199e252"
      },
      "source": [
        "test_label_norm.shape"
      ],
      "execution_count": 322,
      "outputs": [
        {
          "output_type": "execute_result",
          "data": {
            "text/plain": [
              "(17383, 6)"
            ]
          },
          "metadata": {
            "tags": []
          },
          "execution_count": 322
        }
      ]
    },
    {
      "cell_type": "code",
      "metadata": {
        "colab": {
          "base_uri": "https://localhost:8080/"
        },
        "id": "Fvs6KS3qJeYK",
        "outputId": "85924679-76e1-48c5-ad32-b712e789c1b9"
      },
      "source": [
        "model.evaluate(test_temp_norm,  test_label_norm, verbose=2)"
      ],
      "execution_count": 323,
      "outputs": [
        {
          "output_type": "stream",
          "text": [
            "544/544 - 1s - loss: 0.0015 - mean_absolute_error: 0.0289 - accuracy: 0.5082\n"
          ],
          "name": "stdout"
        },
        {
          "output_type": "execute_result",
          "data": {
            "text/plain": [
              "[0.0014855536865070462, 0.028865491971373558, 0.5081976652145386]"
            ]
          },
          "metadata": {
            "tags": []
          },
          "execution_count": 323
        }
      ]
    },
    {
      "cell_type": "markdown",
      "metadata": {
        "id": "3Sk3GdGEBvmw"
      },
      "source": [
        "## Scale back to prediction temperature"
      ]
    },
    {
      "cell_type": "code",
      "metadata": {
        "id": "IuZ0L9seVV66"
      },
      "source": [
        "y_predict_norm = model.predict(test_temp_norm)"
      ],
      "execution_count": 324,
      "outputs": []
    },
    {
      "cell_type": "code",
      "metadata": {
        "id": "jbsxRFIzRLXd"
      },
      "source": [
        "y_predict = train_temp_min + y_predict_norm * (train_temp_max-train_temp_min)"
      ],
      "execution_count": 325,
      "outputs": []
    },
    {
      "cell_type": "markdown",
      "metadata": {
        "id": "4nIM-gd_B6oM"
      },
      "source": [
        "##MSE_Neural_Network"
      ]
    },
    {
      "cell_type": "code",
      "metadata": {
        "colab": {
          "base_uri": "https://localhost:8080/"
        },
        "id": "KnVKF-ZLRvjZ",
        "outputId": "e2cc6e23-ecfe-4cd6-d332-cbe1db34106a"
      },
      "source": [
        "# The mean squared error\n",
        "print('Mean squared error: %.2f'\n",
        "      % mean_squared_error(test_label, y_predict))\n",
        "# The coefficient of determination: 1 is perfect prediction\n",
        "print('Coefficient of determination: %.2f'\n",
        "      % r2_score(test_label, y_predict))"
      ],
      "execution_count": 326,
      "outputs": [
        {
          "output_type": "stream",
          "text": [
            "Mean squared error: 2.65\n",
            "Coefficient of determination: 0.96\n"
          ],
          "name": "stdout"
        }
      ]
    },
    {
      "cell_type": "markdown",
      "metadata": {
        "id": "tYOfJXHCCcdX"
      },
      "source": [
        "## Plot the temp"
      ]
    },
    {
      "cell_type": "code",
      "metadata": {
        "id": "qeivT3SnVfpw"
      },
      "source": [
        "z = np.linspace(past, past+future,future)"
      ],
      "execution_count": 327,
      "outputs": []
    },
    {
      "cell_type": "code",
      "metadata": {
        "colab": {
          "base_uri": "https://localhost:8080/",
          "height": 282
        },
        "id": "hWqjmFtzVm1Z",
        "outputId": "9aa4e5dc-4115-440c-d7c4-2807631dd41d"
      },
      "source": [
        "i = 1\n",
        "plt.plot(test_temp[i])\n",
        "plt.scatter(z,y_predict[i])\n",
        "plt.scatter(z,test_label[i]) # What shappeneing is that predicted values are so large in comparison to the test amd label values that is approximately starilght line"
      ],
      "execution_count": 328,
      "outputs": [
        {
          "output_type": "execute_result",
          "data": {
            "text/plain": [
              "<matplotlib.collections.PathCollection at 0x7f3504e57190>"
            ]
          },
          "metadata": {
            "tags": []
          },
          "execution_count": 328
        },
        {
          "output_type": "display_data",
          "data": {
            "image/png": "[encoded data removed]",
            "text/plain": [
              "<Figure size 432x288 with 1 Axes>"
            ]
          },
          "metadata": {
            "tags": [],
            "needs_background": "light"
          }
        }
      ]
    },
    {
      "cell_type": "markdown",
      "metadata": {
        "id": "dwRL0SwUFp4P"
      },
      "source": [
        "# Model comparison\n"
      ]
    },
    {
      "cell_type": "code",
      "metadata": {
        "colab": {
          "base_uri": "https://localhost:8080/",
          "height": 282
        },
        "id": "2DhIsQNKYc_e",
        "outputId": "212fd1be-60fe-48bd-be2b-bf87da90dc57"
      },
      "source": [
        "i = 2\n",
        "z = np.linspace(past, past+future,future)\n",
        "plt.plot(test_temp[i])\n",
        "plt.scatter(z,y_predict[i], label = 'NN')\n",
        "plt.scatter(z,test_label[i], label = 'True temperature')\n",
        "plt.scatter(z,y_persistence[i], label= 'Persistence')\n",
        "plt.scatter(z,predict_label[i], label='Linear regression')\n",
        "#plt.scatter(z,y_predict_LR[i], label='Linear regression in Keras')\n",
        "\n",
        "plt.legend(loc='best')\n",
        "\n"
      ],
      "execution_count": 329,
      "outputs": [
        {
          "output_type": "execute_result",
          "data": {
            "text/plain": [
              "<matplotlib.legend.Legend at 0x7f3504e5e750>"
            ]
          },
          "metadata": {
            "tags": []
          },
          "execution_count": 329
        },
        {
          "output_type": "display_data",
          "data": {
            "image/png": "[encoded data removed]",
            "text/plain": [
              "<Figure size 432x288 with 1 Axes>"
            ]
          },
          "metadata": {
            "tags": [],
            "needs_background": "light"
          }
        }
      ]
    },
    {
      "cell_type": "markdown",
      "metadata": {
        "id": "dW1hDa0n5dxG"
      },
      "source": [
        "## MSE"
      ]
    },
    {
      "cell_type": "markdown",
      "metadata": {
        "id": "xbpG1y1PDHUH"
      },
      "source": [
        "> We will check how MSE grows for predicted value on time axis."
      ]
    },
    {
      "cell_type": "code",
      "metadata": {
        "id": "3I_Q-h1A5xx7"
      },
      "source": [
        "def mse(predict):\n",
        "  mse = np.ones((future,))\n",
        "  for i in range(future):\n",
        "     mse[i]= np.mean((test_label[:,i]-predict[:,i])**2)\n",
        "  return mse \n",
        "   "
      ],
      "execution_count": 330,
      "outputs": []
    },
    {
      "cell_type": "code",
      "metadata": {
        "colab": {
          "base_uri": "https://localhost:8080/"
        },
        "id": "01lO4DZgIA1b",
        "outputId": "4a7ab718-421f-4478-831b-3c4c89b270f0"
      },
      "source": [
        "mse(y_persistence)"
      ],
      "execution_count": 331,
      "outputs": [
        {
          "output_type": "execute_result",
          "data": {
            "text/plain": [
              "array([0.35974392, 1.07377119, 2.07997292, 3.28066139, 4.64538988,\n",
              "       6.02936711])"
            ]
          },
          "metadata": {
            "tags": []
          },
          "execution_count": 331
        }
      ]
    },
    {
      "cell_type": "code",
      "metadata": {
        "colab": {
          "base_uri": "https://localhost:8080/"
        },
        "id": "Uo1_DpzSjeZ-",
        "outputId": "d97a0e5e-0bc7-4102-8feb-f390d1f7a7af"
      },
      "source": [
        "mse(predict_label)"
      ],
      "execution_count": 332,
      "outputs": [
        {
          "output_type": "execute_result",
          "data": {
            "text/plain": [
              "array([0.26049284, 0.70009607, 1.36578638, 2.21233834, 3.27811273,\n",
              "       4.36084848])"
            ]
          },
          "metadata": {
            "tags": []
          },
          "execution_count": 332
        }
      ]
    },
    {
      "cell_type": "code",
      "metadata": {
        "colab": {
          "base_uri": "https://localhost:8080/"
        },
        "id": "qc0J3Qapjh8l",
        "outputId": "65de08c4-0e83-449e-d037-557b02d82c54"
      },
      "source": [
        "mse(test_label) #test"
      ],
      "execution_count": 333,
      "outputs": [
        {
          "output_type": "execute_result",
          "data": {
            "text/plain": [
              "array([0., 0., 0., 0., 0., 0.])"
            ]
          },
          "metadata": {
            "tags": []
          },
          "execution_count": 333
        }
      ]
    },
    {
      "cell_type": "code",
      "metadata": {
        "colab": {
          "base_uri": "https://localhost:8080/"
        },
        "id": "6rCgzcjCjlJl",
        "outputId": "15270b4e-bf71-4aec-d0c4-df01ec1c3304"
      },
      "source": [
        "mse(y_predict) #NN"
      ],
      "execution_count": 334,
      "outputs": [
        {
          "output_type": "execute_result",
          "data": {
            "text/plain": [
              "array([0.69640346, 1.28135575, 2.19135848, 2.99995211, 3.82003716,\n",
              "       4.92338151])"
            ]
          },
          "metadata": {
            "tags": []
          },
          "execution_count": 334
        }
      ]
    },
    {
      "cell_type": "code",
      "metadata": {
        "colab": {
          "base_uri": "https://localhost:8080/",
          "height": 282
        },
        "id": "c-NoxWc4j8Ug",
        "outputId": "d9bc3d4e-25db-488d-a94f-317a1cdc2788"
      },
      "source": [
        "plt.plot(mse(y_predict), label = 'NN')\n",
        "plt.plot(mse(predict_label), label = 'Linear Regression')\n",
        "plt.plot(mse(y_persistence), label = 'Persistence')\n",
        "#plt.plot(mse(y_predict2), label = 'NN2')\n",
        "#plt.plot(mse(y_predict3), label = 'NN3')\n",
        "plt.legend(loc='best')"
      ],
      "execution_count": 335,
      "outputs": [
        {
          "output_type": "execute_result",
          "data": {
            "text/plain": [
              "<matplotlib.legend.Legend at 0x7f3504922b50>"
            ]
          },
          "metadata": {
            "tags": []
          },
          "execution_count": 335
        },
        {
          "output_type": "display_data",
          "data": {
            "image/png": "[encoded data removed]",
            "text/plain": [
              "<Figure size 432x288 with 1 Axes>"
            ]
          },
          "metadata": {
            "tags": [],
            "needs_background": "light"
          }
        }
      ]
    },
    {
      "cell_type": "markdown",
      "metadata": {
        "id": "3fMEA9oK63Zv"
      },
      "source": [
        "# Asignment 5 New Models\n",
        "\n",
        "> We still need to run previous cells as data samples are generated there and some of the libraries are imported there."
      ]
    },
    {
      "cell_type": "markdown",
      "metadata": {
        "id": "p0P44LEDBNWb"
      },
      "source": [
        "## Reshape the data"
      ]
    },
    {
      "cell_type": "markdown",
      "metadata": {
        "id": "WKhCRCQABHXO"
      },
      "source": [
        "> For RNN models, we need to reshape the data "
      ]
    },
    {
      "cell_type": "code",
      "metadata": {
        "id": "6liFYr9r8viB"
      },
      "source": [
        "train_temp_new = np.expand_dims(train_temp_norm, axis = 2)\n",
        "test_temp_new = np.expand_dims(test_temp_norm, axis = 2)"
      ],
      "execution_count": 336,
      "outputs": []
    },
    {
      "cell_type": "code",
      "metadata": {
        "id": "I7N0_FaS8x_H"
      },
      "source": [
        "train_label_new = np.expand_dims(train_label_norm, axis = 2)\n",
        "test_label_new = np.expand_dims(test_label_norm, axis = 2)"
      ],
      "execution_count": 337,
      "outputs": []
    },
    {
      "cell_type": "markdown",
      "metadata": {
        "id": "AC90k4nTBWKm"
      },
      "source": [
        "# LSTM model"
      ]
    },
    {
      "cell_type": "code",
      "metadata": {
        "id": "W6MHNiwa7KZ-"
      },
      "source": [
        "LSTM_model = tf.keras.Sequential([\n",
        "  \n",
        "    tf.keras.layers.InputLayer(input_shape=(past,1)),\n",
        "    tf.keras.layers.LSTM(32, return_sequences=False),\n",
        "    \n",
        "    tf.keras.layers.Dense(future,\n",
        "                          kernel_initializer=tf.initializers.zeros()),\n",
        "    \n",
        "    tf.keras.layers.Reshape([future,1])\n",
        "])\n",
        "\n"
      ],
      "execution_count": 338,
      "outputs": []
    },
    {
      "cell_type": "code",
      "metadata": {
        "colab": {
          "base_uri": "https://localhost:8080/"
        },
        "id": "6FEchvmS8N_T",
        "outputId": "da999cfa-11b7-4d5d-8346-6356888e6333"
      },
      "source": [
        "LSTM_model.compile(\n",
        "    loss=tf.losses.MeanSquaredError(),\n",
        "    optimizer=tf.keras.optimizers.Adam(),\n",
        "    metrics=['accuracy','mse'],\n",
        ")\n",
        "LSTM_model.summary()"
      ],
      "execution_count": 339,
      "outputs": [
        {
          "output_type": "stream",
          "text": [
            "Model: \"sequential_20\"\n",
            "_________________________________________________________________\n",
            "Layer (type)                 Output Shape              Param #   \n",
            "=================================================================\n",
            "lstm_11 (LSTM)               (None, 32)                4352      \n",
            "_________________________________________________________________\n",
            "dense_23 (Dense)             (None, 6)                 198       \n",
            "_________________________________________________________________\n",
            "reshape_19 (Reshape)         (None, 6, 1)              0         \n",
            "=================================================================\n",
            "Total params: 4,550\n",
            "Trainable params: 4,550\n",
            "Non-trainable params: 0\n",
            "_________________________________________________________________\n"
          ],
          "name": "stdout"
        }
      ]
    },
    {
      "cell_type": "code",
      "metadata": {
        "colab": {
          "base_uri": "https://localhost:8080/"
        },
        "id": "A3VUZOQ58oWC",
        "outputId": "3d811a9e-591f-4720-ee0d-95d420ee644a"
      },
      "source": [
        "history = LSTM_model.fit(train_temp_new,train_label_new, epochs=20)"
      ],
      "execution_count": 340,
      "outputs": [
        {
          "output_type": "stream",
          "text": [
            "Epoch 1/20\n",
            "2173/2173 [==============================] - 18s 7ms/step - loss: 0.0210 - accuracy: 3.8758e-05 - mse: 0.0210\n",
            "Epoch 2/20\n",
            "2173/2173 [==============================] - 15s 7ms/step - loss: 0.0020 - accuracy: 2.7776e-05 - mse: 0.0020\n",
            "Epoch 3/20\n",
            "2173/2173 [==============================] - 15s 7ms/step - loss: 0.0015 - accuracy: 3.1243e-05 - mse: 0.0015\n",
            "Epoch 4/20\n",
            "2173/2173 [==============================] - 17s 8ms/step - loss: 0.0014 - accuracy: 2.9550e-05 - mse: 0.0014\n",
            "Epoch 5/20\n",
            "2173/2173 [==============================] - 17s 8ms/step - loss: 0.0013 - accuracy: 2.5223e-05 - mse: 0.0013\n",
            "Epoch 6/20\n",
            "2173/2173 [==============================] - 16s 7ms/step - loss: 0.0013 - accuracy: 2.4398e-05 - mse: 0.0013\n",
            "Epoch 7/20\n",
            "2173/2173 [==============================] - 16s 7ms/step - loss: 0.0013 - accuracy: 2.6410e-05 - mse: 0.0013\n",
            "Epoch 8/20\n",
            "2173/2173 [==============================] - 16s 7ms/step - loss: 0.0013 - accuracy: 3.6260e-05 - mse: 0.0013\n",
            "Epoch 9/20\n",
            "2173/2173 [==============================] - 16s 7ms/step - loss: 0.0013 - accuracy: 2.4050e-05 - mse: 0.0013\n",
            "Epoch 10/20\n",
            "2173/2173 [==============================] - 16s 7ms/step - loss: 0.0012 - accuracy: 1.8007e-05 - mse: 0.0012\n",
            "Epoch 11/20\n",
            "2173/2173 [==============================] - 15s 7ms/step - loss: 0.0012 - accuracy: 2.7875e-05 - mse: 0.0012\n",
            "Epoch 12/20\n",
            "2173/2173 [==============================] - 16s 7ms/step - loss: 0.0012 - accuracy: 1.8422e-05 - mse: 0.0012\n",
            "Epoch 13/20\n",
            "2173/2173 [==============================] - 16s 7ms/step - loss: 0.0012 - accuracy: 3.0726e-05 - mse: 0.0012\n",
            "Epoch 14/20\n",
            "2173/2173 [==============================] - 16s 7ms/step - loss: 0.0012 - accuracy: 2.5758e-05 - mse: 0.0012\n",
            "Epoch 15/20\n",
            "2173/2173 [==============================] - 16s 7ms/step - loss: 0.0012 - accuracy: 3.9351e-05 - mse: 0.0012\n",
            "Epoch 16/20\n",
            "2173/2173 [==============================] - 16s 7ms/step - loss: 0.0012 - accuracy: 4.9396e-05 - mse: 0.0012\n",
            "Epoch 17/20\n",
            "2173/2173 [==============================] - 17s 8ms/step - loss: 0.0012 - accuracy: 2.6862e-05 - mse: 0.0012\n",
            "Epoch 18/20\n",
            "2173/2173 [==============================] - 16s 7ms/step - loss: 0.0012 - accuracy: 2.9794e-05 - mse: 0.0012\n",
            "Epoch 19/20\n",
            "2173/2173 [==============================] - 15s 7ms/step - loss: 0.0012 - accuracy: 2.6090e-05 - mse: 0.0012\n",
            "Epoch 20/20\n",
            "2173/2173 [==============================] - 16s 7ms/step - loss: 0.0012 - accuracy: 3.3164e-05 - mse: 0.0012\n"
          ],
          "name": "stdout"
        }
      ]
    },
    {
      "cell_type": "code",
      "metadata": {
        "colab": {
          "base_uri": "https://localhost:8080/"
        },
        "id": "uAJ1jS9M-ICM",
        "outputId": "32fd0053-2196-4ffe-9127-1ed78943f66b"
      },
      "source": [
        "LSTM_model.evaluate(test_temp_new,  test_label_new, verbose=2)"
      ],
      "execution_count": 341,
      "outputs": [
        {
          "output_type": "stream",
          "text": [
            "544/544 - 2s - loss: 0.0011 - accuracy: 0.0000e+00 - mse: 0.0011\n"
          ],
          "name": "stdout"
        },
        {
          "output_type": "execute_result",
          "data": {
            "text/plain": [
              "[0.001082842005416751, 0.0, 0.0010828427039086819]"
            ]
          },
          "metadata": {
            "tags": []
          },
          "execution_count": 341
        }
      ]
    },
    {
      "cell_type": "markdown",
      "metadata": {
        "id": "5xexdaHH-ICO"
      },
      "source": [
        "## Scale back to prediction temperature"
      ]
    },
    {
      "cell_type": "code",
      "metadata": {
        "id": "1uC-QTjJ-ICP"
      },
      "source": [
        "y_predict_new = LSTM_model.predict(test_temp_new)"
      ],
      "execution_count": 342,
      "outputs": []
    },
    {
      "cell_type": "code",
      "metadata": {
        "colab": {
          "base_uri": "https://localhost:8080/"
        },
        "id": "s61dU1dA-oRv",
        "outputId": "5fdb4669-0fa1-46ce-88f0-dd9a037e90ef"
      },
      "source": [
        "y_predict_new.shape"
      ],
      "execution_count": 343,
      "outputs": [
        {
          "output_type": "execute_result",
          "data": {
            "text/plain": [
              "(17383, 6, 1)"
            ]
          },
          "metadata": {
            "tags": []
          },
          "execution_count": 343
        }
      ]
    },
    {
      "cell_type": "code",
      "metadata": {
        "id": "GF5LxWdo-ICQ"
      },
      "source": [
        "y_predict_LSTM = train_temp_min + y_predict_new * (train_temp_max-train_temp_min)"
      ],
      "execution_count": 344,
      "outputs": []
    },
    {
      "cell_type": "markdown",
      "metadata": {
        "id": "sIFSlPJA-ICR"
      },
      "source": [
        "##MSE_LSTM"
      ]
    },
    {
      "cell_type": "markdown",
      "metadata": {
        "id": "frzVdc_bBtPo"
      },
      "source": [
        "> First Method"
      ]
    },
    {
      "cell_type": "code",
      "metadata": {
        "id": "Ld0KoOKhOkPj"
      },
      "source": [
        "test_label_back= np.expand_dims(test_label, 2)"
      ],
      "execution_count": 345,
      "outputs": []
    },
    {
      "cell_type": "code",
      "metadata": {
        "colab": {
          "base_uri": "https://localhost:8080/"
        },
        "id": "_J_Oqzke_7Y8",
        "outputId": "43b054ae-2886-43f9-f249-858c01a03a94"
      },
      "source": [
        "y_predict_LSTM.shape"
      ],
      "execution_count": 346,
      "outputs": [
        {
          "output_type": "execute_result",
          "data": {
            "text/plain": [
              "(17383, 6, 1)"
            ]
          },
          "metadata": {
            "tags": []
          },
          "execution_count": 346
        }
      ]
    },
    {
      "cell_type": "code",
      "metadata": {
        "colab": {
          "base_uri": "https://localhost:8080/"
        },
        "id": "We3oOK3uM-TS",
        "outputId": "c6b3ebd9-0df6-4632-d40e-81a1b07a2327"
      },
      "source": [
        "((y_predict_LSTM - test_label_back)**2).mean() # MSE in temperature terms"
      ],
      "execution_count": 347,
      "outputs": [
        {
          "output_type": "execute_result",
          "data": {
            "text/plain": [
              "1.933142880066213"
            ]
          },
          "metadata": {
            "tags": []
          },
          "execution_count": 347
        }
      ]
    },
    {
      "cell_type": "markdown",
      "metadata": {
        "id": "GcXFsudkAN3m"
      },
      "source": [
        "> Second Method "
      ]
    },
    {
      "cell_type": "markdown",
      "metadata": {
        "id": "Zk2774zIB1_o"
      },
      "source": [
        "In order to use the MSE method of sklearn we rehape it back reducing dimension. "
      ]
    },
    {
      "cell_type": "code",
      "metadata": {
        "id": "y5C9Qrx1AQv_"
      },
      "source": [
        "y_predict_LSTM_reshaped = y_predict_LSTM.reshape(-1,6)"
      ],
      "execution_count": 348,
      "outputs": []
    },
    {
      "cell_type": "code",
      "metadata": {
        "colab": {
          "base_uri": "https://localhost:8080/"
        },
        "id": "iCwQ56QAApMT",
        "outputId": "2d56669d-03c6-48d2-dddb-bfd51f6f3b4c"
      },
      "source": [
        "y_predict_LSTM_reshaped.shape"
      ],
      "execution_count": 349,
      "outputs": [
        {
          "output_type": "execute_result",
          "data": {
            "text/plain": [
              "(17383, 6)"
            ]
          },
          "metadata": {
            "tags": []
          },
          "execution_count": 349
        }
      ]
    },
    {
      "cell_type": "code",
      "metadata": {
        "colab": {
          "base_uri": "https://localhost:8080/"
        },
        "id": "cBOBKndi-ICS",
        "outputId": "8bf8ceff-ab9e-4d3f-e3b2-2aa9c3d8a6df"
      },
      "source": [
        "# The mean squared error\n",
        "print('Mean squared error: %.2f'\n",
        "      % mean_squared_error(test_label, y_predict_LSTM_reshaped))\n",
        "# The coefficient of determination: 1 is perfect prediction\n",
        "print('Coefficient of determination: %.2f'\n",
        "      % r2_score(test_label, y_predict_LSTM_reshaped))"
      ],
      "execution_count": 350,
      "outputs": [
        {
          "output_type": "stream",
          "text": [
            "Mean squared error: 1.93\n",
            "Coefficient of determination: 0.97\n"
          ],
          "name": "stdout"
        }
      ]
    },
    {
      "cell_type": "markdown",
      "metadata": {
        "id": "Fo_CNPwX-ICS"
      },
      "source": [
        "## Plot the temp"
      ]
    },
    {
      "cell_type": "code",
      "metadata": {
        "id": "sdW8aEhW-ICT"
      },
      "source": [
        "z = np.linspace(past, past+future,future)"
      ],
      "execution_count": 351,
      "outputs": []
    },
    {
      "cell_type": "code",
      "metadata": {
        "colab": {
          "base_uri": "https://localhost:8080/",
          "height": 286
        },
        "id": "_CMzwDIc-ICU",
        "outputId": "518ae736-32e0-4cbf-a892-05b6581e0b67"
      },
      "source": [
        "z = np.linspace(past, past+future,future)\n",
        "plt.plot(test_temp[0])\n",
        "plt.scatter(z,test_label[0])\n",
        "plt.scatter(z,y_predict_LSTM_reshaped[0])"
      ],
      "execution_count": 352,
      "outputs": [
        {
          "output_type": "execute_result",
          "data": {
            "text/plain": [
              "<matplotlib.collections.PathCollection at 0x7f350c95c9d0>"
            ]
          },
          "metadata": {
            "tags": []
          },
          "execution_count": 352
        },
        {
          "output_type": "display_data",
          "data": {
            "image/png": "[encoded data removed]",
            "text/plain": [
              "<Figure size 432x288 with 1 Axes>"
            ]
          },
          "metadata": {
            "tags": [],
            "needs_background": "light"
          }
        }
      ]
    },
    {
      "cell_type": "markdown",
      "metadata": {
        "id": "8b5NDlaIEd0Y"
      },
      "source": [
        "# RNN Network"
      ]
    },
    {
      "cell_type": "code",
      "metadata": {
        "id": "f5WLEOy3EgVv"
      },
      "source": [
        "RNN_model = tf.keras.Sequential([\n",
        "  \n",
        "    tf.keras.layers.InputLayer(input_shape=(past,1)),\n",
        "    tf.keras.layers.SimpleRNN(128, return_sequences=True),\n",
        "    tf.keras.layers.SimpleRNN(64, return_sequences=False),\n",
        "    \n",
        "    tf.keras.layers.Dense(future,\n",
        "                          kernel_initializer=tf.initializers.zeros()),\n",
        "    \n",
        "    tf.keras.layers.Reshape([future,1])\n",
        "])"
      ],
      "execution_count": 353,
      "outputs": []
    },
    {
      "cell_type": "code",
      "metadata": {
        "colab": {
          "base_uri": "https://localhost:8080/"
        },
        "id": "NiZsT4zVGPkJ",
        "outputId": "875f8214-4249-4026-a18c-8c54271f748e"
      },
      "source": [
        "RNN_model.compile(\n",
        "    loss=tf.losses.MeanSquaredError(),\n",
        "    optimizer=tf.keras.optimizers.Adam(),\n",
        "    metrics=['accuracy','mse'],\n",
        ")\n",
        "RNN_model.summary()"
      ],
      "execution_count": 354,
      "outputs": [
        {
          "output_type": "stream",
          "text": [
            "Model: \"sequential_21\"\n",
            "_________________________________________________________________\n",
            "Layer (type)                 Output Shape              Param #   \n",
            "=================================================================\n",
            "simple_rnn_7 (SimpleRNN)     (None, 12, 128)           16640     \n",
            "_________________________________________________________________\n",
            "simple_rnn_8 (SimpleRNN)     (None, 64)                12352     \n",
            "_________________________________________________________________\n",
            "dense_24 (Dense)             (None, 6)                 390       \n",
            "_________________________________________________________________\n",
            "reshape_20 (Reshape)         (None, 6, 1)              0         \n",
            "=================================================================\n",
            "Total params: 29,382\n",
            "Trainable params: 29,382\n",
            "Non-trainable params: 0\n",
            "_________________________________________________________________\n"
          ],
          "name": "stdout"
        }
      ]
    },
    {
      "cell_type": "code",
      "metadata": {
        "colab": {
          "base_uri": "https://localhost:8080/"
        },
        "id": "j35C0jFOGPkK",
        "outputId": "ec87c7de-0f6b-46cd-a031-250590d7eacf"
      },
      "source": [
        "history = RNN_model.fit(train_temp_new,train_label_new, epochs=20)"
      ],
      "execution_count": null,
      "outputs": [
        {
          "output_type": "stream",
          "text": [
            "Epoch 1/20\n",
            "2173/2173 [==============================] - 21s 9ms/step - loss: 0.0154 - accuracy: 1.3090e-05 - mse: 0.0154\n",
            "Epoch 2/20\n",
            "2173/2173 [==============================] - 19s 9ms/step - loss: 0.0014 - accuracy: 3.9867e-05 - mse: 0.0014\n",
            "Epoch 3/20\n",
            "2173/2173 [==============================] - 19s 9ms/step - loss: 0.0013 - accuracy: 2.4310e-05 - mse: 0.0013\n",
            "Epoch 4/20\n",
            "2173/2173 [==============================] - 19s 9ms/step - loss: 0.0013 - accuracy: 4.4484e-05 - mse: 0.0013\n",
            "Epoch 5/20\n",
            "2173/2173 [==============================] - 19s 9ms/step - loss: 0.0013 - accuracy: 1.9951e-05 - mse: 0.0013\n",
            "Epoch 6/20\n",
            "2173/2173 [==============================] - 19s 9ms/step - loss: 0.0013 - accuracy: 1.5469e-05 - mse: 0.0013\n",
            "Epoch 7/20\n",
            "2173/2173 [==============================] - 19s 9ms/step - loss: 0.0013 - accuracy: 2.7371e-05 - mse: 0.0013\n",
            "Epoch 8/20\n",
            "2173/2173 [==============================] - 19s 9ms/step - loss: 0.0012 - accuracy: 2.0618e-05 - mse: 0.0012\n",
            "Epoch 9/20\n",
            "2173/2173 [==============================] - 19s 9ms/step - loss: 0.0012 - accuracy: 2.6372e-05 - mse: 0.0012\n",
            "Epoch 10/20\n",
            "2173/2173 [==============================] - 19s 9ms/step - loss: 0.0012 - accuracy: 2.5563e-05 - mse: 0.0012\n",
            "Epoch 11/20\n",
            "2173/2173 [==============================] - 19s 9ms/step - loss: 0.0012 - accuracy: 2.0949e-05 - mse: 0.0012\n",
            "Epoch 12/20\n",
            "2173/2173 [==============================] - 19s 9ms/step - loss: 0.0012 - accuracy: 3.0152e-05 - mse: 0.0012\n",
            "Epoch 13/20\n",
            "2173/2173 [==============================] - 19s 9ms/step - loss: 0.0012 - accuracy: 3.2093e-05 - mse: 0.0012\n",
            "Epoch 14/20\n",
            "2173/2173 [==============================] - 19s 9ms/step - loss: 0.0012 - accuracy: 3.0511e-05 - mse: 0.0012\n",
            "Epoch 15/20\n",
            "2173/2173 [==============================] - 19s 9ms/step - loss: 0.0012 - accuracy: 2.9398e-05 - mse: 0.0012\n",
            "Epoch 16/20\n",
            " 170/2173 [=>............................] - ETA: 16s - loss: 0.0011 - accuracy: 2.0090e-05 - mse: 0.0011"
          ],
          "name": "stdout"
        }
      ]
    },
    {
      "cell_type": "code",
      "metadata": {
        "id": "mj-GEf1mGPkL"
      },
      "source": [
        "RNN_model.evaluate(test_temp_new,  test_label_new, verbose=2)"
      ],
      "execution_count": null,
      "outputs": []
    },
    {
      "cell_type": "markdown",
      "metadata": {
        "id": "Ni4Ro5pMGPkM"
      },
      "source": [
        "## Scale back to prediction temperature"
      ]
    },
    {
      "cell_type": "code",
      "metadata": {
        "id": "8gdcBpb-GPkN"
      },
      "source": [
        "y_predict_new = RNN_model.predict(test_temp_new)"
      ],
      "execution_count": null,
      "outputs": []
    },
    {
      "cell_type": "code",
      "metadata": {
        "id": "_gIQhcNSGPkN"
      },
      "source": [
        "y_predict_new.shape"
      ],
      "execution_count": null,
      "outputs": []
    },
    {
      "cell_type": "code",
      "metadata": {
        "id": "kO6Iu0O4GPkO"
      },
      "source": [
        "y_predict_RNN = train_temp_min + y_predict_new * (train_temp_max-train_temp_min)"
      ],
      "execution_count": null,
      "outputs": []
    },
    {
      "cell_type": "markdown",
      "metadata": {
        "id": "gCBBTwkcGPkP"
      },
      "source": [
        "##MSE_RNN"
      ]
    },
    {
      "cell_type": "markdown",
      "metadata": {
        "id": "AXqE-LRnGPkQ"
      },
      "source": [
        "> First Method"
      ]
    },
    {
      "cell_type": "code",
      "metadata": {
        "id": "TWrGtsmTGPkQ"
      },
      "source": [
        "test_label_back= np.expand_dims(test_label, 2)"
      ],
      "execution_count": null,
      "outputs": []
    },
    {
      "cell_type": "code",
      "metadata": {
        "id": "JX5MXqk8GPkQ"
      },
      "source": [
        "y_predict_RNN.shape"
      ],
      "execution_count": null,
      "outputs": []
    },
    {
      "cell_type": "code",
      "metadata": {
        "id": "f-h-p3DhGPkR"
      },
      "source": [
        "((y_predict_RNN - test_label_back)**2).mean() # MSE in temperature terms"
      ],
      "execution_count": null,
      "outputs": []
    },
    {
      "cell_type": "markdown",
      "metadata": {
        "id": "Nwabd5HIGPkR"
      },
      "source": [
        "> Second Method "
      ]
    },
    {
      "cell_type": "markdown",
      "metadata": {
        "id": "fafWE_jUGPkS"
      },
      "source": [
        "In order to use the MSE method of sklearn we rehape it back reducing dimension. "
      ]
    },
    {
      "cell_type": "code",
      "metadata": {
        "id": "YdyZbBqcGPkS"
      },
      "source": [
        "y_predict_RNN_reshaped = y_predict_RNN.reshape(-1,6)"
      ],
      "execution_count": null,
      "outputs": []
    },
    {
      "cell_type": "code",
      "metadata": {
        "id": "7yOZ806xGPkT"
      },
      "source": [
        "y_predict_RNN_reshaped.shape"
      ],
      "execution_count": null,
      "outputs": []
    },
    {
      "cell_type": "code",
      "metadata": {
        "id": "KUbIItqdGPkX"
      },
      "source": [
        "# The mean squared error\n",
        "print('Mean squared error: %.2f'\n",
        "      % mean_squared_error(test_label, y_predict_RNN_reshaped))\n",
        "# The coefficient of determination: 1 is perfect prediction\n",
        "print('Coefficient of determination: %.2f'\n",
        "      % r2_score(test_label, y_predict_RNN_reshaped))"
      ],
      "execution_count": null,
      "outputs": []
    },
    {
      "cell_type": "markdown",
      "metadata": {
        "id": "wtoz7O89GPkY"
      },
      "source": [
        "## Plot the temp"
      ]
    },
    {
      "cell_type": "code",
      "metadata": {
        "id": "DH8qMmAWGPkY"
      },
      "source": [
        "z = np.linspace(past, past+future,future)"
      ],
      "execution_count": null,
      "outputs": []
    },
    {
      "cell_type": "code",
      "metadata": {
        "id": "73O6CFudGPkY"
      },
      "source": [
        "z = np.linspace(past, past+future,future)\n",
        "plt.plot(test_temp[0])\n",
        "plt.scatter(z,test_label[0])\n",
        "plt.scatter(z,y_predict_RNN_reshaped[0])"
      ],
      "execution_count": null,
      "outputs": []
    },
    {
      "cell_type": "markdown",
      "metadata": {
        "id": "aEqTFmnfHUGt"
      },
      "source": [
        "# GRU Model"
      ]
    },
    {
      "cell_type": "code",
      "metadata": {
        "id": "3BTE1M4sHeKY"
      },
      "source": [
        "GRU_model = tf.keras.Sequential([\n",
        "  \n",
        "    tf.keras.layers.InputLayer(input_shape=(past,1)),\n",
        "    tf.keras.layers.GRU(128, return_sequences=True),\n",
        "    tf.keras.layers.SimpleRNN(128, return_sequences=False),\n",
        "\n",
        "\n",
        "\n",
        "    \n",
        "    tf.keras.layers.Dense(future,\n",
        "                          kernel_initializer=tf.initializers.zeros()),\n",
        "    \n",
        "    tf.keras.layers.Reshape([future,1])\n",
        "])\n",
        "\n"
      ],
      "execution_count": null,
      "outputs": []
    },
    {
      "cell_type": "code",
      "metadata": {
        "id": "Yx0W4faKHeKZ"
      },
      "source": [
        "GRU_model.compile(\n",
        "    loss=tf.losses.MeanSquaredError(),\n",
        "    optimizer=tf.keras.optimizers.Adam(),\n",
        "    metrics=['accuracy','mse'],\n",
        ")\n",
        "LSTM_model.summary()"
      ],
      "execution_count": null,
      "outputs": []
    },
    {
      "cell_type": "code",
      "metadata": {
        "colab": {
          "base_uri": "https://localhost:8080/"
        },
        "id": "tP0sX6ljHeKa",
        "outputId": "ff6eb5bf-d9f0-4bd9-9bad-76defd574e45"
      },
      "source": [
        "history = GRU_model.fit(train_temp_new,train_label_new, epochs=20)"
      ],
      "execution_count": 370,
      "outputs": [
        {
          "output_type": "stream",
          "text": [
            "Epoch 1/20\n",
            "2173/2173 [==============================] - 38s 17ms/step - loss: 0.0095 - accuracy: 3.2684e-05 - mse: 0.0095\n",
            "Epoch 2/20\n",
            "2173/2173 [==============================] - 36s 16ms/step - loss: 0.0013 - accuracy: 1.6201e-05 - mse: 0.0013\n",
            "Epoch 3/20\n",
            "2173/2173 [==============================] - 36s 17ms/step - loss: 0.0013 - accuracy: 3.3259e-05 - mse: 0.0013\n",
            "Epoch 4/20\n",
            "2173/2173 [==============================] - 39s 18ms/step - loss: 0.0013 - accuracy: 1.6226e-05 - mse: 0.0013\n",
            "Epoch 5/20\n",
            "2173/2173 [==============================] - 40s 18ms/step - loss: 0.0013 - accuracy: 2.9279e-05 - mse: 0.0013\n",
            "Epoch 6/20\n",
            "2173/2173 [==============================] - 40s 18ms/step - loss: 0.0012 - accuracy: 1.7611e-05 - mse: 0.0012\n",
            "Epoch 7/20\n",
            "2173/2173 [==============================] - 40s 18ms/step - loss: 0.0013 - accuracy: 2.5421e-05 - mse: 0.0013\n",
            "Epoch 8/20\n",
            "2173/2173 [==============================] - 40s 18ms/step - loss: 0.0012 - accuracy: 3.1905e-05 - mse: 0.0012\n",
            "Epoch 9/20\n",
            "2173/2173 [==============================] - 40s 18ms/step - loss: 0.0012 - accuracy: 3.2340e-05 - mse: 0.0012\n",
            "Epoch 10/20\n",
            "2173/2173 [==============================] - 39s 18ms/step - loss: 0.0012 - accuracy: 2.6343e-05 - mse: 0.0012\n",
            "Epoch 11/20\n",
            "2173/2173 [==============================] - 39s 18ms/step - loss: 0.0012 - accuracy: 1.9555e-05 - mse: 0.0012\n",
            "Epoch 12/20\n",
            "2173/2173 [==============================] - 40s 18ms/step - loss: 0.0012 - accuracy: 3.3230e-05 - mse: 0.0012\n",
            "Epoch 13/20\n",
            "2173/2173 [==============================] - 39s 18ms/step - loss: 0.0012 - accuracy: 3.4484e-05 - mse: 0.0012\n",
            "Epoch 14/20\n",
            "2173/2173 [==============================] - 40s 18ms/step - loss: 0.0012 - accuracy: 3.1887e-05 - mse: 0.0012\n",
            "Epoch 15/20\n",
            "2173/2173 [==============================] - 39s 18ms/step - loss: 0.0012 - accuracy: 3.6098e-05 - mse: 0.0012\n",
            "Epoch 16/20\n",
            "2173/2173 [==============================] - 39s 18ms/step - loss: 0.0012 - accuracy: 2.9826e-05 - mse: 0.0012\n",
            "Epoch 17/20\n",
            "2173/2173 [==============================] - 40s 18ms/step - loss: 0.0012 - accuracy: 2.1707e-05 - mse: 0.0012\n",
            "Epoch 18/20\n",
            "2173/2173 [==============================] - 40s 18ms/step - loss: 0.0012 - accuracy: 3.8694e-05 - mse: 0.0012\n",
            "Epoch 19/20\n",
            "2173/2173 [==============================] - 40s 18ms/step - loss: 0.0012 - accuracy: 2.6400e-05 - mse: 0.0012\n",
            "Epoch 20/20\n",
            "2173/2173 [==============================] - 40s 18ms/step - loss: 0.0012 - accuracy: 3.8091e-05 - mse: 0.0012\n"
          ],
          "name": "stdout"
        }
      ]
    },
    {
      "cell_type": "code",
      "metadata": {
        "colab": {
          "base_uri": "https://localhost:8080/"
        },
        "id": "dLVYrALJHeKa",
        "outputId": "4dee5038-13e2-4947-b2a5-e144ac6d0677"
      },
      "source": [
        "GRU_model.evaluate(test_temp_new,  test_label_new, verbose=2)"
      ],
      "execution_count": 371,
      "outputs": [
        {
          "output_type": "stream",
          "text": [
            "544/544 - 3s - loss: 0.0010 - accuracy: 0.0000e+00 - mse: 0.0010\n"
          ],
          "name": "stdout"
        },
        {
          "output_type": "execute_result",
          "data": {
            "text/plain": [
              "[0.0010398555314168334, 0.0, 0.0010398559970781207]"
            ]
          },
          "metadata": {
            "tags": []
          },
          "execution_count": 371
        }
      ]
    },
    {
      "cell_type": "markdown",
      "metadata": {
        "id": "9NM-sEgaHeKb"
      },
      "source": [
        "## Scale back to prediction temperature"
      ]
    },
    {
      "cell_type": "code",
      "metadata": {
        "id": "GQWAebi8HeKc"
      },
      "source": [
        "y_predict_new = GRU_model.predict(test_temp_new)"
      ],
      "execution_count": 372,
      "outputs": []
    },
    {
      "cell_type": "code",
      "metadata": {
        "colab": {
          "base_uri": "https://localhost:8080/"
        },
        "id": "CDhbN7n2HeKc",
        "outputId": "0f535214-dcb0-4e3e-b267-8bd4becc0e02"
      },
      "source": [
        "y_predict_new.shape"
      ],
      "execution_count": 373,
      "outputs": [
        {
          "output_type": "execute_result",
          "data": {
            "text/plain": [
              "(17383, 6, 1)"
            ]
          },
          "metadata": {
            "tags": []
          },
          "execution_count": 373
        }
      ]
    },
    {
      "cell_type": "code",
      "metadata": {
        "id": "sWpa8KltHeKc"
      },
      "source": [
        "y_predict_GRU = train_temp_min + y_predict_new * (train_temp_max-train_temp_min)"
      ],
      "execution_count": 374,
      "outputs": []
    },
    {
      "cell_type": "markdown",
      "metadata": {
        "id": "xed1gBwIHeKd"
      },
      "source": [
        "##MSE_GRU"
      ]
    },
    {
      "cell_type": "markdown",
      "metadata": {
        "id": "75gtJh-dHeKd"
      },
      "source": [
        "> First Method"
      ]
    },
    {
      "cell_type": "code",
      "metadata": {
        "id": "4xYl3aTZHeKd"
      },
      "source": [
        "test_label_back= np.expand_dims(test_label, 2)"
      ],
      "execution_count": 375,
      "outputs": []
    },
    {
      "cell_type": "code",
      "metadata": {
        "colab": {
          "base_uri": "https://localhost:8080/"
        },
        "id": "vUn6MGLJHeKd",
        "outputId": "e9d6aaad-44d9-4012-f154-beb139aefc8b"
      },
      "source": [
        "y_predict_GRU.shape"
      ],
      "execution_count": 376,
      "outputs": [
        {
          "output_type": "execute_result",
          "data": {
            "text/plain": [
              "(17383, 6, 1)"
            ]
          },
          "metadata": {
            "tags": []
          },
          "execution_count": 376
        }
      ]
    },
    {
      "cell_type": "code",
      "metadata": {
        "colab": {
          "base_uri": "https://localhost:8080/"
        },
        "id": "tvNObQPqHeKe",
        "outputId": "5aee6c3b-dfb8-4c61-cdb1-dd6298f701f3"
      },
      "source": [
        "((y_predict_GRU - test_label_back)**2).mean() # MSE in temperature terms"
      ],
      "execution_count": 377,
      "outputs": [
        {
          "output_type": "execute_result",
          "data": {
            "text/plain": [
              "1.8564004773147393"
            ]
          },
          "metadata": {
            "tags": []
          },
          "execution_count": 377
        }
      ]
    },
    {
      "cell_type": "markdown",
      "metadata": {
        "id": "92AiAL9cHeKe"
      },
      "source": [
        "> Second Method "
      ]
    },
    {
      "cell_type": "markdown",
      "metadata": {
        "id": "xBsuAStuHeKf"
      },
      "source": [
        "In order to use the MSE method of sklearn we rehape it back reducing dimension. "
      ]
    },
    {
      "cell_type": "code",
      "metadata": {
        "id": "q42PaZSKHeKg"
      },
      "source": [
        "y_predict_GRU_reshaped = y_predict_LSTM.reshape(-1,6)"
      ],
      "execution_count": 378,
      "outputs": []
    },
    {
      "cell_type": "code",
      "metadata": {
        "colab": {
          "base_uri": "https://localhost:8080/"
        },
        "id": "RQCBHIQHHeKh",
        "outputId": "a90ff9f0-e430-4e15-de68-065af8ca4474"
      },
      "source": [
        "y_predict_GRU_reshaped.shape"
      ],
      "execution_count": 379,
      "outputs": [
        {
          "output_type": "execute_result",
          "data": {
            "text/plain": [
              "(17383, 6)"
            ]
          },
          "metadata": {
            "tags": []
          },
          "execution_count": 379
        }
      ]
    },
    {
      "cell_type": "code",
      "metadata": {
        "colab": {
          "base_uri": "https://localhost:8080/"
        },
        "id": "hgORu7n0HeKh",
        "outputId": "f0839eb3-b1f7-48c1-c05e-28a04c3c1a17"
      },
      "source": [
        "# The mean squared error\n",
        "print('Mean squared error: %.2f'\n",
        "      % mean_squared_error(test_label, y_predict_GRU_reshaped))\n",
        "# The coefficient of determination: 1 is perfect prediction\n",
        "print('Coefficient of determination: %.2f'\n",
        "      % r2_score(test_label, y_predict_GRU_reshaped))"
      ],
      "execution_count": 380,
      "outputs": [
        {
          "output_type": "stream",
          "text": [
            "Mean squared error: 1.93\n",
            "Coefficient of determination: 0.97\n"
          ],
          "name": "stdout"
        }
      ]
    },
    {
      "cell_type": "markdown",
      "metadata": {
        "id": "VjZQGiNAHeKi"
      },
      "source": [
        "## Plot the temp"
      ]
    },
    {
      "cell_type": "code",
      "metadata": {
        "id": "9naN0dz7HeKi"
      },
      "source": [
        "z = np.linspace(past, past+future,future)"
      ],
      "execution_count": 381,
      "outputs": []
    },
    {
      "cell_type": "code",
      "metadata": {
        "colab": {
          "base_uri": "https://localhost:8080/",
          "height": 286
        },
        "id": "h_m2PfMjHeKi",
        "outputId": "feca0502-2e0d-424b-d00a-828a265dfa18"
      },
      "source": [
        "z = np.linspace(past, past+future,future)\n",
        "plt.plot(test_temp[0])\n",
        "plt.scatter(z,test_label[0])\n",
        "plt.scatter(z,y_predict_GRU_reshaped[0])"
      ],
      "execution_count": 382,
      "outputs": [
        {
          "output_type": "execute_result",
          "data": {
            "text/plain": [
              "<matplotlib.collections.PathCollection at 0x7f350c4ce110>"
            ]
          },
          "metadata": {
            "tags": []
          },
          "execution_count": 382
        },
        {
          "output_type": "display_data",
          "data": {
            "image/png": "[encoded data removed]",
            "text/plain": [
              "<Figure size 432x288 with 1 Axes>"
            ]
          },
          "metadata": {
            "tags": [],
            "needs_background": "light"
          }
        }
      ]
    },
    {
      "cell_type": "code",
      "metadata": {
        "id": "vTd3_svRK5RI"
      },
      "source": [
        ""
      ],
      "execution_count": 382,
      "outputs": []
    },
    {
      "cell_type": "markdown",
      "metadata": {
        "id": "hvW_TxrbK5k8"
      },
      "source": [
        "# Wavenet Network"
      ]
    },
    {
      "cell_type": "code",
      "metadata": {
        "id": "h1L9c9pFQXCw"
      },
      "source": [
        ""
      ],
      "execution_count": 382,
      "outputs": []
    },
    {
      "cell_type": "code",
      "metadata": {
        "id": "WpRdnJVDK5k9"
      },
      "source": [
        "WAV_model = tf.keras.Sequential([        # 4 layers good for looking back at the 64 hrs of the data #put input shape= (None,19) for any sequence.\n",
        "    tf.keras.layers.InputLayer(input_shape=(past,1)),\n",
        "tf.keras.layers.Conv1D(filters=16,\n",
        "                           kernel_size=(2,),\n",
        "                           activation='relu',padding= 'causal' , dilation_rate = 1),\n",
        "    tf.keras.layers.Conv1D(filters=16,\n",
        "                           kernel_size=(2,),\n",
        "                           activation='relu',padding= 'causal' ,  dilation_rate = 2),\n",
        "    tf.keras.layers.Conv1D(filters=32,\n",
        "                           kernel_size=(2,),\n",
        "                           activation='relu', padding= 'causal' , dilation_rate = 4),\n",
        "     tf.keras.layers.Conv1D(filters=32,\n",
        "                           kernel_size=(past,),\n",
        "                           activation='relu' , dilation_rate = 1),\n",
        "  \n",
        "    tf.keras.layers.Dense(future,\n",
        "                          kernel_initializer=tf.initializers.zeros()),\n",
        "    # Shape => [batch, out_steps, features]\n",
        "    tf.keras.layers.Reshape([future,1])\n",
        "])"
      ],
      "execution_count": 383,
      "outputs": []
    },
    {
      "cell_type": "code",
      "metadata": {
        "colab": {
          "base_uri": "https://localhost:8080/"
        },
        "id": "NG2wk5-sK5k-",
        "outputId": "1e7d4db4-e994-443c-c5c7-ccc634e46218"
      },
      "source": [
        "WAV_model.compile(\n",
        "    loss=tf.losses.MeanSquaredError(),\n",
        "    optimizer=tf.keras.optimizers.Adam(),\n",
        "    metrics=['accuracy','mse'],\n",
        ")\n",
        "WAV_model.summary()"
      ],
      "execution_count": 384,
      "outputs": [
        {
          "output_type": "stream",
          "text": [
            "Model: \"sequential_23\"\n",
            "_________________________________________________________________\n",
            "Layer (type)                 Output Shape              Param #   \n",
            "=================================================================\n",
            "conv1d_20 (Conv1D)           (None, 12, 16)            48        \n",
            "_________________________________________________________________\n",
            "conv1d_21 (Conv1D)           (None, 12, 16)            528       \n",
            "_________________________________________________________________\n",
            "conv1d_22 (Conv1D)           (None, 12, 32)            1056      \n",
            "_________________________________________________________________\n",
            "conv1d_23 (Conv1D)           (None, 1, 32)             12320     \n",
            "_________________________________________________________________\n",
            "dense_26 (Dense)             (None, 1, 6)              198       \n",
            "_________________________________________________________________\n",
            "reshape_22 (Reshape)         (None, 6, 1)              0         \n",
            "=================================================================\n",
            "Total params: 14,150\n",
            "Trainable params: 14,150\n",
            "Non-trainable params: 0\n",
            "_________________________________________________________________\n"
          ],
          "name": "stdout"
        }
      ]
    },
    {
      "cell_type": "code",
      "metadata": {
        "colab": {
          "base_uri": "https://localhost:8080/"
        },
        "id": "9kWphobAK5k-",
        "outputId": "d9360c86-ddcc-4457-d860-ab2895bf14e8"
      },
      "source": [
        "history = WAV_model.fit(train_temp_new,train_label_new, epochs=20)"
      ],
      "execution_count": 385,
      "outputs": [
        {
          "output_type": "stream",
          "text": [
            "Epoch 1/20\n",
            "2173/2173 [==============================] - 10s 4ms/step - loss: 0.0203 - accuracy: 2.9707e-05 - mse: 0.0203\n",
            "Epoch 2/20\n",
            "2173/2173 [==============================] - 9s 4ms/step - loss: 0.0016 - accuracy: 2.4051e-05 - mse: 0.0016\n",
            "Epoch 3/20\n",
            "2173/2173 [==============================] - 9s 4ms/step - loss: 0.0014 - accuracy: 4.9400e-05 - mse: 0.0014\n",
            "Epoch 4/20\n",
            "2173/2173 [==============================] - 9s 4ms/step - loss: 0.0013 - accuracy: 2.3734e-05 - mse: 0.0013\n",
            "Epoch 5/20\n",
            "2173/2173 [==============================] - 9s 4ms/step - loss: 0.0013 - accuracy: 2.9591e-05 - mse: 0.0013\n",
            "Epoch 6/20\n",
            "2173/2173 [==============================] - 8s 4ms/step - loss: 0.0013 - accuracy: 3.2819e-05 - mse: 0.0013\n",
            "Epoch 7/20\n",
            "2173/2173 [==============================] - 9s 4ms/step - loss: 0.0012 - accuracy: 2.5957e-05 - mse: 0.0012\n",
            "Epoch 8/20\n",
            "2173/2173 [==============================] - 9s 4ms/step - loss: 0.0012 - accuracy: 1.8762e-05 - mse: 0.0012\n",
            "Epoch 9/20\n",
            "2173/2173 [==============================] - 8s 4ms/step - loss: 0.0012 - accuracy: 2.5359e-05 - mse: 0.0012\n",
            "Epoch 10/20\n",
            "2173/2173 [==============================] - 8s 4ms/step - loss: 0.0012 - accuracy: 2.5573e-05 - mse: 0.0012\n",
            "Epoch 11/20\n",
            "2173/2173 [==============================] - 8s 4ms/step - loss: 0.0012 - accuracy: 3.6338e-05 - mse: 0.0012\n",
            "Epoch 12/20\n",
            "2173/2173 [==============================] - 9s 4ms/step - loss: 0.0012 - accuracy: 2.7437e-05 - mse: 0.0012\n",
            "Epoch 13/20\n",
            "2173/2173 [==============================] - 8s 4ms/step - loss: 0.0011 - accuracy: 3.3120e-05 - mse: 0.0011\n",
            "Epoch 14/20\n",
            "2173/2173 [==============================] - 9s 4ms/step - loss: 0.0011 - accuracy: 1.8822e-05 - mse: 0.0011\n",
            "Epoch 15/20\n",
            "2173/2173 [==============================] - 8s 4ms/step - loss: 0.0011 - accuracy: 2.9446e-05 - mse: 0.0011\n",
            "Epoch 16/20\n",
            "2173/2173 [==============================] - 8s 4ms/step - loss: 0.0012 - accuracy: 3.2675e-05 - mse: 0.0012\n",
            "Epoch 17/20\n",
            "2173/2173 [==============================] - 8s 4ms/step - loss: 0.0011 - accuracy: 2.2355e-05 - mse: 0.0011\n",
            "Epoch 18/20\n",
            "2173/2173 [==============================] - 9s 4ms/step - loss: 0.0011 - accuracy: 3.0556e-05 - mse: 0.0011\n",
            "Epoch 19/20\n",
            "2173/2173 [==============================] - 9s 4ms/step - loss: 0.0011 - accuracy: 3.3478e-05 - mse: 0.0011\n",
            "Epoch 20/20\n",
            "2173/2173 [==============================] - 9s 4ms/step - loss: 0.0011 - accuracy: 1.9375e-05 - mse: 0.0011\n"
          ],
          "name": "stdout"
        }
      ]
    },
    {
      "cell_type": "code",
      "metadata": {
        "id": "zz85ah7-K5k_"
      },
      "source": [
        "WAV_model.evaluate(test_temp_new,  test_label_new, verbose=2)"
      ],
      "execution_count": null,
      "outputs": []
    },
    {
      "cell_type": "markdown",
      "metadata": {
        "id": "3Lh_KjutK5k_"
      },
      "source": [
        "## Scale back to prediction temperature"
      ]
    },
    {
      "cell_type": "code",
      "metadata": {
        "id": "P1l1YwBsK5k_"
      },
      "source": [
        "y_predict_new = WAV_model.predict(test_temp_new)"
      ],
      "execution_count": null,
      "outputs": []
    },
    {
      "cell_type": "code",
      "metadata": {
        "id": "a4pY3ekOK5lA"
      },
      "source": [
        "y_predict_new.shape"
      ],
      "execution_count": null,
      "outputs": []
    },
    {
      "cell_type": "code",
      "metadata": {
        "id": "iiW-jiDIK5lA"
      },
      "source": [
        "y_predict_WAV = train_temp_min + y_predict_new * (train_temp_max-train_temp_min)"
      ],
      "execution_count": null,
      "outputs": []
    },
    {
      "cell_type": "markdown",
      "metadata": {
        "id": "nTL3UE2QK5lA"
      },
      "source": [
        "##MSE_WAV"
      ]
    },
    {
      "cell_type": "markdown",
      "metadata": {
        "id": "M4PwZyiIK5lA"
      },
      "source": [
        "> First Method"
      ]
    },
    {
      "cell_type": "code",
      "metadata": {
        "id": "ei6wMoz8K5lB"
      },
      "source": [
        "test_label_back= np.expand_dims(test_label, 2)"
      ],
      "execution_count": null,
      "outputs": []
    },
    {
      "cell_type": "code",
      "metadata": {
        "id": "wKxZAIw7K5lB"
      },
      "source": [
        "y_predict_WAV.shape"
      ],
      "execution_count": null,
      "outputs": []
    },
    {
      "cell_type": "code",
      "metadata": {
        "id": "LKSaCZ74K5lB"
      },
      "source": [
        "((y_predict_WAV - test_label_back)**2).mean() # MSE in temperature terms"
      ],
      "execution_count": null,
      "outputs": []
    },
    {
      "cell_type": "markdown",
      "metadata": {
        "id": "tWQkEA4sK5lC"
      },
      "source": [
        "> Second Method "
      ]
    },
    {
      "cell_type": "markdown",
      "metadata": {
        "id": "62lHgNf0K5lD"
      },
      "source": [
        "In order to use the MSE method of sklearn we rehape it back reducing dimension. "
      ]
    },
    {
      "cell_type": "code",
      "metadata": {
        "id": "xWLsKo1BK5lD"
      },
      "source": [
        "y_predict_WAV_reshaped = y_predict_WAV.reshape(-1,6)"
      ],
      "execution_count": null,
      "outputs": []
    },
    {
      "cell_type": "code",
      "metadata": {
        "id": "QAjNmyfPK5lE"
      },
      "source": [
        "y_predict_WAV_reshaped.shape"
      ],
      "execution_count": null,
      "outputs": []
    },
    {
      "cell_type": "code",
      "metadata": {
        "id": "jlSmfoYFK5lE"
      },
      "source": [
        "# The mean squared error\n",
        "print('Mean squared error: %.2f'\n",
        "      % mean_squared_error(test_label, y_predict_WAV_reshaped))\n",
        "# The coefficient of determination: 1 is perfect prediction\n",
        "print('Coefficient of determination: %.2f'\n",
        "      % r2_score(test_label, y_predict_WAV_reshaped))"
      ],
      "execution_count": null,
      "outputs": []
    },
    {
      "cell_type": "markdown",
      "metadata": {
        "id": "Fd88ruaZK5lF"
      },
      "source": [
        "## Plot the temp"
      ]
    },
    {
      "cell_type": "code",
      "metadata": {
        "id": "ln0KNeoHK5lF"
      },
      "source": [
        "z = np.linspace(past, past+future,future)"
      ],
      "execution_count": null,
      "outputs": []
    },
    {
      "cell_type": "code",
      "metadata": {
        "id": "P1UCW7HPK5lG"
      },
      "source": [
        "z = np.linspace(past, past+future,future)\n",
        "plt.plot(test_temp[0])\n",
        "plt.scatter(z,test_label[0])\n",
        "plt.scatter(z,y_predict_WAV_reshaped[0])"
      ],
      "execution_count": null,
      "outputs": []
    },
    {
      "cell_type": "code",
      "metadata": {
        "id": "IgbjMOEzgKtX"
      },
      "source": [
        ""
      ],
      "execution_count": null,
      "outputs": []
    },
    {
      "cell_type": "markdown",
      "metadata": {
        "id": "cEmUEsIjgLCh"
      },
      "source": [
        "# Model comparison\n"
      ]
    },
    {
      "cell_type": "code",
      "metadata": {
        "id": "-x-4HpIogLCi"
      },
      "source": [
        "i = 2\n",
        "z = np.linspace(past, past+future,future)\n",
        "plt.plot(test_temp[i])\n",
        "#plt.scatter(z,y_predict[i], label = 'NN')\n",
        "plt.scatter(z,test_label[i], label = 'True temperature')\n",
        "#plt.scatter(z,y_persistence[i], label= 'Persistence')\n",
        "#plt.scatter(z,predict_label[i], label='Linear regression')\n",
        "plt.scatter(z,y_predict_GRU_reshaped[i], label='GRU')\n",
        "plt.scatter(z,y_predict_LSTM_reshaped[i], label='LSTM')\n",
        "plt.scatter(z,y_predict_RNN_reshaped[i], label='RNN')\n",
        "plt.scatter(z,y_predict_WAV_reshaped[i], label='WAV')\n",
        "\n",
        "plt.legend(loc='best')\n",
        "\n"
      ],
      "execution_count": null,
      "outputs": []
    },
    {
      "cell_type": "markdown",
      "metadata": {
        "id": "4Li7estpgLCj"
      },
      "source": [
        "## MSE"
      ]
    },
    {
      "cell_type": "markdown",
      "metadata": {
        "id": "NmtYobX8gLCj"
      },
      "source": [
        "> We will check how MSE grows for predicted value on time axis."
      ]
    },
    {
      "cell_type": "code",
      "metadata": {
        "id": "MjyLi1mxgLCk"
      },
      "source": [
        "def mse(predict):\n",
        "  mse = np.ones((future,))\n",
        "  for i in range(future):\n",
        "     mse[i]= np.mean((test_label[:,i]-predict[:,i])**2)\n",
        "  return mse \n",
        "   "
      ],
      "execution_count": null,
      "outputs": []
    },
    {
      "cell_type": "code",
      "metadata": {
        "id": "nPI2FEDtgLCm"
      },
      "source": [
        "#plt.plot(mse(y_predict), label = 'NN')\n",
        "#plt.plot(mse(predict_label), label = 'Linear Regression')\n",
        "#plt.plot(mse(y_persistence), label = 'Persistence')\n",
        "plt.plot(mse(y_predict_GRU_reshaped), label = 'GRU')\n",
        "plt.plot(mse(y_predict_LSTM_reshaped), label = 'LSTM')\n",
        "plt.plot(mse(y_predict_RNN_reshaped), label = 'RNN')\n",
        "plt.plot(mse(y_predict_WAV_reshaped), label = 'WAV')\n",
        "plt.legend(loc='best')"
      ],
      "execution_count": null,
      "outputs": []
    },
    {
      "cell_type": "markdown",
      "metadata": {
        "id": "NsWhLR-mhfBN"
      },
      "source": [
        "# Comparison with Baseline models"
      ]
    },
    {
      "cell_type": "code",
      "metadata": {
        "colab": {
          "base_uri": "https://localhost:8080/",
          "height": 282
        },
        "id": "kDKBOHr1hsan",
        "outputId": "6024f825-cdb5-4252-fd5f-ed079056f909"
      },
      "source": [
        "plt.plot(mse(y_predict), label = 'NN')\n",
        "plt.plot(mse(predict_label), label = 'Linear Regression')\n",
        "plt.plot(mse(y_persistence), label = 'Persistence')\n",
        "plt.plot(mse(y_predict_GRU_reshaped), label = 'GRU')\n",
        "plt.plot(mse(y_predict_LSTM_reshaped), label = 'LSTM')\n",
        "plt.plot(mse(y_predict_RNN_reshaped), label = 'RNN')\n",
        "plt.plot(mse(y_predict_WAV_reshaped), label = 'WAV')\n",
        "plt.legend(loc='best')"
      ],
      "execution_count": 401,
      "outputs": [
        {
          "output_type": "execute_result",
          "data": {
            "text/plain": [
              "<matplotlib.legend.Legend at 0x7f351d6cc610>"
            ]
          },
          "metadata": {
            "tags": []
          },
          "execution_count": 0
        },
        {
          "output_type": "display_data",
          "data": {
            "image/png": "[encoded data removed]",
            "text/plain": [
              "<Figure size 432x288 with 1 Axes>"
            ]
          },
          "metadata": {
            "tags": []
          }
        }
      ]
    },
    {
      "cell_type": "markdown",
      "metadata": {
        "id": "WwT1MW22sbir"
      },
      "source": [
        "![Unknown-3.png](data:image/png;base64,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)"
      ]
    }
  ]
}