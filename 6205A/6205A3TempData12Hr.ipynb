{
  "nbformat": 4,
  "nbformat_minor": 0,
  "metadata": {
    "colab": {
      "name": "6205A3TempData12Hr.ipynb",
      "provenance": [],
      "collapsed_sections": [],
      "authorship_tag": "ABX9TyPerLQ979HhcJQnWKEpCgEL",
      "include_colab_link": true
    },
    "kernelspec": {
      "name": "python3",
      "display_name": "Python 3"
    }
  },
  "cells": [
    {
      "cell_type": "markdown",
      "metadata": {
        "id": "view-in-github",
        "colab_type": "text"
      },
      "source": [
        "<a href=\"https://colab.research.google.com/github/Saroramath/MachineLearning/blob/main/6205A/6205A3TempData12Hr.ipynb\" target=\"_parent\"><img src=\"https://colab.research.google.com/assets/colab-badge.svg\" alt=\"Open In Colab\"/></a>"
      ]
    },
    {
      "cell_type": "markdown",
      "metadata": {
        "id": "xlC6YSAfI9-U"
      },
      "source": [
        "# Learning goals"
      ]
    },
    {
      "cell_type": "markdown",
      "metadata": {
        "id": "FB0-70PxJDB9"
      },
      "source": [
        "1. Prepare the time series data into samples.\n",
        "2. We will us primitive commands to understand the sample generation steps."
      ]
    },
    {
      "cell_type": "code",
      "metadata": {
        "colab": {
          "base_uri": "https://localhost:8080/"
        },
        "id": "gu7VuJBQTAfR",
        "outputId": "5047d147-3f64-415e-e89b-0553f90bfab3"
      },
      "source": [
        "!pip install netCDF4"
      ],
      "execution_count": 1,
      "outputs": [
        {
          "output_type": "stream",
          "text": [
            "Collecting netCDF4\n",
            "\u001b[?25l  Downloading https://files.pythonhosted.org/packages/37/56/f65978898fb8e7e5df9c67531d86eb24eb04938deae3b61dbcce12c98212/netCDF4-1.5.6-cp37-cp37m-manylinux2014_x86_64.whl (4.7MB)\n",
            "\u001b[K     |████████████████████████████████| 4.7MB 8.3MB/s \n",
            "\u001b[?25hRequirement already satisfied: numpy>=1.9 in /usr/local/lib/python3.7/dist-packages (from netCDF4) (1.19.5)\n",
            "Collecting cftime\n",
            "\u001b[?25l  Downloading https://files.pythonhosted.org/packages/41/e0/3e120cca16571c5ee3b35f1ed432c2aae5dc91e2b789e8b9c3a70e721ea0/cftime-1.4.1-cp37-cp37m-manylinux2014_x86_64.whl (313kB)\n",
            "\u001b[K     |████████████████████████████████| 317kB 42.5MB/s \n",
            "\u001b[?25hInstalling collected packages: cftime, netCDF4\n",
            "Successfully installed cftime-1.4.1 netCDF4-1.5.6\n"
          ],
          "name": "stdout"
        }
      ]
    },
    {
      "cell_type": "code",
      "metadata": {
        "id": "EuH1MnIaRjl-"
      },
      "source": [
        "from netCDF4 import Dataset\n",
        "from google.colab import drive\n",
        "import numpy as np\n",
        "import matplotlib.pyplot as plt\n",
        "import tensorflow as tf\n"
      ],
      "execution_count": 2,
      "outputs": []
    },
    {
      "cell_type": "code",
      "metadata": {
        "id": "vEYGALlJTNoz"
      },
      "source": [
        "from google.colab import files\n",
        "#uploaded = files.upload()"
      ],
      "execution_count": 3,
      "outputs": []
    },
    {
      "cell_type": "code",
      "metadata": {
        "id": "KOGGyOlyUnVb"
      },
      "source": [
        "#drive.mount('/content/gdrive')"
      ],
      "execution_count": 4,
      "outputs": []
    },
    {
      "cell_type": "markdown",
      "metadata": {
        "id": "Z75CYkXz1NeQ"
      },
      "source": [
        "> The file is too big to call as raw from github or to use upload. "
      ]
    },
    {
      "cell_type": "markdown",
      "metadata": {
        "id": "xeMBHtfTCmFH"
      },
      "source": [
        "Upload the file in sample_data directory from system."
      ]
    },
    {
      "cell_type": "code",
      "metadata": {
        "id": "LQW7R0Oo-7_V"
      },
      "source": [
        "file = '/content/sample_data/tempStJohns.nc'"
      ],
      "execution_count": 5,
      "outputs": []
    },
    {
      "cell_type": "markdown",
      "metadata": {
        "id": "bCOH74s-UJsK"
      },
      "source": [
        "# Explore the data"
      ]
    },
    {
      "cell_type": "code",
      "metadata": {
        "id": "k6Am9iu0Rtas"
      },
      "source": [
        "df = Dataset(file)"
      ],
      "execution_count": 6,
      "outputs": []
    },
    {
      "cell_type": "code",
      "metadata": {
        "colab": {
          "base_uri": "https://localhost:8080/"
        },
        "id": "sL_YLtc4_6Mc",
        "outputId": "9e7979e9-7061-41b0-d127-1b703ebe10d5"
      },
      "source": [
        "df"
      ],
      "execution_count": 7,
      "outputs": [
        {
          "output_type": "execute_result",
          "data": {
            "text/plain": [
              "<class 'netCDF4._netCDF4.Dataset'>\n",
              "root group (NETCDF3_64BIT_OFFSET data model, file format NETCDF3):\n",
              "    Conventions: CF-1.6\n",
              "    history: 2021-02-03 00:49:51 GMT by grib_to_netcdf-2.16.0: /opt/ecmwf/eccodes/bin/grib_to_netcdf -S param -o /cache/data2/adaptor.mars.internal-1612306467.0641284-4955-27-685dbd6e-9572-4267-a9a7-5a61b7e919e4.nc /cache/tmp/685dbd6e-9572-4267-a9a7-5a61b7e919e4-adaptor.mars.internal-1612306467.0646257-4955-9-tmp.grib\n",
              "    dimensions(sizes): longitude(1), latitude(1), expver(2), time(87672)\n",
              "    variables(dimensions): float32 longitude(longitude), float32 latitude(latitude), int32 expver(expver), int32 time(time), int16 t2m(time, expver, latitude, longitude)\n",
              "    groups: "
            ]
          },
          "metadata": {
            "tags": []
          },
          "execution_count": 7
        }
      ]
    },
    {
      "cell_type": "code",
      "metadata": {
        "colab": {
          "base_uri": "https://localhost:8080/"
        },
        "id": "M5MfMO8sU5__",
        "outputId": "ea06047e-1145-43b9-9b5a-01b879ddde69"
      },
      "source": [
        "df['longitude'][0] #longitude of the place"
      ],
      "execution_count": 8,
      "outputs": [
        {
          "output_type": "execute_result",
          "data": {
            "text/plain": [
              "masked_array(data=-52.75,\n",
              "             mask=False,\n",
              "       fill_value=1e+20,\n",
              "            dtype=float32)"
            ]
          },
          "metadata": {
            "tags": []
          },
          "execution_count": 8
        }
      ]
    },
    {
      "cell_type": "code",
      "metadata": {
        "colab": {
          "base_uri": "https://localhost:8080/"
        },
        "id": "wvG4OC29Z3Dq",
        "outputId": "4394c618-ac77-4966-c32f-ed1db43bd627"
      },
      "source": [
        "df['time'] # Time series units: hours since 1900-01-01 00:00:00.0"
      ],
      "execution_count": 9,
      "outputs": [
        {
          "output_type": "execute_result",
          "data": {
            "text/plain": [
              "<class 'netCDF4._netCDF4.Variable'>\n",
              "int32 time(time)\n",
              "    units: hours since 1900-01-01 00:00:00.0\n",
              "    long_name: time\n",
              "    calendar: gregorian\n",
              "unlimited dimensions: \n",
              "current shape = (87672,)\n",
              "filling on, default _FillValue of -2147483647 used"
            ]
          },
          "metadata": {
            "tags": []
          },
          "execution_count": 9
        }
      ]
    },
    {
      "cell_type": "code",
      "metadata": {
        "id": "ZzX4IqtoZA27"
      },
      "source": [
        "time = df['time'][:] #start value 973008, end value 1060679"
      ],
      "execution_count": 10,
      "outputs": []
    },
    {
      "cell_type": "code",
      "metadata": {
        "colab": {
          "base_uri": "https://localhost:8080/"
        },
        "id": "TEbfj7IAcvAa",
        "outputId": "2128c70b-a3ef-4de9-c212-54e8b27a3df0"
      },
      "source": [
        "time"
      ],
      "execution_count": 11,
      "outputs": [
        {
          "output_type": "execute_result",
          "data": {
            "text/plain": [
              "masked_array(data=[ 973008,  973009,  973010, ..., 1060677, 1060678,\n",
              "                   1060679],\n",
              "             mask=False,\n",
              "       fill_value=999999,\n",
              "            dtype=int32)"
            ]
          },
          "metadata": {
            "tags": []
          },
          "execution_count": 11
        }
      ]
    },
    {
      "cell_type": "code",
      "metadata": {
        "colab": {
          "base_uri": "https://localhost:8080/"
        },
        "id": "MHucNB65cwoj",
        "outputId": "ac039524-4b1d-40b0-93a0-89fbada7695f"
      },
      "source": [
        "time.shape"
      ],
      "execution_count": 12,
      "outputs": [
        {
          "output_type": "execute_result",
          "data": {
            "text/plain": [
              "(87672,)"
            ]
          },
          "metadata": {
            "tags": []
          },
          "execution_count": 12
        }
      ]
    },
    {
      "cell_type": "markdown",
      "metadata": {
        "id": "BjQsqwIe2AwP"
      },
      "source": [
        "> Consider columns with time data"
      ]
    },
    {
      "cell_type": "code",
      "metadata": {
        "colab": {
          "base_uri": "https://localhost:8080/"
        },
        "id": "PXOn5113ZLRb",
        "outputId": "a358e160-4dfa-4fa0-db16-de3a0c91eb2f"
      },
      "source": [
        " df['t2m'][:,0,0,0]"
      ],
      "execution_count": 13,
      "outputs": [
        {
          "output_type": "execute_result",
          "data": {
            "text/plain": [
              "masked_array(data=[272.81080791804084, 272.6567134137989,\n",
              "                   272.7837285490946, ..., --, --, --],\n",
              "             mask=[False, False, False, ...,  True,  True,  True],\n",
              "       fill_value=-32767)"
            ]
          },
          "metadata": {
            "tags": []
          },
          "execution_count": 13
        }
      ]
    },
    {
      "cell_type": "markdown",
      "metadata": {
        "id": "NmaTrYCo1-LB"
      },
      "source": [
        "> Convert to Celsius"
      ]
    },
    {
      "cell_type": "code",
      "metadata": {
        "id": "LiF0cETrSiA-"
      },
      "source": [
        "temp = df['t2m'][:,0,0,0]-273.15"
      ],
      "execution_count": 14,
      "outputs": []
    },
    {
      "cell_type": "markdown",
      "metadata": {
        "id": "55w3GiSf2fU_"
      },
      "source": [
        "> Masked arrays are arrays that may have missing or invalid entries. The numpy.ma module provides a nearly work-alike replacement for numpy that supports data arrays with masks.\n",
        "\n"
      ]
    },
    {
      "cell_type": "code",
      "metadata": {
        "colab": {
          "base_uri": "https://localhost:8080/"
        },
        "id": "MG4oMJ7LAGWa",
        "outputId": "d8eb62fd-b5dc-48e2-93d3-fd6923a036c6"
      },
      "source": [
        "temp "
      ],
      "execution_count": 15,
      "outputs": [
        {
          "output_type": "execute_result",
          "data": {
            "text/plain": [
              "masked_array(data=[-0.3391920819591405, -0.4932865862010658,\n",
              "                   -0.36627145090540125, ..., --, --, --],\n",
              "             mask=[False, False, False, ...,  True,  True,  True],\n",
              "       fill_value=-32767)"
            ]
          },
          "metadata": {
            "tags": []
          },
          "execution_count": 15
        }
      ]
    },
    {
      "cell_type": "markdown",
      "metadata": {
        "id": "Zf99GruZ3Jde"
      },
      "source": [
        " The array is masked, filled with -32767 for the missing values, mask tells us where is that happeneing."
      ]
    },
    {
      "cell_type": "code",
      "metadata": {
        "colab": {
          "base_uri": "https://localhost:8080/"
        },
        "id": "2OYt2iuGHaTQ",
        "outputId": "7b375cd4-0466-41bd-b172-120f465fd4d2"
      },
      "source": [
        "temp.data "
      ],
      "execution_count": 16,
      "outputs": [
        {
          "output_type": "execute_result",
          "data": {
            "text/plain": [
              "array([-3.39192082e-01, -4.93286586e-01, -3.66271451e-01, ...,\n",
              "       -3.27670000e+04, -3.27670000e+04, -3.27670000e+04])"
            ]
          },
          "metadata": {
            "tags": []
          },
          "execution_count": 16
        }
      ]
    },
    {
      "cell_type": "code",
      "metadata": {
        "colab": {
          "base_uri": "https://localhost:8080/"
        },
        "id": "aSdpaEECGFIJ",
        "outputId": "3f4dde4e-523a-49c0-a7cc-d8479e3ad87d"
      },
      "source": [
        "temp.shape"
      ],
      "execution_count": 17,
      "outputs": [
        {
          "output_type": "execute_result",
          "data": {
            "text/plain": [
              "(87672,)"
            ]
          },
          "metadata": {
            "tags": []
          },
          "execution_count": 17
        }
      ]
    },
    {
      "cell_type": "code",
      "metadata": {
        "colab": {
          "base_uri": "https://localhost:8080/"
        },
        "id": "7cTEcw36GPAJ",
        "outputId": "f3f108e4-8b56-4b0e-f711-ab4ef5f1e3e6"
      },
      "source": [
        "temp.mask"
      ],
      "execution_count": 18,
      "outputs": [
        {
          "output_type": "execute_result",
          "data": {
            "text/plain": [
              "array([False, False, False, ...,  True,  True,  True])"
            ]
          },
          "metadata": {
            "tags": []
          },
          "execution_count": 18
        }
      ]
    },
    {
      "cell_type": "markdown",
      "metadata": {
        "id": "DiOFH3vFDXbJ"
      },
      "source": [
        "## Rmoving masked values."
      ]
    },
    {
      "cell_type": "markdown",
      "metadata": {
        "id": "4AiZrrg4V7b-"
      },
      "source": [
        "First we check if the masked values are continuous or not."
      ]
    },
    {
      "cell_type": "code",
      "metadata": {
        "id": "A0Z4Ab1_V6oi"
      },
      "source": [
        "missing = np.where(temp.mask == True)"
      ],
      "execution_count": 19,
      "outputs": []
    },
    {
      "cell_type": "code",
      "metadata": {
        "colab": {
          "base_uri": "https://localhost:8080/"
        },
        "id": "s6BoZ-2nWvfg",
        "outputId": "43947247-559b-4fe7-8a12-ed71b8795365"
      },
      "source": [
        "missing[0][0] # The missing data is infact continuous so our time series is not broken anywhere"
      ],
      "execution_count": 20,
      "outputs": [
        {
          "output_type": "execute_result",
          "data": {
            "text/plain": [
              "86928"
            ]
          },
          "metadata": {
            "tags": []
          },
          "execution_count": 20
        }
      ]
    },
    {
      "cell_type": "code",
      "metadata": {
        "id": "tLDymdf7HApc"
      },
      "source": [
        "temp = temp[~temp.mask] #use the inverse of the mask as an index."
      ],
      "execution_count": 21,
      "outputs": []
    },
    {
      "cell_type": "code",
      "metadata": {
        "colab": {
          "base_uri": "https://localhost:8080/"
        },
        "id": "9yijNfMlHQnr",
        "outputId": "78e4d4bb-9d68-4b4a-b7fe-34ed5b4db8ce"
      },
      "source": [
        "temp.shape # This is a continuous time series for temperature."
      ],
      "execution_count": 22,
      "outputs": [
        {
          "output_type": "execute_result",
          "data": {
            "text/plain": [
              "(86928,)"
            ]
          },
          "metadata": {
            "tags": []
          },
          "execution_count": 22
        }
      ]
    },
    {
      "cell_type": "markdown",
      "metadata": {
        "id": "vGfNPxwNc0Kj"
      },
      "source": [
        "Reducing time seris to match with it"
      ]
    },
    {
      "cell_type": "code",
      "metadata": {
        "id": "W6502fRXc7mZ"
      },
      "source": [
        "time = time[:86928]"
      ],
      "execution_count": 23,
      "outputs": []
    },
    {
      "cell_type": "code",
      "metadata": {
        "colab": {
          "base_uri": "https://localhost:8080/"
        },
        "id": "W9rHjMAKdLWo",
        "outputId": "6880145c-d3ba-496b-ebd1-72e8d3593908"
      },
      "source": [
        "time.shape"
      ],
      "execution_count": 24,
      "outputs": [
        {
          "output_type": "execute_result",
          "data": {
            "text/plain": [
              "(86928,)"
            ]
          },
          "metadata": {
            "tags": []
          },
          "execution_count": 24
        }
      ]
    },
    {
      "cell_type": "markdown",
      "metadata": {
        "id": "-ZWEvZ-0c84R"
      },
      "source": [
        "Find the unique value in numpy"
      ]
    },
    {
      "cell_type": "code",
      "metadata": {
        "colab": {
          "base_uri": "https://localhost:8080/"
        },
        "id": "F14kRU1KVOZs",
        "outputId": "0398f368-dc24-4cac-b502-80369011eb40"
      },
      "source": [
        "np.unique(temp.mask) #All values are genuine now"
      ],
      "execution_count": 25,
      "outputs": [
        {
          "output_type": "execute_result",
          "data": {
            "text/plain": [
              "array([False])"
            ]
          },
          "metadata": {
            "tags": []
          },
          "execution_count": 25
        }
      ]
    },
    {
      "cell_type": "markdown",
      "metadata": {
        "id": "Nzm0Kd4eDnTG"
      },
      "source": [
        "## Plot the temperature over time."
      ]
    },
    {
      "cell_type": "markdown",
      "metadata": {
        "id": "XvpsqcxKeF-W"
      },
      "source": [
        "Plot the time series against time\n",
        "\n",
        "\n"
      ]
    },
    {
      "cell_type": "code",
      "metadata": {
        "id": "vsTvefA-s0No"
      },
      "source": [
        "number_of_years = (time-973008)/8760 "
      ],
      "execution_count": 26,
      "outputs": []
    },
    {
      "cell_type": "markdown",
      "metadata": {
        "id": "iRxAfyoqDKFr"
      },
      "source": [
        "Temperature plot over approximately 10 years"
      ]
    },
    {
      "cell_type": "code",
      "metadata": {
        "colab": {
          "base_uri": "https://localhost:8080/",
          "height": 282
        },
        "id": "hX025uRYeFl5",
        "outputId": "5e3d7186-3579-4ce6-fc89-1cea390c5468"
      },
      "source": [
        "plt.plot(number_of_years,temp)"
      ],
      "execution_count": 27,
      "outputs": [
        {
          "output_type": "execute_result",
          "data": {
            "text/plain": [
              "[<matplotlib.lines.Line2D at 0x7fbdc1751e50>]"
            ]
          },
          "metadata": {
            "tags": []
          },
          "execution_count": 27
        },
        {
          "output_type": "display_data",
          "data": {
            "image/png": "[encoded data removed]",
            "text/plain": [
              "<Figure size 432x288 with 1 Axes>"
            ]
          },
          "metadata": {
            "tags": [],
            "needs_background": "light"
          }
        }
      ]
    },
    {
      "cell_type": "markdown",
      "metadata": {
        "id": "0EW6HY0mzXQT"
      },
      "source": [
        "## Standardize the temperature"
      ]
    },
    {
      "cell_type": "code",
      "metadata": {
        "colab": {
          "base_uri": "https://localhost:8080/"
        },
        "id": "4rXEOPUetmhQ",
        "outputId": "108e7faa-a39f-4c31-ee65-b79e304f874b"
      },
      "source": [
        "temp.shape"
      ],
      "execution_count": 28,
      "outputs": [
        {
          "output_type": "execute_result",
          "data": {
            "text/plain": [
              "(86928,)"
            ]
          },
          "metadata": {
            "tags": []
          },
          "execution_count": 28
        }
      ]
    },
    {
      "cell_type": "code",
      "metadata": {
        "id": "-eP9aC_Mt7G3",
        "colab": {
          "base_uri": "https://localhost:8080/"
        },
        "outputId": "f4f3cdc6-8ac6-4b09-8a77-e98c3fb235ab"
      },
      "source": [
        "temp.mean()"
      ],
      "execution_count": 29,
      "outputs": [
        {
          "output_type": "execute_result",
          "data": {
            "text/plain": [
              "5.57589982331033"
            ]
          },
          "metadata": {
            "tags": []
          },
          "execution_count": 29
        }
      ]
    },
    {
      "cell_type": "code",
      "metadata": {
        "colab": {
          "base_uri": "https://localhost:8080/"
        },
        "id": "hqjm3Klsrh10",
        "outputId": "77494977-b463-43be-b406-f76739cc6295"
      },
      "source": [
        "temp.std()"
      ],
      "execution_count": 30,
      "outputs": [
        {
          "output_type": "execute_result",
          "data": {
            "text/plain": [
              "7.754305350561417"
            ]
          },
          "metadata": {
            "tags": []
          },
          "execution_count": 30
        }
      ]
    },
    {
      "cell_type": "code",
      "metadata": {
        "colab": {
          "base_uri": "https://localhost:8080/",
          "height": 367
        },
        "id": "xeYvQMjFrmtI",
        "outputId": "c03ab8fc-2504-4bf1-9721-700aed973ae1"
      },
      "source": [
        "plt.hist(temp)"
      ],
      "execution_count": 31,
      "outputs": [
        {
          "output_type": "execute_result",
          "data": {
            "text/plain": [
              "(array([  297.,  2100.,  6706., 15629., 17035., 14113., 12733., 11795.,\n",
              "         5601.,   919.]),\n",
              " array([-16.62485352, -12.39963379,  -8.17441406,  -3.94919434,\n",
              "          0.27602539,   4.50124512,   8.72646484,  12.95168457,\n",
              "         17.1769043 ,  21.40212402,  25.62734375]),\n",
              " <a list of 10 Patch objects>)"
            ]
          },
          "metadata": {
            "tags": []
          },
          "execution_count": 31
        },
        {
          "output_type": "display_data",
          "data": {
            "image/png": "[encoded data removed]",
            "text/plain": [
              "<Figure size 432x288 with 1 Axes>"
            ]
          },
          "metadata": {
            "tags": [],
            "needs_background": "light"
          }
        }
      ]
    },
    {
      "cell_type": "code",
      "metadata": {
        "id": "ZE61KVZrrxc0"
      },
      "source": [
        "#temp = (temp - temp.mean())/temp.std()"
      ],
      "execution_count": 32,
      "outputs": []
    },
    {
      "cell_type": "code",
      "metadata": {
        "colab": {
          "base_uri": "https://localhost:8080/"
        },
        "id": "7cdy_DhUELGl",
        "outputId": "40d67b9d-61c2-4c0d-bd33-42ba21974323"
      },
      "source": [
        "temp.mean()"
      ],
      "execution_count": 33,
      "outputs": [
        {
          "output_type": "execute_result",
          "data": {
            "text/plain": [
              "5.57589982331033"
            ]
          },
          "metadata": {
            "tags": []
          },
          "execution_count": 33
        }
      ]
    },
    {
      "cell_type": "code",
      "metadata": {
        "colab": {
          "base_uri": "https://localhost:8080/"
        },
        "id": "GNh-ICRmENdT",
        "outputId": "7e4d1822-209a-4e6d-ce2b-b1df7da5c034"
      },
      "source": [
        "temp.std()"
      ],
      "execution_count": 34,
      "outputs": [
        {
          "output_type": "execute_result",
          "data": {
            "text/plain": [
              "7.754305350561417"
            ]
          },
          "metadata": {
            "tags": []
          },
          "execution_count": 34
        }
      ]
    },
    {
      "cell_type": "code",
      "metadata": {
        "id": "otA5KK524DOm",
        "colab": {
          "base_uri": "https://localhost:8080/"
        },
        "outputId": "08477f98-ee51-481e-e9d2-667e8c8a6348"
      },
      "source": [
        "temp.max()"
      ],
      "execution_count": 35,
      "outputs": [
        {
          "output_type": "execute_result",
          "data": {
            "text/plain": [
              "25.627343750000023"
            ]
          },
          "metadata": {
            "tags": []
          },
          "execution_count": 35
        }
      ]
    },
    {
      "cell_type": "code",
      "metadata": {
        "colab": {
          "base_uri": "https://localhost:8080/"
        },
        "id": "JqaBoSov1EW_",
        "outputId": "26de19a5-f4e9-413c-a4a0-af910c9cfe39"
      },
      "source": [
        "temp.min()"
      ],
      "execution_count": 36,
      "outputs": [
        {
          "output_type": "execute_result",
          "data": {
            "text/plain": [
              "-16.624853515624977"
            ]
          },
          "metadata": {
            "tags": []
          },
          "execution_count": 36
        }
      ]
    },
    {
      "cell_type": "markdown",
      "metadata": {
        "id": "UMZUOts7s_ks"
      },
      "source": [
        "## Generate Samples"
      ]
    },
    {
      "cell_type": "markdown",
      "metadata": {
        "id": "00AHc-f4DKue"
      },
      "source": [
        "We will avoid using functions to generate smaples to understand the process."
      ]
    },
    {
      "cell_type": "markdown",
      "metadata": {
        "id": "3A1QkayuDsw1"
      },
      "source": [
        "We want the prediction model to predict the next 6 hr of data with previous 6 hrs of temp data available."
      ]
    },
    {
      "cell_type": "code",
      "metadata": {
        "colab": {
          "base_uri": "https://localhost:8080/"
        },
        "id": "VsE0ArRFDsQS",
        "outputId": "7de609a9-d844-4e32-a3ad-488605ce059c"
      },
      "source": [
        "temp[0:6]"
      ],
      "execution_count": 37,
      "outputs": [
        {
          "output_type": "execute_result",
          "data": {
            "text/plain": [
              "masked_array(data=[-0.3391920819591405, -0.4932865862010658,\n",
              "                   -0.36627145090540125, -0.1728473870034577,\n",
              "                   -0.26569093767636787, -0.4346146201507963],\n",
              "             mask=[False, False, False, False, False, False],\n",
              "       fill_value=-32767)"
            ]
          },
          "metadata": {
            "tags": []
          },
          "execution_count": 37
        }
      ]
    },
    {
      "cell_type": "markdown",
      "metadata": {
        "id": "hp5_X5rIbSd7"
      },
      "source": [
        "We make the vectors of size 6"
      ]
    },
    {
      "cell_type": "code",
      "metadata": {
        "id": "0F3XOYBqDaoz"
      },
      "source": [
        "\n"
      ],
      "execution_count": 37,
      "outputs": []
    },
    {
      "cell_type": "code",
      "metadata": {
        "id": "IbsNEq5YGgBC"
      },
      "source": [
        "future = 6\n",
        "past = 12"
      ],
      "execution_count": 38,
      "outputs": []
    },
    {
      "cell_type": "code",
      "metadata": {
        "id": "WrBV39mPGgBL"
      },
      "source": [
        "data = []\n",
        "\n",
        "for i in range(len(temp)- (future + past)  +1):\n",
        "  data.append(temp[i:i+past].data)\n",
        "data  = np.array(data) "
      ],
      "execution_count": 39,
      "outputs": []
    },
    {
      "cell_type": "code",
      "metadata": {
        "id": "IIl-SaeCGgBM"
      },
      "source": [
        "label = []\n",
        "for i in range(len(temp)- (future + past)  +1):\n",
        "  label.append(temp[i+ past:i+past + future].data)\n",
        "\n",
        "label = np.array(label)\n"
      ],
      "execution_count": 40,
      "outputs": []
    },
    {
      "cell_type": "code",
      "metadata": {
        "colab": {
          "base_uri": "https://localhost:8080/"
        },
        "id": "48h9WMgJIPQq",
        "outputId": "4f2aec1e-1b4b-4377-bb3f-bf11a90a35b9"
      },
      "source": [
        "#no of samples\n",
        "n_dataSample = len(temp)-past-future +1\n",
        "print(n_dataSample)"
      ],
      "execution_count": 41,
      "outputs": [
        {
          "output_type": "stream",
          "text": [
            "86911\n"
          ],
          "name": "stdout"
        }
      ]
    },
    {
      "cell_type": "code",
      "metadata": {
        "colab": {
          "base_uri": "https://localhost:8080/"
        },
        "id": "gFpXn8oMGgBN",
        "outputId": "5ae6147d-c7e5-446e-f51a-2b839715b5fa"
      },
      "source": [
        "data.shape"
      ],
      "execution_count": 42,
      "outputs": [
        {
          "output_type": "execute_result",
          "data": {
            "text/plain": [
              "(86911, 12)"
            ]
          },
          "metadata": {
            "tags": []
          },
          "execution_count": 42
        }
      ]
    },
    {
      "cell_type": "code",
      "metadata": {
        "colab": {
          "base_uri": "https://localhost:8080/"
        },
        "id": "FsEcuwj_GgBP",
        "outputId": "66d433c9-442b-437f-c182-0044c8e55810"
      },
      "source": [
        "label.shape"
      ],
      "execution_count": 43,
      "outputs": [
        {
          "output_type": "execute_result",
          "data": {
            "text/plain": [
              "(86911, 6)"
            ]
          },
          "metadata": {
            "tags": []
          },
          "execution_count": 43
        }
      ]
    },
    {
      "cell_type": "markdown",
      "metadata": {
        "id": "WdR0ak8-307l"
      },
      "source": [
        "> Split the samples into train and test data"
      ]
    },
    {
      "cell_type": "code",
      "metadata": {
        "id": "IYqFyO8Wiylk"
      },
      "source": [
        "temp_train_number = np.int(0.8*len(data))"
      ],
      "execution_count": 44,
      "outputs": []
    },
    {
      "cell_type": "code",
      "metadata": {
        "colab": {
          "base_uri": "https://localhost:8080/"
        },
        "id": "rtuZyWlkkGbQ",
        "outputId": "5c21810a-6080-4372-bbe8-1e360bf670fe"
      },
      "source": [
        "temp_train_number"
      ],
      "execution_count": 45,
      "outputs": [
        {
          "output_type": "execute_result",
          "data": {
            "text/plain": [
              "69528"
            ]
          },
          "metadata": {
            "tags": []
          },
          "execution_count": 45
        }
      ]
    },
    {
      "cell_type": "code",
      "metadata": {
        "id": "MuC6Bm6ckNG1"
      },
      "source": [
        "train_temp = data[:temp_train_number]"
      ],
      "execution_count": 46,
      "outputs": []
    },
    {
      "cell_type": "code",
      "metadata": {
        "colab": {
          "base_uri": "https://localhost:8080/"
        },
        "id": "T22dohhlkWRL",
        "outputId": "561f87bb-0f44-482d-fd4f-d97b4fc11531"
      },
      "source": [
        "train_temp.shape"
      ],
      "execution_count": 47,
      "outputs": [
        {
          "output_type": "execute_result",
          "data": {
            "text/plain": [
              "(69528, 12)"
            ]
          },
          "metadata": {
            "tags": []
          },
          "execution_count": 47
        }
      ]
    },
    {
      "cell_type": "code",
      "metadata": {
        "colab": {
          "base_uri": "https://localhost:8080/"
        },
        "id": "_mecrf3Olbw3",
        "outputId": "fb0bb5e6-9c41-4387-eee2-8d6102fc2c20"
      },
      "source": [
        "train_temp[temp_train_number-1]"
      ],
      "execution_count": 48,
      "outputs": [
        {
          "output_type": "execute_result",
          "data": {
            "text/plain": [
              "array([-1.99554682, -1.93300637, -1.8537025 , -1.38819526, -1.04003194,\n",
              "       -0.77310673, -0.56485349, -0.4797469 , -0.47200994, -0.68284217,\n",
              "       -0.84338414, -1.15157315])"
            ]
          },
          "metadata": {
            "tags": []
          },
          "execution_count": 48
        }
      ]
    },
    {
      "cell_type": "code",
      "metadata": {
        "id": "f1Xl_Jk8kawN"
      },
      "source": [
        "train_label = label[:temp_train_number]"
      ],
      "execution_count": 49,
      "outputs": []
    },
    {
      "cell_type": "code",
      "metadata": {
        "colab": {
          "base_uri": "https://localhost:8080/"
        },
        "id": "czfweIwskgbU",
        "outputId": "a3d9afa4-ce9c-4c0d-d7f3-b08136555fc6"
      },
      "source": [
        "train_label.shape"
      ],
      "execution_count": 50,
      "outputs": [
        {
          "output_type": "execute_result",
          "data": {
            "text/plain": [
              "(69528, 6)"
            ]
          },
          "metadata": {
            "tags": []
          },
          "execution_count": 50
        }
      ]
    },
    {
      "cell_type": "code",
      "metadata": {
        "id": "swF0pfs_kjJa"
      },
      "source": [
        "test_temp = data[temp_train_number:]"
      ],
      "execution_count": 51,
      "outputs": []
    },
    {
      "cell_type": "code",
      "metadata": {
        "id": "Ao5XV2YYlkm_"
      },
      "source": [
        "test_label = label[temp_train_number:]"
      ],
      "execution_count": 52,
      "outputs": []
    },
    {
      "cell_type": "code",
      "metadata": {
        "colab": {
          "base_uri": "https://localhost:8080/"
        },
        "id": "JfursmMulpap",
        "outputId": "9c67b798-4d97-4a3b-de42-51ef520607af"
      },
      "source": [
        "print(test_label.shape)\n",
        "print(test_temp.shape)"
      ],
      "execution_count": 53,
      "outputs": [
        {
          "output_type": "stream",
          "text": [
            "(17383, 6)\n",
            "(17383, 12)\n"
          ],
          "name": "stdout"
        }
      ]
    },
    {
      "cell_type": "code",
      "metadata": {
        "colab": {
          "base_uri": "https://localhost:8080/"
        },
        "id": "UFC8ixk6lZ9G",
        "outputId": "f83737a4-62b3-4f2a-bd39-40d1100ce713"
      },
      "source": [
        "test_temp[1].shape"
      ],
      "execution_count": 54,
      "outputs": [
        {
          "output_type": "execute_result",
          "data": {
            "text/plain": [
              "(12,)"
            ]
          },
          "metadata": {
            "tags": []
          },
          "execution_count": 54
        }
      ]
    },
    {
      "cell_type": "markdown",
      "metadata": {
        "id": "sgyLZVdnGtX5"
      },
      "source": [
        "#  Persistence Model"
      ]
    },
    {
      "cell_type": "code",
      "metadata": {
        "id": "GbP98gYzGw8K"
      },
      "source": [
        "def model_persistence(test_temp_entry):\n",
        "  arr = np.full((future,),test_temp_entry[past-1])\n",
        "\n",
        "  return arr"
      ],
      "execution_count": 55,
      "outputs": []
    },
    {
      "cell_type": "code",
      "metadata": {
        "colab": {
          "base_uri": "https://localhost:8080/"
        },
        "id": "SSDmsKs8IAF6",
        "outputId": "98c343cf-3f81-471e-9bbe-578b1bb470c3"
      },
      "source": [
        "test_temp[1]"
      ],
      "execution_count": 56,
      "outputs": [
        {
          "output_type": "execute_result",
          "data": {
            "text/plain": [
              "array([-1.8537025 , -1.38819526, -1.04003194, -0.77310673, -0.56485349,\n",
              "       -0.4797469 , -0.47200994, -0.68284217, -0.84338414, -1.15157315,\n",
              "       -1.24312721, -1.32629955])"
            ]
          },
          "metadata": {
            "tags": []
          },
          "execution_count": 56
        }
      ]
    },
    {
      "cell_type": "code",
      "metadata": {
        "colab": {
          "base_uri": "https://localhost:8080/"
        },
        "id": "g_ukdfIJHLwC",
        "outputId": "f7dd72b0-72ac-4d7a-8f49-7b8b3dc9f248"
      },
      "source": [
        "model_persistence(test_temp[1])"
      ],
      "execution_count": 57,
      "outputs": [
        {
          "output_type": "execute_result",
          "data": {
            "text/plain": [
              "array([-1.32629955, -1.32629955, -1.32629955, -1.32629955, -1.32629955,\n",
              "       -1.32629955])"
            ]
          },
          "metadata": {
            "tags": []
          },
          "execution_count": 57
        }
      ]
    },
    {
      "cell_type": "code",
      "metadata": {
        "id": "uXDZvx9yIh4c"
      },
      "source": [
        "def y_persis(test_temp):\n",
        "  arr = np.empty(test_label.shape)\n",
        "  for i in range(len(test_temp)):\n",
        "    arr[i] = model_persistence(test_temp[i])\n",
        "  return arr    "
      ],
      "execution_count": 58,
      "outputs": []
    },
    {
      "cell_type": "code",
      "metadata": {
        "colab": {
          "base_uri": "https://localhost:8080/"
        },
        "id": "ak5iT6eHLWfS",
        "outputId": "ea4d6f8b-074b-42c8-ccae-86721394d13d"
      },
      "source": [
        "test_temp.shape"
      ],
      "execution_count": 59,
      "outputs": [
        {
          "output_type": "execute_result",
          "data": {
            "text/plain": [
              "(17383, 12)"
            ]
          },
          "metadata": {
            "tags": []
          },
          "execution_count": 59
        }
      ]
    },
    {
      "cell_type": "code",
      "metadata": {
        "id": "PsRl5gc_JvRR"
      },
      "source": [
        "y_persistence = y_persis(test_temp)"
      ],
      "execution_count": 60,
      "outputs": []
    },
    {
      "cell_type": "markdown",
      "metadata": {
        "id": "N860J48I-QH_"
      },
      "source": [
        "### MSE_Persistence"
      ]
    },
    {
      "cell_type": "code",
      "metadata": {
        "id": "xDZpuZM9Pb7B"
      },
      "source": [
        "from sklearn import linear_model\n",
        "from sklearn.metrics import mean_squared_error, r2_score\n",
        "from sklearn.model_selection import train_test_split"
      ],
      "execution_count": 61,
      "outputs": []
    },
    {
      "cell_type": "code",
      "metadata": {
        "colab": {
          "base_uri": "https://localhost:8080/"
        },
        "id": "KU8c5Cm0PVjG",
        "outputId": "a9a637dd-cb4f-4c4b-f495-29eb242b1255"
      },
      "source": [
        "# The mean squared error\n",
        "print('Mean squared error: %.2f'\n",
        "      % mean_squared_error(test_label, y_persistence))\n",
        "print('Coefficient of determination: %.2f'\n",
        "      % r2_score(test_label, y_persistence))"
      ],
      "execution_count": 62,
      "outputs": [
        {
          "output_type": "stream",
          "text": [
            "Mean squared error: 2.91\n",
            "Coefficient of determination: 0.95\n"
          ],
          "name": "stdout"
        }
      ]
    },
    {
      "cell_type": "markdown",
      "metadata": {
        "id": "hBr8-kEM-bd0"
      },
      "source": [
        "### Plot the temp"
      ]
    },
    {
      "cell_type": "code",
      "metadata": {
        "colab": {
          "base_uri": "https://localhost:8080/",
          "height": 282
        },
        "id": "s83P6z6OPPoN",
        "outputId": "7903cf1b-9d4c-4002-da21-201bedd838a7"
      },
      "source": [
        "z = np.linspace(past, past+future,future)\n",
        "plt.plot(test_temp[101])\n",
        "plt.scatter(z,y_persistence[101])\n",
        "plt.scatter(z,test_label[101])"
      ],
      "execution_count": 63,
      "outputs": [
        {
          "output_type": "execute_result",
          "data": {
            "text/plain": [
              "<matplotlib.collections.PathCollection at 0x7fbdb7eabe90>"
            ]
          },
          "metadata": {
            "tags": []
          },
          "execution_count": 63
        },
        {
          "output_type": "display_data",
          "data": {
            "image/png": "[encoded data removed]",
            "text/plain": [
              "<Figure size 432x288 with 1 Axes>"
            ]
          },
          "metadata": {
            "tags": [],
            "needs_background": "light"
          }
        }
      ]
    },
    {
      "cell_type": "markdown",
      "metadata": {
        "id": "aQelxbdFB5yc"
      },
      "source": [
        "# Linear regression using Sklearn"
      ]
    },
    {
      "cell_type": "code",
      "metadata": {
        "id": "Y_YDixjmlab3"
      },
      "source": [
        "from sklearn import linear_model\n",
        "from sklearn.metrics import mean_squared_error, r2_score\n",
        "from sklearn.model_selection import train_test_split"
      ],
      "execution_count": 64,
      "outputs": []
    },
    {
      "cell_type": "code",
      "metadata": {
        "id": "PHyp_49zlab6"
      },
      "source": [
        "linear_regression = linear_model.LinearRegression()"
      ],
      "execution_count": 65,
      "outputs": []
    },
    {
      "cell_type": "code",
      "metadata": {
        "colab": {
          "base_uri": "https://localhost:8080/"
        },
        "id": "AXnSmakPlab6",
        "outputId": "203a2ef0-1407-4c76-d1fb-99236f8b737e"
      },
      "source": [
        "linear_regression.fit(train_temp, train_label)"
      ],
      "execution_count": 66,
      "outputs": [
        {
          "output_type": "execute_result",
          "data": {
            "text/plain": [
              "LinearRegression(copy_X=True, fit_intercept=True, n_jobs=None, normalize=False)"
            ]
          },
          "metadata": {
            "tags": []
          },
          "execution_count": 66
        }
      ]
    },
    {
      "cell_type": "code",
      "metadata": {
        "id": "sbI3PsBqlab7"
      },
      "source": [
        "predict_label = linear_regression.predict(test_temp)"
      ],
      "execution_count": 67,
      "outputs": []
    },
    {
      "cell_type": "markdown",
      "metadata": {
        "id": "OiyQTdng-lZV"
      },
      "source": [
        "### MSE_Linear_Regression"
      ]
    },
    {
      "cell_type": "code",
      "metadata": {
        "colab": {
          "base_uri": "https://localhost:8080/"
        },
        "id": "8bSydjDslab7",
        "outputId": "0ddb0861-71e6-489d-e9fd-3927e7e2e5d7"
      },
      "source": [
        "# The mean squared error\n",
        "print('Mean squared error: %.2f'\n",
        "      % mean_squared_error(test_label, predict_label))\n",
        "# The coefficient of determination: 1 is perfect prediction\n",
        "print('Coefficient of determination: %.2f'\n",
        "      % r2_score(test_label, predict_label))"
      ],
      "execution_count": 68,
      "outputs": [
        {
          "output_type": "stream",
          "text": [
            "Mean squared error: 2.03\n",
            "Coefficient of determination: 0.97\n"
          ],
          "name": "stdout"
        }
      ]
    },
    {
      "cell_type": "code",
      "metadata": {
        "colab": {
          "base_uri": "https://localhost:8080/",
          "height": 282
        },
        "id": "cA28QS0Klab8",
        "outputId": "23465dab-3006-44f3-f710-bb92367061dd"
      },
      "source": [
        "z = np.linspace(past, past+future,future)\n",
        "plt.plot(test_temp[101])\n",
        "plt.scatter(z,predict_label[101])\n",
        "plt.scatter(z,test_label[101])"
      ],
      "execution_count": 69,
      "outputs": [
        {
          "output_type": "execute_result",
          "data": {
            "text/plain": [
              "<matplotlib.collections.PathCollection at 0x7fbdb7e3dfd0>"
            ]
          },
          "metadata": {
            "tags": []
          },
          "execution_count": 69
        },
        {
          "output_type": "display_data",
          "data": {
            "image/png": "[encoded data removed]",
            "text/plain": [
              "<Figure size 432x288 with 1 Axes>"
            ]
          },
          "metadata": {
            "tags": [],
            "needs_background": "light"
          }
        }
      ]
    },
    {
      "cell_type": "markdown",
      "metadata": {
        "id": "xzKXduve-sxi"
      },
      "source": [
        "# Neural Network"
      ]
    },
    {
      "cell_type": "markdown",
      "metadata": {
        "id": "iU2Yf8c-lHCh"
      },
      "source": [
        "## Normalize the data"
      ]
    },
    {
      "cell_type": "code",
      "metadata": {
        "id": "woziVs3h1zuJ"
      },
      "source": [
        "train_temp_max = train_temp.max()\n",
        "train_temp_min = train_temp.min()\n",
        "\n",
        "train_temp_norm = (train_temp- train_temp_min)/(train_temp_max-train_temp_min)\n",
        "test_temp_norm = (test_temp- train_temp_min)/(train_temp_max-train_temp_min)\n",
        "\n",
        "train_label_norm = (train_label- train_temp_min)/(train_temp_max-train_temp_min)\n",
        "test_label_norm = (test_label- train_temp_min)/(train_temp_max-train_temp_min)\n",
        "\n"
      ],
      "execution_count": 70,
      "outputs": []
    },
    {
      "cell_type": "code",
      "metadata": {
        "colab": {
          "base_uri": "https://localhost:8080/"
        },
        "id": "qGtae2jG2zLB",
        "outputId": "3c465308-53f3-4422-de40-14937dc1f3fd"
      },
      "source": [
        "train_temp.max()"
      ],
      "execution_count": 71,
      "outputs": [
        {
          "output_type": "execute_result",
          "data": {
            "text/plain": [
              "25.627343750000023"
            ]
          },
          "metadata": {
            "tags": []
          },
          "execution_count": 71
        }
      ]
    },
    {
      "cell_type": "code",
      "metadata": {
        "colab": {
          "base_uri": "https://localhost:8080/"
        },
        "id": "_4y5SDPP23gB",
        "outputId": "e0fc63e7-fa00-451d-ffa8-15e44d7074cf"
      },
      "source": [
        "train_label.min()"
      ],
      "execution_count": 72,
      "outputs": [
        {
          "output_type": "execute_result",
          "data": {
            "text/plain": [
              "-16.624853515624977"
            ]
          },
          "metadata": {
            "tags": []
          },
          "execution_count": 72
        }
      ]
    },
    {
      "cell_type": "code",
      "metadata": {
        "id": "1GIhFFxSxtWu"
      },
      "source": [
        "#inp = tf.keras.layers.Input(shape=(6,))     # Sequential api\n",
        "#b = tf.keras.layers.Dense(128,activation='relu')(inp)\n",
        "##b = tf.keras.layers.Dense(128,activation='relu')(inp)\n",
        "#b = tf.keras.layers.Dense(128,activation='relu')(inp)\n",
        "#out = tf.keras.layers.Dense(6, activation='linear')(b)\n",
        "\n",
        "#model = tf.keras.models.Model(inp,out)\n",
        "#model.summary()"
      ],
      "execution_count": 73,
      "outputs": []
    },
    {
      "cell_type": "code",
      "metadata": {
        "colab": {
          "base_uri": "https://localhost:8080/",
          "height": 282
        },
        "id": "VFqROSNq7qoB",
        "outputId": "8b742a4a-415b-496f-ddda-1e835e075ee2"
      },
      "source": [
        "axis = np.linspace(0,1999,2000)\n",
        "axisy = temp[0:2000]\n",
        "plt.scatter(axis,axisy)"
      ],
      "execution_count": 74,
      "outputs": [
        {
          "output_type": "execute_result",
          "data": {
            "text/plain": [
              "<matplotlib.collections.PathCollection at 0x7fbdaddac190>"
            ]
          },
          "metadata": {
            "tags": []
          },
          "execution_count": 74
        },
        {
          "output_type": "display_data",
          "data": {
            "image/png": "[encoded data removed]",
            "text/plain": [
              "<Figure size 432x288 with 1 Axes>"
            ]
          },
          "metadata": {
            "tags": [],
            "needs_background": "light"
          }
        }
      ]
    },
    {
      "cell_type": "markdown",
      "metadata": {
        "id": "_p_eF52cMIUX"
      },
      "source": [
        "## Model"
      ]
    },
    {
      "cell_type": "code",
      "metadata": {
        "colab": {
          "base_uri": "https://localhost:8080/"
        },
        "id": "ANZh00SVFVR8",
        "outputId": "47ce8d1c-b1e4-4e15-84fd-d85b65179b59"
      },
      "source": [
        "model = tf.keras.models.Sequential([\n",
        "  \n",
        "  tf.keras.layers.Input(shape=(past,)),\n",
        "  tf.keras.layers.Dense(128,activation='relu'),\n",
        "  tf.keras.layers.Dense(128,activation='relu'),\n",
        "  tf.keras.layers.Dense(128,activation='relu'),\n",
        "  tf.keras.layers.Dense(future, activation='linear')\n",
        "])\n",
        "\n",
        "# Compile the model, i.e. associate a loss function and the chosen variant of GD\n",
        "model.compile(\n",
        "    loss=tf.losses.MeanSquaredError(),\n",
        "                optimizer=tf.optimizers.Adam(),\n",
        "                metrics=[tf.metrics.MeanAbsoluteError(),'accuracy']\n",
        ")\n",
        "\n",
        "# Summary of the model\n",
        "model.summary()"
      ],
      "execution_count": 75,
      "outputs": [
        {
          "output_type": "stream",
          "text": [
            "Model: \"sequential\"\n",
            "_________________________________________________________________\n",
            "Layer (type)                 Output Shape              Param #   \n",
            "=================================================================\n",
            "dense (Dense)                (None, 128)               1664      \n",
            "_________________________________________________________________\n",
            "dense_1 (Dense)              (None, 128)               16512     \n",
            "_________________________________________________________________\n",
            "dense_2 (Dense)              (None, 128)               16512     \n",
            "_________________________________________________________________\n",
            "dense_3 (Dense)              (None, 6)                 774       \n",
            "=================================================================\n",
            "Total params: 35,462\n",
            "Trainable params: 35,462\n",
            "Non-trainable params: 0\n",
            "_________________________________________________________________\n"
          ],
          "name": "stdout"
        }
      ]
    },
    {
      "cell_type": "code",
      "metadata": {
        "id": "ZXboj3oyFAa5"
      },
      "source": [
        "test = test_temp_norm, test_label_norm"
      ],
      "execution_count": 76,
      "outputs": []
    },
    {
      "cell_type": "code",
      "metadata": {
        "colab": {
          "base_uri": "https://localhost:8080/"
        },
        "id": "cgHmdimPHWWn",
        "outputId": "f66ec15e-1504-4a83-f68d-579717398561"
      },
      "source": [
        "hist = model.fit(train_temp_norm,train_label_norm ,batch_size=64, epochs=40,callbacks = tf.keras.callbacks.EarlyStopping(patience=5), validation_data= test)"
      ],
      "execution_count": 77,
      "outputs": [
        {
          "output_type": "stream",
          "text": [
            "Epoch 1/40\n",
            "1087/1087 [==============================] - 3s 3ms/step - loss: 0.0121 - mean_absolute_error: 0.0568 - accuracy: 0.2899 - val_loss: 0.0011 - val_mean_absolute_error: 0.0238 - val_accuracy: 0.5049\n",
            "Epoch 2/40\n",
            "1087/1087 [==============================] - 2s 2ms/step - loss: 0.0014 - mean_absolute_error: 0.0262 - accuracy: 0.4301 - val_loss: 0.0011 - val_mean_absolute_error: 0.0233 - val_accuracy: 0.4991\n",
            "Epoch 3/40\n",
            "1087/1087 [==============================] - 2s 2ms/step - loss: 0.0013 - mean_absolute_error: 0.0254 - accuracy: 0.4546 - val_loss: 0.0011 - val_mean_absolute_error: 0.0225 - val_accuracy: 0.5074\n",
            "Epoch 4/40\n",
            "1087/1087 [==============================] - 2s 2ms/step - loss: 0.0013 - mean_absolute_error: 0.0255 - accuracy: 0.4645 - val_loss: 0.0011 - val_mean_absolute_error: 0.0228 - val_accuracy: 0.5215\n",
            "Epoch 5/40\n",
            "1087/1087 [==============================] - 2s 2ms/step - loss: 0.0012 - mean_absolute_error: 0.0249 - accuracy: 0.4599 - val_loss: 0.0011 - val_mean_absolute_error: 0.0234 - val_accuracy: 0.5229\n",
            "Epoch 6/40\n",
            "1087/1087 [==============================] - 2s 2ms/step - loss: 0.0013 - mean_absolute_error: 0.0254 - accuracy: 0.4628 - val_loss: 0.0010 - val_mean_absolute_error: 0.0223 - val_accuracy: 0.5245\n",
            "Epoch 7/40\n",
            "1087/1087 [==============================] - 2s 2ms/step - loss: 0.0012 - mean_absolute_error: 0.0246 - accuracy: 0.4742 - val_loss: 0.0011 - val_mean_absolute_error: 0.0227 - val_accuracy: 0.5016\n",
            "Epoch 8/40\n",
            "1087/1087 [==============================] - 2s 2ms/step - loss: 0.0012 - mean_absolute_error: 0.0246 - accuracy: 0.4710 - val_loss: 0.0011 - val_mean_absolute_error: 0.0237 - val_accuracy: 0.5240\n",
            "Epoch 9/40\n",
            "1087/1087 [==============================] - 2s 2ms/step - loss: 0.0012 - mean_absolute_error: 0.0246 - accuracy: 0.4802 - val_loss: 0.0011 - val_mean_absolute_error: 0.0228 - val_accuracy: 0.4616\n",
            "Epoch 10/40\n",
            "1087/1087 [==============================] - 2s 2ms/step - loss: 0.0012 - mean_absolute_error: 0.0245 - accuracy: 0.4744 - val_loss: 0.0010 - val_mean_absolute_error: 0.0222 - val_accuracy: 0.5474\n",
            "Epoch 11/40\n",
            "1087/1087 [==============================] - 2s 2ms/step - loss: 0.0012 - mean_absolute_error: 0.0244 - accuracy: 0.4792 - val_loss: 0.0011 - val_mean_absolute_error: 0.0227 - val_accuracy: 0.4674\n"
          ],
          "name": "stdout"
        }
      ]
    },
    {
      "cell_type": "code",
      "metadata": {
        "colab": {
          "base_uri": "https://localhost:8080/"
        },
        "id": "tBA6pHJtzE4X",
        "outputId": "1b3b2668-c18f-4423-da3d-a3825ee698bf"
      },
      "source": [
        "test_temp"
      ],
      "execution_count": 78,
      "outputs": [
        {
          "output_type": "execute_result",
          "data": {
            "text/plain": [
              "array([[-1.93300637, -1.8537025 , -1.38819526, ..., -0.84338414,\n",
              "        -1.15157315, -1.24312721],\n",
              "       [-1.8537025 , -1.38819526, -1.04003194, ..., -1.15157315,\n",
              "        -1.24312721, -1.32629955],\n",
              "       [-1.38819526, -1.04003194, -0.77310673, ..., -1.24312721,\n",
              "        -1.32629955, -1.44493298],\n",
              "       ...,\n",
              "       [ 2.26300632,  2.15662309,  2.12567524, ...,  2.18370246,\n",
              "         2.84908124,  3.12825664],\n",
              "       [ 2.15662309,  2.12567524,  2.0921484 , ...,  2.84908124,\n",
              "         3.12825664,  3.38099741],\n",
              "       [ 2.12567524,  2.0921484 ,  2.09021416, ...,  3.12825664,\n",
              "         3.38099741,  3.79363542]])"
            ]
          },
          "metadata": {
            "tags": []
          },
          "execution_count": 78
        }
      ]
    },
    {
      "cell_type": "code",
      "metadata": {
        "id": "690uGOO0HkPf"
      },
      "source": [
        "prediction = model.predict(test_temp_norm)"
      ],
      "execution_count": 79,
      "outputs": []
    },
    {
      "cell_type": "code",
      "metadata": {
        "colab": {
          "base_uri": "https://localhost:8080/"
        },
        "id": "MVUgTcGpNKwa",
        "outputId": "25bbf47a-a89c-46e3-86b9-7dbe0575e3aa"
      },
      "source": [
        "prediction.shape"
      ],
      "execution_count": 80,
      "outputs": [
        {
          "output_type": "execute_result",
          "data": {
            "text/plain": [
              "(17383, 6)"
            ]
          },
          "metadata": {
            "tags": []
          },
          "execution_count": 80
        }
      ]
    },
    {
      "cell_type": "code",
      "metadata": {
        "colab": {
          "base_uri": "https://localhost:8080/"
        },
        "id": "dHbfItmpNNu7",
        "outputId": "30356ad3-a088-4be2-adab-005807183d98"
      },
      "source": [
        "test_label_norm.shape"
      ],
      "execution_count": 81,
      "outputs": [
        {
          "output_type": "execute_result",
          "data": {
            "text/plain": [
              "(17383, 6)"
            ]
          },
          "metadata": {
            "tags": []
          },
          "execution_count": 81
        }
      ]
    },
    {
      "cell_type": "code",
      "metadata": {
        "colab": {
          "base_uri": "https://localhost:8080/"
        },
        "id": "Fvs6KS3qJeYK",
        "outputId": "f2f684cd-c6eb-4093-8d9d-db2c1563f9ec"
      },
      "source": [
        "model.evaluate(test_temp_norm,  test_label_norm, verbose=2)"
      ],
      "execution_count": 82,
      "outputs": [
        {
          "output_type": "stream",
          "text": [
            "544/544 - 0s - loss: 0.0011 - mean_absolute_error: 0.0227 - accuracy: 0.4674\n"
          ],
          "name": "stdout"
        },
        {
          "output_type": "execute_result",
          "data": {
            "text/plain": [
              "[0.0010501774959266186, 0.022697294130921364, 0.467410683631897]"
            ]
          },
          "metadata": {
            "tags": []
          },
          "execution_count": 82
        }
      ]
    },
    {
      "cell_type": "markdown",
      "metadata": {
        "id": "3Sk3GdGEBvmw"
      },
      "source": [
        "## Scale back to prediction temperature"
      ]
    },
    {
      "cell_type": "code",
      "metadata": {
        "id": "IuZ0L9seVV66"
      },
      "source": [
        "y_predict_norm = model.predict(test_temp_norm)"
      ],
      "execution_count": 83,
      "outputs": []
    },
    {
      "cell_type": "code",
      "metadata": {
        "id": "jbsxRFIzRLXd"
      },
      "source": [
        "y_predict = train_temp_min + y_predict_norm * (train_temp_max-train_temp_min)"
      ],
      "execution_count": 84,
      "outputs": []
    },
    {
      "cell_type": "markdown",
      "metadata": {
        "id": "4nIM-gd_B6oM"
      },
      "source": [
        "##MSE_Neural_Network"
      ]
    },
    {
      "cell_type": "code",
      "metadata": {
        "colab": {
          "base_uri": "https://localhost:8080/"
        },
        "id": "KnVKF-ZLRvjZ",
        "outputId": "410cb4f3-d1be-411b-d522-d58ce46df4fe"
      },
      "source": [
        "# The mean squared error\n",
        "print('Mean squared error: %.2f'\n",
        "      % mean_squared_error(test_label, y_predict))\n",
        "# The coefficient of determination: 1 is perfect prediction\n",
        "print('Coefficient of determination: %.2f'\n",
        "      % r2_score(test_label, y_predict))"
      ],
      "execution_count": 85,
      "outputs": [
        {
          "output_type": "stream",
          "text": [
            "Mean squared error: 1.87\n",
            "Coefficient of determination: 0.97\n"
          ],
          "name": "stdout"
        }
      ]
    },
    {
      "cell_type": "markdown",
      "metadata": {
        "id": "tYOfJXHCCcdX"
      },
      "source": [
        "## Plot the temp"
      ]
    },
    {
      "cell_type": "code",
      "metadata": {
        "id": "qeivT3SnVfpw"
      },
      "source": [
        "z = np.linspace(past, past+future,future)"
      ],
      "execution_count": 86,
      "outputs": []
    },
    {
      "cell_type": "code",
      "metadata": {
        "colab": {
          "base_uri": "https://localhost:8080/"
        },
        "id": "4RMm1sxeeauK",
        "outputId": "6013a566-4d1e-45ee-9fa2-0f7763d15adb"
      },
      "source": [
        "test_temp[0]"
      ],
      "execution_count": 87,
      "outputs": [
        {
          "output_type": "execute_result",
          "data": {
            "text/plain": [
              "array([-1.93300637, -1.8537025 , -1.38819526, -1.04003194, -0.77310673,\n",
              "       -0.56485349, -0.4797469 , -0.47200994, -0.68284217, -0.84338414,\n",
              "       -1.15157315, -1.24312721])"
            ]
          },
          "metadata": {
            "tags": []
          },
          "execution_count": 87
        }
      ]
    },
    {
      "cell_type": "code",
      "metadata": {
        "colab": {
          "base_uri": "https://localhost:8080/"
        },
        "id": "aprwVcowfEGt",
        "outputId": "7f49b5e9-c8e8-4600-81cb-ac785d8cf1c6"
      },
      "source": [
        "test_label[0]"
      ],
      "execution_count": 88,
      "outputs": [
        {
          "output_type": "execute_result",
          "data": {
            "text/plain": [
              "array([-1.32629955, -1.44493298, -1.40689291, -1.32952329, -1.26891708,\n",
              "       -1.02520276])"
            ]
          },
          "metadata": {
            "tags": []
          },
          "execution_count": 88
        }
      ]
    },
    {
      "cell_type": "code",
      "metadata": {
        "colab": {
          "base_uri": "https://localhost:8080/"
        },
        "id": "38nlbEh2fp7r",
        "outputId": "ea0f75f5-9b80-4c70-f708-a19cd34ca8ad"
      },
      "source": [
        "y_predict[0]\n"
      ],
      "execution_count": 89,
      "outputs": [
        {
          "output_type": "execute_result",
          "data": {
            "text/plain": [
              "array([-1.3430233, -1.3526154, -1.3555241, -1.543087 , -1.6403952,\n",
              "       -1.7510853], dtype=float32)"
            ]
          },
          "metadata": {
            "tags": []
          },
          "execution_count": 89
        }
      ]
    },
    {
      "cell_type": "code",
      "metadata": {
        "colab": {
          "base_uri": "https://localhost:8080/",
          "height": 286
        },
        "id": "2-qp7s7RefCj",
        "outputId": "4d7aa3fa-13b8-42a4-eb6e-12e85c32aefd"
      },
      "source": [
        "z = np.linspace(past, past+future,future)\n",
        "plt.plot(test_temp[0])\n",
        "plt.scatter(z,test_label[0])\n",
        "plt.scatter(z,y_predict[0])"
      ],
      "execution_count": 90,
      "outputs": [
        {
          "output_type": "execute_result",
          "data": {
            "text/plain": [
              "<matplotlib.collections.PathCollection at 0x7fbda6b2ee10>"
            ]
          },
          "metadata": {
            "tags": []
          },
          "execution_count": 90
        },
        {
          "output_type": "display_data",
          "data": {
            "image/png": "[encoded data removed]",
            "text/plain": [
              "<Figure size 432x288 with 1 Axes>"
            ]
          },
          "metadata": {
            "tags": [],
            "needs_background": "light"
          }
        }
      ]
    },
    {
      "cell_type": "code",
      "metadata": {
        "colab": {
          "base_uri": "https://localhost:8080/",
          "height": 286
        },
        "id": "hWqjmFtzVm1Z",
        "outputId": "04a73354-992f-4a3b-dbc8-a53e394e8a35"
      },
      "source": [
        "i = 0\n",
        "plt.plot(test_temp[i])\n",
        "plt.scatter(z,y_predict[i])\n",
        "plt.scatter(z,test_label[i]) # What shappeneing is that predicted values are so large in comparison to the test amd label values that is approximately starilght line"
      ],
      "execution_count": 91,
      "outputs": [
        {
          "output_type": "execute_result",
          "data": {
            "text/plain": [
              "<matplotlib.collections.PathCollection at 0x7fbda6b65bd0>"
            ]
          },
          "metadata": {
            "tags": []
          },
          "execution_count": 91
        },
        {
          "output_type": "display_data",
          "data": {
            "image/png": "[encoded data removed]",
            "text/plain": [
              "<Figure size 432x288 with 1 Axes>"
            ]
          },
          "metadata": {
            "tags": [],
            "needs_background": "light"
          }
        }
      ]
    },
    {
      "cell_type": "code",
      "metadata": {
        "colab": {
          "base_uri": "https://localhost:8080/",
          "height": 282
        },
        "id": "qTXSS_F9WNft",
        "outputId": "fa86439b-d3b1-409b-a2c3-a0750762aa24"
      },
      "source": [
        "i = 1\n",
        "plt.plot(test_temp[i])\n",
        "plt.scatter(z,y_predict[i])\n",
        "plt.scatter(z,test_label[i])"
      ],
      "execution_count": 92,
      "outputs": [
        {
          "output_type": "execute_result",
          "data": {
            "text/plain": [
              "<matplotlib.collections.PathCollection at 0x7fbda6a66e90>"
            ]
          },
          "metadata": {
            "tags": []
          },
          "execution_count": 92
        },
        {
          "output_type": "display_data",
          "data": {
            "image/png": "[encoded data removed]",
            "text/plain": [
              "<Figure size 432x288 with 1 Axes>"
            ]
          },
          "metadata": {
            "tags": [],
            "needs_background": "light"
          }
        }
      ]
    },
    {
      "cell_type": "code",
      "metadata": {
        "colab": {
          "base_uri": "https://localhost:8080/",
          "height": 282
        },
        "id": "feEChKYmWRLH",
        "outputId": "eae94cbd-972a-485e-8264-1aa9fcccab4d"
      },
      "source": [
        "i = 2\n",
        "plt.plot(test_temp[i])\n",
        "plt.scatter(z,y_predict[i])\n",
        "plt.scatter(z,test_label[i])"
      ],
      "execution_count": 93,
      "outputs": [
        {
          "output_type": "execute_result",
          "data": {
            "text/plain": [
              "<matplotlib.collections.PathCollection at 0x7fbda92f9610>"
            ]
          },
          "metadata": {
            "tags": []
          },
          "execution_count": 93
        },
        {
          "output_type": "display_data",
          "data": {
            "image/png": "[encoded data removed]",
            "text/plain": [
              "<Figure size 432x288 with 1 Axes>"
            ]
          },
          "metadata": {
            "tags": [],
            "needs_background": "light"
          }
        }
      ]
    },
    {
      "cell_type": "code",
      "metadata": {
        "colab": {
          "base_uri": "https://localhost:8080/",
          "height": 282
        },
        "id": "Yd3VvJpwWYQ5",
        "outputId": "f10d6893-2af8-49a5-920d-baccf531a686"
      },
      "source": [
        "i = 100\n",
        "plt.plot(test_temp[i])\n",
        "plt.scatter(z,y_predict[i])\n",
        "plt.scatter(z,test_label[i])"
      ],
      "execution_count": 94,
      "outputs": [
        {
          "output_type": "execute_result",
          "data": {
            "text/plain": [
              "<matplotlib.collections.PathCollection at 0x7fbda7447690>"
            ]
          },
          "metadata": {
            "tags": []
          },
          "execution_count": 94
        },
        {
          "output_type": "display_data",
          "data": {
            "image/png": "[encoded data removed]",
            "text/plain": [
              "<Figure size 432x288 with 1 Axes>"
            ]
          },
          "metadata": {
            "tags": [],
            "needs_background": "light"
          }
        }
      ]
    },
    {
      "cell_type": "code",
      "metadata": {
        "id": "oQzGffopozNU"
      },
      "source": [
        ""
      ],
      "execution_count": 94,
      "outputs": []
    },
    {
      "cell_type": "markdown",
      "metadata": {
        "id": "rm1XhkbBo1oI"
      },
      "source": [
        "# Neural Network 2"
      ]
    },
    {
      "cell_type": "markdown",
      "metadata": {
        "id": "XDg8zLaHo1oP"
      },
      "source": [
        "## Normalize the data"
      ]
    },
    {
      "cell_type": "code",
      "metadata": {
        "id": "aFEXSKmto1oP"
      },
      "source": [
        "train_temp_max = train_temp.max()\n",
        "train_temp_min = train_temp.min()\n",
        "\n",
        "train_temp_norm = (train_temp- train_temp_min)/(train_temp_max-train_temp_min)\n",
        "test_temp_norm = (test_temp- train_temp_min)/(train_temp_max-train_temp_min)\n",
        "\n",
        "train_label_norm = (train_label- train_temp_min)/(train_temp_max-train_temp_min)\n",
        "test_label_norm = (test_label- train_temp_min)/(train_temp_max-train_temp_min)\n",
        "\n"
      ],
      "execution_count": 95,
      "outputs": []
    },
    {
      "cell_type": "code",
      "metadata": {
        "colab": {
          "base_uri": "https://localhost:8080/"
        },
        "id": "zsC9CFzbo1oU",
        "outputId": "29226490-d08e-4d0e-9e72-63538c77de9d"
      },
      "source": [
        "train_temp.max()"
      ],
      "execution_count": 96,
      "outputs": [
        {
          "output_type": "execute_result",
          "data": {
            "text/plain": [
              "25.627343750000023"
            ]
          },
          "metadata": {
            "tags": []
          },
          "execution_count": 96
        }
      ]
    },
    {
      "cell_type": "code",
      "metadata": {
        "colab": {
          "base_uri": "https://localhost:8080/"
        },
        "id": "60Rr7vSJo1oW",
        "outputId": "827afd8f-8e42-4b68-fb96-08ab0e859463"
      },
      "source": [
        "train_label.min()"
      ],
      "execution_count": 97,
      "outputs": [
        {
          "output_type": "execute_result",
          "data": {
            "text/plain": [
              "-16.624853515624977"
            ]
          },
          "metadata": {
            "tags": []
          },
          "execution_count": 97
        }
      ]
    },
    {
      "cell_type": "code",
      "metadata": {
        "id": "vCuFxskYo1oX"
      },
      "source": [
        "#inp = tf.keras.layers.Input(shape=(6,))     # Sequential api\n",
        "#b = tf.keras.layers.Dense(128,activation='relu')(inp)\n",
        "##b = tf.keras.layers.Dense(128,activation='relu')(inp)\n",
        "#b = tf.keras.layers.Dense(128,activation='relu')(inp)\n",
        "#out = tf.keras.layers.Dense(6, activation='linear')(b)\n",
        "\n",
        "#model = tf.keras.models.Model(inp,out)\n",
        "#model.summary()"
      ],
      "execution_count": 98,
      "outputs": []
    },
    {
      "cell_type": "code",
      "metadata": {
        "colab": {
          "base_uri": "https://localhost:8080/",
          "height": 282
        },
        "id": "wEnhgNQ7o1oY",
        "outputId": "487dc2f2-49e9-4043-ae26-8ed0d71951e4"
      },
      "source": [
        "axis = np.linspace(0,1999,2000)\n",
        "axisy = temp[0:2000]\n",
        "plt.scatter(axis,axisy)"
      ],
      "execution_count": 99,
      "outputs": [
        {
          "output_type": "execute_result",
          "data": {
            "text/plain": [
              "<matplotlib.collections.PathCollection at 0x7fbda9ca8a10>"
            ]
          },
          "metadata": {
            "tags": []
          },
          "execution_count": 99
        },
        {
          "output_type": "display_data",
          "data": {
            "image/png": "[encoded data removed]",
            "text/plain": [
              "<Figure size 432x288 with 1 Axes>"
            ]
          },
          "metadata": {
            "tags": [],
            "needs_background": "light"
          }
        }
      ]
    },
    {
      "cell_type": "markdown",
      "metadata": {
        "id": "YCIAJHfMo1oZ"
      },
      "source": [
        "## Model"
      ]
    },
    {
      "cell_type": "code",
      "metadata": {
        "colab": {
          "base_uri": "https://localhost:8080/"
        },
        "id": "0eLzDpu4o1oZ",
        "outputId": "f734e164-97a1-4e99-f104-d74a677257f6"
      },
      "source": [
        "model = tf.keras.models.Sequential([\n",
        "  \n",
        "  tf.keras.layers.Input(shape=(past,)),\n",
        "  tf.keras.layers.Dense(128,activation='relu'),\n",
        "  tf.keras.layers.Dense(128,activation='relu'),\n",
        "  tf.keras.layers.Dense(128,activation='relu'),\n",
        "  tf.keras.layers.Dense(future, activation='linear')\n",
        "])\n",
        "\n",
        "# Compile the model, i.e. associate a loss function and the chosen variant of GD\n",
        "model.compile(\n",
        "    loss=tf.losses.MeanSquaredError(),\n",
        "                optimizer=tf.optimizers.SGD(),\n",
        "                metrics=[tf.metrics.MeanAbsoluteError(),'accuracy']\n",
        ")\n",
        "\n",
        "# Summary of the model\n",
        "model.summary()"
      ],
      "execution_count": 100,
      "outputs": [
        {
          "output_type": "stream",
          "text": [
            "Model: \"sequential_1\"\n",
            "_________________________________________________________________\n",
            "Layer (type)                 Output Shape              Param #   \n",
            "=================================================================\n",
            "dense_4 (Dense)              (None, 128)               1664      \n",
            "_________________________________________________________________\n",
            "dense_5 (Dense)              (None, 128)               16512     \n",
            "_________________________________________________________________\n",
            "dense_6 (Dense)              (None, 128)               16512     \n",
            "_________________________________________________________________\n",
            "dense_7 (Dense)              (None, 6)                 774       \n",
            "=================================================================\n",
            "Total params: 35,462\n",
            "Trainable params: 35,462\n",
            "Non-trainable params: 0\n",
            "_________________________________________________________________\n"
          ],
          "name": "stdout"
        }
      ]
    },
    {
      "cell_type": "code",
      "metadata": {
        "id": "_iz1uxgvo1oa"
      },
      "source": [
        "test = test_temp_norm, test_label_norm"
      ],
      "execution_count": 101,
      "outputs": []
    },
    {
      "cell_type": "code",
      "metadata": {
        "colab": {
          "base_uri": "https://localhost:8080/"
        },
        "id": "-U8cFP29o1ob",
        "outputId": "b4c4faf2-9591-40d0-cd77-dc549d64881d"
      },
      "source": [
        "hist = model.fit(train_temp_norm,train_label_norm ,batch_size=64, epochs=40,callbacks = tf.keras.callbacks.EarlyStopping(patience=3), validation_data= test)"
      ],
      "execution_count": 102,
      "outputs": [
        {
          "output_type": "stream",
          "text": [
            "Epoch 1/40\n",
            "1087/1087 [==============================] - 2s 2ms/step - loss: 0.0404 - mean_absolute_error: 0.1307 - accuracy: 0.1377 - val_loss: 0.0045 - val_mean_absolute_error: 0.0535 - val_accuracy: 0.1439\n",
            "Epoch 2/40\n",
            "1087/1087 [==============================] - 2s 2ms/step - loss: 0.0045 - mean_absolute_error: 0.0527 - accuracy: 0.1477 - val_loss: 0.0037 - val_mean_absolute_error: 0.0480 - val_accuracy: 0.1474\n",
            "Epoch 3/40\n",
            "1087/1087 [==============================] - 2s 2ms/step - loss: 0.0038 - mean_absolute_error: 0.0486 - accuracy: 0.1491 - val_loss: 0.0034 - val_mean_absolute_error: 0.0459 - val_accuracy: 0.1820\n",
            "Epoch 4/40\n",
            "1087/1087 [==============================] - 2s 2ms/step - loss: 0.0035 - mean_absolute_error: 0.0465 - accuracy: 0.1670 - val_loss: 0.0032 - val_mean_absolute_error: 0.0445 - val_accuracy: 0.1643\n",
            "Epoch 5/40\n",
            "1087/1087 [==============================] - 2s 2ms/step - loss: 0.0033 - mean_absolute_error: 0.0449 - accuracy: 0.1717 - val_loss: 0.0030 - val_mean_absolute_error: 0.0432 - val_accuracy: 0.1897\n",
            "Epoch 6/40\n",
            "1087/1087 [==============================] - 2s 2ms/step - loss: 0.0032 - mean_absolute_error: 0.0437 - accuracy: 0.1951 - val_loss: 0.0029 - val_mean_absolute_error: 0.0421 - val_accuracy: 0.2321\n",
            "Epoch 7/40\n",
            "1087/1087 [==============================] - 2s 2ms/step - loss: 0.0030 - mean_absolute_error: 0.0424 - accuracy: 0.2279 - val_loss: 0.0027 - val_mean_absolute_error: 0.0408 - val_accuracy: 0.2068\n",
            "Epoch 8/40\n",
            "1087/1087 [==============================] - 2s 2ms/step - loss: 0.0029 - mean_absolute_error: 0.0412 - accuracy: 0.2053 - val_loss: 0.0026 - val_mean_absolute_error: 0.0397 - val_accuracy: 0.1990\n",
            "Epoch 9/40\n",
            "1087/1087 [==============================] - 2s 2ms/step - loss: 0.0028 - mean_absolute_error: 0.0403 - accuracy: 0.1941 - val_loss: 0.0025 - val_mean_absolute_error: 0.0387 - val_accuracy: 0.1974\n",
            "Epoch 10/40\n",
            "1087/1087 [==============================] - 2s 2ms/step - loss: 0.0027 - mean_absolute_error: 0.0393 - accuracy: 0.1965 - val_loss: 0.0024 - val_mean_absolute_error: 0.0378 - val_accuracy: 0.2049\n",
            "Epoch 11/40\n",
            "1087/1087 [==============================] - 2s 2ms/step - loss: 0.0026 - mean_absolute_error: 0.0383 - accuracy: 0.2003 - val_loss: 0.0023 - val_mean_absolute_error: 0.0370 - val_accuracy: 0.2184\n",
            "Epoch 12/40\n",
            "1087/1087 [==============================] - 2s 2ms/step - loss: 0.0025 - mean_absolute_error: 0.0377 - accuracy: 0.2059 - val_loss: 0.0022 - val_mean_absolute_error: 0.0363 - val_accuracy: 0.2344\n",
            "Epoch 13/40\n",
            "1087/1087 [==============================] - 2s 2ms/step - loss: 0.0024 - mean_absolute_error: 0.0369 - accuracy: 0.2234 - val_loss: 0.0022 - val_mean_absolute_error: 0.0355 - val_accuracy: 0.2223\n",
            "Epoch 14/40\n",
            "1087/1087 [==============================] - 2s 2ms/step - loss: 0.0023 - mean_absolute_error: 0.0360 - accuracy: 0.2264 - val_loss: 0.0021 - val_mean_absolute_error: 0.0346 - val_accuracy: 0.2580\n",
            "Epoch 15/40\n",
            "1087/1087 [==============================] - 2s 2ms/step - loss: 0.0023 - mean_absolute_error: 0.0353 - accuracy: 0.2358 - val_loss: 0.0021 - val_mean_absolute_error: 0.0342 - val_accuracy: 0.2318\n",
            "Epoch 16/40\n",
            "1087/1087 [==============================] - 2s 2ms/step - loss: 0.0022 - mean_absolute_error: 0.0346 - accuracy: 0.2451 - val_loss: 0.0020 - val_mean_absolute_error: 0.0334 - val_accuracy: 0.2607\n",
            "Epoch 17/40\n",
            "1087/1087 [==============================] - 2s 2ms/step - loss: 0.0021 - mean_absolute_error: 0.0335 - accuracy: 0.2623 - val_loss: 0.0019 - val_mean_absolute_error: 0.0324 - val_accuracy: 0.2743\n",
            "Epoch 18/40\n",
            "1087/1087 [==============================] - 2s 2ms/step - loss: 0.0020 - mean_absolute_error: 0.0329 - accuracy: 0.2619 - val_loss: 0.0019 - val_mean_absolute_error: 0.0319 - val_accuracy: 0.2780\n",
            "Epoch 19/40\n",
            "1087/1087 [==============================] - 2s 2ms/step - loss: 0.0020 - mean_absolute_error: 0.0325 - accuracy: 0.2632 - val_loss: 0.0018 - val_mean_absolute_error: 0.0314 - val_accuracy: 0.2852\n",
            "Epoch 20/40\n",
            "1087/1087 [==============================] - 2s 2ms/step - loss: 0.0019 - mean_absolute_error: 0.0320 - accuracy: 0.2708 - val_loss: 0.0018 - val_mean_absolute_error: 0.0310 - val_accuracy: 0.2731\n",
            "Epoch 21/40\n",
            "1087/1087 [==============================] - 2s 2ms/step - loss: 0.0019 - mean_absolute_error: 0.0315 - accuracy: 0.2751 - val_loss: 0.0017 - val_mean_absolute_error: 0.0305 - val_accuracy: 0.2926\n",
            "Epoch 22/40\n",
            "1087/1087 [==============================] - 2s 2ms/step - loss: 0.0019 - mean_absolute_error: 0.0310 - accuracy: 0.2832 - val_loss: 0.0017 - val_mean_absolute_error: 0.0300 - val_accuracy: 0.3295\n",
            "Epoch 23/40\n",
            "1087/1087 [==============================] - 2s 2ms/step - loss: 0.0018 - mean_absolute_error: 0.0307 - accuracy: 0.2978 - val_loss: 0.0017 - val_mean_absolute_error: 0.0297 - val_accuracy: 0.3085\n",
            "Epoch 24/40\n",
            "1087/1087 [==============================] - 2s 2ms/step - loss: 0.0018 - mean_absolute_error: 0.0302 - accuracy: 0.3051 - val_loss: 0.0016 - val_mean_absolute_error: 0.0293 - val_accuracy: 0.3277\n",
            "Epoch 25/40\n",
            "1087/1087 [==============================] - 2s 2ms/step - loss: 0.0017 - mean_absolute_error: 0.0301 - accuracy: 0.3100 - val_loss: 0.0016 - val_mean_absolute_error: 0.0290 - val_accuracy: 0.3266\n",
            "Epoch 26/40\n",
            "1087/1087 [==============================] - 2s 2ms/step - loss: 0.0017 - mean_absolute_error: 0.0298 - accuracy: 0.3207 - val_loss: 0.0016 - val_mean_absolute_error: 0.0287 - val_accuracy: 0.3365\n",
            "Epoch 27/40\n",
            "1087/1087 [==============================] - 2s 2ms/step - loss: 0.0017 - mean_absolute_error: 0.0294 - accuracy: 0.3262 - val_loss: 0.0016 - val_mean_absolute_error: 0.0285 - val_accuracy: 0.3633\n",
            "Epoch 28/40\n",
            "1087/1087 [==============================] - 2s 2ms/step - loss: 0.0017 - mean_absolute_error: 0.0292 - accuracy: 0.3434 - val_loss: 0.0015 - val_mean_absolute_error: 0.0283 - val_accuracy: 0.3529\n",
            "Epoch 29/40\n",
            "1087/1087 [==============================] - 2s 2ms/step - loss: 0.0017 - mean_absolute_error: 0.0291 - accuracy: 0.3461 - val_loss: 0.0015 - val_mean_absolute_error: 0.0280 - val_accuracy: 0.3639\n",
            "Epoch 30/40\n",
            "1087/1087 [==============================] - 2s 2ms/step - loss: 0.0016 - mean_absolute_error: 0.0288 - accuracy: 0.3556 - val_loss: 0.0015 - val_mean_absolute_error: 0.0278 - val_accuracy: 0.3896\n",
            "Epoch 31/40\n",
            "1087/1087 [==============================] - 2s 2ms/step - loss: 0.0016 - mean_absolute_error: 0.0286 - accuracy: 0.3669 - val_loss: 0.0015 - val_mean_absolute_error: 0.0276 - val_accuracy: 0.3731\n",
            "Epoch 32/40\n",
            "1087/1087 [==============================] - 2s 2ms/step - loss: 0.0016 - mean_absolute_error: 0.0284 - accuracy: 0.3653 - val_loss: 0.0015 - val_mean_absolute_error: 0.0274 - val_accuracy: 0.3853\n",
            "Epoch 33/40\n",
            "1087/1087 [==============================] - 2s 2ms/step - loss: 0.0016 - mean_absolute_error: 0.0284 - accuracy: 0.3715 - val_loss: 0.0014 - val_mean_absolute_error: 0.0274 - val_accuracy: 0.3935\n",
            "Epoch 34/40\n",
            "1087/1087 [==============================] - 2s 2ms/step - loss: 0.0016 - mean_absolute_error: 0.0282 - accuracy: 0.3817 - val_loss: 0.0014 - val_mean_absolute_error: 0.0273 - val_accuracy: 0.3906\n",
            "Epoch 35/40\n",
            "1087/1087 [==============================] - 2s 2ms/step - loss: 0.0016 - mean_absolute_error: 0.0280 - accuracy: 0.3787 - val_loss: 0.0014 - val_mean_absolute_error: 0.0270 - val_accuracy: 0.4009\n",
            "Epoch 36/40\n",
            "1087/1087 [==============================] - 2s 2ms/step - loss: 0.0015 - mean_absolute_error: 0.0279 - accuracy: 0.3823 - val_loss: 0.0014 - val_mean_absolute_error: 0.0271 - val_accuracy: 0.4037\n",
            "Epoch 37/40\n",
            "1087/1087 [==============================] - 2s 2ms/step - loss: 0.0015 - mean_absolute_error: 0.0279 - accuracy: 0.3916 - val_loss: 0.0014 - val_mean_absolute_error: 0.0269 - val_accuracy: 0.4102\n",
            "Epoch 38/40\n",
            "1087/1087 [==============================] - 2s 2ms/step - loss: 0.0015 - mean_absolute_error: 0.0278 - accuracy: 0.3945 - val_loss: 0.0014 - val_mean_absolute_error: 0.0268 - val_accuracy: 0.4189\n",
            "Epoch 39/40\n",
            "1087/1087 [==============================] - 2s 2ms/step - loss: 0.0015 - mean_absolute_error: 0.0277 - accuracy: 0.3979 - val_loss: 0.0014 - val_mean_absolute_error: 0.0267 - val_accuracy: 0.4184\n",
            "Epoch 40/40\n",
            "1087/1087 [==============================] - 2s 2ms/step - loss: 0.0015 - mean_absolute_error: 0.0276 - accuracy: 0.4029 - val_loss: 0.0014 - val_mean_absolute_error: 0.0266 - val_accuracy: 0.4174\n"
          ],
          "name": "stdout"
        }
      ]
    },
    {
      "cell_type": "code",
      "metadata": {
        "colab": {
          "base_uri": "https://localhost:8080/"
        },
        "id": "g_Jk0zWdo1oe",
        "outputId": "959d585f-1f3d-4d18-fe38-213523142924"
      },
      "source": [
        "test_temp"
      ],
      "execution_count": 103,
      "outputs": [
        {
          "output_type": "execute_result",
          "data": {
            "text/plain": [
              "array([[-1.93300637, -1.8537025 , -1.38819526, ..., -0.84338414,\n",
              "        -1.15157315, -1.24312721],\n",
              "       [-1.8537025 , -1.38819526, -1.04003194, ..., -1.15157315,\n",
              "        -1.24312721, -1.32629955],\n",
              "       [-1.38819526, -1.04003194, -0.77310673, ..., -1.24312721,\n",
              "        -1.32629955, -1.44493298],\n",
              "       ...,\n",
              "       [ 2.26300632,  2.15662309,  2.12567524, ...,  2.18370246,\n",
              "         2.84908124,  3.12825664],\n",
              "       [ 2.15662309,  2.12567524,  2.0921484 , ...,  2.84908124,\n",
              "         3.12825664,  3.38099741],\n",
              "       [ 2.12567524,  2.0921484 ,  2.09021416, ...,  3.12825664,\n",
              "         3.38099741,  3.79363542]])"
            ]
          },
          "metadata": {
            "tags": []
          },
          "execution_count": 103
        }
      ]
    },
    {
      "cell_type": "code",
      "metadata": {
        "id": "1lrOT7MBo1of"
      },
      "source": [
        "prediction = model.predict(test_temp_norm)"
      ],
      "execution_count": 104,
      "outputs": []
    },
    {
      "cell_type": "code",
      "metadata": {
        "colab": {
          "base_uri": "https://localhost:8080/"
        },
        "id": "cFu5jD7eo1og",
        "outputId": "daca636e-ee1d-43b7-8cdb-5ab7b18002e7"
      },
      "source": [
        "prediction.shape"
      ],
      "execution_count": 105,
      "outputs": [
        {
          "output_type": "execute_result",
          "data": {
            "text/plain": [
              "(17383, 6)"
            ]
          },
          "metadata": {
            "tags": []
          },
          "execution_count": 105
        }
      ]
    },
    {
      "cell_type": "code",
      "metadata": {
        "colab": {
          "base_uri": "https://localhost:8080/"
        },
        "id": "w7a3W0sio1oi",
        "outputId": "0b87bd9e-600e-469b-e6de-7a83a67e3345"
      },
      "source": [
        "test_label_norm.shape"
      ],
      "execution_count": 106,
      "outputs": [
        {
          "output_type": "execute_result",
          "data": {
            "text/plain": [
              "(17383, 6)"
            ]
          },
          "metadata": {
            "tags": []
          },
          "execution_count": 106
        }
      ]
    },
    {
      "cell_type": "code",
      "metadata": {
        "colab": {
          "base_uri": "https://localhost:8080/"
        },
        "id": "I7JTF0Vyo1oj",
        "outputId": "cb210f1a-50c5-4af6-cc17-09159fadb00a"
      },
      "source": [
        "model.evaluate(test_temp_norm,  test_label_norm, verbose=2)"
      ],
      "execution_count": 107,
      "outputs": [
        {
          "output_type": "stream",
          "text": [
            "544/544 - 0s - loss: 0.0014 - mean_absolute_error: 0.0266 - accuracy: 0.4174\n"
          ],
          "name": "stdout"
        },
        {
          "output_type": "execute_result",
          "data": {
            "text/plain": [
              "[0.0013790796510875225, 0.026606295257806778, 0.41741931438446045]"
            ]
          },
          "metadata": {
            "tags": []
          },
          "execution_count": 107
        }
      ]
    },
    {
      "cell_type": "markdown",
      "metadata": {
        "id": "20vksfzxo1ok"
      },
      "source": [
        "## Scale back to prediction temperature"
      ]
    },
    {
      "cell_type": "code",
      "metadata": {
        "id": "LLa4Vpnio1om"
      },
      "source": [
        "y_predict_norm = model.predict(test_temp_norm)"
      ],
      "execution_count": 108,
      "outputs": []
    },
    {
      "cell_type": "code",
      "metadata": {
        "id": "Sapdas0bo1om"
      },
      "source": [
        "y_predict2 = train_temp_min + y_predict_norm * (train_temp_max-train_temp_min)"
      ],
      "execution_count": 109,
      "outputs": []
    },
    {
      "cell_type": "markdown",
      "metadata": {
        "id": "b8alYOz9o1on"
      },
      "source": [
        "##MSE_Neural_Network2\n",
        "\n",
        "\n",
        "\n",
        "\n"
      ]
    },
    {
      "cell_type": "code",
      "metadata": {
        "colab": {
          "base_uri": "https://localhost:8080/"
        },
        "id": "-1qUTccfo1oo",
        "outputId": "a09f6ba6-954c-4320-9236-dc8ea2ccf5bb"
      },
      "source": [
        "# The mean squared error\n",
        "print('Mean squared error: %.2f'\n",
        "      % mean_squared_error(test_label, y_predict2))\n",
        "# The coefficient of determination: 1 is perfect prediction\n",
        "print('Coefficient of determination: %.2f'\n",
        "      % r2_score(test_label, y_predict2))"
      ],
      "execution_count": 110,
      "outputs": [
        {
          "output_type": "stream",
          "text": [
            "Mean squared error: 2.46\n",
            "Coefficient of determination: 0.96\n"
          ],
          "name": "stdout"
        }
      ]
    },
    {
      "cell_type": "markdown",
      "metadata": {
        "id": "bdh4XVmfo1op"
      },
      "source": [
        "## Plot the temp"
      ]
    },
    {
      "cell_type": "code",
      "metadata": {
        "id": "PryLkWJgo1oq"
      },
      "source": [
        "z = np.linspace(past, past+future,future)"
      ],
      "execution_count": 111,
      "outputs": []
    },
    {
      "cell_type": "code",
      "metadata": {
        "colab": {
          "base_uri": "https://localhost:8080/"
        },
        "id": "rPphXEu7o1or",
        "outputId": "1c9e3bd1-5b78-40ab-a9f9-64db8b389941"
      },
      "source": [
        "test_temp[0]"
      ],
      "execution_count": 112,
      "outputs": [
        {
          "output_type": "execute_result",
          "data": {
            "text/plain": [
              "array([-1.93300637, -1.8537025 , -1.38819526, -1.04003194, -0.77310673,\n",
              "       -0.56485349, -0.4797469 , -0.47200994, -0.68284217, -0.84338414,\n",
              "       -1.15157315, -1.24312721])"
            ]
          },
          "metadata": {
            "tags": []
          },
          "execution_count": 112
        }
      ]
    },
    {
      "cell_type": "code",
      "metadata": {
        "colab": {
          "base_uri": "https://localhost:8080/"
        },
        "id": "WWcXsLQxo1or",
        "outputId": "36d8ff82-606f-43b2-857a-09daa375edf7"
      },
      "source": [
        "test_label[0]"
      ],
      "execution_count": 113,
      "outputs": [
        {
          "output_type": "execute_result",
          "data": {
            "text/plain": [
              "array([-1.32629955, -1.44493298, -1.40689291, -1.32952329, -1.26891708,\n",
              "       -1.02520276])"
            ]
          },
          "metadata": {
            "tags": []
          },
          "execution_count": 113
        }
      ]
    },
    {
      "cell_type": "code",
      "metadata": {
        "colab": {
          "base_uri": "https://localhost:8080/"
        },
        "id": "LzqCEIrUo1os",
        "outputId": "ac7d171e-f831-45ac-c1bc-7fa5f910d33b"
      },
      "source": [
        "y_predict2[0]\n"
      ],
      "execution_count": 114,
      "outputs": [
        {
          "output_type": "execute_result",
          "data": {
            "text/plain": [
              "array([-1.474472 , -1.5684814, -1.4621067, -1.5065956, -1.4940643,\n",
              "       -1.3902092], dtype=float32)"
            ]
          },
          "metadata": {
            "tags": []
          },
          "execution_count": 114
        }
      ]
    },
    {
      "cell_type": "code",
      "metadata": {
        "colab": {
          "base_uri": "https://localhost:8080/",
          "height": 286
        },
        "id": "z5xoDpa5o1ot",
        "outputId": "f4d746b1-5b81-425b-86af-d2c301e8dada"
      },
      "source": [
        "z = np.linspace(past, past+future,future)\n",
        "plt.plot(test_temp[0])\n",
        "plt.scatter(z,test_label[0])\n",
        "plt.scatter(z,y_predict2[0])"
      ],
      "execution_count": 115,
      "outputs": [
        {
          "output_type": "execute_result",
          "data": {
            "text/plain": [
              "<matplotlib.collections.PathCollection at 0x7fbda5f3ce50>"
            ]
          },
          "metadata": {
            "tags": []
          },
          "execution_count": 115
        },
        {
          "output_type": "display_data",
          "data": {
            "image/png": "[encoded data removed]",
            "text/plain": [
              "<Figure size 432x288 with 1 Axes>"
            ]
          },
          "metadata": {
            "tags": [],
            "needs_background": "light"
          }
        }
      ]
    },
    {
      "cell_type": "code",
      "metadata": {
        "colab": {
          "base_uri": "https://localhost:8080/",
          "height": 286
        },
        "id": "IWe4W_roo1ov",
        "outputId": "9ec2789f-4522-40d7-c8e3-5208eb37520c"
      },
      "source": [
        "i = 0\n",
        "plt.plot(test_temp[i])\n",
        "plt.scatter(z,y_predict2[i])\n",
        "plt.scatter(z,test_label[i]) # What shappeneing is that predicted values are so large in comparison to the test amd label values that is approximately starilght line"
      ],
      "execution_count": 116,
      "outputs": [
        {
          "output_type": "execute_result",
          "data": {
            "text/plain": [
              "<matplotlib.collections.PathCollection at 0x7fbda5e90b90>"
            ]
          },
          "metadata": {
            "tags": []
          },
          "execution_count": 116
        },
        {
          "output_type": "display_data",
          "data": {
            "image/png": "[encoded data removed]",
            "text/plain": [
              "<Figure size 432x288 with 1 Axes>"
            ]
          },
          "metadata": {
            "tags": [],
            "needs_background": "light"
          }
        }
      ]
    },
    {
      "cell_type": "code",
      "metadata": {
        "colab": {
          "base_uri": "https://localhost:8080/",
          "height": 282
        },
        "id": "94hQZaJmo1ow",
        "outputId": "aaee1bc6-493f-4cfc-a297-c70a0f6aed9f"
      },
      "source": [
        "i = 1\n",
        "plt.plot(test_temp[i])\n",
        "plt.scatter(z,y_predict2[i])\n",
        "plt.scatter(z,test_label[i])"
      ],
      "execution_count": 117,
      "outputs": [
        {
          "output_type": "execute_result",
          "data": {
            "text/plain": [
              "<matplotlib.collections.PathCollection at 0x7fbda5e13e90>"
            ]
          },
          "metadata": {
            "tags": []
          },
          "execution_count": 117
        },
        {
          "output_type": "display_data",
          "data": {
            "image/png": "[encoded data removed]",
            "text/plain": [
              "<Figure size 432x288 with 1 Axes>"
            ]
          },
          "metadata": {
            "tags": [],
            "needs_background": "light"
          }
        }
      ]
    },
    {
      "cell_type": "code",
      "metadata": {
        "colab": {
          "base_uri": "https://localhost:8080/",
          "height": 282
        },
        "id": "p6FBltCLo1ox",
        "outputId": "b7b9dc7a-8168-4cb6-cfc2-3de7329b262a"
      },
      "source": [
        "i = 2\n",
        "plt.plot(test_temp[i])\n",
        "plt.scatter(z,y_predict2[i])\n",
        "plt.scatter(z,test_label[i])"
      ],
      "execution_count": 118,
      "outputs": [
        {
          "output_type": "execute_result",
          "data": {
            "text/plain": [
              "<matplotlib.collections.PathCollection at 0x7fbda5d92590>"
            ]
          },
          "metadata": {
            "tags": []
          },
          "execution_count": 118
        },
        {
          "output_type": "display_data",
          "data": {
            "image/png": "[encoded data removed]",
            "text/plain": [
              "<Figure size 432x288 with 1 Axes>"
            ]
          },
          "metadata": {
            "tags": [],
            "needs_background": "light"
          }
        }
      ]
    },
    {
      "cell_type": "code",
      "metadata": {
        "colab": {
          "base_uri": "https://localhost:8080/",
          "height": 282
        },
        "id": "Bf5pEQ-Io1oy",
        "outputId": "535bd426-5c09-4a50-9d08-7a5047883481"
      },
      "source": [
        "i = 100\n",
        "plt.plot(test_temp[i])\n",
        "plt.scatter(z,y_predict2[i])\n",
        "plt.scatter(z,test_label[i])"
      ],
      "execution_count": 119,
      "outputs": [
        {
          "output_type": "execute_result",
          "data": {
            "text/plain": [
              "<matplotlib.collections.PathCollection at 0x7fbda5d85690>"
            ]
          },
          "metadata": {
            "tags": []
          },
          "execution_count": 119
        },
        {
          "output_type": "display_data",
          "data": {
            "image/png": "[encoded data removed]",
            "text/plain": [
              "<Figure size 432x288 with 1 Axes>"
            ]
          },
          "metadata": {
            "tags": [],
            "needs_background": "light"
          }
        }
      ]
    },
    {
      "cell_type": "code",
      "metadata": {
        "id": "GVQ-JHUTu5d5"
      },
      "source": [
        ""
      ],
      "execution_count": 119,
      "outputs": []
    },
    {
      "cell_type": "markdown",
      "metadata": {
        "id": "BbUJAzWCu60V"
      },
      "source": [
        "# Neural Network 3"
      ]
    },
    {
      "cell_type": "markdown",
      "metadata": {
        "id": "Nvf5sTYVu60b"
      },
      "source": [
        "## Normalize the data"
      ]
    },
    {
      "cell_type": "code",
      "metadata": {
        "id": "111w9Ta7u60c"
      },
      "source": [
        "train_temp_max = train_temp.max()\n",
        "train_temp_min = train_temp.min()\n",
        "\n",
        "train_temp_norm = (train_temp- train_temp_min)/(train_temp_max-train_temp_min)\n",
        "test_temp_norm = (test_temp- train_temp_min)/(train_temp_max-train_temp_min)\n",
        "\n",
        "train_label_norm = (train_label- train_temp_min)/(train_temp_max-train_temp_min)\n",
        "test_label_norm = (test_label- train_temp_min)/(train_temp_max-train_temp_min)\n",
        "\n"
      ],
      "execution_count": 120,
      "outputs": []
    },
    {
      "cell_type": "code",
      "metadata": {
        "colab": {
          "base_uri": "https://localhost:8080/"
        },
        "id": "4hVUR3OEu60d",
        "outputId": "a1936a95-2797-41ac-9f87-a0d45daf3559"
      },
      "source": [
        "train_temp.max()"
      ],
      "execution_count": 121,
      "outputs": [
        {
          "output_type": "execute_result",
          "data": {
            "text/plain": [
              "25.627343750000023"
            ]
          },
          "metadata": {
            "tags": []
          },
          "execution_count": 121
        }
      ]
    },
    {
      "cell_type": "code",
      "metadata": {
        "colab": {
          "base_uri": "https://localhost:8080/"
        },
        "id": "KgBhVb0Xu60e",
        "outputId": "aef7a743-a9a3-45dd-9efd-f812e747a8a8"
      },
      "source": [
        "train_label.min()"
      ],
      "execution_count": 122,
      "outputs": [
        {
          "output_type": "execute_result",
          "data": {
            "text/plain": [
              "-16.624853515624977"
            ]
          },
          "metadata": {
            "tags": []
          },
          "execution_count": 122
        }
      ]
    },
    {
      "cell_type": "code",
      "metadata": {
        "id": "LOX0kqpbu60f"
      },
      "source": [
        "#inp = tf.keras.layers.Input(shape=(6,))     # Sequential api\n",
        "#b = tf.keras.layers.Dense(128,activation='relu')(inp)\n",
        "##b = tf.keras.layers.Dense(128,activation='relu')(inp)\n",
        "#b = tf.keras.layers.Dense(128,activation='relu')(inp)\n",
        "#out = tf.keras.layers.Dense(6, activation='linear')(b)\n",
        "\n",
        "#model = tf.keras.models.Model(inp,out)\n",
        "#model.summary()"
      ],
      "execution_count": 123,
      "outputs": []
    },
    {
      "cell_type": "code",
      "metadata": {
        "colab": {
          "base_uri": "https://localhost:8080/",
          "height": 282
        },
        "id": "Z5IK3w5Fu60g",
        "outputId": "792aeaa5-d935-4e16-b93c-a2a443397615"
      },
      "source": [
        "axis = np.linspace(0,1999,2000)\n",
        "axisy = temp[0:2000]\n",
        "plt.scatter(axis,axisy)"
      ],
      "execution_count": 124,
      "outputs": [
        {
          "output_type": "execute_result",
          "data": {
            "text/plain": [
              "<matplotlib.collections.PathCollection at 0x7fbda5ceacd0>"
            ]
          },
          "metadata": {
            "tags": []
          },
          "execution_count": 124
        },
        {
          "output_type": "display_data",
          "data": {
            "image/png": "[encoded data removed]",
            "text/plain": [
              "<Figure size 432x288 with 1 Axes>"
            ]
          },
          "metadata": {
            "tags": [],
            "needs_background": "light"
          }
        }
      ]
    },
    {
      "cell_type": "markdown",
      "metadata": {
        "id": "L9tl93q-u60h"
      },
      "source": [
        "## Model"
      ]
    },
    {
      "cell_type": "code",
      "metadata": {
        "colab": {
          "base_uri": "https://localhost:8080/"
        },
        "id": "hyfXtAWku60i",
        "outputId": "ceb3589d-5cd0-4e1a-df3a-54731d363ad9"
      },
      "source": [
        "model = tf.keras.models.Sequential([\n",
        "  \n",
        "  tf.keras.layers.Input(shape=(past,)),\n",
        "  tf.keras.layers.Dense(128,activation='tanh'),\n",
        "  tf.keras.layers.Dense(128,activation='tanh'),\n",
        "  tf.keras.layers.Dense(128,activation='tanh'),\n",
        "  tf.keras.layers.Dense(future, activation='linear')\n",
        "])\n",
        "\n",
        "# Compile the model, i.e. associate a loss function and the chosen variant of GD\n",
        "model.compile(\n",
        "    loss=tf.losses.MeanSquaredError(),\n",
        "                optimizer=tf.optimizers.Adam(),\n",
        "                metrics=[tf.metrics.MeanAbsoluteError(),'accuracy']\n",
        ")\n",
        "\n",
        "# Summary of the model\n",
        "model.summary()"
      ],
      "execution_count": 125,
      "outputs": [
        {
          "output_type": "stream",
          "text": [
            "Model: \"sequential_2\"\n",
            "_________________________________________________________________\n",
            "Layer (type)                 Output Shape              Param #   \n",
            "=================================================================\n",
            "dense_8 (Dense)              (None, 128)               1664      \n",
            "_________________________________________________________________\n",
            "dense_9 (Dense)              (None, 128)               16512     \n",
            "_________________________________________________________________\n",
            "dense_10 (Dense)             (None, 128)               16512     \n",
            "_________________________________________________________________\n",
            "dense_11 (Dense)             (None, 6)                 774       \n",
            "=================================================================\n",
            "Total params: 35,462\n",
            "Trainable params: 35,462\n",
            "Non-trainable params: 0\n",
            "_________________________________________________________________\n"
          ],
          "name": "stdout"
        }
      ]
    },
    {
      "cell_type": "code",
      "metadata": {
        "id": "4L_bBN3Au60j"
      },
      "source": [
        "test = test_temp_norm, test_label_norm"
      ],
      "execution_count": 126,
      "outputs": []
    },
    {
      "cell_type": "code",
      "metadata": {
        "colab": {
          "base_uri": "https://localhost:8080/"
        },
        "id": "PqyohDKKu60j",
        "outputId": "4c4665ef-1d0d-4984-d688-6c072c7cf052"
      },
      "source": [
        "hist = model.fit(train_temp_norm,train_label_norm ,batch_size=64, epochs=40,callbacks = tf.keras.callbacks.EarlyStopping(patience=3), validation_data= test)"
      ],
      "execution_count": 127,
      "outputs": [
        {
          "output_type": "stream",
          "text": [
            "Epoch 1/40\n",
            "1087/1087 [==============================] - 3s 2ms/step - loss: 0.0067 - mean_absolute_error: 0.0468 - accuracy: 0.3323 - val_loss: 0.0013 - val_mean_absolute_error: 0.0266 - val_accuracy: 0.2541\n",
            "Epoch 2/40\n",
            "1087/1087 [==============================] - 2s 2ms/step - loss: 0.0015 - mean_absolute_error: 0.0273 - accuracy: 0.3652 - val_loss: 0.0013 - val_mean_absolute_error: 0.0254 - val_accuracy: 0.4284\n",
            "Epoch 3/40\n",
            "1087/1087 [==============================] - 2s 2ms/step - loss: 0.0014 - mean_absolute_error: 0.0269 - accuracy: 0.3615 - val_loss: 0.0015 - val_mean_absolute_error: 0.0291 - val_accuracy: 0.4995\n",
            "Epoch 4/40\n",
            "1087/1087 [==============================] - 2s 2ms/step - loss: 0.0014 - mean_absolute_error: 0.0265 - accuracy: 0.3668 - val_loss: 0.0017 - val_mean_absolute_error: 0.0319 - val_accuracy: 0.2757\n",
            "Epoch 5/40\n",
            "1087/1087 [==============================] - 2s 2ms/step - loss: 0.0014 - mean_absolute_error: 0.0265 - accuracy: 0.3860 - val_loss: 0.0012 - val_mean_absolute_error: 0.0259 - val_accuracy: 0.4343\n",
            "Epoch 6/40\n",
            "1087/1087 [==============================] - 2s 2ms/step - loss: 0.0013 - mean_absolute_error: 0.0257 - accuracy: 0.3804 - val_loss: 0.0012 - val_mean_absolute_error: 0.0244 - val_accuracy: 0.3037\n",
            "Epoch 7/40\n",
            "1087/1087 [==============================] - 2s 2ms/step - loss: 0.0014 - mean_absolute_error: 0.0264 - accuracy: 0.3702 - val_loss: 0.0011 - val_mean_absolute_error: 0.0230 - val_accuracy: 0.4497\n",
            "Epoch 8/40\n",
            "1087/1087 [==============================] - 2s 2ms/step - loss: 0.0013 - mean_absolute_error: 0.0261 - accuracy: 0.3942 - val_loss: 0.0011 - val_mean_absolute_error: 0.0235 - val_accuracy: 0.4812\n",
            "Epoch 9/40\n",
            "1087/1087 [==============================] - 2s 2ms/step - loss: 0.0013 - mean_absolute_error: 0.0259 - accuracy: 0.3963 - val_loss: 0.0011 - val_mean_absolute_error: 0.0234 - val_accuracy: 0.4622\n",
            "Epoch 10/40\n",
            "1087/1087 [==============================] - 2s 2ms/step - loss: 0.0013 - mean_absolute_error: 0.0256 - accuracy: 0.3973 - val_loss: 0.0014 - val_mean_absolute_error: 0.0269 - val_accuracy: 0.3071\n"
          ],
          "name": "stdout"
        }
      ]
    },
    {
      "cell_type": "code",
      "metadata": {
        "colab": {
          "base_uri": "https://localhost:8080/"
        },
        "id": "KCS0Do1cu60k",
        "outputId": "6ac3c350-01dd-4f40-e20f-a8282b99fb7e"
      },
      "source": [
        "test_temp"
      ],
      "execution_count": 128,
      "outputs": [
        {
          "output_type": "execute_result",
          "data": {
            "text/plain": [
              "array([[-1.93300637, -1.8537025 , -1.38819526, ..., -0.84338414,\n",
              "        -1.15157315, -1.24312721],\n",
              "       [-1.8537025 , -1.38819526, -1.04003194, ..., -1.15157315,\n",
              "        -1.24312721, -1.32629955],\n",
              "       [-1.38819526, -1.04003194, -0.77310673, ..., -1.24312721,\n",
              "        -1.32629955, -1.44493298],\n",
              "       ...,\n",
              "       [ 2.26300632,  2.15662309,  2.12567524, ...,  2.18370246,\n",
              "         2.84908124,  3.12825664],\n",
              "       [ 2.15662309,  2.12567524,  2.0921484 , ...,  2.84908124,\n",
              "         3.12825664,  3.38099741],\n",
              "       [ 2.12567524,  2.0921484 ,  2.09021416, ...,  3.12825664,\n",
              "         3.38099741,  3.79363542]])"
            ]
          },
          "metadata": {
            "tags": []
          },
          "execution_count": 128
        }
      ]
    },
    {
      "cell_type": "code",
      "metadata": {
        "id": "trtQdbZGu60l"
      },
      "source": [
        "prediction = model.predict(test_temp_norm)"
      ],
      "execution_count": 129,
      "outputs": []
    },
    {
      "cell_type": "code",
      "metadata": {
        "colab": {
          "base_uri": "https://localhost:8080/"
        },
        "id": "A0-fptqFu60l",
        "outputId": "3cdc19b9-be11-4f9b-8e10-26e6b97ace0d"
      },
      "source": [
        "prediction.shape"
      ],
      "execution_count": 130,
      "outputs": [
        {
          "output_type": "execute_result",
          "data": {
            "text/plain": [
              "(17383, 6)"
            ]
          },
          "metadata": {
            "tags": []
          },
          "execution_count": 130
        }
      ]
    },
    {
      "cell_type": "code",
      "metadata": {
        "colab": {
          "base_uri": "https://localhost:8080/"
        },
        "id": "q27M5wEHu60m",
        "outputId": "08adb4bc-0c58-44c2-d196-1e7c06c08578"
      },
      "source": [
        "test_label_norm.shape"
      ],
      "execution_count": 131,
      "outputs": [
        {
          "output_type": "execute_result",
          "data": {
            "text/plain": [
              "(17383, 6)"
            ]
          },
          "metadata": {
            "tags": []
          },
          "execution_count": 131
        }
      ]
    },
    {
      "cell_type": "code",
      "metadata": {
        "colab": {
          "base_uri": "https://localhost:8080/"
        },
        "id": "OTkMs_3_u60m",
        "outputId": "f9c2321b-64d2-4a57-f284-4ba5c442fd58"
      },
      "source": [
        "model.evaluate(test_temp_norm,  test_label_norm, verbose=2)"
      ],
      "execution_count": 132,
      "outputs": [
        {
          "output_type": "stream",
          "text": [
            "544/544 - 0s - loss: 0.0014 - mean_absolute_error: 0.0269 - accuracy: 0.3071\n"
          ],
          "name": "stdout"
        },
        {
          "output_type": "execute_result",
          "data": {
            "text/plain": [
              "[0.0013579888036474586, 0.026909122243523598, 0.3070816397666931]"
            ]
          },
          "metadata": {
            "tags": []
          },
          "execution_count": 132
        }
      ]
    },
    {
      "cell_type": "markdown",
      "metadata": {
        "id": "PVMZ4tnfu60n"
      },
      "source": [
        "## Scale back to prediction temperature"
      ]
    },
    {
      "cell_type": "code",
      "metadata": {
        "id": "l4vF5imAu60o"
      },
      "source": [
        "y_predict_norm = model.predict(test_temp_norm)"
      ],
      "execution_count": 133,
      "outputs": []
    },
    {
      "cell_type": "code",
      "metadata": {
        "id": "GUlXHF4uu60o"
      },
      "source": [
        "y_predict3 = train_temp_min + y_predict_norm * (train_temp_max-train_temp_min)"
      ],
      "execution_count": 134,
      "outputs": []
    },
    {
      "cell_type": "markdown",
      "metadata": {
        "id": "GP6jsVIuu60p"
      },
      "source": [
        "##MSE_Neural_Network3"
      ]
    },
    {
      "cell_type": "code",
      "metadata": {
        "colab": {
          "base_uri": "https://localhost:8080/"
        },
        "id": "DeICJssHu60p",
        "outputId": "5b43ff8c-e65d-40a4-c0ca-c692e4821665"
      },
      "source": [
        "# The mean squared error\n",
        "print('Mean squared error: %.2f'\n",
        "      % mean_squared_error(test_label, y_predict3))\n",
        "# The coefficient of determination: 1 is perfect prediction\n",
        "print('Coefficient of determination: %.2f'\n",
        "      % r2_score(test_label, y_predict3))"
      ],
      "execution_count": 135,
      "outputs": [
        {
          "output_type": "stream",
          "text": [
            "Mean squared error: 2.42\n",
            "Coefficient of determination: 0.96\n"
          ],
          "name": "stdout"
        }
      ]
    },
    {
      "cell_type": "markdown",
      "metadata": {
        "id": "lT8F81tpfl4c"
      },
      "source": [
        "# Regression in keras"
      ]
    },
    {
      "cell_type": "markdown",
      "metadata": {
        "id": "0wzOwVpJfqhe"
      },
      "source": [
        "From the perspective of linear regression errors it is very small error. We will do regression moddeling before normalzing."
      ]
    },
    {
      "cell_type": "code",
      "metadata": {
        "colab": {
          "base_uri": "https://localhost:8080/"
        },
        "id": "j5siwPxjBIJM",
        "outputId": "fcc1d067-175e-441a-c8ce-d018cd2ef244"
      },
      "source": [
        "model = tf.keras.models.Sequential([\n",
        "  \n",
        "  tf.keras.layers.Input(shape=(past,)),\n",
        "  tf.keras.layers.Dense(future, activation='linear')\n",
        "])\n",
        "\n",
        "# Compile the model, i.e. associate a loss function and the chosen variant of GD\n",
        "model.compile(\n",
        "    loss=tf.losses.MeanSquaredError(),\n",
        "                optimizer=tf.optimizers.Adam(),\n",
        "                metrics=[tf.metrics.MeanAbsoluteError(),'accuracy']\n",
        ")\n",
        "\n",
        "# Summary of the model\n",
        "model.summary()"
      ],
      "execution_count": 136,
      "outputs": [
        {
          "output_type": "stream",
          "text": [
            "Model: \"sequential_3\"\n",
            "_________________________________________________________________\n",
            "Layer (type)                 Output Shape              Param #   \n",
            "=================================================================\n",
            "dense_12 (Dense)             (None, 6)                 78        \n",
            "=================================================================\n",
            "Total params: 78\n",
            "Trainable params: 78\n",
            "Non-trainable params: 0\n",
            "_________________________________________________________________\n"
          ],
          "name": "stdout"
        }
      ]
    },
    {
      "cell_type": "code",
      "metadata": {
        "id": "3htJUiIuBIJP"
      },
      "source": [
        "model.compile(\n",
        "    loss='mse',\n",
        "    optimizer=tf.keras.optimizers.Adam(0.001),\n",
        "    metrics=['accuracy','mse'],\n",
        ")"
      ],
      "execution_count": 137,
      "outputs": []
    },
    {
      "cell_type": "code",
      "metadata": {
        "colab": {
          "base_uri": "https://localhost:8080/"
        },
        "id": "M-3PFcCVBIJS",
        "outputId": "cfcdcd0e-abde-4426-ff99-0300fe641c8b"
      },
      "source": [
        "hist = model.fit(train_temp,train_label, epochs=40)"
      ],
      "execution_count": 138,
      "outputs": [
        {
          "output_type": "stream",
          "text": [
            "Epoch 1/40\n",
            "2173/2173 [==============================] - 3s 1ms/step - loss: 14.7788 - accuracy: 0.2353 - mse: 14.7788\n",
            "Epoch 2/40\n",
            "2173/2173 [==============================] - 2s 1ms/step - loss: 3.8409 - accuracy: 0.2884 - mse: 3.8409\n",
            "Epoch 3/40\n",
            "2173/2173 [==============================] - 2s 1ms/step - loss: 2.9868 - accuracy: 0.3087 - mse: 2.9868\n",
            "Epoch 4/40\n",
            "2173/2173 [==============================] - 2s 1ms/step - loss: 2.6626 - accuracy: 0.3233 - mse: 2.6626\n",
            "Epoch 5/40\n",
            "2173/2173 [==============================] - 2s 1ms/step - loss: 2.5478 - accuracy: 0.3310 - mse: 2.5478\n",
            "Epoch 6/40\n",
            "2173/2173 [==============================] - 2s 1ms/step - loss: 2.4683 - accuracy: 0.3452 - mse: 2.4683\n",
            "Epoch 7/40\n",
            "2173/2173 [==============================] - 2s 1ms/step - loss: 2.3901 - accuracy: 0.3586 - mse: 2.3901\n",
            "Epoch 8/40\n",
            "2173/2173 [==============================] - 2s 1ms/step - loss: 2.4080 - accuracy: 0.3690 - mse: 2.4080\n",
            "Epoch 9/40\n",
            "2173/2173 [==============================] - 2s 1ms/step - loss: 2.3806 - accuracy: 0.3760 - mse: 2.3806\n",
            "Epoch 10/40\n",
            "2173/2173 [==============================] - 2s 1ms/step - loss: 2.3515 - accuracy: 0.3820 - mse: 2.3515\n",
            "Epoch 11/40\n",
            "2173/2173 [==============================] - 2s 1ms/step - loss: 2.3470 - accuracy: 0.3903 - mse: 2.3470\n",
            "Epoch 12/40\n",
            "2173/2173 [==============================] - 2s 1ms/step - loss: 2.3484 - accuracy: 0.3888 - mse: 2.3484\n",
            "Epoch 13/40\n",
            "2173/2173 [==============================] - 2s 1ms/step - loss: 2.3406 - accuracy: 0.3972 - mse: 2.3406\n",
            "Epoch 14/40\n",
            "2173/2173 [==============================] - 2s 1ms/step - loss: 2.3140 - accuracy: 0.3989 - mse: 2.3140\n",
            "Epoch 15/40\n",
            "2173/2173 [==============================] - 2s 1ms/step - loss: 2.2993 - accuracy: 0.4046 - mse: 2.2993\n",
            "Epoch 16/40\n",
            "2173/2173 [==============================] - 2s 1ms/step - loss: 2.3293 - accuracy: 0.4056 - mse: 2.3293\n",
            "Epoch 17/40\n",
            "2173/2173 [==============================] - 2s 1ms/step - loss: 2.2875 - accuracy: 0.4096 - mse: 2.2875\n",
            "Epoch 18/40\n",
            "2173/2173 [==============================] - 2s 1ms/step - loss: 2.2932 - accuracy: 0.4113 - mse: 2.2932\n",
            "Epoch 19/40\n",
            "2173/2173 [==============================] - 2s 1ms/step - loss: 2.2814 - accuracy: 0.4124 - mse: 2.2814\n",
            "Epoch 20/40\n",
            "2173/2173 [==============================] - 2s 1ms/step - loss: 2.2825 - accuracy: 0.4205 - mse: 2.2825\n",
            "Epoch 21/40\n",
            "2173/2173 [==============================] - 2s 1ms/step - loss: 2.2784 - accuracy: 0.4143 - mse: 2.2784\n",
            "Epoch 22/40\n",
            "2173/2173 [==============================] - 2s 1ms/step - loss: 2.2635 - accuracy: 0.4177 - mse: 2.2635\n",
            "Epoch 23/40\n",
            "2173/2173 [==============================] - 2s 1ms/step - loss: 2.2985 - accuracy: 0.4199 - mse: 2.2985\n",
            "Epoch 24/40\n",
            "2173/2173 [==============================] - 2s 1ms/step - loss: 2.3021 - accuracy: 0.4227 - mse: 2.3021\n",
            "Epoch 25/40\n",
            "2173/2173 [==============================] - 2s 1ms/step - loss: 2.2962 - accuracy: 0.4185 - mse: 2.2962\n",
            "Epoch 26/40\n",
            "2173/2173 [==============================] - 2s 1ms/step - loss: 2.3019 - accuracy: 0.4253 - mse: 2.3019\n",
            "Epoch 27/40\n",
            "2173/2173 [==============================] - 2s 1ms/step - loss: 2.2885 - accuracy: 0.4252 - mse: 2.2885\n",
            "Epoch 28/40\n",
            "2173/2173 [==============================] - 2s 1ms/step - loss: 2.2857 - accuracy: 0.4226 - mse: 2.2857\n",
            "Epoch 29/40\n",
            "2173/2173 [==============================] - 2s 1ms/step - loss: 2.2864 - accuracy: 0.4285 - mse: 2.2864\n",
            "Epoch 30/40\n",
            "2173/2173 [==============================] - 2s 1ms/step - loss: 2.2932 - accuracy: 0.4273 - mse: 2.2932\n",
            "Epoch 31/40\n",
            "2173/2173 [==============================] - 2s 1ms/step - loss: 2.2494 - accuracy: 0.4284 - mse: 2.2494\n",
            "Epoch 32/40\n",
            "2173/2173 [==============================] - 2s 1ms/step - loss: 2.2834 - accuracy: 0.4252 - mse: 2.2834\n",
            "Epoch 33/40\n",
            "2173/2173 [==============================] - 2s 1ms/step - loss: 2.2936 - accuracy: 0.4246 - mse: 2.2936\n",
            "Epoch 34/40\n",
            "2173/2173 [==============================] - 2s 1ms/step - loss: 2.3134 - accuracy: 0.4293 - mse: 2.3134\n",
            "Epoch 35/40\n",
            "2173/2173 [==============================] - 2s 1ms/step - loss: 2.2468 - accuracy: 0.4324 - mse: 2.2468\n",
            "Epoch 36/40\n",
            "2173/2173 [==============================] - 2s 1ms/step - loss: 2.2728 - accuracy: 0.4370 - mse: 2.2728\n",
            "Epoch 37/40\n",
            "2173/2173 [==============================] - 2s 1ms/step - loss: 2.2929 - accuracy: 0.4337 - mse: 2.2929\n",
            "Epoch 38/40\n",
            "2173/2173 [==============================] - 2s 1ms/step - loss: 2.2806 - accuracy: 0.4258 - mse: 2.2806\n",
            "Epoch 39/40\n",
            "2173/2173 [==============================] - 2s 1ms/step - loss: 2.2703 - accuracy: 0.4299 - mse: 2.2703\n",
            "Epoch 40/40\n",
            "2173/2173 [==============================] - 2s 1ms/step - loss: 2.2891 - accuracy: 0.4348 - mse: 2.2891\n"
          ],
          "name": "stdout"
        }
      ]
    },
    {
      "cell_type": "code",
      "metadata": {
        "colab": {
          "base_uri": "https://localhost:8080/"
        },
        "id": "MEnhwoV9BIJT",
        "outputId": "67636c26-6a1b-4865-a788-4eff2e072192"
      },
      "source": [
        "model.evaluate(test_temp,  test_label, verbose=2)"
      ],
      "execution_count": 139,
      "outputs": [
        {
          "output_type": "stream",
          "text": [
            "544/544 - 0s - loss: 2.0369 - accuracy: 0.4267 - mse: 2.0369\n"
          ],
          "name": "stdout"
        },
        {
          "output_type": "execute_result",
          "data": {
            "text/plain": [
              "[2.036855697631836, 0.426681250333786, 2.036855697631836]"
            ]
          },
          "metadata": {
            "tags": []
          },
          "execution_count": 139
        }
      ]
    },
    {
      "cell_type": "code",
      "metadata": {
        "id": "AK3YFr6oDSQj"
      },
      "source": [
        "y_predict_LR = model.predict(test_temp)"
      ],
      "execution_count": 140,
      "outputs": []
    },
    {
      "cell_type": "code",
      "metadata": {
        "colab": {
          "base_uri": "https://localhost:8080/"
        },
        "id": "kz6VwOw-DuWw",
        "outputId": "e3ade071-dfd2-4f07-9f13-e7b493cf320e"
      },
      "source": [
        "y_predict_LR"
      ],
      "execution_count": 141,
      "outputs": [
        {
          "output_type": "execute_result",
          "data": {
            "text/plain": [
              "array([[-1.3604513, -1.4324198, -1.5622516, -1.6478238, -1.6743436,\n",
              "        -1.6992587],\n",
              "       [-1.4321223, -1.5648365, -1.6476839, -1.6777935, -1.6932559,\n",
              "        -1.6873035],\n",
              "       [-1.524602 , -1.6061553, -1.6411203, -1.6518953, -1.6389494,\n",
              "        -1.6082267],\n",
              "       ...,\n",
              "       [ 3.349627 ,  3.5332432,  3.6693478,  3.758124 ,  3.7655418,\n",
              "         3.7509718],\n",
              "       [ 3.5457869,  3.680201 ,  3.8037875,  3.8202355,  3.7633357,\n",
              "         3.6791663],\n",
              "       [ 4.0178285,  4.1871023,  4.2580023,  4.2501354,  4.223198 ,\n",
              "         4.173366 ]], dtype=float32)"
            ]
          },
          "metadata": {
            "tags": []
          },
          "execution_count": 141
        }
      ]
    },
    {
      "cell_type": "code",
      "metadata": {
        "colab": {
          "base_uri": "https://localhost:8080/",
          "height": 286
        },
        "id": "W10mv-_8iwRF",
        "outputId": "a1de5aec-cc1d-464d-8a94-b22930fcbab5"
      },
      "source": [
        "plt.plot(test_temp[0])\n",
        "plt.scatter(z,y_predict_LR[0])\n",
        "plt.scatter(z,test_label[0])"
      ],
      "execution_count": 142,
      "outputs": [
        {
          "output_type": "execute_result",
          "data": {
            "text/plain": [
              "<matplotlib.collections.PathCollection at 0x7fbda194ddd0>"
            ]
          },
          "metadata": {
            "tags": []
          },
          "execution_count": 142
        },
        {
          "output_type": "display_data",
          "data": {
            "image/png": "[encoded data removed]",
            "text/plain": [
              "<Figure size 432x288 with 1 Axes>"
            ]
          },
          "metadata": {
            "tags": [],
            "needs_background": "light"
          }
        }
      ]
    },
    {
      "cell_type": "code",
      "metadata": {
        "colab": {
          "base_uri": "https://localhost:8080/",
          "height": 282
        },
        "id": "rwDhb6UOi8Mu",
        "outputId": "8a13d42a-c166-4653-ef15-ecf8f1e27748"
      },
      "source": [
        "plt.plot(test_temp[1])\n",
        "plt.scatter(z,y_predict_LR[1])\n",
        "plt.scatter(z,test_label[1])"
      ],
      "execution_count": 143,
      "outputs": [
        {
          "output_type": "execute_result",
          "data": {
            "text/plain": [
              "<matplotlib.collections.PathCollection at 0x7fbda10d3f90>"
            ]
          },
          "metadata": {
            "tags": []
          },
          "execution_count": 143
        },
        {
          "output_type": "display_data",
          "data": {
            "image/png": "[encoded data removed]",
            "text/plain": [
              "<Figure size 432x288 with 1 Axes>"
            ]
          },
          "metadata": {
            "tags": [],
            "needs_background": "light"
          }
        }
      ]
    },
    {
      "cell_type": "code",
      "metadata": {
        "colab": {
          "base_uri": "https://localhost:8080/",
          "height": 282
        },
        "id": "fHFX5gMFjAQx",
        "outputId": "6d77d78a-834b-4d6a-f3dc-bfcc9e2e9c1e"
      },
      "source": [
        "i = 2\n",
        "plt.plot(test_temp[i])\n",
        "plt.scatter(z,y_predict_LR[i])\n",
        "plt.scatter(z,test_label[i])"
      ],
      "execution_count": 144,
      "outputs": [
        {
          "output_type": "execute_result",
          "data": {
            "text/plain": [
              "<matplotlib.collections.PathCollection at 0x7fbda1053b10>"
            ]
          },
          "metadata": {
            "tags": []
          },
          "execution_count": 144
        },
        {
          "output_type": "display_data",
          "data": {
            "image/png": "[encoded data removed]",
            "text/plain": [
              "<Figure size 432x288 with 1 Axes>"
            ]
          },
          "metadata": {
            "tags": [],
            "needs_background": "light"
          }
        }
      ]
    },
    {
      "cell_type": "code",
      "metadata": {
        "colab": {
          "base_uri": "https://localhost:8080/",
          "height": 282
        },
        "id": "_uJFrT00jDqz",
        "outputId": "3b0310aa-ad35-4abc-91f7-ea705e14ad3e"
      },
      "source": [
        "i = 103\n",
        "plt.plot(test_temp[i])\n",
        "plt.scatter(z,y_predict_LR[i])\n",
        "plt.scatter(z,test_label[i])"
      ],
      "execution_count": 145,
      "outputs": [
        {
          "output_type": "execute_result",
          "data": {
            "text/plain": [
              "<matplotlib.collections.PathCollection at 0x7fbda0fc6bd0>"
            ]
          },
          "metadata": {
            "tags": []
          },
          "execution_count": 145
        },
        {
          "output_type": "display_data",
          "data": {
            "image/png": "[encoded data removed]",
            "text/plain": [
              "<Figure size 432x288 with 1 Axes>"
            ]
          },
          "metadata": {
            "tags": [],
            "needs_background": "light"
          }
        }
      ]
    },
    {
      "cell_type": "markdown",
      "metadata": {
        "id": "dwRL0SwUFp4P"
      },
      "source": [
        "# Model comparison\n"
      ]
    },
    {
      "cell_type": "code",
      "metadata": {
        "colab": {
          "base_uri": "https://localhost:8080/",
          "height": 282
        },
        "id": "2DhIsQNKYc_e",
        "outputId": "6b863f9b-2191-48b8-b65a-50cf9595c7fd"
      },
      "source": [
        "i = 2\n",
        "z = np.linspace(past, past+future,future)\n",
        "plt.plot(test_temp[i])\n",
        "plt.scatter(z,y_predict[i], label = 'NN')\n",
        "plt.scatter(z,test_label[i], label = 'True temperature')\n",
        "plt.scatter(z,y_persistence[i], label= 'Persistence')\n",
        "plt.scatter(z,predict_label[i], label='Linear regression in SkL')\n",
        "#plt.scatter(z,y_predict_LR[i], label='Linear regression in Keras')\n",
        "\n",
        "plt.legend(loc='best')\n",
        "\n"
      ],
      "execution_count": 146,
      "outputs": [
        {
          "output_type": "execute_result",
          "data": {
            "text/plain": [
              "<matplotlib.legend.Legend at 0x7fbda0f89750>"
            ]
          },
          "metadata": {
            "tags": []
          },
          "execution_count": 146
        },
        {
          "output_type": "display_data",
          "data": {
            "image/png": "[encoded data removed]",
            "text/plain": [
              "<Figure size 432x288 with 1 Axes>"
            ]
          },
          "metadata": {
            "tags": [],
            "needs_background": "light"
          }
        }
      ]
    },
    {
      "cell_type": "markdown",
      "metadata": {
        "id": "dW1hDa0n5dxG"
      },
      "source": [
        "## MSE"
      ]
    },
    {
      "cell_type": "markdown",
      "metadata": {
        "id": "xbpG1y1PDHUH"
      },
      "source": [
        "> We will check how MSE grows for predicted value on time axis."
      ]
    },
    {
      "cell_type": "code",
      "metadata": {
        "id": "3I_Q-h1A5xx7"
      },
      "source": [
        "def mse(predict):\n",
        "  mse = np.ones((future,))\n",
        "  for i in range(future):\n",
        "     mse[i]= np.mean((test_label[:,i]-predict[:,i])**2)\n",
        "  return mse \n",
        "   "
      ],
      "execution_count": 147,
      "outputs": []
    },
    {
      "cell_type": "code",
      "metadata": {
        "colab": {
          "base_uri": "https://localhost:8080/"
        },
        "id": "01lO4DZgIA1b",
        "outputId": "dfc2d0eb-1eb8-4488-b6a4-cc223fd4978c"
      },
      "source": [
        "mse(y_persistence)"
      ],
      "execution_count": 148,
      "outputs": [
        {
          "output_type": "execute_result",
          "data": {
            "text/plain": [
              "array([0.35974392, 1.07377119, 2.07997292, 3.28066139, 4.64538988,\n",
              "       6.02936711])"
            ]
          },
          "metadata": {
            "tags": []
          },
          "execution_count": 148
        }
      ]
    },
    {
      "cell_type": "code",
      "metadata": {
        "colab": {
          "base_uri": "https://localhost:8080/"
        },
        "id": "Uo1_DpzSjeZ-",
        "outputId": "fe43baee-d69e-4c5c-b01f-31c5753936ee"
      },
      "source": [
        "mse(predict_label)"
      ],
      "execution_count": 149,
      "outputs": [
        {
          "output_type": "execute_result",
          "data": {
            "text/plain": [
              "array([0.26049284, 0.70009607, 1.36578638, 2.21233834, 3.27811273,\n",
              "       4.36084848])"
            ]
          },
          "metadata": {
            "tags": []
          },
          "execution_count": 149
        }
      ]
    },
    {
      "cell_type": "code",
      "metadata": {
        "colab": {
          "base_uri": "https://localhost:8080/"
        },
        "id": "qc0J3Qapjh8l",
        "outputId": "f67ceb75-2d04-4f06-b221-4708e0289430"
      },
      "source": [
        "mse(test_label) #test"
      ],
      "execution_count": 150,
      "outputs": [
        {
          "output_type": "execute_result",
          "data": {
            "text/plain": [
              "array([0., 0., 0., 0., 0., 0.])"
            ]
          },
          "metadata": {
            "tags": []
          },
          "execution_count": 150
        }
      ]
    },
    {
      "cell_type": "code",
      "metadata": {
        "colab": {
          "base_uri": "https://localhost:8080/"
        },
        "id": "6rCgzcjCjlJl",
        "outputId": "ae9f96af-073c-4d4b-bdf3-0d38d0b63bff"
      },
      "source": [
        "mse(y_predict) #NN"
      ],
      "execution_count": 151,
      "outputs": [
        {
          "output_type": "execute_result",
          "data": {
            "text/plain": [
              "array([0.26889957, 0.70823786, 1.34884777, 2.0542681 , 2.97848192,\n",
              "       3.89022973])"
            ]
          },
          "metadata": {
            "tags": []
          },
          "execution_count": 151
        }
      ]
    },
    {
      "cell_type": "code",
      "metadata": {
        "colab": {
          "base_uri": "https://localhost:8080/",
          "height": 282
        },
        "id": "c-NoxWc4j8Ug",
        "outputId": "95646d3a-fd26-4e6a-dd26-6a57f481eca1"
      },
      "source": [
        "plt.plot(mse(y_predict), label = 'NN')\n",
        "plt.plot(mse(predict_label), label = 'Linear Regression')\n",
        "plt.plot(mse(y_persistence), label = 'Persistence')\n",
        "plt.plot(mse(y_predict2), label = 'NN2')\n",
        "plt.plot(mse(y_predict3), label = 'NN3')\n",
        "plt.legend(loc='best')"
      ],
      "execution_count": 152,
      "outputs": [
        {
          "output_type": "execute_result",
          "data": {
            "text/plain": [
              "<matplotlib.legend.Legend at 0x7fbda0f282d0>"
            ]
          },
          "metadata": {
            "tags": []
          },
          "execution_count": 152
        },
        {
          "output_type": "display_data",
          "data": {
            "image/png": "[encoded data removed]",
            "text/plain": [
              "<Figure size 432x288 with 1 Axes>"
            ]
          },
          "metadata": {
            "tags": [],
            "needs_background": "light"
          }
        }
      ]
    }
  ]
}