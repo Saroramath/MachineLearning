{
  "nbformat": 4,
  "nbformat_minor": 0,
  "metadata": {
    "colab": {
      "name": "6205A5TempDataRNN6hrs.ipynb",
      "provenance": [],
      "collapsed_sections": [],
      "authorship_tag": "ABX9TyOvz3362GONEy6f2A/gskd6",
      "include_colab_link": true
    },
    "kernelspec": {
      "name": "python3",
      "display_name": "Python 3"
    }
  },
  "cells": [
    {
      "cell_type": "markdown",
      "metadata": {
        "id": "view-in-github",
        "colab_type": "text"
      },
      "source": [
        "<a href=\"https://colab.research.google.com/github/Saroramath/MachineLearning/blob/main/6205A/6205A5TempDataRNN6hrs.ipynb\" target=\"_parent\"><img src=\"https://colab.research.google.com/assets/colab-badge.svg\" alt=\"Open In Colab\"/></a>"
      ]
    },
    {
      "cell_type": "markdown",
      "metadata": {
        "id": "xlC6YSAfI9-U"
      },
      "source": [
        "# Learning goals"
      ]
    },
    {
      "cell_type": "markdown",
      "metadata": {
        "id": "FB0-70PxJDB9"
      },
      "source": [
        "1. Prepare the time series data into samples.\n",
        "2. We will us primitive commands to understand the sample generation steps."
      ]
    },
    {
      "cell_type": "code",
      "metadata": {
        "colab": {
          "base_uri": "https://localhost:8080/"
        },
        "id": "gu7VuJBQTAfR",
        "outputId": "0e0841f3-76df-4eba-e82b-24327268db33"
      },
      "source": [
        "!pip install netCDF4"
      ],
      "execution_count": 1,
      "outputs": [
        {
          "output_type": "stream",
          "text": [
            "Collecting netCDF4\n",
            "\u001b[?25l  Downloading https://files.pythonhosted.org/packages/37/56/f65978898fb8e7e5df9c67531d86eb24eb04938deae3b61dbcce12c98212/netCDF4-1.5.6-cp37-cp37m-manylinux2014_x86_64.whl (4.7MB)\n",
            "\u001b[K     |████████████████████████████████| 4.7MB 4.3MB/s \n",
            "\u001b[?25hCollecting cftime\n",
            "\u001b[?25l  Downloading https://files.pythonhosted.org/packages/41/e0/3e120cca16571c5ee3b35f1ed432c2aae5dc91e2b789e8b9c3a70e721ea0/cftime-1.4.1-cp37-cp37m-manylinux2014_x86_64.whl (313kB)\n",
            "\u001b[K     |████████████████████████████████| 317kB 37.5MB/s \n",
            "\u001b[?25hRequirement already satisfied: numpy>=1.9 in /usr/local/lib/python3.7/dist-packages (from netCDF4) (1.19.5)\n",
            "Installing collected packages: cftime, netCDF4\n",
            "Successfully installed cftime-1.4.1 netCDF4-1.5.6\n"
          ],
          "name": "stdout"
        }
      ]
    },
    {
      "cell_type": "code",
      "metadata": {
        "id": "EuH1MnIaRjl-"
      },
      "source": [
        "from netCDF4 import Dataset\n",
        "from google.colab import drive\n",
        "import numpy as np\n",
        "import matplotlib.pyplot as plt\n",
        "import tensorflow as tf\n"
      ],
      "execution_count": 2,
      "outputs": []
    },
    {
      "cell_type": "code",
      "metadata": {
        "id": "vEYGALlJTNoz"
      },
      "source": [
        "from google.colab import files\n",
        "#uploaded = files.upload()"
      ],
      "execution_count": 3,
      "outputs": []
    },
    {
      "cell_type": "code",
      "metadata": {
        "id": "KOGGyOlyUnVb"
      },
      "source": [
        "#drive.mount('/content/gdrive')"
      ],
      "execution_count": 4,
      "outputs": []
    },
    {
      "cell_type": "markdown",
      "metadata": {
        "id": "Z75CYkXz1NeQ"
      },
      "source": [
        "> The file is too big to call as raw from github or to use upload. "
      ]
    },
    {
      "cell_type": "markdown",
      "metadata": {
        "id": "xeMBHtfTCmFH"
      },
      "source": [
        "Upload the file in sample_data directory from system."
      ]
    },
    {
      "cell_type": "code",
      "metadata": {
        "id": "LQW7R0Oo-7_V"
      },
      "source": [
        "file = '/content/sample_data/tempStJohns.nc'"
      ],
      "execution_count": 5,
      "outputs": []
    },
    {
      "cell_type": "markdown",
      "metadata": {
        "id": "bCOH74s-UJsK"
      },
      "source": [
        "# Explore the data"
      ]
    },
    {
      "cell_type": "code",
      "metadata": {
        "id": "k6Am9iu0Rtas"
      },
      "source": [
        "df = Dataset(file)"
      ],
      "execution_count": 6,
      "outputs": []
    },
    {
      "cell_type": "code",
      "metadata": {
        "colab": {
          "base_uri": "https://localhost:8080/"
        },
        "id": "sL_YLtc4_6Mc",
        "outputId": "f0f0f8ad-0f33-49a6-816f-a9571970a13a"
      },
      "source": [
        "df"
      ],
      "execution_count": 7,
      "outputs": [
        {
          "output_type": "execute_result",
          "data": {
            "text/plain": [
              "<class 'netCDF4._netCDF4.Dataset'>\n",
              "root group (NETCDF3_64BIT_OFFSET data model, file format NETCDF3):\n",
              "    Conventions: CF-1.6\n",
              "    history: 2021-02-03 00:49:51 GMT by grib_to_netcdf-2.16.0: /opt/ecmwf/eccodes/bin/grib_to_netcdf -S param -o /cache/data2/adaptor.mars.internal-1612306467.0641284-4955-27-685dbd6e-9572-4267-a9a7-5a61b7e919e4.nc /cache/tmp/685dbd6e-9572-4267-a9a7-5a61b7e919e4-adaptor.mars.internal-1612306467.0646257-4955-9-tmp.grib\n",
              "    dimensions(sizes): longitude(1), latitude(1), expver(2), time(87672)\n",
              "    variables(dimensions): float32 longitude(longitude), float32 latitude(latitude), int32 expver(expver), int32 time(time), int16 t2m(time, expver, latitude, longitude)\n",
              "    groups: "
            ]
          },
          "metadata": {
            "tags": []
          },
          "execution_count": 7
        }
      ]
    },
    {
      "cell_type": "code",
      "metadata": {
        "colab": {
          "base_uri": "https://localhost:8080/"
        },
        "id": "M5MfMO8sU5__",
        "outputId": "8101bd53-15af-4264-9ca9-cd98c2fc3c8a"
      },
      "source": [
        "df['longitude'][0] #longitude of the place"
      ],
      "execution_count": 8,
      "outputs": [
        {
          "output_type": "execute_result",
          "data": {
            "text/plain": [
              "masked_array(data=-52.75,\n",
              "             mask=False,\n",
              "       fill_value=1e+20,\n",
              "            dtype=float32)"
            ]
          },
          "metadata": {
            "tags": []
          },
          "execution_count": 8
        }
      ]
    },
    {
      "cell_type": "code",
      "metadata": {
        "colab": {
          "base_uri": "https://localhost:8080/"
        },
        "id": "wvG4OC29Z3Dq",
        "outputId": "80684e73-9238-482e-b399-4eb189eddb8d"
      },
      "source": [
        "df['time'] # Time series units: hours since 1900-01-01 00:00:00.0"
      ],
      "execution_count": 9,
      "outputs": [
        {
          "output_type": "execute_result",
          "data": {
            "text/plain": [
              "<class 'netCDF4._netCDF4.Variable'>\n",
              "int32 time(time)\n",
              "    units: hours since 1900-01-01 00:00:00.0\n",
              "    long_name: time\n",
              "    calendar: gregorian\n",
              "unlimited dimensions: \n",
              "current shape = (87672,)\n",
              "filling on, default _FillValue of -2147483647 used"
            ]
          },
          "metadata": {
            "tags": []
          },
          "execution_count": 9
        }
      ]
    },
    {
      "cell_type": "code",
      "metadata": {
        "id": "ZzX4IqtoZA27"
      },
      "source": [
        "time = df['time'][:] #start value 973008, end value 1060679"
      ],
      "execution_count": 10,
      "outputs": []
    },
    {
      "cell_type": "code",
      "metadata": {
        "colab": {
          "base_uri": "https://localhost:8080/"
        },
        "id": "TEbfj7IAcvAa",
        "outputId": "cd1680ff-59ad-4edb-f5d0-2f362cec3c25"
      },
      "source": [
        "time"
      ],
      "execution_count": 11,
      "outputs": [
        {
          "output_type": "execute_result",
          "data": {
            "text/plain": [
              "masked_array(data=[ 973008,  973009,  973010, ..., 1060677, 1060678,\n",
              "                   1060679],\n",
              "             mask=False,\n",
              "       fill_value=999999,\n",
              "            dtype=int32)"
            ]
          },
          "metadata": {
            "tags": []
          },
          "execution_count": 11
        }
      ]
    },
    {
      "cell_type": "code",
      "metadata": {
        "colab": {
          "base_uri": "https://localhost:8080/"
        },
        "id": "MHucNB65cwoj",
        "outputId": "95e3a602-e800-4076-fc41-55dad261e4d1"
      },
      "source": [
        "time.shape"
      ],
      "execution_count": 12,
      "outputs": [
        {
          "output_type": "execute_result",
          "data": {
            "text/plain": [
              "(87672,)"
            ]
          },
          "metadata": {
            "tags": []
          },
          "execution_count": 12
        }
      ]
    },
    {
      "cell_type": "markdown",
      "metadata": {
        "id": "BjQsqwIe2AwP"
      },
      "source": [
        "> Consider columns with time data"
      ]
    },
    {
      "cell_type": "code",
      "metadata": {
        "colab": {
          "base_uri": "https://localhost:8080/"
        },
        "id": "PXOn5113ZLRb",
        "outputId": "256d28e9-53b8-450f-d632-0350be80252c"
      },
      "source": [
        " df['t2m'][:,0,0,0]"
      ],
      "execution_count": 13,
      "outputs": [
        {
          "output_type": "execute_result",
          "data": {
            "text/plain": [
              "masked_array(data=[272.81080791804084, 272.6567134137989,\n",
              "                   272.7837285490946, ..., --, --, --],\n",
              "             mask=[False, False, False, ...,  True,  True,  True],\n",
              "       fill_value=-32767)"
            ]
          },
          "metadata": {
            "tags": []
          },
          "execution_count": 13
        }
      ]
    },
    {
      "cell_type": "markdown",
      "metadata": {
        "id": "NmaTrYCo1-LB"
      },
      "source": [
        "> Convert to Celsius"
      ]
    },
    {
      "cell_type": "code",
      "metadata": {
        "id": "LiF0cETrSiA-"
      },
      "source": [
        "temp = df['t2m'][:,0,0,0]-273.15"
      ],
      "execution_count": 14,
      "outputs": []
    },
    {
      "cell_type": "markdown",
      "metadata": {
        "id": "55w3GiSf2fU_"
      },
      "source": [
        "> Masked arrays are arrays that may have missing or invalid entries. The numpy.ma module provides a nearly work-alike replacement for numpy that supports data arrays with masks.\n",
        "\n"
      ]
    },
    {
      "cell_type": "code",
      "metadata": {
        "colab": {
          "base_uri": "https://localhost:8080/"
        },
        "id": "MG4oMJ7LAGWa",
        "outputId": "79cfcdd6-e3f1-4a88-f281-2b989d2d25c0"
      },
      "source": [
        "temp "
      ],
      "execution_count": 15,
      "outputs": [
        {
          "output_type": "execute_result",
          "data": {
            "text/plain": [
              "masked_array(data=[-0.3391920819591405, -0.4932865862010658,\n",
              "                   -0.36627145090540125, ..., --, --, --],\n",
              "             mask=[False, False, False, ...,  True,  True,  True],\n",
              "       fill_value=-32767)"
            ]
          },
          "metadata": {
            "tags": []
          },
          "execution_count": 15
        }
      ]
    },
    {
      "cell_type": "markdown",
      "metadata": {
        "id": "Zf99GruZ3Jde"
      },
      "source": [
        " The array is masked, filled with -32767 for the missing values, mask tells us where is that happeneing."
      ]
    },
    {
      "cell_type": "code",
      "metadata": {
        "colab": {
          "base_uri": "https://localhost:8080/"
        },
        "id": "2OYt2iuGHaTQ",
        "outputId": "f721570e-2133-4531-a954-b7e0f0393389"
      },
      "source": [
        "temp.data "
      ],
      "execution_count": 16,
      "outputs": [
        {
          "output_type": "execute_result",
          "data": {
            "text/plain": [
              "array([-3.39192082e-01, -4.93286586e-01, -3.66271451e-01, ...,\n",
              "       -3.27670000e+04, -3.27670000e+04, -3.27670000e+04])"
            ]
          },
          "metadata": {
            "tags": []
          },
          "execution_count": 16
        }
      ]
    },
    {
      "cell_type": "code",
      "metadata": {
        "colab": {
          "base_uri": "https://localhost:8080/"
        },
        "id": "aSdpaEECGFIJ",
        "outputId": "53869192-045f-49a8-c52c-e92b88d29feb"
      },
      "source": [
        "temp.shape"
      ],
      "execution_count": 17,
      "outputs": [
        {
          "output_type": "execute_result",
          "data": {
            "text/plain": [
              "(87672,)"
            ]
          },
          "metadata": {
            "tags": []
          },
          "execution_count": 17
        }
      ]
    },
    {
      "cell_type": "code",
      "metadata": {
        "colab": {
          "base_uri": "https://localhost:8080/"
        },
        "id": "7cTEcw36GPAJ",
        "outputId": "d1f9d49d-a5d5-4144-e215-cab392a899dc"
      },
      "source": [
        "temp.mask"
      ],
      "execution_count": 18,
      "outputs": [
        {
          "output_type": "execute_result",
          "data": {
            "text/plain": [
              "array([False, False, False, ...,  True,  True,  True])"
            ]
          },
          "metadata": {
            "tags": []
          },
          "execution_count": 18
        }
      ]
    },
    {
      "cell_type": "markdown",
      "metadata": {
        "id": "DiOFH3vFDXbJ"
      },
      "source": [
        "## Rmoving masked values."
      ]
    },
    {
      "cell_type": "markdown",
      "metadata": {
        "id": "4AiZrrg4V7b-"
      },
      "source": [
        "First we check if the masked values are continuous or not."
      ]
    },
    {
      "cell_type": "code",
      "metadata": {
        "id": "A0Z4Ab1_V6oi"
      },
      "source": [
        "missing = np.where(temp.mask == True)"
      ],
      "execution_count": 19,
      "outputs": []
    },
    {
      "cell_type": "code",
      "metadata": {
        "colab": {
          "base_uri": "https://localhost:8080/"
        },
        "id": "s6BoZ-2nWvfg",
        "outputId": "e4c5e58f-7f76-4d72-d92b-5ac2b1983657"
      },
      "source": [
        "missing[0][0] # The missing data is infact continuous so our time series is not broken anywhere"
      ],
      "execution_count": 20,
      "outputs": [
        {
          "output_type": "execute_result",
          "data": {
            "text/plain": [
              "86928"
            ]
          },
          "metadata": {
            "tags": []
          },
          "execution_count": 20
        }
      ]
    },
    {
      "cell_type": "code",
      "metadata": {
        "id": "tLDymdf7HApc"
      },
      "source": [
        "temp = temp[~temp.mask] #use the inverse of the mask as an index."
      ],
      "execution_count": 21,
      "outputs": []
    },
    {
      "cell_type": "code",
      "metadata": {
        "colab": {
          "base_uri": "https://localhost:8080/"
        },
        "id": "9yijNfMlHQnr",
        "outputId": "47806ea6-31d5-4e87-ffd5-b8d6973f63c4"
      },
      "source": [
        "temp.shape # This is a continuous time series for temperature."
      ],
      "execution_count": 22,
      "outputs": [
        {
          "output_type": "execute_result",
          "data": {
            "text/plain": [
              "(86928,)"
            ]
          },
          "metadata": {
            "tags": []
          },
          "execution_count": 22
        }
      ]
    },
    {
      "cell_type": "markdown",
      "metadata": {
        "id": "vGfNPxwNc0Kj"
      },
      "source": [
        "Reducing time seris to match with it"
      ]
    },
    {
      "cell_type": "code",
      "metadata": {
        "id": "W6502fRXc7mZ"
      },
      "source": [
        "time = time[:86928]"
      ],
      "execution_count": 23,
      "outputs": []
    },
    {
      "cell_type": "code",
      "metadata": {
        "colab": {
          "base_uri": "https://localhost:8080/"
        },
        "id": "W9rHjMAKdLWo",
        "outputId": "a6712d31-ce10-4818-a746-8201226bdc0c"
      },
      "source": [
        "time.shape"
      ],
      "execution_count": 24,
      "outputs": [
        {
          "output_type": "execute_result",
          "data": {
            "text/plain": [
              "(86928,)"
            ]
          },
          "metadata": {
            "tags": []
          },
          "execution_count": 24
        }
      ]
    },
    {
      "cell_type": "markdown",
      "metadata": {
        "id": "-ZWEvZ-0c84R"
      },
      "source": [
        "Find the unique value in numpy"
      ]
    },
    {
      "cell_type": "code",
      "metadata": {
        "colab": {
          "base_uri": "https://localhost:8080/"
        },
        "id": "F14kRU1KVOZs",
        "outputId": "087e97b5-f169-495d-912d-b667bbce5a80"
      },
      "source": [
        "np.unique(temp.mask) #All values are genuine now"
      ],
      "execution_count": 25,
      "outputs": [
        {
          "output_type": "execute_result",
          "data": {
            "text/plain": [
              "array([False])"
            ]
          },
          "metadata": {
            "tags": []
          },
          "execution_count": 25
        }
      ]
    },
    {
      "cell_type": "markdown",
      "metadata": {
        "id": "Nzm0Kd4eDnTG"
      },
      "source": [
        "## Plot the temperature over time."
      ]
    },
    {
      "cell_type": "markdown",
      "metadata": {
        "id": "XvpsqcxKeF-W"
      },
      "source": [
        "Plot the time series against time\n",
        "\n",
        "\n"
      ]
    },
    {
      "cell_type": "code",
      "metadata": {
        "id": "vsTvefA-s0No"
      },
      "source": [
        "number_of_years = (time-973008)/8760 "
      ],
      "execution_count": 26,
      "outputs": []
    },
    {
      "cell_type": "markdown",
      "metadata": {
        "id": "iRxAfyoqDKFr"
      },
      "source": [
        "Temperature plot over approximately 10 years"
      ]
    },
    {
      "cell_type": "code",
      "metadata": {
        "colab": {
          "base_uri": "https://localhost:8080/",
          "height": 282
        },
        "id": "hX025uRYeFl5",
        "outputId": "d29cb663-540d-42ac-81ae-e872f84c1304"
      },
      "source": [
        "plt.plot(number_of_years,temp)"
      ],
      "execution_count": 27,
      "outputs": [
        {
          "output_type": "execute_result",
          "data": {
            "text/plain": [
              "[<matplotlib.lines.Line2D at 0x7f2e9cb0db90>]"
            ]
          },
          "metadata": {
            "tags": []
          },
          "execution_count": 27
        },
        {
          "output_type": "display_data",
          "data": {
            "image/png": "[encoded data removed]",
            "text/plain": [
              "<Figure size 432x288 with 1 Axes>"
            ]
          },
          "metadata": {
            "tags": [],
            "needs_background": "light"
          }
        }
      ]
    },
    {
      "cell_type": "markdown",
      "metadata": {
        "id": "0EW6HY0mzXQT"
      },
      "source": [
        "## Standardize the temperature"
      ]
    },
    {
      "cell_type": "code",
      "metadata": {
        "colab": {
          "base_uri": "https://localhost:8080/"
        },
        "id": "4rXEOPUetmhQ",
        "outputId": "6f5e6241-eb8a-4e89-afeb-6be6f76451b0"
      },
      "source": [
        "temp.shape"
      ],
      "execution_count": 28,
      "outputs": [
        {
          "output_type": "execute_result",
          "data": {
            "text/plain": [
              "(86928,)"
            ]
          },
          "metadata": {
            "tags": []
          },
          "execution_count": 28
        }
      ]
    },
    {
      "cell_type": "code",
      "metadata": {
        "id": "-eP9aC_Mt7G3",
        "colab": {
          "base_uri": "https://localhost:8080/"
        },
        "outputId": "e64ea5c0-bb71-47b2-f47b-67516298e792"
      },
      "source": [
        "temp.mean()"
      ],
      "execution_count": 29,
      "outputs": [
        {
          "output_type": "execute_result",
          "data": {
            "text/plain": [
              "5.57589982331033"
            ]
          },
          "metadata": {
            "tags": []
          },
          "execution_count": 29
        }
      ]
    },
    {
      "cell_type": "code",
      "metadata": {
        "colab": {
          "base_uri": "https://localhost:8080/"
        },
        "id": "hqjm3Klsrh10",
        "outputId": "91366a64-0f79-4ee6-baf8-4e553c327258"
      },
      "source": [
        "temp.std()"
      ],
      "execution_count": 30,
      "outputs": [
        {
          "output_type": "execute_result",
          "data": {
            "text/plain": [
              "7.754305350561417"
            ]
          },
          "metadata": {
            "tags": []
          },
          "execution_count": 30
        }
      ]
    },
    {
      "cell_type": "code",
      "metadata": {
        "colab": {
          "base_uri": "https://localhost:8080/",
          "height": 367
        },
        "id": "xeYvQMjFrmtI",
        "outputId": "ab937ca3-f684-494c-cddc-26d69fa4fca7"
      },
      "source": [
        "plt.hist(temp)"
      ],
      "execution_count": 31,
      "outputs": [
        {
          "output_type": "execute_result",
          "data": {
            "text/plain": [
              "(array([  297.,  2100.,  6706., 15629., 17035., 14113., 12733., 11795.,\n",
              "         5601.,   919.]),\n",
              " array([-16.62485352, -12.39963379,  -8.17441406,  -3.94919434,\n",
              "          0.27602539,   4.50124512,   8.72646484,  12.95168457,\n",
              "         17.1769043 ,  21.40212402,  25.62734375]),\n",
              " <a list of 10 Patch objects>)"
            ]
          },
          "metadata": {
            "tags": []
          },
          "execution_count": 31
        },
        {
          "output_type": "display_data",
          "data": {
            "image/png": "[encoded data removed]",
            "text/plain": [
              "<Figure size 432x288 with 1 Axes>"
            ]
          },
          "metadata": {
            "tags": [],
            "needs_background": "light"
          }
        }
      ]
    },
    {
      "cell_type": "code",
      "metadata": {
        "id": "ZE61KVZrrxc0"
      },
      "source": [
        "#temp = (temp - temp.mean())/temp.std()"
      ],
      "execution_count": 32,
      "outputs": []
    },
    {
      "cell_type": "code",
      "metadata": {
        "colab": {
          "base_uri": "https://localhost:8080/"
        },
        "id": "7cdy_DhUELGl",
        "outputId": "f0000294-7e6a-48b8-c39c-b63ba4936f84"
      },
      "source": [
        "temp.mean()"
      ],
      "execution_count": 33,
      "outputs": [
        {
          "output_type": "execute_result",
          "data": {
            "text/plain": [
              "5.57589982331033"
            ]
          },
          "metadata": {
            "tags": []
          },
          "execution_count": 33
        }
      ]
    },
    {
      "cell_type": "code",
      "metadata": {
        "colab": {
          "base_uri": "https://localhost:8080/"
        },
        "id": "GNh-ICRmENdT",
        "outputId": "774a0ce7-aed3-4df2-a405-cc23053c094f"
      },
      "source": [
        "temp.std()"
      ],
      "execution_count": 34,
      "outputs": [
        {
          "output_type": "execute_result",
          "data": {
            "text/plain": [
              "7.754305350561417"
            ]
          },
          "metadata": {
            "tags": []
          },
          "execution_count": 34
        }
      ]
    },
    {
      "cell_type": "code",
      "metadata": {
        "id": "otA5KK524DOm",
        "colab": {
          "base_uri": "https://localhost:8080/"
        },
        "outputId": "40fe0d3b-46c3-47b7-a96a-5037d1129781"
      },
      "source": [
        "temp.max()"
      ],
      "execution_count": 35,
      "outputs": [
        {
          "output_type": "execute_result",
          "data": {
            "text/plain": [
              "25.627343750000023"
            ]
          },
          "metadata": {
            "tags": []
          },
          "execution_count": 35
        }
      ]
    },
    {
      "cell_type": "code",
      "metadata": {
        "colab": {
          "base_uri": "https://localhost:8080/"
        },
        "id": "JqaBoSov1EW_",
        "outputId": "bfb382f3-749f-4dd6-f534-c70ac52608d9"
      },
      "source": [
        "temp.min()"
      ],
      "execution_count": 36,
      "outputs": [
        {
          "output_type": "execute_result",
          "data": {
            "text/plain": [
              "-16.624853515624977"
            ]
          },
          "metadata": {
            "tags": []
          },
          "execution_count": 36
        }
      ]
    },
    {
      "cell_type": "markdown",
      "metadata": {
        "id": "UMZUOts7s_ks"
      },
      "source": [
        "## Generate Samples"
      ]
    },
    {
      "cell_type": "markdown",
      "metadata": {
        "id": "00AHc-f4DKue"
      },
      "source": [
        "We will avoid using functions to generate smaples to understand the process."
      ]
    },
    {
      "cell_type": "markdown",
      "metadata": {
        "id": "3A1QkayuDsw1"
      },
      "source": [
        "We want the prediction model to predict the next 6 hr of data with previous 6 hrs of temp data available."
      ]
    },
    {
      "cell_type": "code",
      "metadata": {
        "colab": {
          "base_uri": "https://localhost:8080/"
        },
        "id": "VsE0ArRFDsQS",
        "outputId": "0453e00d-c3f8-45df-c2c5-4d1f6f00fc96"
      },
      "source": [
        "temp[0:6]"
      ],
      "execution_count": 37,
      "outputs": [
        {
          "output_type": "execute_result",
          "data": {
            "text/plain": [
              "masked_array(data=[-0.3391920819591405, -0.4932865862010658,\n",
              "                   -0.36627145090540125, -0.1728473870034577,\n",
              "                   -0.26569093767636787, -0.4346146201507963],\n",
              "             mask=[False, False, False, False, False, False],\n",
              "       fill_value=-32767)"
            ]
          },
          "metadata": {
            "tags": []
          },
          "execution_count": 37
        }
      ]
    },
    {
      "cell_type": "markdown",
      "metadata": {
        "id": "hp5_X5rIbSd7"
      },
      "source": [
        "We make the vectors of size 6"
      ]
    },
    {
      "cell_type": "code",
      "metadata": {
        "id": "0F3XOYBqDaoz"
      },
      "source": [
        "\n"
      ],
      "execution_count": 37,
      "outputs": []
    },
    {
      "cell_type": "code",
      "metadata": {
        "id": "IbsNEq5YGgBC"
      },
      "source": [
        "future = 6\n",
        "past = 12"
      ],
      "execution_count": 38,
      "outputs": []
    },
    {
      "cell_type": "code",
      "metadata": {
        "id": "WrBV39mPGgBL"
      },
      "source": [
        "data = []\n",
        "\n",
        "for i in range(len(temp)- (future + past)  +1):\n",
        "  data.append(temp[i:i+past].data)\n",
        "data  = np.array(data) "
      ],
      "execution_count": 39,
      "outputs": []
    },
    {
      "cell_type": "code",
      "metadata": {
        "id": "IIl-SaeCGgBM"
      },
      "source": [
        "label = []\n",
        "for i in range(len(temp)- (future + past)  +1):\n",
        "  label.append(temp[i+ past:i+past + future].data)\n",
        "\n",
        "label = np.array(label)\n"
      ],
      "execution_count": 40,
      "outputs": []
    },
    {
      "cell_type": "code",
      "metadata": {
        "colab": {
          "base_uri": "https://localhost:8080/"
        },
        "id": "48h9WMgJIPQq",
        "outputId": "4becde57-56cb-492c-ec7a-96cd4a270649"
      },
      "source": [
        "#no of samples\n",
        "n_dataSample = len(temp)-past-future +1\n",
        "print(n_dataSample)"
      ],
      "execution_count": 41,
      "outputs": [
        {
          "output_type": "stream",
          "text": [
            "86911\n"
          ],
          "name": "stdout"
        }
      ]
    },
    {
      "cell_type": "code",
      "metadata": {
        "colab": {
          "base_uri": "https://localhost:8080/"
        },
        "id": "gFpXn8oMGgBN",
        "outputId": "4456dc19-ec3a-413d-893a-7a8792501266"
      },
      "source": [
        "data.shape"
      ],
      "execution_count": 42,
      "outputs": [
        {
          "output_type": "execute_result",
          "data": {
            "text/plain": [
              "(86911, 12)"
            ]
          },
          "metadata": {
            "tags": []
          },
          "execution_count": 42
        }
      ]
    },
    {
      "cell_type": "code",
      "metadata": {
        "colab": {
          "base_uri": "https://localhost:8080/"
        },
        "id": "FsEcuwj_GgBP",
        "outputId": "a35ec6ab-31a1-4e30-939e-3c5a635cd266"
      },
      "source": [
        "label.shape"
      ],
      "execution_count": 43,
      "outputs": [
        {
          "output_type": "execute_result",
          "data": {
            "text/plain": [
              "(86911, 6)"
            ]
          },
          "metadata": {
            "tags": []
          },
          "execution_count": 43
        }
      ]
    },
    {
      "cell_type": "markdown",
      "metadata": {
        "id": "WdR0ak8-307l"
      },
      "source": [
        "> Split the samples into train and test data"
      ]
    },
    {
      "cell_type": "code",
      "metadata": {
        "id": "IYqFyO8Wiylk"
      },
      "source": [
        "temp_train_number = np.int(0.8*len(data))"
      ],
      "execution_count": 44,
      "outputs": []
    },
    {
      "cell_type": "code",
      "metadata": {
        "colab": {
          "base_uri": "https://localhost:8080/"
        },
        "id": "rtuZyWlkkGbQ",
        "outputId": "e72ed42e-3177-46cb-8581-04013a050528"
      },
      "source": [
        "temp_train_number"
      ],
      "execution_count": 45,
      "outputs": [
        {
          "output_type": "execute_result",
          "data": {
            "text/plain": [
              "69528"
            ]
          },
          "metadata": {
            "tags": []
          },
          "execution_count": 45
        }
      ]
    },
    {
      "cell_type": "code",
      "metadata": {
        "id": "MuC6Bm6ckNG1"
      },
      "source": [
        "train_temp = data[:temp_train_number]"
      ],
      "execution_count": 46,
      "outputs": []
    },
    {
      "cell_type": "code",
      "metadata": {
        "colab": {
          "base_uri": "https://localhost:8080/"
        },
        "id": "T22dohhlkWRL",
        "outputId": "75495262-86ec-400b-f95f-1b9f09d2edbb"
      },
      "source": [
        "train_temp.shape"
      ],
      "execution_count": 47,
      "outputs": [
        {
          "output_type": "execute_result",
          "data": {
            "text/plain": [
              "(69528, 12)"
            ]
          },
          "metadata": {
            "tags": []
          },
          "execution_count": 47
        }
      ]
    },
    {
      "cell_type": "code",
      "metadata": {
        "colab": {
          "base_uri": "https://localhost:8080/"
        },
        "id": "_mecrf3Olbw3",
        "outputId": "50a5d636-a23b-4b55-87cc-a6af99844249"
      },
      "source": [
        "train_temp[temp_train_number-1]"
      ],
      "execution_count": 48,
      "outputs": [
        {
          "output_type": "execute_result",
          "data": {
            "text/plain": [
              "array([-1.99554682, -1.93300637, -1.8537025 , -1.38819526, -1.04003194,\n",
              "       -0.77310673, -0.56485349, -0.4797469 , -0.47200994, -0.68284217,\n",
              "       -0.84338414, -1.15157315])"
            ]
          },
          "metadata": {
            "tags": []
          },
          "execution_count": 48
        }
      ]
    },
    {
      "cell_type": "code",
      "metadata": {
        "id": "f1Xl_Jk8kawN"
      },
      "source": [
        "train_label = label[:temp_train_number]"
      ],
      "execution_count": 49,
      "outputs": []
    },
    {
      "cell_type": "code",
      "metadata": {
        "colab": {
          "base_uri": "https://localhost:8080/"
        },
        "id": "czfweIwskgbU",
        "outputId": "3ce1d279-0c64-4d3f-f3af-f4846f9a044a"
      },
      "source": [
        "train_label.shape"
      ],
      "execution_count": 50,
      "outputs": [
        {
          "output_type": "execute_result",
          "data": {
            "text/plain": [
              "(69528, 6)"
            ]
          },
          "metadata": {
            "tags": []
          },
          "execution_count": 50
        }
      ]
    },
    {
      "cell_type": "code",
      "metadata": {
        "id": "swF0pfs_kjJa"
      },
      "source": [
        "test_temp = data[temp_train_number:]"
      ],
      "execution_count": 51,
      "outputs": []
    },
    {
      "cell_type": "code",
      "metadata": {
        "id": "Ao5XV2YYlkm_"
      },
      "source": [
        "test_label = label[temp_train_number:]"
      ],
      "execution_count": 52,
      "outputs": []
    },
    {
      "cell_type": "code",
      "metadata": {
        "colab": {
          "base_uri": "https://localhost:8080/"
        },
        "id": "JfursmMulpap",
        "outputId": "91696753-5295-4dbc-aee5-656dedff9ec2"
      },
      "source": [
        "print(test_label.shape)\n",
        "print(test_temp.shape)"
      ],
      "execution_count": 53,
      "outputs": [
        {
          "output_type": "stream",
          "text": [
            "(17383, 6)\n",
            "(17383, 12)\n"
          ],
          "name": "stdout"
        }
      ]
    },
    {
      "cell_type": "code",
      "metadata": {
        "colab": {
          "base_uri": "https://localhost:8080/"
        },
        "id": "UFC8ixk6lZ9G",
        "outputId": "128ce300-da97-4438-c979-1f300d51e918"
      },
      "source": [
        "test_temp[1].shape"
      ],
      "execution_count": 54,
      "outputs": [
        {
          "output_type": "execute_result",
          "data": {
            "text/plain": [
              "(12,)"
            ]
          },
          "metadata": {
            "tags": []
          },
          "execution_count": 54
        }
      ]
    },
    {
      "cell_type": "markdown",
      "metadata": {
        "id": "sgyLZVdnGtX5"
      },
      "source": [
        "#  Persistence Model"
      ]
    },
    {
      "cell_type": "code",
      "metadata": {
        "id": "GbP98gYzGw8K"
      },
      "source": [
        "def model_persistence(test_temp_entry):\n",
        "  arr = np.full((future,),test_temp_entry[past-1])\n",
        "\n",
        "  return arr"
      ],
      "execution_count": 55,
      "outputs": []
    },
    {
      "cell_type": "code",
      "metadata": {
        "colab": {
          "base_uri": "https://localhost:8080/"
        },
        "id": "SSDmsKs8IAF6",
        "outputId": "6f8bbd86-07b9-49c9-dbb7-cc16bedf01d5"
      },
      "source": [
        "test_temp[1]"
      ],
      "execution_count": 56,
      "outputs": [
        {
          "output_type": "execute_result",
          "data": {
            "text/plain": [
              "array([-1.8537025 , -1.38819526, -1.04003194, -0.77310673, -0.56485349,\n",
              "       -0.4797469 , -0.47200994, -0.68284217, -0.84338414, -1.15157315,\n",
              "       -1.24312721, -1.32629955])"
            ]
          },
          "metadata": {
            "tags": []
          },
          "execution_count": 56
        }
      ]
    },
    {
      "cell_type": "code",
      "metadata": {
        "colab": {
          "base_uri": "https://localhost:8080/"
        },
        "id": "g_ukdfIJHLwC",
        "outputId": "b87040de-9b82-41bd-e92a-824715f4ff34"
      },
      "source": [
        "model_persistence(test_temp[1])"
      ],
      "execution_count": 57,
      "outputs": [
        {
          "output_type": "execute_result",
          "data": {
            "text/plain": [
              "array([-1.32629955, -1.32629955, -1.32629955, -1.32629955, -1.32629955,\n",
              "       -1.32629955])"
            ]
          },
          "metadata": {
            "tags": []
          },
          "execution_count": 57
        }
      ]
    },
    {
      "cell_type": "code",
      "metadata": {
        "id": "uXDZvx9yIh4c"
      },
      "source": [
        "def y_persis(test_temp):\n",
        "  arr = np.empty(test_label.shape)\n",
        "  for i in range(len(test_temp)):\n",
        "    arr[i] = model_persistence(test_temp[i])\n",
        "  return arr    "
      ],
      "execution_count": 58,
      "outputs": []
    },
    {
      "cell_type": "code",
      "metadata": {
        "colab": {
          "base_uri": "https://localhost:8080/"
        },
        "id": "ak5iT6eHLWfS",
        "outputId": "4be47956-64cc-4038-d0e7-b3533b78a0bb"
      },
      "source": [
        "test_temp.shape"
      ],
      "execution_count": 59,
      "outputs": [
        {
          "output_type": "execute_result",
          "data": {
            "text/plain": [
              "(17383, 12)"
            ]
          },
          "metadata": {
            "tags": []
          },
          "execution_count": 59
        }
      ]
    },
    {
      "cell_type": "code",
      "metadata": {
        "id": "PsRl5gc_JvRR"
      },
      "source": [
        "y_persistence = y_persis(test_temp)"
      ],
      "execution_count": 60,
      "outputs": []
    },
    {
      "cell_type": "markdown",
      "metadata": {
        "id": "N860J48I-QH_"
      },
      "source": [
        "### MSE_Persistence"
      ]
    },
    {
      "cell_type": "code",
      "metadata": {
        "id": "xDZpuZM9Pb7B"
      },
      "source": [
        "from sklearn import linear_model\n",
        "from sklearn.metrics import mean_squared_error, r2_score\n",
        "from sklearn.model_selection import train_test_split"
      ],
      "execution_count": 61,
      "outputs": []
    },
    {
      "cell_type": "code",
      "metadata": {
        "colab": {
          "base_uri": "https://localhost:8080/"
        },
        "id": "KU8c5Cm0PVjG",
        "outputId": "436c541e-9ad7-45c9-a320-b3f9234c55af"
      },
      "source": [
        "# The mean squared error\n",
        "print('Mean squared error: %.2f'\n",
        "      % mean_squared_error(test_label, y_persistence))\n",
        "print('Coefficient of determination: %.2f'\n",
        "      % r2_score(test_label, y_persistence))"
      ],
      "execution_count": 62,
      "outputs": [
        {
          "output_type": "stream",
          "text": [
            "Mean squared error: 2.91\n",
            "Coefficient of determination: 0.95\n"
          ],
          "name": "stdout"
        }
      ]
    },
    {
      "cell_type": "markdown",
      "metadata": {
        "id": "hBr8-kEM-bd0"
      },
      "source": [
        "### Plot the temp"
      ]
    },
    {
      "cell_type": "code",
      "metadata": {
        "colab": {
          "base_uri": "https://localhost:8080/",
          "height": 282
        },
        "id": "s83P6z6OPPoN",
        "outputId": "b072495d-eee8-4f15-dd74-9cdd65d4112f"
      },
      "source": [
        "z = np.linspace(past, past+future,future)\n",
        "plt.plot(test_temp[101])\n",
        "plt.scatter(z,y_persistence[101])\n",
        "plt.scatter(z,test_label[101])"
      ],
      "execution_count": 63,
      "outputs": [
        {
          "output_type": "execute_result",
          "data": {
            "text/plain": [
              "<matplotlib.collections.PathCollection at 0x7f2e93263610>"
            ]
          },
          "metadata": {
            "tags": []
          },
          "execution_count": 63
        },
        {
          "output_type": "display_data",
          "data": {
            "image/png": "[encoded data removed]",
            "text/plain": [
              "<Figure size 432x288 with 1 Axes>"
            ]
          },
          "metadata": {
            "tags": [],
            "needs_background": "light"
          }
        }
      ]
    },
    {
      "cell_type": "markdown",
      "metadata": {
        "id": "aQelxbdFB5yc"
      },
      "source": [
        "# Linear regression using Sklearn"
      ]
    },
    {
      "cell_type": "code",
      "metadata": {
        "id": "Y_YDixjmlab3"
      },
      "source": [
        "from sklearn import linear_model\n",
        "from sklearn.metrics import mean_squared_error, r2_score\n",
        "from sklearn.model_selection import train_test_split"
      ],
      "execution_count": 64,
      "outputs": []
    },
    {
      "cell_type": "code",
      "metadata": {
        "id": "PHyp_49zlab6"
      },
      "source": [
        "linear_regression = linear_model.LinearRegression()"
      ],
      "execution_count": 65,
      "outputs": []
    },
    {
      "cell_type": "code",
      "metadata": {
        "colab": {
          "base_uri": "https://localhost:8080/"
        },
        "id": "AXnSmakPlab6",
        "outputId": "b466b14b-17cc-4a07-a1eb-04f2bf1d9b6a"
      },
      "source": [
        "linear_regression.fit(train_temp, train_label)"
      ],
      "execution_count": 66,
      "outputs": [
        {
          "output_type": "execute_result",
          "data": {
            "text/plain": [
              "LinearRegression(copy_X=True, fit_intercept=True, n_jobs=None, normalize=False)"
            ]
          },
          "metadata": {
            "tags": []
          },
          "execution_count": 66
        }
      ]
    },
    {
      "cell_type": "code",
      "metadata": {
        "id": "sbI3PsBqlab7"
      },
      "source": [
        "predict_label = linear_regression.predict(test_temp)"
      ],
      "execution_count": 67,
      "outputs": []
    },
    {
      "cell_type": "markdown",
      "metadata": {
        "id": "OiyQTdng-lZV"
      },
      "source": [
        "### MSE_Linear_Regression"
      ]
    },
    {
      "cell_type": "code",
      "metadata": {
        "colab": {
          "base_uri": "https://localhost:8080/"
        },
        "id": "8bSydjDslab7",
        "outputId": "7fb7d469-c015-4379-f9c5-7eea8817309a"
      },
      "source": [
        "# The mean squared error\n",
        "print('Mean squared error: %.2f'\n",
        "      % mean_squared_error(test_label, predict_label))\n",
        "# The coefficient of determination: 1 is perfect prediction\n",
        "print('Coefficient of determination: %.2f'\n",
        "      % r2_score(test_label, predict_label))"
      ],
      "execution_count": 68,
      "outputs": [
        {
          "output_type": "stream",
          "text": [
            "Mean squared error: 2.03\n",
            "Coefficient of determination: 0.97\n"
          ],
          "name": "stdout"
        }
      ]
    },
    {
      "cell_type": "code",
      "metadata": {
        "colab": {
          "base_uri": "https://localhost:8080/",
          "height": 282
        },
        "id": "cA28QS0Klab8",
        "outputId": "a1e1f002-e063-43b3-9922-6bbe57340971"
      },
      "source": [
        "z = np.linspace(past, past+future,future)\n",
        "plt.plot(test_temp[101])\n",
        "plt.scatter(z,predict_label[101])\n",
        "plt.scatter(z,test_label[101])"
      ],
      "execution_count": 69,
      "outputs": [
        {
          "output_type": "execute_result",
          "data": {
            "text/plain": [
              "<matplotlib.collections.PathCollection at 0x7f2e911f9750>"
            ]
          },
          "metadata": {
            "tags": []
          },
          "execution_count": 69
        },
        {
          "output_type": "display_data",
          "data": {
            "image/png": "[encoded data removed]",
            "text/plain": [
              "<Figure size 432x288 with 1 Axes>"
            ]
          },
          "metadata": {
            "tags": [],
            "needs_background": "light"
          }
        }
      ]
    },
    {
      "cell_type": "markdown",
      "metadata": {
        "id": "xzKXduve-sxi"
      },
      "source": [
        "# Neural Network"
      ]
    },
    {
      "cell_type": "markdown",
      "metadata": {
        "id": "iU2Yf8c-lHCh"
      },
      "source": [
        "## Normalize the data"
      ]
    },
    {
      "cell_type": "code",
      "metadata": {
        "id": "woziVs3h1zuJ"
      },
      "source": [
        "train_temp_max = train_temp.max()\n",
        "train_temp_min = train_temp.min()\n",
        "\n",
        "train_temp_norm = (train_temp- train_temp_min)/(train_temp_max-train_temp_min)\n",
        "test_temp_norm = (test_temp- train_temp_min)/(train_temp_max-train_temp_min)\n",
        "\n",
        "train_label_norm = (train_label- train_temp_min)/(train_temp_max-train_temp_min)\n",
        "test_label_norm = (test_label- train_temp_min)/(train_temp_max-train_temp_min)\n",
        "\n"
      ],
      "execution_count": 70,
      "outputs": []
    },
    {
      "cell_type": "code",
      "metadata": {
        "colab": {
          "base_uri": "https://localhost:8080/"
        },
        "id": "qGtae2jG2zLB",
        "outputId": "9ff16f6c-cf5e-4eda-e383-e1aefbb38f4c"
      },
      "source": [
        "train_temp.max()"
      ],
      "execution_count": 71,
      "outputs": [
        {
          "output_type": "execute_result",
          "data": {
            "text/plain": [
              "25.627343750000023"
            ]
          },
          "metadata": {
            "tags": []
          },
          "execution_count": 71
        }
      ]
    },
    {
      "cell_type": "code",
      "metadata": {
        "colab": {
          "base_uri": "https://localhost:8080/"
        },
        "id": "_4y5SDPP23gB",
        "outputId": "7b1f0e8d-9957-4f82-ce79-9d3075db5a6f"
      },
      "source": [
        "train_label.min()"
      ],
      "execution_count": 72,
      "outputs": [
        {
          "output_type": "execute_result",
          "data": {
            "text/plain": [
              "-16.624853515624977"
            ]
          },
          "metadata": {
            "tags": []
          },
          "execution_count": 72
        }
      ]
    },
    {
      "cell_type": "code",
      "metadata": {
        "id": "1GIhFFxSxtWu"
      },
      "source": [
        "#inp = tf.keras.layers.Input(shape=(6,))     # Sequential api\n",
        "#b = tf.keras.layers.Dense(128,activation='relu')(inp)\n",
        "##b = tf.keras.layers.Dense(128,activation='relu')(inp)\n",
        "#b = tf.keras.layers.Dense(128,activation='relu')(inp)\n",
        "#out = tf.keras.layers.Dense(6, activation='linear')(b)\n",
        "\n",
        "#model = tf.keras.models.Model(inp,out)\n",
        "#model.summary()"
      ],
      "execution_count": 73,
      "outputs": []
    },
    {
      "cell_type": "code",
      "metadata": {
        "colab": {
          "base_uri": "https://localhost:8080/",
          "height": 282
        },
        "id": "VFqROSNq7qoB",
        "outputId": "bf3ad506-a6ce-4c0c-83d4-e7f5f5e32fa8"
      },
      "source": [
        "axis = np.linspace(0,1999,2000)\n",
        "axisy = temp[0:2000]\n",
        "plt.scatter(axis,axisy)"
      ],
      "execution_count": 74,
      "outputs": [
        {
          "output_type": "execute_result",
          "data": {
            "text/plain": [
              "<matplotlib.collections.PathCollection at 0x7f2e91203850>"
            ]
          },
          "metadata": {
            "tags": []
          },
          "execution_count": 74
        },
        {
          "output_type": "display_data",
          "data": {
            "image/png": "[encoded data removed]",
            "text/plain": [
              "<Figure size 432x288 with 1 Axes>"
            ]
          },
          "metadata": {
            "tags": [],
            "needs_background": "light"
          }
        }
      ]
    },
    {
      "cell_type": "markdown",
      "metadata": {
        "id": "_p_eF52cMIUX"
      },
      "source": [
        "## Model"
      ]
    },
    {
      "cell_type": "code",
      "metadata": {
        "colab": {
          "base_uri": "https://localhost:8080/"
        },
        "id": "ANZh00SVFVR8",
        "outputId": "e2c185d2-132a-48f6-da83-efd2c4edeb80"
      },
      "source": [
        "model = tf.keras.models.Sequential([\n",
        "  \n",
        "  tf.keras.layers.Input(shape=(past,)),\n",
        "  tf.keras.layers.Dense(128,activation='relu'),\n",
        "  tf.keras.layers.Dense(128,activation='relu'),\n",
        "  tf.keras.layers.Dense(128,activation='relu'),\n",
        "  tf.keras.layers.Dense(future, activation='linear')\n",
        "])\n",
        "\n",
        "# Compile the model, i.e. associate a loss function and the chosen variant of GD\n",
        "model.compile(\n",
        "    loss=tf.losses.MeanSquaredError(),\n",
        "                optimizer=tf.optimizers.Adam(),\n",
        "                metrics=[tf.metrics.MeanAbsoluteError(),'accuracy']\n",
        ")\n",
        "\n",
        "# Summary of the model\n",
        "model.summary()"
      ],
      "execution_count": 75,
      "outputs": [
        {
          "output_type": "stream",
          "text": [
            "Model: \"sequential\"\n",
            "_________________________________________________________________\n",
            "Layer (type)                 Output Shape              Param #   \n",
            "=================================================================\n",
            "dense (Dense)                (None, 128)               1664      \n",
            "_________________________________________________________________\n",
            "dense_1 (Dense)              (None, 128)               16512     \n",
            "_________________________________________________________________\n",
            "dense_2 (Dense)              (None, 128)               16512     \n",
            "_________________________________________________________________\n",
            "dense_3 (Dense)              (None, 6)                 774       \n",
            "=================================================================\n",
            "Total params: 35,462\n",
            "Trainable params: 35,462\n",
            "Non-trainable params: 0\n",
            "_________________________________________________________________\n"
          ],
          "name": "stdout"
        }
      ]
    },
    {
      "cell_type": "code",
      "metadata": {
        "id": "ZXboj3oyFAa5"
      },
      "source": [
        "test = test_temp_norm, test_label_norm"
      ],
      "execution_count": 76,
      "outputs": []
    },
    {
      "cell_type": "code",
      "metadata": {
        "colab": {
          "base_uri": "https://localhost:8080/"
        },
        "id": "cgHmdimPHWWn",
        "outputId": "7ecc57a8-471d-42c9-9032-98c9e4324081"
      },
      "source": [
        "hist = model.fit(train_temp_norm,train_label_norm ,batch_size=64, epochs=40,callbacks = tf.keras.callbacks.EarlyStopping(patience=5), validation_data= test)"
      ],
      "execution_count": 77,
      "outputs": [
        {
          "output_type": "stream",
          "text": [
            "Epoch 1/40\n",
            "1087/1087 [==============================] - 4s 3ms/step - loss: 0.0112 - mean_absolute_error: 0.0552 - accuracy: 0.3296 - val_loss: 0.0014 - val_mean_absolute_error: 0.0270 - val_accuracy: 0.4010\n",
            "Epoch 2/40\n",
            "1087/1087 [==============================] - 3s 3ms/step - loss: 0.0013 - mean_absolute_error: 0.0259 - accuracy: 0.4491 - val_loss: 0.0014 - val_mean_absolute_error: 0.0280 - val_accuracy: 0.4422\n",
            "Epoch 3/40\n",
            "1087/1087 [==============================] - 3s 3ms/step - loss: 0.0013 - mean_absolute_error: 0.0259 - accuracy: 0.4500 - val_loss: 0.0011 - val_mean_absolute_error: 0.0240 - val_accuracy: 0.4921\n",
            "Epoch 4/40\n",
            "1087/1087 [==============================] - 3s 3ms/step - loss: 0.0013 - mean_absolute_error: 0.0250 - accuracy: 0.4615 - val_loss: 0.0011 - val_mean_absolute_error: 0.0234 - val_accuracy: 0.4747\n",
            "Epoch 5/40\n",
            "1087/1087 [==============================] - 3s 3ms/step - loss: 0.0012 - mean_absolute_error: 0.0248 - accuracy: 0.4640 - val_loss: 0.0013 - val_mean_absolute_error: 0.0251 - val_accuracy: 0.5205\n",
            "Epoch 6/40\n",
            "1087/1087 [==============================] - 3s 3ms/step - loss: 0.0013 - mean_absolute_error: 0.0253 - accuracy: 0.4637 - val_loss: 0.0011 - val_mean_absolute_error: 0.0227 - val_accuracy: 0.5000\n",
            "Epoch 7/40\n",
            "1087/1087 [==============================] - 3s 3ms/step - loss: 0.0012 - mean_absolute_error: 0.0246 - accuracy: 0.4684 - val_loss: 0.0014 - val_mean_absolute_error: 0.0273 - val_accuracy: 0.5116\n",
            "Epoch 8/40\n",
            "1087/1087 [==============================] - 3s 3ms/step - loss: 0.0012 - mean_absolute_error: 0.0247 - accuracy: 0.4795 - val_loss: 0.0011 - val_mean_absolute_error: 0.0240 - val_accuracy: 0.3719\n",
            "Epoch 9/40\n",
            "1087/1087 [==============================] - 3s 3ms/step - loss: 0.0012 - mean_absolute_error: 0.0247 - accuracy: 0.4757 - val_loss: 0.0010 - val_mean_absolute_error: 0.0219 - val_accuracy: 0.4568\n",
            "Epoch 10/40\n",
            "1087/1087 [==============================] - 3s 2ms/step - loss: 0.0013 - mean_absolute_error: 0.0253 - accuracy: 0.4811 - val_loss: 0.0010 - val_mean_absolute_error: 0.0222 - val_accuracy: 0.5314\n",
            "Epoch 11/40\n",
            "1087/1087 [==============================] - 3s 2ms/step - loss: 0.0012 - mean_absolute_error: 0.0243 - accuracy: 0.4765 - val_loss: 0.0011 - val_mean_absolute_error: 0.0237 - val_accuracy: 0.4929\n",
            "Epoch 12/40\n",
            "1087/1087 [==============================] - 3s 2ms/step - loss: 0.0012 - mean_absolute_error: 0.0242 - accuracy: 0.4836 - val_loss: 0.0010 - val_mean_absolute_error: 0.0225 - val_accuracy: 0.4701\n",
            "Epoch 13/40\n",
            "1087/1087 [==============================] - 3s 2ms/step - loss: 0.0012 - mean_absolute_error: 0.0247 - accuracy: 0.4774 - val_loss: 0.0012 - val_mean_absolute_error: 0.0241 - val_accuracy: 0.4087\n",
            "Epoch 14/40\n",
            "1087/1087 [==============================] - 3s 2ms/step - loss: 0.0012 - mean_absolute_error: 0.0242 - accuracy: 0.4824 - val_loss: 0.0011 - val_mean_absolute_error: 0.0228 - val_accuracy: 0.5262\n"
          ],
          "name": "stdout"
        }
      ]
    },
    {
      "cell_type": "code",
      "metadata": {
        "colab": {
          "base_uri": "https://localhost:8080/"
        },
        "id": "tBA6pHJtzE4X",
        "outputId": "5aa5374d-c7c8-4550-8062-3aebd0d30d3d"
      },
      "source": [
        "test_temp"
      ],
      "execution_count": 78,
      "outputs": [
        {
          "output_type": "execute_result",
          "data": {
            "text/plain": [
              "array([[-1.93300637, -1.8537025 , -1.38819526, ..., -0.84338414,\n",
              "        -1.15157315, -1.24312721],\n",
              "       [-1.8537025 , -1.38819526, -1.04003194, ..., -1.15157315,\n",
              "        -1.24312721, -1.32629955],\n",
              "       [-1.38819526, -1.04003194, -0.77310673, ..., -1.24312721,\n",
              "        -1.32629955, -1.44493298],\n",
              "       ...,\n",
              "       [ 2.26300632,  2.15662309,  2.12567524, ...,  2.18370246,\n",
              "         2.84908124,  3.12825664],\n",
              "       [ 2.15662309,  2.12567524,  2.0921484 , ...,  2.84908124,\n",
              "         3.12825664,  3.38099741],\n",
              "       [ 2.12567524,  2.0921484 ,  2.09021416, ...,  3.12825664,\n",
              "         3.38099741,  3.79363542]])"
            ]
          },
          "metadata": {
            "tags": []
          },
          "execution_count": 78
        }
      ]
    },
    {
      "cell_type": "code",
      "metadata": {
        "id": "690uGOO0HkPf"
      },
      "source": [
        "prediction = model.predict(test_temp_norm)"
      ],
      "execution_count": 79,
      "outputs": []
    },
    {
      "cell_type": "code",
      "metadata": {
        "colab": {
          "base_uri": "https://localhost:8080/"
        },
        "id": "MVUgTcGpNKwa",
        "outputId": "c360b8c4-fc00-4ec7-c27c-e7400a9aed87"
      },
      "source": [
        "prediction.shape"
      ],
      "execution_count": 80,
      "outputs": [
        {
          "output_type": "execute_result",
          "data": {
            "text/plain": [
              "(17383, 6)"
            ]
          },
          "metadata": {
            "tags": []
          },
          "execution_count": 80
        }
      ]
    },
    {
      "cell_type": "code",
      "metadata": {
        "colab": {
          "base_uri": "https://localhost:8080/"
        },
        "id": "dHbfItmpNNu7",
        "outputId": "a28620b4-33ee-4b90-b370-568647e96ae1"
      },
      "source": [
        "test_label_norm.shape"
      ],
      "execution_count": 81,
      "outputs": [
        {
          "output_type": "execute_result",
          "data": {
            "text/plain": [
              "(17383, 6)"
            ]
          },
          "metadata": {
            "tags": []
          },
          "execution_count": 81
        }
      ]
    },
    {
      "cell_type": "code",
      "metadata": {
        "colab": {
          "base_uri": "https://localhost:8080/"
        },
        "id": "Fvs6KS3qJeYK",
        "outputId": "37bed231-2ffe-4143-b34b-be6ba4038270"
      },
      "source": [
        "model.evaluate(test_temp_norm,  test_label_norm, verbose=2)"
      ],
      "execution_count": 82,
      "outputs": [
        {
          "output_type": "stream",
          "text": [
            "544/544 - 0s - loss: 0.0011 - mean_absolute_error: 0.0228 - accuracy: 0.5262\n"
          ],
          "name": "stdout"
        },
        {
          "output_type": "execute_result",
          "data": {
            "text/plain": [
              "[0.001067313482053578, 0.022808533161878586, 0.5262037515640259]"
            ]
          },
          "metadata": {
            "tags": []
          },
          "execution_count": 82
        }
      ]
    },
    {
      "cell_type": "markdown",
      "metadata": {
        "id": "3Sk3GdGEBvmw"
      },
      "source": [
        "## Scale back to prediction temperature"
      ]
    },
    {
      "cell_type": "code",
      "metadata": {
        "id": "IuZ0L9seVV66"
      },
      "source": [
        "y_predict_norm = model.predict(test_temp_norm)"
      ],
      "execution_count": 83,
      "outputs": []
    },
    {
      "cell_type": "code",
      "metadata": {
        "id": "jbsxRFIzRLXd"
      },
      "source": [
        "y_predict = train_temp_min + y_predict_norm * (train_temp_max-train_temp_min)"
      ],
      "execution_count": 84,
      "outputs": []
    },
    {
      "cell_type": "markdown",
      "metadata": {
        "id": "4nIM-gd_B6oM"
      },
      "source": [
        "##MSE_Neural_Network"
      ]
    },
    {
      "cell_type": "code",
      "metadata": {
        "colab": {
          "base_uri": "https://localhost:8080/"
        },
        "id": "KnVKF-ZLRvjZ",
        "outputId": "cbf7943a-d4e8-4bba-bce4-5ffbbe85dc5d"
      },
      "source": [
        "# The mean squared error\n",
        "print('Mean squared error: %.2f'\n",
        "      % mean_squared_error(test_label, y_predict))\n",
        "# The coefficient of determination: 1 is perfect prediction\n",
        "print('Coefficient of determination: %.2f'\n",
        "      % r2_score(test_label, y_predict))"
      ],
      "execution_count": 85,
      "outputs": [
        {
          "output_type": "stream",
          "text": [
            "Mean squared error: 1.91\n",
            "Coefficient of determination: 0.97\n"
          ],
          "name": "stdout"
        }
      ]
    },
    {
      "cell_type": "markdown",
      "metadata": {
        "id": "tYOfJXHCCcdX"
      },
      "source": [
        "## Plot the temp"
      ]
    },
    {
      "cell_type": "code",
      "metadata": {
        "id": "qeivT3SnVfpw"
      },
      "source": [
        "z = np.linspace(past, past+future,future)"
      ],
      "execution_count": 86,
      "outputs": []
    },
    {
      "cell_type": "code",
      "metadata": {
        "colab": {
          "base_uri": "https://localhost:8080/",
          "height": 286
        },
        "id": "hWqjmFtzVm1Z",
        "outputId": "595ac823-b5f6-4db8-e901-4d5b95eaca7e"
      },
      "source": [
        "i = 1\n",
        "plt.plot(test_temp[i])\n",
        "plt.scatter(z,y_predict[i])\n",
        "plt.scatter(z,test_label[i]) # What shappeneing is that predicted values are so large in comparison to the test amd label values that is approximately starilght line"
      ],
      "execution_count": 87,
      "outputs": [
        {
          "output_type": "execute_result",
          "data": {
            "text/plain": [
              "<matplotlib.collections.PathCollection at 0x7f2e81ee5550>"
            ]
          },
          "metadata": {
            "tags": []
          },
          "execution_count": 87
        },
        {
          "output_type": "display_data",
          "data": {
            "image/png": "[encoded data removed]",
            "text/plain": [
              "<Figure size 432x288 with 1 Axes>"
            ]
          },
          "metadata": {
            "tags": [],
            "needs_background": "light"
          }
        }
      ]
    },
    {
      "cell_type": "markdown",
      "metadata": {
        "id": "dwRL0SwUFp4P"
      },
      "source": [
        "# Model comparison\n"
      ]
    },
    {
      "cell_type": "code",
      "metadata": {
        "colab": {
          "base_uri": "https://localhost:8080/",
          "height": 286
        },
        "id": "2DhIsQNKYc_e",
        "outputId": "687946fb-9430-4691-8eac-10f22992bb02"
      },
      "source": [
        "i = 2\n",
        "z = np.linspace(past, past+future,future)\n",
        "plt.plot(test_temp[i])\n",
        "plt.scatter(z,y_predict[i], label = 'NN')\n",
        "plt.scatter(z,test_label[i], label = 'True temperature')\n",
        "plt.scatter(z,y_persistence[i], label= 'Persistence')\n",
        "plt.scatter(z,predict_label[i], label='Linear regression')\n",
        "#plt.scatter(z,y_predict_LR[i], label='Linear regression in Keras')\n",
        "\n",
        "plt.legend(loc='best')\n",
        "\n"
      ],
      "execution_count": 88,
      "outputs": [
        {
          "output_type": "execute_result",
          "data": {
            "text/plain": [
              "<matplotlib.legend.Legend at 0x7f2e84edcd50>"
            ]
          },
          "metadata": {
            "tags": []
          },
          "execution_count": 88
        },
        {
          "output_type": "display_data",
          "data": {
            "image/png": "[encoded data removed]",
            "text/plain": [
              "<Figure size 432x288 with 1 Axes>"
            ]
          },
          "metadata": {
            "tags": [],
            "needs_background": "light"
          }
        }
      ]
    },
    {
      "cell_type": "markdown",
      "metadata": {
        "id": "dW1hDa0n5dxG"
      },
      "source": [
        "## MSE"
      ]
    },
    {
      "cell_type": "markdown",
      "metadata": {
        "id": "xbpG1y1PDHUH"
      },
      "source": [
        "> We will check how MSE grows for predicted value on time axis."
      ]
    },
    {
      "cell_type": "code",
      "metadata": {
        "id": "3I_Q-h1A5xx7"
      },
      "source": [
        "def mse(predict):\n",
        "  mse = np.ones((future,))\n",
        "  for i in range(future):\n",
        "     mse[i]= np.mean((test_label[:,i]-predict[:,i])**2)\n",
        "  return mse \n",
        "   "
      ],
      "execution_count": 89,
      "outputs": []
    },
    {
      "cell_type": "code",
      "metadata": {
        "colab": {
          "base_uri": "https://localhost:8080/"
        },
        "id": "01lO4DZgIA1b",
        "outputId": "85d85c96-a3c4-4ac9-c31f-b3b0a2348cc8"
      },
      "source": [
        "mse(y_persistence)"
      ],
      "execution_count": 90,
      "outputs": [
        {
          "output_type": "execute_result",
          "data": {
            "text/plain": [
              "array([0.35974392, 1.07377119, 2.07997292, 3.28066139, 4.64538988,\n",
              "       6.02936711])"
            ]
          },
          "metadata": {
            "tags": []
          },
          "execution_count": 90
        }
      ]
    },
    {
      "cell_type": "code",
      "metadata": {
        "colab": {
          "base_uri": "https://localhost:8080/"
        },
        "id": "Uo1_DpzSjeZ-",
        "outputId": "096d4a06-6100-409c-fa40-9306dd2df072"
      },
      "source": [
        "mse(predict_label)"
      ],
      "execution_count": 91,
      "outputs": [
        {
          "output_type": "execute_result",
          "data": {
            "text/plain": [
              "array([0.26049284, 0.70009607, 1.36578638, 2.21233834, 3.27811273,\n",
              "       4.36084848])"
            ]
          },
          "metadata": {
            "tags": []
          },
          "execution_count": 91
        }
      ]
    },
    {
      "cell_type": "code",
      "metadata": {
        "colab": {
          "base_uri": "https://localhost:8080/"
        },
        "id": "qc0J3Qapjh8l",
        "outputId": "74dd6738-0a60-45b7-869b-cc463a745005"
      },
      "source": [
        "mse(test_label) #test"
      ],
      "execution_count": 92,
      "outputs": [
        {
          "output_type": "execute_result",
          "data": {
            "text/plain": [
              "array([0., 0., 0., 0., 0., 0.])"
            ]
          },
          "metadata": {
            "tags": []
          },
          "execution_count": 92
        }
      ]
    },
    {
      "cell_type": "code",
      "metadata": {
        "colab": {
          "base_uri": "https://localhost:8080/"
        },
        "id": "6rCgzcjCjlJl",
        "outputId": "ce455620-442a-4e80-f157-bee52f57f768"
      },
      "source": [
        "mse(y_predict) #NN"
      ],
      "execution_count": 93,
      "outputs": [
        {
          "output_type": "execute_result",
          "data": {
            "text/plain": [
              "array([0.32547851, 0.69307812, 1.39178339, 2.12286241, 2.99560397,\n",
              "       3.90371444])"
            ]
          },
          "metadata": {
            "tags": []
          },
          "execution_count": 93
        }
      ]
    },
    {
      "cell_type": "code",
      "metadata": {
        "colab": {
          "base_uri": "https://localhost:8080/",
          "height": 282
        },
        "id": "c-NoxWc4j8Ug",
        "outputId": "e6d8e195-5002-47b8-d3d3-068a4b197d04"
      },
      "source": [
        "plt.plot(mse(y_predict), label = 'NN')\n",
        "plt.plot(mse(predict_label), label = 'Linear Regression')\n",
        "plt.plot(mse(y_persistence), label = 'Persistence')\n",
        "#plt.plot(mse(y_predict2), label = 'NN2')\n",
        "#plt.plot(mse(y_predict3), label = 'NN3')\n",
        "plt.legend(loc='best')"
      ],
      "execution_count": 94,
      "outputs": [
        {
          "output_type": "execute_result",
          "data": {
            "text/plain": [
              "<matplotlib.legend.Legend at 0x7f2e81e4de90>"
            ]
          },
          "metadata": {
            "tags": []
          },
          "execution_count": 94
        },
        {
          "output_type": "display_data",
          "data": {
            "image/png": "[encoded data removed]",
            "text/plain": [
              "<Figure size 432x288 with 1 Axes>"
            ]
          },
          "metadata": {
            "tags": [],
            "needs_background": "light"
          }
        }
      ]
    },
    {
      "cell_type": "markdown",
      "metadata": {
        "id": "3fMEA9oK63Zv"
      },
      "source": [
        "# Asignment 5 New Models\n",
        "\n",
        "> We still need to run previous cells as data samples are generated there and some of the libraries are imported there."
      ]
    },
    {
      "cell_type": "markdown",
      "metadata": {
        "id": "p0P44LEDBNWb"
      },
      "source": [
        "## Reshape the data"
      ]
    },
    {
      "cell_type": "markdown",
      "metadata": {
        "id": "WKhCRCQABHXO"
      },
      "source": [
        "> For RNN models, we need to reshape the data "
      ]
    },
    {
      "cell_type": "code",
      "metadata": {
        "id": "6liFYr9r8viB"
      },
      "source": [
        "train_temp_new = np.expand_dims(train_temp_norm, axis = 2)\n",
        "test_temp_new = np.expand_dims(test_temp_norm, axis = 2)"
      ],
      "execution_count": 95,
      "outputs": []
    },
    {
      "cell_type": "code",
      "metadata": {
        "id": "I7N0_FaS8x_H"
      },
      "source": [
        "train_label_new = np.expand_dims(train_label_norm, axis = 2)\n",
        "test_label_new = np.expand_dims(test_label_norm, axis = 2)"
      ],
      "execution_count": 96,
      "outputs": []
    },
    {
      "cell_type": "markdown",
      "metadata": {
        "id": "AC90k4nTBWKm"
      },
      "source": [
        "# LSTM model"
      ]
    },
    {
      "cell_type": "code",
      "metadata": {
        "id": "W6MHNiwa7KZ-"
      },
      "source": [
        "LSTM_model = tf.keras.Sequential([\n",
        "  \n",
        "    tf.keras.layers.InputLayer(input_shape=(past,1)),\n",
        "    tf.keras.layers.LSTM(32, return_sequences=False),\n",
        "    \n",
        "    tf.keras.layers.Dense(future,\n",
        "                          kernel_initializer=tf.initializers.zeros()),\n",
        "    \n",
        "    tf.keras.layers.Reshape([future,1])\n",
        "])\n",
        "\n"
      ],
      "execution_count": 97,
      "outputs": []
    },
    {
      "cell_type": "code",
      "metadata": {
        "colab": {
          "base_uri": "https://localhost:8080/"
        },
        "id": "6FEchvmS8N_T",
        "outputId": "23603a2b-9caf-4a76-b138-b3e5f343746e"
      },
      "source": [
        "LSTM_model.compile(\n",
        "    loss=tf.losses.MeanSquaredError(),\n",
        "    optimizer=tf.keras.optimizers.Adam(),\n",
        "    metrics=['accuracy','mse'],\n",
        ")\n",
        "LSTM_model.summary()"
      ],
      "execution_count": 98,
      "outputs": [
        {
          "output_type": "stream",
          "text": [
            "Model: \"sequential_1\"\n",
            "_________________________________________________________________\n",
            "Layer (type)                 Output Shape              Param #   \n",
            "=================================================================\n",
            "lstm (LSTM)                  (None, 32)                4352      \n",
            "_________________________________________________________________\n",
            "dense_4 (Dense)              (None, 6)                 198       \n",
            "_________________________________________________________________\n",
            "reshape (Reshape)            (None, 6, 1)              0         \n",
            "=================================================================\n",
            "Total params: 4,550\n",
            "Trainable params: 4,550\n",
            "Non-trainable params: 0\n",
            "_________________________________________________________________\n"
          ],
          "name": "stdout"
        }
      ]
    },
    {
      "cell_type": "code",
      "metadata": {
        "colab": {
          "base_uri": "https://localhost:8080/"
        },
        "id": "A3VUZOQ58oWC",
        "outputId": "c00f1eb3-c124-43eb-82d8-3a5a78ef2d01"
      },
      "source": [
        "history = LSTM_model.fit(train_temp_new,train_label_new, epochs=20)"
      ],
      "execution_count": 99,
      "outputs": [
        {
          "output_type": "stream",
          "text": [
            "Epoch 1/20\n",
            "2173/2173 [==============================] - 16s 6ms/step - loss: 0.0218 - accuracy: 4.0677e-05 - mse: 0.0218\n",
            "Epoch 2/20\n",
            "2173/2173 [==============================] - 14s 6ms/step - loss: 0.0017 - accuracy: 4.3634e-05 - mse: 0.0017\n",
            "Epoch 3/20\n",
            "2173/2173 [==============================] - 14s 6ms/step - loss: 0.0015 - accuracy: 1.5533e-05 - mse: 0.0015\n",
            "Epoch 4/20\n",
            "2173/2173 [==============================] - 14s 6ms/step - loss: 0.0014 - accuracy: 2.8944e-05 - mse: 0.0014\n",
            "Epoch 5/20\n",
            "2173/2173 [==============================] - 14s 6ms/step - loss: 0.0013 - accuracy: 2.7420e-05 - mse: 0.0013\n",
            "Epoch 6/20\n",
            "2173/2173 [==============================] - 14s 6ms/step - loss: 0.0013 - accuracy: 2.7491e-05 - mse: 0.0013\n",
            "Epoch 7/20\n",
            "2173/2173 [==============================] - 14s 6ms/step - loss: 0.0013 - accuracy: 3.7901e-05 - mse: 0.0013\n",
            "Epoch 8/20\n",
            "2173/2173 [==============================] - 14s 6ms/step - loss: 0.0013 - accuracy: 3.0176e-05 - mse: 0.0013\n",
            "Epoch 9/20\n",
            "2173/2173 [==============================] - 14s 6ms/step - loss: 0.0013 - accuracy: 3.2049e-05 - mse: 0.0013\n",
            "Epoch 10/20\n",
            "2173/2173 [==============================] - 14s 6ms/step - loss: 0.0012 - accuracy: 2.6741e-05 - mse: 0.0012\n",
            "Epoch 11/20\n",
            "2173/2173 [==============================] - 14s 6ms/step - loss: 0.0013 - accuracy: 2.2255e-05 - mse: 0.0013\n",
            "Epoch 12/20\n",
            "2173/2173 [==============================] - 14s 7ms/step - loss: 0.0012 - accuracy: 1.7721e-05 - mse: 0.0012\n",
            "Epoch 13/20\n",
            "2173/2173 [==============================] - 14s 6ms/step - loss: 0.0012 - accuracy: 4.3115e-05 - mse: 0.0012\n",
            "Epoch 14/20\n",
            "2173/2173 [==============================] - 14s 6ms/step - loss: 0.0012 - accuracy: 4.4329e-05 - mse: 0.0012\n",
            "Epoch 15/20\n",
            "2173/2173 [==============================] - 14s 7ms/step - loss: 0.0012 - accuracy: 4.8202e-05 - mse: 0.0012\n",
            "Epoch 16/20\n",
            "2173/2173 [==============================] - 14s 7ms/step - loss: 0.0012 - accuracy: 2.9003e-05 - mse: 0.0012\n",
            "Epoch 17/20\n",
            "2173/2173 [==============================] - 14s 7ms/step - loss: 0.0012 - accuracy: 3.8527e-05 - mse: 0.0012\n",
            "Epoch 18/20\n",
            "2173/2173 [==============================] - 14s 6ms/step - loss: 0.0012 - accuracy: 2.4767e-05 - mse: 0.0012\n",
            "Epoch 19/20\n",
            "2173/2173 [==============================] - 14s 6ms/step - loss: 0.0012 - accuracy: 2.1610e-05 - mse: 0.0012\n",
            "Epoch 20/20\n",
            "2173/2173 [==============================] - 14s 7ms/step - loss: 0.0012 - accuracy: 2.6525e-05 - mse: 0.0012\n"
          ],
          "name": "stdout"
        }
      ]
    },
    {
      "cell_type": "code",
      "metadata": {
        "colab": {
          "base_uri": "https://localhost:8080/"
        },
        "id": "uAJ1jS9M-ICM",
        "outputId": "892f4eff-a5ba-4545-a35b-6fea3171db9c"
      },
      "source": [
        "LSTM_model.evaluate(test_temp_new,  test_label_new, verbose=2)"
      ],
      "execution_count": 100,
      "outputs": [
        {
          "output_type": "stream",
          "text": [
            "544/544 - 1s - loss: 0.0011 - accuracy: 0.0000e+00 - mse: 0.0011\n"
          ],
          "name": "stdout"
        },
        {
          "output_type": "execute_result",
          "data": {
            "text/plain": [
              "[0.0010652309283614159, 0.0, 0.0010652299970388412]"
            ]
          },
          "metadata": {
            "tags": []
          },
          "execution_count": 100
        }
      ]
    },
    {
      "cell_type": "markdown",
      "metadata": {
        "id": "5xexdaHH-ICO"
      },
      "source": [
        "## Scale back to prediction temperature"
      ]
    },
    {
      "cell_type": "code",
      "metadata": {
        "id": "1uC-QTjJ-ICP"
      },
      "source": [
        "y_predict_new = LSTM_model.predict(test_temp_new)"
      ],
      "execution_count": 101,
      "outputs": []
    },
    {
      "cell_type": "code",
      "metadata": {
        "colab": {
          "base_uri": "https://localhost:8080/"
        },
        "id": "s61dU1dA-oRv",
        "outputId": "fa3fc08a-a528-42c1-90fb-b563b3311927"
      },
      "source": [
        "y_predict_new.shape"
      ],
      "execution_count": 102,
      "outputs": [
        {
          "output_type": "execute_result",
          "data": {
            "text/plain": [
              "(17383, 6, 1)"
            ]
          },
          "metadata": {
            "tags": []
          },
          "execution_count": 102
        }
      ]
    },
    {
      "cell_type": "code",
      "metadata": {
        "id": "GF5LxWdo-ICQ"
      },
      "source": [
        "y_predict_LSTM = train_temp_min + y_predict_new * (train_temp_max-train_temp_min)"
      ],
      "execution_count": 103,
      "outputs": []
    },
    {
      "cell_type": "markdown",
      "metadata": {
        "id": "sIFSlPJA-ICR"
      },
      "source": [
        "##MSE_LSTM"
      ]
    },
    {
      "cell_type": "markdown",
      "metadata": {
        "id": "frzVdc_bBtPo"
      },
      "source": [
        "> First Method"
      ]
    },
    {
      "cell_type": "code",
      "metadata": {
        "id": "Ld0KoOKhOkPj"
      },
      "source": [
        "test_label_back= np.expand_dims(test_label, 2)"
      ],
      "execution_count": 104,
      "outputs": []
    },
    {
      "cell_type": "code",
      "metadata": {
        "colab": {
          "base_uri": "https://localhost:8080/"
        },
        "id": "_J_Oqzke_7Y8",
        "outputId": "4fdcfc76-8d38-447e-fccc-a360f59f9c71"
      },
      "source": [
        "y_predict_LSTM.shape"
      ],
      "execution_count": 105,
      "outputs": [
        {
          "output_type": "execute_result",
          "data": {
            "text/plain": [
              "(17383, 6, 1)"
            ]
          },
          "metadata": {
            "tags": []
          },
          "execution_count": 105
        }
      ]
    },
    {
      "cell_type": "code",
      "metadata": {
        "colab": {
          "base_uri": "https://localhost:8080/"
        },
        "id": "We3oOK3uM-TS",
        "outputId": "fceb1a07-166c-48fc-c2f8-db4f0fd3e74e"
      },
      "source": [
        "((y_predict_LSTM - test_label_back)**2).mean() # MSE in temperature terms"
      ],
      "execution_count": 106,
      "outputs": [
        {
          "output_type": "execute_result",
          "data": {
            "text/plain": [
              "1.901700732745636"
            ]
          },
          "metadata": {
            "tags": []
          },
          "execution_count": 106
        }
      ]
    },
    {
      "cell_type": "markdown",
      "metadata": {
        "id": "GcXFsudkAN3m"
      },
      "source": [
        "> Second Method "
      ]
    },
    {
      "cell_type": "markdown",
      "metadata": {
        "id": "Zk2774zIB1_o"
      },
      "source": [
        "In order to use the MSE method of sklearn we rehape it back reducing dimension. "
      ]
    },
    {
      "cell_type": "code",
      "metadata": {
        "id": "y5C9Qrx1AQv_"
      },
      "source": [
        "y_predict_LSTM_reshaped = y_predict_LSTM.reshape(-1,6)"
      ],
      "execution_count": 107,
      "outputs": []
    },
    {
      "cell_type": "code",
      "metadata": {
        "colab": {
          "base_uri": "https://localhost:8080/"
        },
        "id": "iCwQ56QAApMT",
        "outputId": "f619b605-093f-4df9-801e-16748b882dc2"
      },
      "source": [
        "y_predict_LSTM_reshaped.shape"
      ],
      "execution_count": 108,
      "outputs": [
        {
          "output_type": "execute_result",
          "data": {
            "text/plain": [
              "(17383, 6)"
            ]
          },
          "metadata": {
            "tags": []
          },
          "execution_count": 108
        }
      ]
    },
    {
      "cell_type": "code",
      "metadata": {
        "colab": {
          "base_uri": "https://localhost:8080/"
        },
        "id": "cBOBKndi-ICS",
        "outputId": "42c42e83-c3c7-43fa-98c5-d52880b930da"
      },
      "source": [
        "# The mean squared error\n",
        "print('Mean squared error: %.2f'\n",
        "      % mean_squared_error(test_label, y_predict_LSTM_reshaped))\n",
        "# The coefficient of determination: 1 is perfect prediction\n",
        "print('Coefficient of determination: %.2f'\n",
        "      % r2_score(test_label, y_predict_LSTM_reshaped))"
      ],
      "execution_count": 109,
      "outputs": [
        {
          "output_type": "stream",
          "text": [
            "Mean squared error: 1.90\n",
            "Coefficient of determination: 0.97\n"
          ],
          "name": "stdout"
        }
      ]
    },
    {
      "cell_type": "markdown",
      "metadata": {
        "id": "Fo_CNPwX-ICS"
      },
      "source": [
        "## Plot the temp"
      ]
    },
    {
      "cell_type": "code",
      "metadata": {
        "id": "sdW8aEhW-ICT"
      },
      "source": [
        "z = np.linspace(past, past+future,future)"
      ],
      "execution_count": 110,
      "outputs": []
    },
    {
      "cell_type": "code",
      "metadata": {
        "colab": {
          "base_uri": "https://localhost:8080/",
          "height": 286
        },
        "id": "_CMzwDIc-ICU",
        "outputId": "c626dc82-87d4-4f19-984f-8933f79c4a9a"
      },
      "source": [
        "z = np.linspace(past, past+future,future)\n",
        "plt.plot(test_temp[0])\n",
        "plt.scatter(z,test_label[0])\n",
        "plt.scatter(z,y_predict_LSTM_reshaped[0])"
      ],
      "execution_count": 111,
      "outputs": [
        {
          "output_type": "execute_result",
          "data": {
            "text/plain": [
              "<matplotlib.collections.PathCollection at 0x7f2e7fe0ee10>"
            ]
          },
          "metadata": {
            "tags": []
          },
          "execution_count": 111
        },
        {
          "output_type": "display_data",
          "data": {
            "image/png": "[encoded data removed]",
            "text/plain": [
              "<Figure size 432x288 with 1 Axes>"
            ]
          },
          "metadata": {
            "tags": [],
            "needs_background": "light"
          }
        }
      ]
    },
    {
      "cell_type": "markdown",
      "metadata": {
        "id": "8b5NDlaIEd0Y"
      },
      "source": [
        "# RNN Network"
      ]
    },
    {
      "cell_type": "code",
      "metadata": {
        "id": "f5WLEOy3EgVv"
      },
      "source": [
        "RNN_model = tf.keras.Sequential([\n",
        "  \n",
        "    tf.keras.layers.InputLayer(input_shape=(past,1)),\n",
        "    tf.keras.layers.SimpleRNN(128, return_sequences=True),\n",
        "    tf.keras.layers.SimpleRNN(64, return_sequences=False),\n",
        "    \n",
        "    tf.keras.layers.Dense(future,\n",
        "                          kernel_initializer=tf.initializers.zeros()),\n",
        "    \n",
        "    tf.keras.layers.Reshape([future,1])\n",
        "])"
      ],
      "execution_count": 112,
      "outputs": []
    },
    {
      "cell_type": "code",
      "metadata": {
        "colab": {
          "base_uri": "https://localhost:8080/"
        },
        "id": "NiZsT4zVGPkJ",
        "outputId": "6c7d79e4-8f49-44b9-846a-b881c3b2d79d"
      },
      "source": [
        "RNN_model.compile(\n",
        "    loss=tf.losses.MeanSquaredError(),\n",
        "    optimizer=tf.keras.optimizers.Adam(),\n",
        "    metrics=['accuracy','mse'],\n",
        ")\n",
        "RNN_model.summary()"
      ],
      "execution_count": 113,
      "outputs": [
        {
          "output_type": "stream",
          "text": [
            "Model: \"sequential_2\"\n",
            "_________________________________________________________________\n",
            "Layer (type)                 Output Shape              Param #   \n",
            "=================================================================\n",
            "simple_rnn (SimpleRNN)       (None, 12, 128)           16640     \n",
            "_________________________________________________________________\n",
            "simple_rnn_1 (SimpleRNN)     (None, 64)                12352     \n",
            "_________________________________________________________________\n",
            "dense_5 (Dense)              (None, 6)                 390       \n",
            "_________________________________________________________________\n",
            "reshape_1 (Reshape)          (None, 6, 1)              0         \n",
            "=================================================================\n",
            "Total params: 29,382\n",
            "Trainable params: 29,382\n",
            "Non-trainable params: 0\n",
            "_________________________________________________________________\n"
          ],
          "name": "stdout"
        }
      ]
    },
    {
      "cell_type": "code",
      "metadata": {
        "colab": {
          "base_uri": "https://localhost:8080/"
        },
        "id": "j35C0jFOGPkK",
        "outputId": "8eb1c3ed-cfc4-4bf7-8b8e-81ab52c498b0"
      },
      "source": [
        "history = RNN_model.fit(train_temp_new,train_label_new, epochs=20)"
      ],
      "execution_count": 114,
      "outputs": [
        {
          "output_type": "stream",
          "text": [
            "Epoch 1/20\n",
            "2173/2173 [==============================] - 19s 8ms/step - loss: 0.0106 - accuracy: 3.5169e-05 - mse: 0.0106\n",
            "Epoch 2/20\n",
            "2173/2173 [==============================] - 17s 8ms/step - loss: 0.0015 - accuracy: 1.8869e-05 - mse: 0.0015\n",
            "Epoch 3/20\n",
            "2173/2173 [==============================] - 17s 8ms/step - loss: 0.0013 - accuracy: 3.6300e-05 - mse: 0.0013\n",
            "Epoch 4/20\n",
            "2173/2173 [==============================] - 17s 8ms/step - loss: 0.0013 - accuracy: 2.1731e-05 - mse: 0.0013\n",
            "Epoch 5/20\n",
            "2173/2173 [==============================] - 17s 8ms/step - loss: 0.0013 - accuracy: 2.2448e-05 - mse: 0.0013\n",
            "Epoch 6/20\n",
            "2173/2173 [==============================] - 18s 8ms/step - loss: 0.0013 - accuracy: 2.4591e-05 - mse: 0.0013\n",
            "Epoch 7/20\n",
            "2173/2173 [==============================] - 17s 8ms/step - loss: 0.0013 - accuracy: 2.7481e-05 - mse: 0.0013\n",
            "Epoch 8/20\n",
            "2173/2173 [==============================] - 17s 8ms/step - loss: 0.0012 - accuracy: 4.7284e-05 - mse: 0.0012\n",
            "Epoch 9/20\n",
            "2173/2173 [==============================] - 18s 8ms/step - loss: 0.0012 - accuracy: 3.1502e-05 - mse: 0.0012\n",
            "Epoch 10/20\n",
            "2173/2173 [==============================] - 18s 8ms/step - loss: 0.0012 - accuracy: 2.6115e-05 - mse: 0.0012\n",
            "Epoch 11/20\n",
            "2173/2173 [==============================] - 18s 8ms/step - loss: 0.0012 - accuracy: 3.3784e-05 - mse: 0.0012\n",
            "Epoch 12/20\n",
            "2173/2173 [==============================] - 17s 8ms/step - loss: 0.0012 - accuracy: 1.6262e-05 - mse: 0.0012\n",
            "Epoch 13/20\n",
            "2173/2173 [==============================] - 18s 8ms/step - loss: 0.0012 - accuracy: 2.8611e-05 - mse: 0.0012\n",
            "Epoch 14/20\n",
            "2173/2173 [==============================] - 17s 8ms/step - loss: 0.0012 - accuracy: 1.8066e-05 - mse: 0.0012\n",
            "Epoch 15/20\n",
            "2173/2173 [==============================] - 17s 8ms/step - loss: 0.0012 - accuracy: 2.4934e-05 - mse: 0.0012\n",
            "Epoch 16/20\n",
            "2173/2173 [==============================] - 17s 8ms/step - loss: 0.0012 - accuracy: 3.2930e-05 - mse: 0.0012\n",
            "Epoch 17/20\n",
            "2173/2173 [==============================] - 17s 8ms/step - loss: 0.0012 - accuracy: 2.3101e-05 - mse: 0.0012\n",
            "Epoch 18/20\n",
            "2173/2173 [==============================] - 17s 8ms/step - loss: 0.0012 - accuracy: 3.3857e-05 - mse: 0.0012\n",
            "Epoch 19/20\n",
            "2173/2173 [==============================] - 17s 8ms/step - loss: 0.0012 - accuracy: 4.1271e-05 - mse: 0.0012\n",
            "Epoch 20/20\n",
            "2173/2173 [==============================] - 18s 8ms/step - loss: 0.0012 - accuracy: 2.2324e-05 - mse: 0.0012\n"
          ],
          "name": "stdout"
        }
      ]
    },
    {
      "cell_type": "code",
      "metadata": {
        "id": "mj-GEf1mGPkL",
        "colab": {
          "base_uri": "https://localhost:8080/"
        },
        "outputId": "e90e5337-bf29-4b98-ca2a-a549deadd6f8"
      },
      "source": [
        "RNN_model.evaluate(test_temp_new,  test_label_new, verbose=2)"
      ],
      "execution_count": 115,
      "outputs": [
        {
          "output_type": "stream",
          "text": [
            "544/544 - 2s - loss: 0.0011 - accuracy: 0.0000e+00 - mse: 0.0011\n"
          ],
          "name": "stdout"
        },
        {
          "output_type": "execute_result",
          "data": {
            "text/plain": [
              "[0.0010991940507665277, 0.0, 0.001099193817935884]"
            ]
          },
          "metadata": {
            "tags": []
          },
          "execution_count": 115
        }
      ]
    },
    {
      "cell_type": "markdown",
      "metadata": {
        "id": "Ni4Ro5pMGPkM"
      },
      "source": [
        "## Scale back to prediction temperature"
      ]
    },
    {
      "cell_type": "code",
      "metadata": {
        "id": "8gdcBpb-GPkN"
      },
      "source": [
        "y_predict_new = RNN_model.predict(test_temp_new)"
      ],
      "execution_count": 116,
      "outputs": []
    },
    {
      "cell_type": "code",
      "metadata": {
        "id": "_gIQhcNSGPkN",
        "colab": {
          "base_uri": "https://localhost:8080/"
        },
        "outputId": "b3df3748-dcce-4926-84b2-874dc5a2652a"
      },
      "source": [
        "y_predict_new.shape"
      ],
      "execution_count": 117,
      "outputs": [
        {
          "output_type": "execute_result",
          "data": {
            "text/plain": [
              "(17383, 6, 1)"
            ]
          },
          "metadata": {
            "tags": []
          },
          "execution_count": 117
        }
      ]
    },
    {
      "cell_type": "code",
      "metadata": {
        "id": "kO6Iu0O4GPkO"
      },
      "source": [
        "y_predict_RNN = train_temp_min + y_predict_new * (train_temp_max-train_temp_min)"
      ],
      "execution_count": 118,
      "outputs": []
    },
    {
      "cell_type": "markdown",
      "metadata": {
        "id": "gCBBTwkcGPkP"
      },
      "source": [
        "##MSE_RNN"
      ]
    },
    {
      "cell_type": "markdown",
      "metadata": {
        "id": "AXqE-LRnGPkQ"
      },
      "source": [
        "> First Method"
      ]
    },
    {
      "cell_type": "code",
      "metadata": {
        "id": "TWrGtsmTGPkQ"
      },
      "source": [
        "test_label_back= np.expand_dims(test_label, 2)"
      ],
      "execution_count": 119,
      "outputs": []
    },
    {
      "cell_type": "code",
      "metadata": {
        "id": "JX5MXqk8GPkQ",
        "colab": {
          "base_uri": "https://localhost:8080/"
        },
        "outputId": "a4283bb6-d9df-4cf8-c290-acbe917905cf"
      },
      "source": [
        "y_predict_RNN.shape"
      ],
      "execution_count": 120,
      "outputs": [
        {
          "output_type": "execute_result",
          "data": {
            "text/plain": [
              "(17383, 6, 1)"
            ]
          },
          "metadata": {
            "tags": []
          },
          "execution_count": 120
        }
      ]
    },
    {
      "cell_type": "code",
      "metadata": {
        "id": "f-h-p3DhGPkR",
        "colab": {
          "base_uri": "https://localhost:8080/"
        },
        "outputId": "ea75946b-d885-46f4-b582-4e15be2d3a3d"
      },
      "source": [
        "((y_predict_RNN - test_label_back)**2).mean() # MSE in temperature terms"
      ],
      "execution_count": 121,
      "outputs": [
        {
          "output_type": "execute_result",
          "data": {
            "text/plain": [
              "1.9623340461795376"
            ]
          },
          "metadata": {
            "tags": []
          },
          "execution_count": 121
        }
      ]
    },
    {
      "cell_type": "markdown",
      "metadata": {
        "id": "Nwabd5HIGPkR"
      },
      "source": [
        "> Second Method "
      ]
    },
    {
      "cell_type": "markdown",
      "metadata": {
        "id": "fafWE_jUGPkS"
      },
      "source": [
        "In order to use the MSE method of sklearn we rehape it back reducing dimension. "
      ]
    },
    {
      "cell_type": "code",
      "metadata": {
        "id": "YdyZbBqcGPkS"
      },
      "source": [
        "y_predict_RNN_reshaped = y_predict_RNN.reshape(-1,6)"
      ],
      "execution_count": 122,
      "outputs": []
    },
    {
      "cell_type": "code",
      "metadata": {
        "id": "7yOZ806xGPkT",
        "colab": {
          "base_uri": "https://localhost:8080/"
        },
        "outputId": "c8a4ea75-eaa8-4792-c0ad-9d9f310ec92a"
      },
      "source": [
        "y_predict_RNN_reshaped.shape"
      ],
      "execution_count": 123,
      "outputs": [
        {
          "output_type": "execute_result",
          "data": {
            "text/plain": [
              "(17383, 6)"
            ]
          },
          "metadata": {
            "tags": []
          },
          "execution_count": 123
        }
      ]
    },
    {
      "cell_type": "code",
      "metadata": {
        "id": "KUbIItqdGPkX",
        "colab": {
          "base_uri": "https://localhost:8080/"
        },
        "outputId": "ec939767-b232-4ffc-ef08-db04667d73da"
      },
      "source": [
        "# The mean squared error\n",
        "print('Mean squared error: %.2f'\n",
        "      % mean_squared_error(test_label, y_predict_RNN_reshaped))\n",
        "# The coefficient of determination: 1 is perfect prediction\n",
        "print('Coefficient of determination: %.2f'\n",
        "      % r2_score(test_label, y_predict_RNN_reshaped))"
      ],
      "execution_count": 124,
      "outputs": [
        {
          "output_type": "stream",
          "text": [
            "Mean squared error: 1.96\n",
            "Coefficient of determination: 0.97\n"
          ],
          "name": "stdout"
        }
      ]
    },
    {
      "cell_type": "markdown",
      "metadata": {
        "id": "wtoz7O89GPkY"
      },
      "source": [
        "## Plot the temp"
      ]
    },
    {
      "cell_type": "code",
      "metadata": {
        "id": "DH8qMmAWGPkY"
      },
      "source": [
        "z = np.linspace(past, past+future,future)"
      ],
      "execution_count": 125,
      "outputs": []
    },
    {
      "cell_type": "code",
      "metadata": {
        "id": "73O6CFudGPkY",
        "colab": {
          "base_uri": "https://localhost:8080/",
          "height": 282
        },
        "outputId": "a14ce810-28da-4d48-ec63-80685ab9fd92"
      },
      "source": [
        "z = np.linspace(past, past+future,future)\n",
        "plt.plot(test_temp[0])\n",
        "plt.scatter(z,test_label[0])\n",
        "plt.scatter(z,y_predict_RNN_reshaped[0])"
      ],
      "execution_count": 126,
      "outputs": [
        {
          "output_type": "execute_result",
          "data": {
            "text/plain": [
              "<matplotlib.collections.PathCollection at 0x7f2e7e85be50>"
            ]
          },
          "metadata": {
            "tags": []
          },
          "execution_count": 126
        },
        {
          "output_type": "display_data",
          "data": {
            "image/png": "[encoded data removed]",
            "text/plain": [
              "<Figure size 432x288 with 1 Axes>"
            ]
          },
          "metadata": {
            "tags": [],
            "needs_background": "light"
          }
        }
      ]
    },
    {
      "cell_type": "markdown",
      "metadata": {
        "id": "aEqTFmnfHUGt"
      },
      "source": [
        "# GRU Model"
      ]
    },
    {
      "cell_type": "code",
      "metadata": {
        "id": "3BTE1M4sHeKY"
      },
      "source": [
        "GRU_model = tf.keras.Sequential([\n",
        "  \n",
        "    tf.keras.layers.InputLayer(input_shape=(past,1)),\n",
        "    tf.keras.layers.GRU(128, return_sequences=True),\n",
        "    tf.keras.layers.SimpleRNN(128, return_sequences=False),\n",
        "\n",
        "\n",
        "\n",
        "    \n",
        "    tf.keras.layers.Dense(future,\n",
        "                          kernel_initializer=tf.initializers.zeros()),\n",
        "    \n",
        "    tf.keras.layers.Reshape([future,1])\n",
        "])\n",
        "\n"
      ],
      "execution_count": 127,
      "outputs": []
    },
    {
      "cell_type": "code",
      "metadata": {
        "id": "Yx0W4faKHeKZ",
        "colab": {
          "base_uri": "https://localhost:8080/"
        },
        "outputId": "054a5a3a-ae8f-4e43-fe72-4549546595c0"
      },
      "source": [
        "GRU_model.compile(\n",
        "    loss=tf.losses.MeanSquaredError(),\n",
        "    optimizer=tf.keras.optimizers.Adam(),\n",
        "    metrics=['accuracy','mse'],\n",
        ")\n",
        "GRU_model.summary()"
      ],
      "execution_count": 128,
      "outputs": [
        {
          "output_type": "stream",
          "text": [
            "Model: \"sequential_3\"\n",
            "_________________________________________________________________\n",
            "Layer (type)                 Output Shape              Param #   \n",
            "=================================================================\n",
            "gru (GRU)                    (None, 12, 128)           50304     \n",
            "_________________________________________________________________\n",
            "simple_rnn_2 (SimpleRNN)     (None, 128)               32896     \n",
            "_________________________________________________________________\n",
            "dense_6 (Dense)              (None, 6)                 774       \n",
            "_________________________________________________________________\n",
            "reshape_2 (Reshape)          (None, 6, 1)              0         \n",
            "=================================================================\n",
            "Total params: 83,974\n",
            "Trainable params: 83,974\n",
            "Non-trainable params: 0\n",
            "_________________________________________________________________\n"
          ],
          "name": "stdout"
        }
      ]
    },
    {
      "cell_type": "code",
      "metadata": {
        "colab": {
          "base_uri": "https://localhost:8080/"
        },
        "id": "tP0sX6ljHeKa",
        "outputId": "12388282-d4f4-4b26-e2c2-b37474734d77"
      },
      "source": [
        "history = GRU_model.fit(train_temp_new,train_label_new, epochs=20)"
      ],
      "execution_count": 129,
      "outputs": [
        {
          "output_type": "stream",
          "text": [
            "Epoch 1/20\n",
            "2173/2173 [==============================] - 39s 17ms/step - loss: 0.0094 - accuracy: 2.6855e-05 - mse: 0.0094\n",
            "Epoch 2/20\n",
            "2173/2173 [==============================] - 37s 17ms/step - loss: 0.0014 - accuracy: 2.8856e-05 - mse: 0.0014\n",
            "Epoch 3/20\n",
            "2173/2173 [==============================] - 37s 17ms/step - loss: 0.0014 - accuracy: 2.7987e-05 - mse: 0.0014\n",
            "Epoch 4/20\n",
            "2173/2173 [==============================] - 36s 17ms/step - loss: 0.0013 - accuracy: 4.6988e-05 - mse: 0.0013\n",
            "Epoch 5/20\n",
            "2173/2173 [==============================] - 37s 17ms/step - loss: 0.0013 - accuracy: 3.5803e-05 - mse: 0.0013\n",
            "Epoch 6/20\n",
            "2173/2173 [==============================] - 37s 17ms/step - loss: 0.0013 - accuracy: 2.2189e-05 - mse: 0.0013\n",
            "Epoch 7/20\n",
            "2173/2173 [==============================] - 37s 17ms/step - loss: 0.0013 - accuracy: 2.9939e-05 - mse: 0.0013\n",
            "Epoch 8/20\n",
            "2173/2173 [==============================] - 37s 17ms/step - loss: 0.0012 - accuracy: 4.3446e-05 - mse: 0.0012\n",
            "Epoch 9/20\n",
            "2173/2173 [==============================] - 37s 17ms/step - loss: 0.0012 - accuracy: 3.2989e-05 - mse: 0.0012\n",
            "Epoch 10/20\n",
            "2173/2173 [==============================] - 37s 17ms/step - loss: 0.0012 - accuracy: 2.8696e-05 - mse: 0.0012\n",
            "Epoch 11/20\n",
            "2173/2173 [==============================] - 36s 17ms/step - loss: 0.0012 - accuracy: 4.1434e-05 - mse: 0.0012\n",
            "Epoch 12/20\n",
            "2173/2173 [==============================] - 37s 17ms/step - loss: 0.0012 - accuracy: 3.4675e-05 - mse: 0.0012\n",
            "Epoch 13/20\n",
            "2173/2173 [==============================] - 36s 17ms/step - loss: 0.0012 - accuracy: 1.3769e-05 - mse: 0.0012\n",
            "Epoch 14/20\n",
            "2173/2173 [==============================] - 36s 17ms/step - loss: 0.0012 - accuracy: 2.6704e-05 - mse: 0.0012\n",
            "Epoch 15/20\n",
            "2173/2173 [==============================] - 36s 17ms/step - loss: 0.0012 - accuracy: 4.0903e-05 - mse: 0.0012\n",
            "Epoch 16/20\n",
            "2173/2173 [==============================] - 36s 17ms/step - loss: 0.0012 - accuracy: 3.0328e-05 - mse: 0.0012\n",
            "Epoch 17/20\n",
            "2173/2173 [==============================] - 36s 17ms/step - loss: 0.0012 - accuracy: 2.0361e-05 - mse: 0.0012\n",
            "Epoch 18/20\n",
            "2173/2173 [==============================] - 36s 17ms/step - loss: 0.0012 - accuracy: 2.8020e-05 - mse: 0.0012\n",
            "Epoch 19/20\n",
            "2173/2173 [==============================] - 36s 17ms/step - loss: 0.0012 - accuracy: 3.2417e-05 - mse: 0.0012\n",
            "Epoch 20/20\n",
            "2173/2173 [==============================] - 36s 17ms/step - loss: 0.0012 - accuracy: 2.2537e-05 - mse: 0.0012\n"
          ],
          "name": "stdout"
        }
      ]
    },
    {
      "cell_type": "code",
      "metadata": {
        "colab": {
          "base_uri": "https://localhost:8080/"
        },
        "id": "dLVYrALJHeKa",
        "outputId": "cc9d55e5-724a-4abf-9b42-b4f06e6094e8"
      },
      "source": [
        "GRU_model.evaluate(test_temp_new,  test_label_new, verbose=2)"
      ],
      "execution_count": 130,
      "outputs": [
        {
          "output_type": "stream",
          "text": [
            "544/544 - 3s - loss: 0.0011 - accuracy: 0.0000e+00 - mse: 0.0011\n"
          ],
          "name": "stdout"
        },
        {
          "output_type": "execute_result",
          "data": {
            "text/plain": [
              "[0.001066531171090901, 0.0, 0.0010665309382602572]"
            ]
          },
          "metadata": {
            "tags": []
          },
          "execution_count": 130
        }
      ]
    },
    {
      "cell_type": "markdown",
      "metadata": {
        "id": "9NM-sEgaHeKb"
      },
      "source": [
        "## Scale back to prediction temperature"
      ]
    },
    {
      "cell_type": "code",
      "metadata": {
        "id": "GQWAebi8HeKc"
      },
      "source": [
        "y_predict_new = GRU_model.predict(test_temp_new)"
      ],
      "execution_count": 131,
      "outputs": []
    },
    {
      "cell_type": "code",
      "metadata": {
        "colab": {
          "base_uri": "https://localhost:8080/"
        },
        "id": "CDhbN7n2HeKc",
        "outputId": "0c46e1df-c913-47bf-afe8-208b0f66f776"
      },
      "source": [
        "y_predict_new.shape"
      ],
      "execution_count": 132,
      "outputs": [
        {
          "output_type": "execute_result",
          "data": {
            "text/plain": [
              "(17383, 6, 1)"
            ]
          },
          "metadata": {
            "tags": []
          },
          "execution_count": 132
        }
      ]
    },
    {
      "cell_type": "code",
      "metadata": {
        "id": "sWpa8KltHeKc"
      },
      "source": [
        "y_predict_GRU = train_temp_min + y_predict_new * (train_temp_max-train_temp_min)"
      ],
      "execution_count": 133,
      "outputs": []
    },
    {
      "cell_type": "markdown",
      "metadata": {
        "id": "xed1gBwIHeKd"
      },
      "source": [
        "##MSE_GRU"
      ]
    },
    {
      "cell_type": "markdown",
      "metadata": {
        "id": "75gtJh-dHeKd"
      },
      "source": [
        "> First Method"
      ]
    },
    {
      "cell_type": "code",
      "metadata": {
        "id": "4xYl3aTZHeKd"
      },
      "source": [
        "test_label_back= np.expand_dims(test_label, 2)"
      ],
      "execution_count": 134,
      "outputs": []
    },
    {
      "cell_type": "code",
      "metadata": {
        "colab": {
          "base_uri": "https://localhost:8080/"
        },
        "id": "vUn6MGLJHeKd",
        "outputId": "f9aa2cfc-1302-4f05-ed9c-61d906b5f1b7"
      },
      "source": [
        "y_predict_GRU.shape"
      ],
      "execution_count": 135,
      "outputs": [
        {
          "output_type": "execute_result",
          "data": {
            "text/plain": [
              "(17383, 6, 1)"
            ]
          },
          "metadata": {
            "tags": []
          },
          "execution_count": 135
        }
      ]
    },
    {
      "cell_type": "code",
      "metadata": {
        "colab": {
          "base_uri": "https://localhost:8080/"
        },
        "id": "tvNObQPqHeKe",
        "outputId": "0baf7ddd-1f12-46e4-c92a-95b7b044b973"
      },
      "source": [
        "((y_predict_GRU - test_label_back)**2).mean() # MSE in temperature terms"
      ],
      "execution_count": 136,
      "outputs": [
        {
          "output_type": "execute_result",
          "data": {
            "text/plain": [
              "1.904022396433474"
            ]
          },
          "metadata": {
            "tags": []
          },
          "execution_count": 136
        }
      ]
    },
    {
      "cell_type": "markdown",
      "metadata": {
        "id": "92AiAL9cHeKe"
      },
      "source": [
        "> Second Method "
      ]
    },
    {
      "cell_type": "markdown",
      "metadata": {
        "id": "xBsuAStuHeKf"
      },
      "source": [
        "In order to use the MSE method of sklearn we rehape it back reducing dimension. "
      ]
    },
    {
      "cell_type": "code",
      "metadata": {
        "id": "q42PaZSKHeKg"
      },
      "source": [
        "y_predict_GRU_reshaped = y_predict_LSTM.reshape(-1,6)"
      ],
      "execution_count": 137,
      "outputs": []
    },
    {
      "cell_type": "code",
      "metadata": {
        "colab": {
          "base_uri": "https://localhost:8080/"
        },
        "id": "RQCBHIQHHeKh",
        "outputId": "d33eda77-cb31-4598-df72-7a40caf56b26"
      },
      "source": [
        "y_predict_GRU_reshaped.shape"
      ],
      "execution_count": 138,
      "outputs": [
        {
          "output_type": "execute_result",
          "data": {
            "text/plain": [
              "(17383, 6)"
            ]
          },
          "metadata": {
            "tags": []
          },
          "execution_count": 138
        }
      ]
    },
    {
      "cell_type": "code",
      "metadata": {
        "colab": {
          "base_uri": "https://localhost:8080/"
        },
        "id": "hgORu7n0HeKh",
        "outputId": "14f1ff5f-aa19-4a2c-dfd2-91cfb13e4f62"
      },
      "source": [
        "# The mean squared error\n",
        "print('Mean squared error: %.2f'\n",
        "      % mean_squared_error(test_label, y_predict_GRU_reshaped))\n",
        "# The coefficient of determination: 1 is perfect prediction\n",
        "print('Coefficient of determination: %.2f'\n",
        "      % r2_score(test_label, y_predict_GRU_reshaped))"
      ],
      "execution_count": 139,
      "outputs": [
        {
          "output_type": "stream",
          "text": [
            "Mean squared error: 1.90\n",
            "Coefficient of determination: 0.97\n"
          ],
          "name": "stdout"
        }
      ]
    },
    {
      "cell_type": "markdown",
      "metadata": {
        "id": "VjZQGiNAHeKi"
      },
      "source": [
        "## Plot the temp"
      ]
    },
    {
      "cell_type": "code",
      "metadata": {
        "id": "9naN0dz7HeKi"
      },
      "source": [
        "z = np.linspace(past, past+future,future)"
      ],
      "execution_count": 140,
      "outputs": []
    },
    {
      "cell_type": "code",
      "metadata": {
        "colab": {
          "base_uri": "https://localhost:8080/",
          "height": 286
        },
        "id": "h_m2PfMjHeKi",
        "outputId": "bc90a58a-af54-4840-ebee-eb4a17a9e8b3"
      },
      "source": [
        "z = np.linspace(past, past+future,future)\n",
        "plt.plot(test_temp[0])\n",
        "plt.scatter(z,test_label[0])\n",
        "plt.scatter(z,y_predict_GRU_reshaped[0])"
      ],
      "execution_count": 141,
      "outputs": [
        {
          "output_type": "execute_result",
          "data": {
            "text/plain": [
              "<matplotlib.collections.PathCollection at 0x7f2e7c0816d0>"
            ]
          },
          "metadata": {
            "tags": []
          },
          "execution_count": 141
        },
        {
          "output_type": "display_data",
          "data": {
            "image/png": "[encoded data removed]",
            "text/plain": [
              "<Figure size 432x288 with 1 Axes>"
            ]
          },
          "metadata": {
            "tags": [],
            "needs_background": "light"
          }
        }
      ]
    },
    {
      "cell_type": "code",
      "metadata": {
        "id": "vTd3_svRK5RI"
      },
      "source": [
        ""
      ],
      "execution_count": 141,
      "outputs": []
    },
    {
      "cell_type": "markdown",
      "metadata": {
        "id": "hvW_TxrbK5k8"
      },
      "source": [
        "# Wavenet Network"
      ]
    },
    {
      "cell_type": "code",
      "metadata": {
        "id": "h1L9c9pFQXCw"
      },
      "source": [
        ""
      ],
      "execution_count": 141,
      "outputs": []
    },
    {
      "cell_type": "code",
      "metadata": {
        "id": "WpRdnJVDK5k9"
      },
      "source": [
        "WAV_model = tf.keras.Sequential([        # 4 layers good for looking back at the 64 hrs of the data #put input shape= (None,19) for any sequence.\n",
        "    tf.keras.layers.InputLayer(input_shape=(past,1)),\n",
        "tf.keras.layers.Conv1D(filters=16,\n",
        "                           kernel_size=(2,),\n",
        "                           activation='relu',padding= 'causal' , dilation_rate = 1),\n",
        "    tf.keras.layers.Conv1D(filters=16,\n",
        "                           kernel_size=(2,),\n",
        "                           activation='relu',padding= 'causal' ,  dilation_rate = 2),\n",
        "    tf.keras.layers.Conv1D(filters=32,\n",
        "                           kernel_size=(2,),\n",
        "                           activation='relu', padding= 'causal' , dilation_rate = 4),\n",
        "     tf.keras.layers.Conv1D(filters=32,\n",
        "                           kernel_size=(past,),\n",
        "                           activation='relu' , dilation_rate = 1),\n",
        "  \n",
        "    tf.keras.layers.Dense(future,\n",
        "                          kernel_initializer=tf.initializers.zeros()),\n",
        "    # Shape => [batch, out_steps, features]\n",
        "    tf.keras.layers.Reshape([future,1])\n",
        "])"
      ],
      "execution_count": 142,
      "outputs": []
    },
    {
      "cell_type": "code",
      "metadata": {
        "colab": {
          "base_uri": "https://localhost:8080/"
        },
        "id": "NG2wk5-sK5k-",
        "outputId": "a9f0b5ca-938b-4eaf-f754-c9cd6c887abc"
      },
      "source": [
        "WAV_model.compile(\n",
        "    loss=tf.losses.MeanSquaredError(),\n",
        "    optimizer=tf.keras.optimizers.Adam(),\n",
        "    metrics=['accuracy','mse'],\n",
        ")\n",
        "WAV_model.summary()"
      ],
      "execution_count": 143,
      "outputs": [
        {
          "output_type": "stream",
          "text": [
            "Model: \"sequential_4\"\n",
            "_________________________________________________________________\n",
            "Layer (type)                 Output Shape              Param #   \n",
            "=================================================================\n",
            "conv1d (Conv1D)              (None, 12, 16)            48        \n",
            "_________________________________________________________________\n",
            "conv1d_1 (Conv1D)            (None, 12, 16)            528       \n",
            "_________________________________________________________________\n",
            "conv1d_2 (Conv1D)            (None, 12, 32)            1056      \n",
            "_________________________________________________________________\n",
            "conv1d_3 (Conv1D)            (None, 1, 32)             12320     \n",
            "_________________________________________________________________\n",
            "dense_7 (Dense)              (None, 1, 6)              198       \n",
            "_________________________________________________________________\n",
            "reshape_3 (Reshape)          (None, 6, 1)              0         \n",
            "=================================================================\n",
            "Total params: 14,150\n",
            "Trainable params: 14,150\n",
            "Non-trainable params: 0\n",
            "_________________________________________________________________\n"
          ],
          "name": "stdout"
        }
      ]
    },
    {
      "cell_type": "code",
      "metadata": {
        "colab": {
          "base_uri": "https://localhost:8080/"
        },
        "id": "9kWphobAK5k-",
        "outputId": "5dc4188b-5aaf-4276-c9ff-4aa063526d88"
      },
      "source": [
        "history = WAV_model.fit(train_temp_new,train_label_new, epochs=20)"
      ],
      "execution_count": 144,
      "outputs": [
        {
          "output_type": "stream",
          "text": [
            "Epoch 1/20\n",
            "2173/2173 [==============================] - 8s 3ms/step - loss: 0.0172 - accuracy: 2.9090e-05 - mse: 0.0172\n",
            "Epoch 2/20\n",
            "2173/2173 [==============================] - 7s 3ms/step - loss: 0.0014 - accuracy: 3.9081e-05 - mse: 0.0014\n",
            "Epoch 3/20\n",
            "2173/2173 [==============================] - 7s 3ms/step - loss: 0.0013 - accuracy: 2.0065e-05 - mse: 0.0013\n",
            "Epoch 4/20\n",
            "2173/2173 [==============================] - 8s 3ms/step - loss: 0.0012 - accuracy: 4.1507e-05 - mse: 0.0012\n",
            "Epoch 5/20\n",
            "2173/2173 [==============================] - 7s 3ms/step - loss: 0.0012 - accuracy: 3.3286e-05 - mse: 0.0012\n",
            "Epoch 6/20\n",
            "2173/2173 [==============================] - 8s 3ms/step - loss: 0.0012 - accuracy: 1.4446e-05 - mse: 0.0012\n",
            "Epoch 7/20\n",
            "2173/2173 [==============================] - 7s 3ms/step - loss: 0.0012 - accuracy: 2.7013e-05 - mse: 0.0012\n",
            "Epoch 8/20\n",
            "2173/2173 [==============================] - 7s 3ms/step - loss: 0.0012 - accuracy: 4.0386e-05 - mse: 0.0012\n",
            "Epoch 9/20\n",
            "2173/2173 [==============================] - 7s 3ms/step - loss: 0.0012 - accuracy: 2.8395e-05 - mse: 0.0012\n",
            "Epoch 10/20\n",
            "2173/2173 [==============================] - 7s 3ms/step - loss: 0.0012 - accuracy: 2.5320e-05 - mse: 0.0012\n",
            "Epoch 11/20\n",
            "2173/2173 [==============================] - 7s 3ms/step - loss: 0.0012 - accuracy: 1.9370e-05 - mse: 0.0012\n",
            "Epoch 12/20\n",
            "2173/2173 [==============================] - 7s 3ms/step - loss: 0.0012 - accuracy: 2.0437e-05 - mse: 0.0012\n",
            "Epoch 13/20\n",
            "2173/2173 [==============================] - 7s 3ms/step - loss: 0.0011 - accuracy: 1.9851e-05 - mse: 0.0011\n",
            "Epoch 14/20\n",
            "2173/2173 [==============================] - 7s 3ms/step - loss: 0.0012 - accuracy: 4.3670e-05 - mse: 0.0012\n",
            "Epoch 15/20\n",
            "2173/2173 [==============================] - 7s 3ms/step - loss: 0.0011 - accuracy: 3.7335e-05 - mse: 0.0011\n",
            "Epoch 16/20\n",
            "2173/2173 [==============================] - 8s 3ms/step - loss: 0.0011 - accuracy: 1.6049e-05 - mse: 0.0011\n",
            "Epoch 17/20\n",
            "2173/2173 [==============================] - 7s 3ms/step - loss: 0.0011 - accuracy: 3.9913e-05 - mse: 0.0011\n",
            "Epoch 18/20\n",
            "2173/2173 [==============================] - 7s 3ms/step - loss: 0.0011 - accuracy: 4.8264e-05 - mse: 0.0011\n",
            "Epoch 19/20\n",
            "2173/2173 [==============================] - 8s 3ms/step - loss: 0.0011 - accuracy: 2.1220e-05 - mse: 0.0011\n",
            "Epoch 20/20\n",
            "2173/2173 [==============================] - 7s 3ms/step - loss: 0.0011 - accuracy: 2.1836e-05 - mse: 0.0011\n"
          ],
          "name": "stdout"
        }
      ]
    },
    {
      "cell_type": "code",
      "metadata": {
        "id": "zz85ah7-K5k_",
        "colab": {
          "base_uri": "https://localhost:8080/"
        },
        "outputId": "0657968d-cb28-4f3d-9cc6-a885665142cf"
      },
      "source": [
        "WAV_model.evaluate(test_temp_new,  test_label_new, verbose=2)"
      ],
      "execution_count": 145,
      "outputs": [
        {
          "output_type": "stream",
          "text": [
            "544/544 - 1s - loss: 0.0012 - accuracy: 0.0000e+00 - mse: 0.0012\n"
          ],
          "name": "stdout"
        },
        {
          "output_type": "execute_result",
          "data": {
            "text/plain": [
              "[0.0011509540490806103, 0.0, 0.0011509538162499666]"
            ]
          },
          "metadata": {
            "tags": []
          },
          "execution_count": 145
        }
      ]
    },
    {
      "cell_type": "markdown",
      "metadata": {
        "id": "3Lh_KjutK5k_"
      },
      "source": [
        "## Scale back to prediction temperature"
      ]
    },
    {
      "cell_type": "code",
      "metadata": {
        "id": "P1l1YwBsK5k_"
      },
      "source": [
        "y_predict_new = WAV_model.predict(test_temp_new)"
      ],
      "execution_count": 146,
      "outputs": []
    },
    {
      "cell_type": "code",
      "metadata": {
        "id": "a4pY3ekOK5lA",
        "colab": {
          "base_uri": "https://localhost:8080/"
        },
        "outputId": "03709c25-2717-4c6a-8ca8-7f725eda52f1"
      },
      "source": [
        "y_predict_new.shape"
      ],
      "execution_count": 147,
      "outputs": [
        {
          "output_type": "execute_result",
          "data": {
            "text/plain": [
              "(17383, 6, 1)"
            ]
          },
          "metadata": {
            "tags": []
          },
          "execution_count": 147
        }
      ]
    },
    {
      "cell_type": "code",
      "metadata": {
        "id": "iiW-jiDIK5lA"
      },
      "source": [
        "y_predict_WAV = train_temp_min + y_predict_new * (train_temp_max-train_temp_min)"
      ],
      "execution_count": 148,
      "outputs": []
    },
    {
      "cell_type": "markdown",
      "metadata": {
        "id": "nTL3UE2QK5lA"
      },
      "source": [
        "##MSE_WAV"
      ]
    },
    {
      "cell_type": "markdown",
      "metadata": {
        "id": "M4PwZyiIK5lA"
      },
      "source": [
        "> First Method"
      ]
    },
    {
      "cell_type": "code",
      "metadata": {
        "id": "ei6wMoz8K5lB"
      },
      "source": [
        "test_label_back= np.expand_dims(test_label, 2)"
      ],
      "execution_count": 149,
      "outputs": []
    },
    {
      "cell_type": "code",
      "metadata": {
        "id": "wKxZAIw7K5lB",
        "colab": {
          "base_uri": "https://localhost:8080/"
        },
        "outputId": "1b379c9e-c375-41ba-b389-ea8f68536f60"
      },
      "source": [
        "y_predict_WAV.shape"
      ],
      "execution_count": 150,
      "outputs": [
        {
          "output_type": "execute_result",
          "data": {
            "text/plain": [
              "(17383, 6, 1)"
            ]
          },
          "metadata": {
            "tags": []
          },
          "execution_count": 150
        }
      ]
    },
    {
      "cell_type": "code",
      "metadata": {
        "id": "LKSaCZ74K5lB",
        "colab": {
          "base_uri": "https://localhost:8080/"
        },
        "outputId": "7a9c2186-4cd3-44a6-f0e2-49ab25c51e03"
      },
      "source": [
        "((y_predict_WAV - test_label_back)**2).mean() # MSE in temperature terms"
      ],
      "execution_count": 151,
      "outputs": [
        {
          "output_type": "execute_result",
          "data": {
            "text/plain": [
              "2.054737623803308"
            ]
          },
          "metadata": {
            "tags": []
          },
          "execution_count": 151
        }
      ]
    },
    {
      "cell_type": "markdown",
      "metadata": {
        "id": "tWQkEA4sK5lC"
      },
      "source": [
        "> Second Method "
      ]
    },
    {
      "cell_type": "markdown",
      "metadata": {
        "id": "62lHgNf0K5lD"
      },
      "source": [
        "In order to use the MSE method of sklearn we rehape it back reducing dimension. "
      ]
    },
    {
      "cell_type": "code",
      "metadata": {
        "id": "xWLsKo1BK5lD"
      },
      "source": [
        "y_predict_WAV_reshaped = y_predict_WAV.reshape(-1,6)"
      ],
      "execution_count": 152,
      "outputs": []
    },
    {
      "cell_type": "code",
      "metadata": {
        "id": "QAjNmyfPK5lE",
        "colab": {
          "base_uri": "https://localhost:8080/"
        },
        "outputId": "982edf0e-8bff-4f62-9dbf-a73c3c83fe6a"
      },
      "source": [
        "y_predict_WAV_reshaped.shape"
      ],
      "execution_count": 153,
      "outputs": [
        {
          "output_type": "execute_result",
          "data": {
            "text/plain": [
              "(17383, 6)"
            ]
          },
          "metadata": {
            "tags": []
          },
          "execution_count": 153
        }
      ]
    },
    {
      "cell_type": "code",
      "metadata": {
        "id": "jlSmfoYFK5lE",
        "colab": {
          "base_uri": "https://localhost:8080/"
        },
        "outputId": "cb1b7662-1b01-46e5-c65d-c485e089dec4"
      },
      "source": [
        "# The mean squared error\n",
        "print('Mean squared error: %.2f'\n",
        "      % mean_squared_error(test_label, y_predict_WAV_reshaped))\n",
        "# The coefficient of determination: 1 is perfect prediction\n",
        "print('Coefficient of determination: %.2f'\n",
        "      % r2_score(test_label, y_predict_WAV_reshaped))"
      ],
      "execution_count": 154,
      "outputs": [
        {
          "output_type": "stream",
          "text": [
            "Mean squared error: 2.05\n",
            "Coefficient of determination: 0.97\n"
          ],
          "name": "stdout"
        }
      ]
    },
    {
      "cell_type": "markdown",
      "metadata": {
        "id": "Fd88ruaZK5lF"
      },
      "source": [
        "## Plot the temp"
      ]
    },
    {
      "cell_type": "code",
      "metadata": {
        "id": "ln0KNeoHK5lF"
      },
      "source": [
        "z = np.linspace(past, past+future,future)"
      ],
      "execution_count": 155,
      "outputs": []
    },
    {
      "cell_type": "code",
      "metadata": {
        "id": "P1UCW7HPK5lG",
        "colab": {
          "base_uri": "https://localhost:8080/",
          "height": 285
        },
        "outputId": "9a073fcc-552f-4281-d2e9-50be0d523ce0"
      },
      "source": [
        "z = np.linspace(past, past+future,future)\n",
        "plt.plot(test_temp[0])\n",
        "plt.scatter(z,test_label[0])\n",
        "plt.scatter(z,y_predict_WAV_reshaped[0])"
      ],
      "execution_count": 156,
      "outputs": [
        {
          "output_type": "execute_result",
          "data": {
            "text/plain": [
              "<matplotlib.collections.PathCollection at 0x7f2e7a5017d0>"
            ]
          },
          "metadata": {
            "tags": []
          },
          "execution_count": 156
        },
        {
          "output_type": "display_data",
          "data": {
            "image/png": "[encoded data removed]",
            "text/plain": [
              "<Figure size 432x288 with 1 Axes>"
            ]
          },
          "metadata": {
            "tags": [],
            "needs_background": "light"
          }
        }
      ]
    },
    {
      "cell_type": "code",
      "metadata": {
        "id": "IgbjMOEzgKtX"
      },
      "source": [
        ""
      ],
      "execution_count": 156,
      "outputs": []
    },
    {
      "cell_type": "markdown",
      "metadata": {
        "id": "cEmUEsIjgLCh"
      },
      "source": [
        "# Model comparison\n"
      ]
    },
    {
      "cell_type": "code",
      "metadata": {
        "id": "-x-4HpIogLCi",
        "colab": {
          "base_uri": "https://localhost:8080/",
          "height": 282
        },
        "outputId": "34da45f6-0023-49db-e0f9-46d277944a4a"
      },
      "source": [
        "i = 2\n",
        "z = np.linspace(past, past+future,future)\n",
        "plt.plot(test_temp[i])\n",
        "#plt.scatter(z,y_predict[i], label = 'NN')\n",
        "plt.scatter(z,test_label[i], label = 'True temperature')\n",
        "#plt.scatter(z,y_persistence[i], label= 'Persistence')\n",
        "#plt.scatter(z,predict_label[i], label='Linear regression')\n",
        "plt.scatter(z,y_predict_GRU_reshaped[i], label='GRU')\n",
        "plt.scatter(z,y_predict_LSTM_reshaped[i], label='LSTM')\n",
        "plt.scatter(z,y_predict_RNN_reshaped[i], label='RNN')\n",
        "plt.scatter(z,y_predict_WAV_reshaped[i], label='WAV')\n",
        "\n",
        "plt.legend(loc='best')\n",
        "\n"
      ],
      "execution_count": 157,
      "outputs": [
        {
          "output_type": "execute_result",
          "data": {
            "text/plain": [
              "<matplotlib.legend.Legend at 0x7f2e7a473f10>"
            ]
          },
          "metadata": {
            "tags": []
          },
          "execution_count": 157
        },
        {
          "output_type": "display_data",
          "data": {
            "image/png": "[encoded data removed]",
            "text/plain": [
              "<Figure size 432x288 with 1 Axes>"
            ]
          },
          "metadata": {
            "tags": [],
            "needs_background": "light"
          }
        }
      ]
    },
    {
      "cell_type": "markdown",
      "metadata": {
        "id": "4Li7estpgLCj"
      },
      "source": [
        "## MSE"
      ]
    },
    {
      "cell_type": "markdown",
      "metadata": {
        "id": "NmtYobX8gLCj"
      },
      "source": [
        "> We will check how MSE grows for predicted value on time axis."
      ]
    },
    {
      "cell_type": "code",
      "metadata": {
        "id": "MjyLi1mxgLCk"
      },
      "source": [
        "def mse(predict):\n",
        "  mse = np.ones((future,))\n",
        "  for i in range(future):\n",
        "     mse[i]= np.mean((test_label[:,i]-predict[:,i])**2)\n",
        "  return mse \n",
        "   "
      ],
      "execution_count": 158,
      "outputs": []
    },
    {
      "cell_type": "code",
      "metadata": {
        "id": "nPI2FEDtgLCm",
        "colab": {
          "base_uri": "https://localhost:8080/",
          "height": 282
        },
        "outputId": "ec074676-b414-46de-8689-5e696c65bc2b"
      },
      "source": [
        "#plt.plot(mse(y_predict), label = 'NN')\n",
        "#plt.plot(mse(predict_label), label = 'Linear Regression')\n",
        "#plt.plot(mse(y_persistence), label = 'Persistence')\n",
        "plt.plot(mse(y_predict_GRU_reshaped), label = 'GRU')\n",
        "plt.plot(mse(y_predict_LSTM_reshaped), label = 'LSTM')\n",
        "plt.plot(mse(y_predict_RNN_reshaped), label = 'RNN')\n",
        "plt.plot(mse(y_predict_WAV_reshaped), label = 'WAV')\n",
        "plt.legend(loc='best')"
      ],
      "execution_count": 159,
      "outputs": [
        {
          "output_type": "execute_result",
          "data": {
            "text/plain": [
              "<matplotlib.legend.Legend at 0x7f2e7a450e90>"
            ]
          },
          "metadata": {
            "tags": []
          },
          "execution_count": 159
        },
        {
          "output_type": "display_data",
          "data": {
            "image/png": "[encoded data removed]",
            "text/plain": [
              "<Figure size 432x288 with 1 Axes>"
            ]
          },
          "metadata": {
            "tags": [],
            "needs_background": "light"
          }
        }
      ]
    },
    {
      "cell_type": "markdown",
      "metadata": {
        "id": "NsWhLR-mhfBN"
      },
      "source": [
        "# Comparison with Baseline models"
      ]
    },
    {
      "cell_type": "code",
      "metadata": {
        "colab": {
          "base_uri": "https://localhost:8080/",
          "height": 282
        },
        "id": "kDKBOHr1hsan",
        "outputId": "ad91dd33-32fd-4f21-b970-970370f71688"
      },
      "source": [
        "plt.plot(mse(y_predict), label = 'NN')\n",
        "plt.plot(mse(predict_label), label = 'Linear Regression')\n",
        "plt.plot(mse(y_persistence), label = 'Persistence')\n",
        "plt.plot(mse(y_predict_GRU_reshaped), label = 'GRU')\n",
        "plt.plot(mse(y_predict_LSTM_reshaped), label = 'LSTM')\n",
        "plt.plot(mse(y_predict_RNN_reshaped), label = 'RNN')\n",
        "plt.plot(mse(y_predict_WAV_reshaped), label = 'WAV')\n",
        "plt.legend(loc='best')"
      ],
      "execution_count": 160,
      "outputs": [
        {
          "output_type": "execute_result",
          "data": {
            "text/plain": [
              "<matplotlib.legend.Legend at 0x7f2e7a31bfd0>"
            ]
          },
          "metadata": {
            "tags": []
          },
          "execution_count": 160
        },
        {
          "output_type": "display_data",
          "data": {
            "image/png": "[encoded data removed]",
            "text/plain": [
              "<Figure size 432x288 with 1 Axes>"
            ]
          },
          "metadata": {
            "tags": [],
            "needs_background": "light"
          }
        }
      ]
    },
    {
      "cell_type": "markdown",
      "metadata": {
        "id": "1PLya_2znYKN"
      },
      "source": [
        " > We observe that Wavenet is more effective for longer past data."
      ]
    }
  ]
}