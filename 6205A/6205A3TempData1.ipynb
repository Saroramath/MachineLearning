{
  "nbformat": 4,
  "nbformat_minor": 0,
  "metadata": {
    "colab": {
      "name": "6205A3TempData1.ipynb",
      "provenance": [],
      "collapsed_sections": [],
      "authorship_tag": "ABX9TyPZ6V1WRGrHFaeZqgvACccL",
      "include_colab_link": true
    },
    "kernelspec": {
      "name": "python3",
      "display_name": "Python 3"
    }
  },
  "cells": [
    {
      "cell_type": "markdown",
      "metadata": {
        "id": "view-in-github",
        "colab_type": "text"
      },
      "source": [
        "<a href=\"https://colab.research.google.com/github/Saroramath/MachineLearning/blob/main/6205A/6205A3TempData1.ipynb\" target=\"_parent\"><img src=\"https://colab.research.google.com/assets/colab-badge.svg\" alt=\"Open In Colab\"/></a>"
      ]
    },
    {
      "cell_type": "markdown",
      "metadata": {
        "id": "xlC6YSAfI9-U"
      },
      "source": [
        "# Learning goals"
      ]
    },
    {
      "cell_type": "markdown",
      "metadata": {
        "id": "FB0-70PxJDB9"
      },
      "source": [
        "1. Prepare the time series data into samples.\n",
        "2. We will us primitive commands to understand the sample generation steps."
      ]
    },
    {
      "cell_type": "code",
      "metadata": {
        "colab": {
          "base_uri": "https://localhost:8080/"
        },
        "id": "gu7VuJBQTAfR",
        "outputId": "a04ccc2f-3879-432b-e840-2d1ffa1c0026"
      },
      "source": [
        "!pip install netCDF4"
      ],
      "execution_count": 1,
      "outputs": [
        {
          "output_type": "stream",
          "text": [
            "Collecting netCDF4\n",
            "\u001b[?25l  Downloading https://files.pythonhosted.org/packages/37/56/f65978898fb8e7e5df9c67531d86eb24eb04938deae3b61dbcce12c98212/netCDF4-1.5.6-cp37-cp37m-manylinux2014_x86_64.whl (4.7MB)\n",
            "\u001b[K     |████████████████████████████████| 4.7MB 6.1MB/s \n",
            "\u001b[?25hRequirement already satisfied: numpy>=1.9 in /usr/local/lib/python3.7/dist-packages (from netCDF4) (1.19.5)\n",
            "Collecting cftime\n",
            "\u001b[?25l  Downloading https://files.pythonhosted.org/packages/41/e0/3e120cca16571c5ee3b35f1ed432c2aae5dc91e2b789e8b9c3a70e721ea0/cftime-1.4.1-cp37-cp37m-manylinux2014_x86_64.whl (313kB)\n",
            "\u001b[K     |████████████████████████████████| 317kB 40.0MB/s \n",
            "\u001b[?25hInstalling collected packages: cftime, netCDF4\n",
            "Successfully installed cftime-1.4.1 netCDF4-1.5.6\n"
          ],
          "name": "stdout"
        }
      ]
    },
    {
      "cell_type": "code",
      "metadata": {
        "id": "EuH1MnIaRjl-"
      },
      "source": [
        "from netCDF4 import Dataset\n",
        "from google.colab import drive\n",
        "import numpy as np\n",
        "import matplotlib.pyplot as plt\n",
        "import tensorflow as tf\n"
      ],
      "execution_count": 2,
      "outputs": []
    },
    {
      "cell_type": "code",
      "metadata": {
        "id": "vEYGALlJTNoz"
      },
      "source": [
        "from google.colab import files\n",
        "#uploaded = files.upload()"
      ],
      "execution_count": 4,
      "outputs": []
    },
    {
      "cell_type": "code",
      "metadata": {
        "id": "KOGGyOlyUnVb"
      },
      "source": [
        "#drive.mount('/content/gdrive')"
      ],
      "execution_count": null,
      "outputs": []
    },
    {
      "cell_type": "markdown",
      "metadata": {
        "id": "Z75CYkXz1NeQ"
      },
      "source": [
        "> The file is too big to call as raw from github or to use upload. "
      ]
    },
    {
      "cell_type": "markdown",
      "metadata": {
        "id": "xeMBHtfTCmFH"
      },
      "source": [
        "Upload the file in sample_data directory from system."
      ]
    },
    {
      "cell_type": "code",
      "metadata": {
        "id": "LQW7R0Oo-7_V"
      },
      "source": [
        "file = '/content/sample_data/tempStJohns.nc'"
      ],
      "execution_count": 5,
      "outputs": []
    },
    {
      "cell_type": "markdown",
      "metadata": {
        "id": "bCOH74s-UJsK"
      },
      "source": [
        "# Explore the data"
      ]
    },
    {
      "cell_type": "code",
      "metadata": {
        "id": "k6Am9iu0Rtas"
      },
      "source": [
        "df = Dataset(file)"
      ],
      "execution_count": 6,
      "outputs": []
    },
    {
      "cell_type": "code",
      "metadata": {
        "colab": {
          "base_uri": "https://localhost:8080/"
        },
        "id": "sL_YLtc4_6Mc",
        "outputId": "fe142378-455e-4ab5-d6d0-84a7a60b9b57"
      },
      "source": [
        "df"
      ],
      "execution_count": 7,
      "outputs": [
        {
          "output_type": "execute_result",
          "data": {
            "text/plain": [
              "<class 'netCDF4._netCDF4.Dataset'>\n",
              "root group (NETCDF3_64BIT_OFFSET data model, file format NETCDF3):\n",
              "    Conventions: CF-1.6\n",
              "    history: 2021-02-03 00:49:51 GMT by grib_to_netcdf-2.16.0: /opt/ecmwf/eccodes/bin/grib_to_netcdf -S param -o /cache/data2/adaptor.mars.internal-1612306467.0641284-4955-27-685dbd6e-9572-4267-a9a7-5a61b7e919e4.nc /cache/tmp/685dbd6e-9572-4267-a9a7-5a61b7e919e4-adaptor.mars.internal-1612306467.0646257-4955-9-tmp.grib\n",
              "    dimensions(sizes): longitude(1), latitude(1), expver(2), time(87672)\n",
              "    variables(dimensions): float32 longitude(longitude), float32 latitude(latitude), int32 expver(expver), int32 time(time), int16 t2m(time, expver, latitude, longitude)\n",
              "    groups: "
            ]
          },
          "metadata": {
            "tags": []
          },
          "execution_count": 7
        }
      ]
    },
    {
      "cell_type": "code",
      "metadata": {
        "colab": {
          "base_uri": "https://localhost:8080/"
        },
        "id": "M5MfMO8sU5__",
        "outputId": "49793574-cd4b-416b-e5b1-7cb76c8007b2"
      },
      "source": [
        "df['longitude'][0] #longitude of the place"
      ],
      "execution_count": 8,
      "outputs": [
        {
          "output_type": "execute_result",
          "data": {
            "text/plain": [
              "masked_array(data=-52.75,\n",
              "             mask=False,\n",
              "       fill_value=1e+20,\n",
              "            dtype=float32)"
            ]
          },
          "metadata": {
            "tags": []
          },
          "execution_count": 8
        }
      ]
    },
    {
      "cell_type": "code",
      "metadata": {
        "colab": {
          "base_uri": "https://localhost:8080/"
        },
        "id": "wvG4OC29Z3Dq",
        "outputId": "5a196079-2bb2-4427-9103-22946c2907ff"
      },
      "source": [
        "df['time'] # Time series units: hours since 1900-01-01 00:00:00.0"
      ],
      "execution_count": 9,
      "outputs": [
        {
          "output_type": "execute_result",
          "data": {
            "text/plain": [
              "<class 'netCDF4._netCDF4.Variable'>\n",
              "int32 time(time)\n",
              "    units: hours since 1900-01-01 00:00:00.0\n",
              "    long_name: time\n",
              "    calendar: gregorian\n",
              "unlimited dimensions: \n",
              "current shape = (87672,)\n",
              "filling on, default _FillValue of -2147483647 used"
            ]
          },
          "metadata": {
            "tags": []
          },
          "execution_count": 9
        }
      ]
    },
    {
      "cell_type": "code",
      "metadata": {
        "id": "ZzX4IqtoZA27"
      },
      "source": [
        "time = df['time'][:] #start value 973008, end value 1060679"
      ],
      "execution_count": 10,
      "outputs": []
    },
    {
      "cell_type": "code",
      "metadata": {
        "colab": {
          "base_uri": "https://localhost:8080/"
        },
        "id": "TEbfj7IAcvAa",
        "outputId": "6b33ef0c-6caf-487d-cb06-e3e05fe0adee"
      },
      "source": [
        "time"
      ],
      "execution_count": 11,
      "outputs": [
        {
          "output_type": "execute_result",
          "data": {
            "text/plain": [
              "masked_array(data=[ 973008,  973009,  973010, ..., 1060677, 1060678,\n",
              "                   1060679],\n",
              "             mask=False,\n",
              "       fill_value=999999,\n",
              "            dtype=int32)"
            ]
          },
          "metadata": {
            "tags": []
          },
          "execution_count": 11
        }
      ]
    },
    {
      "cell_type": "code",
      "metadata": {
        "colab": {
          "base_uri": "https://localhost:8080/"
        },
        "id": "MHucNB65cwoj",
        "outputId": "ee8a92ba-1667-4823-de94-201253a2be92"
      },
      "source": [
        "time.shape"
      ],
      "execution_count": 12,
      "outputs": [
        {
          "output_type": "execute_result",
          "data": {
            "text/plain": [
              "(87672,)"
            ]
          },
          "metadata": {
            "tags": []
          },
          "execution_count": 12
        }
      ]
    },
    {
      "cell_type": "markdown",
      "metadata": {
        "id": "BjQsqwIe2AwP"
      },
      "source": [
        "> Consider columns with time data"
      ]
    },
    {
      "cell_type": "code",
      "metadata": {
        "colab": {
          "base_uri": "https://localhost:8080/"
        },
        "id": "PXOn5113ZLRb",
        "outputId": "be69cba0-9c94-40b2-d79c-ddef88146938"
      },
      "source": [
        " df['t2m'][:,0,0,0]"
      ],
      "execution_count": 13,
      "outputs": [
        {
          "output_type": "execute_result",
          "data": {
            "text/plain": [
              "masked_array(data=[272.81080791804084, 272.6567134137989,\n",
              "                   272.7837285490946, ..., --, --, --],\n",
              "             mask=[False, False, False, ...,  True,  True,  True],\n",
              "       fill_value=-32767)"
            ]
          },
          "metadata": {
            "tags": []
          },
          "execution_count": 13
        }
      ]
    },
    {
      "cell_type": "markdown",
      "metadata": {
        "id": "NmaTrYCo1-LB"
      },
      "source": [
        "> Convert to Celsius"
      ]
    },
    {
      "cell_type": "code",
      "metadata": {
        "id": "LiF0cETrSiA-"
      },
      "source": [
        "temp = df['t2m'][:,0,0,0]-273.15"
      ],
      "execution_count": 14,
      "outputs": []
    },
    {
      "cell_type": "markdown",
      "metadata": {
        "id": "55w3GiSf2fU_"
      },
      "source": [
        "> Masked arrays are arrays that may have missing or invalid entries. The numpy.ma module provides a nearly work-alike replacement for numpy that supports data arrays with masks.\n",
        "\n"
      ]
    },
    {
      "cell_type": "code",
      "metadata": {
        "colab": {
          "base_uri": "https://localhost:8080/"
        },
        "id": "MG4oMJ7LAGWa",
        "outputId": "97ae8ec2-b4ee-4bdd-e0bb-369997633110"
      },
      "source": [
        "temp "
      ],
      "execution_count": 15,
      "outputs": [
        {
          "output_type": "execute_result",
          "data": {
            "text/plain": [
              "masked_array(data=[-0.3391920819591405, -0.4932865862010658,\n",
              "                   -0.36627145090540125, ..., --, --, --],\n",
              "             mask=[False, False, False, ...,  True,  True,  True],\n",
              "       fill_value=-32767)"
            ]
          },
          "metadata": {
            "tags": []
          },
          "execution_count": 15
        }
      ]
    },
    {
      "cell_type": "markdown",
      "metadata": {
        "id": "Zf99GruZ3Jde"
      },
      "source": [
        " The array is masked, filled with -32767 for the missing values, mask tells us where is that happeneing."
      ]
    },
    {
      "cell_type": "code",
      "metadata": {
        "colab": {
          "base_uri": "https://localhost:8080/"
        },
        "id": "2OYt2iuGHaTQ",
        "outputId": "e825c20c-60f7-4eb2-caed-30ae11c270ab"
      },
      "source": [
        "temp.data "
      ],
      "execution_count": 16,
      "outputs": [
        {
          "output_type": "execute_result",
          "data": {
            "text/plain": [
              "array([-3.39192082e-01, -4.93286586e-01, -3.66271451e-01, ...,\n",
              "       -3.27670000e+04, -3.27670000e+04, -3.27670000e+04])"
            ]
          },
          "metadata": {
            "tags": []
          },
          "execution_count": 16
        }
      ]
    },
    {
      "cell_type": "code",
      "metadata": {
        "colab": {
          "base_uri": "https://localhost:8080/"
        },
        "id": "aSdpaEECGFIJ",
        "outputId": "219314ce-7197-460f-85c7-026277c23119"
      },
      "source": [
        "temp.shape"
      ],
      "execution_count": 17,
      "outputs": [
        {
          "output_type": "execute_result",
          "data": {
            "text/plain": [
              "(87672,)"
            ]
          },
          "metadata": {
            "tags": []
          },
          "execution_count": 17
        }
      ]
    },
    {
      "cell_type": "code",
      "metadata": {
        "colab": {
          "base_uri": "https://localhost:8080/"
        },
        "id": "7cTEcw36GPAJ",
        "outputId": "d45b573a-62cf-483a-d72d-3ea1b9bae110"
      },
      "source": [
        "temp.mask"
      ],
      "execution_count": 18,
      "outputs": [
        {
          "output_type": "execute_result",
          "data": {
            "text/plain": [
              "array([False, False, False, ...,  True,  True,  True])"
            ]
          },
          "metadata": {
            "tags": []
          },
          "execution_count": 18
        }
      ]
    },
    {
      "cell_type": "markdown",
      "metadata": {
        "id": "DiOFH3vFDXbJ"
      },
      "source": [
        "## Rmoving masked values."
      ]
    },
    {
      "cell_type": "markdown",
      "metadata": {
        "id": "4AiZrrg4V7b-"
      },
      "source": [
        "First we check if the masked values are continuous or not."
      ]
    },
    {
      "cell_type": "code",
      "metadata": {
        "id": "A0Z4Ab1_V6oi"
      },
      "source": [
        "missing = np.where(temp.mask == True)"
      ],
      "execution_count": 19,
      "outputs": []
    },
    {
      "cell_type": "code",
      "metadata": {
        "colab": {
          "base_uri": "https://localhost:8080/"
        },
        "id": "s6BoZ-2nWvfg",
        "outputId": "eaa99cce-8d98-459a-f058-27b8da22bc33"
      },
      "source": [
        "missing[0][0] # The missing data is infact continuous so our time series is not broken anywhere"
      ],
      "execution_count": 20,
      "outputs": [
        {
          "output_type": "execute_result",
          "data": {
            "text/plain": [
              "86928"
            ]
          },
          "metadata": {
            "tags": []
          },
          "execution_count": 20
        }
      ]
    },
    {
      "cell_type": "code",
      "metadata": {
        "id": "tLDymdf7HApc"
      },
      "source": [
        "temp = temp[~temp.mask] #use the inverse of the mask as an index."
      ],
      "execution_count": 21,
      "outputs": []
    },
    {
      "cell_type": "code",
      "metadata": {
        "colab": {
          "base_uri": "https://localhost:8080/"
        },
        "id": "9yijNfMlHQnr",
        "outputId": "515fd5f7-3ea8-4681-f7ae-f845378c2aed"
      },
      "source": [
        "temp.shape # This is a continuous time series for temperature."
      ],
      "execution_count": 22,
      "outputs": [
        {
          "output_type": "execute_result",
          "data": {
            "text/plain": [
              "(86928,)"
            ]
          },
          "metadata": {
            "tags": []
          },
          "execution_count": 22
        }
      ]
    },
    {
      "cell_type": "markdown",
      "metadata": {
        "id": "vGfNPxwNc0Kj"
      },
      "source": [
        "Reducing time seris to match with it"
      ]
    },
    {
      "cell_type": "code",
      "metadata": {
        "id": "W6502fRXc7mZ"
      },
      "source": [
        "time = time[:86928]"
      ],
      "execution_count": 23,
      "outputs": []
    },
    {
      "cell_type": "code",
      "metadata": {
        "colab": {
          "base_uri": "https://localhost:8080/"
        },
        "id": "W9rHjMAKdLWo",
        "outputId": "7d890d4a-8616-4b9b-c837-7fc8af77126c"
      },
      "source": [
        "time.shape"
      ],
      "execution_count": 24,
      "outputs": [
        {
          "output_type": "execute_result",
          "data": {
            "text/plain": [
              "(86928,)"
            ]
          },
          "metadata": {
            "tags": []
          },
          "execution_count": 24
        }
      ]
    },
    {
      "cell_type": "markdown",
      "metadata": {
        "id": "-ZWEvZ-0c84R"
      },
      "source": [
        "Find the unique value in numpy"
      ]
    },
    {
      "cell_type": "code",
      "metadata": {
        "colab": {
          "base_uri": "https://localhost:8080/"
        },
        "id": "F14kRU1KVOZs",
        "outputId": "cef14036-2966-4b9b-e07f-5ee07f80ed27"
      },
      "source": [
        "np.unique(temp.mask) #All values are genuine now"
      ],
      "execution_count": 25,
      "outputs": [
        {
          "output_type": "execute_result",
          "data": {
            "text/plain": [
              "array([False])"
            ]
          },
          "metadata": {
            "tags": []
          },
          "execution_count": 25
        }
      ]
    },
    {
      "cell_type": "markdown",
      "metadata": {
        "id": "Nzm0Kd4eDnTG"
      },
      "source": [
        "## Plot the temperature over time."
      ]
    },
    {
      "cell_type": "markdown",
      "metadata": {
        "id": "XvpsqcxKeF-W"
      },
      "source": [
        "Plot the time series against time\n",
        "\n",
        "\n"
      ]
    },
    {
      "cell_type": "code",
      "metadata": {
        "id": "vsTvefA-s0No"
      },
      "source": [
        "number_of_years = (time-973008)/8760 "
      ],
      "execution_count": 26,
      "outputs": []
    },
    {
      "cell_type": "markdown",
      "metadata": {
        "id": "iRxAfyoqDKFr"
      },
      "source": [
        "Temperature plot over approximately 10 years"
      ]
    },
    {
      "cell_type": "code",
      "metadata": {
        "colab": {
          "base_uri": "https://localhost:8080/",
          "height": 282
        },
        "id": "hX025uRYeFl5",
        "outputId": "a788c3bb-b176-4ee9-e239-12be0827d32e"
      },
      "source": [
        "plt.plot(number_of_years,temp)"
      ],
      "execution_count": 27,
      "outputs": [
        {
          "output_type": "execute_result",
          "data": {
            "text/plain": [
              "[<matplotlib.lines.Line2D at 0x7fb66cc51610>]"
            ]
          },
          "metadata": {
            "tags": []
          },
          "execution_count": 27
        },
        {
          "output_type": "display_data",
          "data": {
            "image/png": "[encoded data removed]",
            "text/plain": [
              "<Figure size 432x288 with 1 Axes>"
            ]
          },
          "metadata": {
            "tags": [],
            "needs_background": "light"
          }
        }
      ]
    },
    {
      "cell_type": "markdown",
      "metadata": {
        "id": "0EW6HY0mzXQT"
      },
      "source": [
        "## Standardize the temperature"
      ]
    },
    {
      "cell_type": "code",
      "metadata": {
        "colab": {
          "base_uri": "https://localhost:8080/"
        },
        "id": "4rXEOPUetmhQ",
        "outputId": "488a70b2-7cb9-4511-d579-faafd2157f4b"
      },
      "source": [
        "temp.shape"
      ],
      "execution_count": 28,
      "outputs": [
        {
          "output_type": "execute_result",
          "data": {
            "text/plain": [
              "(86928,)"
            ]
          },
          "metadata": {
            "tags": []
          },
          "execution_count": 28
        }
      ]
    },
    {
      "cell_type": "code",
      "metadata": {
        "id": "-eP9aC_Mt7G3",
        "colab": {
          "base_uri": "https://localhost:8080/"
        },
        "outputId": "05052e29-b40d-4a71-8bb1-0d368210eda4"
      },
      "source": [
        "temp.mean()"
      ],
      "execution_count": 29,
      "outputs": [
        {
          "output_type": "execute_result",
          "data": {
            "text/plain": [
              "5.57589982331033"
            ]
          },
          "metadata": {
            "tags": []
          },
          "execution_count": 29
        }
      ]
    },
    {
      "cell_type": "code",
      "metadata": {
        "colab": {
          "base_uri": "https://localhost:8080/"
        },
        "id": "hqjm3Klsrh10",
        "outputId": "1f3ddb89-964a-424e-b2d6-e608ad0e1e33"
      },
      "source": [
        "temp.std()"
      ],
      "execution_count": 30,
      "outputs": [
        {
          "output_type": "execute_result",
          "data": {
            "text/plain": [
              "7.754305350561417"
            ]
          },
          "metadata": {
            "tags": []
          },
          "execution_count": 30
        }
      ]
    },
    {
      "cell_type": "code",
      "metadata": {
        "colab": {
          "base_uri": "https://localhost:8080/",
          "height": 367
        },
        "id": "xeYvQMjFrmtI",
        "outputId": "f5942fa8-7bf4-4eab-b552-22442cd1dc01"
      },
      "source": [
        "plt.hist(temp)"
      ],
      "execution_count": 31,
      "outputs": [
        {
          "output_type": "execute_result",
          "data": {
            "text/plain": [
              "(array([  297.,  2100.,  6706., 15629., 17035., 14113., 12733., 11795.,\n",
              "         5601.,   919.]),\n",
              " array([-16.62485352, -12.39963379,  -8.17441406,  -3.94919434,\n",
              "          0.27602539,   4.50124512,   8.72646484,  12.95168457,\n",
              "         17.1769043 ,  21.40212402,  25.62734375]),\n",
              " <a list of 10 Patch objects>)"
            ]
          },
          "metadata": {
            "tags": []
          },
          "execution_count": 31
        },
        {
          "output_type": "display_data",
          "data": {
            "image/png": "[encoded data removed]",
            "text/plain": [
              "<Figure size 432x288 with 1 Axes>"
            ]
          },
          "metadata": {
            "tags": [],
            "needs_background": "light"
          }
        }
      ]
    },
    {
      "cell_type": "code",
      "metadata": {
        "id": "ZE61KVZrrxc0"
      },
      "source": [
        "#temp = (temp - temp.mean())/temp.std()"
      ],
      "execution_count": null,
      "outputs": []
    },
    {
      "cell_type": "code",
      "metadata": {
        "colab": {
          "base_uri": "https://localhost:8080/"
        },
        "id": "7cdy_DhUELGl",
        "outputId": "a3a1522f-1f2b-47b9-e7d9-0b9c5d6ff650"
      },
      "source": [
        "temp.mean()"
      ],
      "execution_count": null,
      "outputs": [
        {
          "output_type": "execute_result",
          "data": {
            "text/plain": [
              "5.57589982331033"
            ]
          },
          "metadata": {
            "tags": []
          },
          "execution_count": 33
        }
      ]
    },
    {
      "cell_type": "code",
      "metadata": {
        "colab": {
          "base_uri": "https://localhost:8080/"
        },
        "id": "GNh-ICRmENdT",
        "outputId": "e1e1d805-a232-46bc-be7b-71b4d9d94500"
      },
      "source": [
        "temp.std()"
      ],
      "execution_count": null,
      "outputs": [
        {
          "output_type": "execute_result",
          "data": {
            "text/plain": [
              "7.754305350561417"
            ]
          },
          "metadata": {
            "tags": []
          },
          "execution_count": 34
        }
      ]
    },
    {
      "cell_type": "code",
      "metadata": {
        "id": "otA5KK524DOm",
        "colab": {
          "base_uri": "https://localhost:8080/"
        },
        "outputId": "c2aa7e8e-3c67-4d7f-efc3-3909a65d4cea"
      },
      "source": [
        "temp.max()"
      ],
      "execution_count": null,
      "outputs": [
        {
          "output_type": "execute_result",
          "data": {
            "text/plain": [
              "25.627343750000023"
            ]
          },
          "metadata": {
            "tags": []
          },
          "execution_count": 35
        }
      ]
    },
    {
      "cell_type": "code",
      "metadata": {
        "colab": {
          "base_uri": "https://localhost:8080/"
        },
        "id": "JqaBoSov1EW_",
        "outputId": "8fa89c6c-24e0-4515-804b-0db90d7319c6"
      },
      "source": [
        "temp.min()"
      ],
      "execution_count": null,
      "outputs": [
        {
          "output_type": "execute_result",
          "data": {
            "text/plain": [
              "-16.624853515624977"
            ]
          },
          "metadata": {
            "tags": []
          },
          "execution_count": 36
        }
      ]
    },
    {
      "cell_type": "markdown",
      "metadata": {
        "id": "UMZUOts7s_ks"
      },
      "source": [
        "## Generate Samples"
      ]
    },
    {
      "cell_type": "markdown",
      "metadata": {
        "id": "00AHc-f4DKue"
      },
      "source": [
        "We will avoid using functions to generate smaples to understand the process."
      ]
    },
    {
      "cell_type": "markdown",
      "metadata": {
        "id": "3A1QkayuDsw1"
      },
      "source": [
        "We want the prediction model to predict the next 6 hr of data with previous 6 hrs of temp data available."
      ]
    },
    {
      "cell_type": "code",
      "metadata": {
        "colab": {
          "base_uri": "https://localhost:8080/"
        },
        "id": "VsE0ArRFDsQS",
        "outputId": "f53d3d94-f796-45a9-e188-8bed92e1e57c"
      },
      "source": [
        "temp[0:6]"
      ],
      "execution_count": null,
      "outputs": [
        {
          "output_type": "execute_result",
          "data": {
            "text/plain": [
              "masked_array(data=[-0.3391920819591405, -0.4932865862010658,\n",
              "                   -0.36627145090540125, -0.1728473870034577,\n",
              "                   -0.26569093767636787, -0.4346146201507963],\n",
              "             mask=[False, False, False, False, False, False],\n",
              "       fill_value=-32767)"
            ]
          },
          "metadata": {
            "tags": []
          },
          "execution_count": 37
        }
      ]
    },
    {
      "cell_type": "markdown",
      "metadata": {
        "id": "hp5_X5rIbSd7"
      },
      "source": [
        "We make the vectors of size 6"
      ]
    },
    {
      "cell_type": "code",
      "metadata": {
        "id": "0F3XOYBqDaoz"
      },
      "source": [
        "data = []\n",
        "\n",
        "for i in range(len(temp)-6+1):\n",
        "  data.append(temp[i:i+6].data)\n",
        "\n"
      ],
      "execution_count": 32,
      "outputs": []
    },
    {
      "cell_type": "code",
      "metadata": {
        "id": "GvA4UUzAE9OY"
      },
      "source": [
        "data_array = np.array(data) #turn into np array"
      ],
      "execution_count": 33,
      "outputs": []
    },
    {
      "cell_type": "code",
      "metadata": {
        "colab": {
          "base_uri": "https://localhost:8080/"
        },
        "id": "zpoeH2mS7I6u",
        "outputId": "76e61fef-bafc-41e9-ae00-658186faccf3"
      },
      "source": [
        "data_array[-1]"
      ],
      "execution_count": 34,
      "outputs": [
        {
          "output_type": "execute_result",
          "data": {
            "text/plain": [
              "array([3.87164979, 3.79943814, 1.65565476, 1.5350871 , 0.54088741,\n",
              "       0.78266749])"
            ]
          },
          "metadata": {
            "tags": []
          },
          "execution_count": 34
        }
      ]
    },
    {
      "cell_type": "code",
      "metadata": {
        "colab": {
          "base_uri": "https://localhost:8080/"
        },
        "id": "Bll9S2IH7LXa",
        "outputId": "df30dc84-9214-407b-b40b-5bd6374f6a84"
      },
      "source": [
        "temp[-6:]"
      ],
      "execution_count": 35,
      "outputs": [
        {
          "output_type": "execute_result",
          "data": {
            "text/plain": [
              "masked_array(data=[3.8716497891866197, 3.79943813866322,\n",
              "                   1.6556547637497943, 1.53508709725088,\n",
              "                   0.5408874087947879, 0.7826674886722458],\n",
              "             mask=[False, False, False, False, False, False],\n",
              "       fill_value=-32767)"
            ]
          },
          "metadata": {
            "tags": []
          },
          "execution_count": 35
        }
      ]
    },
    {
      "cell_type": "code",
      "metadata": {
        "colab": {
          "base_uri": "https://localhost:8080/"
        },
        "id": "XdNIKwkc1rtc",
        "outputId": "783cda40-cef3-4226-f835-acd9f5949a3e"
      },
      "source": [
        "data_array.max()"
      ],
      "execution_count": 36,
      "outputs": [
        {
          "output_type": "execute_result",
          "data": {
            "text/plain": [
              "25.627343750000023"
            ]
          },
          "metadata": {
            "tags": []
          },
          "execution_count": 36
        }
      ]
    },
    {
      "cell_type": "code",
      "metadata": {
        "colab": {
          "base_uri": "https://localhost:8080/"
        },
        "id": "JDJCx_gBfs45",
        "outputId": "193c1e23-b0d9-46a1-ac5b-1775fd5b17da"
      },
      "source": [
        "data_array[0]"
      ],
      "execution_count": 37,
      "outputs": [
        {
          "output_type": "execute_result",
          "data": {
            "text/plain": [
              "array([-0.33919208, -0.49328659, -0.36627145, -0.17284739, -0.26569094,\n",
              "       -0.43461462])"
            ]
          },
          "metadata": {
            "tags": []
          },
          "execution_count": 37
        }
      ]
    },
    {
      "cell_type": "code",
      "metadata": {
        "colab": {
          "base_uri": "https://localhost:8080/"
        },
        "id": "IkvQVIfAQn5F",
        "outputId": "f0d9a2aa-10d1-46d9-b96d-ee07ad3c4f26"
      },
      "source": [
        "data_array[5]"
      ],
      "execution_count": 38,
      "outputs": [
        {
          "output_type": "execute_result",
          "data": {
            "text/plain": [
              "array([-0.43461462, -0.64415736, -0.80405458, -1.18509999, -1.09548017,\n",
              "       -1.02068953])"
            ]
          },
          "metadata": {
            "tags": []
          },
          "execution_count": 38
        }
      ]
    },
    {
      "cell_type": "code",
      "metadata": {
        "colab": {
          "base_uri": "https://localhost:8080/"
        },
        "id": "2ggXk41wf0Ac",
        "outputId": "2f826a88-6fdd-46da-cef2-1c0e8404d98b"
      },
      "source": [
        "data_array[86922]"
      ],
      "execution_count": 39,
      "outputs": [
        {
          "output_type": "execute_result",
          "data": {
            "text/plain": [
              "array([3.87164979, 3.79943814, 1.65565476, 1.5350871 , 0.54088741,\n",
              "       0.78266749])"
            ]
          },
          "metadata": {
            "tags": []
          },
          "execution_count": 39
        }
      ]
    },
    {
      "cell_type": "code",
      "metadata": {
        "colab": {
          "base_uri": "https://localhost:8080/"
        },
        "id": "263mRDny7yQx",
        "outputId": "a4a945d0-abfc-456d-d1b9-6b319aabb85d"
      },
      "source": [
        "data_array[-1]"
      ],
      "execution_count": 40,
      "outputs": [
        {
          "output_type": "execute_result",
          "data": {
            "text/plain": [
              "array([3.87164979, 3.79943814, 1.65565476, 1.5350871 , 0.54088741,\n",
              "       0.78266749])"
            ]
          },
          "metadata": {
            "tags": []
          },
          "execution_count": 40
        }
      ]
    },
    {
      "cell_type": "code",
      "metadata": {
        "colab": {
          "base_uri": "https://localhost:8080/"
        },
        "id": "olyiStymRH4W",
        "outputId": "250580bb-f42e-4bc7-96d1-3bdf939fd207"
      },
      "source": [
        "data_array[-7]"
      ],
      "execution_count": 41,
      "outputs": [
        {
          "output_type": "execute_result",
          "data": {
            "text/plain": [
              "array([2.06893751, 2.18370246, 2.84908124, 3.12825664, 3.38099741,\n",
              "       3.79363542])"
            ]
          },
          "metadata": {
            "tags": []
          },
          "execution_count": 41
        }
      ]
    },
    {
      "cell_type": "code",
      "metadata": {
        "colab": {
          "base_uri": "https://localhost:8080/"
        },
        "id": "6YSnKphUfdx2",
        "outputId": "0877ec1f-b5a5-4f0d-be5b-773b709c9570"
      },
      "source": [
        "data_array.shape"
      ],
      "execution_count": 42,
      "outputs": [
        {
          "output_type": "execute_result",
          "data": {
            "text/plain": [
              "(86923, 6)"
            ]
          },
          "metadata": {
            "tags": []
          },
          "execution_count": 42
        }
      ]
    },
    {
      "cell_type": "code",
      "metadata": {
        "colab": {
          "base_uri": "https://localhost:8080/"
        },
        "id": "464PEvoUgmKy",
        "outputId": "a522305e-cd2c-42be-9483-b7ba0066955b"
      },
      "source": [
        "data_array.dtype"
      ],
      "execution_count": 43,
      "outputs": [
        {
          "output_type": "execute_result",
          "data": {
            "text/plain": [
              "dtype('float64')"
            ]
          },
          "metadata": {
            "tags": []
          },
          "execution_count": 43
        }
      ]
    },
    {
      "cell_type": "code",
      "metadata": {
        "id": "2Nv7LrTnia5A"
      },
      "source": [
        "temp_total = data_array[:-6] #till -6 so -7 is included"
      ],
      "execution_count": 44,
      "outputs": []
    },
    {
      "cell_type": "code",
      "metadata": {
        "colab": {
          "base_uri": "https://localhost:8080/"
        },
        "id": "zalvWjezinqi",
        "outputId": "c180a979-c176-41f5-dd41-2550993702f3"
      },
      "source": [
        "temp_total.shape"
      ],
      "execution_count": 45,
      "outputs": [
        {
          "output_type": "execute_result",
          "data": {
            "text/plain": [
              "(86917, 6)"
            ]
          },
          "metadata": {
            "tags": []
          },
          "execution_count": 45
        }
      ]
    },
    {
      "cell_type": "code",
      "metadata": {
        "colab": {
          "base_uri": "https://localhost:8080/"
        },
        "id": "WWwEdPxEregQ",
        "outputId": "b5b3ac86-45f6-4402-c6ce-32f13bcdddae"
      },
      "source": [
        "temp_total[-1]"
      ],
      "execution_count": 46,
      "outputs": [
        {
          "output_type": "execute_result",
          "data": {
            "text/plain": [
              "array([2.06893751, 2.18370246, 2.84908124, 3.12825664, 3.38099741,\n",
              "       3.79363542])"
            ]
          },
          "metadata": {
            "tags": []
          },
          "execution_count": 46
        }
      ]
    },
    {
      "cell_type": "code",
      "metadata": {
        "id": "OVhMSNodiqfe"
      },
      "source": [
        "label_total = data_array[6:]"
      ],
      "execution_count": 47,
      "outputs": []
    },
    {
      "cell_type": "code",
      "metadata": {
        "colab": {
          "base_uri": "https://localhost:8080/"
        },
        "id": "cTrXHQZPiv3_",
        "outputId": "e0054f0e-4dc5-4834-8521-da1488df5319"
      },
      "source": [
        "label_total.shape"
      ],
      "execution_count": 48,
      "outputs": [
        {
          "output_type": "execute_result",
          "data": {
            "text/plain": [
              "(86917, 6)"
            ]
          },
          "metadata": {
            "tags": []
          },
          "execution_count": 48
        }
      ]
    },
    {
      "cell_type": "markdown",
      "metadata": {
        "id": "WdR0ak8-307l"
      },
      "source": [
        "> Split the samples into train and test data"
      ]
    },
    {
      "cell_type": "code",
      "metadata": {
        "id": "IYqFyO8Wiylk"
      },
      "source": [
        "temp_train_number = np.int(0.8*len(temp_total))"
      ],
      "execution_count": 49,
      "outputs": []
    },
    {
      "cell_type": "code",
      "metadata": {
        "colab": {
          "base_uri": "https://localhost:8080/"
        },
        "id": "rtuZyWlkkGbQ",
        "outputId": "07b2a17d-23f1-45c9-d8e8-1253ac214302"
      },
      "source": [
        "temp_train_number"
      ],
      "execution_count": 50,
      "outputs": [
        {
          "output_type": "execute_result",
          "data": {
            "text/plain": [
              "69533"
            ]
          },
          "metadata": {
            "tags": []
          },
          "execution_count": 50
        }
      ]
    },
    {
      "cell_type": "code",
      "metadata": {
        "id": "MuC6Bm6ckNG1"
      },
      "source": [
        "train_temp = temp_total[:temp_train_number]"
      ],
      "execution_count": 51,
      "outputs": []
    },
    {
      "cell_type": "code",
      "metadata": {
        "colab": {
          "base_uri": "https://localhost:8080/"
        },
        "id": "T22dohhlkWRL",
        "outputId": "bbc4fe88-cdf9-44a9-ba13-f6ab1244d29f"
      },
      "source": [
        "train_temp.shape"
      ],
      "execution_count": null,
      "outputs": [
        {
          "output_type": "execute_result",
          "data": {
            "text/plain": [
              "(69533, 6)"
            ]
          },
          "metadata": {
            "tags": []
          },
          "execution_count": 58
        }
      ]
    },
    {
      "cell_type": "code",
      "metadata": {
        "colab": {
          "base_uri": "https://localhost:8080/"
        },
        "id": "_mecrf3Olbw3",
        "outputId": "f307a8f3-1d9f-4982-bb52-7c67d3e22ec2"
      },
      "source": [
        "train_temp[temp_train_number-1]"
      ],
      "execution_count": 52,
      "outputs": [
        {
          "output_type": "execute_result",
          "data": {
            "text/plain": [
              "array([-0.77310673, -0.56485349, -0.4797469 , -0.47200994, -0.68284217,\n",
              "       -0.84338414])"
            ]
          },
          "metadata": {
            "tags": []
          },
          "execution_count": 52
        }
      ]
    },
    {
      "cell_type": "code",
      "metadata": {
        "id": "f1Xl_Jk8kawN"
      },
      "source": [
        "train_label = label_total[:temp_train_number]"
      ],
      "execution_count": 53,
      "outputs": []
    },
    {
      "cell_type": "code",
      "metadata": {
        "colab": {
          "base_uri": "https://localhost:8080/"
        },
        "id": "czfweIwskgbU",
        "outputId": "ab2f70fb-5e84-4a03-8eee-780a042f51ce"
      },
      "source": [
        "train_label.shape"
      ],
      "execution_count": 54,
      "outputs": [
        {
          "output_type": "execute_result",
          "data": {
            "text/plain": [
              "(69533, 6)"
            ]
          },
          "metadata": {
            "tags": []
          },
          "execution_count": 54
        }
      ]
    },
    {
      "cell_type": "code",
      "metadata": {
        "id": "swF0pfs_kjJa"
      },
      "source": [
        "test_temp = temp_total[temp_train_number:]"
      ],
      "execution_count": 55,
      "outputs": []
    },
    {
      "cell_type": "code",
      "metadata": {
        "id": "Ao5XV2YYlkm_"
      },
      "source": [
        "test_label = label_total[temp_train_number:]"
      ],
      "execution_count": 56,
      "outputs": []
    },
    {
      "cell_type": "code",
      "metadata": {
        "colab": {
          "base_uri": "https://localhost:8080/"
        },
        "id": "JfursmMulpap",
        "outputId": "673d336e-3562-4391-e093-ae0aceeaa9b8"
      },
      "source": [
        "print(test_label.shape)\n",
        "print(test_temp.shape)"
      ],
      "execution_count": 58,
      "outputs": [
        {
          "output_type": "stream",
          "text": [
            "(17384, 6)\n",
            "(17384, 6)\n"
          ],
          "name": "stdout"
        }
      ]
    },
    {
      "cell_type": "code",
      "metadata": {
        "colab": {
          "base_uri": "https://localhost:8080/"
        },
        "id": "UFC8ixk6lZ9G",
        "outputId": "19396974-eb8a-49ae-8160-8eab874f3538"
      },
      "source": [
        "test_temp[1].shape"
      ],
      "execution_count": 59,
      "outputs": [
        {
          "output_type": "execute_result",
          "data": {
            "text/plain": [
              "(6,)"
            ]
          },
          "metadata": {
            "tags": []
          },
          "execution_count": 59
        }
      ]
    },
    {
      "cell_type": "markdown",
      "metadata": {
        "id": "sgyLZVdnGtX5"
      },
      "source": [
        "#  Persistence Model"
      ]
    },
    {
      "cell_type": "code",
      "metadata": {
        "id": "GbP98gYzGw8K"
      },
      "source": [
        "def model_persistence(test_temp_entry):\n",
        "  arr = np.full((6,),test_temp_entry[5])\n",
        "\n",
        "  return arr"
      ],
      "execution_count": 60,
      "outputs": []
    },
    {
      "cell_type": "code",
      "metadata": {
        "colab": {
          "base_uri": "https://localhost:8080/"
        },
        "id": "SSDmsKs8IAF6",
        "outputId": "1c8613a0-9d53-4b46-fff3-156fcb3bd6ef"
      },
      "source": [
        "test_temp[1]"
      ],
      "execution_count": 61,
      "outputs": [
        {
          "output_type": "execute_result",
          "data": {
            "text/plain": [
              "array([-0.4797469 , -0.47200994, -0.68284217, -0.84338414, -1.15157315,\n",
              "       -1.24312721])"
            ]
          },
          "metadata": {
            "tags": []
          },
          "execution_count": 61
        }
      ]
    },
    {
      "cell_type": "code",
      "metadata": {
        "colab": {
          "base_uri": "https://localhost:8080/"
        },
        "id": "g_ukdfIJHLwC",
        "outputId": "0b0e872b-120d-469c-af08-e326dd4bdeb3"
      },
      "source": [
        "model_persistence(test_temp[1])"
      ],
      "execution_count": 62,
      "outputs": [
        {
          "output_type": "execute_result",
          "data": {
            "text/plain": [
              "array([-1.24312721, -1.24312721, -1.24312721, -1.24312721, -1.24312721,\n",
              "       -1.24312721])"
            ]
          },
          "metadata": {
            "tags": []
          },
          "execution_count": 62
        }
      ]
    },
    {
      "cell_type": "code",
      "metadata": {
        "id": "uXDZvx9yIh4c"
      },
      "source": [
        "def y_persis(test_temp):\n",
        "  arr = np.empty(test_temp.shape)\n",
        "  for i in range(len(test_temp)):\n",
        "    arr[i] = model_persistence(test_temp[i])\n",
        "  return arr    "
      ],
      "execution_count": 63,
      "outputs": []
    },
    {
      "cell_type": "code",
      "metadata": {
        "colab": {
          "base_uri": "https://localhost:8080/"
        },
        "id": "ak5iT6eHLWfS",
        "outputId": "31c7e07e-8f09-49c1-c81b-fdf990b4c497"
      },
      "source": [
        "test_temp.shape"
      ],
      "execution_count": 64,
      "outputs": [
        {
          "output_type": "execute_result",
          "data": {
            "text/plain": [
              "(17384, 6)"
            ]
          },
          "metadata": {
            "tags": []
          },
          "execution_count": 64
        }
      ]
    },
    {
      "cell_type": "code",
      "metadata": {
        "id": "PsRl5gc_JvRR"
      },
      "source": [
        "y_persistence = y_persis(test_temp)"
      ],
      "execution_count": 66,
      "outputs": []
    },
    {
      "cell_type": "markdown",
      "metadata": {
        "id": "N860J48I-QH_"
      },
      "source": [
        "### MSE_Persistence"
      ]
    },
    {
      "cell_type": "code",
      "metadata": {
        "id": "xDZpuZM9Pb7B"
      },
      "source": [
        "from sklearn import linear_model\n",
        "from sklearn.metrics import mean_squared_error, r2_score\n",
        "from sklearn.model_selection import train_test_split"
      ],
      "execution_count": 68,
      "outputs": []
    },
    {
      "cell_type": "code",
      "metadata": {
        "colab": {
          "base_uri": "https://localhost:8080/"
        },
        "id": "KU8c5Cm0PVjG",
        "outputId": "1c3239ff-d9cb-4275-957d-994e2a6c72ef"
      },
      "source": [
        "# The mean squared error\n",
        "print('Mean squared error: %.2f'\n",
        "      % mean_squared_error(test_label, y_persistence))\n",
        "print('Coefficient of determination: %.2f'\n",
        "      % r2_score(test_label, y_persistence))"
      ],
      "execution_count": 69,
      "outputs": [
        {
          "output_type": "stream",
          "text": [
            "Mean squared error: 2.91\n",
            "Coefficient of determination: 0.95\n"
          ],
          "name": "stdout"
        }
      ]
    },
    {
      "cell_type": "markdown",
      "metadata": {
        "id": "hBr8-kEM-bd0"
      },
      "source": [
        "### Plot the temp"
      ]
    },
    {
      "cell_type": "code",
      "metadata": {
        "colab": {
          "base_uri": "https://localhost:8080/",
          "height": 282
        },
        "id": "s83P6z6OPPoN",
        "outputId": "32654610-a7fa-44f3-81ba-48b91e3a152c"
      },
      "source": [
        "z = np.linspace(6, 11,6)\n",
        "plt.plot(test_temp[101])\n",
        "plt.scatter(z,y_persistence[101])\n",
        "plt.scatter(z,test_label[101])"
      ],
      "execution_count": 70,
      "outputs": [
        {
          "output_type": "execute_result",
          "data": {
            "text/plain": [
              "<matplotlib.collections.PathCollection at 0x7fb662c9b810>"
            ]
          },
          "metadata": {
            "tags": []
          },
          "execution_count": 70
        },
        {
          "output_type": "display_data",
          "data": {
            "image/png": "[encoded data removed]",
            "text/plain": [
              "<Figure size 432x288 with 1 Axes>"
            ]
          },
          "metadata": {
            "tags": [],
            "needs_background": "light"
          }
        }
      ]
    },
    {
      "cell_type": "markdown",
      "metadata": {
        "id": "aQelxbdFB5yc"
      },
      "source": [
        "# Linear regression using Sklearn"
      ]
    },
    {
      "cell_type": "code",
      "metadata": {
        "id": "Y_YDixjmlab3"
      },
      "source": [
        "from sklearn import linear_model\n",
        "from sklearn.metrics import mean_squared_error, r2_score\n",
        "from sklearn.model_selection import train_test_split"
      ],
      "execution_count": 71,
      "outputs": []
    },
    {
      "cell_type": "code",
      "metadata": {
        "id": "PHyp_49zlab6"
      },
      "source": [
        "linear_regression = linear_model.LinearRegression()"
      ],
      "execution_count": 72,
      "outputs": []
    },
    {
      "cell_type": "code",
      "metadata": {
        "colab": {
          "base_uri": "https://localhost:8080/"
        },
        "id": "AXnSmakPlab6",
        "outputId": "c0738243-784e-4747-9f8a-cfd3e16f9c6c"
      },
      "source": [
        "linear_regression.fit(train_temp, train_label)"
      ],
      "execution_count": 73,
      "outputs": [
        {
          "output_type": "execute_result",
          "data": {
            "text/plain": [
              "LinearRegression(copy_X=True, fit_intercept=True, n_jobs=None, normalize=False)"
            ]
          },
          "metadata": {
            "tags": []
          },
          "execution_count": 73
        }
      ]
    },
    {
      "cell_type": "code",
      "metadata": {
        "id": "sbI3PsBqlab7"
      },
      "source": [
        "predict_label = linear_regression.predict(test_temp)"
      ],
      "execution_count": 74,
      "outputs": []
    },
    {
      "cell_type": "markdown",
      "metadata": {
        "id": "OiyQTdng-lZV"
      },
      "source": [
        "### MSE_Linear_Regression"
      ]
    },
    {
      "cell_type": "code",
      "metadata": {
        "colab": {
          "base_uri": "https://localhost:8080/"
        },
        "id": "8bSydjDslab7",
        "outputId": "8f3de1c7-7a01-4e0c-986c-bd42fe9e20aa"
      },
      "source": [
        "# The mean squared error\n",
        "print('Mean squared error: %.2f'\n",
        "      % mean_squared_error(test_label, predict_label))\n",
        "# The coefficient of determination: 1 is perfect prediction\n",
        "print('Coefficient of determination: %.2f'\n",
        "      % r2_score(test_label, predict_label))"
      ],
      "execution_count": 75,
      "outputs": [
        {
          "output_type": "stream",
          "text": [
            "Mean squared error: 2.23\n",
            "Coefficient of determination: 0.96\n"
          ],
          "name": "stdout"
        }
      ]
    },
    {
      "cell_type": "code",
      "metadata": {
        "colab": {
          "base_uri": "https://localhost:8080/",
          "height": 71
        },
        "id": "cA28QS0Klab8",
        "outputId": "230835e3-23ca-4fc0-a4d6-4d73866a12a2"
      },
      "source": [
        "z = np.linspace(6, 11,6)\n",
        "plt.plot(test_temp[101])\n",
        "plt.scatter(z,predict_label[101])\n",
        "plt.scatter(z,test_label[101])"
      ],
      "execution_count": null,
      "outputs": [
        {
          "output_type": "execute_result",
          "data": {
            "text/plain": [
              "<matplotlib.collections.PathCollection at 0x7f17c4faacd0>"
            ]
          },
          "metadata": {
            "tags": []
          },
          "execution_count": 80
        },
        {
          "output_type": "display_data",
          "data": {
            "image/png": "[encoded data removed]",
            "text/plain": [
              "<Figure size 432x288 with 1 Axes>"
            ]
          },
          "metadata": {
            "tags": [],
            "needs_background": "light"
          }
        }
      ]
    },
    {
      "cell_type": "markdown",
      "metadata": {
        "id": "xzKXduve-sxi"
      },
      "source": [
        "# Neural Network"
      ]
    },
    {
      "cell_type": "markdown",
      "metadata": {
        "id": "iU2Yf8c-lHCh"
      },
      "source": [
        "## Normalize the data"
      ]
    },
    {
      "cell_type": "code",
      "metadata": {
        "id": "woziVs3h1zuJ"
      },
      "source": [
        "train_temp_max = train_temp.max()\n",
        "train_temp_min = train_temp.min()\n",
        "\n",
        "train_temp_norm = (train_temp- train_temp_min)/(train_temp_max-train_temp_min)\n",
        "test_temp_norm = (test_temp- train_temp_min)/(train_temp_max-train_temp_min)\n",
        "\n",
        "train_label_norm = (train_label- train_temp_min)/(train_temp_max-train_temp_min)\n",
        "test_label_norm = (test_label- train_temp_min)/(train_temp_max-train_temp_min)\n",
        "\n"
      ],
      "execution_count": 76,
      "outputs": []
    },
    {
      "cell_type": "code",
      "metadata": {
        "colab": {
          "base_uri": "https://localhost:8080/"
        },
        "id": "qGtae2jG2zLB",
        "outputId": "f44b1d72-441a-46b1-fb25-47b8c37d44dc"
      },
      "source": [
        "train_temp.max()"
      ],
      "execution_count": 77,
      "outputs": [
        {
          "output_type": "execute_result",
          "data": {
            "text/plain": [
              "25.627343750000023"
            ]
          },
          "metadata": {
            "tags": []
          },
          "execution_count": 77
        }
      ]
    },
    {
      "cell_type": "code",
      "metadata": {
        "colab": {
          "base_uri": "https://localhost:8080/"
        },
        "id": "_4y5SDPP23gB",
        "outputId": "af117f4c-631d-40cd-9941-338aed097b9f"
      },
      "source": [
        "train_label.min()"
      ],
      "execution_count": 78,
      "outputs": [
        {
          "output_type": "execute_result",
          "data": {
            "text/plain": [
              "-16.624853515624977"
            ]
          },
          "metadata": {
            "tags": []
          },
          "execution_count": 78
        }
      ]
    },
    {
      "cell_type": "code",
      "metadata": {
        "id": "1GIhFFxSxtWu"
      },
      "source": [
        "#inp = tf.keras.layers.Input(shape=(6,))     # Sequential api\n",
        "#b = tf.keras.layers.Dense(128,activation='relu')(inp)\n",
        "##b = tf.keras.layers.Dense(128,activation='relu')(inp)\n",
        "#b = tf.keras.layers.Dense(128,activation='relu')(inp)\n",
        "#out = tf.keras.layers.Dense(6, activation='linear')(b)\n",
        "\n",
        "#model = tf.keras.models.Model(inp,out)\n",
        "#model.summary()"
      ],
      "execution_count": null,
      "outputs": []
    },
    {
      "cell_type": "code",
      "metadata": {
        "colab": {
          "base_uri": "https://localhost:8080/",
          "height": 282
        },
        "id": "VFqROSNq7qoB",
        "outputId": "d910c315-6002-4e94-a938-7955d0a90328"
      },
      "source": [
        "axis = np.linspace(0,1999,2000)\n",
        "axisy = temp[0:2000]\n",
        "plt.scatter(axis,axisy)"
      ],
      "execution_count": 79,
      "outputs": [
        {
          "output_type": "execute_result",
          "data": {
            "text/plain": [
              "<matplotlib.collections.PathCollection at 0x7fb658be0b50>"
            ]
          },
          "metadata": {
            "tags": []
          },
          "execution_count": 79
        },
        {
          "output_type": "display_data",
          "data": {
            "image/png": "[encoded data removed]",
            "text/plain": [
              "<Figure size 432x288 with 1 Axes>"
            ]
          },
          "metadata": {
            "tags": [],
            "needs_background": "light"
          }
        }
      ]
    },
    {
      "cell_type": "markdown",
      "metadata": {
        "id": "_p_eF52cMIUX"
      },
      "source": [
        "## Model"
      ]
    },
    {
      "cell_type": "code",
      "metadata": {
        "colab": {
          "base_uri": "https://localhost:8080/"
        },
        "id": "ANZh00SVFVR8",
        "outputId": "371646c6-c476-484f-b886-2b947ff1abde"
      },
      "source": [
        "model = tf.keras.models.Sequential([\n",
        "  \n",
        "  tf.keras.layers.Input(shape=(6,)),\n",
        "  tf.keras.layers.Dense(128,activation='relu'),\n",
        "  tf.keras.layers.Dense(128,activation='relu'),\n",
        "  tf.keras.layers.Dense(128,activation='relu'),\n",
        "  tf.keras.layers.Dense(6, activation='linear')\n",
        "])\n",
        "\n",
        "# Compile the model, i.e. associate a loss function and the chosen variant of GD\n",
        "model.compile(\n",
        "    loss=tf.losses.MeanSquaredError(),\n",
        "                optimizer=tf.optimizers.Adam(),\n",
        "                metrics=[tf.metrics.MeanAbsoluteError(),'accuracy']\n",
        ")\n",
        "\n",
        "# Summary of the model\n",
        "model.summary()"
      ],
      "execution_count": 85,
      "outputs": [
        {
          "output_type": "stream",
          "text": [
            "Model: \"sequential_1\"\n",
            "_________________________________________________________________\n",
            "Layer (type)                 Output Shape              Param #   \n",
            "=================================================================\n",
            "dense_4 (Dense)              (None, 128)               896       \n",
            "_________________________________________________________________\n",
            "dense_5 (Dense)              (None, 128)               16512     \n",
            "_________________________________________________________________\n",
            "dense_6 (Dense)              (None, 128)               16512     \n",
            "_________________________________________________________________\n",
            "dense_7 (Dense)              (None, 6)                 774       \n",
            "=================================================================\n",
            "Total params: 34,694\n",
            "Trainable params: 34,694\n",
            "Non-trainable params: 0\n",
            "_________________________________________________________________\n"
          ],
          "name": "stdout"
        }
      ]
    },
    {
      "cell_type": "code",
      "metadata": {
        "id": "ZXboj3oyFAa5"
      },
      "source": [
        "test = test_temp_norm, test_label_norm"
      ],
      "execution_count": 86,
      "outputs": []
    },
    {
      "cell_type": "code",
      "metadata": {
        "colab": {
          "base_uri": "https://localhost:8080/"
        },
        "id": "cgHmdimPHWWn",
        "outputId": "1678be46-a28b-4219-d6af-a9840fa4c328"
      },
      "source": [
        "hist = model.fit(train_temp_norm,train_label_norm ,batch_size=64, epochs=40,callbacks = tf.keras.callbacks.EarlyStopping(patience=3), validation_data= test)"
      ],
      "execution_count": 87,
      "outputs": [
        {
          "output_type": "stream",
          "text": [
            "Epoch 1/40\n",
            "1087/1087 [==============================] - 4s 3ms/step - loss: 0.0134 - mean_absolute_error: 0.0572 - accuracy: 0.2578 - val_loss: 0.0013 - val_mean_absolute_error: 0.0249 - val_accuracy: 0.2136\n",
            "Epoch 2/40\n",
            "1087/1087 [==============================] - 3s 3ms/step - loss: 0.0015 - mean_absolute_error: 0.0276 - accuracy: 0.3373 - val_loss: 0.0012 - val_mean_absolute_error: 0.0238 - val_accuracy: 0.3010\n",
            "Epoch 3/40\n",
            "1087/1087 [==============================] - 3s 3ms/step - loss: 0.0015 - mean_absolute_error: 0.0271 - accuracy: 0.3797 - val_loss: 0.0012 - val_mean_absolute_error: 0.0248 - val_accuracy: 0.4535\n",
            "Epoch 4/40\n",
            "1087/1087 [==============================] - 3s 3ms/step - loss: 0.0015 - mean_absolute_error: 0.0272 - accuracy: 0.4164 - val_loss: 0.0013 - val_mean_absolute_error: 0.0255 - val_accuracy: 0.4368\n",
            "Epoch 5/40\n",
            "1087/1087 [==============================] - 3s 3ms/step - loss: 0.0015 - mean_absolute_error: 0.0268 - accuracy: 0.4147 - val_loss: 0.0012 - val_mean_absolute_error: 0.0242 - val_accuracy: 0.4604\n",
            "Epoch 6/40\n",
            "1087/1087 [==============================] - 3s 3ms/step - loss: 0.0014 - mean_absolute_error: 0.0265 - accuracy: 0.4292 - val_loss: 0.0012 - val_mean_absolute_error: 0.0236 - val_accuracy: 0.4860\n",
            "Epoch 7/40\n",
            "1087/1087 [==============================] - 3s 3ms/step - loss: 0.0014 - mean_absolute_error: 0.0265 - accuracy: 0.4370 - val_loss: 0.0013 - val_mean_absolute_error: 0.0257 - val_accuracy: 0.4810\n",
            "Epoch 8/40\n",
            "1087/1087 [==============================] - 3s 3ms/step - loss: 0.0014 - mean_absolute_error: 0.0263 - accuracy: 0.4438 - val_loss: 0.0012 - val_mean_absolute_error: 0.0239 - val_accuracy: 0.4623\n",
            "Epoch 9/40\n",
            "1087/1087 [==============================] - 3s 3ms/step - loss: 0.0014 - mean_absolute_error: 0.0264 - accuracy: 0.4377 - val_loss: 0.0011 - val_mean_absolute_error: 0.0230 - val_accuracy: 0.4990\n",
            "Epoch 10/40\n",
            "1087/1087 [==============================] - 3s 3ms/step - loss: 0.0014 - mean_absolute_error: 0.0265 - accuracy: 0.4433 - val_loss: 0.0012 - val_mean_absolute_error: 0.0235 - val_accuracy: 0.4895\n",
            "Epoch 11/40\n",
            "1087/1087 [==============================] - 3s 3ms/step - loss: 0.0014 - mean_absolute_error: 0.0261 - accuracy: 0.4544 - val_loss: 0.0012 - val_mean_absolute_error: 0.0240 - val_accuracy: 0.5016\n",
            "Epoch 12/40\n",
            "1087/1087 [==============================] - 3s 3ms/step - loss: 0.0014 - mean_absolute_error: 0.0264 - accuracy: 0.4458 - val_loss: 0.0012 - val_mean_absolute_error: 0.0235 - val_accuracy: 0.5021\n"
          ],
          "name": "stdout"
        }
      ]
    },
    {
      "cell_type": "code",
      "metadata": {
        "colab": {
          "base_uri": "https://localhost:8080/"
        },
        "id": "tBA6pHJtzE4X",
        "outputId": "578edc81-03bf-4062-92cb-4f6a9207e54f"
      },
      "source": [
        "test_temp"
      ],
      "execution_count": 82,
      "outputs": [
        {
          "output_type": "execute_result",
          "data": {
            "text/plain": [
              "array([[-0.56485349, -0.4797469 , -0.47200994, -0.68284217, -0.84338414,\n",
              "        -1.15157315],\n",
              "       [-0.4797469 , -0.47200994, -0.68284217, -0.84338414, -1.15157315,\n",
              "        -1.24312721],\n",
              "       [-0.47200994, -0.68284217, -0.84338414, -1.15157315, -1.24312721,\n",
              "        -1.32629955],\n",
              "       ...,\n",
              "       [ 2.02251574,  1.99027839,  2.06893751,  2.18370246,  2.84908124,\n",
              "         3.12825664],\n",
              "       [ 1.99027839,  2.06893751,  2.18370246,  2.84908124,  3.12825664,\n",
              "         3.38099741],\n",
              "       [ 2.06893751,  2.18370246,  2.84908124,  3.12825664,  3.38099741,\n",
              "         3.79363542]])"
            ]
          },
          "metadata": {
            "tags": []
          },
          "execution_count": 82
        }
      ]
    },
    {
      "cell_type": "code",
      "metadata": {
        "id": "690uGOO0HkPf"
      },
      "source": [
        "prediction = model.predict(test_temp_norm)"
      ],
      "execution_count": 134,
      "outputs": []
    },
    {
      "cell_type": "code",
      "metadata": {
        "colab": {
          "base_uri": "https://localhost:8080/"
        },
        "id": "Fvs6KS3qJeYK",
        "outputId": "fc34926c-957b-4532-a979-7a49bf9d9620"
      },
      "source": [
        "model.evaluate(test_temp_norm,  test_label_norm, verbose=2)"
      ],
      "execution_count": 139,
      "outputs": [
        {
          "output_type": "stream",
          "text": [
            "544/544 - 0s - loss: 0.0012 - mean_absolute_error: 0.0235 - accuracy: 0.5021\n"
          ],
          "name": "stdout"
        },
        {
          "output_type": "execute_result",
          "data": {
            "text/plain": [
              "[0.0011612174566835165, 0.023493632674217224, 0.5021284222602844]"
            ]
          },
          "metadata": {
            "tags": []
          },
          "execution_count": 139
        }
      ]
    },
    {
      "cell_type": "markdown",
      "metadata": {
        "id": "3Sk3GdGEBvmw"
      },
      "source": [
        "## Scale back to prediction temperature"
      ]
    },
    {
      "cell_type": "code",
      "metadata": {
        "id": "IuZ0L9seVV66"
      },
      "source": [
        "y_predict_norm = model.predict(test_temp_norm)"
      ],
      "execution_count": 136,
      "outputs": []
    },
    {
      "cell_type": "code",
      "metadata": {
        "id": "jbsxRFIzRLXd"
      },
      "source": [
        "y_predict = train_temp_min + y_predict_norm * (train_temp_max-train_temp_min)"
      ],
      "execution_count": 137,
      "outputs": []
    },
    {
      "cell_type": "markdown",
      "metadata": {
        "id": "4nIM-gd_B6oM"
      },
      "source": [
        "##MSE_Neural_Network"
      ]
    },
    {
      "cell_type": "code",
      "metadata": {
        "colab": {
          "base_uri": "https://localhost:8080/"
        },
        "id": "KnVKF-ZLRvjZ",
        "outputId": "5402bac9-36db-4dad-dd50-455e2c9a8103"
      },
      "source": [
        "# The mean squared error\n",
        "print('Mean squared error: %.2f'\n",
        "      % mean_squared_error(test_label, y_predict))\n",
        "# The coefficient of determination: 1 is perfect prediction\n",
        "print('Coefficient of determination: %.2f'\n",
        "      % r2_score(test_label, predict_label))"
      ],
      "execution_count": 138,
      "outputs": [
        {
          "output_type": "stream",
          "text": [
            "Mean squared error: 2.07\n",
            "Coefficient of determination: 0.96\n"
          ],
          "name": "stdout"
        }
      ]
    },
    {
      "cell_type": "markdown",
      "metadata": {
        "id": "tYOfJXHCCcdX"
      },
      "source": [
        "## Plot the temp"
      ]
    },
    {
      "cell_type": "code",
      "metadata": {
        "id": "qeivT3SnVfpw"
      },
      "source": [
        "z = np.linspace(6,11 ,6)"
      ],
      "execution_count": 103,
      "outputs": []
    },
    {
      "cell_type": "code",
      "metadata": {
        "colab": {
          "base_uri": "https://localhost:8080/"
        },
        "id": "4RMm1sxeeauK",
        "outputId": "be7ccdca-6ce3-4710-b5f7-6d890536ad93"
      },
      "source": [
        "test_temp[0]"
      ],
      "execution_count": 104,
      "outputs": [
        {
          "output_type": "execute_result",
          "data": {
            "text/plain": [
              "array([-0.56485349, -0.4797469 , -0.47200994, -0.68284217, -0.84338414,\n",
              "       -1.15157315])"
            ]
          },
          "metadata": {
            "tags": []
          },
          "execution_count": 104
        }
      ]
    },
    {
      "cell_type": "code",
      "metadata": {
        "colab": {
          "base_uri": "https://localhost:8080/"
        },
        "id": "aprwVcowfEGt",
        "outputId": "8046170e-c9f6-4520-a880-f812ea58d3dd"
      },
      "source": [
        "test_label[0]"
      ],
      "execution_count": 105,
      "outputs": [
        {
          "output_type": "execute_result",
          "data": {
            "text/plain": [
              "array([-1.24312721, -1.32629955, -1.44493298, -1.40689291, -1.32952329,\n",
              "       -1.26891708])"
            ]
          },
          "metadata": {
            "tags": []
          },
          "execution_count": 105
        }
      ]
    },
    {
      "cell_type": "code",
      "metadata": {
        "colab": {
          "base_uri": "https://localhost:8080/"
        },
        "id": "38nlbEh2fp7r",
        "outputId": "7df755bb-a892-43e7-8c65-251b52491378"
      },
      "source": [
        "y_predict[0]\n"
      ],
      "execution_count": 106,
      "outputs": [
        {
          "output_type": "execute_result",
          "data": {
            "text/plain": [
              "array([-1.597003 , -1.7698803, -1.8526812, -1.9244137, -1.9158201,\n",
              "       -1.8699999], dtype=float32)"
            ]
          },
          "metadata": {
            "tags": []
          },
          "execution_count": 106
        }
      ]
    },
    {
      "cell_type": "code",
      "metadata": {
        "colab": {
          "base_uri": "https://localhost:8080/",
          "height": 286
        },
        "id": "2-qp7s7RefCj",
        "outputId": "ed1aa3fb-ee5c-4a0a-d667-a18800f00f59"
      },
      "source": [
        "z = np.linspace(6, 11,6)\n",
        "plt.plot(test_temp[0])\n",
        "plt.scatter(z,test_label[0])\n",
        "plt.scatter(z,y_predict[0])"
      ],
      "execution_count": 107,
      "outputs": [
        {
          "output_type": "execute_result",
          "data": {
            "text/plain": [
              "<matplotlib.collections.PathCollection at 0x7fb650924650>"
            ]
          },
          "metadata": {
            "tags": []
          },
          "execution_count": 107
        },
        {
          "output_type": "display_data",
          "data": {
            "image/png": "[encoded data removed]",
            "text/plain": [
              "<Figure size 432x288 with 1 Axes>"
            ]
          },
          "metadata": {
            "tags": [],
            "needs_background": "light"
          }
        }
      ]
    },
    {
      "cell_type": "code",
      "metadata": {
        "colab": {
          "base_uri": "https://localhost:8080/",
          "height": 71
        },
        "id": "hWqjmFtzVm1Z",
        "outputId": "9836b6c2-00c4-4451-9c00-7ebf8d4a9923"
      },
      "source": [
        "i = 0\n",
        "plt.plot(test_temp[i])\n",
        "plt.scatter(z,y_predict[i])\n",
        "plt.scatter(z,test_label[i]) # What shappeneing is that predicted values are so large in comparison to the test amd label values that is approximately starilght line"
      ],
      "execution_count": null,
      "outputs": [
        {
          "output_type": "execute_result",
          "data": {
            "text/plain": [
              "<matplotlib.collections.PathCollection at 0x7f17bd5aef10>"
            ]
          },
          "metadata": {
            "tags": []
          },
          "execution_count": 110
        },
        {
          "output_type": "display_data",
          "data": {
            "image/png": "[encoded data removed]",
            "text/plain": [
              "<Figure size 432x288 with 1 Axes>"
            ]
          },
          "metadata": {
            "tags": [],
            "needs_background": "light"
          }
        }
      ]
    },
    {
      "cell_type": "code",
      "metadata": {
        "colab": {
          "base_uri": "https://localhost:8080/",
          "height": 71
        },
        "id": "qTXSS_F9WNft",
        "outputId": "c42fd406-7800-4557-cc6f-2abd6f5073be"
      },
      "source": [
        "i = 1\n",
        "plt.plot(test_temp[i])\n",
        "plt.scatter(z,y_predict[i])\n",
        "plt.scatter(z,test_label[i])"
      ],
      "execution_count": null,
      "outputs": [
        {
          "output_type": "execute_result",
          "data": {
            "text/plain": [
              "<matplotlib.collections.PathCollection at 0x7f17bd4a5490>"
            ]
          },
          "metadata": {
            "tags": []
          },
          "execution_count": 111
        },
        {
          "output_type": "display_data",
          "data": {
            "image/png": "[encoded data removed]",
            "text/plain": [
              "<Figure size 432x288 with 1 Axes>"
            ]
          },
          "metadata": {
            "tags": [],
            "needs_background": "light"
          }
        }
      ]
    },
    {
      "cell_type": "code",
      "metadata": {
        "colab": {
          "base_uri": "https://localhost:8080/",
          "height": 71
        },
        "id": "feEChKYmWRLH",
        "outputId": "0192d711-57f0-48ac-d9bd-99709dfe8ba1"
      },
      "source": [
        "i = 2\n",
        "plt.plot(test_temp[i])\n",
        "plt.scatter(z,y_predict[i])\n",
        "plt.scatter(z,test_label[i])"
      ],
      "execution_count": null,
      "outputs": [
        {
          "output_type": "execute_result",
          "data": {
            "text/plain": [
              "<matplotlib.collections.PathCollection at 0x7f17bd40de10>"
            ]
          },
          "metadata": {
            "tags": []
          },
          "execution_count": 112
        },
        {
          "output_type": "display_data",
          "data": {
            "image/png": "[encoded data removed]",
            "text/plain": [
              "<Figure size 432x288 with 1 Axes>"
            ]
          },
          "metadata": {
            "tags": [],
            "needs_background": "light"
          }
        }
      ]
    },
    {
      "cell_type": "code",
      "metadata": {
        "colab": {
          "base_uri": "https://localhost:8080/",
          "height": 71
        },
        "id": "Yd3VvJpwWYQ5",
        "outputId": "895d8f2d-be0e-4175-cb5b-09aca27c72c5"
      },
      "source": [
        "i = 100\n",
        "plt.plot(test_temp[i])\n",
        "plt.scatter(z,y_predict[i])\n",
        "plt.scatter(z,test_label[i])"
      ],
      "execution_count": null,
      "outputs": [
        {
          "output_type": "execute_result",
          "data": {
            "text/plain": [
              "<matplotlib.collections.PathCollection at 0x7f17bd3867d0>"
            ]
          },
          "metadata": {
            "tags": []
          },
          "execution_count": 113
        },
        {
          "output_type": "display_data",
          "data": {
            "image/png": "[encoded data removed]",
            "text/plain": [
              "<Figure size 432x288 with 1 Axes>"
            ]
          },
          "metadata": {
            "tags": [],
            "needs_background": "light"
          }
        }
      ]
    },
    {
      "cell_type": "markdown",
      "metadata": {
        "id": "lT8F81tpfl4c"
      },
      "source": [
        "# Regression in keras"
      ]
    },
    {
      "cell_type": "markdown",
      "metadata": {
        "id": "0wzOwVpJfqhe"
      },
      "source": [
        "From the perspective of linear regression errors it is very small error. We will do regression moddeling before normalzing."
      ]
    },
    {
      "cell_type": "code",
      "metadata": {
        "colab": {
          "base_uri": "https://localhost:8080/"
        },
        "id": "j5siwPxjBIJM",
        "outputId": "e3039460-b16b-4280-fc61-bbb36c1912f1"
      },
      "source": [
        "model = tf.keras.models.Sequential([\n",
        "  \n",
        "  tf.keras.layers.Input(shape=(6,)),\n",
        "  tf.keras.layers.Dense(6, activation='linear')\n",
        "])\n",
        "\n",
        "# Compile the model, i.e. associate a loss function and the chosen variant of GD\n",
        "model.compile(\n",
        "    loss=tf.losses.MeanSquaredError(),\n",
        "                optimizer=tf.optimizers.Adam(),\n",
        "                metrics=[tf.metrics.MeanAbsoluteError(),'accuracy']\n",
        ")\n",
        "\n",
        "# Summary of the model\n",
        "model.summary()"
      ],
      "execution_count": null,
      "outputs": [
        {
          "output_type": "stream",
          "text": [
            "Model: \"sequential_1\"\n",
            "_________________________________________________________________\n",
            "Layer (type)                 Output Shape              Param #   \n",
            "=================================================================\n",
            "dense_4 (Dense)              (None, 6)                 42        \n",
            "=================================================================\n",
            "Total params: 42\n",
            "Trainable params: 42\n",
            "Non-trainable params: 0\n",
            "_________________________________________________________________\n"
          ],
          "name": "stdout"
        }
      ]
    },
    {
      "cell_type": "code",
      "metadata": {
        "id": "3htJUiIuBIJP"
      },
      "source": [
        "model.compile(\n",
        "    loss='mse',\n",
        "    optimizer=tf.keras.optimizers.Adam(0.001),\n",
        "    metrics=['accuracy','mse'],\n",
        ")"
      ],
      "execution_count": null,
      "outputs": []
    },
    {
      "cell_type": "code",
      "metadata": {
        "colab": {
          "base_uri": "https://localhost:8080/"
        },
        "id": "M-3PFcCVBIJS",
        "outputId": "386d800c-236a-4235-e137-986747a54e22"
      },
      "source": [
        "hist = model.fit(train_temp,train_label, epochs=40)"
      ],
      "execution_count": null,
      "outputs": [
        {
          "output_type": "stream",
          "text": [
            "Epoch 1/40\n",
            "2173/2173 [==============================] - 3s 1ms/step - loss: 120.9441 - accuracy: 0.2439 - mse: 120.9441\n",
            "Epoch 2/40\n",
            "2173/2173 [==============================] - 2s 1ms/step - loss: 4.3922 - accuracy: 0.2456 - mse: 4.3922\n",
            "Epoch 3/40\n",
            "2173/2173 [==============================] - 2s 1ms/step - loss: 3.6489 - accuracy: 0.2484 - mse: 3.6489\n",
            "Epoch 4/40\n",
            "2173/2173 [==============================] - 2s 1ms/step - loss: 3.1914 - accuracy: 0.2426 - mse: 3.1914\n",
            "Epoch 5/40\n",
            "2173/2173 [==============================] - 2s 1ms/step - loss: 2.9915 - accuracy: 0.2535 - mse: 2.9915\n",
            "Epoch 6/40\n",
            "2173/2173 [==============================] - 2s 1ms/step - loss: 2.8973 - accuracy: 0.2784 - mse: 2.8973\n",
            "Epoch 7/40\n",
            "2173/2173 [==============================] - 2s 1ms/step - loss: 2.8300 - accuracy: 0.2857 - mse: 2.8300\n",
            "Epoch 8/40\n",
            "2173/2173 [==============================] - 2s 1ms/step - loss: 2.7624 - accuracy: 0.3083 - mse: 2.7624\n",
            "Epoch 9/40\n",
            "2173/2173 [==============================] - 2s 1ms/step - loss: 2.6839 - accuracy: 0.3196 - mse: 2.6839\n",
            "Epoch 10/40\n",
            "2173/2173 [==============================] - 2s 1ms/step - loss: 2.7421 - accuracy: 0.3234 - mse: 2.7421\n",
            "Epoch 11/40\n",
            "2173/2173 [==============================] - 2s 1ms/step - loss: 2.6800 - accuracy: 0.3278 - mse: 2.6800\n",
            "Epoch 12/40\n",
            "2173/2173 [==============================] - 2s 1ms/step - loss: 2.6625 - accuracy: 0.3324 - mse: 2.6625\n",
            "Epoch 13/40\n",
            "2173/2173 [==============================] - 2s 1ms/step - loss: 2.6521 - accuracy: 0.3403 - mse: 2.6521\n",
            "Epoch 14/40\n",
            "2173/2173 [==============================] - 2s 1ms/step - loss: 2.6406 - accuracy: 0.3451 - mse: 2.6406\n",
            "Epoch 15/40\n",
            "2173/2173 [==============================] - 2s 1ms/step - loss: 2.6132 - accuracy: 0.3421 - mse: 2.6132\n",
            "Epoch 16/40\n",
            "2173/2173 [==============================] - 2s 1ms/step - loss: 2.6060 - accuracy: 0.3496 - mse: 2.6060\n",
            "Epoch 17/40\n",
            "2173/2173 [==============================] - 2s 1ms/step - loss: 2.6178 - accuracy: 0.3514 - mse: 2.6178\n",
            "Epoch 18/40\n",
            "2173/2173 [==============================] - 2s 1ms/step - loss: 2.6524 - accuracy: 0.3544 - mse: 2.6524\n",
            "Epoch 19/40\n",
            "2173/2173 [==============================] - 2s 1ms/step - loss: 2.6286 - accuracy: 0.3537 - mse: 2.6286\n",
            "Epoch 20/40\n",
            "2173/2173 [==============================] - 2s 1ms/step - loss: 2.6259 - accuracy: 0.3547 - mse: 2.6259\n",
            "Epoch 21/40\n",
            "2173/2173 [==============================] - 2s 1ms/step - loss: 2.6016 - accuracy: 0.3564 - mse: 2.6016\n",
            "Epoch 22/40\n",
            "2173/2173 [==============================] - 2s 1ms/step - loss: 2.5947 - accuracy: 0.3591 - mse: 2.5947\n",
            "Epoch 23/40\n",
            "2173/2173 [==============================] - 2s 1ms/step - loss: 2.6316 - accuracy: 0.3613 - mse: 2.6316\n",
            "Epoch 24/40\n",
            "2173/2173 [==============================] - 2s 1ms/step - loss: 2.6276 - accuracy: 0.3650 - mse: 2.6276\n",
            "Epoch 25/40\n",
            "2173/2173 [==============================] - 2s 1ms/step - loss: 2.5872 - accuracy: 0.3653 - mse: 2.5872\n",
            "Epoch 26/40\n",
            "2173/2173 [==============================] - 2s 1ms/step - loss: 2.6186 - accuracy: 0.3630 - mse: 2.6186\n",
            "Epoch 27/40\n",
            "2173/2173 [==============================] - 2s 1ms/step - loss: 2.6261 - accuracy: 0.3678 - mse: 2.6261\n",
            "Epoch 28/40\n",
            "2173/2173 [==============================] - 2s 1ms/step - loss: 2.6217 - accuracy: 0.3644 - mse: 2.6217\n",
            "Epoch 29/40\n",
            "2173/2173 [==============================] - 2s 1ms/step - loss: 2.6390 - accuracy: 0.3738 - mse: 2.6390\n",
            "Epoch 30/40\n",
            "2173/2173 [==============================] - 2s 1ms/step - loss: 2.5848 - accuracy: 0.3681 - mse: 2.5848\n",
            "Epoch 31/40\n",
            "2173/2173 [==============================] - 2s 1ms/step - loss: 2.6009 - accuracy: 0.3689 - mse: 2.6009\n",
            "Epoch 32/40\n",
            "2173/2173 [==============================] - 2s 1ms/step - loss: 2.6047 - accuracy: 0.3729 - mse: 2.6047\n",
            "Epoch 33/40\n",
            "2173/2173 [==============================] - 2s 1ms/step - loss: 2.6020 - accuracy: 0.3719 - mse: 2.6020\n",
            "Epoch 34/40\n",
            "2173/2173 [==============================] - 2s 1ms/step - loss: 2.6092 - accuracy: 0.3742 - mse: 2.6092\n",
            "Epoch 35/40\n",
            "2173/2173 [==============================] - 2s 1ms/step - loss: 2.6205 - accuracy: 0.3740 - mse: 2.6205\n",
            "Epoch 36/40\n",
            "2173/2173 [==============================] - 2s 1ms/step - loss: 2.6065 - accuracy: 0.3733 - mse: 2.6065\n",
            "Epoch 37/40\n",
            "2173/2173 [==============================] - 2s 1ms/step - loss: 2.6131 - accuracy: 0.3719 - mse: 2.6131\n",
            "Epoch 38/40\n",
            "2173/2173 [==============================] - 2s 1ms/step - loss: 2.6352 - accuracy: 0.3718 - mse: 2.6352\n",
            "Epoch 39/40\n",
            "2173/2173 [==============================] - 2s 1ms/step - loss: 2.6033 - accuracy: 0.3748 - mse: 2.6033\n",
            "Epoch 40/40\n",
            "2173/2173 [==============================] - 2s 1ms/step - loss: 2.5929 - accuracy: 0.3743 - mse: 2.5929\n"
          ],
          "name": "stdout"
        }
      ]
    },
    {
      "cell_type": "code",
      "metadata": {
        "colab": {
          "base_uri": "https://localhost:8080/"
        },
        "id": "MEnhwoV9BIJT",
        "outputId": "d02bbfd3-6b3f-4b9c-f88f-48e0eee0ff37"
      },
      "source": [
        "model.evaluate(test_temp,  test_label, verbose=2)"
      ],
      "execution_count": null,
      "outputs": [
        {
          "output_type": "stream",
          "text": [
            "544/544 - 1s - loss: 2.2461 - accuracy: 0.4008 - mse: 2.2461\n"
          ],
          "name": "stdout"
        },
        {
          "output_type": "execute_result",
          "data": {
            "text/plain": [
              "[2.246098518371582, 0.40077081322669983, 2.246098518371582]"
            ]
          },
          "metadata": {
            "tags": []
          },
          "execution_count": 117
        }
      ]
    },
    {
      "cell_type": "code",
      "metadata": {
        "id": "AK3YFr6oDSQj"
      },
      "source": [
        "y_predict_LR = model.predict(test_temp)"
      ],
      "execution_count": 116,
      "outputs": []
    },
    {
      "cell_type": "code",
      "metadata": {
        "colab": {
          "base_uri": "https://localhost:8080/"
        },
        "id": "kz6VwOw-DuWw",
        "outputId": "4eb5bc57-1739-4c04-9708-d41fb9444bfc"
      },
      "source": [
        "y_predict_LR"
      ],
      "execution_count": null,
      "outputs": [
        {
          "output_type": "execute_result",
          "data": {
            "text/plain": [
              "array([[-1.2454104 , -1.307592  , -1.3525971 , -1.3658248 , -1.3274018 ,\n",
              "        -1.2466521 ],\n",
              "       [-1.291865  , -1.305621  , -1.3108383 , -1.2715758 , -1.1906363 ,\n",
              "        -1.0800922 ],\n",
              "       [-1.3428339 , -1.3227929 , -1.2763408 , -1.19372   , -1.0665889 ,\n",
              "        -0.95436096],\n",
              "       ...,\n",
              "       [ 3.3527043 ,  3.515858  ,  3.6841345 ,  3.8402793 ,  3.91517   ,\n",
              "         3.9064612 ],\n",
              "       [ 3.5468652 ,  3.7029226 ,  3.8450603 ,  3.9284077 ,  3.8844898 ,\n",
              "         3.8730223 ],\n",
              "       [ 4.0266366 ,  4.2277656 ,  4.317169  ,  4.3157773 ,  4.3351746 ,\n",
              "         4.268685  ]], dtype=float32)"
            ]
          },
          "metadata": {
            "tags": []
          },
          "execution_count": 119
        }
      ]
    },
    {
      "cell_type": "code",
      "metadata": {
        "colab": {
          "base_uri": "https://localhost:8080/",
          "height": 71
        },
        "id": "W10mv-_8iwRF",
        "outputId": "f4ca7e8e-0680-445c-fc7d-51a9ee8a335f"
      },
      "source": [
        "plt.plot(test_temp[0])\n",
        "plt.scatter(z,y_predict_LR[0])\n",
        "plt.scatter(z,test_label[0])"
      ],
      "execution_count": null,
      "outputs": [
        {
          "output_type": "execute_result",
          "data": {
            "text/plain": [
              "<matplotlib.collections.PathCollection at 0x7f17c04e4510>"
            ]
          },
          "metadata": {
            "tags": []
          },
          "execution_count": 120
        },
        {
          "output_type": "display_data",
          "data": {
            "image/png": "[encoded data removed]",
            "text/plain": [
              "<Figure size 432x288 with 1 Axes>"
            ]
          },
          "metadata": {
            "tags": [],
            "needs_background": "light"
          }
        }
      ]
    },
    {
      "cell_type": "code",
      "metadata": {
        "colab": {
          "base_uri": "https://localhost:8080/",
          "height": 71
        },
        "id": "rwDhb6UOi8Mu",
        "outputId": "db92f527-f365-468e-c07d-7782e8ea9aeb"
      },
      "source": [
        "plt.plot(test_temp[1])\n",
        "plt.scatter(z,y_predict_LR[1])\n",
        "plt.scatter(z,test_label[1])"
      ],
      "execution_count": null,
      "outputs": [
        {
          "output_type": "execute_result",
          "data": {
            "text/plain": [
              "<matplotlib.collections.PathCollection at 0x7f17c04e49d0>"
            ]
          },
          "metadata": {
            "tags": []
          },
          "execution_count": 121
        },
        {
          "output_type": "display_data",
          "data": {
            "image/png": "[encoded data removed]",
            "text/plain": [
              "<Figure size 432x288 with 1 Axes>"
            ]
          },
          "metadata": {
            "tags": [],
            "needs_background": "light"
          }
        }
      ]
    },
    {
      "cell_type": "code",
      "metadata": {
        "colab": {
          "base_uri": "https://localhost:8080/",
          "height": 71
        },
        "id": "fHFX5gMFjAQx",
        "outputId": "e6efa1a3-34db-49e6-8653-11a2fdc5c75c"
      },
      "source": [
        "i = 2\n",
        "plt.plot(test_temp[i])\n",
        "plt.scatter(z,y_predict_LR[i])\n",
        "plt.scatter(z,test_label[i])"
      ],
      "execution_count": null,
      "outputs": [
        {
          "output_type": "execute_result",
          "data": {
            "text/plain": [
              "<matplotlib.collections.PathCollection at 0x7f17c0589390>"
            ]
          },
          "metadata": {
            "tags": []
          },
          "execution_count": 122
        },
        {
          "output_type": "display_data",
          "data": {
            "image/png": "[encoded data removed]",
            "text/plain": [
              "<Figure size 432x288 with 1 Axes>"
            ]
          },
          "metadata": {
            "tags": [],
            "needs_background": "light"
          }
        }
      ]
    },
    {
      "cell_type": "code",
      "metadata": {
        "colab": {
          "base_uri": "https://localhost:8080/",
          "height": 71
        },
        "id": "_uJFrT00jDqz",
        "outputId": "4ced0791-8d61-4e0f-e265-1a776e898735"
      },
      "source": [
        "i = 103\n",
        "plt.plot(test_temp[i])\n",
        "plt.scatter(z,y_predict_LR[i])\n",
        "plt.scatter(z,test_label[i])"
      ],
      "execution_count": null,
      "outputs": [
        {
          "output_type": "execute_result",
          "data": {
            "text/plain": [
              "<matplotlib.collections.PathCollection at 0x7f17c05c81d0>"
            ]
          },
          "metadata": {
            "tags": []
          },
          "execution_count": 123
        },
        {
          "output_type": "display_data",
          "data": {
            "image/png": "[encoded data removed]",
            "text/plain": [
              "<Figure size 432x288 with 1 Axes>"
            ]
          },
          "metadata": {
            "tags": [],
            "needs_background": "light"
          }
        }
      ]
    },
    {
      "cell_type": "markdown",
      "metadata": {
        "id": "dwRL0SwUFp4P"
      },
      "source": [
        "# Model comparison\n"
      ]
    },
    {
      "cell_type": "code",
      "metadata": {
        "colab": {
          "base_uri": "https://localhost:8080/",
          "height": 282
        },
        "id": "2DhIsQNKYc_e",
        "outputId": "4c8bee61-ec23-4e2f-928e-1db839dd59cb"
      },
      "source": [
        "i = 2\n",
        "z = np.linspace(6, 11,6)\n",
        "plt.plot(test_temp[i])\n",
        "plt.scatter(z,y_predict[i], label = 'NN')\n",
        "plt.scatter(z,test_label[i], label = 'True temperature')\n",
        "plt.scatter(z,y_persistence[i], label= 'Persistence')\n",
        "plt.scatter(z,predict_label[i], label='Linear regression in SkL')\n",
        "#plt.scatter(z,y_predict_LR[i], label='Linear regression in Keras')\n",
        "\n",
        "plt.legend(loc='best')\n",
        "\n"
      ],
      "execution_count": 120,
      "outputs": [
        {
          "output_type": "execute_result",
          "data": {
            "text/plain": [
              "<matplotlib.legend.Legend at 0x7fb655392c10>"
            ]
          },
          "metadata": {
            "tags": []
          },
          "execution_count": 120
        },
        {
          "output_type": "display_data",
          "data": {
            "image/png": "[encoded data removed]",
            "text/plain": [
              "<Figure size 432x288 with 1 Axes>"
            ]
          },
          "metadata": {
            "tags": [],
            "needs_background": "light"
          }
        }
      ]
    },
    {
      "cell_type": "markdown",
      "metadata": {
        "id": "dW1hDa0n5dxG"
      },
      "source": [
        "## MSE"
      ]
    },
    {
      "cell_type": "markdown",
      "metadata": {
        "id": "xbpG1y1PDHUH"
      },
      "source": [
        "> We will check how MSE grows for predicted value on time axis."
      ]
    },
    {
      "cell_type": "code",
      "metadata": {
        "id": "3I_Q-h1A5xx7"
      },
      "source": [
        "def mse(predict):\n",
        "  mse = np.ones((6,))\n",
        "  for i in range(6):\n",
        "     mse[i]= np.mean((test_label[:,i]-predict[:,i])**2)\n",
        "  return mse \n",
        "   "
      ],
      "execution_count": 109,
      "outputs": []
    },
    {
      "cell_type": "code",
      "metadata": {
        "id": "LTzpHh8OjbIf"
      },
      "source": [
        ""
      ],
      "execution_count": null,
      "outputs": []
    },
    {
      "cell_type": "code",
      "metadata": {
        "colab": {
          "base_uri": "https://localhost:8080/"
        },
        "id": "01lO4DZgIA1b",
        "outputId": "114403da-174d-4438-abfb-e98a4c091f16"
      },
      "source": [
        "mse(y_persistence)"
      ],
      "execution_count": 110,
      "outputs": [
        {
          "output_type": "execute_result",
          "data": {
            "text/plain": [
              "array([0.35972371, 1.07371118, 2.07985822, 3.28047643, 4.64512448,\n",
              "       6.02902107])"
            ]
          },
          "metadata": {
            "tags": []
          },
          "execution_count": 110
        }
      ]
    },
    {
      "cell_type": "code",
      "metadata": {
        "colab": {
          "base_uri": "https://localhost:8080/"
        },
        "id": "Uo1_DpzSjeZ-",
        "outputId": "a28d8509-f352-40c9-d783-725bce92a8cf"
      },
      "source": [
        "mse(predict_label)"
      ],
      "execution_count": 111,
      "outputs": [
        {
          "output_type": "execute_result",
          "data": {
            "text/plain": [
              "array([0.26058447, 0.74443819, 1.48635777, 2.39683583, 3.60120436,\n",
              "       4.87836731])"
            ]
          },
          "metadata": {
            "tags": []
          },
          "execution_count": 111
        }
      ]
    },
    {
      "cell_type": "code",
      "metadata": {
        "colab": {
          "base_uri": "https://localhost:8080/"
        },
        "id": "qc0J3Qapjh8l",
        "outputId": "2a8d09d6-f807-441f-baab-f2b0f817aea8"
      },
      "source": [
        "mse(test_label) #test"
      ],
      "execution_count": 112,
      "outputs": [
        {
          "output_type": "execute_result",
          "data": {
            "text/plain": [
              "array([0., 0., 0., 0., 0., 0.])"
            ]
          },
          "metadata": {
            "tags": []
          },
          "execution_count": 112
        }
      ]
    },
    {
      "cell_type": "code",
      "metadata": {
        "colab": {
          "base_uri": "https://localhost:8080/"
        },
        "id": "6rCgzcjCjlJl",
        "outputId": "e2ca2497-ce27-418a-eed6-28ffd9edf7c6"
      },
      "source": [
        "mse(y_predict) #NN"
      ],
      "execution_count": 113,
      "outputs": [
        {
          "output_type": "execute_result",
          "data": {
            "text/plain": [
              "array([0.32178567, 0.7836183 , 1.44694326, 2.22438326, 3.27533512,\n",
              "       4.38630089])"
            ]
          },
          "metadata": {
            "tags": []
          },
          "execution_count": 113
        }
      ]
    },
    {
      "cell_type": "code",
      "metadata": {
        "colab": {
          "base_uri": "https://localhost:8080/",
          "height": 282
        },
        "id": "c-NoxWc4j8Ug",
        "outputId": "84555df3-7792-4275-be65-323667e16f1e"
      },
      "source": [
        "plt.plot(mse(y_predict), label = 'NN')\n",
        "plt.plot(mse(predict_label), label = 'Linear Regression')\n",
        "plt.plot(mse(y_persistence), label = 'Persistence')\n",
        "plt.legend(loc='best')"
      ],
      "execution_count": 123,
      "outputs": [
        {
          "output_type": "execute_result",
          "data": {
            "text/plain": [
              "<matplotlib.legend.Legend at 0x7fb650f94490>"
            ]
          },
          "metadata": {
            "tags": []
          },
          "execution_count": 123
        },
        {
          "output_type": "display_data",
          "data": {
            "image/png": "[encoded data removed]",
            "text/plain": [
              "<Figure size 432x288 with 1 Axes>"
            ]
          },
          "metadata": {
            "tags": [],
            "needs_background": "light"
          }
        }
      ]
    },
    {
      "cell_type": "markdown",
      "metadata": {
        "id": "4kpMm_0whGy5"
      },
      "source": [
        "# 12hrs data"
      ]
    },
    {
      "cell_type": "markdown",
      "metadata": {
        "id": "x8N1-TzmhJ15"
      },
      "source": [
        "## Generate samples primitively "
      ]
    },
    {
      "cell_type": "code",
      "metadata": {
        "id": "g7G2Sh2khlam"
      },
      "source": [
        "data = []\n",
        "\n",
        "for i in range(len(temp)-18+1):\n",
        "  data.append(temp[i:i+12].data)"
      ],
      "execution_count": null,
      "outputs": []
    },
    {
      "cell_type": "code",
      "metadata": {
        "id": "JeEKKZZ7bC8a"
      },
      "source": [
        "data_array = np.array(data) #turn into np array"
      ],
      "execution_count": null,
      "outputs": []
    },
    {
      "cell_type": "code",
      "metadata": {
        "colab": {
          "base_uri": "https://localhost:8080/"
        },
        "id": "DMT86ZAQbLw-",
        "outputId": "43c1c598-77ef-49d2-9662-49a2ed38d249"
      },
      "source": [
        "data_array.shape"
      ],
      "execution_count": null,
      "outputs": [
        {
          "output_type": "execute_result",
          "data": {
            "text/plain": [
              "(86911, 12)"
            ]
          },
          "metadata": {
            "tags": []
          },
          "execution_count": 137
        }
      ]
    },
    {
      "cell_type": "code",
      "metadata": {
        "colab": {
          "base_uri": "https://localhost:8080/"
        },
        "id": "tmXtzRrubWwA",
        "outputId": "36f57d94-367d-49b1-dca9-046f20431276"
      },
      "source": [
        "data_array[-1]"
      ],
      "execution_count": null,
      "outputs": [
        {
          "output_type": "execute_result",
          "data": {
            "text/plain": [
              "array([2.12567524, 2.0921484 , 2.09021416, 2.07087175, 2.02251574,\n",
              "       1.99027839, 2.06893751, 2.18370246, 2.84908124, 3.12825664,\n",
              "       3.38099741, 3.79363542])"
            ]
          },
          "metadata": {
            "tags": []
          },
          "execution_count": 138
        }
      ]
    },
    {
      "cell_type": "code",
      "metadata": {
        "colab": {
          "base_uri": "https://localhost:8080/"
        },
        "id": "5-KwO5GAbgMY",
        "outputId": "db9703af-ffe8-4b4c-a12d-d34171f7949e"
      },
      "source": [
        "temp[-6:]"
      ],
      "execution_count": null,
      "outputs": [
        {
          "output_type": "execute_result",
          "data": {
            "text/plain": [
              "masked_array(data=[3.8716497891866197, 3.79943813866322,\n",
              "                   1.6556547637497943, 1.53508709725088,\n",
              "                   0.5408874087947879, 0.7826674886722458],\n",
              "             mask=[False, False, False, False, False, False],\n",
              "       fill_value=-32767)"
            ]
          },
          "metadata": {
            "tags": []
          },
          "execution_count": 139
        }
      ]
    },
    {
      "cell_type": "code",
      "metadata": {
        "colab": {
          "base_uri": "https://localhost:8080/"
        },
        "id": "yxQC85ZNb5pl",
        "outputId": "eda3b7f1-a2ca-44ae-ace9-07db06f85b39"
      },
      "source": [
        "temp[-18:]"
      ],
      "execution_count": null,
      "outputs": [
        {
          "output_type": "execute_result",
          "data": {
            "text/plain": [
              "masked_array(data=[2.1256752390315796, 2.0921484012885685,\n",
              "                   2.090214160649566, 2.0708717542593718,\n",
              "                   2.0225157382838574, 1.9902783943002191,\n",
              "                   2.0689375136203125, 2.1837024582021627,\n",
              "                   2.849081238024951, 3.1282566369234246,\n",
              "                   3.380997413755324, 3.7936354167462127,\n",
              "                   3.8716497891866197, 3.79943813866322,\n",
              "                   1.6556547637497943, 1.53508709725088,\n",
              "                   0.5408874087947879, 0.7826674886722458],\n",
              "             mask=[False, False, False, False, False, False, False, False,\n",
              "                   False, False, False, False, False, False, False, False,\n",
              "                   False, False],\n",
              "       fill_value=-32767)"
            ]
          },
          "metadata": {
            "tags": []
          },
          "execution_count": 140
        }
      ]
    },
    {
      "cell_type": "code",
      "metadata": {
        "colab": {
          "base_uri": "https://localhost:8080/"
        },
        "id": "W20C87DNcU-Z",
        "outputId": "c3805f01-b25a-4507-a0d0-d8f733add03b"
      },
      "source": [
        "temp[-1]"
      ],
      "execution_count": null,
      "outputs": [
        {
          "output_type": "execute_result",
          "data": {
            "text/plain": [
              "0.7826674886722458"
            ]
          },
          "metadata": {
            "tags": []
          },
          "execution_count": 141
        }
      ]
    },
    {
      "cell_type": "code",
      "metadata": {
        "id": "iW7LKbUB09Cr"
      },
      "source": [
        "label = []\n",
        "for i in range(len(temp)-18+1):\n",
        "  label.append(temp[i+12:i+18].data)\n"
      ],
      "execution_count": null,
      "outputs": []
    },
    {
      "cell_type": "code",
      "metadata": {
        "id": "oQrlkB0-2P5P"
      },
      "source": [
        "label_array = np.array(label)"
      ],
      "execution_count": null,
      "outputs": []
    },
    {
      "cell_type": "code",
      "metadata": {
        "colab": {
          "base_uri": "https://localhost:8080/"
        },
        "id": "eSVGL0Hu2bYX",
        "outputId": "e0795520-6f00-45ff-a8c2-174763c9caca"
      },
      "source": [
        "label_array.shape"
      ],
      "execution_count": null,
      "outputs": [
        {
          "output_type": "execute_result",
          "data": {
            "text/plain": [
              "(86911, 6)"
            ]
          },
          "metadata": {
            "tags": []
          },
          "execution_count": 150
        }
      ]
    },
    {
      "cell_type": "code",
      "metadata": {
        "colab": {
          "base_uri": "https://localhost:8080/"
        },
        "id": "ic1PwXTx2zYW",
        "outputId": "ca4993db-4090-4b41-d7ab-e5367891ff91"
      },
      "source": [
        "label_array[-1]"
      ],
      "execution_count": null,
      "outputs": [
        {
          "output_type": "execute_result",
          "data": {
            "text/plain": [
              "array([3.87164979, 3.79943814, 1.65565476, 1.5350871 , 0.54088741,\n",
              "       0.78266749])"
            ]
          },
          "metadata": {
            "tags": []
          },
          "execution_count": 151
        }
      ]
    },
    {
      "cell_type": "markdown",
      "metadata": {
        "id": "QALvOFb-5YmN"
      },
      "source": [
        "# Formalise the data generation"
      ]
    },
    {
      "cell_type": "code",
      "metadata": {
        "id": "VdA5fL0F_j6X"
      },
      "source": [
        "future = 6\n",
        "past = 12"
      ],
      "execution_count": 124,
      "outputs": []
    },
    {
      "cell_type": "code",
      "metadata": {
        "id": "uvfA2CUM5guW"
      },
      "source": [
        "data = []\n",
        "\n",
        "for i in range(len(temp)- (future + past)  +1):\n",
        "  data.append(temp[i:i+past].data)\n",
        "data  = np.array(data) "
      ],
      "execution_count": 125,
      "outputs": []
    },
    {
      "cell_type": "code",
      "metadata": {
        "id": "jKjk4EvJ5tnq"
      },
      "source": [
        "label = []\n",
        "for i in range(len(temp)- (future + past)  +1):\n",
        "  label.append(temp[i+ past:i+past + future].data)\n",
        "\n",
        "label = np.array(label)\n"
      ],
      "execution_count": 126,
      "outputs": []
    },
    {
      "cell_type": "code",
      "metadata": {
        "colab": {
          "base_uri": "https://localhost:8080/"
        },
        "id": "sLkjccxNBbF6",
        "outputId": "ed7be92c-3664-481d-f21e-ad4a0c9ef8bd"
      },
      "source": [
        "label.shape"
      ],
      "execution_count": 133,
      "outputs": [
        {
          "output_type": "execute_result",
          "data": {
            "text/plain": [
              "(86911, 6)"
            ]
          },
          "metadata": {
            "tags": []
          },
          "execution_count": 133
        }
      ]
    },
    {
      "cell_type": "markdown",
      "metadata": {
        "id": "HxzGb6_1vUED"
      },
      "source": [
        "# Different past and future data"
      ]
    },
    {
      "cell_type": "markdown",
      "metadata": {
        "id": "a6Iz8dm6vgvW"
      },
      "source": [
        "> In next notebiik, we change all code to generalised version with any past and future data. We will run for 12hrs and 24 hrs past data. "
      ]
    }
  ]
}