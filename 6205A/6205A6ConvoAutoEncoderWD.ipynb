{
  "nbformat": 4,
  "nbformat_minor": 0,
  "metadata": {
    "colab": {
      "name": "6205A6ConvoAutoEncoderWD.ipynb",
      "provenance": [],
      "collapsed_sections": [],
      "toc_visible": true,
      "authorship_tag": "ABX9TyNlLHzLZsHjErQTjnLG9+Lg",
      "include_colab_link": true
    },
    "kernelspec": {
      "name": "python3",
      "display_name": "Python 3"
    },
    "language_info": {
      "name": "python"
    },
    "widgets": {
      "application/vnd.jupyter.widget-state+json": {
        "20d196f91a9645ba92745fbe21ebf1ab": {
          "model_module": "@jupyter-widgets/controls",
          "model_name": "HBoxModel",
          "state": {
            "_view_name": "HBoxView",
            "_dom_classes": [],
            "_model_name": "HBoxModel",
            "_view_module": "@jupyter-widgets/controls",
            "_model_module_version": "1.5.0",
            "_view_count": null,
            "_view_module_version": "1.5.0",
            "box_style": "",
            "layout": "IPY_MODEL_918435a74e174d6d9f75e4776ff9b417",
            "_model_module": "@jupyter-widgets/controls",
            "children": [
              "IPY_MODEL_be69b60798bd424c95c2889dd605dcae",
              "IPY_MODEL_c9d3089cf3a24bd490a1c96b126c7ed4"
            ]
          }
        },
        "918435a74e174d6d9f75e4776ff9b417": {
          "model_module": "@jupyter-widgets/base",
          "model_name": "LayoutModel",
          "state": {
            "_view_name": "LayoutView",
            "grid_template_rows": null,
            "right": null,
            "justify_content": null,
            "_view_module": "@jupyter-widgets/base",
            "overflow": null,
            "_model_module_version": "1.2.0",
            "_view_count": null,
            "flex_flow": null,
            "width": null,
            "min_width": null,
            "border": null,
            "align_items": null,
            "bottom": null,
            "_model_module": "@jupyter-widgets/base",
            "top": null,
            "grid_column": null,
            "overflow_y": null,
            "overflow_x": null,
            "grid_auto_flow": null,
            "grid_area": null,
            "grid_template_columns": null,
            "flex": null,
            "_model_name": "LayoutModel",
            "justify_items": null,
            "grid_row": null,
            "max_height": null,
            "align_content": null,
            "visibility": null,
            "align_self": null,
            "height": null,
            "min_height": null,
            "padding": null,
            "grid_auto_rows": null,
            "grid_gap": null,
            "max_width": null,
            "order": null,
            "_view_module_version": "1.2.0",
            "grid_template_areas": null,
            "object_position": null,
            "object_fit": null,
            "grid_auto_columns": null,
            "margin": null,
            "display": null,
            "left": null
          }
        },
        "be69b60798bd424c95c2889dd605dcae": {
          "model_module": "@jupyter-widgets/controls",
          "model_name": "FloatProgressModel",
          "state": {
            "_view_name": "ProgressView",
            "style": "IPY_MODEL_a6de9fcff24a4ae68424ed406725493b",
            "_dom_classes": [],
            "description": "Dl Completed...: 100%",
            "_model_name": "FloatProgressModel",
            "bar_style": "success",
            "max": 4,
            "_view_module": "@jupyter-widgets/controls",
            "_model_module_version": "1.5.0",
            "value": 4,
            "_view_count": null,
            "_view_module_version": "1.5.0",
            "orientation": "horizontal",
            "min": 0,
            "description_tooltip": null,
            "_model_module": "@jupyter-widgets/controls",
            "layout": "IPY_MODEL_9c84505d91f54493a52ed936e62d3465"
          }
        },
        "c9d3089cf3a24bd490a1c96b126c7ed4": {
          "model_module": "@jupyter-widgets/controls",
          "model_name": "HTMLModel",
          "state": {
            "_view_name": "HTMLView",
            "style": "IPY_MODEL_70f7ed21a6654d0e8ccbe3e0b0112b25",
            "_dom_classes": [],
            "description": "",
            "_model_name": "HTMLModel",
            "placeholder": "​",
            "_view_module": "@jupyter-widgets/controls",
            "_model_module_version": "1.5.0",
            "value": " 4/4 [00:00&lt;00:00,  6.30 file/s]",
            "_view_count": null,
            "_view_module_version": "1.5.0",
            "description_tooltip": null,
            "_model_module": "@jupyter-widgets/controls",
            "layout": "IPY_MODEL_e4b369f6194b426b830c1fb137f2fc9f"
          }
        },
        "a6de9fcff24a4ae68424ed406725493b": {
          "model_module": "@jupyter-widgets/controls",
          "model_name": "ProgressStyleModel",
          "state": {
            "_view_name": "StyleView",
            "_model_name": "ProgressStyleModel",
            "description_width": "initial",
            "_view_module": "@jupyter-widgets/base",
            "_model_module_version": "1.5.0",
            "_view_count": null,
            "_view_module_version": "1.2.0",
            "bar_color": null,
            "_model_module": "@jupyter-widgets/controls"
          }
        },
        "9c84505d91f54493a52ed936e62d3465": {
          "model_module": "@jupyter-widgets/base",
          "model_name": "LayoutModel",
          "state": {
            "_view_name": "LayoutView",
            "grid_template_rows": null,
            "right": null,
            "justify_content": null,
            "_view_module": "@jupyter-widgets/base",
            "overflow": null,
            "_model_module_version": "1.2.0",
            "_view_count": null,
            "flex_flow": null,
            "width": null,
            "min_width": null,
            "border": null,
            "align_items": null,
            "bottom": null,
            "_model_module": "@jupyter-widgets/base",
            "top": null,
            "grid_column": null,
            "overflow_y": null,
            "overflow_x": null,
            "grid_auto_flow": null,
            "grid_area": null,
            "grid_template_columns": null,
            "flex": null,
            "_model_name": "LayoutModel",
            "justify_items": null,
            "grid_row": null,
            "max_height": null,
            "align_content": null,
            "visibility": null,
            "align_self": null,
            "height": null,
            "min_height": null,
            "padding": null,
            "grid_auto_rows": null,
            "grid_gap": null,
            "max_width": null,
            "order": null,
            "_view_module_version": "1.2.0",
            "grid_template_areas": null,
            "object_position": null,
            "object_fit": null,
            "grid_auto_columns": null,
            "margin": null,
            "display": null,
            "left": null
          }
        },
        "70f7ed21a6654d0e8ccbe3e0b0112b25": {
          "model_module": "@jupyter-widgets/controls",
          "model_name": "DescriptionStyleModel",
          "state": {
            "_view_name": "StyleView",
            "_model_name": "DescriptionStyleModel",
            "description_width": "",
            "_view_module": "@jupyter-widgets/base",
            "_model_module_version": "1.5.0",
            "_view_count": null,
            "_view_module_version": "1.2.0",
            "_model_module": "@jupyter-widgets/controls"
          }
        },
        "e4b369f6194b426b830c1fb137f2fc9f": {
          "model_module": "@jupyter-widgets/base",
          "model_name": "LayoutModel",
          "state": {
            "_view_name": "LayoutView",
            "grid_template_rows": null,
            "right": null,
            "justify_content": null,
            "_view_module": "@jupyter-widgets/base",
            "overflow": null,
            "_model_module_version": "1.2.0",
            "_view_count": null,
            "flex_flow": null,
            "width": null,
            "min_width": null,
            "border": null,
            "align_items": null,
            "bottom": null,
            "_model_module": "@jupyter-widgets/base",
            "top": null,
            "grid_column": null,
            "overflow_y": null,
            "overflow_x": null,
            "grid_auto_flow": null,
            "grid_area": null,
            "grid_template_columns": null,
            "flex": null,
            "_model_name": "LayoutModel",
            "justify_items": null,
            "grid_row": null,
            "max_height": null,
            "align_content": null,
            "visibility": null,
            "align_self": null,
            "height": null,
            "min_height": null,
            "padding": null,
            "grid_auto_rows": null,
            "grid_gap": null,
            "max_width": null,
            "order": null,
            "_view_module_version": "1.2.0",
            "grid_template_areas": null,
            "object_position": null,
            "object_fit": null,
            "grid_auto_columns": null,
            "margin": null,
            "display": null,
            "left": null
          }
        }
      }
    }
  },
  "cells": [
    {
      "cell_type": "markdown",
      "metadata": {
        "id": "view-in-github",
        "colab_type": "text"
      },
      "source": [
        "<a href=\"https://colab.research.google.com/github/Saroramath/MachineLearning/blob/main/6205A/6205A6ConvoAutoEncoderWD.ipynb\" target=\"_parent\"><img src=\"https://colab.research.google.com/assets/colab-badge.svg\" alt=\"Open In Colab\"/></a>"
      ]
    },
    {
      "cell_type": "code",
      "metadata": {
        "id": "hu4Y1iVyrOAB"
      },
      "source": [
        "import tensorflow as tf\n",
        "import tensorflow_datasets as tfds\n",
        "import numpy as np\n",
        "import pandas as pd\n",
        "import matplotlib.pyplot as plt\n",
        "from tensorflow.keras.datasets import mnist\n",
        "import math\n"
      ],
      "execution_count": 3,
      "outputs": []
    },
    {
      "cell_type": "markdown",
      "metadata": {
        "id": "ZxCoNIA2D4Qf"
      },
      "source": [
        "# Prepare the dataset"
      ]
    },
    {
      "cell_type": "markdown",
      "metadata": {
        "id": "koRBu2jZEatH"
      },
      "source": [
        "> Step 1: Load the data"
      ]
    },
    {
      "cell_type": "code",
      "metadata": {
        "colab": {
          "base_uri": "https://localhost:8080/",
          "height": 222,
          "referenced_widgets": [
            "20d196f91a9645ba92745fbe21ebf1ab",
            "918435a74e174d6d9f75e4776ff9b417",
            "be69b60798bd424c95c2889dd605dcae",
            "c9d3089cf3a24bd490a1c96b126c7ed4",
            "a6de9fcff24a4ae68424ed406725493b",
            "9c84505d91f54493a52ed936e62d3465",
            "70f7ed21a6654d0e8ccbe3e0b0112b25",
            "e4b369f6194b426b830c1fb137f2fc9f"
          ]
        },
        "id": "osvFwl3luW3J",
        "outputId": "84c7e0d7-665e-4b53-c65f-b0c402f292fc"
      },
      "source": [
        "(ds_train, ds_test), ds_info = tfds.load(\n",
        "    'mnist',\n",
        "    split=['train', 'test'],\n",
        "    shuffle_files=True,\n",
        "    as_supervised=True,\n",
        "    with_info=True,\n",
        ")"
      ],
      "execution_count": 4,
      "outputs": [
        {
          "output_type": "stream",
          "text": [
            "\u001b[1mDownloading and preparing dataset mnist/3.0.1 (download: 11.06 MiB, generated: 21.00 MiB, total: 32.06 MiB) to /root/tensorflow_datasets/mnist/3.0.1...\u001b[0m\n"
          ],
          "name": "stdout"
        },
        {
          "output_type": "stream",
          "text": [
            "WARNING:absl:Dataset mnist is hosted on GCS. It will automatically be downloaded to your\n",
            "local data directory. If you'd instead prefer to read directly from our public\n",
            "GCS bucket (recommended if you're running on GCP), you can instead pass\n",
            "`try_gcs=True` to `tfds.load` or set `data_dir=gs://tfds-data/datasets`.\n",
            "\n"
          ],
          "name": "stderr"
        },
        {
          "output_type": "display_data",
          "data": {
            "application/vnd.jupyter.widget-view+json": {
              "model_id": "20d196f91a9645ba92745fbe21ebf1ab",
              "version_minor": 0,
              "version_major": 2
            },
            "text/plain": [
              "HBox(children=(FloatProgress(value=0.0, description='Dl Completed...', max=4.0, style=ProgressStyle(descriptio…"
            ]
          },
          "metadata": {
            "tags": []
          }
        },
        {
          "output_type": "stream",
          "text": [
            "\n",
            "\n",
            "\u001b[1mDataset mnist downloaded and prepared to /root/tensorflow_datasets/mnist/3.0.1. Subsequent calls will reuse this data.\u001b[0m\n"
          ],
          "name": "stdout"
        }
      ]
    },
    {
      "cell_type": "markdown",
      "metadata": {
        "id": "-HFgh3g1EduB"
      },
      "source": [
        "> Step 2: Normalize the images"
      ]
    },
    {
      "cell_type": "code",
      "metadata": {
        "id": "_YQ5DNyPByG8"
      },
      "source": [
        "def normalize_img(image, label):\n",
        "  return tf.cast(image, tf.float32) / 255., label"
      ],
      "execution_count": 5,
      "outputs": []
    },
    {
      "cell_type": "code",
      "metadata": {
        "id": "MzN5UL-KCyvG"
      },
      "source": [
        "ds_train = ds_train.map(normalize_img)\n",
        "ds_test = ds_test.map(normalize_img)"
      ],
      "execution_count": 6,
      "outputs": []
    },
    {
      "cell_type": "markdown",
      "metadata": {
        "id": "lIxqCo5VEpr5"
      },
      "source": [
        "> Step 3: Convert to dataframes"
      ]
    },
    {
      "cell_type": "code",
      "metadata": {
        "id": "lCcy3vbG4i2T"
      },
      "source": [
        "df_train = tfds.as_dataframe(ds_train, ds_info)\n",
        "df_test = tfds.as_dataframe(ds_test,ds_info)"
      ],
      "execution_count": 7,
      "outputs": []
    },
    {
      "cell_type": "code",
      "metadata": {
        "colab": {
          "base_uri": "https://localhost:8080/"
        },
        "id": "U3nZ6UaiIHKj",
        "outputId": "6de5cbf6-e175-4d8e-bfcf-4d77eb86919f"
      },
      "source": [
        "df_train.info()"
      ],
      "execution_count": 8,
      "outputs": [
        {
          "output_type": "stream",
          "text": [
            "<class 'tensorflow_datasets.core.as_dataframe.StyledDataFrame'>\n",
            "RangeIndex: 60000 entries, 0 to 59999\n",
            "Data columns (total 2 columns):\n",
            " #   Column  Non-Null Count  Dtype \n",
            "---  ------  --------------  ----- \n",
            " 0   image   60000 non-null  object\n",
            " 1   label   60000 non-null  int64 \n",
            "dtypes: int64(1), object(1)\n",
            "memory usage: 937.6+ KB\n"
          ],
          "name": "stdout"
        }
      ]
    },
    {
      "cell_type": "code",
      "metadata": {
        "colab": {
          "base_uri": "https://localhost:8080/"
        },
        "id": "OeWqpxTxEv4x",
        "outputId": "21afa536-5bed-4979-8089-af0415447560"
      },
      "source": [
        "df_test.info()"
      ],
      "execution_count": 9,
      "outputs": [
        {
          "output_type": "stream",
          "text": [
            "<class 'tensorflow_datasets.core.as_dataframe.StyledDataFrame'>\n",
            "RangeIndex: 10000 entries, 0 to 9999\n",
            "Data columns (total 2 columns):\n",
            " #   Column  Non-Null Count  Dtype \n",
            "---  ------  --------------  ----- \n",
            " 0   image   10000 non-null  object\n",
            " 1   label   10000 non-null  int64 \n",
            "dtypes: int64(1), object(1)\n",
            "memory usage: 156.4+ KB\n"
          ],
          "name": "stdout"
        }
      ]
    },
    {
      "cell_type": "markdown",
      "metadata": {
        "id": "VHAzIIGeE_f4"
      },
      "source": [
        "> Step 4: Combine train and test dataframes to increase the dataset"
      ]
    },
    {
      "cell_type": "markdown",
      "metadata": {
        "id": "fY5owB87E0Qg"
      },
      "source": [
        "> Step 5: Create the synthetic data"
      ]
    },
    {
      "cell_type": "code",
      "metadata": {
        "id": "TRy7yRYJIn00"
      },
      "source": [
        "df0=df_train.loc[lambda df_train: df_train['label'] == 0, :]"
      ],
      "execution_count": 16,
      "outputs": []
    },
    {
      "cell_type": "code",
      "metadata": {
        "colab": {
          "base_uri": "https://localhost:8080/"
        },
        "id": "_DqycJDXJY-w",
        "outputId": "c7639509-eab9-4585-a04e-8eeb8b66807c"
      },
      "source": [
        "df0.info()"
      ],
      "execution_count": 17,
      "outputs": [
        {
          "output_type": "stream",
          "text": [
            "<class 'pandas.core.frame.DataFrame'>\n",
            "Int64Index: 5923 entries, 2 to 59979\n",
            "Data columns (total 2 columns):\n",
            " #   Column  Non-Null Count  Dtype \n",
            "---  ------  --------------  ----- \n",
            " 0   image   5923 non-null   object\n",
            " 1   label   5923 non-null   int64 \n",
            "dtypes: int64(1), object(1)\n",
            "memory usage: 138.8+ KB\n"
          ],
          "name": "stdout"
        }
      ]
    },
    {
      "cell_type": "code",
      "metadata": {
        "id": "2H6r0AJOJcEA"
      },
      "source": [
        "df6 = df_train.loc[lambda df_train: df_train['label'] == 6, :]"
      ],
      "execution_count": 18,
      "outputs": []
    },
    {
      "cell_type": "code",
      "metadata": {
        "colab": {
          "base_uri": "https://localhost:8080/"
        },
        "id": "ROQHkpWGJmSM",
        "outputId": "6910e24d-50ef-44fa-eec9-ace2a2a52183"
      },
      "source": [
        "df6.info()"
      ],
      "execution_count": 19,
      "outputs": [
        {
          "output_type": "stream",
          "text": [
            "<class 'pandas.core.frame.DataFrame'>\n",
            "Int64Index: 5918 entries, 9 to 59997\n",
            "Data columns (total 2 columns):\n",
            " #   Column  Non-Null Count  Dtype \n",
            "---  ------  --------------  ----- \n",
            " 0   image   5918 non-null   object\n",
            " 1   label   5918 non-null   int64 \n",
            "dtypes: int64(1), object(1)\n",
            "memory usage: 138.7+ KB\n"
          ],
          "name": "stdout"
        }
      ]
    },
    {
      "cell_type": "code",
      "metadata": {
        "id": "9khdSWxLJq0h"
      },
      "source": [
        "df6 = df6[:500]"
      ],
      "execution_count": 20,
      "outputs": []
    },
    {
      "cell_type": "code",
      "metadata": {
        "colab": {
          "base_uri": "https://localhost:8080/"
        },
        "id": "cUEFUzBbJkh2",
        "outputId": "d0e9bad5-0360-4f1d-dda9-5e0847dad7f2"
      },
      "source": [
        "df6.image[9].shape"
      ],
      "execution_count": 21,
      "outputs": [
        {
          "output_type": "execute_result",
          "data": {
            "text/plain": [
              "(28, 28, 1)"
            ]
          },
          "metadata": {
            "tags": []
          },
          "execution_count": 21
        }
      ]
    },
    {
      "cell_type": "code",
      "metadata": {
        "colab": {
          "base_uri": "https://localhost:8080/"
        },
        "id": "2i50-ExSL11R",
        "outputId": "b925bc73-bcbe-42cd-d3de-de52e2b814ad"
      },
      "source": [
        "df6.info()"
      ],
      "execution_count": 22,
      "outputs": [
        {
          "output_type": "stream",
          "text": [
            "<class 'pandas.core.frame.DataFrame'>\n",
            "Int64Index: 500 entries, 9 to 4763\n",
            "Data columns (total 2 columns):\n",
            " #   Column  Non-Null Count  Dtype \n",
            "---  ------  --------------  ----- \n",
            " 0   image   500 non-null    object\n",
            " 1   label   500 non-null    int64 \n",
            "dtypes: int64(1), object(1)\n",
            "memory usage: 31.7+ KB\n"
          ],
          "name": "stdout"
        }
      ]
    },
    {
      "cell_type": "code",
      "metadata": {
        "id": "f3i3ZKugcGbN"
      },
      "source": [
        "df_new = df0.append(df6)"
      ],
      "execution_count": 23,
      "outputs": []
    },
    {
      "cell_type": "code",
      "metadata": {
        "colab": {
          "base_uri": "https://localhost:8080/"
        },
        "id": "BUt5sx91cvgM",
        "outputId": "a26a09e9-e26b-4c0c-f2a5-4a12209da505"
      },
      "source": [
        "df_new.info()"
      ],
      "execution_count": 24,
      "outputs": [
        {
          "output_type": "stream",
          "text": [
            "<class 'pandas.core.frame.DataFrame'>\n",
            "Int64Index: 6423 entries, 2 to 4763\n",
            "Data columns (total 2 columns):\n",
            " #   Column  Non-Null Count  Dtype \n",
            "---  ------  --------------  ----- \n",
            " 0   image   6423 non-null   object\n",
            " 1   label   6423 non-null   int64 \n",
            "dtypes: int64(1), object(1)\n",
            "memory usage: 150.5+ KB\n"
          ],
          "name": "stdout"
        }
      ]
    },
    {
      "cell_type": "markdown",
      "metadata": {
        "id": "YG1zVnOLF9Mq"
      },
      "source": [
        "## Split the data in taining and test data"
      ]
    },
    {
      "cell_type": "code",
      "metadata": {
        "id": "YmbO2FrQecuB"
      },
      "source": [
        "from sklearn.model_selection import train_test_split"
      ],
      "execution_count": 25,
      "outputs": []
    },
    {
      "cell_type": "code",
      "metadata": {
        "id": "0o1HmI4TegzW"
      },
      "source": [
        "dftrain, dftest = train_test_split(df_new, test_size=0.20, random_state=42)"
      ],
      "execution_count": 26,
      "outputs": []
    },
    {
      "cell_type": "code",
      "metadata": {
        "colab": {
          "base_uri": "https://localhost:8080/"
        },
        "id": "iTUn-LYxeu_x",
        "outputId": "e81842c6-8f15-4312-d48d-3f10eb5a7e5b"
      },
      "source": [
        "num_anomo = dftest.label[dftest.label==6].count()\n",
        "print(num_anomo)"
      ],
      "execution_count": 27,
      "outputs": [
        {
          "output_type": "stream",
          "text": [
            "107\n"
          ],
          "name": "stdout"
        }
      ]
    },
    {
      "cell_type": "markdown",
      "metadata": {
        "id": "IPugzDH44CEr"
      },
      "source": [
        "> There are 102 anomolies in the test data."
      ]
    },
    {
      "cell_type": "markdown",
      "metadata": {
        "id": "e-XQf4wOGpfX"
      },
      "source": [
        "We will only train with the 0 label so we should choose that from the new training data so we do not use anything separarted out for testing."
      ]
    },
    {
      "cell_type": "code",
      "metadata": {
        "id": "HddviD7uG26R"
      },
      "source": [
        "df_0train = dftrain.loc[lambda dftrain: dftrain['label'] == 0, :]"
      ],
      "execution_count": 28,
      "outputs": []
    },
    {
      "cell_type": "code",
      "metadata": {
        "colab": {
          "base_uri": "https://localhost:8080/"
        },
        "id": "JPhQ9mTGHFb4",
        "outputId": "99432d3a-0f23-40fb-e8ca-5c4101547128"
      },
      "source": [
        "df_0train.info()"
      ],
      "execution_count": 29,
      "outputs": [
        {
          "output_type": "stream",
          "text": [
            "<class 'pandas.core.frame.DataFrame'>\n",
            "Int64Index: 4745 entries, 23307 to 8517\n",
            "Data columns (total 2 columns):\n",
            " #   Column  Non-Null Count  Dtype \n",
            "---  ------  --------------  ----- \n",
            " 0   image   4745 non-null   object\n",
            " 1   label   4745 non-null   int64 \n",
            "dtypes: int64(1), object(1)\n",
            "memory usage: 111.2+ KB\n"
          ],
          "name": "stdout"
        }
      ]
    },
    {
      "cell_type": "code",
      "metadata": {
        "id": "Rilk-IHpd3LY"
      },
      "source": [
        "#x_train = np.array(df_0train['image'])    Not givig an array of right size \n",
        "#y_train = np.array(df_0train['label'])# all values 0"
      ],
      "execution_count": null,
      "outputs": []
    },
    {
      "cell_type": "code",
      "metadata": {
        "id": "xRXovVkTeMs0"
      },
      "source": [
        "data = []\n",
        "for x in df_0train.image:\n",
        "  data.append(x)\n",
        "x_train = np.array(data).reshape(-1,28,28)\n"
      ],
      "execution_count": 30,
      "outputs": []
    },
    {
      "cell_type": "code",
      "metadata": {
        "colab": {
          "base_uri": "https://localhost:8080/"
        },
        "id": "ua8YumjtKwT3",
        "outputId": "b4d1ed2a-c1a2-42d5-f87e-f85720f196b5"
      },
      "source": [
        "x_train.shape"
      ],
      "execution_count": 32,
      "outputs": [
        {
          "output_type": "execute_result",
          "data": {
            "text/plain": [
              "(4745, 28, 28)"
            ]
          },
          "metadata": {
            "tags": []
          },
          "execution_count": 32
        }
      ]
    },
    {
      "cell_type": "code",
      "metadata": {
        "id": "8wfV37BZLN9s"
      },
      "source": [
        "data = []\n",
        "for x in df_0train.label:\n",
        "  data.append(x)\n",
        "y_train = np.array(data) "
      ],
      "execution_count": 33,
      "outputs": []
    },
    {
      "cell_type": "code",
      "metadata": {
        "colab": {
          "base_uri": "https://localhost:8080/"
        },
        "id": "jHscfQ5ZLA26",
        "outputId": "6865cc3e-cc50-4264-ae25-154a2b06368b"
      },
      "source": [
        "y_train.shape"
      ],
      "execution_count": 34,
      "outputs": [
        {
          "output_type": "execute_result",
          "data": {
            "text/plain": [
              "(4745,)"
            ]
          },
          "metadata": {
            "tags": []
          },
          "execution_count": 34
        }
      ]
    },
    {
      "cell_type": "code",
      "metadata": {
        "id": "kXipjcxbLm2G"
      },
      "source": [
        "data = []\n",
        "for x in dftest.image:\n",
        "  data.append(x)\n",
        "x_test = np.array(data).reshape(-1,28,28)"
      ],
      "execution_count": 35,
      "outputs": []
    },
    {
      "cell_type": "code",
      "metadata": {
        "colab": {
          "base_uri": "https://localhost:8080/"
        },
        "id": "2rarkYDNfgkU",
        "outputId": "cdfc171c-2c2e-4ac3-d5ce-073ca9387bce"
      },
      "source": [
        "x_test.shape"
      ],
      "execution_count": 36,
      "outputs": [
        {
          "output_type": "execute_result",
          "data": {
            "text/plain": [
              "(1285, 28, 28)"
            ]
          },
          "metadata": {
            "tags": []
          },
          "execution_count": 36
        }
      ]
    },
    {
      "cell_type": "code",
      "metadata": {
        "id": "3Ae0uSg2LuBS"
      },
      "source": [
        "data = []\n",
        "for x in dftest.label:\n",
        "  data.append(x)\n",
        "y_test = np.array(data)  "
      ],
      "execution_count": 37,
      "outputs": []
    },
    {
      "cell_type": "code",
      "metadata": {
        "colab": {
          "base_uri": "https://localhost:8080/"
        },
        "id": "DXTUH1DPL0lH",
        "outputId": "ba3287d6-3f4b-4500-c409-57dd859238ee"
      },
      "source": [
        "y_test.shape"
      ],
      "execution_count": 38,
      "outputs": [
        {
          "output_type": "execute_result",
          "data": {
            "text/plain": [
              "(1285,)"
            ]
          },
          "metadata": {
            "tags": []
          },
          "execution_count": 38
        }
      ]
    },
    {
      "cell_type": "markdown",
      "metadata": {
        "id": "h3ukSVbPBWk2"
      },
      "source": [
        "# Model: Convolutional Autoencoder"
      ]
    },
    {
      "cell_type": "code",
      "metadata": {
        "id": "RtLXQ0w3vWMZ"
      },
      "source": [
        "encoder = tf.keras.models.Sequential([\n",
        "          tf.keras.layers.Reshape([28,28,1],input_shape=[28,28]),                          \n",
        "          tf.keras.layers.Conv2D(2,kernel_size=3,strides=2,padding='same', activation='relu'), \n",
        "          #tf.keras.layers.Conv2D(32,kernel_size=3,strides=2,padding='same', activation='relu'), \n",
        "          ])\n",
        "decoder = tf.keras.models.Sequential([\n",
        "         # tf.keras.layers.Conv2DTranspose(32,kernel_size=3,strides=2,padding='same', activation='relu'),\n",
        "          tf.keras.layers.Conv2DTranspose(2,kernel_size=3,strides=2,padding='same', activation='relu'),\n",
        "          tf.keras.layers.Conv2D(1,kernel_size=3,padding='same', activation='sigmoid'),\n",
        "          tf.keras.layers.Reshape([28,28])])\n",
        "\n",
        "autoencoder = tf.keras.models.Sequential([encoder, decoder])\n",
        "autoencoder.compile(loss = 'mse', optimizer = 'adam')\n",
        "\n",
        "\n"
      ],
      "execution_count": 132,
      "outputs": []
    },
    {
      "cell_type": "code",
      "metadata": {
        "colab": {
          "base_uri": "https://localhost:8080/"
        },
        "id": "zuMhvVPj7__d",
        "outputId": "db2c9765-9d39-4868-ec6b-1b317f9f607e"
      },
      "source": [
        "encoder.summary()"
      ],
      "execution_count": 133,
      "outputs": [
        {
          "output_type": "stream",
          "text": [
            "Model: \"sequential_9\"\n",
            "_________________________________________________________________\n",
            "Layer (type)                 Output Shape              Param #   \n",
            "=================================================================\n",
            "reshape_7 (Reshape)          (None, 28, 28, 1)         0         \n",
            "_________________________________________________________________\n",
            "conv2d_7 (Conv2D)            (None, 14, 14, 2)         20        \n",
            "=================================================================\n",
            "Total params: 20\n",
            "Trainable params: 20\n",
            "Non-trainable params: 0\n",
            "_________________________________________________________________\n"
          ],
          "name": "stdout"
        }
      ]
    },
    {
      "cell_type": "code",
      "metadata": {
        "colab": {
          "base_uri": "https://localhost:8080/"
        },
        "id": "ZjpM5B2o8F1K",
        "outputId": "9c7f7e39-9fd2-4f88-ed7d-bd2619aa04fe"
      },
      "source": [
        "decoder.summary()"
      ],
      "execution_count": 134,
      "outputs": [
        {
          "output_type": "stream",
          "text": [
            "Model: \"sequential_10\"\n",
            "_________________________________________________________________\n",
            "Layer (type)                 Output Shape              Param #   \n",
            "=================================================================\n",
            "conv2d_transpose_2 (Conv2DTr (None, 28, 28, 2)         38        \n",
            "_________________________________________________________________\n",
            "conv2d_8 (Conv2D)            (None, 28, 28, 1)         19        \n",
            "_________________________________________________________________\n",
            "reshape_8 (Reshape)          (None, 28, 28)            0         \n",
            "=================================================================\n",
            "Total params: 57\n",
            "Trainable params: 57\n",
            "Non-trainable params: 0\n",
            "_________________________________________________________________\n"
          ],
          "name": "stdout"
        }
      ]
    },
    {
      "cell_type": "code",
      "metadata": {
        "colab": {
          "base_uri": "https://localhost:8080/"
        },
        "id": "Lf1VN-i1Ht1q",
        "outputId": "e7ca54bd-ab79-4e76-ecf4-2f010007cb39"
      },
      "source": [
        "history= autoencoder.fit(x_train,x_train,epochs=20)"
      ],
      "execution_count": 135,
      "outputs": [
        {
          "output_type": "stream",
          "text": [
            "Epoch 1/20\n",
            "149/149 [==============================] - 3s 16ms/step - loss: 0.2123\n",
            "Epoch 2/20\n",
            "149/149 [==============================] - 2s 16ms/step - loss: 0.0708\n",
            "Epoch 3/20\n",
            "149/149 [==============================] - 2s 16ms/step - loss: 0.0156\n",
            "Epoch 4/20\n",
            "149/149 [==============================] - 2s 16ms/step - loss: 0.0082\n",
            "Epoch 5/20\n",
            "149/149 [==============================] - 2s 17ms/step - loss: 0.0057\n",
            "Epoch 6/20\n",
            "149/149 [==============================] - 3s 17ms/step - loss: 0.0046\n",
            "Epoch 7/20\n",
            "149/149 [==============================] - 2s 16ms/step - loss: 0.0040\n",
            "Epoch 8/20\n",
            "149/149 [==============================] - 2s 16ms/step - loss: 0.0036\n",
            "Epoch 9/20\n",
            "149/149 [==============================] - 2s 15ms/step - loss: 0.0033\n",
            "Epoch 10/20\n",
            "149/149 [==============================] - 2s 15ms/step - loss: 0.0031\n",
            "Epoch 11/20\n",
            "149/149 [==============================] - 2s 15ms/step - loss: 0.0029\n",
            "Epoch 12/20\n",
            "149/149 [==============================] - 2s 16ms/step - loss: 0.0028\n",
            "Epoch 13/20\n",
            "149/149 [==============================] - 2s 15ms/step - loss: 0.0027\n",
            "Epoch 14/20\n",
            "149/149 [==============================] - 2s 16ms/step - loss: 0.0026\n",
            "Epoch 15/20\n",
            "149/149 [==============================] - 2s 16ms/step - loss: 0.0026\n",
            "Epoch 16/20\n",
            "149/149 [==============================] - 2s 15ms/step - loss: 0.0025\n",
            "Epoch 17/20\n",
            "149/149 [==============================] - 2s 15ms/step - loss: 0.0024\n",
            "Epoch 18/20\n",
            "149/149 [==============================] - 2s 16ms/step - loss: 0.0024\n",
            "Epoch 19/20\n",
            "149/149 [==============================] - 2s 16ms/step - loss: 0.0023\n",
            "Epoch 20/20\n",
            "149/149 [==============================] - 2s 16ms/step - loss: 0.0023\n"
          ],
          "name": "stdout"
        }
      ]
    },
    {
      "cell_type": "code",
      "metadata": {
        "id": "PQJ6jTyOMUSL"
      },
      "source": [
        "decoded_imgs=autoencoder.predict(x_train)"
      ],
      "execution_count": 136,
      "outputs": []
    },
    {
      "cell_type": "markdown",
      "metadata": {
        "id": "2kA8ksS-Er-v"
      },
      "source": [
        "## Visualize the reconstruction"
      ]
    },
    {
      "cell_type": "code",
      "metadata": {
        "colab": {
          "base_uri": "https://localhost:8080/",
          "height": 238
        },
        "id": "iycYVfAvMUSP",
        "outputId": "7762cc3c-faeb-4e59-e2bc-1bf26106ee70"
      },
      "source": [
        "n = 10\n",
        "plt.figure(figsize=(20, 4))\n",
        "for i in range(n):\n",
        "  # display original\n",
        "  ax = plt.subplot(2, n, i + 1)\n",
        "  plt.imshow(x_train[i])\n",
        "  plt.title(\"original\")\n",
        "  plt.gray()\n",
        "  ax.get_xaxis().set_visible(False)\n",
        "  ax.get_yaxis().set_visible(False)\n",
        "\n",
        "  # display reconstruction\n",
        "  ax = plt.subplot(2, n, i + 1 + n)\n",
        "  plt.imshow(decoded_imgs[i])\n",
        "  plt.title(\"reconstructed\")\n",
        "  plt.gray()\n",
        "  ax.get_xaxis().set_visible(False)\n",
        "  ax.get_yaxis().set_visible(False)\n",
        "plt.show()"
      ],
      "execution_count": 137,
      "outputs": [
        {
          "output_type": "display_data",
          "data": {
            "image/png": "[encoded data removed]",
            "text/plain": [
              "<Figure size 1440x288 with 20 Axes>"
            ]
          },
          "metadata": {
            "tags": [],
            "needs_background": "light"
          }
        }
      ]
    },
    {
      "cell_type": "markdown",
      "metadata": {
        "id": "5BL5ZgKMD4UT"
      },
      "source": [
        "## Absolute error in reconstruction"
      ]
    },
    {
      "cell_type": "code",
      "metadata": {
        "id": "BQ2QEk-5sKvs"
      },
      "source": [
        "abs = np.abs(decoded_imgs - x_train)\n",
        "abs = abs.reshape(-1, 28*28)\n"
      ],
      "execution_count": 138,
      "outputs": []
    },
    {
      "cell_type": "code",
      "metadata": {
        "colab": {
          "base_uri": "https://localhost:8080/"
        },
        "id": "wh6YSV5xtPH3",
        "outputId": "a1d93cf5-171f-4812-ecae-8a46336bcfa5"
      },
      "source": [
        "abs.shape"
      ],
      "execution_count": 139,
      "outputs": [
        {
          "output_type": "execute_result",
          "data": {
            "text/plain": [
              "(4745, 784)"
            ]
          },
          "metadata": {
            "tags": []
          },
          "execution_count": 139
        }
      ]
    },
    {
      "cell_type": "code",
      "metadata": {
        "id": "gMlrrjJvsVeG"
      },
      "source": [
        "loss = np.mean(abs, axis=1)"
      ],
      "execution_count": 140,
      "outputs": []
    },
    {
      "cell_type": "code",
      "metadata": {
        "colab": {
          "base_uri": "https://localhost:8080/",
          "height": 282
        },
        "id": "l40aLrjqwV_i",
        "outputId": "4f7b8621-8631-4b9b-c4d3-5680c4361c04"
      },
      "source": [
        "plt.plot(loss)"
      ],
      "execution_count": 141,
      "outputs": [
        {
          "output_type": "execute_result",
          "data": {
            "text/plain": [
              "[<matplotlib.lines.Line2D at 0x7fc51f6891d0>]"
            ]
          },
          "metadata": {
            "tags": []
          },
          "execution_count": 141
        },
        {
          "output_type": "display_data",
          "data": {
            "image/png": "[encoded data removed]",
            "text/plain": [
              "<Figure size 432x288 with 1 Axes>"
            ]
          },
          "metadata": {
            "tags": [],
            "needs_background": "light"
          }
        }
      ]
    },
    {
      "cell_type": "markdown",
      "metadata": {
        "id": "Gq8P4ulEFzeS"
      },
      "source": [
        "> We observe that there is a lot of loss among the regular images set itself. So it will be difficult to seperate anomoloies."
      ]
    },
    {
      "cell_type": "code",
      "metadata": {
        "id": "DYx-TDOpt8gy"
      },
      "source": [
        "max_loss = loss.max()"
      ],
      "execution_count": 142,
      "outputs": []
    },
    {
      "cell_type": "code",
      "metadata": {
        "colab": {
          "base_uri": "https://localhost:8080/"
        },
        "id": "VOZ0HGl7uNZ-",
        "outputId": "aafe7ba1-ea60-42ae-91d5-729cc9d12ace"
      },
      "source": [
        "max_loss"
      ],
      "execution_count": 143,
      "outputs": [
        {
          "output_type": "execute_result",
          "data": {
            "text/plain": [
              "0.039466508"
            ]
          },
          "metadata": {
            "tags": []
          },
          "execution_count": 143
        }
      ]
    },
    {
      "cell_type": "code",
      "metadata": {
        "colab": {
          "base_uri": "https://localhost:8080/"
        },
        "id": "qW0pISa2vEMk",
        "outputId": "662670d5-4b26-4ce0-d96c-1fbb8db844f1"
      },
      "source": [
        "loss.min()"
      ],
      "execution_count": 144,
      "outputs": [
        {
          "output_type": "execute_result",
          "data": {
            "text/plain": [
              "0.01595958"
            ]
          },
          "metadata": {
            "tags": []
          },
          "execution_count": 144
        }
      ]
    },
    {
      "cell_type": "code",
      "metadata": {
        "id": "7m3af0N2us1K"
      },
      "source": [
        "max_loss_index = np.where(loss == max_loss)"
      ],
      "execution_count": 145,
      "outputs": []
    },
    {
      "cell_type": "markdown",
      "metadata": {
        "id": "5y7EK_4kEGJr"
      },
      "source": [
        "> Visulatze image with maximum error"
      ]
    },
    {
      "cell_type": "code",
      "metadata": {
        "id": "DO50kplh1f2q",
        "colab": {
          "base_uri": "https://localhost:8080/",
          "height": 268
        },
        "outputId": "a4e0fc81-37e0-4bda-de2f-6610244437f8"
      },
      "source": [
        "n = 1\n",
        "plt.figure(figsize=(20, 4))\n",
        "for i in range(n):\n",
        "  # display original\n",
        "  ax = plt.subplot(2, n, i + 1)\n",
        "  plt.imshow(x_train[max_loss_index].reshape(28,28))\n",
        "  plt.title(\"original\")\n",
        "  plt.gray()\n",
        "  ax.get_xaxis().set_visible(False)\n",
        "  ax.get_yaxis().set_visible(False)\n",
        "\n",
        "  # display reconstruction\n",
        "  ax = plt.subplot(2, n, i + 1 + n)\n",
        "  plt.imshow(decoded_imgs[max_loss_index].reshape(28,28))\n",
        "  plt.title(\"reconstructed\")\n",
        "  plt.gray()\n",
        "  ax.get_xaxis().set_visible(False)\n",
        "  ax.get_yaxis().set_visible(False)\n",
        "plt.show()"
      ],
      "execution_count": 146,
      "outputs": [
        {
          "output_type": "display_data",
          "data": {
            "image/png": "[encoded data removed]",
            "text/plain": [
              "<Figure size 1440x288 with 2 Axes>"
            ]
          },
          "metadata": {
            "tags": [],
            "needs_background": "light"
          }
        }
      ]
    },
    {
      "cell_type": "code",
      "metadata": {
        "id": "7dT2ohETFbOe"
      },
      "source": [
        "mean_loss = loss.mean()"
      ],
      "execution_count": 147,
      "outputs": []
    },
    {
      "cell_type": "code",
      "metadata": {
        "id": "4QisAAJbFdaf"
      },
      "source": [
        "variance_loss = loss.var()"
      ],
      "execution_count": 148,
      "outputs": []
    },
    {
      "cell_type": "markdown",
      "metadata": {
        "id": "kRkJWAXHGZ8I"
      },
      "source": [
        "## Assign threshold"
      ]
    },
    {
      "cell_type": "markdown",
      "metadata": {
        "id": "bv85QpXqGkJK"
      },
      "source": [
        "> We will assign the threshhold as the largest reconstruction error excluding 0.01% worst reconstructed regular images."
      ]
    },
    {
      "cell_type": "code",
      "metadata": {
        "colab": {
          "base_uri": "https://localhost:8080/"
        },
        "id": "-FmjlDlxFBeb",
        "outputId": "1fe307c6-3073-4d31-8127-1ffdfd6d81ab"
      },
      "source": [
        "t = math.floor(0.01*5524)\n",
        "print(t)"
      ],
      "execution_count": 149,
      "outputs": [
        {
          "output_type": "stream",
          "text": [
            "55\n"
          ],
          "name": "stdout"
        }
      ]
    },
    {
      "cell_type": "code",
      "metadata": {
        "colab": {
          "base_uri": "https://localhost:8080/"
        },
        "id": "7I0WLM5UFgVL",
        "outputId": "e351ad90-30b9-4585-b186-29954aa9c12a"
      },
      "source": [
        "mean_loss + variance_loss"
      ],
      "execution_count": 150,
      "outputs": [
        {
          "output_type": "execute_result",
          "data": {
            "text/plain": [
              "0.022286922"
            ]
          },
          "metadata": {
            "tags": []
          },
          "execution_count": 150
        }
      ]
    },
    {
      "cell_type": "code",
      "metadata": {
        "id": "Axf4mO1j0x9e"
      },
      "source": [
        "ind_max = np.argpartition(loss, -t)[-t:]"
      ],
      "execution_count": 151,
      "outputs": []
    },
    {
      "cell_type": "code",
      "metadata": {
        "colab": {
          "base_uri": "https://localhost:8080/"
        },
        "id": "uvmPrYpp06F2",
        "outputId": "60901bc0-0e8d-4813-d0f5-c6c4917f2320"
      },
      "source": [
        "ind_max"
      ],
      "execution_count": 152,
      "outputs": [
        {
          "output_type": "execute_result",
          "data": {
            "text/plain": [
              "array([1856, 3946,  683, 4488,   83, 1749, 1488, 4042, 1822, 1741, 3310,\n",
              "       3859, 4444, 1325, 1284, 3683,  158, 3444, 3974, 2133, 3307,  739,\n",
              "       3632, 4497, 1107,  184, 3976, 1622,  514, 1862, 2713, 1594,  566,\n",
              "       1633, 3867,   33, 2957, 1000,  213, 3578, 3661,  686,  498, 2655,\n",
              "        224,  228, 1843, 2559, 1406, 4173, 2726, 1932, 1063, 4576, 1569])"
            ]
          },
          "metadata": {
            "tags": []
          },
          "execution_count": 152
        }
      ]
    },
    {
      "cell_type": "code",
      "metadata": {
        "id": "Vu9_5GDY09ai"
      },
      "source": [
        "threshold = loss[ind_max[0]]"
      ],
      "execution_count": 153,
      "outputs": []
    },
    {
      "cell_type": "code",
      "metadata": {
        "id": "bFtvP7UGtnAw"
      },
      "source": [
        "#threshold = 0.0175"
      ],
      "execution_count": 154,
      "outputs": []
    },
    {
      "cell_type": "code",
      "metadata": {
        "colab": {
          "base_uri": "https://localhost:8080/",
          "height": 268
        },
        "id": "-Q0lWPv1u3BR",
        "outputId": "fb143a1e-9fc1-4f3b-c28f-2b9bf72887d7"
      },
      "source": [
        "n = 1\n",
        "plt.figure(figsize=(20, 4))\n",
        "for i in range(n):\n",
        "  # display original\n",
        "  ax = plt.subplot(2, n, i + 1)\n",
        "  plt.imshow(x_train[ind_max[0]].reshape(28,28))\n",
        "  plt.title(\"original\")\n",
        "  plt.gray()\n",
        "  ax.get_xaxis().set_visible(False)\n",
        "  ax.get_yaxis().set_visible(False)\n",
        "\n",
        "  # display reconstruction\n",
        "  ax = plt.subplot(2, n, i + 1 + n)\n",
        "  plt.imshow(decoded_imgs[ind_max[0]].reshape(28,28))\n",
        "  plt.title(\"reconstructed\")\n",
        "  plt.gray()\n",
        "  ax.get_xaxis().set_visible(False)\n",
        "  ax.get_yaxis().set_visible(False)\n",
        "plt.show()"
      ],
      "execution_count": 155,
      "outputs": [
        {
          "output_type": "display_data",
          "data": {
            "image/png": "[encoded data removed]",
            "text/plain": [
              "<Figure size 1440x288 with 2 Axes>"
            ]
          },
          "metadata": {
            "tags": [],
            "needs_background": "light"
          }
        }
      ]
    },
    {
      "cell_type": "code",
      "metadata": {
        "colab": {
          "base_uri": "https://localhost:8080/",
          "height": 279
        },
        "id": "4gVxnybFf8qm",
        "outputId": "39fe57d5-5d6e-44f9-a561-bef6d93ebdcc"
      },
      "source": [
        "plt.hist(loss, bins=50)\n",
        "plt.xlabel(\"Train MAE loss\")\n",
        "plt.ylabel(\"No of samples\")\n",
        "plt.show()"
      ],
      "execution_count": 156,
      "outputs": [
        {
          "output_type": "display_data",
          "data": {
            "image/png": "[encoded data removed]",
            "text/plain": [
              "<Figure size 432x288 with 1 Axes>"
            ]
          },
          "metadata": {
            "tags": [],
            "needs_background": "light"
          }
        }
      ]
    },
    {
      "cell_type": "markdown",
      "metadata": {
        "id": "VK_NwRRWWqOa"
      },
      "source": [
        "# Prediction "
      ]
    },
    {
      "cell_type": "code",
      "metadata": {
        "id": "B_x4spd1Wt2b"
      },
      "source": [
        "decoded_test = autoencoder.predict(x_test)"
      ],
      "execution_count": 157,
      "outputs": []
    },
    {
      "cell_type": "code",
      "metadata": {
        "colab": {
          "base_uri": "https://localhost:8080/",
          "height": 190
        },
        "id": "0Cybiv-AW_x8",
        "outputId": "a83145a1-617d-4cc8-af2d-01549ecbbc0e"
      },
      "source": [
        "n = 20\n",
        "plt.figure(figsize=(20, 4))\n",
        "for i in range(n):\n",
        "  # display original\n",
        "  ax = plt.subplot(2, n, i + 1)\n",
        "  plt.imshow(x_test[i].reshape(28,28))\n",
        "  plt.title(\"original\")\n",
        "  plt.gray()\n",
        "  ax.get_xaxis().set_visible(False)\n",
        "  ax.get_yaxis().set_visible(False)\n",
        "\n",
        "  # display reconstruction\n",
        "  ax = plt.subplot(2, n, i + 1 + n)\n",
        "  plt.imshow(decoded_test[i].reshape(28,28))\n",
        "  plt.title(\"reconstructed\")\n",
        "  plt.gray()\n",
        "  ax.get_xaxis().set_visible(False)\n",
        "  ax.get_yaxis().set_visible(False)\n",
        "plt.show()"
      ],
      "execution_count": 158,
      "outputs": [
        {
          "output_type": "display_data",
          "data": {
            "image/png": "[encoded data removed]",
            "text/plain": [
              "<Figure size 1440x288 with 40 Axes>"
            ]
          },
          "metadata": {
            "tags": [],
            "needs_background": "light"
          }
        }
      ]
    },
    {
      "cell_type": "markdown",
      "metadata": {
        "id": "GLLCN7BSHqUA"
      },
      "source": [
        "> We can see model is performing bad on anomolies"
      ]
    },
    {
      "cell_type": "markdown",
      "metadata": {
        "id": "siTWEC-CWmfF"
      },
      "source": [
        "# Assign Anomoly"
      ]
    },
    {
      "cell_type": "code",
      "metadata": {
        "id": "HI6TLOaByA_z"
      },
      "source": [
        "abs_test = (np.abs(decoded_test - x_test)).reshape(-1,28*28)"
      ],
      "execution_count": 159,
      "outputs": []
    },
    {
      "cell_type": "code",
      "metadata": {
        "id": "pCv_FmfgyKC3"
      },
      "source": [
        "loss_test = np.mean(abs_test, axis=1)"
      ],
      "execution_count": 160,
      "outputs": []
    },
    {
      "cell_type": "code",
      "metadata": {
        "colab": {
          "base_uri": "https://localhost:8080/"
        },
        "id": "vStaDRgyyj_1",
        "outputId": "4a74352a-5e5f-488a-8648-32d4b0838d6b"
      },
      "source": [
        "loss_test.max()"
      ],
      "execution_count": 161,
      "outputs": [
        {
          "output_type": "execute_result",
          "data": {
            "text/plain": [
              "0.037194084"
            ]
          },
          "metadata": {
            "tags": []
          },
          "execution_count": 161
        }
      ]
    },
    {
      "cell_type": "code",
      "metadata": {
        "colab": {
          "base_uri": "https://localhost:8080/",
          "height": 282
        },
        "id": "64EZEJAjyPZq",
        "outputId": "ed2972fe-8b23-40aa-ef7c-05686589d969"
      },
      "source": [
        "plt.plot(loss_test)"
      ],
      "execution_count": 162,
      "outputs": [
        {
          "output_type": "execute_result",
          "data": {
            "text/plain": [
              "[<matplotlib.lines.Line2D at 0x7fc51f4df1d0>]"
            ]
          },
          "metadata": {
            "tags": []
          },
          "execution_count": 162
        },
        {
          "output_type": "display_data",
          "data": {
            "image/png": "[encoded data removed]",
            "text/plain": [
              "<Figure size 432x288 with 1 Axes>"
            ]
          },
          "metadata": {
            "tags": [],
            "needs_background": "light"
          }
        }
      ]
    },
    {
      "cell_type": "code",
      "metadata": {
        "colab": {
          "base_uri": "https://localhost:8080/"
        },
        "id": "70JVhAgGti4d",
        "outputId": "4388bfb9-b4f8-47a5-92b3-0b079b88db1b"
      },
      "source": [
        "threshold"
      ],
      "execution_count": 163,
      "outputs": [
        {
          "output_type": "execute_result",
          "data": {
            "text/plain": [
              "0.031095559"
            ]
          },
          "metadata": {
            "tags": []
          },
          "execution_count": 163
        }
      ]
    },
    {
      "cell_type": "code",
      "metadata": {
        "colab": {
          "base_uri": "https://localhost:8080/"
        },
        "id": "nClDaXm_WmMW",
        "outputId": "5eaf853d-a95c-4e49-87f9-9e97681ff411"
      },
      "source": [
        "# Detect all the samples which are anomalies.\n",
        "anomalies = loss_test > threshold\n",
        "print(\"Number of anomaly samples: \", np.sum(anomalies))\n",
        "print(\"Indices of anomaly samples: \", np.where(anomalies))"
      ],
      "execution_count": 164,
      "outputs": [
        {
          "output_type": "stream",
          "text": [
            "Number of anomaly samples:  13\n",
            "Indices of anomaly samples:  (array([ 103,  167,  311,  329,  424,  465,  466,  585,  632,  839,  893,\n",
            "       1120, 1182]),)\n"
          ],
          "name": "stdout"
        }
      ]
    },
    {
      "cell_type": "code",
      "metadata": {
        "id": "aXfLx3WuYJmz"
      },
      "source": [
        "predicted_anomoloies = anomalies.nonzero()"
      ],
      "execution_count": 165,
      "outputs": []
    },
    {
      "cell_type": "code",
      "metadata": {
        "colab": {
          "base_uri": "https://localhost:8080/"
        },
        "id": "pVTaqNP7IcBW",
        "outputId": "bcac874e-c22b-41e9-bc1c-0363ee91e232"
      },
      "source": [
        "x_test.shape"
      ],
      "execution_count": 166,
      "outputs": [
        {
          "output_type": "execute_result",
          "data": {
            "text/plain": [
              "(1285, 28, 28)"
            ]
          },
          "metadata": {
            "tags": []
          },
          "execution_count": 166
        }
      ]
    },
    {
      "cell_type": "code",
      "metadata": {
        "id": "vtMgemReIzdp"
      },
      "source": [
        "#np.array(predicted_anomoloies).reshape(-1).tolist() converted to list"
      ],
      "execution_count": 167,
      "outputs": []
    },
    {
      "cell_type": "code",
      "metadata": {
        "colab": {
          "base_uri": "https://localhost:8080/",
          "height": 216
        },
        "id": "MLMpXwKIXr_V",
        "outputId": "ab948f8b-1894-4458-d4ee-6a5cc4840065"
      },
      "source": [
        "x = np.array(predicted_anomoloies).reshape(-1)[:15]\n",
        "n = len(x)\n",
        "plt.figure(figsize=(20, 4))\n",
        "for i in range(n):\n",
        "  # display original\n",
        "  ax = plt.subplot(2, n, i + 1)\n",
        "  plt.imshow(x_test[x[i]].reshape(28,28))\n",
        "  plt.title(\"original\")\n",
        "  plt.gray()\n",
        "  ax.get_xaxis().set_visible(False)\n",
        "  ax.get_yaxis().set_visible(False)\n",
        "\n",
        "  # display reconstruction\n",
        "  ax = plt.subplot(2, n, i + 1 + n)\n",
        "  plt.imshow(decoded_test[x[i]].reshape(28,28))\n",
        "  plt.title(\"reconstructed\")\n",
        "  plt.gray()\n",
        "  ax.get_xaxis().set_visible(False)\n",
        "  ax.get_yaxis().set_visible(False)\n",
        "plt.show()"
      ],
      "execution_count": 168,
      "outputs": [
        {
          "output_type": "display_data",
          "data": {
            "image/png": "[encoded data removed]",
            "text/plain": [
              "<Figure size 1440x288 with 26 Axes>"
            ]
          },
          "metadata": {
            "tags": [],
            "needs_background": "light"
          }
        }
      ]
    },
    {
      "cell_type": "markdown",
      "metadata": {
        "id": "mr4FsZX6KTB2"
      },
      "source": [
        ""
      ]
    },
    {
      "cell_type": "markdown",
      "metadata": {
        "id": "qjuyqGSj6Yif"
      },
      "source": [
        "Check the accuracy of the anomolies detected."
      ]
    },
    {
      "cell_type": "code",
      "metadata": {
        "id": "cs6-Ecsx6ffp"
      },
      "source": [
        "label_predicted =  np.array(np.where(anomalies))"
      ],
      "execution_count": 169,
      "outputs": []
    },
    {
      "cell_type": "code",
      "metadata": {
        "id": "Jm_j2VZS6psV"
      },
      "source": [
        "label_predicted =  label_predicted.reshape(-1)"
      ],
      "execution_count": 170,
      "outputs": []
    },
    {
      "cell_type": "code",
      "metadata": {
        "id": "R_W7QQ-i7AgH"
      },
      "source": [
        "TP = 0\n",
        "FP = 0\n",
        "for i in label_predicted:\n",
        "  if y_test[i] == 6:\n",
        "    TP = TP+1\n",
        "  else:\n",
        "    FP = FP + 1  \n",
        "FN = num_anomo - TP"
      ],
      "execution_count": 171,
      "outputs": []
    },
    {
      "cell_type": "code",
      "metadata": {
        "colab": {
          "base_uri": "https://localhost:8080/"
        },
        "id": "l606YJSW7g9s",
        "outputId": "880c559d-3502-4e17-9852-8f1328ef5d89"
      },
      "source": [
        "TP"
      ],
      "execution_count": 172,
      "outputs": [
        {
          "output_type": "execute_result",
          "data": {
            "text/plain": [
              "1"
            ]
          },
          "metadata": {
            "tags": []
          },
          "execution_count": 172
        }
      ]
    },
    {
      "cell_type": "code",
      "metadata": {
        "colab": {
          "base_uri": "https://localhost:8080/"
        },
        "id": "5E-eoSsD7ixJ",
        "outputId": "686081f3-fd87-4a44-cfba-cec9a1e19181"
      },
      "source": [
        "FP"
      ],
      "execution_count": 173,
      "outputs": [
        {
          "output_type": "execute_result",
          "data": {
            "text/plain": [
              "12"
            ]
          },
          "metadata": {
            "tags": []
          },
          "execution_count": 173
        }
      ]
    },
    {
      "cell_type": "code",
      "metadata": {
        "colab": {
          "base_uri": "https://localhost:8080/"
        },
        "id": "kj7sjrB2kFOs",
        "outputId": "85bfcf0e-3467-4887-fa12-178daca82fec"
      },
      "source": [
        "Precision = (TP)/(TP+FP)\n",
        "print(Precision)"
      ],
      "execution_count": 174,
      "outputs": [
        {
          "output_type": "stream",
          "text": [
            "0.07692307692307693\n"
          ],
          "name": "stdout"
        }
      ]
    },
    {
      "cell_type": "code",
      "metadata": {
        "colab": {
          "base_uri": "https://localhost:8080/"
        },
        "id": "G_hl5PbMn6IH",
        "outputId": "e1a6e248-a373-4eec-a945-3aefe3fedf9b"
      },
      "source": [
        "Recall = (TP)/(TP+FN)\n",
        "print(Recall)"
      ],
      "execution_count": 175,
      "outputs": [
        {
          "output_type": "stream",
          "text": [
            "0.009345794392523364\n"
          ],
          "name": "stdout"
        }
      ]
    },
    {
      "cell_type": "code",
      "metadata": {
        "id": "NWEcbDScEObT"
      },
      "source": [
        ""
      ],
      "execution_count": 175,
      "outputs": []
    },
    {
      "cell_type": "markdown",
      "metadata": {
        "id": "aZa34GyE4fsO"
      },
      "source": [
        "# SSIM\n",
        "\n"
      ]
    },
    {
      "cell_type": "code",
      "metadata": {
        "id": "06_6wLuzW_ue"
      },
      "source": [
        "x_train_new = np.expand_dims(x_train, axis = 3)\n",
        "decoded_imgs_new = np.expand_dims(decoded_imgs, axis = 3)"
      ],
      "execution_count": 176,
      "outputs": []
    },
    {
      "cell_type": "code",
      "metadata": {
        "id": "cNtI6EK-YBqV"
      },
      "source": [
        "SSIM_regular = tf.image.ssim(x_train_new, decoded_imgs_new,max_val=1).numpy()"
      ],
      "execution_count": 177,
      "outputs": []
    },
    {
      "cell_type": "code",
      "metadata": {
        "colab": {
          "base_uri": "https://localhost:8080/",
          "height": 284
        },
        "id": "IJSpm7aVY16j",
        "outputId": "7a3db2d8-a3bd-4d55-a27f-08d97008f19e"
      },
      "source": [
        "plt.plot(SSIM_regular)"
      ],
      "execution_count": 178,
      "outputs": [
        {
          "output_type": "execute_result",
          "data": {
            "text/plain": [
              "[<matplotlib.lines.Line2D at 0x7fc520728510>]"
            ]
          },
          "metadata": {
            "tags": []
          },
          "execution_count": 178
        },
        {
          "output_type": "display_data",
          "data": {
            "image/png": "[encoded data removed]",
            "text/plain": [
              "<Figure size 432x288 with 1 Axes>"
            ]
          },
          "metadata": {
            "tags": [],
            "needs_background": "light"
          }
        }
      ]
    },
    {
      "cell_type": "code",
      "metadata": {
        "colab": {
          "base_uri": "https://localhost:8080/",
          "height": 279
        },
        "id": "KY8T0wd7Y963",
        "outputId": "83a335ba-17ea-46de-990b-8b985ebb3b87"
      },
      "source": [
        "plt.hist(SSIM_regular, bins=50)\n",
        "plt.xlabel(\"Train MAE loss\")\n",
        "plt.ylabel(\"No of samples\")\n",
        "plt.show()"
      ],
      "execution_count": 179,
      "outputs": [
        {
          "output_type": "display_data",
          "data": {
            "image/png": "[encoded data removed]",
            "text/plain": [
              "<Figure size 432x288 with 1 Axes>"
            ]
          },
          "metadata": {
            "tags": [],
            "needs_background": "light"
          }
        }
      ]
    },
    {
      "cell_type": "code",
      "metadata": {
        "colab": {
          "base_uri": "https://localhost:8080/"
        },
        "id": "IyD9jxFbZcfC",
        "outputId": "43f527a2-40b6-43a2-e0c7-f0dd16e74717"
      },
      "source": [
        "SSIM_regular.mean()"
      ],
      "execution_count": 180,
      "outputs": [
        {
          "output_type": "execute_result",
          "data": {
            "text/plain": [
              "0.9709499"
            ]
          },
          "metadata": {
            "tags": []
          },
          "execution_count": 180
        }
      ]
    },
    {
      "cell_type": "code",
      "metadata": {
        "colab": {
          "base_uri": "https://localhost:8080/"
        },
        "id": "0s4ow5PGaroV",
        "outputId": "fc7fb665-6479-4c8a-9bf3-e7e8e386baf0"
      },
      "source": [
        "np.median(SSIM_regular)"
      ],
      "execution_count": 181,
      "outputs": [
        {
          "output_type": "execute_result",
          "data": {
            "text/plain": [
              "0.974786"
            ]
          },
          "metadata": {
            "tags": []
          },
          "execution_count": 181
        }
      ]
    },
    {
      "cell_type": "code",
      "metadata": {
        "colab": {
          "base_uri": "https://localhost:8080/"
        },
        "id": "SWv9K13eaueM",
        "outputId": "26e8c919-1ad3-4e62-8428-dbac2ab4a65a"
      },
      "source": [
        "np.percentile(SSIM_regular,1)"
      ],
      "execution_count": 182,
      "outputs": [
        {
          "output_type": "execute_result",
          "data": {
            "text/plain": [
              "0.907732961177826"
            ]
          },
          "metadata": {
            "tags": []
          },
          "execution_count": 182
        }
      ]
    },
    {
      "cell_type": "markdown",
      "metadata": {
        "id": "Y7n3dPnTao8n"
      },
      "source": [
        "> SSIM on test data"
      ]
    },
    {
      "cell_type": "code",
      "metadata": {
        "id": "Ts7G1cru5der"
      },
      "source": [
        "x_test_new = np.expand_dims(x_test, axis = 3)\n",
        "decoded_test_new= np.expand_dims(decoded_test, axis = 3)"
      ],
      "execution_count": 183,
      "outputs": []
    },
    {
      "cell_type": "code",
      "metadata": {
        "id": "pParVLq1Icjt"
      },
      "source": [
        "SSIM = tf.image.ssim(decoded_test_new, x_test_new,max_val=1).numpy()"
      ],
      "execution_count": 184,
      "outputs": []
    },
    {
      "cell_type": "code",
      "metadata": {
        "colab": {
          "base_uri": "https://localhost:8080/",
          "height": 286
        },
        "id": "CHHat-xR4iP9",
        "outputId": "0657a759-c95d-48c9-a1de-821390cb238b"
      },
      "source": [
        "plt.plot(SSIM)"
      ],
      "execution_count": 185,
      "outputs": [
        {
          "output_type": "execute_result",
          "data": {
            "text/plain": [
              "[<matplotlib.lines.Line2D at 0x7fc51fa0b350>]"
            ]
          },
          "metadata": {
            "tags": []
          },
          "execution_count": 185
        },
        {
          "output_type": "display_data",
          "data": {
            "image/png": "[encoded data removed]",
            "text/plain": [
              "<Figure size 432x288 with 1 Axes>"
            ]
          },
          "metadata": {
            "tags": [],
            "needs_background": "light"
          }
        }
      ]
    },
    {
      "cell_type": "code",
      "metadata": {
        "colab": {
          "base_uri": "https://localhost:8080/",
          "height": 279
        },
        "id": "Ku1LkBSYXpSz",
        "outputId": "a9e75da9-b4cc-4d21-be2b-8f0fb8134691"
      },
      "source": [
        "plt.hist(SSIM, bins=50)\n",
        "plt.xlabel(\"Train MAE loss\")\n",
        "plt.ylabel(\"No of samples\")\n",
        "plt.show()"
      ],
      "execution_count": 186,
      "outputs": [
        {
          "output_type": "display_data",
          "data": {
            "image/png": "[encoded data removed]",
            "text/plain": [
              "<Figure size 432x288 with 1 Axes>"
            ]
          },
          "metadata": {
            "tags": [],
            "needs_background": "light"
          }
        }
      ]
    },
    {
      "cell_type": "code",
      "metadata": {
        "colab": {
          "base_uri": "https://localhost:8080/"
        },
        "id": "cPO4i2W9ZhOM",
        "outputId": "7181e184-be27-47bf-fbac-9a2542061660"
      },
      "source": [
        "SSIM.mean()"
      ],
      "execution_count": 187,
      "outputs": [
        {
          "output_type": "execute_result",
          "data": {
            "text/plain": [
              "0.97021884"
            ]
          },
          "metadata": {
            "tags": []
          },
          "execution_count": 187
        }
      ]
    },
    {
      "cell_type": "code",
      "metadata": {
        "colab": {
          "base_uri": "https://localhost:8080/"
        },
        "id": "kPl243dQa5E4",
        "outputId": "52e8ac7f-618f-4c6e-8c27-45bdf9129b13"
      },
      "source": [
        "np.median(SSIM)"
      ],
      "execution_count": 188,
      "outputs": [
        {
          "output_type": "execute_result",
          "data": {
            "text/plain": [
              "0.9738523"
            ]
          },
          "metadata": {
            "tags": []
          },
          "execution_count": 188
        }
      ]
    },
    {
      "cell_type": "code",
      "metadata": {
        "id": "PCt3viNqbBI9"
      },
      "source": [
        "SSIM_test = np.percentile(SSIM, 1)"
      ],
      "execution_count": 189,
      "outputs": []
    },
    {
      "cell_type": "markdown",
      "metadata": {
        "id": "5cWs4xIBb9TJ"
      },
      "source": [
        "> We can observe that test data has done worse than regular images with only 0 labels on SSIM "
      ]
    },
    {
      "cell_type": "markdown",
      "metadata": {
        "id": "j4EuKaDGcpTd"
      },
      "source": [
        "## Assign Anomoly"
      ]
    },
    {
      "cell_type": "code",
      "metadata": {
        "id": "a_ro024LdVZZ"
      },
      "source": [
        "threshold = np.percentile(SSIM_regular,0.5)"
      ],
      "execution_count": 218,
      "outputs": []
    },
    {
      "cell_type": "code",
      "metadata": {
        "colab": {
          "base_uri": "https://localhost:8080/"
        },
        "id": "dYyew3LocpTg",
        "outputId": "353cd3e5-964d-41ae-8110-7aa2a5bd04d2"
      },
      "source": [
        "# Detect all the samples which are anomalies.\n",
        "anomalies = SSIM < threshold\n",
        "print(\"Number of anomaly samples: \", np.sum(anomalies))\n",
        "print(\"Indices of anomaly samples: \", np.where(anomalies))"
      ],
      "execution_count": 219,
      "outputs": [
        {
          "output_type": "stream",
          "text": [
            "Number of anomaly samples:  4\n",
            "Indices of anomaly samples:  (array([ 167,  632,  728, 1006]),)\n"
          ],
          "name": "stdout"
        }
      ]
    },
    {
      "cell_type": "code",
      "metadata": {
        "id": "TeDv5jrLcpTg"
      },
      "source": [
        "predicted_anomoloies = anomalies.nonzero()"
      ],
      "execution_count": 220,
      "outputs": []
    },
    {
      "cell_type": "code",
      "metadata": {
        "colab": {
          "base_uri": "https://localhost:8080/"
        },
        "id": "jXQeeYCYcpTg",
        "outputId": "dcf704ce-b02f-4e18-a5d0-6963082abf85"
      },
      "source": [
        "x_test.shape"
      ],
      "execution_count": 221,
      "outputs": [
        {
          "output_type": "execute_result",
          "data": {
            "text/plain": [
              "(1285, 28, 28)"
            ]
          },
          "metadata": {
            "tags": []
          },
          "execution_count": 221
        }
      ]
    },
    {
      "cell_type": "code",
      "metadata": {
        "id": "4xOdVCNncpTh"
      },
      "source": [
        "#np.array(predicted_anomoloies).reshape(-1).tolist() converted to list"
      ],
      "execution_count": 222,
      "outputs": []
    },
    {
      "cell_type": "code",
      "metadata": {
        "colab": {
          "base_uri": "https://localhost:8080/",
          "height": 268
        },
        "id": "3rWJQbIpcpTh",
        "outputId": "eff9ef95-c37e-4142-8734-6b41755ec327"
      },
      "source": [
        "x = np.array(predicted_anomoloies).reshape(-1)[:15]\n",
        "n = len(x)\n",
        "plt.figure(figsize=(20, 4))\n",
        "for i in range(n):\n",
        "  # display original\n",
        "  ax = plt.subplot(2, n, i + 1)\n",
        "  plt.imshow(x_test[x[i]].reshape(28,28))\n",
        "  plt.title(\"original\")\n",
        "  plt.gray()\n",
        "  ax.get_xaxis().set_visible(False)\n",
        "  ax.get_yaxis().set_visible(False)\n",
        "\n",
        "  # display reconstruction\n",
        "  ax = plt.subplot(2, n, i + 1 + n)\n",
        "  plt.imshow(decoded_test[x[i]].reshape(28,28))\n",
        "  plt.title(\"reconstructed\")\n",
        "  plt.gray()\n",
        "  ax.get_xaxis().set_visible(False)\n",
        "  ax.get_yaxis().set_visible(False)\n",
        "plt.show()"
      ],
      "execution_count": 223,
      "outputs": [
        {
          "output_type": "display_data",
          "data": {
            "image/png": "[encoded data removed]",
            "text/plain": [
              "<Figure size 1440x288 with 8 Axes>"
            ]
          },
          "metadata": {
            "tags": [],
            "needs_background": "light"
          }
        }
      ]
    },
    {
      "cell_type": "markdown",
      "metadata": {
        "id": "yA41rIWlcpTi"
      },
      "source": [
        ""
      ]
    },
    {
      "cell_type": "markdown",
      "metadata": {
        "id": "rpgmC_fecpTi"
      },
      "source": [
        "Check the accuracy of the anomolies detected."
      ]
    },
    {
      "cell_type": "code",
      "metadata": {
        "id": "0oN8I3pPcpTi"
      },
      "source": [
        "label_predicted =  np.array(np.where(anomalies))"
      ],
      "execution_count": 224,
      "outputs": []
    },
    {
      "cell_type": "code",
      "metadata": {
        "id": "j2hd8n7jcpTj"
      },
      "source": [
        "label_predicted =  label_predicted.reshape(-1)"
      ],
      "execution_count": 225,
      "outputs": []
    },
    {
      "cell_type": "code",
      "metadata": {
        "id": "pZqVFit7cpTj"
      },
      "source": [
        "TP = 0\n",
        "FP = 0\n",
        "for i in label_predicted:\n",
        "  if y_test[i] == 6:\n",
        "    TP = TP+1\n",
        "  else:\n",
        "    FP = FP + 1  \n",
        "FN = num_anomo - TP"
      ],
      "execution_count": 226,
      "outputs": []
    },
    {
      "cell_type": "code",
      "metadata": {
        "colab": {
          "base_uri": "https://localhost:8080/"
        },
        "id": "RXCRY8IScpTk",
        "outputId": "14552955-991a-472c-a88b-9bc07fd67546"
      },
      "source": [
        "TP"
      ],
      "execution_count": 227,
      "outputs": [
        {
          "output_type": "execute_result",
          "data": {
            "text/plain": [
              "1"
            ]
          },
          "metadata": {
            "tags": []
          },
          "execution_count": 227
        }
      ]
    },
    {
      "cell_type": "code",
      "metadata": {
        "colab": {
          "base_uri": "https://localhost:8080/"
        },
        "id": "Y4eFoHwNcpTk",
        "outputId": "576a84f8-c285-4553-f973-06083e21fa2e"
      },
      "source": [
        "FP"
      ],
      "execution_count": 228,
      "outputs": [
        {
          "output_type": "execute_result",
          "data": {
            "text/plain": [
              "3"
            ]
          },
          "metadata": {
            "tags": []
          },
          "execution_count": 228
        }
      ]
    },
    {
      "cell_type": "code",
      "metadata": {
        "colab": {
          "base_uri": "https://localhost:8080/"
        },
        "id": "YV83RgLucpTk",
        "outputId": "1d679849-73e7-4ef9-cd2d-e3416122f1a9"
      },
      "source": [
        "Precision = (TP)/(TP+FP)\n",
        "print(Precision)"
      ],
      "execution_count": 229,
      "outputs": [
        {
          "output_type": "stream",
          "text": [
            "0.25\n"
          ],
          "name": "stdout"
        }
      ]
    },
    {
      "cell_type": "code",
      "metadata": {
        "colab": {
          "base_uri": "https://localhost:8080/"
        },
        "id": "XomM_zGrcpTl",
        "outputId": "36082273-2075-4daa-831e-f6c9b40af018"
      },
      "source": [
        "Recall = (TP)/(TP+FN)\n",
        "print(Recall)"
      ],
      "execution_count": 230,
      "outputs": [
        {
          "output_type": "stream",
          "text": [
            "0.009345794392523364\n"
          ],
          "name": "stdout"
        }
      ]
    },
    {
      "cell_type": "markdown",
      "metadata": {
        "id": "YQxIDDcyekPl"
      },
      "source": [
        "## Assign Anomoly with another threshold\n",
        "\n",
        "\n",
        "\n"
      ]
    },
    {
      "cell_type": "code",
      "metadata": {
        "id": "QzWJcb4HekPn"
      },
      "source": [
        "threshold = np.percentile(SSIM_regular,1)"
      ],
      "execution_count": 260,
      "outputs": []
    },
    {
      "cell_type": "code",
      "metadata": {
        "colab": {
          "base_uri": "https://localhost:8080/"
        },
        "id": "ZJBJKu-sekPn",
        "outputId": "751a89cd-2aaa-4196-a846-d3993dda4d2e"
      },
      "source": [
        "# Detect all the samples which are anomalies.\n",
        "anomalies = SSIM < threshold\n",
        "print(\"Number of anomaly samples: \", np.sum(anomalies))\n",
        "print(\"Indices of anomaly samples: \", np.where(anomalies))"
      ],
      "execution_count": 261,
      "outputs": [
        {
          "output_type": "stream",
          "text": [
            "Number of anomaly samples:  10\n",
            "Indices of anomaly samples:  (array([   7,   61,  103,  167,  466,  472,  632,  728,  833, 1006]),)\n"
          ],
          "name": "stdout"
        }
      ]
    },
    {
      "cell_type": "code",
      "metadata": {
        "id": "iB6VCJveekPo"
      },
      "source": [
        "predicted_anomoloies = anomalies.nonzero()"
      ],
      "execution_count": 262,
      "outputs": []
    },
    {
      "cell_type": "code",
      "metadata": {
        "colab": {
          "base_uri": "https://localhost:8080/"
        },
        "id": "jQ21Mb7fekPp",
        "outputId": "fe65ae49-8f2a-4552-a0dd-a961cb792822"
      },
      "source": [
        "x_test.shape"
      ],
      "execution_count": 263,
      "outputs": [
        {
          "output_type": "execute_result",
          "data": {
            "text/plain": [
              "(1285, 28, 28)"
            ]
          },
          "metadata": {
            "tags": []
          },
          "execution_count": 263
        }
      ]
    },
    {
      "cell_type": "code",
      "metadata": {
        "id": "4yDY37GVekPp"
      },
      "source": [
        "#np.array(predicted_anomoloies).reshape(-1).tolist() converted to list"
      ],
      "execution_count": 264,
      "outputs": []
    },
    {
      "cell_type": "code",
      "metadata": {
        "colab": {
          "base_uri": "https://localhost:8080/",
          "height": 238
        },
        "id": "ZWtJJIFVekPq",
        "outputId": "7e146b91-bc85-44ec-f741-f6db9515bd6a"
      },
      "source": [
        "x = np.array(predicted_anomoloies).reshape(-1)[:15]\n",
        "n = len(x)\n",
        "plt.figure(figsize=(20, 4))\n",
        "for i in range(n):\n",
        "  # display original\n",
        "  ax = plt.subplot(2, n, i + 1)\n",
        "  plt.imshow(x_test[x[i]].reshape(28,28))\n",
        "  plt.title(\"original\")\n",
        "  plt.gray()\n",
        "  ax.get_xaxis().set_visible(False)\n",
        "  ax.get_yaxis().set_visible(False)\n",
        "\n",
        "  # display reconstruction\n",
        "  ax = plt.subplot(2, n, i + 1 + n)\n",
        "  plt.imshow(decoded_test[x[i]].reshape(28,28))\n",
        "  plt.title(\"reconstructed\")\n",
        "  plt.gray()\n",
        "  ax.get_xaxis().set_visible(False)\n",
        "  ax.get_yaxis().set_visible(False)\n",
        "plt.show()"
      ],
      "execution_count": 265,
      "outputs": [
        {
          "output_type": "display_data",
          "data": {
            "image/png": "[encoded data removed]",
            "text/plain": [
              "<Figure size 1440x288 with 20 Axes>"
            ]
          },
          "metadata": {
            "tags": [],
            "needs_background": "light"
          }
        }
      ]
    },
    {
      "cell_type": "markdown",
      "metadata": {
        "id": "VOGoU79iekPq"
      },
      "source": [
        ""
      ]
    },
    {
      "cell_type": "markdown",
      "metadata": {
        "id": "z3VLPVsoekPr"
      },
      "source": [
        "Check the accuracy of the anomolies detected."
      ]
    },
    {
      "cell_type": "code",
      "metadata": {
        "id": "1R-Sz1u5ekPr"
      },
      "source": [
        "label_predicted =  np.array(np.where(anomalies))"
      ],
      "execution_count": 266,
      "outputs": []
    },
    {
      "cell_type": "code",
      "metadata": {
        "id": "kwamOSxmekPr"
      },
      "source": [
        "label_predicted =  label_predicted.reshape(-1)"
      ],
      "execution_count": 267,
      "outputs": []
    },
    {
      "cell_type": "code",
      "metadata": {
        "id": "sPdLU_-8ekPs"
      },
      "source": [
        "TP = 0\n",
        "FP = 0\n",
        "for i in label_predicted:\n",
        "  if y_test[i] == 6:\n",
        "    TP = TP+1\n",
        "  else:\n",
        "    FP = FP + 1  \n",
        "FN = num_anomo - TP"
      ],
      "execution_count": 268,
      "outputs": []
    },
    {
      "cell_type": "code",
      "metadata": {
        "colab": {
          "base_uri": "https://localhost:8080/"
        },
        "id": "PoqBG641ekPs",
        "outputId": "4ee414ed-06fa-4847-8b60-a6b5e53f8c01"
      },
      "source": [
        "TP"
      ],
      "execution_count": 269,
      "outputs": [
        {
          "output_type": "execute_result",
          "data": {
            "text/plain": [
              "2"
            ]
          },
          "metadata": {
            "tags": []
          },
          "execution_count": 269
        }
      ]
    },
    {
      "cell_type": "code",
      "metadata": {
        "colab": {
          "base_uri": "https://localhost:8080/"
        },
        "id": "1cKV3xzqekPt",
        "outputId": "2de86c0a-7fa2-4de8-acda-c5a7cad95a0e"
      },
      "source": [
        "FP"
      ],
      "execution_count": 270,
      "outputs": [
        {
          "output_type": "execute_result",
          "data": {
            "text/plain": [
              "8"
            ]
          },
          "metadata": {
            "tags": []
          },
          "execution_count": 270
        }
      ]
    },
    {
      "cell_type": "code",
      "metadata": {
        "colab": {
          "base_uri": "https://localhost:8080/"
        },
        "id": "TdnR4DXwg5Lo",
        "outputId": "22c8e71e-cb3b-49e3-aba4-c203f5bad214"
      },
      "source": [
        "FN"
      ],
      "execution_count": 271,
      "outputs": [
        {
          "output_type": "execute_result",
          "data": {
            "text/plain": [
              "105"
            ]
          },
          "metadata": {
            "tags": []
          },
          "execution_count": 271
        }
      ]
    },
    {
      "cell_type": "code",
      "metadata": {
        "colab": {
          "base_uri": "https://localhost:8080/"
        },
        "id": "IKdmTHEsekPt",
        "outputId": "7b9cbf4a-7136-4194-847d-b7a27a62813c"
      },
      "source": [
        "Precision = (TP)/(TP+FP)\n",
        "print(Precision)"
      ],
      "execution_count": 272,
      "outputs": [
        {
          "output_type": "stream",
          "text": [
            "0.2\n"
          ],
          "name": "stdout"
        }
      ]
    },
    {
      "cell_type": "code",
      "metadata": {
        "colab": {
          "base_uri": "https://localhost:8080/"
        },
        "id": "TEe-u3FMekPt",
        "outputId": "efea4d21-eb20-4d0c-c4db-80cdf1c56acb"
      },
      "source": [
        "Recall = (TP)/(TP+FN)\n",
        "print(Recall)"
      ],
      "execution_count": 273,
      "outputs": [
        {
          "output_type": "stream",
          "text": [
            "0.018691588785046728\n"
          ],
          "name": "stdout"
        }
      ]
    },
    {
      "cell_type": "markdown",
      "metadata": {
        "id": "OdR0PYNq3Cs5"
      },
      "source": [
        "# Conclusion"
      ]
    },
    {
      "cell_type": "markdown",
      "metadata": {
        "id": "LnU51xBk5YoT"
      },
      "source": [
        "> We have not considered the test_data in dataset for regular images to remove some of the badly shaped regular images."
      ]
    },
    {
      "cell_type": "markdown",
      "metadata": {
        "id": "0z3ppzZZ3IQl"
      },
      "source": [
        "> The data is very noisy, and convolutional network is a very powerful network, and even reducing the parameters, the network is able to reconstruct unseen shapes, here 6, even while training on 0. Making it very inefficient to use autoencoders for anomoly detection."
      ]
    }
  ]
}