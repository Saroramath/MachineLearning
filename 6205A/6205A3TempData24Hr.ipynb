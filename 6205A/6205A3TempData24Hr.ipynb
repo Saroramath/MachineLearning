{
  "nbformat": 4,
  "nbformat_minor": 0,
  "metadata": {
    "colab": {
      "name": "6205A3TempData24Hr.ipynb",
      "provenance": [],
      "collapsed_sections": [],
      "toc_visible": true,
      "authorship_tag": "ABX9TyOddEzSZNHdYjy4RFtIEAj6",
      "include_colab_link": true
    },
    "kernelspec": {
      "name": "python3",
      "display_name": "Python 3"
    }
  },
  "cells": [
    {
      "cell_type": "markdown",
      "metadata": {
        "id": "view-in-github",
        "colab_type": "text"
      },
      "source": [
        "<a href=\"https://colab.research.google.com/github/Saroramath/MachineLearning/blob/main/6205A/6205A3TempData24Hr.ipynb\" target=\"_parent\"><img src=\"https://colab.research.google.com/assets/colab-badge.svg\" alt=\"Open In Colab\"/></a>"
      ]
    },
    {
      "cell_type": "markdown",
      "metadata": {
        "id": "xlC6YSAfI9-U"
      },
      "source": [
        "# Learning goals"
      ]
    },
    {
      "cell_type": "markdown",
      "metadata": {
        "id": "FB0-70PxJDB9"
      },
      "source": [
        "1. Prepare the time series data into samples.\n",
        "2. We will us primitive commands to understand the sample generation steps."
      ]
    },
    {
      "cell_type": "code",
      "metadata": {
        "colab": {
          "base_uri": "https://localhost:8080/"
        },
        "id": "gu7VuJBQTAfR",
        "outputId": "ff57f27d-f92a-4df8-f616-0eb1a1335743"
      },
      "source": [
        "!pip install netCDF4"
      ],
      "execution_count": 442,
      "outputs": [
        {
          "output_type": "stream",
          "text": [
            "Requirement already satisfied: netCDF4 in /usr/local/lib/python3.7/dist-packages (1.5.6)\n",
            "Requirement already satisfied: cftime in /usr/local/lib/python3.7/dist-packages (from netCDF4) (1.4.1)\n",
            "Requirement already satisfied: numpy>=1.9 in /usr/local/lib/python3.7/dist-packages (from netCDF4) (1.19.5)\n"
          ],
          "name": "stdout"
        }
      ]
    },
    {
      "cell_type": "code",
      "metadata": {
        "id": "EuH1MnIaRjl-"
      },
      "source": [
        "from netCDF4 import Dataset\n",
        "from google.colab import drive\n",
        "import numpy as np\n",
        "import matplotlib.pyplot as plt\n",
        "import tensorflow as tf\n"
      ],
      "execution_count": 443,
      "outputs": []
    },
    {
      "cell_type": "code",
      "metadata": {
        "id": "vEYGALlJTNoz"
      },
      "source": [
        "from google.colab import files\n",
        "#uploaded = files.upload()"
      ],
      "execution_count": 444,
      "outputs": []
    },
    {
      "cell_type": "code",
      "metadata": {
        "id": "KOGGyOlyUnVb"
      },
      "source": [
        "#drive.mount('/content/gdrive')"
      ],
      "execution_count": 445,
      "outputs": []
    },
    {
      "cell_type": "markdown",
      "metadata": {
        "id": "Z75CYkXz1NeQ"
      },
      "source": [
        "> The file is too big to call as raw from github or to use upload. "
      ]
    },
    {
      "cell_type": "markdown",
      "metadata": {
        "id": "xeMBHtfTCmFH"
      },
      "source": [
        "Upload the file in sample_data directory from system."
      ]
    },
    {
      "cell_type": "code",
      "metadata": {
        "id": "LQW7R0Oo-7_V"
      },
      "source": [
        "file = '/content/sample_data/tempStJohns.nc'"
      ],
      "execution_count": 446,
      "outputs": []
    },
    {
      "cell_type": "markdown",
      "metadata": {
        "id": "bCOH74s-UJsK"
      },
      "source": [
        "# Explore the data"
      ]
    },
    {
      "cell_type": "code",
      "metadata": {
        "id": "k6Am9iu0Rtas"
      },
      "source": [
        "df = Dataset(file)"
      ],
      "execution_count": 447,
      "outputs": []
    },
    {
      "cell_type": "code",
      "metadata": {
        "colab": {
          "base_uri": "https://localhost:8080/"
        },
        "id": "sL_YLtc4_6Mc",
        "outputId": "16921e73-b4ce-475f-c98c-cbbc7b022b6e"
      },
      "source": [
        "df"
      ],
      "execution_count": 448,
      "outputs": [
        {
          "output_type": "execute_result",
          "data": {
            "text/plain": [
              "<class 'netCDF4._netCDF4.Dataset'>\n",
              "root group (NETCDF3_64BIT_OFFSET data model, file format NETCDF3):\n",
              "    Conventions: CF-1.6\n",
              "    history: 2021-02-03 00:49:51 GMT by grib_to_netcdf-2.16.0: /opt/ecmwf/eccodes/bin/grib_to_netcdf -S param -o /cache/data2/adaptor.mars.internal-1612306467.0641284-4955-27-685dbd6e-9572-4267-a9a7-5a61b7e919e4.nc /cache/tmp/685dbd6e-9572-4267-a9a7-5a61b7e919e4-adaptor.mars.internal-1612306467.0646257-4955-9-tmp.grib\n",
              "    dimensions(sizes): longitude(1), latitude(1), expver(2), time(87672)\n",
              "    variables(dimensions): float32 longitude(longitude), float32 latitude(latitude), int32 expver(expver), int32 time(time), int16 t2m(time, expver, latitude, longitude)\n",
              "    groups: "
            ]
          },
          "metadata": {
            "tags": []
          },
          "execution_count": 448
        }
      ]
    },
    {
      "cell_type": "code",
      "metadata": {
        "colab": {
          "base_uri": "https://localhost:8080/"
        },
        "id": "M5MfMO8sU5__",
        "outputId": "63d2ac46-1e12-40df-d001-d199435aea21"
      },
      "source": [
        "df['longitude'][0] #longitude of the place"
      ],
      "execution_count": 449,
      "outputs": [
        {
          "output_type": "execute_result",
          "data": {
            "text/plain": [
              "masked_array(data=-52.75,\n",
              "             mask=False,\n",
              "       fill_value=1e+20,\n",
              "            dtype=float32)"
            ]
          },
          "metadata": {
            "tags": []
          },
          "execution_count": 449
        }
      ]
    },
    {
      "cell_type": "code",
      "metadata": {
        "colab": {
          "base_uri": "https://localhost:8080/"
        },
        "id": "wvG4OC29Z3Dq",
        "outputId": "faf4ea62-5f69-4c7c-d560-3a5303be828a"
      },
      "source": [
        "df['time'] # Time series units: hours since 1900-01-01 00:00:00.0"
      ],
      "execution_count": 450,
      "outputs": [
        {
          "output_type": "execute_result",
          "data": {
            "text/plain": [
              "<class 'netCDF4._netCDF4.Variable'>\n",
              "int32 time(time)\n",
              "    units: hours since 1900-01-01 00:00:00.0\n",
              "    long_name: time\n",
              "    calendar: gregorian\n",
              "unlimited dimensions: \n",
              "current shape = (87672,)\n",
              "filling on, default _FillValue of -2147483647 used"
            ]
          },
          "metadata": {
            "tags": []
          },
          "execution_count": 450
        }
      ]
    },
    {
      "cell_type": "code",
      "metadata": {
        "id": "ZzX4IqtoZA27"
      },
      "source": [
        "time = df['time'][:] #start value 973008, end value 1060679"
      ],
      "execution_count": 451,
      "outputs": []
    },
    {
      "cell_type": "code",
      "metadata": {
        "colab": {
          "base_uri": "https://localhost:8080/"
        },
        "id": "TEbfj7IAcvAa",
        "outputId": "b65d078e-3652-4855-8eef-183449e84844"
      },
      "source": [
        "time"
      ],
      "execution_count": 452,
      "outputs": [
        {
          "output_type": "execute_result",
          "data": {
            "text/plain": [
              "masked_array(data=[ 973008,  973009,  973010, ..., 1060677, 1060678,\n",
              "                   1060679],\n",
              "             mask=False,\n",
              "       fill_value=999999,\n",
              "            dtype=int32)"
            ]
          },
          "metadata": {
            "tags": []
          },
          "execution_count": 452
        }
      ]
    },
    {
      "cell_type": "code",
      "metadata": {
        "colab": {
          "base_uri": "https://localhost:8080/"
        },
        "id": "MHucNB65cwoj",
        "outputId": "a24c93e2-4fb6-48f3-b8bb-5f55d274f86f"
      },
      "source": [
        "time.shape"
      ],
      "execution_count": 453,
      "outputs": [
        {
          "output_type": "execute_result",
          "data": {
            "text/plain": [
              "(87672,)"
            ]
          },
          "metadata": {
            "tags": []
          },
          "execution_count": 453
        }
      ]
    },
    {
      "cell_type": "markdown",
      "metadata": {
        "id": "BjQsqwIe2AwP"
      },
      "source": [
        "> Consider columns with time data"
      ]
    },
    {
      "cell_type": "code",
      "metadata": {
        "colab": {
          "base_uri": "https://localhost:8080/"
        },
        "id": "PXOn5113ZLRb",
        "outputId": "3bdfcaee-1610-41e3-f92e-8ab783ecd22f"
      },
      "source": [
        " df['t2m'][:,0,0,0]"
      ],
      "execution_count": 454,
      "outputs": [
        {
          "output_type": "execute_result",
          "data": {
            "text/plain": [
              "masked_array(data=[272.81080791804084, 272.6567134137989,\n",
              "                   272.7837285490946, ..., --, --, --],\n",
              "             mask=[False, False, False, ...,  True,  True,  True],\n",
              "       fill_value=-32767)"
            ]
          },
          "metadata": {
            "tags": []
          },
          "execution_count": 454
        }
      ]
    },
    {
      "cell_type": "markdown",
      "metadata": {
        "id": "NmaTrYCo1-LB"
      },
      "source": [
        "> Convert to Celsius"
      ]
    },
    {
      "cell_type": "code",
      "metadata": {
        "id": "LiF0cETrSiA-"
      },
      "source": [
        "temp = df['t2m'][:,0,0,0]-273.15"
      ],
      "execution_count": 455,
      "outputs": []
    },
    {
      "cell_type": "markdown",
      "metadata": {
        "id": "55w3GiSf2fU_"
      },
      "source": [
        "> Masked arrays are arrays that may have missing or invalid entries. The numpy.ma module provides a nearly work-alike replacement for numpy that supports data arrays with masks.\n",
        "\n"
      ]
    },
    {
      "cell_type": "code",
      "metadata": {
        "colab": {
          "base_uri": "https://localhost:8080/"
        },
        "id": "MG4oMJ7LAGWa",
        "outputId": "51bf9862-2542-4c4f-fc4e-fd2f2aee1bad"
      },
      "source": [
        "temp "
      ],
      "execution_count": 456,
      "outputs": [
        {
          "output_type": "execute_result",
          "data": {
            "text/plain": [
              "masked_array(data=[-0.3391920819591405, -0.4932865862010658,\n",
              "                   -0.36627145090540125, ..., --, --, --],\n",
              "             mask=[False, False, False, ...,  True,  True,  True],\n",
              "       fill_value=-32767)"
            ]
          },
          "metadata": {
            "tags": []
          },
          "execution_count": 456
        }
      ]
    },
    {
      "cell_type": "markdown",
      "metadata": {
        "id": "Zf99GruZ3Jde"
      },
      "source": [
        " The array is masked, filled with -32767 for the missing values, mask tells us where is that happeneing."
      ]
    },
    {
      "cell_type": "code",
      "metadata": {
        "colab": {
          "base_uri": "https://localhost:8080/"
        },
        "id": "2OYt2iuGHaTQ",
        "outputId": "a2d3bc17-9b68-4b0f-96da-85ed12e7b855"
      },
      "source": [
        "temp.data "
      ],
      "execution_count": 457,
      "outputs": [
        {
          "output_type": "execute_result",
          "data": {
            "text/plain": [
              "array([-3.39192082e-01, -4.93286586e-01, -3.66271451e-01, ...,\n",
              "       -3.27670000e+04, -3.27670000e+04, -3.27670000e+04])"
            ]
          },
          "metadata": {
            "tags": []
          },
          "execution_count": 457
        }
      ]
    },
    {
      "cell_type": "code",
      "metadata": {
        "colab": {
          "base_uri": "https://localhost:8080/"
        },
        "id": "aSdpaEECGFIJ",
        "outputId": "0f44e64b-9449-4d31-ec39-1f2d78245eb5"
      },
      "source": [
        "temp.shape"
      ],
      "execution_count": 458,
      "outputs": [
        {
          "output_type": "execute_result",
          "data": {
            "text/plain": [
              "(87672,)"
            ]
          },
          "metadata": {
            "tags": []
          },
          "execution_count": 458
        }
      ]
    },
    {
      "cell_type": "code",
      "metadata": {
        "colab": {
          "base_uri": "https://localhost:8080/"
        },
        "id": "7cTEcw36GPAJ",
        "outputId": "009c551e-f7fd-4108-9675-f2420b6682ed"
      },
      "source": [
        "temp.mask"
      ],
      "execution_count": 459,
      "outputs": [
        {
          "output_type": "execute_result",
          "data": {
            "text/plain": [
              "array([False, False, False, ...,  True,  True,  True])"
            ]
          },
          "metadata": {
            "tags": []
          },
          "execution_count": 459
        }
      ]
    },
    {
      "cell_type": "markdown",
      "metadata": {
        "id": "DiOFH3vFDXbJ"
      },
      "source": [
        "## Rmoving masked values."
      ]
    },
    {
      "cell_type": "markdown",
      "metadata": {
        "id": "4AiZrrg4V7b-"
      },
      "source": [
        "First we check if the masked values are continuous or not."
      ]
    },
    {
      "cell_type": "code",
      "metadata": {
        "id": "A0Z4Ab1_V6oi"
      },
      "source": [
        "missing = np.where(temp.mask == True)"
      ],
      "execution_count": 460,
      "outputs": []
    },
    {
      "cell_type": "code",
      "metadata": {
        "colab": {
          "base_uri": "https://localhost:8080/"
        },
        "id": "s6BoZ-2nWvfg",
        "outputId": "bb27725e-bb40-43f4-86e6-a48b141a6a60"
      },
      "source": [
        "missing[0][0] # The missing data is infact continuous so our time series is not broken anywhere"
      ],
      "execution_count": 461,
      "outputs": [
        {
          "output_type": "execute_result",
          "data": {
            "text/plain": [
              "86928"
            ]
          },
          "metadata": {
            "tags": []
          },
          "execution_count": 461
        }
      ]
    },
    {
      "cell_type": "code",
      "metadata": {
        "id": "tLDymdf7HApc"
      },
      "source": [
        "temp = temp[~temp.mask] #use the inverse of the mask as an index."
      ],
      "execution_count": 462,
      "outputs": []
    },
    {
      "cell_type": "code",
      "metadata": {
        "colab": {
          "base_uri": "https://localhost:8080/"
        },
        "id": "9yijNfMlHQnr",
        "outputId": "ec7adde1-d2f0-44af-efbf-2d57dede6977"
      },
      "source": [
        "temp.shape # This is a continuous time series for temperature."
      ],
      "execution_count": 463,
      "outputs": [
        {
          "output_type": "execute_result",
          "data": {
            "text/plain": [
              "(86928,)"
            ]
          },
          "metadata": {
            "tags": []
          },
          "execution_count": 463
        }
      ]
    },
    {
      "cell_type": "markdown",
      "metadata": {
        "id": "vGfNPxwNc0Kj"
      },
      "source": [
        "Reducing time seris to match with it"
      ]
    },
    {
      "cell_type": "code",
      "metadata": {
        "id": "W6502fRXc7mZ"
      },
      "source": [
        "time = time[:86928]"
      ],
      "execution_count": 464,
      "outputs": []
    },
    {
      "cell_type": "code",
      "metadata": {
        "colab": {
          "base_uri": "https://localhost:8080/"
        },
        "id": "W9rHjMAKdLWo",
        "outputId": "8228e6e3-14a8-48d4-cccb-adb66037fa23"
      },
      "source": [
        "time.shape"
      ],
      "execution_count": 465,
      "outputs": [
        {
          "output_type": "execute_result",
          "data": {
            "text/plain": [
              "(86928,)"
            ]
          },
          "metadata": {
            "tags": []
          },
          "execution_count": 465
        }
      ]
    },
    {
      "cell_type": "markdown",
      "metadata": {
        "id": "-ZWEvZ-0c84R"
      },
      "source": [
        "Find the unique value in numpy"
      ]
    },
    {
      "cell_type": "code",
      "metadata": {
        "colab": {
          "base_uri": "https://localhost:8080/"
        },
        "id": "F14kRU1KVOZs",
        "outputId": "75cd7500-e8af-4abb-f876-39c42a9a2c4a"
      },
      "source": [
        "np.unique(temp.mask) #All values are genuine now"
      ],
      "execution_count": 466,
      "outputs": [
        {
          "output_type": "execute_result",
          "data": {
            "text/plain": [
              "array([False])"
            ]
          },
          "metadata": {
            "tags": []
          },
          "execution_count": 466
        }
      ]
    },
    {
      "cell_type": "markdown",
      "metadata": {
        "id": "Nzm0Kd4eDnTG"
      },
      "source": [
        "## Plot the temperature over time."
      ]
    },
    {
      "cell_type": "markdown",
      "metadata": {
        "id": "XvpsqcxKeF-W"
      },
      "source": [
        "Plot the time series against time\n",
        "\n",
        "\n"
      ]
    },
    {
      "cell_type": "code",
      "metadata": {
        "id": "vsTvefA-s0No"
      },
      "source": [
        "number_of_years = (time-973008)/8760 "
      ],
      "execution_count": 467,
      "outputs": []
    },
    {
      "cell_type": "markdown",
      "metadata": {
        "id": "iRxAfyoqDKFr"
      },
      "source": [
        "Temperature plot over approximately 10 years"
      ]
    },
    {
      "cell_type": "code",
      "metadata": {
        "colab": {
          "base_uri": "https://localhost:8080/",
          "height": 282
        },
        "id": "hX025uRYeFl5",
        "outputId": "bcbca36f-d1a7-47ee-f217-5f16bc80c9ac"
      },
      "source": [
        "plt.plot(number_of_years,temp)"
      ],
      "execution_count": 468,
      "outputs": [
        {
          "output_type": "execute_result",
          "data": {
            "text/plain": [
              "[<matplotlib.lines.Line2D at 0x7feedf03dad0>]"
            ]
          },
          "metadata": {
            "tags": []
          },
          "execution_count": 468
        },
        {
          "output_type": "display_data",
          "data": {
            "image/png": "[encoded data removed]",
            "text/plain": [
              "<Figure size 432x288 with 1 Axes>"
            ]
          },
          "metadata": {
            "tags": [],
            "needs_background": "light"
          }
        }
      ]
    },
    {
      "cell_type": "markdown",
      "metadata": {
        "id": "0EW6HY0mzXQT"
      },
      "source": [
        "## Standardize the temperature"
      ]
    },
    {
      "cell_type": "code",
      "metadata": {
        "colab": {
          "base_uri": "https://localhost:8080/"
        },
        "id": "4rXEOPUetmhQ",
        "outputId": "a8862a86-ad98-415a-ca50-03f0c0b40aa5"
      },
      "source": [
        "temp.shape"
      ],
      "execution_count": 469,
      "outputs": [
        {
          "output_type": "execute_result",
          "data": {
            "text/plain": [
              "(86928,)"
            ]
          },
          "metadata": {
            "tags": []
          },
          "execution_count": 469
        }
      ]
    },
    {
      "cell_type": "code",
      "metadata": {
        "id": "-eP9aC_Mt7G3",
        "colab": {
          "base_uri": "https://localhost:8080/"
        },
        "outputId": "29ee864a-20ab-4d22-a477-d0fb1d61d3fd"
      },
      "source": [
        "temp.mean()"
      ],
      "execution_count": 470,
      "outputs": [
        {
          "output_type": "execute_result",
          "data": {
            "text/plain": [
              "5.57589982331033"
            ]
          },
          "metadata": {
            "tags": []
          },
          "execution_count": 470
        }
      ]
    },
    {
      "cell_type": "code",
      "metadata": {
        "colab": {
          "base_uri": "https://localhost:8080/"
        },
        "id": "hqjm3Klsrh10",
        "outputId": "43ed6f5b-a7cf-492a-9eee-3a6fe23b9f8e"
      },
      "source": [
        "temp.std()"
      ],
      "execution_count": 471,
      "outputs": [
        {
          "output_type": "execute_result",
          "data": {
            "text/plain": [
              "7.754305350561417"
            ]
          },
          "metadata": {
            "tags": []
          },
          "execution_count": 471
        }
      ]
    },
    {
      "cell_type": "code",
      "metadata": {
        "colab": {
          "base_uri": "https://localhost:8080/",
          "height": 367
        },
        "id": "xeYvQMjFrmtI",
        "outputId": "9506f32e-02e9-45ed-cb38-600f935cec5e"
      },
      "source": [
        "plt.hist(temp)"
      ],
      "execution_count": 472,
      "outputs": [
        {
          "output_type": "execute_result",
          "data": {
            "text/plain": [
              "(array([  297.,  2100.,  6706., 15629., 17035., 14113., 12733., 11795.,\n",
              "         5601.,   919.]),\n",
              " array([-16.62485352, -12.39963379,  -8.17441406,  -3.94919434,\n",
              "          0.27602539,   4.50124512,   8.72646484,  12.95168457,\n",
              "         17.1769043 ,  21.40212402,  25.62734375]),\n",
              " <a list of 10 Patch objects>)"
            ]
          },
          "metadata": {
            "tags": []
          },
          "execution_count": 472
        },
        {
          "output_type": "display_data",
          "data": {
            "image/png": "[encoded data removed]",
            "text/plain": [
              "<Figure size 432x288 with 1 Axes>"
            ]
          },
          "metadata": {
            "tags": [],
            "needs_background": "light"
          }
        }
      ]
    },
    {
      "cell_type": "code",
      "metadata": {
        "id": "ZE61KVZrrxc0"
      },
      "source": [
        "#temp = (temp - temp.mean())/temp.std()"
      ],
      "execution_count": 473,
      "outputs": []
    },
    {
      "cell_type": "code",
      "metadata": {
        "colab": {
          "base_uri": "https://localhost:8080/"
        },
        "id": "7cdy_DhUELGl",
        "outputId": "42658b7c-d54d-45fc-b703-b148f7bbf340"
      },
      "source": [
        "temp.mean()"
      ],
      "execution_count": 474,
      "outputs": [
        {
          "output_type": "execute_result",
          "data": {
            "text/plain": [
              "5.57589982331033"
            ]
          },
          "metadata": {
            "tags": []
          },
          "execution_count": 474
        }
      ]
    },
    {
      "cell_type": "code",
      "metadata": {
        "colab": {
          "base_uri": "https://localhost:8080/"
        },
        "id": "GNh-ICRmENdT",
        "outputId": "b12fdf4c-b2f9-4b15-98c6-35bc2615673b"
      },
      "source": [
        "temp.std()"
      ],
      "execution_count": 475,
      "outputs": [
        {
          "output_type": "execute_result",
          "data": {
            "text/plain": [
              "7.754305350561417"
            ]
          },
          "metadata": {
            "tags": []
          },
          "execution_count": 475
        }
      ]
    },
    {
      "cell_type": "code",
      "metadata": {
        "id": "otA5KK524DOm",
        "colab": {
          "base_uri": "https://localhost:8080/"
        },
        "outputId": "a67ce67c-307a-4cad-fe32-d85347e9a5cb"
      },
      "source": [
        "temp.max()"
      ],
      "execution_count": 476,
      "outputs": [
        {
          "output_type": "execute_result",
          "data": {
            "text/plain": [
              "25.627343750000023"
            ]
          },
          "metadata": {
            "tags": []
          },
          "execution_count": 476
        }
      ]
    },
    {
      "cell_type": "code",
      "metadata": {
        "colab": {
          "base_uri": "https://localhost:8080/"
        },
        "id": "JqaBoSov1EW_",
        "outputId": "cfa617b1-0237-4310-c27c-5a30df3834dc"
      },
      "source": [
        "temp.min()"
      ],
      "execution_count": 477,
      "outputs": [
        {
          "output_type": "execute_result",
          "data": {
            "text/plain": [
              "-16.624853515624977"
            ]
          },
          "metadata": {
            "tags": []
          },
          "execution_count": 477
        }
      ]
    },
    {
      "cell_type": "markdown",
      "metadata": {
        "id": "UMZUOts7s_ks"
      },
      "source": [
        "## Generate Samples"
      ]
    },
    {
      "cell_type": "markdown",
      "metadata": {
        "id": "00AHc-f4DKue"
      },
      "source": [
        "We will avoid using functions to generate smaples to understand the process."
      ]
    },
    {
      "cell_type": "markdown",
      "metadata": {
        "id": "3A1QkayuDsw1"
      },
      "source": [
        "We want the prediction model to predict the next 6 hr of data with previous 6 hrs of temp data available."
      ]
    },
    {
      "cell_type": "code",
      "metadata": {
        "colab": {
          "base_uri": "https://localhost:8080/"
        },
        "id": "VsE0ArRFDsQS",
        "outputId": "abc8fd24-9c14-4d24-b577-2d9de4bb78f5"
      },
      "source": [
        "temp[0:6]"
      ],
      "execution_count": 478,
      "outputs": [
        {
          "output_type": "execute_result",
          "data": {
            "text/plain": [
              "masked_array(data=[-0.3391920819591405, -0.4932865862010658,\n",
              "                   -0.36627145090540125, -0.1728473870034577,\n",
              "                   -0.26569093767636787, -0.4346146201507963],\n",
              "             mask=[False, False, False, False, False, False],\n",
              "       fill_value=-32767)"
            ]
          },
          "metadata": {
            "tags": []
          },
          "execution_count": 478
        }
      ]
    },
    {
      "cell_type": "markdown",
      "metadata": {
        "id": "hp5_X5rIbSd7"
      },
      "source": [
        "We make the vectors of size 6"
      ]
    },
    {
      "cell_type": "code",
      "metadata": {
        "id": "0F3XOYBqDaoz"
      },
      "source": [
        "\n"
      ],
      "execution_count": 478,
      "outputs": []
    },
    {
      "cell_type": "code",
      "metadata": {
        "id": "IbsNEq5YGgBC"
      },
      "source": [
        "future = 6\n",
        "past = 24"
      ],
      "execution_count": 479,
      "outputs": []
    },
    {
      "cell_type": "code",
      "metadata": {
        "id": "WrBV39mPGgBL"
      },
      "source": [
        "data = []\n",
        "\n",
        "for i in range(len(temp)- (future + past)  +1):\n",
        "  data.append(temp[i:i+past].data)\n",
        "data  = np.array(data) "
      ],
      "execution_count": 480,
      "outputs": []
    },
    {
      "cell_type": "code",
      "metadata": {
        "id": "IIl-SaeCGgBM"
      },
      "source": [
        "label = []\n",
        "for i in range(len(temp)- (future + past)  +1):\n",
        "  label.append(temp[i+ past:i+past + future].data)\n",
        "\n",
        "label = np.array(label)\n"
      ],
      "execution_count": 481,
      "outputs": []
    },
    {
      "cell_type": "code",
      "metadata": {
        "colab": {
          "base_uri": "https://localhost:8080/"
        },
        "id": "48h9WMgJIPQq",
        "outputId": "6a0a4fc8-cc2b-48bd-86e9-e8b6d0e9a5e0"
      },
      "source": [
        "#no of samples\n",
        "n_dataSample = len(temp)-past-future +1\n",
        "print(n_dataSample)"
      ],
      "execution_count": 482,
      "outputs": [
        {
          "output_type": "stream",
          "text": [
            "86899\n"
          ],
          "name": "stdout"
        }
      ]
    },
    {
      "cell_type": "code",
      "metadata": {
        "colab": {
          "base_uri": "https://localhost:8080/"
        },
        "id": "gFpXn8oMGgBN",
        "outputId": "4a5aee31-a5a4-4836-8cb4-49d90dca234b"
      },
      "source": [
        "data.shape"
      ],
      "execution_count": 483,
      "outputs": [
        {
          "output_type": "execute_result",
          "data": {
            "text/plain": [
              "(86899, 24)"
            ]
          },
          "metadata": {
            "tags": []
          },
          "execution_count": 483
        }
      ]
    },
    {
      "cell_type": "code",
      "metadata": {
        "colab": {
          "base_uri": "https://localhost:8080/"
        },
        "id": "FsEcuwj_GgBP",
        "outputId": "c1293650-547d-4c55-846f-66a80743b516"
      },
      "source": [
        "label.shape"
      ],
      "execution_count": 484,
      "outputs": [
        {
          "output_type": "execute_result",
          "data": {
            "text/plain": [
              "(86899, 6)"
            ]
          },
          "metadata": {
            "tags": []
          },
          "execution_count": 484
        }
      ]
    },
    {
      "cell_type": "markdown",
      "metadata": {
        "id": "WdR0ak8-307l"
      },
      "source": [
        "> Split the samples into train and test data"
      ]
    },
    {
      "cell_type": "code",
      "metadata": {
        "id": "IYqFyO8Wiylk"
      },
      "source": [
        "temp_train_number = np.int(0.8*len(data))"
      ],
      "execution_count": 485,
      "outputs": []
    },
    {
      "cell_type": "code",
      "metadata": {
        "colab": {
          "base_uri": "https://localhost:8080/"
        },
        "id": "rtuZyWlkkGbQ",
        "outputId": "acb84cc1-c0d4-4f94-e553-de27fc66d66b"
      },
      "source": [
        "temp_train_number"
      ],
      "execution_count": 486,
      "outputs": [
        {
          "output_type": "execute_result",
          "data": {
            "text/plain": [
              "69519"
            ]
          },
          "metadata": {
            "tags": []
          },
          "execution_count": 486
        }
      ]
    },
    {
      "cell_type": "code",
      "metadata": {
        "id": "MuC6Bm6ckNG1"
      },
      "source": [
        "train_temp = data[:temp_train_number]"
      ],
      "execution_count": 487,
      "outputs": []
    },
    {
      "cell_type": "code",
      "metadata": {
        "colab": {
          "base_uri": "https://localhost:8080/"
        },
        "id": "T22dohhlkWRL",
        "outputId": "87a4c6ae-3ccd-4b3c-b714-a6b6d62b9722"
      },
      "source": [
        "train_temp.shape"
      ],
      "execution_count": 488,
      "outputs": [
        {
          "output_type": "execute_result",
          "data": {
            "text/plain": [
              "(69519, 24)"
            ]
          },
          "metadata": {
            "tags": []
          },
          "execution_count": 488
        }
      ]
    },
    {
      "cell_type": "code",
      "metadata": {
        "colab": {
          "base_uri": "https://localhost:8080/"
        },
        "id": "_mecrf3Olbw3",
        "outputId": "688e49b2-63f8-4c0a-8805-6dd7f66bf805"
      },
      "source": [
        "train_temp[temp_train_number-1]"
      ],
      "execution_count": 489,
      "outputs": [
        {
          "output_type": "execute_result",
          "data": {
            "text/plain": [
              "array([-3.81502251, -3.31792267, -3.32501488, -2.65383338, -2.5977404 ,\n",
              "       -2.45525134, -2.08452189, -2.08903511, -2.09096935, -1.99554682,\n",
              "       -1.93300637, -1.8537025 , -1.38819526, -1.04003194, -0.77310673,\n",
              "       -0.56485349, -0.4797469 , -0.47200994, -0.68284217, -0.84338414,\n",
              "       -1.15157315, -1.24312721, -1.32629955, -1.44493298])"
            ]
          },
          "metadata": {
            "tags": []
          },
          "execution_count": 489
        }
      ]
    },
    {
      "cell_type": "code",
      "metadata": {
        "id": "f1Xl_Jk8kawN"
      },
      "source": [
        "train_label = label[:temp_train_number]"
      ],
      "execution_count": 490,
      "outputs": []
    },
    {
      "cell_type": "code",
      "metadata": {
        "colab": {
          "base_uri": "https://localhost:8080/"
        },
        "id": "czfweIwskgbU",
        "outputId": "12f1129c-c306-46f7-d874-5474b5bf39a8"
      },
      "source": [
        "train_label.shape"
      ],
      "execution_count": 491,
      "outputs": [
        {
          "output_type": "execute_result",
          "data": {
            "text/plain": [
              "(69519, 6)"
            ]
          },
          "metadata": {
            "tags": []
          },
          "execution_count": 491
        }
      ]
    },
    {
      "cell_type": "code",
      "metadata": {
        "id": "swF0pfs_kjJa"
      },
      "source": [
        "test_temp = data[temp_train_number:]"
      ],
      "execution_count": 492,
      "outputs": []
    },
    {
      "cell_type": "code",
      "metadata": {
        "id": "Ao5XV2YYlkm_"
      },
      "source": [
        "test_label = label[temp_train_number:]"
      ],
      "execution_count": 493,
      "outputs": []
    },
    {
      "cell_type": "code",
      "metadata": {
        "colab": {
          "base_uri": "https://localhost:8080/"
        },
        "id": "JfursmMulpap",
        "outputId": "535fd19a-1dad-4199-a4b8-bc67bb5756a9"
      },
      "source": [
        "print(test_label.shape)\n",
        "print(test_temp.shape)"
      ],
      "execution_count": 494,
      "outputs": [
        {
          "output_type": "stream",
          "text": [
            "(17380, 6)\n",
            "(17380, 24)\n"
          ],
          "name": "stdout"
        }
      ]
    },
    {
      "cell_type": "code",
      "metadata": {
        "colab": {
          "base_uri": "https://localhost:8080/"
        },
        "id": "UFC8ixk6lZ9G",
        "outputId": "4365e2dd-94f7-4d18-be37-57f81b95ec7d"
      },
      "source": [
        "test_temp[1].shape"
      ],
      "execution_count": 495,
      "outputs": [
        {
          "output_type": "execute_result",
          "data": {
            "text/plain": [
              "(24,)"
            ]
          },
          "metadata": {
            "tags": []
          },
          "execution_count": 495
        }
      ]
    },
    {
      "cell_type": "markdown",
      "metadata": {
        "id": "sgyLZVdnGtX5"
      },
      "source": [
        "#  Persistence Model"
      ]
    },
    {
      "cell_type": "code",
      "metadata": {
        "id": "GbP98gYzGw8K"
      },
      "source": [
        "def model_persistence(test_temp_entry):\n",
        "  arr = np.full((future,),test_temp_entry[past-1])\n",
        "\n",
        "  return arr"
      ],
      "execution_count": 496,
      "outputs": []
    },
    {
      "cell_type": "code",
      "metadata": {
        "colab": {
          "base_uri": "https://localhost:8080/"
        },
        "id": "SSDmsKs8IAF6",
        "outputId": "6993d6fa-1f1d-491a-e73f-d52ea94e3687"
      },
      "source": [
        "test_temp[1]"
      ],
      "execution_count": 497,
      "outputs": [
        {
          "output_type": "execute_result",
          "data": {
            "text/plain": [
              "array([-3.32501488, -2.65383338, -2.5977404 , -2.45525134, -2.08452189,\n",
              "       -2.08903511, -2.09096935, -1.99554682, -1.93300637, -1.8537025 ,\n",
              "       -1.38819526, -1.04003194, -0.77310673, -0.56485349, -0.4797469 ,\n",
              "       -0.47200994, -0.68284217, -0.84338414, -1.15157315, -1.24312721,\n",
              "       -1.32629955, -1.44493298, -1.40689291, -1.32952329])"
            ]
          },
          "metadata": {
            "tags": []
          },
          "execution_count": 497
        }
      ]
    },
    {
      "cell_type": "code",
      "metadata": {
        "colab": {
          "base_uri": "https://localhost:8080/"
        },
        "id": "g_ukdfIJHLwC",
        "outputId": "86351aac-f11d-46b6-af4f-424e5be77f1c"
      },
      "source": [
        "model_persistence(test_temp[1])"
      ],
      "execution_count": 498,
      "outputs": [
        {
          "output_type": "execute_result",
          "data": {
            "text/plain": [
              "array([-1.32952329, -1.32952329, -1.32952329, -1.32952329, -1.32952329,\n",
              "       -1.32952329])"
            ]
          },
          "metadata": {
            "tags": []
          },
          "execution_count": 498
        }
      ]
    },
    {
      "cell_type": "code",
      "metadata": {
        "id": "uXDZvx9yIh4c"
      },
      "source": [
        "def y_persis(test_temp):\n",
        "  arr = np.empty(test_label.shape)\n",
        "  for i in range(len(test_temp)):\n",
        "    arr[i] = model_persistence(test_temp[i])\n",
        "  return arr    "
      ],
      "execution_count": 499,
      "outputs": []
    },
    {
      "cell_type": "code",
      "metadata": {
        "colab": {
          "base_uri": "https://localhost:8080/"
        },
        "id": "ak5iT6eHLWfS",
        "outputId": "b3170216-3a24-4148-daa5-cc966b1f85a1"
      },
      "source": [
        "test_temp.shape"
      ],
      "execution_count": 500,
      "outputs": [
        {
          "output_type": "execute_result",
          "data": {
            "text/plain": [
              "(17380, 24)"
            ]
          },
          "metadata": {
            "tags": []
          },
          "execution_count": 500
        }
      ]
    },
    {
      "cell_type": "code",
      "metadata": {
        "id": "PsRl5gc_JvRR"
      },
      "source": [
        "y_persistence = y_persis(test_temp)"
      ],
      "execution_count": 501,
      "outputs": []
    },
    {
      "cell_type": "markdown",
      "metadata": {
        "id": "N860J48I-QH_"
      },
      "source": [
        "### MSE_Persistence"
      ]
    },
    {
      "cell_type": "code",
      "metadata": {
        "id": "xDZpuZM9Pb7B"
      },
      "source": [
        "from sklearn import linear_model\n",
        "from sklearn.metrics import mean_squared_error, r2_score\n",
        "from sklearn.model_selection import train_test_split"
      ],
      "execution_count": 502,
      "outputs": []
    },
    {
      "cell_type": "code",
      "metadata": {
        "colab": {
          "base_uri": "https://localhost:8080/"
        },
        "id": "KU8c5Cm0PVjG",
        "outputId": "957d1be7-0fac-4e57-d6f8-9241862f0d63"
      },
      "source": [
        "# The mean squared error\n",
        "print('Mean squared error: %.2f'\n",
        "      % mean_squared_error(test_label, y_persistence))\n",
        "print('Coefficient of determination: %.2f'\n",
        "      % r2_score(test_label, y_persistence))"
      ],
      "execution_count": 503,
      "outputs": [
        {
          "output_type": "stream",
          "text": [
            "Mean squared error: 2.91\n",
            "Coefficient of determination: 0.95\n"
          ],
          "name": "stdout"
        }
      ]
    },
    {
      "cell_type": "markdown",
      "metadata": {
        "id": "hBr8-kEM-bd0"
      },
      "source": [
        "### Plot the temp"
      ]
    },
    {
      "cell_type": "code",
      "metadata": {
        "colab": {
          "base_uri": "https://localhost:8080/",
          "height": 282
        },
        "id": "s83P6z6OPPoN",
        "outputId": "8ff0a1e2-4796-4d0b-8136-291dec8ad5cf"
      },
      "source": [
        "z = np.linspace(past, past+future,future)\n",
        "plt.plot(test_temp[101])\n",
        "plt.scatter(z,y_persistence[101])\n",
        "plt.scatter(z,test_label[101])"
      ],
      "execution_count": 504,
      "outputs": [
        {
          "output_type": "execute_result",
          "data": {
            "text/plain": [
              "<matplotlib.collections.PathCollection at 0x7feee0daed90>"
            ]
          },
          "metadata": {
            "tags": []
          },
          "execution_count": 504
        },
        {
          "output_type": "display_data",
          "data": {
            "image/png": "[encoded data removed]",
            "text/plain": [
              "<Figure size 432x288 with 1 Axes>"
            ]
          },
          "metadata": {
            "tags": [],
            "needs_background": "light"
          }
        }
      ]
    },
    {
      "cell_type": "markdown",
      "metadata": {
        "id": "aQelxbdFB5yc"
      },
      "source": [
        "# Linear regression using Sklearn"
      ]
    },
    {
      "cell_type": "code",
      "metadata": {
        "id": "Y_YDixjmlab3"
      },
      "source": [
        "from sklearn import linear_model\n",
        "from sklearn.metrics import mean_squared_error, r2_score\n",
        "from sklearn.model_selection import train_test_split"
      ],
      "execution_count": 505,
      "outputs": []
    },
    {
      "cell_type": "code",
      "metadata": {
        "id": "PHyp_49zlab6"
      },
      "source": [
        "linear_regression = linear_model.LinearRegression()"
      ],
      "execution_count": 506,
      "outputs": []
    },
    {
      "cell_type": "code",
      "metadata": {
        "colab": {
          "base_uri": "https://localhost:8080/"
        },
        "id": "AXnSmakPlab6",
        "outputId": "284174da-aa23-4624-b464-3298a1919661"
      },
      "source": [
        "linear_regression.fit(train_temp, train_label)"
      ],
      "execution_count": 507,
      "outputs": [
        {
          "output_type": "execute_result",
          "data": {
            "text/plain": [
              "LinearRegression(copy_X=True, fit_intercept=True, n_jobs=None, normalize=False)"
            ]
          },
          "metadata": {
            "tags": []
          },
          "execution_count": 507
        }
      ]
    },
    {
      "cell_type": "code",
      "metadata": {
        "id": "sbI3PsBqlab7"
      },
      "source": [
        "predict_label = linear_regression.predict(test_temp)"
      ],
      "execution_count": 508,
      "outputs": []
    },
    {
      "cell_type": "markdown",
      "metadata": {
        "id": "OiyQTdng-lZV"
      },
      "source": [
        "### MSE_Linear_Regression"
      ]
    },
    {
      "cell_type": "code",
      "metadata": {
        "colab": {
          "base_uri": "https://localhost:8080/"
        },
        "id": "8bSydjDslab7",
        "outputId": "0d9d06bf-8f8b-496e-87cf-6598814ad1f7"
      },
      "source": [
        "# The mean squared error\n",
        "print('Mean squared error: %.2f'\n",
        "      % mean_squared_error(test_label, predict_label))\n",
        "# The coefficient of determination: 1 is perfect prediction\n",
        "print('Coefficient of determination: %.2f'\n",
        "      % r2_score(test_label, predict_label))"
      ],
      "execution_count": 509,
      "outputs": [
        {
          "output_type": "stream",
          "text": [
            "Mean squared error: 1.81\n",
            "Coefficient of determination: 0.97\n"
          ],
          "name": "stdout"
        }
      ]
    },
    {
      "cell_type": "code",
      "metadata": {
        "colab": {
          "base_uri": "https://localhost:8080/",
          "height": 282
        },
        "id": "cA28QS0Klab8",
        "outputId": "8b4d012b-ae61-4a04-f803-e70551bd799b"
      },
      "source": [
        "z = np.linspace(past, past+future,future)\n",
        "plt.plot(test_temp[101])\n",
        "plt.scatter(z,predict_label[101])\n",
        "plt.scatter(z,test_label[101])"
      ],
      "execution_count": 510,
      "outputs": [
        {
          "output_type": "execute_result",
          "data": {
            "text/plain": [
              "<matplotlib.collections.PathCollection at 0x7feedc580110>"
            ]
          },
          "metadata": {
            "tags": []
          },
          "execution_count": 510
        },
        {
          "output_type": "display_data",
          "data": {
            "image/png": "[encoded data removed]",
            "text/plain": [
              "<Figure size 432x288 with 1 Axes>"
            ]
          },
          "metadata": {
            "tags": [],
            "needs_background": "light"
          }
        }
      ]
    },
    {
      "cell_type": "markdown",
      "metadata": {
        "id": "xzKXduve-sxi"
      },
      "source": [
        "# Neural Network"
      ]
    },
    {
      "cell_type": "markdown",
      "metadata": {
        "id": "iU2Yf8c-lHCh"
      },
      "source": [
        "## Normalize the data"
      ]
    },
    {
      "cell_type": "code",
      "metadata": {
        "id": "woziVs3h1zuJ"
      },
      "source": [
        "train_temp_max = train_temp.max()\n",
        "train_temp_min = train_temp.min()\n",
        "\n",
        "train_temp_norm = (train_temp- train_temp_min)/(train_temp_max-train_temp_min)\n",
        "test_temp_norm = (test_temp- train_temp_min)/(train_temp_max-train_temp_min)\n",
        "\n",
        "train_label_norm = (train_label- train_temp_min)/(train_temp_max-train_temp_min)\n",
        "test_label_norm = (test_label- train_temp_min)/(train_temp_max-train_temp_min)\n",
        "\n"
      ],
      "execution_count": 511,
      "outputs": []
    },
    {
      "cell_type": "code",
      "metadata": {
        "colab": {
          "base_uri": "https://localhost:8080/"
        },
        "id": "qGtae2jG2zLB",
        "outputId": "d8357968-62ed-4c11-d0e7-9a0bf18e3ec0"
      },
      "source": [
        "train_temp.max()"
      ],
      "execution_count": 512,
      "outputs": [
        {
          "output_type": "execute_result",
          "data": {
            "text/plain": [
              "25.627343750000023"
            ]
          },
          "metadata": {
            "tags": []
          },
          "execution_count": 512
        }
      ]
    },
    {
      "cell_type": "code",
      "metadata": {
        "colab": {
          "base_uri": "https://localhost:8080/"
        },
        "id": "_4y5SDPP23gB",
        "outputId": "cea95cb5-c6aa-44b8-adaf-b8f0b2c972a6"
      },
      "source": [
        "train_label.min()"
      ],
      "execution_count": 513,
      "outputs": [
        {
          "output_type": "execute_result",
          "data": {
            "text/plain": [
              "-16.624853515624977"
            ]
          },
          "metadata": {
            "tags": []
          },
          "execution_count": 513
        }
      ]
    },
    {
      "cell_type": "code",
      "metadata": {
        "id": "1GIhFFxSxtWu"
      },
      "source": [
        "#inp = tf.keras.layers.Input(shape=(6,))     # Sequential api\n",
        "#b = tf.keras.layers.Dense(128,activation='relu')(inp)\n",
        "##b = tf.keras.layers.Dense(128,activation='relu')(inp)\n",
        "#b = tf.keras.layers.Dense(128,activation='relu')(inp)\n",
        "#out = tf.keras.layers.Dense(6, activation='linear')(b)\n",
        "\n",
        "#model = tf.keras.models.Model(inp,out)\n",
        "#model.summary()"
      ],
      "execution_count": 514,
      "outputs": []
    },
    {
      "cell_type": "code",
      "metadata": {
        "colab": {
          "base_uri": "https://localhost:8080/",
          "height": 282
        },
        "id": "VFqROSNq7qoB",
        "outputId": "1a0c86b2-bbe1-4fb4-cd73-23a2a3e3c04b"
      },
      "source": [
        "axis = np.linspace(0,1999,2000)\n",
        "axisy = temp[0:2000]\n",
        "plt.scatter(axis,axisy)"
      ],
      "execution_count": 515,
      "outputs": [
        {
          "output_type": "execute_result",
          "data": {
            "text/plain": [
              "<matplotlib.collections.PathCollection at 0x7feee0feb190>"
            ]
          },
          "metadata": {
            "tags": []
          },
          "execution_count": 515
        },
        {
          "output_type": "display_data",
          "data": {
            "image/png": "[encoded data removed]",
            "text/plain": [
              "<Figure size 432x288 with 1 Axes>"
            ]
          },
          "metadata": {
            "tags": [],
            "needs_background": "light"
          }
        }
      ]
    },
    {
      "cell_type": "markdown",
      "metadata": {
        "id": "_p_eF52cMIUX"
      },
      "source": [
        "## Model"
      ]
    },
    {
      "cell_type": "code",
      "metadata": {
        "colab": {
          "base_uri": "https://localhost:8080/"
        },
        "id": "ANZh00SVFVR8",
        "outputId": "81e93448-d9e0-4ea3-e724-ad13f27426e9"
      },
      "source": [
        "model = tf.keras.models.Sequential([\n",
        "  \n",
        "  tf.keras.layers.Input(shape=(past,)),\n",
        "  tf.keras.layers.Dense(128,activation='relu'),\n",
        "  tf.keras.layers.Dense(128,activation='relu'),\n",
        "  tf.keras.layers.Dense(128,activation='relu'),\n",
        "  tf.keras.layers.Dense(future, activation='linear')\n",
        "])\n",
        "\n",
        "# Compile the model, i.e. associate a loss function and the chosen variant of GD\n",
        "model.compile(\n",
        "    loss=tf.losses.MeanSquaredError(),\n",
        "                optimizer=tf.optimizers.Adam(),\n",
        "                metrics=[tf.metrics.MeanAbsoluteError(),'accuracy']\n",
        ")\n",
        "\n",
        "# Summary of the model\n",
        "model.summary()"
      ],
      "execution_count": 516,
      "outputs": [
        {
          "output_type": "stream",
          "text": [
            "Model: \"sequential_13\"\n",
            "_________________________________________________________________\n",
            "Layer (type)                 Output Shape              Param #   \n",
            "=================================================================\n",
            "dense_46 (Dense)             (None, 128)               3200      \n",
            "_________________________________________________________________\n",
            "dense_47 (Dense)             (None, 128)               16512     \n",
            "_________________________________________________________________\n",
            "dense_48 (Dense)             (None, 128)               16512     \n",
            "_________________________________________________________________\n",
            "dense_49 (Dense)             (None, 6)                 774       \n",
            "=================================================================\n",
            "Total params: 36,998\n",
            "Trainable params: 36,998\n",
            "Non-trainable params: 0\n",
            "_________________________________________________________________\n"
          ],
          "name": "stdout"
        }
      ]
    },
    {
      "cell_type": "code",
      "metadata": {
        "id": "ZXboj3oyFAa5"
      },
      "source": [
        "test = test_temp_norm, test_label_norm"
      ],
      "execution_count": 517,
      "outputs": []
    },
    {
      "cell_type": "code",
      "metadata": {
        "colab": {
          "base_uri": "https://localhost:8080/"
        },
        "id": "cgHmdimPHWWn",
        "outputId": "6eb414e8-4691-4d1a-87c1-b466bbdc3a77"
      },
      "source": [
        "hist = model.fit(train_temp_norm,train_label_norm ,batch_size=64, epochs=40,callbacks = tf.keras.callbacks.EarlyStopping(patience=5), validation_data= test)"
      ],
      "execution_count": 518,
      "outputs": [
        {
          "output_type": "stream",
          "text": [
            "Epoch 1/40\n",
            "1087/1087 [==============================] - 3s 2ms/step - loss: 0.0092 - mean_absolute_error: 0.0508 - accuracy: 0.3676 - val_loss: 0.0012 - val_mean_absolute_error: 0.0244 - val_accuracy: 0.4210\n",
            "Epoch 2/40\n",
            "1087/1087 [==============================] - 3s 2ms/step - loss: 0.0013 - mean_absolute_error: 0.0256 - accuracy: 0.4425 - val_loss: 0.0013 - val_mean_absolute_error: 0.0274 - val_accuracy: 0.5400\n",
            "Epoch 3/40\n",
            "1087/1087 [==============================] - 2s 2ms/step - loss: 0.0012 - mean_absolute_error: 0.0251 - accuracy: 0.4514 - val_loss: 0.0014 - val_mean_absolute_error: 0.0276 - val_accuracy: 0.4438\n",
            "Epoch 4/40\n",
            "1087/1087 [==============================] - 2s 2ms/step - loss: 0.0012 - mean_absolute_error: 0.0245 - accuracy: 0.4583 - val_loss: 9.8138e-04 - val_mean_absolute_error: 0.0217 - val_accuracy: 0.5417\n",
            "Epoch 5/40\n",
            "1087/1087 [==============================] - 3s 2ms/step - loss: 0.0012 - mean_absolute_error: 0.0240 - accuracy: 0.4594 - val_loss: 9.8996e-04 - val_mean_absolute_error: 0.0217 - val_accuracy: 0.3818\n",
            "Epoch 6/40\n",
            "1087/1087 [==============================] - 3s 2ms/step - loss: 0.0011 - mean_absolute_error: 0.0237 - accuracy: 0.4570 - val_loss: 0.0014 - val_mean_absolute_error: 0.0275 - val_accuracy: 0.5535\n",
            "Epoch 7/40\n",
            "1087/1087 [==============================] - 3s 2ms/step - loss: 0.0011 - mean_absolute_error: 0.0238 - accuracy: 0.4588 - val_loss: 0.0010 - val_mean_absolute_error: 0.0220 - val_accuracy: 0.5014\n",
            "Epoch 8/40\n",
            "1087/1087 [==============================] - 3s 2ms/step - loss: 0.0011 - mean_absolute_error: 0.0237 - accuracy: 0.4683 - val_loss: 9.8585e-04 - val_mean_absolute_error: 0.0220 - val_accuracy: 0.5121\n",
            "Epoch 9/40\n",
            "1087/1087 [==============================] - 3s 2ms/step - loss: 0.0011 - mean_absolute_error: 0.0232 - accuracy: 0.4707 - val_loss: 0.0010 - val_mean_absolute_error: 0.0225 - val_accuracy: 0.5139\n"
          ],
          "name": "stdout"
        }
      ]
    },
    {
      "cell_type": "code",
      "metadata": {
        "colab": {
          "base_uri": "https://localhost:8080/"
        },
        "id": "tBA6pHJtzE4X",
        "outputId": "18213386-c692-4828-d3e5-4fd260871f81"
      },
      "source": [
        "test_temp"
      ],
      "execution_count": 519,
      "outputs": [
        {
          "output_type": "execute_result",
          "data": {
            "text/plain": [
              "array([[-3.31792267, -3.32501488, -2.65383338, ..., -1.32629955,\n",
              "        -1.44493298, -1.40689291],\n",
              "       [-3.32501488, -2.65383338, -2.5977404 , ..., -1.44493298,\n",
              "        -1.40689291, -1.32952329],\n",
              "       [-2.65383338, -2.5977404 , -2.45525134, ..., -1.40689291,\n",
              "        -1.32952329, -1.26891708],\n",
              "       ...,\n",
              "       [ 6.44612408,  6.50479605,  6.37262294, ...,  2.18370246,\n",
              "         2.84908124,  3.12825664],\n",
              "       [ 6.50479605,  6.37262294,  6.03413082, ...,  2.84908124,\n",
              "         3.12825664,  3.38099741],\n",
              "       [ 6.37262294,  6.03413082,  4.70337326, ...,  3.12825664,\n",
              "         3.38099741,  3.79363542]])"
            ]
          },
          "metadata": {
            "tags": []
          },
          "execution_count": 519
        }
      ]
    },
    {
      "cell_type": "code",
      "metadata": {
        "id": "690uGOO0HkPf"
      },
      "source": [
        "prediction = model.predict(test_temp_norm)"
      ],
      "execution_count": 520,
      "outputs": []
    },
    {
      "cell_type": "code",
      "metadata": {
        "colab": {
          "base_uri": "https://localhost:8080/"
        },
        "id": "MVUgTcGpNKwa",
        "outputId": "d0f38821-2714-4f24-a6b3-2d53a35fef4c"
      },
      "source": [
        "prediction.shape"
      ],
      "execution_count": 521,
      "outputs": [
        {
          "output_type": "execute_result",
          "data": {
            "text/plain": [
              "(17380, 6)"
            ]
          },
          "metadata": {
            "tags": []
          },
          "execution_count": 521
        }
      ]
    },
    {
      "cell_type": "code",
      "metadata": {
        "colab": {
          "base_uri": "https://localhost:8080/"
        },
        "id": "dHbfItmpNNu7",
        "outputId": "de7c178a-6a3d-4eaa-d7ac-7ef7430a6523"
      },
      "source": [
        "test_label_norm.shape"
      ],
      "execution_count": 522,
      "outputs": [
        {
          "output_type": "execute_result",
          "data": {
            "text/plain": [
              "(17380, 6)"
            ]
          },
          "metadata": {
            "tags": []
          },
          "execution_count": 522
        }
      ]
    },
    {
      "cell_type": "code",
      "metadata": {
        "colab": {
          "base_uri": "https://localhost:8080/"
        },
        "id": "Fvs6KS3qJeYK",
        "outputId": "d62edfec-4e2b-4ae4-ab5a-408c49bc9b53"
      },
      "source": [
        "model.evaluate(test_temp_norm,  test_label_norm, verbose=2)"
      ],
      "execution_count": 523,
      "outputs": [
        {
          "output_type": "stream",
          "text": [
            "544/544 - 0s - loss: 0.0010 - mean_absolute_error: 0.0225 - accuracy: 0.5139\n"
          ],
          "name": "stdout"
        },
        {
          "output_type": "execute_result",
          "data": {
            "text/plain": [
              "[0.0010340152075514197, 0.022462662309408188, 0.5138664841651917]"
            ]
          },
          "metadata": {
            "tags": []
          },
          "execution_count": 523
        }
      ]
    },
    {
      "cell_type": "markdown",
      "metadata": {
        "id": "3Sk3GdGEBvmw"
      },
      "source": [
        "## Scale back to prediction temperature"
      ]
    },
    {
      "cell_type": "code",
      "metadata": {
        "id": "IuZ0L9seVV66"
      },
      "source": [
        "y_predict_norm = model.predict(test_temp_norm)"
      ],
      "execution_count": 524,
      "outputs": []
    },
    {
      "cell_type": "code",
      "metadata": {
        "id": "jbsxRFIzRLXd"
      },
      "source": [
        "y_predict = train_temp_min + y_predict_norm * (train_temp_max-train_temp_min)"
      ],
      "execution_count": 525,
      "outputs": []
    },
    {
      "cell_type": "markdown",
      "metadata": {
        "id": "4nIM-gd_B6oM"
      },
      "source": [
        "##MSE_Neural_Network"
      ]
    },
    {
      "cell_type": "code",
      "metadata": {
        "colab": {
          "base_uri": "https://localhost:8080/"
        },
        "id": "KnVKF-ZLRvjZ",
        "outputId": "5d10c0b7-df4c-423a-e2bc-57a8e0312bbd"
      },
      "source": [
        "# The mean squared error\n",
        "print('Mean squared error: %.2f'\n",
        "      % mean_squared_error(test_label, y_predict))\n",
        "# The coefficient of determination: 1 is perfect prediction\n",
        "print('Coefficient of determination: %.2f'\n",
        "      % r2_score(test_label, y_predict))"
      ],
      "execution_count": 526,
      "outputs": [
        {
          "output_type": "stream",
          "text": [
            "Mean squared error: 1.85\n",
            "Coefficient of determination: 0.97\n"
          ],
          "name": "stdout"
        }
      ]
    },
    {
      "cell_type": "markdown",
      "metadata": {
        "id": "tYOfJXHCCcdX"
      },
      "source": [
        "## Plot the temp"
      ]
    },
    {
      "cell_type": "code",
      "metadata": {
        "id": "qeivT3SnVfpw"
      },
      "source": [
        "z = np.linspace(past, past+future,future)"
      ],
      "execution_count": 527,
      "outputs": []
    },
    {
      "cell_type": "code",
      "metadata": {
        "colab": {
          "base_uri": "https://localhost:8080/"
        },
        "id": "4RMm1sxeeauK",
        "outputId": "5fa61138-f586-43fe-ec67-3a949781f588"
      },
      "source": [
        "test_temp[0]"
      ],
      "execution_count": 528,
      "outputs": [
        {
          "output_type": "execute_result",
          "data": {
            "text/plain": [
              "array([-3.31792267, -3.32501488, -2.65383338, -2.5977404 , -2.45525134,\n",
              "       -2.08452189, -2.08903511, -2.09096935, -1.99554682, -1.93300637,\n",
              "       -1.8537025 , -1.38819526, -1.04003194, -0.77310673, -0.56485349,\n",
              "       -0.4797469 , -0.47200994, -0.68284217, -0.84338414, -1.15157315,\n",
              "       -1.24312721, -1.32629955, -1.44493298, -1.40689291])"
            ]
          },
          "metadata": {
            "tags": []
          },
          "execution_count": 528
        }
      ]
    },
    {
      "cell_type": "code",
      "metadata": {
        "colab": {
          "base_uri": "https://localhost:8080/"
        },
        "id": "aprwVcowfEGt",
        "outputId": "81beca6f-1afc-45ff-fe68-3c7864571d48"
      },
      "source": [
        "test_label[0]"
      ],
      "execution_count": 529,
      "outputs": [
        {
          "output_type": "execute_result",
          "data": {
            "text/plain": [
              "array([-1.32952329, -1.26891708, -1.02520276, -0.74860635, -0.75763281,\n",
              "       -1.40044545])"
            ]
          },
          "metadata": {
            "tags": []
          },
          "execution_count": 529
        }
      ]
    },
    {
      "cell_type": "code",
      "metadata": {
        "colab": {
          "base_uri": "https://localhost:8080/"
        },
        "id": "38nlbEh2fp7r",
        "outputId": "aadec8f7-ff53-4fd2-e9aa-79d039df6b4d"
      },
      "source": [
        "y_predict[0]\n"
      ],
      "execution_count": 530,
      "outputs": [
        {
          "output_type": "execute_result",
          "data": {
            "text/plain": [
              "array([-1.297081  , -1.1455364 , -1.0689325 , -1.0105438 , -0.82288074,\n",
              "       -0.76502514], dtype=float32)"
            ]
          },
          "metadata": {
            "tags": []
          },
          "execution_count": 530
        }
      ]
    },
    {
      "cell_type": "code",
      "metadata": {
        "colab": {
          "base_uri": "https://localhost:8080/",
          "height": 282
        },
        "id": "2-qp7s7RefCj",
        "outputId": "f03743a1-bb2b-4658-b621-6913c2d2e568"
      },
      "source": [
        "z = np.linspace(past, past+future,future)\n",
        "plt.plot(test_temp[0])\n",
        "plt.scatter(z,test_label[0])\n",
        "plt.scatter(z,y_predict[0])"
      ],
      "execution_count": 531,
      "outputs": [
        {
          "output_type": "execute_result",
          "data": {
            "text/plain": [
              "<matplotlib.collections.PathCollection at 0x7feec6205250>"
            ]
          },
          "metadata": {
            "tags": []
          },
          "execution_count": 531
        },
        {
          "output_type": "display_data",
          "data": {
            "image/png": "[encoded data removed]",
            "text/plain": [
              "<Figure size 432x288 with 1 Axes>"
            ]
          },
          "metadata": {
            "tags": [],
            "needs_background": "light"
          }
        }
      ]
    },
    {
      "cell_type": "code",
      "metadata": {
        "colab": {
          "base_uri": "https://localhost:8080/",
          "height": 282
        },
        "id": "hWqjmFtzVm1Z",
        "outputId": "ef835395-d336-4fa6-bcb7-ac0d70c9346a"
      },
      "source": [
        "i = 0\n",
        "plt.plot(test_temp[i])\n",
        "plt.scatter(z,y_predict[i])\n",
        "plt.scatter(z,test_label[i]) # What shappeneing is that predicted values are so large in comparison to the test amd label values that is approximately starilght line"
      ],
      "execution_count": 532,
      "outputs": [
        {
          "output_type": "execute_result",
          "data": {
            "text/plain": [
              "<matplotlib.collections.PathCollection at 0x7feedc3a6890>"
            ]
          },
          "metadata": {
            "tags": []
          },
          "execution_count": 532
        },
        {
          "output_type": "display_data",
          "data": {
            "image/png": "[encoded data removed]",
            "text/plain": [
              "<Figure size 432x288 with 1 Axes>"
            ]
          },
          "metadata": {
            "tags": [],
            "needs_background": "light"
          }
        }
      ]
    },
    {
      "cell_type": "code",
      "metadata": {
        "colab": {
          "base_uri": "https://localhost:8080/",
          "height": 282
        },
        "id": "qTXSS_F9WNft",
        "outputId": "001c4db2-9b67-48f3-857f-8834cd016f4d"
      },
      "source": [
        "i = 1\n",
        "plt.plot(test_temp[i])\n",
        "plt.scatter(z,y_predict[i])\n",
        "plt.scatter(z,test_label[i])"
      ],
      "execution_count": 533,
      "outputs": [
        {
          "output_type": "execute_result",
          "data": {
            "text/plain": [
              "<matplotlib.collections.PathCollection at 0x7feee1d4ec50>"
            ]
          },
          "metadata": {
            "tags": []
          },
          "execution_count": 533
        },
        {
          "output_type": "display_data",
          "data": {
            "image/png": "[encoded data removed]",
            "text/plain": [
              "<Figure size 432x288 with 1 Axes>"
            ]
          },
          "metadata": {
            "tags": [],
            "needs_background": "light"
          }
        }
      ]
    },
    {
      "cell_type": "code",
      "metadata": {
        "colab": {
          "base_uri": "https://localhost:8080/",
          "height": 282
        },
        "id": "feEChKYmWRLH",
        "outputId": "8cda7c51-e8f5-4c3e-a1d1-345325efc8a9"
      },
      "source": [
        "i = 2\n",
        "plt.plot(test_temp[i])\n",
        "plt.scatter(z,y_predict[i])\n",
        "plt.scatter(z,test_label[i])"
      ],
      "execution_count": 534,
      "outputs": [
        {
          "output_type": "execute_result",
          "data": {
            "text/plain": [
              "<matplotlib.collections.PathCollection at 0x7feee0ee5750>"
            ]
          },
          "metadata": {
            "tags": []
          },
          "execution_count": 534
        },
        {
          "output_type": "display_data",
          "data": {
            "image/png": "[encoded data removed]",
            "text/plain": [
              "<Figure size 432x288 with 1 Axes>"
            ]
          },
          "metadata": {
            "tags": [],
            "needs_background": "light"
          }
        }
      ]
    },
    {
      "cell_type": "code",
      "metadata": {
        "colab": {
          "base_uri": "https://localhost:8080/",
          "height": 282
        },
        "id": "Yd3VvJpwWYQ5",
        "outputId": "b1a88ee2-58fc-4670-c325-71b27406335b"
      },
      "source": [
        "i = 100\n",
        "plt.plot(test_temp[i])\n",
        "plt.scatter(z,y_predict[i])\n",
        "plt.scatter(z,test_label[i])"
      ],
      "execution_count": 535,
      "outputs": [
        {
          "output_type": "execute_result",
          "data": {
            "text/plain": [
              "<matplotlib.collections.PathCollection at 0x7feee0f57c90>"
            ]
          },
          "metadata": {
            "tags": []
          },
          "execution_count": 535
        },
        {
          "output_type": "display_data",
          "data": {
            "image/png": "[encoded data removed]",
            "text/plain": [
              "<Figure size 432x288 with 1 Axes>"
            ]
          },
          "metadata": {
            "tags": [],
            "needs_background": "light"
          }
        }
      ]
    },
    {
      "cell_type": "code",
      "metadata": {
        "id": "oQzGffopozNU"
      },
      "source": [
        ""
      ],
      "execution_count": 535,
      "outputs": []
    },
    {
      "cell_type": "markdown",
      "metadata": {
        "id": "rm1XhkbBo1oI"
      },
      "source": [
        "# Neural Network 2"
      ]
    },
    {
      "cell_type": "markdown",
      "metadata": {
        "id": "XDg8zLaHo1oP"
      },
      "source": [
        "## Normalize the data"
      ]
    },
    {
      "cell_type": "code",
      "metadata": {
        "id": "aFEXSKmto1oP"
      },
      "source": [
        "train_temp_max = train_temp.max()\n",
        "train_temp_min = train_temp.min()\n",
        "\n",
        "train_temp_norm = (train_temp- train_temp_min)/(train_temp_max-train_temp_min)\n",
        "test_temp_norm = (test_temp- train_temp_min)/(train_temp_max-train_temp_min)\n",
        "\n",
        "train_label_norm = (train_label- train_temp_min)/(train_temp_max-train_temp_min)\n",
        "test_label_norm = (test_label- train_temp_min)/(train_temp_max-train_temp_min)\n",
        "\n"
      ],
      "execution_count": 536,
      "outputs": []
    },
    {
      "cell_type": "code",
      "metadata": {
        "colab": {
          "base_uri": "https://localhost:8080/"
        },
        "id": "zsC9CFzbo1oU",
        "outputId": "3981ea4c-1e47-4084-f665-83f59160402a"
      },
      "source": [
        "train_temp.max()"
      ],
      "execution_count": 537,
      "outputs": [
        {
          "output_type": "execute_result",
          "data": {
            "text/plain": [
              "25.627343750000023"
            ]
          },
          "metadata": {
            "tags": []
          },
          "execution_count": 537
        }
      ]
    },
    {
      "cell_type": "code",
      "metadata": {
        "colab": {
          "base_uri": "https://localhost:8080/"
        },
        "id": "60Rr7vSJo1oW",
        "outputId": "b8645cbf-65b9-4907-ca1c-719edd29340a"
      },
      "source": [
        "train_label.min()"
      ],
      "execution_count": 538,
      "outputs": [
        {
          "output_type": "execute_result",
          "data": {
            "text/plain": [
              "-16.624853515624977"
            ]
          },
          "metadata": {
            "tags": []
          },
          "execution_count": 538
        }
      ]
    },
    {
      "cell_type": "code",
      "metadata": {
        "id": "vCuFxskYo1oX"
      },
      "source": [
        "#inp = tf.keras.layers.Input(shape=(6,))     # Sequential api\n",
        "#b = tf.keras.layers.Dense(128,activation='relu')(inp)\n",
        "##b = tf.keras.layers.Dense(128,activation='relu')(inp)\n",
        "#b = tf.keras.layers.Dense(128,activation='relu')(inp)\n",
        "#out = tf.keras.layers.Dense(6, activation='linear')(b)\n",
        "\n",
        "#model = tf.keras.models.Model(inp,out)\n",
        "#model.summary()"
      ],
      "execution_count": 539,
      "outputs": []
    },
    {
      "cell_type": "code",
      "metadata": {
        "colab": {
          "base_uri": "https://localhost:8080/",
          "height": 282
        },
        "id": "wEnhgNQ7o1oY",
        "outputId": "ccdfffcd-2760-4e8c-ff45-a9b1837d2a91"
      },
      "source": [
        "axis = np.linspace(0,1999,2000)\n",
        "axisy = temp[0:2000]\n",
        "plt.scatter(axis,axisy)"
      ],
      "execution_count": 540,
      "outputs": [
        {
          "output_type": "execute_result",
          "data": {
            "text/plain": [
              "<matplotlib.collections.PathCollection at 0x7feee1d69310>"
            ]
          },
          "metadata": {
            "tags": []
          },
          "execution_count": 540
        },
        {
          "output_type": "display_data",
          "data": {
            "image/png": "[encoded data removed]",
            "text/plain": [
              "<Figure size 432x288 with 1 Axes>"
            ]
          },
          "metadata": {
            "tags": [],
            "needs_background": "light"
          }
        }
      ]
    },
    {
      "cell_type": "markdown",
      "metadata": {
        "id": "YCIAJHfMo1oZ"
      },
      "source": [
        "## Model"
      ]
    },
    {
      "cell_type": "code",
      "metadata": {
        "colab": {
          "base_uri": "https://localhost:8080/"
        },
        "id": "0eLzDpu4o1oZ",
        "outputId": "b3f5e90b-e4fc-49a9-b265-f7abd899d583"
      },
      "source": [
        "model = tf.keras.models.Sequential([\n",
        "  \n",
        "  tf.keras.layers.Input(shape=(past,)),\n",
        "  tf.keras.layers.Dense(128,activation='relu'),\n",
        "  tf.keras.layers.Dense(128,activation='relu'),\n",
        "  tf.keras.layers.Dense(128,activation='relu'),\n",
        "  tf.keras.layers.Dense(future, activation='linear')\n",
        "])\n",
        "\n",
        "# Compile the model, i.e. associate a loss function and the chosen variant of GD\n",
        "model.compile(\n",
        "    loss=tf.losses.MeanSquaredError(),\n",
        "                optimizer=tf.optimizers.SGD(),\n",
        "                metrics=[tf.metrics.MeanAbsoluteError(),'accuracy']\n",
        ")\n",
        "\n",
        "# Summary of the model\n",
        "model.summary()"
      ],
      "execution_count": 541,
      "outputs": [
        {
          "output_type": "stream",
          "text": [
            "Model: \"sequential_14\"\n",
            "_________________________________________________________________\n",
            "Layer (type)                 Output Shape              Param #   \n",
            "=================================================================\n",
            "dense_50 (Dense)             (None, 128)               3200      \n",
            "_________________________________________________________________\n",
            "dense_51 (Dense)             (None, 128)               16512     \n",
            "_________________________________________________________________\n",
            "dense_52 (Dense)             (None, 128)               16512     \n",
            "_________________________________________________________________\n",
            "dense_53 (Dense)             (None, 6)                 774       \n",
            "=================================================================\n",
            "Total params: 36,998\n",
            "Trainable params: 36,998\n",
            "Non-trainable params: 0\n",
            "_________________________________________________________________\n"
          ],
          "name": "stdout"
        }
      ]
    },
    {
      "cell_type": "code",
      "metadata": {
        "id": "_iz1uxgvo1oa"
      },
      "source": [
        "test = test_temp_norm, test_label_norm"
      ],
      "execution_count": 542,
      "outputs": []
    },
    {
      "cell_type": "code",
      "metadata": {
        "colab": {
          "base_uri": "https://localhost:8080/"
        },
        "id": "-U8cFP29o1ob",
        "outputId": "1787369a-a2c4-46d7-b656-6d053bcc3c6a"
      },
      "source": [
        "hist = model.fit(train_temp_norm,train_label_norm ,batch_size=64, epochs=40,callbacks = tf.keras.callbacks.EarlyStopping(patience=3), validation_data= test)"
      ],
      "execution_count": 543,
      "outputs": [
        {
          "output_type": "stream",
          "text": [
            "Epoch 1/40\n",
            "1087/1087 [==============================] - 3s 2ms/step - loss: 0.0262 - mean_absolute_error: 0.0981 - accuracy: 0.1986 - val_loss: 0.0041 - val_mean_absolute_error: 0.0500 - val_accuracy: 0.2873\n",
            "Epoch 2/40\n",
            "1087/1087 [==============================] - 2s 2ms/step - loss: 0.0041 - mean_absolute_error: 0.0497 - accuracy: 0.2822 - val_loss: 0.0036 - val_mean_absolute_error: 0.0464 - val_accuracy: 0.2960\n",
            "Epoch 3/40\n",
            "1087/1087 [==============================] - 2s 2ms/step - loss: 0.0036 - mean_absolute_error: 0.0463 - accuracy: 0.2908 - val_loss: 0.0033 - val_mean_absolute_error: 0.0446 - val_accuracy: 0.3082\n",
            "Epoch 4/40\n",
            "1087/1087 [==============================] - 2s 2ms/step - loss: 0.0034 - mean_absolute_error: 0.0445 - accuracy: 0.3011 - val_loss: 0.0031 - val_mean_absolute_error: 0.0428 - val_accuracy: 0.3124\n",
            "Epoch 5/40\n",
            "1087/1087 [==============================] - 2s 2ms/step - loss: 0.0031 - mean_absolute_error: 0.0429 - accuracy: 0.3085 - val_loss: 0.0029 - val_mean_absolute_error: 0.0415 - val_accuracy: 0.3083\n",
            "Epoch 6/40\n",
            "1087/1087 [==============================] - 2s 2ms/step - loss: 0.0030 - mean_absolute_error: 0.0417 - accuracy: 0.3010 - val_loss: 0.0028 - val_mean_absolute_error: 0.0404 - val_accuracy: 0.3017\n",
            "Epoch 7/40\n",
            "1087/1087 [==============================] - 2s 2ms/step - loss: 0.0028 - mean_absolute_error: 0.0407 - accuracy: 0.2966 - val_loss: 0.0026 - val_mean_absolute_error: 0.0394 - val_accuracy: 0.2985\n",
            "Epoch 8/40\n",
            "1087/1087 [==============================] - 2s 2ms/step - loss: 0.0027 - mean_absolute_error: 0.0396 - accuracy: 0.2929 - val_loss: 0.0025 - val_mean_absolute_error: 0.0385 - val_accuracy: 0.3014\n",
            "Epoch 9/40\n",
            "1087/1087 [==============================] - 2s 2ms/step - loss: 0.0026 - mean_absolute_error: 0.0389 - accuracy: 0.2962 - val_loss: 0.0024 - val_mean_absolute_error: 0.0376 - val_accuracy: 0.2990\n",
            "Epoch 10/40\n",
            "1087/1087 [==============================] - 2s 2ms/step - loss: 0.0025 - mean_absolute_error: 0.0377 - accuracy: 0.3034 - val_loss: 0.0023 - val_mean_absolute_error: 0.0370 - val_accuracy: 0.2980\n",
            "Epoch 11/40\n",
            "1087/1087 [==============================] - 2s 2ms/step - loss: 0.0025 - mean_absolute_error: 0.0374 - accuracy: 0.3102 - val_loss: 0.0023 - val_mean_absolute_error: 0.0363 - val_accuracy: 0.3152\n",
            "Epoch 12/40\n",
            "1087/1087 [==============================] - 2s 2ms/step - loss: 0.0023 - mean_absolute_error: 0.0364 - accuracy: 0.3211 - val_loss: 0.0022 - val_mean_absolute_error: 0.0358 - val_accuracy: 0.3295\n",
            "Epoch 13/40\n",
            "1087/1087 [==============================] - 2s 2ms/step - loss: 0.0023 - mean_absolute_error: 0.0358 - accuracy: 0.3327 - val_loss: 0.0021 - val_mean_absolute_error: 0.0351 - val_accuracy: 0.3426\n",
            "Epoch 14/40\n",
            "1087/1087 [==============================] - 2s 2ms/step - loss: 0.0022 - mean_absolute_error: 0.0354 - accuracy: 0.3447 - val_loss: 0.0021 - val_mean_absolute_error: 0.0344 - val_accuracy: 0.3667\n",
            "Epoch 15/40\n",
            "1087/1087 [==============================] - 2s 2ms/step - loss: 0.0022 - mean_absolute_error: 0.0348 - accuracy: 0.3584 - val_loss: 0.0020 - val_mean_absolute_error: 0.0339 - val_accuracy: 0.3575\n",
            "Epoch 16/40\n",
            "1087/1087 [==============================] - 2s 2ms/step - loss: 0.0021 - mean_absolute_error: 0.0342 - accuracy: 0.3637 - val_loss: 0.0020 - val_mean_absolute_error: 0.0336 - val_accuracy: 0.3621\n",
            "Epoch 17/40\n",
            "1087/1087 [==============================] - 2s 2ms/step - loss: 0.0020 - mean_absolute_error: 0.0336 - accuracy: 0.3646 - val_loss: 0.0019 - val_mean_absolute_error: 0.0330 - val_accuracy: 0.3608\n",
            "Epoch 18/40\n",
            "1087/1087 [==============================] - 2s 2ms/step - loss: 0.0020 - mean_absolute_error: 0.0332 - accuracy: 0.3662 - val_loss: 0.0019 - val_mean_absolute_error: 0.0326 - val_accuracy: 0.3643\n",
            "Epoch 19/40\n",
            "1087/1087 [==============================] - 2s 2ms/step - loss: 0.0020 - mean_absolute_error: 0.0328 - accuracy: 0.3677 - val_loss: 0.0019 - val_mean_absolute_error: 0.0322 - val_accuracy: 0.3608\n",
            "Epoch 20/40\n",
            "1087/1087 [==============================] - 2s 2ms/step - loss: 0.0019 - mean_absolute_error: 0.0324 - accuracy: 0.3690 - val_loss: 0.0018 - val_mean_absolute_error: 0.0318 - val_accuracy: 0.3738\n",
            "Epoch 21/40\n",
            "1087/1087 [==============================] - 2s 2ms/step - loss: 0.0019 - mean_absolute_error: 0.0321 - accuracy: 0.3722 - val_loss: 0.0018 - val_mean_absolute_error: 0.0314 - val_accuracy: 0.3765\n",
            "Epoch 22/40\n",
            "1087/1087 [==============================] - 2s 2ms/step - loss: 0.0019 - mean_absolute_error: 0.0318 - accuracy: 0.3726 - val_loss: 0.0018 - val_mean_absolute_error: 0.0311 - val_accuracy: 0.3707\n",
            "Epoch 23/40\n",
            "1087/1087 [==============================] - 2s 2ms/step - loss: 0.0018 - mean_absolute_error: 0.0314 - accuracy: 0.3700 - val_loss: 0.0017 - val_mean_absolute_error: 0.0308 - val_accuracy: 0.3723\n",
            "Epoch 24/40\n",
            "1087/1087 [==============================] - 2s 2ms/step - loss: 0.0018 - mean_absolute_error: 0.0310 - accuracy: 0.3764 - val_loss: 0.0017 - val_mean_absolute_error: 0.0304 - val_accuracy: 0.3789\n",
            "Epoch 25/40\n",
            "1087/1087 [==============================] - 2s 2ms/step - loss: 0.0018 - mean_absolute_error: 0.0307 - accuracy: 0.3774 - val_loss: 0.0017 - val_mean_absolute_error: 0.0301 - val_accuracy: 0.3789\n",
            "Epoch 26/40\n",
            "1087/1087 [==============================] - 2s 2ms/step - loss: 0.0017 - mean_absolute_error: 0.0304 - accuracy: 0.3779 - val_loss: 0.0016 - val_mean_absolute_error: 0.0298 - val_accuracy: 0.3848\n",
            "Epoch 27/40\n",
            "1087/1087 [==============================] - 2s 2ms/step - loss: 0.0017 - mean_absolute_error: 0.0301 - accuracy: 0.3810 - val_loss: 0.0016 - val_mean_absolute_error: 0.0296 - val_accuracy: 0.3792\n",
            "Epoch 28/40\n",
            "1087/1087 [==============================] - 2s 2ms/step - loss: 0.0017 - mean_absolute_error: 0.0297 - accuracy: 0.3815 - val_loss: 0.0016 - val_mean_absolute_error: 0.0295 - val_accuracy: 0.3833\n",
            "Epoch 29/40\n",
            "1087/1087 [==============================] - 2s 2ms/step - loss: 0.0017 - mean_absolute_error: 0.0298 - accuracy: 0.3793 - val_loss: 0.0016 - val_mean_absolute_error: 0.0291 - val_accuracy: 0.3848\n",
            "Epoch 30/40\n",
            "1087/1087 [==============================] - 2s 2ms/step - loss: 0.0017 - mean_absolute_error: 0.0294 - accuracy: 0.3862 - val_loss: 0.0016 - val_mean_absolute_error: 0.0290 - val_accuracy: 0.3907\n",
            "Epoch 31/40\n",
            "1087/1087 [==============================] - 2s 2ms/step - loss: 0.0016 - mean_absolute_error: 0.0292 - accuracy: 0.3861 - val_loss: 0.0015 - val_mean_absolute_error: 0.0287 - val_accuracy: 0.3880\n",
            "Epoch 32/40\n",
            "1087/1087 [==============================] - 2s 2ms/step - loss: 0.0016 - mean_absolute_error: 0.0289 - accuracy: 0.3866 - val_loss: 0.0015 - val_mean_absolute_error: 0.0285 - val_accuracy: 0.3820\n",
            "Epoch 33/40\n",
            "1087/1087 [==============================] - 2s 2ms/step - loss: 0.0016 - mean_absolute_error: 0.0287 - accuracy: 0.3872 - val_loss: 0.0015 - val_mean_absolute_error: 0.0283 - val_accuracy: 0.3860\n",
            "Epoch 34/40\n",
            "1087/1087 [==============================] - 2s 2ms/step - loss: 0.0016 - mean_absolute_error: 0.0287 - accuracy: 0.3862 - val_loss: 0.0015 - val_mean_absolute_error: 0.0283 - val_accuracy: 0.3976\n",
            "Epoch 35/40\n",
            "1087/1087 [==============================] - 2s 2ms/step - loss: 0.0016 - mean_absolute_error: 0.0284 - accuracy: 0.3933 - val_loss: 0.0015 - val_mean_absolute_error: 0.0280 - val_accuracy: 0.3907\n",
            "Epoch 36/40\n",
            "1087/1087 [==============================] - 2s 2ms/step - loss: 0.0015 - mean_absolute_error: 0.0283 - accuracy: 0.3903 - val_loss: 0.0015 - val_mean_absolute_error: 0.0279 - val_accuracy: 0.3920\n",
            "Epoch 37/40\n",
            "1087/1087 [==============================] - 2s 2ms/step - loss: 0.0015 - mean_absolute_error: 0.0283 - accuracy: 0.3906 - val_loss: 0.0015 - val_mean_absolute_error: 0.0277 - val_accuracy: 0.3865\n",
            "Epoch 38/40\n",
            "1087/1087 [==============================] - 2s 2ms/step - loss: 0.0015 - mean_absolute_error: 0.0281 - accuracy: 0.3943 - val_loss: 0.0014 - val_mean_absolute_error: 0.0276 - val_accuracy: 0.4007\n",
            "Epoch 39/40\n",
            "1087/1087 [==============================] - 2s 2ms/step - loss: 0.0015 - mean_absolute_error: 0.0279 - accuracy: 0.3940 - val_loss: 0.0015 - val_mean_absolute_error: 0.0277 - val_accuracy: 0.3957\n",
            "Epoch 40/40\n",
            "1087/1087 [==============================] - 2s 2ms/step - loss: 0.0015 - mean_absolute_error: 0.0279 - accuracy: 0.3946 - val_loss: 0.0014 - val_mean_absolute_error: 0.0274 - val_accuracy: 0.3970\n"
          ],
          "name": "stdout"
        }
      ]
    },
    {
      "cell_type": "code",
      "metadata": {
        "colab": {
          "base_uri": "https://localhost:8080/"
        },
        "id": "g_Jk0zWdo1oe",
        "outputId": "cfcedccf-8083-4c35-8eba-30640a5c8378"
      },
      "source": [
        "test_temp"
      ],
      "execution_count": 544,
      "outputs": [
        {
          "output_type": "execute_result",
          "data": {
            "text/plain": [
              "array([[-3.31792267, -3.32501488, -2.65383338, ..., -1.32629955,\n",
              "        -1.44493298, -1.40689291],\n",
              "       [-3.32501488, -2.65383338, -2.5977404 , ..., -1.44493298,\n",
              "        -1.40689291, -1.32952329],\n",
              "       [-2.65383338, -2.5977404 , -2.45525134, ..., -1.40689291,\n",
              "        -1.32952329, -1.26891708],\n",
              "       ...,\n",
              "       [ 6.44612408,  6.50479605,  6.37262294, ...,  2.18370246,\n",
              "         2.84908124,  3.12825664],\n",
              "       [ 6.50479605,  6.37262294,  6.03413082, ...,  2.84908124,\n",
              "         3.12825664,  3.38099741],\n",
              "       [ 6.37262294,  6.03413082,  4.70337326, ...,  3.12825664,\n",
              "         3.38099741,  3.79363542]])"
            ]
          },
          "metadata": {
            "tags": []
          },
          "execution_count": 544
        }
      ]
    },
    {
      "cell_type": "code",
      "metadata": {
        "id": "1lrOT7MBo1of"
      },
      "source": [
        "prediction = model.predict(test_temp_norm)"
      ],
      "execution_count": 545,
      "outputs": []
    },
    {
      "cell_type": "code",
      "metadata": {
        "colab": {
          "base_uri": "https://localhost:8080/"
        },
        "id": "cFu5jD7eo1og",
        "outputId": "def579f4-8c40-4e8c-cde0-e071ab0c7ee3"
      },
      "source": [
        "prediction.shape"
      ],
      "execution_count": 546,
      "outputs": [
        {
          "output_type": "execute_result",
          "data": {
            "text/plain": [
              "(17380, 6)"
            ]
          },
          "metadata": {
            "tags": []
          },
          "execution_count": 546
        }
      ]
    },
    {
      "cell_type": "code",
      "metadata": {
        "colab": {
          "base_uri": "https://localhost:8080/"
        },
        "id": "w7a3W0sio1oi",
        "outputId": "5e8e0018-b6ee-409b-88ae-ccd7cbf50bf4"
      },
      "source": [
        "test_label_norm.shape"
      ],
      "execution_count": 547,
      "outputs": [
        {
          "output_type": "execute_result",
          "data": {
            "text/plain": [
              "(17380, 6)"
            ]
          },
          "metadata": {
            "tags": []
          },
          "execution_count": 547
        }
      ]
    },
    {
      "cell_type": "code",
      "metadata": {
        "colab": {
          "base_uri": "https://localhost:8080/"
        },
        "id": "I7JTF0Vyo1oj",
        "outputId": "97842345-64af-4bad-e446-e7fa415935af"
      },
      "source": [
        "model.evaluate(test_temp_norm,  test_label_norm, verbose=2)"
      ],
      "execution_count": 548,
      "outputs": [
        {
          "output_type": "stream",
          "text": [
            "544/544 - 0s - loss: 0.0014 - mean_absolute_error: 0.0274 - accuracy: 0.3970\n"
          ],
          "name": "stdout"
        },
        {
          "output_type": "execute_result",
          "data": {
            "text/plain": [
              "[0.001426295260898769, 0.027414727956056595, 0.39695051312446594]"
            ]
          },
          "metadata": {
            "tags": []
          },
          "execution_count": 548
        }
      ]
    },
    {
      "cell_type": "markdown",
      "metadata": {
        "id": "20vksfzxo1ok"
      },
      "source": [
        "## Scale back to prediction temperature"
      ]
    },
    {
      "cell_type": "code",
      "metadata": {
        "id": "LLa4Vpnio1om"
      },
      "source": [
        "y_predict_norm = model.predict(test_temp_norm)"
      ],
      "execution_count": 549,
      "outputs": []
    },
    {
      "cell_type": "code",
      "metadata": {
        "id": "Sapdas0bo1om"
      },
      "source": [
        "y_predict2 = train_temp_min + y_predict_norm * (train_temp_max-train_temp_min)"
      ],
      "execution_count": 550,
      "outputs": []
    },
    {
      "cell_type": "markdown",
      "metadata": {
        "id": "b8alYOz9o1on"
      },
      "source": [
        "##MSE_Neural_Network"
      ]
    },
    {
      "cell_type": "code",
      "metadata": {
        "colab": {
          "base_uri": "https://localhost:8080/"
        },
        "id": "-1qUTccfo1oo",
        "outputId": "2661fe04-a3e0-472f-be67-6163c168f12e"
      },
      "source": [
        "# The mean squared error\n",
        "print('Mean squared error: %.2f'\n",
        "      % mean_squared_error(test_label, y_predict2))\n",
        "# The coefficient of determination: 1 is perfect prediction\n",
        "print('Coefficient of determination: %.2f'\n",
        "      % r2_score(test_label, y_predict2))"
      ],
      "execution_count": 551,
      "outputs": [
        {
          "output_type": "stream",
          "text": [
            "Mean squared error: 2.55\n",
            "Coefficient of determination: 0.96\n"
          ],
          "name": "stdout"
        }
      ]
    },
    {
      "cell_type": "markdown",
      "metadata": {
        "id": "bdh4XVmfo1op"
      },
      "source": [
        "## Plot the temp"
      ]
    },
    {
      "cell_type": "code",
      "metadata": {
        "id": "PryLkWJgo1oq"
      },
      "source": [
        "z = np.linspace(past, past+future,future)"
      ],
      "execution_count": 552,
      "outputs": []
    },
    {
      "cell_type": "code",
      "metadata": {
        "colab": {
          "base_uri": "https://localhost:8080/"
        },
        "id": "rPphXEu7o1or",
        "outputId": "ae649e42-c4fe-4cf1-9646-32ec13aac724"
      },
      "source": [
        "test_temp[0]"
      ],
      "execution_count": 553,
      "outputs": [
        {
          "output_type": "execute_result",
          "data": {
            "text/plain": [
              "array([-3.31792267, -3.32501488, -2.65383338, -2.5977404 , -2.45525134,\n",
              "       -2.08452189, -2.08903511, -2.09096935, -1.99554682, -1.93300637,\n",
              "       -1.8537025 , -1.38819526, -1.04003194, -0.77310673, -0.56485349,\n",
              "       -0.4797469 , -0.47200994, -0.68284217, -0.84338414, -1.15157315,\n",
              "       -1.24312721, -1.32629955, -1.44493298, -1.40689291])"
            ]
          },
          "metadata": {
            "tags": []
          },
          "execution_count": 553
        }
      ]
    },
    {
      "cell_type": "code",
      "metadata": {
        "colab": {
          "base_uri": "https://localhost:8080/"
        },
        "id": "WWcXsLQxo1or",
        "outputId": "d7a07dc9-18da-4543-b700-398a2e472a55"
      },
      "source": [
        "test_label[0]"
      ],
      "execution_count": 554,
      "outputs": [
        {
          "output_type": "execute_result",
          "data": {
            "text/plain": [
              "array([-1.32952329, -1.26891708, -1.02520276, -0.74860635, -0.75763281,\n",
              "       -1.40044545])"
            ]
          },
          "metadata": {
            "tags": []
          },
          "execution_count": 554
        }
      ]
    },
    {
      "cell_type": "code",
      "metadata": {
        "colab": {
          "base_uri": "https://localhost:8080/"
        },
        "id": "LzqCEIrUo1os",
        "outputId": "bb819bc5-2d4a-493b-c01d-166482727ae7"
      },
      "source": [
        "y_predict2[0]\n"
      ],
      "execution_count": 555,
      "outputs": [
        {
          "output_type": "execute_result",
          "data": {
            "text/plain": [
              "array([-1.6244268, -1.4390831, -1.4788523, -1.5675392, -1.410655 ,\n",
              "       -1.156229 ], dtype=float32)"
            ]
          },
          "metadata": {
            "tags": []
          },
          "execution_count": 555
        }
      ]
    },
    {
      "cell_type": "code",
      "metadata": {
        "colab": {
          "base_uri": "https://localhost:8080/",
          "height": 282
        },
        "id": "z5xoDpa5o1ot",
        "outputId": "fc5337b1-2289-40f8-b354-5313c0c3dc77"
      },
      "source": [
        "z = np.linspace(past, past+future,future)\n",
        "plt.plot(test_temp[0])\n",
        "plt.scatter(z,test_label[0])\n",
        "plt.scatter(z,y_predict2[0])"
      ],
      "execution_count": 556,
      "outputs": [
        {
          "output_type": "execute_result",
          "data": {
            "text/plain": [
              "<matplotlib.collections.PathCollection at 0x7feee18f8450>"
            ]
          },
          "metadata": {
            "tags": []
          },
          "execution_count": 556
        },
        {
          "output_type": "display_data",
          "data": {
            "image/png": "[encoded data removed]",
            "text/plain": [
              "<Figure size 432x288 with 1 Axes>"
            ]
          },
          "metadata": {
            "tags": [],
            "needs_background": "light"
          }
        }
      ]
    },
    {
      "cell_type": "code",
      "metadata": {
        "colab": {
          "base_uri": "https://localhost:8080/",
          "height": 282
        },
        "id": "IWe4W_roo1ov",
        "outputId": "c824a35d-9513-4269-d155-e3a0efe3a2f3"
      },
      "source": [
        "i = 0\n",
        "plt.plot(test_temp[i])\n",
        "plt.scatter(z,y_predict2[i])\n",
        "plt.scatter(z,test_label[i]) # What shappeneing is that predicted values are so large in comparison to the test amd label values that is approximately starilght line"
      ],
      "execution_count": 557,
      "outputs": [
        {
          "output_type": "execute_result",
          "data": {
            "text/plain": [
              "<matplotlib.collections.PathCollection at 0x7feee181a150>"
            ]
          },
          "metadata": {
            "tags": []
          },
          "execution_count": 557
        },
        {
          "output_type": "display_data",
          "data": {
            "image/png": "[encoded data removed]",
            "text/plain": [
              "<Figure size 432x288 with 1 Axes>"
            ]
          },
          "metadata": {
            "tags": [],
            "needs_background": "light"
          }
        }
      ]
    },
    {
      "cell_type": "code",
      "metadata": {
        "colab": {
          "base_uri": "https://localhost:8080/",
          "height": 282
        },
        "id": "94hQZaJmo1ow",
        "outputId": "0bc7758b-e245-426a-e538-30f769970bda"
      },
      "source": [
        "i = 1\n",
        "plt.plot(test_temp[i])\n",
        "plt.scatter(z,y_predict2[i])\n",
        "plt.scatter(z,test_label[i])"
      ],
      "execution_count": 558,
      "outputs": [
        {
          "output_type": "execute_result",
          "data": {
            "text/plain": [
              "<matplotlib.collections.PathCollection at 0x7feee1881f50>"
            ]
          },
          "metadata": {
            "tags": []
          },
          "execution_count": 558
        },
        {
          "output_type": "display_data",
          "data": {
            "image/png": "[encoded data removed]",
            "text/plain": [
              "<Figure size 432x288 with 1 Axes>"
            ]
          },
          "metadata": {
            "tags": [],
            "needs_background": "light"
          }
        }
      ]
    },
    {
      "cell_type": "code",
      "metadata": {
        "colab": {
          "base_uri": "https://localhost:8080/",
          "height": 282
        },
        "id": "p6FBltCLo1ox",
        "outputId": "3dc9dc89-5a92-45ef-9e72-e1a0f6fd579f"
      },
      "source": [
        "i = 2\n",
        "plt.plot(test_temp[i])\n",
        "plt.scatter(z,y_predict2[i])\n",
        "plt.scatter(z,test_label[i])"
      ],
      "execution_count": 559,
      "outputs": [
        {
          "output_type": "execute_result",
          "data": {
            "text/plain": [
              "<matplotlib.collections.PathCollection at 0x7feee1735b50>"
            ]
          },
          "metadata": {
            "tags": []
          },
          "execution_count": 559
        },
        {
          "output_type": "display_data",
          "data": {
            "image/png": "[encoded data removed]",
            "text/plain": [
              "<Figure size 432x288 with 1 Axes>"
            ]
          },
          "metadata": {
            "tags": [],
            "needs_background": "light"
          }
        }
      ]
    },
    {
      "cell_type": "code",
      "metadata": {
        "colab": {
          "base_uri": "https://localhost:8080/",
          "height": 282
        },
        "id": "Bf5pEQ-Io1oy",
        "outputId": "fa86bb18-6eca-44ff-944a-355f85488f3c"
      },
      "source": [
        "i = 100\n",
        "plt.plot(test_temp[i])\n",
        "plt.scatter(z,y_predict2[i])\n",
        "plt.scatter(z,test_label[i])"
      ],
      "execution_count": 560,
      "outputs": [
        {
          "output_type": "execute_result",
          "data": {
            "text/plain": [
              "<matplotlib.collections.PathCollection at 0x7feee1721c50>"
            ]
          },
          "metadata": {
            "tags": []
          },
          "execution_count": 560
        },
        {
          "output_type": "display_data",
          "data": {
            "image/png": "[encoded data removed]",
            "text/plain": [
              "<Figure size 432x288 with 1 Axes>"
            ]
          },
          "metadata": {
            "tags": [],
            "needs_background": "light"
          }
        }
      ]
    },
    {
      "cell_type": "code",
      "metadata": {
        "id": "GVQ-JHUTu5d5"
      },
      "source": [
        ""
      ],
      "execution_count": 560,
      "outputs": []
    },
    {
      "cell_type": "markdown",
      "metadata": {
        "id": "BbUJAzWCu60V"
      },
      "source": [
        "# Neural Network 3"
      ]
    },
    {
      "cell_type": "markdown",
      "metadata": {
        "id": "Nvf5sTYVu60b"
      },
      "source": [
        "## Normalize the data"
      ]
    },
    {
      "cell_type": "code",
      "metadata": {
        "id": "111w9Ta7u60c"
      },
      "source": [
        "train_temp_max = train_temp.max()\n",
        "train_temp_min = train_temp.min()\n",
        "\n",
        "train_temp_norm = (train_temp- train_temp_min)/(train_temp_max-train_temp_min)\n",
        "test_temp_norm = (test_temp- train_temp_min)/(train_temp_max-train_temp_min)\n",
        "\n",
        "train_label_norm = (train_label- train_temp_min)/(train_temp_max-train_temp_min)\n",
        "test_label_norm = (test_label- train_temp_min)/(train_temp_max-train_temp_min)\n",
        "\n"
      ],
      "execution_count": 561,
      "outputs": []
    },
    {
      "cell_type": "code",
      "metadata": {
        "colab": {
          "base_uri": "https://localhost:8080/"
        },
        "id": "4hVUR3OEu60d",
        "outputId": "c142f87e-feca-4c7e-fe89-72b9a5d626f7"
      },
      "source": [
        "train_temp.max()"
      ],
      "execution_count": 562,
      "outputs": [
        {
          "output_type": "execute_result",
          "data": {
            "text/plain": [
              "25.627343750000023"
            ]
          },
          "metadata": {
            "tags": []
          },
          "execution_count": 562
        }
      ]
    },
    {
      "cell_type": "code",
      "metadata": {
        "colab": {
          "base_uri": "https://localhost:8080/"
        },
        "id": "KgBhVb0Xu60e",
        "outputId": "8dc1cf56-85ba-4774-cc2d-c48274802f09"
      },
      "source": [
        "train_label.min()"
      ],
      "execution_count": 563,
      "outputs": [
        {
          "output_type": "execute_result",
          "data": {
            "text/plain": [
              "-16.624853515624977"
            ]
          },
          "metadata": {
            "tags": []
          },
          "execution_count": 563
        }
      ]
    },
    {
      "cell_type": "code",
      "metadata": {
        "id": "LOX0kqpbu60f"
      },
      "source": [
        "#inp = tf.keras.layers.Input(shape=(6,))     # Sequential api\n",
        "#b = tf.keras.layers.Dense(128,activation='relu')(inp)\n",
        "##b = tf.keras.layers.Dense(128,activation='relu')(inp)\n",
        "#b = tf.keras.layers.Dense(128,activation='relu')(inp)\n",
        "#out = tf.keras.layers.Dense(6, activation='linear')(b)\n",
        "\n",
        "#model = tf.keras.models.Model(inp,out)\n",
        "#model.summary()"
      ],
      "execution_count": 564,
      "outputs": []
    },
    {
      "cell_type": "code",
      "metadata": {
        "colab": {
          "base_uri": "https://localhost:8080/",
          "height": 282
        },
        "id": "Z5IK3w5Fu60g",
        "outputId": "ce51730f-db69-4054-9846-c3d36457bf6c"
      },
      "source": [
        "axis = np.linspace(0,1999,2000)\n",
        "axisy = temp[0:2000]\n",
        "plt.scatter(axis,axisy)"
      ],
      "execution_count": 565,
      "outputs": [
        {
          "output_type": "execute_result",
          "data": {
            "text/plain": [
              "<matplotlib.collections.PathCollection at 0x7feee16907d0>"
            ]
          },
          "metadata": {
            "tags": []
          },
          "execution_count": 565
        },
        {
          "output_type": "display_data",
          "data": {
            "image/png": "[encoded data removed]",
            "text/plain": [
              "<Figure size 432x288 with 1 Axes>"
            ]
          },
          "metadata": {
            "tags": [],
            "needs_background": "light"
          }
        }
      ]
    },
    {
      "cell_type": "markdown",
      "metadata": {
        "id": "L9tl93q-u60h"
      },
      "source": [
        "## Model"
      ]
    },
    {
      "cell_type": "code",
      "metadata": {
        "colab": {
          "base_uri": "https://localhost:8080/"
        },
        "id": "hyfXtAWku60i",
        "outputId": "42ed3532-c05e-457e-ae53-787be023bf14"
      },
      "source": [
        "model = tf.keras.models.Sequential([\n",
        "  \n",
        "  tf.keras.layers.Input(shape=(past,)),\n",
        "  tf.keras.layers.Dense(128,activation='tanh'),\n",
        "  tf.keras.layers.Dense(128,activation='tanh'),\n",
        "  tf.keras.layers.Dense(128,activation='tanh'),\n",
        "  tf.keras.layers.Dense(future, activation='linear')\n",
        "])\n",
        "\n",
        "# Compile the model, i.e. associate a loss function and the chosen variant of GD\n",
        "model.compile(\n",
        "    loss=tf.losses.MeanSquaredError(),\n",
        "                optimizer=tf.optimizers.Adam(),\n",
        "                metrics=[tf.metrics.MeanAbsoluteError(),'accuracy']\n",
        ")\n",
        "\n",
        "# Summary of the model\n",
        "model.summary()"
      ],
      "execution_count": 566,
      "outputs": [
        {
          "output_type": "stream",
          "text": [
            "Model: \"sequential_15\"\n",
            "_________________________________________________________________\n",
            "Layer (type)                 Output Shape              Param #   \n",
            "=================================================================\n",
            "dense_54 (Dense)             (None, 128)               3200      \n",
            "_________________________________________________________________\n",
            "dense_55 (Dense)             (None, 128)               16512     \n",
            "_________________________________________________________________\n",
            "dense_56 (Dense)             (None, 128)               16512     \n",
            "_________________________________________________________________\n",
            "dense_57 (Dense)             (None, 6)                 774       \n",
            "=================================================================\n",
            "Total params: 36,998\n",
            "Trainable params: 36,998\n",
            "Non-trainable params: 0\n",
            "_________________________________________________________________\n"
          ],
          "name": "stdout"
        }
      ]
    },
    {
      "cell_type": "code",
      "metadata": {
        "id": "4L_bBN3Au60j"
      },
      "source": [
        "test = test_temp_norm, test_label_norm"
      ],
      "execution_count": 567,
      "outputs": []
    },
    {
      "cell_type": "code",
      "metadata": {
        "colab": {
          "base_uri": "https://localhost:8080/"
        },
        "id": "PqyohDKKu60j",
        "outputId": "029f5913-5212-4a03-86b6-b075c870075c"
      },
      "source": [
        "hist = model.fit(train_temp_norm,train_label_norm ,batch_size=64, epochs=40,callbacks = tf.keras.callbacks.EarlyStopping(patience=3), validation_data= test)"
      ],
      "execution_count": 568,
      "outputs": [
        {
          "output_type": "stream",
          "text": [
            "Epoch 1/40\n",
            "1087/1087 [==============================] - 3s 3ms/step - loss: 0.0054 - mean_absolute_error: 0.0437 - accuracy: 0.3094 - val_loss: 0.0013 - val_mean_absolute_error: 0.0265 - val_accuracy: 0.3812\n",
            "Epoch 2/40\n",
            "1087/1087 [==============================] - 3s 2ms/step - loss: 0.0014 - mean_absolute_error: 0.0267 - accuracy: 0.3715 - val_loss: 0.0012 - val_mean_absolute_error: 0.0258 - val_accuracy: 0.1408\n",
            "Epoch 3/40\n",
            "1087/1087 [==============================] - 3s 2ms/step - loss: 0.0013 - mean_absolute_error: 0.0256 - accuracy: 0.3884 - val_loss: 0.0011 - val_mean_absolute_error: 0.0235 - val_accuracy: 0.1979\n",
            "Epoch 4/40\n",
            "1087/1087 [==============================] - 3s 2ms/step - loss: 0.0013 - mean_absolute_error: 0.0254 - accuracy: 0.3938 - val_loss: 0.0011 - val_mean_absolute_error: 0.0241 - val_accuracy: 0.3747\n",
            "Epoch 5/40\n",
            "1087/1087 [==============================] - 3s 2ms/step - loss: 0.0013 - mean_absolute_error: 0.0253 - accuracy: 0.4012 - val_loss: 0.0014 - val_mean_absolute_error: 0.0278 - val_accuracy: 0.5355\n",
            "Epoch 6/40\n",
            "1087/1087 [==============================] - 3s 2ms/step - loss: 0.0013 - mean_absolute_error: 0.0253 - accuracy: 0.4035 - val_loss: 0.0011 - val_mean_absolute_error: 0.0228 - val_accuracy: 0.4730\n",
            "Epoch 7/40\n",
            "1087/1087 [==============================] - 3s 2ms/step - loss: 0.0012 - mean_absolute_error: 0.0248 - accuracy: 0.4076 - val_loss: 0.0012 - val_mean_absolute_error: 0.0262 - val_accuracy: 0.3383\n",
            "Epoch 8/40\n",
            "1087/1087 [==============================] - 3s 2ms/step - loss: 0.0012 - mean_absolute_error: 0.0250 - accuracy: 0.4128 - val_loss: 0.0014 - val_mean_absolute_error: 0.0279 - val_accuracy: 0.3510\n",
            "Epoch 9/40\n",
            "1087/1087 [==============================] - 3s 2ms/step - loss: 0.0012 - mean_absolute_error: 0.0244 - accuracy: 0.4234 - val_loss: 0.0011 - val_mean_absolute_error: 0.0233 - val_accuracy: 0.4111\n"
          ],
          "name": "stdout"
        }
      ]
    },
    {
      "cell_type": "code",
      "metadata": {
        "colab": {
          "base_uri": "https://localhost:8080/"
        },
        "id": "KCS0Do1cu60k",
        "outputId": "36257cb2-ddca-4e4e-98b8-0f6fccdc8737"
      },
      "source": [
        "test_temp"
      ],
      "execution_count": 569,
      "outputs": [
        {
          "output_type": "execute_result",
          "data": {
            "text/plain": [
              "array([[-3.31792267, -3.32501488, -2.65383338, ..., -1.32629955,\n",
              "        -1.44493298, -1.40689291],\n",
              "       [-3.32501488, -2.65383338, -2.5977404 , ..., -1.44493298,\n",
              "        -1.40689291, -1.32952329],\n",
              "       [-2.65383338, -2.5977404 , -2.45525134, ..., -1.40689291,\n",
              "        -1.32952329, -1.26891708],\n",
              "       ...,\n",
              "       [ 6.44612408,  6.50479605,  6.37262294, ...,  2.18370246,\n",
              "         2.84908124,  3.12825664],\n",
              "       [ 6.50479605,  6.37262294,  6.03413082, ...,  2.84908124,\n",
              "         3.12825664,  3.38099741],\n",
              "       [ 6.37262294,  6.03413082,  4.70337326, ...,  3.12825664,\n",
              "         3.38099741,  3.79363542]])"
            ]
          },
          "metadata": {
            "tags": []
          },
          "execution_count": 569
        }
      ]
    },
    {
      "cell_type": "code",
      "metadata": {
        "id": "trtQdbZGu60l"
      },
      "source": [
        "prediction = model.predict(test_temp_norm)"
      ],
      "execution_count": 570,
      "outputs": []
    },
    {
      "cell_type": "code",
      "metadata": {
        "colab": {
          "base_uri": "https://localhost:8080/"
        },
        "id": "A0-fptqFu60l",
        "outputId": "c1b515bc-6763-4100-c798-3e2ed6db8a98"
      },
      "source": [
        "prediction.shape"
      ],
      "execution_count": 571,
      "outputs": [
        {
          "output_type": "execute_result",
          "data": {
            "text/plain": [
              "(17380, 6)"
            ]
          },
          "metadata": {
            "tags": []
          },
          "execution_count": 571
        }
      ]
    },
    {
      "cell_type": "code",
      "metadata": {
        "colab": {
          "base_uri": "https://localhost:8080/"
        },
        "id": "q27M5wEHu60m",
        "outputId": "d5406237-71b8-41ba-8220-45b1c1ad14ed"
      },
      "source": [
        "test_label_norm.shape"
      ],
      "execution_count": 572,
      "outputs": [
        {
          "output_type": "execute_result",
          "data": {
            "text/plain": [
              "(17380, 6)"
            ]
          },
          "metadata": {
            "tags": []
          },
          "execution_count": 572
        }
      ]
    },
    {
      "cell_type": "code",
      "metadata": {
        "colab": {
          "base_uri": "https://localhost:8080/"
        },
        "id": "OTkMs_3_u60m",
        "outputId": "3e7404bb-f450-404a-ce6f-7e6607647c7b"
      },
      "source": [
        "model.evaluate(test_temp_norm,  test_label_norm, verbose=2)"
      ],
      "execution_count": 573,
      "outputs": [
        {
          "output_type": "stream",
          "text": [
            "544/544 - 0s - loss: 0.0011 - mean_absolute_error: 0.0233 - accuracy: 0.4111\n"
          ],
          "name": "stdout"
        },
        {
          "output_type": "execute_result",
          "data": {
            "text/plain": [
              "[0.0010559597285464406, 0.0233453381806612, 0.4111047089099884]"
            ]
          },
          "metadata": {
            "tags": []
          },
          "execution_count": 573
        }
      ]
    },
    {
      "cell_type": "markdown",
      "metadata": {
        "id": "PVMZ4tnfu60n"
      },
      "source": [
        "## Scale back to prediction temperature"
      ]
    },
    {
      "cell_type": "code",
      "metadata": {
        "id": "l4vF5imAu60o"
      },
      "source": [
        "y_predict_norm = model.predict(test_temp_norm)"
      ],
      "execution_count": 574,
      "outputs": []
    },
    {
      "cell_type": "code",
      "metadata": {
        "id": "GUlXHF4uu60o"
      },
      "source": [
        "y_predict3 = train_temp_min + y_predict_norm * (train_temp_max-train_temp_min)"
      ],
      "execution_count": 575,
      "outputs": []
    },
    {
      "cell_type": "markdown",
      "metadata": {
        "id": "GP6jsVIuu60p"
      },
      "source": [
        "##MSE_Neural_Network"
      ]
    },
    {
      "cell_type": "code",
      "metadata": {
        "colab": {
          "base_uri": "https://localhost:8080/"
        },
        "id": "DeICJssHu60p",
        "outputId": "806d2c7f-8854-4a31-8a43-4170fb21a610"
      },
      "source": [
        "# The mean squared error\n",
        "print('Mean squared error: %.2f'\n",
        "      % mean_squared_error(test_label, y_predict3))\n",
        "# The coefficient of determination: 1 is perfect prediction\n",
        "print('Coefficient of determination: %.2f'\n",
        "      % r2_score(test_label, y_predict3))"
      ],
      "execution_count": 576,
      "outputs": [
        {
          "output_type": "stream",
          "text": [
            "Mean squared error: 1.89\n",
            "Coefficient of determination: 0.97\n"
          ],
          "name": "stdout"
        }
      ]
    },
    {
      "cell_type": "markdown",
      "metadata": {
        "id": "lT8F81tpfl4c"
      },
      "source": [
        "# Regression in keras"
      ]
    },
    {
      "cell_type": "markdown",
      "metadata": {
        "id": "0wzOwVpJfqhe"
      },
      "source": [
        "From the perspective of linear regression errors it is very small error. We will do regression moddeling before normalzing."
      ]
    },
    {
      "cell_type": "code",
      "metadata": {
        "colab": {
          "base_uri": "https://localhost:8080/"
        },
        "id": "j5siwPxjBIJM",
        "outputId": "fa257f9c-7e84-4efc-ddce-14f9de4d6785"
      },
      "source": [
        "model = tf.keras.models.Sequential([\n",
        "  \n",
        "  tf.keras.layers.Input(shape=(past,)),\n",
        "  tf.keras.layers.Dense(future, activation='linear')\n",
        "])\n",
        "\n",
        "# Compile the model, i.e. associate a loss function and the chosen variant of GD\n",
        "model.compile(\n",
        "    loss=tf.losses.MeanSquaredError(),\n",
        "                optimizer=tf.optimizers.Adam(),\n",
        "                metrics=[tf.metrics.MeanAbsoluteError(),'accuracy']\n",
        ")\n",
        "\n",
        "# Summary of the model\n",
        "model.summary()"
      ],
      "execution_count": 577,
      "outputs": [
        {
          "output_type": "stream",
          "text": [
            "Model: \"sequential_16\"\n",
            "_________________________________________________________________\n",
            "Layer (type)                 Output Shape              Param #   \n",
            "=================================================================\n",
            "dense_58 (Dense)             (None, 6)                 150       \n",
            "=================================================================\n",
            "Total params: 150\n",
            "Trainable params: 150\n",
            "Non-trainable params: 0\n",
            "_________________________________________________________________\n"
          ],
          "name": "stdout"
        }
      ]
    },
    {
      "cell_type": "code",
      "metadata": {
        "id": "3htJUiIuBIJP"
      },
      "source": [
        "model.compile(\n",
        "    loss='mse',\n",
        "    optimizer=tf.keras.optimizers.Adam(0.001),\n",
        "    metrics=['accuracy','mse'],\n",
        ")"
      ],
      "execution_count": 578,
      "outputs": []
    },
    {
      "cell_type": "code",
      "metadata": {
        "colab": {
          "base_uri": "https://localhost:8080/"
        },
        "id": "M-3PFcCVBIJS",
        "outputId": "d6d169f8-9014-4461-8ceb-cac44a8aa637"
      },
      "source": [
        "hist = model.fit(train_temp,train_label, epochs=40)"
      ],
      "execution_count": 579,
      "outputs": [
        {
          "output_type": "stream",
          "text": [
            "Epoch 1/40\n",
            "2173/2173 [==============================] - 3s 1ms/step - loss: 12.1475 - accuracy: 0.2780 - mse: 12.1475\n",
            "Epoch 2/40\n",
            "2173/2173 [==============================] - 2s 1ms/step - loss: 2.8926 - accuracy: 0.2802 - mse: 2.8926\n",
            "Epoch 3/40\n",
            "2173/2173 [==============================] - 2s 1ms/step - loss: 2.4694 - accuracy: 0.3305 - mse: 2.4694\n",
            "Epoch 4/40\n",
            "2173/2173 [==============================] - 2s 1ms/step - loss: 2.2957 - accuracy: 0.3629 - mse: 2.2957\n",
            "Epoch 5/40\n",
            "2173/2173 [==============================] - 2s 1ms/step - loss: 2.2233 - accuracy: 0.3852 - mse: 2.2233\n",
            "Epoch 6/40\n",
            "2173/2173 [==============================] - 2s 1ms/step - loss: 2.1933 - accuracy: 0.3923 - mse: 2.1933\n",
            "Epoch 7/40\n",
            "2173/2173 [==============================] - 2s 1ms/step - loss: 2.1410 - accuracy: 0.4035 - mse: 2.1410\n",
            "Epoch 8/40\n",
            "2173/2173 [==============================] - 2s 1ms/step - loss: 2.1415 - accuracy: 0.4096 - mse: 2.1415\n",
            "Epoch 9/40\n",
            "2173/2173 [==============================] - 2s 1ms/step - loss: 2.0909 - accuracy: 0.4175 - mse: 2.0909\n",
            "Epoch 10/40\n",
            "2173/2173 [==============================] - 2s 1ms/step - loss: 2.1022 - accuracy: 0.4133 - mse: 2.1022\n",
            "Epoch 11/40\n",
            "2173/2173 [==============================] - 2s 1ms/step - loss: 2.0980 - accuracy: 0.4235 - mse: 2.0980\n",
            "Epoch 12/40\n",
            "2173/2173 [==============================] - 2s 1ms/step - loss: 2.0883 - accuracy: 0.4233 - mse: 2.0883\n",
            "Epoch 13/40\n",
            "2173/2173 [==============================] - 2s 1ms/step - loss: 2.0705 - accuracy: 0.4312 - mse: 2.0705\n",
            "Epoch 14/40\n",
            "2173/2173 [==============================] - 2s 1ms/step - loss: 2.0508 - accuracy: 0.4291 - mse: 2.0508\n",
            "Epoch 15/40\n",
            "2173/2173 [==============================] - 2s 1ms/step - loss: 2.0713 - accuracy: 0.4350 - mse: 2.0713\n",
            "Epoch 16/40\n",
            "2173/2173 [==============================] - 2s 1ms/step - loss: 2.0639 - accuracy: 0.4344 - mse: 2.0639\n",
            "Epoch 17/40\n",
            "2173/2173 [==============================] - 2s 1ms/step - loss: 2.0646 - accuracy: 0.4368 - mse: 2.0646\n",
            "Epoch 18/40\n",
            "2173/2173 [==============================] - 2s 1ms/step - loss: 2.0685 - accuracy: 0.4339 - mse: 2.0685\n",
            "Epoch 19/40\n",
            "2173/2173 [==============================] - 2s 1ms/step - loss: 2.0747 - accuracy: 0.4406 - mse: 2.0747\n",
            "Epoch 20/40\n",
            "2173/2173 [==============================] - 2s 1ms/step - loss: 2.0743 - accuracy: 0.4454 - mse: 2.0743\n",
            "Epoch 21/40\n",
            "2173/2173 [==============================] - 2s 1ms/step - loss: 2.0605 - accuracy: 0.4452 - mse: 2.0605\n",
            "Epoch 22/40\n",
            "2173/2173 [==============================] - 2s 1ms/step - loss: 2.0374 - accuracy: 0.4438 - mse: 2.0374\n",
            "Epoch 23/40\n",
            "2173/2173 [==============================] - 2s 1ms/step - loss: 2.0662 - accuracy: 0.4421 - mse: 2.0662\n",
            "Epoch 24/40\n",
            "2173/2173 [==============================] - 2s 1ms/step - loss: 2.0500 - accuracy: 0.4438 - mse: 2.0500\n",
            "Epoch 25/40\n",
            "2173/2173 [==============================] - 2s 1ms/step - loss: 2.0377 - accuracy: 0.4451 - mse: 2.0377\n",
            "Epoch 26/40\n",
            "2173/2173 [==============================] - 2s 1ms/step - loss: 2.0378 - accuracy: 0.4489 - mse: 2.0378\n",
            "Epoch 27/40\n",
            "2173/2173 [==============================] - 2s 1ms/step - loss: 2.0541 - accuracy: 0.4485 - mse: 2.0541\n",
            "Epoch 28/40\n",
            "2173/2173 [==============================] - 2s 1ms/step - loss: 2.0357 - accuracy: 0.4480 - mse: 2.0357\n",
            "Epoch 29/40\n",
            "2173/2173 [==============================] - 2s 1ms/step - loss: 2.0460 - accuracy: 0.4426 - mse: 2.0460\n",
            "Epoch 30/40\n",
            "2173/2173 [==============================] - 2s 1ms/step - loss: 2.0293 - accuracy: 0.4494 - mse: 2.0293\n",
            "Epoch 31/40\n",
            "2173/2173 [==============================] - 2s 1ms/step - loss: 2.0240 - accuracy: 0.4452 - mse: 2.0240\n",
            "Epoch 32/40\n",
            "2173/2173 [==============================] - 2s 1ms/step - loss: 2.0225 - accuracy: 0.4510 - mse: 2.0225\n",
            "Epoch 33/40\n",
            "2173/2173 [==============================] - 2s 1ms/step - loss: 2.0476 - accuracy: 0.4480 - mse: 2.0476\n",
            "Epoch 34/40\n",
            "2173/2173 [==============================] - 2s 1ms/step - loss: 2.0222 - accuracy: 0.4544 - mse: 2.0222\n",
            "Epoch 35/40\n",
            "2173/2173 [==============================] - 2s 1ms/step - loss: 2.0763 - accuracy: 0.4502 - mse: 2.0763\n",
            "Epoch 36/40\n",
            "2173/2173 [==============================] - 2s 1ms/step - loss: 2.0518 - accuracy: 0.4501 - mse: 2.0518\n",
            "Epoch 37/40\n",
            "2173/2173 [==============================] - 2s 1ms/step - loss: 2.0434 - accuracy: 0.4546 - mse: 2.0434\n",
            "Epoch 38/40\n",
            "2173/2173 [==============================] - 2s 1ms/step - loss: 2.0421 - accuracy: 0.4527 - mse: 2.0421\n",
            "Epoch 39/40\n",
            "2173/2173 [==============================] - 2s 1ms/step - loss: 2.0261 - accuracy: 0.4551 - mse: 2.0261\n",
            "Epoch 40/40\n",
            "2173/2173 [==============================] - 2s 1ms/step - loss: 2.0563 - accuracy: 0.4500 - mse: 2.0563\n"
          ],
          "name": "stdout"
        }
      ]
    },
    {
      "cell_type": "code",
      "metadata": {
        "colab": {
          "base_uri": "https://localhost:8080/"
        },
        "id": "MEnhwoV9BIJT",
        "outputId": "e2222eea-d28c-4b80-d342-151404d85c36"
      },
      "source": [
        "model.evaluate(test_temp,  test_label, verbose=2)"
      ],
      "execution_count": 580,
      "outputs": [
        {
          "output_type": "stream",
          "text": [
            "544/544 - 0s - loss: 1.8794 - accuracy: 0.4971 - mse: 1.8794\n"
          ],
          "name": "stdout"
        },
        {
          "output_type": "execute_result",
          "data": {
            "text/plain": [
              "[1.8794293403625488, 0.497123122215271, 1.8794293403625488]"
            ]
          },
          "metadata": {
            "tags": []
          },
          "execution_count": 580
        }
      ]
    },
    {
      "cell_type": "code",
      "metadata": {
        "id": "AK3YFr6oDSQj"
      },
      "source": [
        "y_predict_LR = model.predict(test_temp)"
      ],
      "execution_count": 581,
      "outputs": []
    },
    {
      "cell_type": "code",
      "metadata": {
        "colab": {
          "base_uri": "https://localhost:8080/"
        },
        "id": "kz6VwOw-DuWw",
        "outputId": "a318c7e0-c932-4e09-d46e-2add264cbe0b"
      },
      "source": [
        "y_predict_LR"
      ],
      "execution_count": 582,
      "outputs": [
        {
          "output_type": "execute_result",
          "data": {
            "text/plain": [
              "array([[-1.4056246 , -1.3687255 , -1.0818669 , -1.055851  , -0.9815493 ,\n",
              "        -0.839555  ],\n",
              "       [-1.2894311 , -1.0161281 , -0.9301731 , -0.90663415, -0.7774509 ,\n",
              "        -0.73449016],\n",
              "       [-1.2419691 , -1.1573918 , -1.0797577 , -0.8920252 , -0.83276623,\n",
              "        -0.77573454],\n",
              "       ...,\n",
              "       [ 3.427105  ,  3.5612452 ,  3.604669  ,  3.650252  ,  3.319302  ,\n",
              "         3.2808146 ],\n",
              "       [ 3.5878892 ,  3.6818871 ,  3.7206154 ,  3.3849058 ,  3.2775016 ,\n",
              "         3.098766  ],\n",
              "       [ 4.012366  ,  4.11586   ,  3.7480865 ,  3.7451737 ,  3.5866587 ,\n",
              "         3.5921357 ]], dtype=float32)"
            ]
          },
          "metadata": {
            "tags": []
          },
          "execution_count": 582
        }
      ]
    },
    {
      "cell_type": "code",
      "metadata": {
        "colab": {
          "base_uri": "https://localhost:8080/",
          "height": 282
        },
        "id": "W10mv-_8iwRF",
        "outputId": "9091eac6-f680-4350-bd4d-32174cb8d6a4"
      },
      "source": [
        "plt.plot(test_temp[0])\n",
        "plt.scatter(z,y_predict_LR[0])\n",
        "plt.scatter(z,test_label[0])"
      ],
      "execution_count": 583,
      "outputs": [
        {
          "output_type": "execute_result",
          "data": {
            "text/plain": [
              "<matplotlib.collections.PathCollection at 0x7feee12a4bd0>"
            ]
          },
          "metadata": {
            "tags": []
          },
          "execution_count": 583
        },
        {
          "output_type": "display_data",
          "data": {
            "image/png": "[encoded data removed]",
            "text/plain": [
              "<Figure size 432x288 with 1 Axes>"
            ]
          },
          "metadata": {
            "tags": [],
            "needs_background": "light"
          }
        }
      ]
    },
    {
      "cell_type": "code",
      "metadata": {
        "colab": {
          "base_uri": "https://localhost:8080/",
          "height": 282
        },
        "id": "rwDhb6UOi8Mu",
        "outputId": "8d2efe39-5f4d-4583-97ff-126a1818f625"
      },
      "source": [
        "plt.plot(test_temp[1])\n",
        "plt.scatter(z,y_predict_LR[1])\n",
        "plt.scatter(z,test_label[1])"
      ],
      "execution_count": 584,
      "outputs": [
        {
          "output_type": "execute_result",
          "data": {
            "text/plain": [
              "<matplotlib.collections.PathCollection at 0x7feee12996d0>"
            ]
          },
          "metadata": {
            "tags": []
          },
          "execution_count": 584
        },
        {
          "output_type": "display_data",
          "data": {
            "image/png": "[encoded data removed]",
            "text/plain": [
              "<Figure size 432x288 with 1 Axes>"
            ]
          },
          "metadata": {
            "tags": [],
            "needs_background": "light"
          }
        }
      ]
    },
    {
      "cell_type": "code",
      "metadata": {
        "colab": {
          "base_uri": "https://localhost:8080/",
          "height": 282
        },
        "id": "fHFX5gMFjAQx",
        "outputId": "63f9ef25-e486-4fe6-bd42-ce1210699d3d"
      },
      "source": [
        "i = 2\n",
        "plt.plot(test_temp[i])\n",
        "plt.scatter(z,y_predict_LR[i])\n",
        "plt.scatter(z,test_label[i])"
      ],
      "execution_count": 585,
      "outputs": [
        {
          "output_type": "execute_result",
          "data": {
            "text/plain": [
              "<matplotlib.collections.PathCollection at 0x7feee1200dd0>"
            ]
          },
          "metadata": {
            "tags": []
          },
          "execution_count": 585
        },
        {
          "output_type": "display_data",
          "data": {
            "image/png": "[encoded data removed]",
            "text/plain": [
              "<Figure size 432x288 with 1 Axes>"
            ]
          },
          "metadata": {
            "tags": [],
            "needs_background": "light"
          }
        }
      ]
    },
    {
      "cell_type": "code",
      "metadata": {
        "colab": {
          "base_uri": "https://localhost:8080/",
          "height": 282
        },
        "id": "_uJFrT00jDqz",
        "outputId": "f6d39b7b-3e63-40f7-9177-c162d8815b11"
      },
      "source": [
        "i = 103\n",
        "plt.plot(test_temp[i])\n",
        "plt.scatter(z,y_predict_LR[i])\n",
        "plt.scatter(z,test_label[i])"
      ],
      "execution_count": 586,
      "outputs": [
        {
          "output_type": "execute_result",
          "data": {
            "text/plain": [
              "<matplotlib.collections.PathCollection at 0x7feedee73850>"
            ]
          },
          "metadata": {
            "tags": []
          },
          "execution_count": 586
        },
        {
          "output_type": "display_data",
          "data": {
            "image/png": "[encoded data removed]",
            "text/plain": [
              "<Figure size 432x288 with 1 Axes>"
            ]
          },
          "metadata": {
            "tags": [],
            "needs_background": "light"
          }
        }
      ]
    },
    {
      "cell_type": "markdown",
      "metadata": {
        "id": "dwRL0SwUFp4P"
      },
      "source": [
        "# Model comparison\n"
      ]
    },
    {
      "cell_type": "code",
      "metadata": {
        "colab": {
          "base_uri": "https://localhost:8080/",
          "height": 282
        },
        "id": "2DhIsQNKYc_e",
        "outputId": "f3fe1d74-b84a-471d-952c-df60c3413489"
      },
      "source": [
        "i = 2\n",
        "z = np.linspace(past, past+future,future)\n",
        "plt.plot(test_temp[i])\n",
        "plt.scatter(z,y_predict[i], label = 'NN')\n",
        "plt.scatter(z,test_label[i], label = 'True temperature')\n",
        "plt.scatter(z,y_persistence[i], label= 'Persistence')\n",
        "plt.scatter(z,predict_label[i], label='Linear regression in SkL')\n",
        "#plt.scatter(z,y_predict_LR[i], label='Linear regression in Keras')\n",
        "\n",
        "plt.legend(loc='best')\n",
        "\n"
      ],
      "execution_count": 587,
      "outputs": [
        {
          "output_type": "execute_result",
          "data": {
            "text/plain": [
              "<matplotlib.legend.Legend at 0x7feedee38a50>"
            ]
          },
          "metadata": {
            "tags": []
          },
          "execution_count": 587
        },
        {
          "output_type": "display_data",
          "data": {
            "image/png": "[encoded data removed]",
            "text/plain": [
              "<Figure size 432x288 with 1 Axes>"
            ]
          },
          "metadata": {
            "tags": [],
            "needs_background": "light"
          }
        }
      ]
    },
    {
      "cell_type": "markdown",
      "metadata": {
        "id": "dW1hDa0n5dxG"
      },
      "source": [
        "## MSE"
      ]
    },
    {
      "cell_type": "markdown",
      "metadata": {
        "id": "xbpG1y1PDHUH"
      },
      "source": [
        "> We will check how MSE grows for predicted value on time axis."
      ]
    },
    {
      "cell_type": "code",
      "metadata": {
        "id": "3I_Q-h1A5xx7"
      },
      "source": [
        "def mse(predict):\n",
        "  mse = np.ones((future,))\n",
        "  for i in range(future):\n",
        "     mse[i]= np.mean((test_label[:,i]-predict[:,i])**2)\n",
        "  return mse \n",
        "   "
      ],
      "execution_count": 588,
      "outputs": []
    },
    {
      "cell_type": "code",
      "metadata": {
        "colab": {
          "base_uri": "https://localhost:8080/"
        },
        "id": "01lO4DZgIA1b",
        "outputId": "3361aa5a-0f76-4d60-bca6-f5b98635e958"
      },
      "source": [
        "mse(y_persistence)"
      ],
      "execution_count": 589,
      "outputs": [
        {
          "output_type": "execute_result",
          "data": {
            "text/plain": [
              "array([0.35980473, 1.07395306, 2.08032862, 3.28121692, 4.64615857,\n",
              "       6.03035874])"
            ]
          },
          "metadata": {
            "tags": []
          },
          "execution_count": 589
        }
      ]
    },
    {
      "cell_type": "code",
      "metadata": {
        "colab": {
          "base_uri": "https://localhost:8080/"
        },
        "id": "Uo1_DpzSjeZ-",
        "outputId": "6f57d6e7-f06c-4b98-e5a5-cb3d52ac5d50"
      },
      "source": [
        "mse(predict_label)"
      ],
      "execution_count": 590,
      "outputs": [
        {
          "output_type": "execute_result",
          "data": {
            "text/plain": [
              "array([0.22839943, 0.6234303 , 1.21430255, 1.97920815, 2.91432841,\n",
              "       3.89220089])"
            ]
          },
          "metadata": {
            "tags": []
          },
          "execution_count": 590
        }
      ]
    },
    {
      "cell_type": "code",
      "metadata": {
        "colab": {
          "base_uri": "https://localhost:8080/"
        },
        "id": "qc0J3Qapjh8l",
        "outputId": "b619a903-3418-4809-8c55-c8eea921f0a1"
      },
      "source": [
        "mse(test_label) #test"
      ],
      "execution_count": 591,
      "outputs": [
        {
          "output_type": "execute_result",
          "data": {
            "text/plain": [
              "array([0., 0., 0., 0., 0., 0.])"
            ]
          },
          "metadata": {
            "tags": []
          },
          "execution_count": 591
        }
      ]
    },
    {
      "cell_type": "code",
      "metadata": {
        "colab": {
          "base_uri": "https://localhost:8080/"
        },
        "id": "6rCgzcjCjlJl",
        "outputId": "0edb3ebf-834d-43e8-9d8c-0730ac5d8a77"
      },
      "source": [
        "mse(y_predict) #NN"
      ],
      "execution_count": 592,
      "outputs": [
        {
          "output_type": "execute_result",
          "data": {
            "text/plain": [
              "array([0.2906283 , 0.72753757, 1.25369811, 1.9439488 , 2.95131157,\n",
              "       3.90871372])"
            ]
          },
          "metadata": {
            "tags": []
          },
          "execution_count": 592
        }
      ]
    },
    {
      "cell_type": "code",
      "metadata": {
        "colab": {
          "base_uri": "https://localhost:8080/",
          "height": 282
        },
        "id": "c-NoxWc4j8Ug",
        "outputId": "094dc130-2050-4eab-fe60-b12d8b573c9a"
      },
      "source": [
        "plt.plot(mse(y_predict), label = 'NN')\n",
        "plt.plot(mse(predict_label), label = 'Linear Regression')\n",
        "plt.plot(mse(y_persistence), label = 'Persistence')\n",
        "plt.plot(mse(y_predict2), label = 'NN2')\n",
        "plt.plot(mse(y_predict3), label = 'NN3')\n",
        "plt.legend(loc='best')"
      ],
      "execution_count": 593,
      "outputs": [
        {
          "output_type": "execute_result",
          "data": {
            "text/plain": [
              "<matplotlib.legend.Legend at 0x7feedeec5cd0>"
            ]
          },
          "metadata": {
            "tags": []
          },
          "execution_count": 593
        },
        {
          "output_type": "display_data",
          "data": {
            "image/png": "[encoded data removed]",
            "text/plain": [
              "<Figure size 432x288 with 1 Axes>"
            ]
          },
          "metadata": {
            "tags": [],
            "needs_background": "light"
          }
        }
      ]
    },
    {
      "cell_type": "markdown",
      "metadata": {
        "id": "wPWLC9xm2m6I"
      },
      "source": [
        "# Conclusion"
      ]
    },
    {
      "cell_type": "markdown",
      "metadata": {
        "id": "jY1sqqbQ2u78"
      },
      "source": [
        "> We observed that for smaller values of past data, NN > Linear regression > persistence\n",
        "\n",
        "> As we start using longer past data, we observed that NN does no better than the Linear regression, and sometimes worse.\n",
        "\n",
        "> The feedforward NN are not very suitable to use past data effieciently as more modern architecture like RNNS\n"
      ]
    }
  ]
}