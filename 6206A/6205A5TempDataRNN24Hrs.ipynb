{
  "nbformat": 4,
  "nbformat_minor": 0,
  "metadata": {
    "colab": {
      "name": "6205A5TempDataRNN24Hrs.ipynb",
      "provenance": [],
      "collapsed_sections": [],
      "authorship_tag": "ABX9TyOArgxc5TX/a/OyhiVeu54D",
      "include_colab_link": true
    },
    "kernelspec": {
      "name": "python3",
      "display_name": "Python 3"
    },
    "accelerator": "GPU"
  },
  "cells": [
    {
      "cell_type": "markdown",
      "metadata": {
        "id": "view-in-github",
        "colab_type": "text"
      },
      "source": [
        "<a href=\"https://colab.research.google.com/github/Saroramath/MachineLearning/blob/main/6206A/6205A5TempDataRNN24Hrs.ipynb\" target=\"_parent\"><img src=\"https://colab.research.google.com/assets/colab-badge.svg\" alt=\"Open In Colab\"/></a>"
      ]
    },
    {
      "cell_type": "markdown",
      "metadata": {
        "id": "xlC6YSAfI9-U"
      },
      "source": [
        "# Learning goals"
      ]
    },
    {
      "cell_type": "markdown",
      "metadata": {
        "id": "FB0-70PxJDB9"
      },
      "source": [
        "1. Prepare the time series data into samples.\n",
        "2. We will us primitive commands to understand the sample generation steps."
      ]
    },
    {
      "cell_type": "code",
      "metadata": {
        "colab": {
          "base_uri": "https://localhost:8080/"
        },
        "id": "gu7VuJBQTAfR",
        "outputId": "a03f275c-3501-4e4b-d6d2-d15344dfa105"
      },
      "source": [
        "!pip install netCDF4"
      ],
      "execution_count": 82,
      "outputs": [
        {
          "output_type": "stream",
          "text": [
            "Requirement already satisfied: netCDF4 in /usr/local/lib/python3.7/dist-packages (1.5.6)\n",
            "Requirement already satisfied: cftime in /usr/local/lib/python3.7/dist-packages (from netCDF4) (1.4.1)\n",
            "Requirement already satisfied: numpy>=1.9 in /usr/local/lib/python3.7/dist-packages (from netCDF4) (1.19.5)\n"
          ],
          "name": "stdout"
        }
      ]
    },
    {
      "cell_type": "code",
      "metadata": {
        "id": "EuH1MnIaRjl-"
      },
      "source": [
        "from netCDF4 import Dataset\n",
        "from google.colab import drive\n",
        "import numpy as np\n",
        "import matplotlib.pyplot as plt\n",
        "import tensorflow as tf\n"
      ],
      "execution_count": 83,
      "outputs": []
    },
    {
      "cell_type": "code",
      "metadata": {
        "id": "vEYGALlJTNoz"
      },
      "source": [
        "from google.colab import files\n",
        "#uploaded = files.upload()"
      ],
      "execution_count": 84,
      "outputs": []
    },
    {
      "cell_type": "code",
      "metadata": {
        "id": "KOGGyOlyUnVb"
      },
      "source": [
        "#drive.mount('/content/gdrive')"
      ],
      "execution_count": 85,
      "outputs": []
    },
    {
      "cell_type": "markdown",
      "metadata": {
        "id": "Z75CYkXz1NeQ"
      },
      "source": [
        "> The file is too big to call as raw from github or to use upload. "
      ]
    },
    {
      "cell_type": "markdown",
      "metadata": {
        "id": "xeMBHtfTCmFH"
      },
      "source": [
        "Upload the file in sample_data directory from system."
      ]
    },
    {
      "cell_type": "code",
      "metadata": {
        "id": "LQW7R0Oo-7_V"
      },
      "source": [
        "file = '/content/sample_data/tempStJohns.nc'"
      ],
      "execution_count": 86,
      "outputs": []
    },
    {
      "cell_type": "markdown",
      "metadata": {
        "id": "bCOH74s-UJsK"
      },
      "source": [
        "# Explore the data"
      ]
    },
    {
      "cell_type": "code",
      "metadata": {
        "id": "k6Am9iu0Rtas"
      },
      "source": [
        "df = Dataset(file)"
      ],
      "execution_count": 87,
      "outputs": []
    },
    {
      "cell_type": "code",
      "metadata": {
        "colab": {
          "base_uri": "https://localhost:8080/"
        },
        "id": "sL_YLtc4_6Mc",
        "outputId": "4fa54943-d7ad-4b2b-a31d-a1cd60fd4e4c"
      },
      "source": [
        "df"
      ],
      "execution_count": 88,
      "outputs": [
        {
          "output_type": "execute_result",
          "data": {
            "text/plain": [
              "<class 'netCDF4._netCDF4.Dataset'>\n",
              "root group (NETCDF3_64BIT_OFFSET data model, file format NETCDF3):\n",
              "    Conventions: CF-1.6\n",
              "    history: 2021-02-03 00:49:51 GMT by grib_to_netcdf-2.16.0: /opt/ecmwf/eccodes/bin/grib_to_netcdf -S param -o /cache/data2/adaptor.mars.internal-1612306467.0641284-4955-27-685dbd6e-9572-4267-a9a7-5a61b7e919e4.nc /cache/tmp/685dbd6e-9572-4267-a9a7-5a61b7e919e4-adaptor.mars.internal-1612306467.0646257-4955-9-tmp.grib\n",
              "    dimensions(sizes): longitude(1), latitude(1), expver(2), time(87672)\n",
              "    variables(dimensions): float32 longitude(longitude), float32 latitude(latitude), int32 expver(expver), int32 time(time), int16 t2m(time, expver, latitude, longitude)\n",
              "    groups: "
            ]
          },
          "metadata": {
            "tags": []
          },
          "execution_count": 88
        }
      ]
    },
    {
      "cell_type": "code",
      "metadata": {
        "colab": {
          "base_uri": "https://localhost:8080/"
        },
        "id": "M5MfMO8sU5__",
        "outputId": "42c88f17-898c-44bf-9ac1-ed5901f36022"
      },
      "source": [
        "df['longitude'][0] #longitude of the place"
      ],
      "execution_count": 89,
      "outputs": [
        {
          "output_type": "execute_result",
          "data": {
            "text/plain": [
              "masked_array(data=-52.75,\n",
              "             mask=False,\n",
              "       fill_value=1e+20,\n",
              "            dtype=float32)"
            ]
          },
          "metadata": {
            "tags": []
          },
          "execution_count": 89
        }
      ]
    },
    {
      "cell_type": "code",
      "metadata": {
        "colab": {
          "base_uri": "https://localhost:8080/"
        },
        "id": "wvG4OC29Z3Dq",
        "outputId": "96d31eb5-937f-45e1-c4af-9fc179b2acc4"
      },
      "source": [
        "df['time'] # Time series units: hours since 1900-01-01 00:00:00.0"
      ],
      "execution_count": 90,
      "outputs": [
        {
          "output_type": "execute_result",
          "data": {
            "text/plain": [
              "<class 'netCDF4._netCDF4.Variable'>\n",
              "int32 time(time)\n",
              "    units: hours since 1900-01-01 00:00:00.0\n",
              "    long_name: time\n",
              "    calendar: gregorian\n",
              "unlimited dimensions: \n",
              "current shape = (87672,)\n",
              "filling on, default _FillValue of -2147483647 used"
            ]
          },
          "metadata": {
            "tags": []
          },
          "execution_count": 90
        }
      ]
    },
    {
      "cell_type": "code",
      "metadata": {
        "id": "ZzX4IqtoZA27"
      },
      "source": [
        "time = df['time'][:] #start value 973008, end value 1060679"
      ],
      "execution_count": 91,
      "outputs": []
    },
    {
      "cell_type": "code",
      "metadata": {
        "colab": {
          "base_uri": "https://localhost:8080/"
        },
        "id": "TEbfj7IAcvAa",
        "outputId": "78a706e0-f0b0-4ee8-8fa5-6c92ab91c86c"
      },
      "source": [
        "time"
      ],
      "execution_count": 92,
      "outputs": [
        {
          "output_type": "execute_result",
          "data": {
            "text/plain": [
              "masked_array(data=[ 973008,  973009,  973010, ..., 1060677, 1060678,\n",
              "                   1060679],\n",
              "             mask=False,\n",
              "       fill_value=999999,\n",
              "            dtype=int32)"
            ]
          },
          "metadata": {
            "tags": []
          },
          "execution_count": 92
        }
      ]
    },
    {
      "cell_type": "code",
      "metadata": {
        "colab": {
          "base_uri": "https://localhost:8080/"
        },
        "id": "MHucNB65cwoj",
        "outputId": "d23007a7-2649-4e96-c98c-c3669e45c817"
      },
      "source": [
        "time.shape"
      ],
      "execution_count": 93,
      "outputs": [
        {
          "output_type": "execute_result",
          "data": {
            "text/plain": [
              "(87672,)"
            ]
          },
          "metadata": {
            "tags": []
          },
          "execution_count": 93
        }
      ]
    },
    {
      "cell_type": "markdown",
      "metadata": {
        "id": "BjQsqwIe2AwP"
      },
      "source": [
        "> Consider columns with time data"
      ]
    },
    {
      "cell_type": "code",
      "metadata": {
        "colab": {
          "base_uri": "https://localhost:8080/"
        },
        "id": "PXOn5113ZLRb",
        "outputId": "5ac1d04a-30e6-4c85-cb39-540f6f3eaaf8"
      },
      "source": [
        " df['t2m'][:,0,0,0]"
      ],
      "execution_count": 94,
      "outputs": [
        {
          "output_type": "execute_result",
          "data": {
            "text/plain": [
              "masked_array(data=[272.81080791804084, 272.6567134137989,\n",
              "                   272.7837285490946, ..., --, --, --],\n",
              "             mask=[False, False, False, ...,  True,  True,  True],\n",
              "       fill_value=-32767)"
            ]
          },
          "metadata": {
            "tags": []
          },
          "execution_count": 94
        }
      ]
    },
    {
      "cell_type": "markdown",
      "metadata": {
        "id": "NmaTrYCo1-LB"
      },
      "source": [
        "> Convert to Celsius"
      ]
    },
    {
      "cell_type": "code",
      "metadata": {
        "id": "LiF0cETrSiA-"
      },
      "source": [
        "temp = df['t2m'][:,0,0,0]-273.15"
      ],
      "execution_count": 95,
      "outputs": []
    },
    {
      "cell_type": "markdown",
      "metadata": {
        "id": "55w3GiSf2fU_"
      },
      "source": [
        "> Masked arrays are arrays that may have missing or invalid entries. The numpy.ma module provides a nearly work-alike replacement for numpy that supports data arrays with masks.\n",
        "\n"
      ]
    },
    {
      "cell_type": "code",
      "metadata": {
        "colab": {
          "base_uri": "https://localhost:8080/"
        },
        "id": "MG4oMJ7LAGWa",
        "outputId": "3cca5c0a-efd6-470f-a46b-10acbe4d9313"
      },
      "source": [
        "temp "
      ],
      "execution_count": 96,
      "outputs": [
        {
          "output_type": "execute_result",
          "data": {
            "text/plain": [
              "masked_array(data=[-0.3391920819591405, -0.4932865862010658,\n",
              "                   -0.36627145090540125, ..., --, --, --],\n",
              "             mask=[False, False, False, ...,  True,  True,  True],\n",
              "       fill_value=-32767)"
            ]
          },
          "metadata": {
            "tags": []
          },
          "execution_count": 96
        }
      ]
    },
    {
      "cell_type": "markdown",
      "metadata": {
        "id": "Zf99GruZ3Jde"
      },
      "source": [
        " The array is masked, filled with -32767 for the missing values, mask tells us where is that happeneing."
      ]
    },
    {
      "cell_type": "code",
      "metadata": {
        "colab": {
          "base_uri": "https://localhost:8080/"
        },
        "id": "2OYt2iuGHaTQ",
        "outputId": "9cbd81d2-6e16-449c-e186-e9d41d6de97b"
      },
      "source": [
        "temp.data "
      ],
      "execution_count": 97,
      "outputs": [
        {
          "output_type": "execute_result",
          "data": {
            "text/plain": [
              "array([-3.39192082e-01, -4.93286586e-01, -3.66271451e-01, ...,\n",
              "       -3.27670000e+04, -3.27670000e+04, -3.27670000e+04])"
            ]
          },
          "metadata": {
            "tags": []
          },
          "execution_count": 97
        }
      ]
    },
    {
      "cell_type": "code",
      "metadata": {
        "colab": {
          "base_uri": "https://localhost:8080/"
        },
        "id": "aSdpaEECGFIJ",
        "outputId": "84667c0b-432c-4c0f-8bbc-0b2b2d8afa91"
      },
      "source": [
        "temp.shape"
      ],
      "execution_count": 98,
      "outputs": [
        {
          "output_type": "execute_result",
          "data": {
            "text/plain": [
              "(87672,)"
            ]
          },
          "metadata": {
            "tags": []
          },
          "execution_count": 98
        }
      ]
    },
    {
      "cell_type": "code",
      "metadata": {
        "colab": {
          "base_uri": "https://localhost:8080/"
        },
        "id": "7cTEcw36GPAJ",
        "outputId": "e3de7de6-0333-4b0d-9715-c429fe4ac7c0"
      },
      "source": [
        "temp.mask"
      ],
      "execution_count": 99,
      "outputs": [
        {
          "output_type": "execute_result",
          "data": {
            "text/plain": [
              "array([False, False, False, ...,  True,  True,  True])"
            ]
          },
          "metadata": {
            "tags": []
          },
          "execution_count": 99
        }
      ]
    },
    {
      "cell_type": "markdown",
      "metadata": {
        "id": "DiOFH3vFDXbJ"
      },
      "source": [
        "## Rmoving masked values."
      ]
    },
    {
      "cell_type": "markdown",
      "metadata": {
        "id": "4AiZrrg4V7b-"
      },
      "source": [
        "First we check if the masked values are continuous or not."
      ]
    },
    {
      "cell_type": "code",
      "metadata": {
        "id": "A0Z4Ab1_V6oi"
      },
      "source": [
        "missing = np.where(temp.mask == True)"
      ],
      "execution_count": 100,
      "outputs": []
    },
    {
      "cell_type": "code",
      "metadata": {
        "colab": {
          "base_uri": "https://localhost:8080/"
        },
        "id": "s6BoZ-2nWvfg",
        "outputId": "37e61d8b-1c72-4ba8-e9e8-1f4af0d544af"
      },
      "source": [
        "missing[0][0] # The missing data is infact continuous so our time series is not broken anywhere"
      ],
      "execution_count": 101,
      "outputs": [
        {
          "output_type": "execute_result",
          "data": {
            "text/plain": [
              "86928"
            ]
          },
          "metadata": {
            "tags": []
          },
          "execution_count": 101
        }
      ]
    },
    {
      "cell_type": "code",
      "metadata": {
        "id": "tLDymdf7HApc"
      },
      "source": [
        "temp = temp[~temp.mask] #use the inverse of the mask as an index."
      ],
      "execution_count": 102,
      "outputs": []
    },
    {
      "cell_type": "code",
      "metadata": {
        "colab": {
          "base_uri": "https://localhost:8080/"
        },
        "id": "9yijNfMlHQnr",
        "outputId": "8dbc4113-1392-4f03-9106-bf74dfbb8cb2"
      },
      "source": [
        "temp.shape # This is a continuous time series for temperature."
      ],
      "execution_count": 103,
      "outputs": [
        {
          "output_type": "execute_result",
          "data": {
            "text/plain": [
              "(86928,)"
            ]
          },
          "metadata": {
            "tags": []
          },
          "execution_count": 103
        }
      ]
    },
    {
      "cell_type": "markdown",
      "metadata": {
        "id": "vGfNPxwNc0Kj"
      },
      "source": [
        "Reducing time seris to match with it"
      ]
    },
    {
      "cell_type": "code",
      "metadata": {
        "id": "W6502fRXc7mZ"
      },
      "source": [
        "time = time[:86928]"
      ],
      "execution_count": 104,
      "outputs": []
    },
    {
      "cell_type": "code",
      "metadata": {
        "colab": {
          "base_uri": "https://localhost:8080/"
        },
        "id": "W9rHjMAKdLWo",
        "outputId": "6d02d69a-c05c-4a90-c32a-520caabd24a6"
      },
      "source": [
        "time.shape"
      ],
      "execution_count": 105,
      "outputs": [
        {
          "output_type": "execute_result",
          "data": {
            "text/plain": [
              "(86928,)"
            ]
          },
          "metadata": {
            "tags": []
          },
          "execution_count": 105
        }
      ]
    },
    {
      "cell_type": "markdown",
      "metadata": {
        "id": "-ZWEvZ-0c84R"
      },
      "source": [
        "Find the unique value in numpy"
      ]
    },
    {
      "cell_type": "code",
      "metadata": {
        "colab": {
          "base_uri": "https://localhost:8080/"
        },
        "id": "F14kRU1KVOZs",
        "outputId": "a0e09da2-b763-408b-9496-264017f9072a"
      },
      "source": [
        "np.unique(temp.mask) #All values are genuine now"
      ],
      "execution_count": 106,
      "outputs": [
        {
          "output_type": "execute_result",
          "data": {
            "text/plain": [
              "array([False])"
            ]
          },
          "metadata": {
            "tags": []
          },
          "execution_count": 106
        }
      ]
    },
    {
      "cell_type": "markdown",
      "metadata": {
        "id": "Nzm0Kd4eDnTG"
      },
      "source": [
        "## Plot the temperature over time."
      ]
    },
    {
      "cell_type": "markdown",
      "metadata": {
        "id": "XvpsqcxKeF-W"
      },
      "source": [
        "Plot the time series against time\n",
        "\n",
        "\n"
      ]
    },
    {
      "cell_type": "code",
      "metadata": {
        "id": "vsTvefA-s0No"
      },
      "source": [
        "number_of_years = (time-973008)/8760 "
      ],
      "execution_count": 107,
      "outputs": []
    },
    {
      "cell_type": "markdown",
      "metadata": {
        "id": "iRxAfyoqDKFr"
      },
      "source": [
        "Temperature plot over approximately 10 years"
      ]
    },
    {
      "cell_type": "code",
      "metadata": {
        "colab": {
          "base_uri": "https://localhost:8080/",
          "height": 282
        },
        "id": "hX025uRYeFl5",
        "outputId": "8b571c03-76e4-412d-95dd-f0f0807e1609"
      },
      "source": [
        "plt.plot(number_of_years,temp)"
      ],
      "execution_count": 108,
      "outputs": [
        {
          "output_type": "execute_result",
          "data": {
            "text/plain": [
              "[<matplotlib.lines.Line2D at 0x7f2f2938fb90>]"
            ]
          },
          "metadata": {
            "tags": []
          },
          "execution_count": 108
        },
        {
          "output_type": "display_data",
          "data": {
            "image/png": "[encoded data removed]",
            "text/plain": [
              "<Figure size 432x288 with 1 Axes>"
            ]
          },
          "metadata": {
            "tags": [],
            "needs_background": "light"
          }
        }
      ]
    },
    {
      "cell_type": "markdown",
      "metadata": {
        "id": "0EW6HY0mzXQT"
      },
      "source": [
        "## Standardize the temperature"
      ]
    },
    {
      "cell_type": "code",
      "metadata": {
        "colab": {
          "base_uri": "https://localhost:8080/"
        },
        "id": "4rXEOPUetmhQ",
        "outputId": "cdd21500-a15c-49a4-9b91-58f2b453a874"
      },
      "source": [
        "temp.shape"
      ],
      "execution_count": 109,
      "outputs": [
        {
          "output_type": "execute_result",
          "data": {
            "text/plain": [
              "(86928,)"
            ]
          },
          "metadata": {
            "tags": []
          },
          "execution_count": 109
        }
      ]
    },
    {
      "cell_type": "code",
      "metadata": {
        "id": "-eP9aC_Mt7G3",
        "colab": {
          "base_uri": "https://localhost:8080/"
        },
        "outputId": "3acf662f-9046-4f74-8cd1-f89f9a8d967f"
      },
      "source": [
        "temp.mean()"
      ],
      "execution_count": 110,
      "outputs": [
        {
          "output_type": "execute_result",
          "data": {
            "text/plain": [
              "5.57589982331033"
            ]
          },
          "metadata": {
            "tags": []
          },
          "execution_count": 110
        }
      ]
    },
    {
      "cell_type": "code",
      "metadata": {
        "colab": {
          "base_uri": "https://localhost:8080/"
        },
        "id": "hqjm3Klsrh10",
        "outputId": "901e972e-e11c-434a-8a12-09e1b5dd41e9"
      },
      "source": [
        "temp.std()"
      ],
      "execution_count": 111,
      "outputs": [
        {
          "output_type": "execute_result",
          "data": {
            "text/plain": [
              "7.754305350561417"
            ]
          },
          "metadata": {
            "tags": []
          },
          "execution_count": 111
        }
      ]
    },
    {
      "cell_type": "code",
      "metadata": {
        "colab": {
          "base_uri": "https://localhost:8080/",
          "height": 367
        },
        "id": "xeYvQMjFrmtI",
        "outputId": "0e69d017-0c5a-4345-9efa-84c7abe73da7"
      },
      "source": [
        "plt.hist(temp)"
      ],
      "execution_count": 112,
      "outputs": [
        {
          "output_type": "execute_result",
          "data": {
            "text/plain": [
              "(array([  297.,  2100.,  6706., 15629., 17035., 14113., 12733., 11795.,\n",
              "         5601.,   919.]),\n",
              " array([-16.62485352, -12.39963379,  -8.17441406,  -3.94919434,\n",
              "          0.27602539,   4.50124512,   8.72646484,  12.95168457,\n",
              "         17.1769043 ,  21.40212402,  25.62734375]),\n",
              " <a list of 10 Patch objects>)"
            ]
          },
          "metadata": {
            "tags": []
          },
          "execution_count": 112
        },
        {
          "output_type": "display_data",
          "data": {
            "image/png": "[encoded data removed]",
            "text/plain": [
              "<Figure size 432x288 with 1 Axes>"
            ]
          },
          "metadata": {
            "tags": [],
            "needs_background": "light"
          }
        }
      ]
    },
    {
      "cell_type": "code",
      "metadata": {
        "id": "ZE61KVZrrxc0"
      },
      "source": [
        "#temp = (temp - temp.mean())/temp.std()"
      ],
      "execution_count": 113,
      "outputs": []
    },
    {
      "cell_type": "code",
      "metadata": {
        "colab": {
          "base_uri": "https://localhost:8080/"
        },
        "id": "7cdy_DhUELGl",
        "outputId": "5c0fdd64-33f9-4f3a-d136-22b0bf47e096"
      },
      "source": [
        "temp.mean()"
      ],
      "execution_count": 114,
      "outputs": [
        {
          "output_type": "execute_result",
          "data": {
            "text/plain": [
              "5.57589982331033"
            ]
          },
          "metadata": {
            "tags": []
          },
          "execution_count": 114
        }
      ]
    },
    {
      "cell_type": "code",
      "metadata": {
        "colab": {
          "base_uri": "https://localhost:8080/"
        },
        "id": "GNh-ICRmENdT",
        "outputId": "74056249-025c-44c2-f61b-cc3adcd805ee"
      },
      "source": [
        "temp.std()"
      ],
      "execution_count": 115,
      "outputs": [
        {
          "output_type": "execute_result",
          "data": {
            "text/plain": [
              "7.754305350561417"
            ]
          },
          "metadata": {
            "tags": []
          },
          "execution_count": 115
        }
      ]
    },
    {
      "cell_type": "code",
      "metadata": {
        "id": "otA5KK524DOm",
        "colab": {
          "base_uri": "https://localhost:8080/"
        },
        "outputId": "76901f40-af8d-429c-b8aa-917ba210b468"
      },
      "source": [
        "temp.max()"
      ],
      "execution_count": 116,
      "outputs": [
        {
          "output_type": "execute_result",
          "data": {
            "text/plain": [
              "25.627343750000023"
            ]
          },
          "metadata": {
            "tags": []
          },
          "execution_count": 116
        }
      ]
    },
    {
      "cell_type": "code",
      "metadata": {
        "colab": {
          "base_uri": "https://localhost:8080/"
        },
        "id": "JqaBoSov1EW_",
        "outputId": "f636a691-05f3-4a78-d7ab-a0ac350e72ea"
      },
      "source": [
        "temp.min()"
      ],
      "execution_count": 117,
      "outputs": [
        {
          "output_type": "execute_result",
          "data": {
            "text/plain": [
              "-16.624853515624977"
            ]
          },
          "metadata": {
            "tags": []
          },
          "execution_count": 117
        }
      ]
    },
    {
      "cell_type": "markdown",
      "metadata": {
        "id": "UMZUOts7s_ks"
      },
      "source": [
        "## Generate Samples"
      ]
    },
    {
      "cell_type": "markdown",
      "metadata": {
        "id": "00AHc-f4DKue"
      },
      "source": [
        "We will avoid using functions to generate smaples to understand the process."
      ]
    },
    {
      "cell_type": "markdown",
      "metadata": {
        "id": "3A1QkayuDsw1"
      },
      "source": [
        "We want the prediction model to predict the next 6 hr of data with previous 6 hrs of temp data available."
      ]
    },
    {
      "cell_type": "code",
      "metadata": {
        "colab": {
          "base_uri": "https://localhost:8080/"
        },
        "id": "VsE0ArRFDsQS",
        "outputId": "b7737b92-dd2f-45ee-974b-ce972b0d050d"
      },
      "source": [
        "temp[0:6]"
      ],
      "execution_count": 118,
      "outputs": [
        {
          "output_type": "execute_result",
          "data": {
            "text/plain": [
              "masked_array(data=[-0.3391920819591405, -0.4932865862010658,\n",
              "                   -0.36627145090540125, -0.1728473870034577,\n",
              "                   -0.26569093767636787, -0.4346146201507963],\n",
              "             mask=[False, False, False, False, False, False],\n",
              "       fill_value=-32767)"
            ]
          },
          "metadata": {
            "tags": []
          },
          "execution_count": 118
        }
      ]
    },
    {
      "cell_type": "markdown",
      "metadata": {
        "id": "hp5_X5rIbSd7"
      },
      "source": [
        "We make the vectors of size 6"
      ]
    },
    {
      "cell_type": "code",
      "metadata": {
        "id": "0F3XOYBqDaoz"
      },
      "source": [
        "\n"
      ],
      "execution_count": 118,
      "outputs": []
    },
    {
      "cell_type": "code",
      "metadata": {
        "id": "IbsNEq5YGgBC"
      },
      "source": [
        "future = 6\n",
        "past = 24"
      ],
      "execution_count": 119,
      "outputs": []
    },
    {
      "cell_type": "code",
      "metadata": {
        "id": "WrBV39mPGgBL"
      },
      "source": [
        "data = []\n",
        "\n",
        "for i in range(len(temp)- (future + past)  +1):\n",
        "  data.append(temp[i:i+past].data)\n",
        "data  = np.array(data) "
      ],
      "execution_count": 120,
      "outputs": []
    },
    {
      "cell_type": "code",
      "metadata": {
        "id": "IIl-SaeCGgBM"
      },
      "source": [
        "label = []\n",
        "for i in range(len(temp)- (future + past)  +1):\n",
        "  label.append(temp[i+ past:i+past + future].data)\n",
        "\n",
        "label = np.array(label)\n"
      ],
      "execution_count": 121,
      "outputs": []
    },
    {
      "cell_type": "code",
      "metadata": {
        "colab": {
          "base_uri": "https://localhost:8080/"
        },
        "id": "48h9WMgJIPQq",
        "outputId": "711ffd29-2eae-4f68-fae5-d7d8a5a47d17"
      },
      "source": [
        "#no of samples\n",
        "n_dataSample = len(temp)-past-future +1\n",
        "print(n_dataSample)"
      ],
      "execution_count": 122,
      "outputs": [
        {
          "output_type": "stream",
          "text": [
            "86899\n"
          ],
          "name": "stdout"
        }
      ]
    },
    {
      "cell_type": "code",
      "metadata": {
        "colab": {
          "base_uri": "https://localhost:8080/"
        },
        "id": "gFpXn8oMGgBN",
        "outputId": "99f0d7f3-bb81-4cc3-cd6c-ee765c7e31a2"
      },
      "source": [
        "data.shape"
      ],
      "execution_count": 123,
      "outputs": [
        {
          "output_type": "execute_result",
          "data": {
            "text/plain": [
              "(86899, 24)"
            ]
          },
          "metadata": {
            "tags": []
          },
          "execution_count": 123
        }
      ]
    },
    {
      "cell_type": "code",
      "metadata": {
        "colab": {
          "base_uri": "https://localhost:8080/"
        },
        "id": "FsEcuwj_GgBP",
        "outputId": "151b6c7b-b607-4242-9847-111d9c925952"
      },
      "source": [
        "label.shape"
      ],
      "execution_count": 124,
      "outputs": [
        {
          "output_type": "execute_result",
          "data": {
            "text/plain": [
              "(86899, 6)"
            ]
          },
          "metadata": {
            "tags": []
          },
          "execution_count": 124
        }
      ]
    },
    {
      "cell_type": "markdown",
      "metadata": {
        "id": "WdR0ak8-307l"
      },
      "source": [
        "> Split the samples into train and test data"
      ]
    },
    {
      "cell_type": "code",
      "metadata": {
        "id": "IYqFyO8Wiylk"
      },
      "source": [
        "temp_train_number = np.int(0.8*len(data))"
      ],
      "execution_count": 125,
      "outputs": []
    },
    {
      "cell_type": "code",
      "metadata": {
        "colab": {
          "base_uri": "https://localhost:8080/"
        },
        "id": "rtuZyWlkkGbQ",
        "outputId": "5c0ef58b-fad2-4930-b5d2-495dcb69dc6f"
      },
      "source": [
        "temp_train_number"
      ],
      "execution_count": 126,
      "outputs": [
        {
          "output_type": "execute_result",
          "data": {
            "text/plain": [
              "69519"
            ]
          },
          "metadata": {
            "tags": []
          },
          "execution_count": 126
        }
      ]
    },
    {
      "cell_type": "code",
      "metadata": {
        "id": "MuC6Bm6ckNG1"
      },
      "source": [
        "train_temp = data[:temp_train_number]"
      ],
      "execution_count": 127,
      "outputs": []
    },
    {
      "cell_type": "code",
      "metadata": {
        "colab": {
          "base_uri": "https://localhost:8080/"
        },
        "id": "T22dohhlkWRL",
        "outputId": "4f8327a4-ae05-4b76-8cb4-8bb493e689bb"
      },
      "source": [
        "train_temp.shape"
      ],
      "execution_count": 128,
      "outputs": [
        {
          "output_type": "execute_result",
          "data": {
            "text/plain": [
              "(69519, 24)"
            ]
          },
          "metadata": {
            "tags": []
          },
          "execution_count": 128
        }
      ]
    },
    {
      "cell_type": "code",
      "metadata": {
        "colab": {
          "base_uri": "https://localhost:8080/"
        },
        "id": "_mecrf3Olbw3",
        "outputId": "28bebfe7-5e38-4406-af16-ae594b061d99"
      },
      "source": [
        "train_temp[temp_train_number-1]"
      ],
      "execution_count": 129,
      "outputs": [
        {
          "output_type": "execute_result",
          "data": {
            "text/plain": [
              "array([-3.81502251, -3.31792267, -3.32501488, -2.65383338, -2.5977404 ,\n",
              "       -2.45525134, -2.08452189, -2.08903511, -2.09096935, -1.99554682,\n",
              "       -1.93300637, -1.8537025 , -1.38819526, -1.04003194, -0.77310673,\n",
              "       -0.56485349, -0.4797469 , -0.47200994, -0.68284217, -0.84338414,\n",
              "       -1.15157315, -1.24312721, -1.32629955, -1.44493298])"
            ]
          },
          "metadata": {
            "tags": []
          },
          "execution_count": 129
        }
      ]
    },
    {
      "cell_type": "code",
      "metadata": {
        "id": "f1Xl_Jk8kawN"
      },
      "source": [
        "train_label = label[:temp_train_number]"
      ],
      "execution_count": 130,
      "outputs": []
    },
    {
      "cell_type": "code",
      "metadata": {
        "colab": {
          "base_uri": "https://localhost:8080/"
        },
        "id": "czfweIwskgbU",
        "outputId": "5fdc89d4-7529-4b25-b91b-84bf2be56e1a"
      },
      "source": [
        "train_label.shape"
      ],
      "execution_count": 131,
      "outputs": [
        {
          "output_type": "execute_result",
          "data": {
            "text/plain": [
              "(69519, 6)"
            ]
          },
          "metadata": {
            "tags": []
          },
          "execution_count": 131
        }
      ]
    },
    {
      "cell_type": "code",
      "metadata": {
        "id": "swF0pfs_kjJa"
      },
      "source": [
        "test_temp = data[temp_train_number:]"
      ],
      "execution_count": 132,
      "outputs": []
    },
    {
      "cell_type": "code",
      "metadata": {
        "id": "Ao5XV2YYlkm_"
      },
      "source": [
        "test_label = label[temp_train_number:]"
      ],
      "execution_count": 133,
      "outputs": []
    },
    {
      "cell_type": "code",
      "metadata": {
        "colab": {
          "base_uri": "https://localhost:8080/"
        },
        "id": "JfursmMulpap",
        "outputId": "5cc3398b-3a6b-4b3d-a732-07df47b01154"
      },
      "source": [
        "print(test_label.shape)\n",
        "print(test_temp.shape)"
      ],
      "execution_count": 134,
      "outputs": [
        {
          "output_type": "stream",
          "text": [
            "(17380, 6)\n",
            "(17380, 24)\n"
          ],
          "name": "stdout"
        }
      ]
    },
    {
      "cell_type": "code",
      "metadata": {
        "colab": {
          "base_uri": "https://localhost:8080/"
        },
        "id": "UFC8ixk6lZ9G",
        "outputId": "7cd17acf-a1c4-4adf-b5e2-508436a586dc"
      },
      "source": [
        "test_temp[1].shape"
      ],
      "execution_count": 135,
      "outputs": [
        {
          "output_type": "execute_result",
          "data": {
            "text/plain": [
              "(24,)"
            ]
          },
          "metadata": {
            "tags": []
          },
          "execution_count": 135
        }
      ]
    },
    {
      "cell_type": "markdown",
      "metadata": {
        "id": "sgyLZVdnGtX5"
      },
      "source": [
        "#  Persistence Model"
      ]
    },
    {
      "cell_type": "code",
      "metadata": {
        "id": "GbP98gYzGw8K"
      },
      "source": [
        "def model_persistence(test_temp_entry):\n",
        "  arr = np.full((future,),test_temp_entry[past-1])\n",
        "\n",
        "  return arr"
      ],
      "execution_count": 136,
      "outputs": []
    },
    {
      "cell_type": "code",
      "metadata": {
        "colab": {
          "base_uri": "https://localhost:8080/"
        },
        "id": "SSDmsKs8IAF6",
        "outputId": "f523118d-78fe-4b15-da9d-386a4f31d934"
      },
      "source": [
        "test_temp[1]"
      ],
      "execution_count": 137,
      "outputs": [
        {
          "output_type": "execute_result",
          "data": {
            "text/plain": [
              "array([-3.32501488, -2.65383338, -2.5977404 , -2.45525134, -2.08452189,\n",
              "       -2.08903511, -2.09096935, -1.99554682, -1.93300637, -1.8537025 ,\n",
              "       -1.38819526, -1.04003194, -0.77310673, -0.56485349, -0.4797469 ,\n",
              "       -0.47200994, -0.68284217, -0.84338414, -1.15157315, -1.24312721,\n",
              "       -1.32629955, -1.44493298, -1.40689291, -1.32952329])"
            ]
          },
          "metadata": {
            "tags": []
          },
          "execution_count": 137
        }
      ]
    },
    {
      "cell_type": "code",
      "metadata": {
        "colab": {
          "base_uri": "https://localhost:8080/"
        },
        "id": "g_ukdfIJHLwC",
        "outputId": "089ce544-45d1-49dd-ab27-07c7d561f369"
      },
      "source": [
        "model_persistence(test_temp[1])"
      ],
      "execution_count": 138,
      "outputs": [
        {
          "output_type": "execute_result",
          "data": {
            "text/plain": [
              "array([-1.32952329, -1.32952329, -1.32952329, -1.32952329, -1.32952329,\n",
              "       -1.32952329])"
            ]
          },
          "metadata": {
            "tags": []
          },
          "execution_count": 138
        }
      ]
    },
    {
      "cell_type": "code",
      "metadata": {
        "id": "uXDZvx9yIh4c"
      },
      "source": [
        "def y_persis(test_temp):\n",
        "  arr = np.empty(test_label.shape)\n",
        "  for i in range(len(test_temp)):\n",
        "    arr[i] = model_persistence(test_temp[i])\n",
        "  return arr    "
      ],
      "execution_count": 139,
      "outputs": []
    },
    {
      "cell_type": "code",
      "metadata": {
        "colab": {
          "base_uri": "https://localhost:8080/"
        },
        "id": "ak5iT6eHLWfS",
        "outputId": "3d35bd67-fd5b-4d68-ce8d-4195ee0bc952"
      },
      "source": [
        "test_temp.shape"
      ],
      "execution_count": 140,
      "outputs": [
        {
          "output_type": "execute_result",
          "data": {
            "text/plain": [
              "(17380, 24)"
            ]
          },
          "metadata": {
            "tags": []
          },
          "execution_count": 140
        }
      ]
    },
    {
      "cell_type": "code",
      "metadata": {
        "id": "PsRl5gc_JvRR"
      },
      "source": [
        "y_persistence = y_persis(test_temp)"
      ],
      "execution_count": 141,
      "outputs": []
    },
    {
      "cell_type": "markdown",
      "metadata": {
        "id": "N860J48I-QH_"
      },
      "source": [
        "### MSE_Persistence"
      ]
    },
    {
      "cell_type": "code",
      "metadata": {
        "id": "xDZpuZM9Pb7B"
      },
      "source": [
        "from sklearn import linear_model\n",
        "from sklearn.metrics import mean_squared_error, r2_score\n",
        "from sklearn.model_selection import train_test_split"
      ],
      "execution_count": 142,
      "outputs": []
    },
    {
      "cell_type": "code",
      "metadata": {
        "colab": {
          "base_uri": "https://localhost:8080/"
        },
        "id": "KU8c5Cm0PVjG",
        "outputId": "c8226139-95de-4540-94dd-b21985e22824"
      },
      "source": [
        "# The mean squared error\n",
        "print('Mean squared error: %.2f'\n",
        "      % mean_squared_error(test_label, y_persistence))\n",
        "print('Coefficient of determination: %.2f'\n",
        "      % r2_score(test_label, y_persistence))"
      ],
      "execution_count": 143,
      "outputs": [
        {
          "output_type": "stream",
          "text": [
            "Mean squared error: 2.91\n",
            "Coefficient of determination: 0.95\n"
          ],
          "name": "stdout"
        }
      ]
    },
    {
      "cell_type": "markdown",
      "metadata": {
        "id": "hBr8-kEM-bd0"
      },
      "source": [
        "### Plot the temp"
      ]
    },
    {
      "cell_type": "code",
      "metadata": {
        "colab": {
          "base_uri": "https://localhost:8080/",
          "height": 282
        },
        "id": "s83P6z6OPPoN",
        "outputId": "3e77a666-ffe4-46d7-dde8-659f98aa18ce"
      },
      "source": [
        "z = np.linspace(past, past+future,future)\n",
        "plt.plot(test_temp[101])\n",
        "plt.scatter(z,y_persistence[101])\n",
        "plt.scatter(z,test_label[101])"
      ],
      "execution_count": 144,
      "outputs": [
        {
          "output_type": "execute_result",
          "data": {
            "text/plain": [
              "<matplotlib.collections.PathCollection at 0x7f2f1ff7ec90>"
            ]
          },
          "metadata": {
            "tags": []
          },
          "execution_count": 144
        },
        {
          "output_type": "display_data",
          "data": {
            "image/png": "[encoded data removed]",
            "text/plain": [
              "<Figure size 432x288 with 1 Axes>"
            ]
          },
          "metadata": {
            "tags": [],
            "needs_background": "light"
          }
        }
      ]
    },
    {
      "cell_type": "markdown",
      "metadata": {
        "id": "aQelxbdFB5yc"
      },
      "source": [
        "# Linear regression using Sklearn"
      ]
    },
    {
      "cell_type": "code",
      "metadata": {
        "id": "Y_YDixjmlab3"
      },
      "source": [
        "from sklearn import linear_model\n",
        "from sklearn.metrics import mean_squared_error, r2_score\n",
        "from sklearn.model_selection import train_test_split"
      ],
      "execution_count": 145,
      "outputs": []
    },
    {
      "cell_type": "code",
      "metadata": {
        "id": "PHyp_49zlab6"
      },
      "source": [
        "linear_regression = linear_model.LinearRegression()"
      ],
      "execution_count": 146,
      "outputs": []
    },
    {
      "cell_type": "code",
      "metadata": {
        "colab": {
          "base_uri": "https://localhost:8080/"
        },
        "id": "AXnSmakPlab6",
        "outputId": "fdc0b0f9-0850-4bde-cc0b-a150eb1ad06f"
      },
      "source": [
        "linear_regression.fit(train_temp, train_label)"
      ],
      "execution_count": 147,
      "outputs": [
        {
          "output_type": "execute_result",
          "data": {
            "text/plain": [
              "LinearRegression(copy_X=True, fit_intercept=True, n_jobs=None, normalize=False)"
            ]
          },
          "metadata": {
            "tags": []
          },
          "execution_count": 147
        }
      ]
    },
    {
      "cell_type": "code",
      "metadata": {
        "id": "sbI3PsBqlab7"
      },
      "source": [
        "predict_label = linear_regression.predict(test_temp)"
      ],
      "execution_count": 148,
      "outputs": []
    },
    {
      "cell_type": "markdown",
      "metadata": {
        "id": "OiyQTdng-lZV"
      },
      "source": [
        "### MSE_Linear_Regression"
      ]
    },
    {
      "cell_type": "code",
      "metadata": {
        "colab": {
          "base_uri": "https://localhost:8080/"
        },
        "id": "8bSydjDslab7",
        "outputId": "df055e89-0e6b-4f26-f5b1-71061684a6c1"
      },
      "source": [
        "# The mean squared error\n",
        "print('Mean squared error: %.2f'\n",
        "      % mean_squared_error(test_label, predict_label))\n",
        "# The coefficient of determination: 1 is perfect prediction\n",
        "print('Coefficient of determination: %.2f'\n",
        "      % r2_score(test_label, predict_label))"
      ],
      "execution_count": 149,
      "outputs": [
        {
          "output_type": "stream",
          "text": [
            "Mean squared error: 1.81\n",
            "Coefficient of determination: 0.97\n"
          ],
          "name": "stdout"
        }
      ]
    },
    {
      "cell_type": "code",
      "metadata": {
        "colab": {
          "base_uri": "https://localhost:8080/",
          "height": 282
        },
        "id": "cA28QS0Klab8",
        "outputId": "4b7c92a9-3bdf-4cd0-9ead-78c8ae927259"
      },
      "source": [
        "z = np.linspace(past, past+future,future)\n",
        "plt.plot(test_temp[101])\n",
        "plt.scatter(z,predict_label[101])\n",
        "plt.scatter(z,test_label[101])"
      ],
      "execution_count": 150,
      "outputs": [
        {
          "output_type": "execute_result",
          "data": {
            "text/plain": [
              "<matplotlib.collections.PathCollection at 0x7f2f1ff10c10>"
            ]
          },
          "metadata": {
            "tags": []
          },
          "execution_count": 150
        },
        {
          "output_type": "display_data",
          "data": {
            "image/png": "[encoded data removed]",
            "text/plain": [
              "<Figure size 432x288 with 1 Axes>"
            ]
          },
          "metadata": {
            "tags": [],
            "needs_background": "light"
          }
        }
      ]
    },
    {
      "cell_type": "markdown",
      "metadata": {
        "id": "xzKXduve-sxi"
      },
      "source": [
        "# Neural Network"
      ]
    },
    {
      "cell_type": "markdown",
      "metadata": {
        "id": "iU2Yf8c-lHCh"
      },
      "source": [
        "## Normalize the data"
      ]
    },
    {
      "cell_type": "code",
      "metadata": {
        "id": "woziVs3h1zuJ"
      },
      "source": [
        "train_temp_max = train_temp.max()\n",
        "train_temp_min = train_temp.min()\n",
        "\n",
        "train_temp_norm = (train_temp- train_temp_min)/(train_temp_max-train_temp_min)\n",
        "test_temp_norm = (test_temp- train_temp_min)/(train_temp_max-train_temp_min)\n",
        "\n",
        "train_label_norm = (train_label- train_temp_min)/(train_temp_max-train_temp_min)\n",
        "test_label_norm = (test_label- train_temp_min)/(train_temp_max-train_temp_min)\n",
        "\n"
      ],
      "execution_count": 151,
      "outputs": []
    },
    {
      "cell_type": "code",
      "metadata": {
        "colab": {
          "base_uri": "https://localhost:8080/"
        },
        "id": "qGtae2jG2zLB",
        "outputId": "eb011246-395b-42cd-fb34-c097d2f936d5"
      },
      "source": [
        "train_temp.max()"
      ],
      "execution_count": 152,
      "outputs": [
        {
          "output_type": "execute_result",
          "data": {
            "text/plain": [
              "25.627343750000023"
            ]
          },
          "metadata": {
            "tags": []
          },
          "execution_count": 152
        }
      ]
    },
    {
      "cell_type": "code",
      "metadata": {
        "colab": {
          "base_uri": "https://localhost:8080/"
        },
        "id": "_4y5SDPP23gB",
        "outputId": "7bc67db8-1b77-4a66-e960-e281bff5c095"
      },
      "source": [
        "train_label.min()"
      ],
      "execution_count": 153,
      "outputs": [
        {
          "output_type": "execute_result",
          "data": {
            "text/plain": [
              "-16.624853515624977"
            ]
          },
          "metadata": {
            "tags": []
          },
          "execution_count": 153
        }
      ]
    },
    {
      "cell_type": "code",
      "metadata": {
        "id": "1GIhFFxSxtWu"
      },
      "source": [
        "#inp = tf.keras.layers.Input(shape=(6,))     # Sequential api\n",
        "#b = tf.keras.layers.Dense(128,activation='relu')(inp)\n",
        "##b = tf.keras.layers.Dense(128,activation='relu')(inp)\n",
        "#b = tf.keras.layers.Dense(128,activation='relu')(inp)\n",
        "#out = tf.keras.layers.Dense(6, activation='linear')(b)\n",
        "\n",
        "#model = tf.keras.models.Model(inp,out)\n",
        "#model.summary()"
      ],
      "execution_count": 154,
      "outputs": []
    },
    {
      "cell_type": "code",
      "metadata": {
        "colab": {
          "base_uri": "https://localhost:8080/",
          "height": 71
        },
        "id": "VFqROSNq7qoB",
        "outputId": "da11c0bb-bd01-4e4c-e8e0-28f0c05b28bd"
      },
      "source": [
        "axis = np.linspace(0,1999,2000)\n",
        "axisy = temp[0:2000]\n",
        "plt.scatter(axis,axisy)"
      ],
      "execution_count": 155,
      "outputs": [
        {
          "output_type": "execute_result",
          "data": {
            "text/plain": [
              "<matplotlib.collections.PathCollection at 0x7f2f1ff087d0>"
            ]
          },
          "metadata": {
            "tags": []
          },
          "execution_count": 155
        },
        {
          "output_type": "display_data",
          "data": {
            "image/png": "[encoded data removed]",
            "text/plain": [
              "<Figure size 432x288 with 1 Axes>"
            ]
          },
          "metadata": {
            "tags": [],
            "needs_background": "light"
          }
        }
      ]
    },
    {
      "cell_type": "markdown",
      "metadata": {
        "id": "_p_eF52cMIUX"
      },
      "source": [
        "## Model"
      ]
    },
    {
      "cell_type": "code",
      "metadata": {
        "colab": {
          "base_uri": "https://localhost:8080/"
        },
        "id": "ANZh00SVFVR8",
        "outputId": "ed0314be-2f6f-4e04-82be-4874c7ab4dc1"
      },
      "source": [
        "model = tf.keras.models.Sequential([\n",
        "  \n",
        "  tf.keras.layers.Input(shape=(past,)),\n",
        "  tf.keras.layers.Dense(128,activation='relu'),\n",
        "  tf.keras.layers.Dense(128,activation='relu'),\n",
        "  tf.keras.layers.Dense(128,activation='relu'),\n",
        "  tf.keras.layers.Dense(future, activation='linear')\n",
        "])\n",
        "\n",
        "# Compile the model, i.e. associate a loss function and the chosen variant of GD\n",
        "model.compile(\n",
        "    loss=tf.losses.MeanSquaredError(),\n",
        "                optimizer=tf.optimizers.Adam(),\n",
        "                metrics=[tf.metrics.MeanAbsoluteError(),'accuracy']\n",
        ")\n",
        "\n",
        "# Summary of the model\n",
        "model.summary()"
      ],
      "execution_count": 156,
      "outputs": [
        {
          "output_type": "stream",
          "text": [
            "Model: \"sequential\"\n",
            "_________________________________________________________________\n",
            "Layer (type)                 Output Shape              Param #   \n",
            "=================================================================\n",
            "dense (Dense)                (None, 128)               3200      \n",
            "_________________________________________________________________\n",
            "dense_1 (Dense)              (None, 128)               16512     \n",
            "_________________________________________________________________\n",
            "dense_2 (Dense)              (None, 128)               16512     \n",
            "_________________________________________________________________\n",
            "dense_3 (Dense)              (None, 6)                 774       \n",
            "=================================================================\n",
            "Total params: 36,998\n",
            "Trainable params: 36,998\n",
            "Non-trainable params: 0\n",
            "_________________________________________________________________\n"
          ],
          "name": "stdout"
        }
      ]
    },
    {
      "cell_type": "code",
      "metadata": {
        "id": "ZXboj3oyFAa5"
      },
      "source": [
        "test = test_temp_norm, test_label_norm"
      ],
      "execution_count": 157,
      "outputs": []
    },
    {
      "cell_type": "code",
      "metadata": {
        "colab": {
          "base_uri": "https://localhost:8080/"
        },
        "id": "cgHmdimPHWWn",
        "outputId": "f1800b1b-624f-4ac9-a421-9c5acdec5643"
      },
      "source": [
        "hist = model.fit(train_temp_norm,train_label_norm ,batch_size=64, epochs=40,callbacks = tf.keras.callbacks.EarlyStopping(patience=5), validation_data= test)"
      ],
      "execution_count": 158,
      "outputs": [
        {
          "output_type": "stream",
          "text": [
            "Epoch 1/40\n",
            "1087/1087 [==============================] - 4s 3ms/step - loss: 0.0073 - mean_absolute_error: 0.0471 - accuracy: 0.3320 - val_loss: 0.0013 - val_mean_absolute_error: 0.0261 - val_accuracy: 0.4287\n",
            "Epoch 2/40\n",
            "1087/1087 [==============================] - 3s 3ms/step - loss: 0.0013 - mean_absolute_error: 0.0259 - accuracy: 0.4360 - val_loss: 0.0012 - val_mean_absolute_error: 0.0252 - val_accuracy: 0.4922\n",
            "Epoch 3/40\n",
            "1087/1087 [==============================] - 3s 3ms/step - loss: 0.0013 - mean_absolute_error: 0.0253 - accuracy: 0.4505 - val_loss: 0.0012 - val_mean_absolute_error: 0.0248 - val_accuracy: 0.4577\n",
            "Epoch 4/40\n",
            "1087/1087 [==============================] - 3s 3ms/step - loss: 0.0012 - mean_absolute_error: 0.0244 - accuracy: 0.4565 - val_loss: 0.0011 - val_mean_absolute_error: 0.0246 - val_accuracy: 0.4853\n",
            "Epoch 5/40\n",
            "1087/1087 [==============================] - 3s 3ms/step - loss: 0.0012 - mean_absolute_error: 0.0242 - accuracy: 0.4593 - val_loss: 9.9738e-04 - val_mean_absolute_error: 0.0219 - val_accuracy: 0.5142\n",
            "Epoch 6/40\n",
            "1087/1087 [==============================] - 3s 3ms/step - loss: 0.0012 - mean_absolute_error: 0.0242 - accuracy: 0.4610 - val_loss: 0.0010 - val_mean_absolute_error: 0.0221 - val_accuracy: 0.4094\n",
            "Epoch 7/40\n",
            "1087/1087 [==============================] - 3s 3ms/step - loss: 0.0011 - mean_absolute_error: 0.0237 - accuracy: 0.4608 - val_loss: 9.9160e-04 - val_mean_absolute_error: 0.0220 - val_accuracy: 0.5179\n",
            "Epoch 8/40\n",
            "1087/1087 [==============================] - 3s 3ms/step - loss: 0.0011 - mean_absolute_error: 0.0237 - accuracy: 0.4646 - val_loss: 9.3747e-04 - val_mean_absolute_error: 0.0210 - val_accuracy: 0.5212\n",
            "Epoch 9/40\n",
            "1087/1087 [==============================] - 3s 3ms/step - loss: 0.0011 - mean_absolute_error: 0.0231 - accuracy: 0.4755 - val_loss: 0.0010 - val_mean_absolute_error: 0.0228 - val_accuracy: 0.5211\n",
            "Epoch 10/40\n",
            "1087/1087 [==============================] - 3s 3ms/step - loss: 0.0011 - mean_absolute_error: 0.0238 - accuracy: 0.4803 - val_loss: 0.0018 - val_mean_absolute_error: 0.0325 - val_accuracy: 0.3987\n",
            "Epoch 11/40\n",
            "1087/1087 [==============================] - 3s 3ms/step - loss: 0.0011 - mean_absolute_error: 0.0236 - accuracy: 0.4836 - val_loss: 9.5969e-04 - val_mean_absolute_error: 0.0213 - val_accuracy: 0.4817\n",
            "Epoch 12/40\n",
            "1087/1087 [==============================] - 3s 3ms/step - loss: 0.0011 - mean_absolute_error: 0.0234 - accuracy: 0.4791 - val_loss: 0.0015 - val_mean_absolute_error: 0.0302 - val_accuracy: 0.4243\n",
            "Epoch 13/40\n",
            "1087/1087 [==============================] - 3s 3ms/step - loss: 0.0011 - mean_absolute_error: 0.0235 - accuracy: 0.4842 - val_loss: 9.2560e-04 - val_mean_absolute_error: 0.0208 - val_accuracy: 0.4849\n",
            "Epoch 14/40\n",
            "1087/1087 [==============================] - 3s 3ms/step - loss: 0.0011 - mean_absolute_error: 0.0230 - accuracy: 0.4909 - val_loss: 0.0016 - val_mean_absolute_error: 0.0312 - val_accuracy: 0.4776\n",
            "Epoch 15/40\n",
            "1087/1087 [==============================] - 3s 3ms/step - loss: 0.0011 - mean_absolute_error: 0.0233 - accuracy: 0.4911 - val_loss: 9.9024e-04 - val_mean_absolute_error: 0.0222 - val_accuracy: 0.5566\n",
            "Epoch 16/40\n",
            "1087/1087 [==============================] - 3s 3ms/step - loss: 0.0011 - mean_absolute_error: 0.0231 - accuracy: 0.4919 - val_loss: 0.0012 - val_mean_absolute_error: 0.0269 - val_accuracy: 0.5467\n",
            "Epoch 17/40\n",
            "1087/1087 [==============================] - 3s 3ms/step - loss: 0.0011 - mean_absolute_error: 0.0231 - accuracy: 0.4930 - val_loss: 0.0011 - val_mean_absolute_error: 0.0246 - val_accuracy: 0.5388\n",
            "Epoch 18/40\n",
            "1087/1087 [==============================] - 3s 3ms/step - loss: 0.0011 - mean_absolute_error: 0.0232 - accuracy: 0.4978 - val_loss: 0.0010 - val_mean_absolute_error: 0.0225 - val_accuracy: 0.5570\n"
          ],
          "name": "stdout"
        }
      ]
    },
    {
      "cell_type": "code",
      "metadata": {
        "colab": {
          "base_uri": "https://localhost:8080/"
        },
        "id": "tBA6pHJtzE4X",
        "outputId": "94e872c0-7f27-4ad5-a07c-613b55ac1897"
      },
      "source": [
        "test_temp"
      ],
      "execution_count": 159,
      "outputs": [
        {
          "output_type": "execute_result",
          "data": {
            "text/plain": [
              "array([[-3.31792267, -3.32501488, -2.65383338, ..., -1.32629955,\n",
              "        -1.44493298, -1.40689291],\n",
              "       [-3.32501488, -2.65383338, -2.5977404 , ..., -1.44493298,\n",
              "        -1.40689291, -1.32952329],\n",
              "       [-2.65383338, -2.5977404 , -2.45525134, ..., -1.40689291,\n",
              "        -1.32952329, -1.26891708],\n",
              "       ...,\n",
              "       [ 6.44612408,  6.50479605,  6.37262294, ...,  2.18370246,\n",
              "         2.84908124,  3.12825664],\n",
              "       [ 6.50479605,  6.37262294,  6.03413082, ...,  2.84908124,\n",
              "         3.12825664,  3.38099741],\n",
              "       [ 6.37262294,  6.03413082,  4.70337326, ...,  3.12825664,\n",
              "         3.38099741,  3.79363542]])"
            ]
          },
          "metadata": {
            "tags": []
          },
          "execution_count": 159
        }
      ]
    },
    {
      "cell_type": "code",
      "metadata": {
        "id": "690uGOO0HkPf"
      },
      "source": [
        "prediction = model.predict(test_temp_norm)"
      ],
      "execution_count": 160,
      "outputs": []
    },
    {
      "cell_type": "code",
      "metadata": {
        "colab": {
          "base_uri": "https://localhost:8080/"
        },
        "id": "MVUgTcGpNKwa",
        "outputId": "145a7ea7-246d-496f-dfae-491f22279321"
      },
      "source": [
        "prediction.shape"
      ],
      "execution_count": 161,
      "outputs": [
        {
          "output_type": "execute_result",
          "data": {
            "text/plain": [
              "(17380, 6)"
            ]
          },
          "metadata": {
            "tags": []
          },
          "execution_count": 161
        }
      ]
    },
    {
      "cell_type": "code",
      "metadata": {
        "colab": {
          "base_uri": "https://localhost:8080/"
        },
        "id": "dHbfItmpNNu7",
        "outputId": "faec362e-d55f-4a0e-fd72-9c16798b2238"
      },
      "source": [
        "test_label_norm.shape"
      ],
      "execution_count": 162,
      "outputs": [
        {
          "output_type": "execute_result",
          "data": {
            "text/plain": [
              "(17380, 6)"
            ]
          },
          "metadata": {
            "tags": []
          },
          "execution_count": 162
        }
      ]
    },
    {
      "cell_type": "code",
      "metadata": {
        "colab": {
          "base_uri": "https://localhost:8080/"
        },
        "id": "Fvs6KS3qJeYK",
        "outputId": "f114da7d-e47f-4fa7-dc25-c635ccc0f583"
      },
      "source": [
        "model.evaluate(test_temp_norm,  test_label_norm, verbose=2)"
      ],
      "execution_count": 163,
      "outputs": [
        {
          "output_type": "stream",
          "text": [
            "544/544 - 0s - loss: 0.0010 - mean_absolute_error: 0.0225 - accuracy: 0.5570\n"
          ],
          "name": "stdout"
        },
        {
          "output_type": "execute_result",
          "data": {
            "text/plain": [
              "[0.0010244733421131968, 0.02251298725605011, 0.5570195913314819]"
            ]
          },
          "metadata": {
            "tags": []
          },
          "execution_count": 163
        }
      ]
    },
    {
      "cell_type": "markdown",
      "metadata": {
        "id": "3Sk3GdGEBvmw"
      },
      "source": [
        "## Scale back to prediction temperature"
      ]
    },
    {
      "cell_type": "code",
      "metadata": {
        "id": "IuZ0L9seVV66"
      },
      "source": [
        "y_predict_norm = model.predict(test_temp_norm)"
      ],
      "execution_count": 164,
      "outputs": []
    },
    {
      "cell_type": "code",
      "metadata": {
        "id": "jbsxRFIzRLXd"
      },
      "source": [
        "y_predict = train_temp_min + y_predict_norm * (train_temp_max-train_temp_min)"
      ],
      "execution_count": 165,
      "outputs": []
    },
    {
      "cell_type": "markdown",
      "metadata": {
        "id": "4nIM-gd_B6oM"
      },
      "source": [
        "##MSE_Neural_Network"
      ]
    },
    {
      "cell_type": "code",
      "metadata": {
        "colab": {
          "base_uri": "https://localhost:8080/"
        },
        "id": "KnVKF-ZLRvjZ",
        "outputId": "6fcd2963-d533-4df3-b9b9-a57df21eb0e9"
      },
      "source": [
        "# The mean squared error\n",
        "print('Mean squared error: %.2f'\n",
        "      % mean_squared_error(test_label, y_predict))\n",
        "# The coefficient of determination: 1 is perfect prediction\n",
        "print('Coefficient of determination: %.2f'\n",
        "      % r2_score(test_label, y_predict))"
      ],
      "execution_count": 166,
      "outputs": [
        {
          "output_type": "stream",
          "text": [
            "Mean squared error: 1.83\n",
            "Coefficient of determination: 0.97\n"
          ],
          "name": "stdout"
        }
      ]
    },
    {
      "cell_type": "markdown",
      "metadata": {
        "id": "tYOfJXHCCcdX"
      },
      "source": [
        "## Plot the temp"
      ]
    },
    {
      "cell_type": "code",
      "metadata": {
        "id": "qeivT3SnVfpw"
      },
      "source": [
        "z = np.linspace(past, past+future,future)"
      ],
      "execution_count": 167,
      "outputs": []
    },
    {
      "cell_type": "code",
      "metadata": {
        "colab": {
          "base_uri": "https://localhost:8080/",
          "height": 282
        },
        "id": "hWqjmFtzVm1Z",
        "outputId": "9f19f17e-bba9-4d0b-b63e-4c788958ec15"
      },
      "source": [
        "i = 1\n",
        "plt.plot(test_temp[i])\n",
        "plt.scatter(z,y_predict[i])\n",
        "plt.scatter(z,test_label[i]) # What shappeneing is that predicted values are so large in comparison to the test amd label values that is approximately starilght line"
      ],
      "execution_count": 168,
      "outputs": [
        {
          "output_type": "execute_result",
          "data": {
            "text/plain": [
              "<matplotlib.collections.PathCollection at 0x7f2f0e56d8d0>"
            ]
          },
          "metadata": {
            "tags": []
          },
          "execution_count": 168
        },
        {
          "output_type": "display_data",
          "data": {
            "image/png": "[encoded data removed]",
            "text/plain": [
              "<Figure size 432x288 with 1 Axes>"
            ]
          },
          "metadata": {
            "tags": [],
            "needs_background": "light"
          }
        }
      ]
    },
    {
      "cell_type": "markdown",
      "metadata": {
        "id": "dwRL0SwUFp4P"
      },
      "source": [
        "# Model comparison\n"
      ]
    },
    {
      "cell_type": "code",
      "metadata": {
        "colab": {
          "base_uri": "https://localhost:8080/",
          "height": 282
        },
        "id": "2DhIsQNKYc_e",
        "outputId": "be4c6ba1-a4dc-4251-ebdc-70467f5e3076"
      },
      "source": [
        "i = 2\n",
        "z = np.linspace(past, past+future,future)\n",
        "plt.plot(test_temp[i])\n",
        "plt.scatter(z,y_predict[i], label = 'NN')\n",
        "plt.scatter(z,test_label[i], label = 'True temperature')\n",
        "plt.scatter(z,y_persistence[i], label= 'Persistence')\n",
        "plt.scatter(z,predict_label[i], label='Linear regression')\n",
        "#plt.scatter(z,y_predict_LR[i], label='Linear regression in Keras')\n",
        "\n",
        "plt.legend(loc='best')\n",
        "\n"
      ],
      "execution_count": 169,
      "outputs": [
        {
          "output_type": "execute_result",
          "data": {
            "text/plain": [
              "<matplotlib.legend.Legend at 0x7f2f15e01fd0>"
            ]
          },
          "metadata": {
            "tags": []
          },
          "execution_count": 169
        },
        {
          "output_type": "display_data",
          "data": {
            "image/png": "[encoded data removed]",
            "text/plain": [
              "<Figure size 432x288 with 1 Axes>"
            ]
          },
          "metadata": {
            "tags": [],
            "needs_background": "light"
          }
        }
      ]
    },
    {
      "cell_type": "markdown",
      "metadata": {
        "id": "dW1hDa0n5dxG"
      },
      "source": [
        "## MSE"
      ]
    },
    {
      "cell_type": "markdown",
      "metadata": {
        "id": "xbpG1y1PDHUH"
      },
      "source": [
        "> We will check how MSE grows for predicted value on time axis."
      ]
    },
    {
      "cell_type": "code",
      "metadata": {
        "id": "3I_Q-h1A5xx7"
      },
      "source": [
        "def mse(predict):\n",
        "  mse = np.ones((future,))\n",
        "  for i in range(future):\n",
        "     mse[i]= np.mean((test_label[:,i]-predict[:,i])**2)\n",
        "  return mse \n",
        "   "
      ],
      "execution_count": 170,
      "outputs": []
    },
    {
      "cell_type": "code",
      "metadata": {
        "colab": {
          "base_uri": "https://localhost:8080/"
        },
        "id": "01lO4DZgIA1b",
        "outputId": "41d13cdf-38f5-4e32-ea63-4309523d9cc8"
      },
      "source": [
        "mse(y_persistence)"
      ],
      "execution_count": 171,
      "outputs": [
        {
          "output_type": "execute_result",
          "data": {
            "text/plain": [
              "array([0.35980473, 1.07395306, 2.08032862, 3.28121692, 4.64615857,\n",
              "       6.03035874])"
            ]
          },
          "metadata": {
            "tags": []
          },
          "execution_count": 171
        }
      ]
    },
    {
      "cell_type": "code",
      "metadata": {
        "colab": {
          "base_uri": "https://localhost:8080/"
        },
        "id": "Uo1_DpzSjeZ-",
        "outputId": "4b762282-979c-48ab-8fc0-63136a4cda9d"
      },
      "source": [
        "mse(predict_label)"
      ],
      "execution_count": 172,
      "outputs": [
        {
          "output_type": "execute_result",
          "data": {
            "text/plain": [
              "array([0.22839943, 0.6234303 , 1.21430255, 1.97920815, 2.91432841,\n",
              "       3.89220089])"
            ]
          },
          "metadata": {
            "tags": []
          },
          "execution_count": 172
        }
      ]
    },
    {
      "cell_type": "code",
      "metadata": {
        "colab": {
          "base_uri": "https://localhost:8080/"
        },
        "id": "qc0J3Qapjh8l",
        "outputId": "e9ec069d-c6d9-405d-d0b5-6063ff99145f"
      },
      "source": [
        "mse(test_label) #test"
      ],
      "execution_count": 173,
      "outputs": [
        {
          "output_type": "execute_result",
          "data": {
            "text/plain": [
              "array([0., 0., 0., 0., 0., 0.])"
            ]
          },
          "metadata": {
            "tags": []
          },
          "execution_count": 173
        }
      ]
    },
    {
      "cell_type": "code",
      "metadata": {
        "colab": {
          "base_uri": "https://localhost:8080/"
        },
        "id": "6rCgzcjCjlJl",
        "outputId": "a304ccbc-8a93-49c2-8bac-252af04fd33a"
      },
      "source": [
        "mse(y_predict) #NN"
      ],
      "execution_count": 174,
      "outputs": [
        {
          "output_type": "execute_result",
          "data": {
            "text/plain": [
              "array([0.28344046, 0.72505499, 1.36267274, 2.1420189 , 2.80520046,\n",
              "       3.65523926])"
            ]
          },
          "metadata": {
            "tags": []
          },
          "execution_count": 174
        }
      ]
    },
    {
      "cell_type": "code",
      "metadata": {
        "colab": {
          "base_uri": "https://localhost:8080/",
          "height": 282
        },
        "id": "c-NoxWc4j8Ug",
        "outputId": "f853de09-5385-436a-fd51-bbc1dafef604"
      },
      "source": [
        "plt.plot(mse(y_predict), label = 'NN')\n",
        "plt.plot(mse(predict_label), label = 'Linear Regression')\n",
        "plt.plot(mse(y_persistence), label = 'Persistence')\n",
        "#plt.plot(mse(y_predict2), label = 'NN2')\n",
        "#plt.plot(mse(y_predict3), label = 'NN3')\n",
        "plt.legend(loc='best')"
      ],
      "execution_count": 175,
      "outputs": [
        {
          "output_type": "execute_result",
          "data": {
            "text/plain": [
              "<matplotlib.legend.Legend at 0x7f2f0e49ce50>"
            ]
          },
          "metadata": {
            "tags": []
          },
          "execution_count": 175
        },
        {
          "output_type": "display_data",
          "data": {
            "image/png": "[encoded data removed]",
            "text/plain": [
              "<Figure size 432x288 with 1 Axes>"
            ]
          },
          "metadata": {
            "tags": [],
            "needs_background": "light"
          }
        }
      ]
    },
    {
      "cell_type": "markdown",
      "metadata": {
        "id": "3fMEA9oK63Zv"
      },
      "source": [
        "# Asignment 5 New Models\n",
        "\n",
        "> We still need to run previous cells as data samples are generated there and some of the libraries are imported there."
      ]
    },
    {
      "cell_type": "markdown",
      "metadata": {
        "id": "p0P44LEDBNWb"
      },
      "source": [
        "## Reshape the data"
      ]
    },
    {
      "cell_type": "markdown",
      "metadata": {
        "id": "WKhCRCQABHXO"
      },
      "source": [
        "> For RNN models, we need to reshape the data "
      ]
    },
    {
      "cell_type": "code",
      "metadata": {
        "id": "6liFYr9r8viB"
      },
      "source": [
        "train_temp_new = np.expand_dims(train_temp_norm, axis = 2)\n",
        "test_temp_new = np.expand_dims(test_temp_norm, axis = 2)"
      ],
      "execution_count": 176,
      "outputs": []
    },
    {
      "cell_type": "code",
      "metadata": {
        "id": "I7N0_FaS8x_H"
      },
      "source": [
        "train_label_new = np.expand_dims(train_label_norm, axis = 2)\n",
        "test_label_new = np.expand_dims(test_label_norm, axis = 2)"
      ],
      "execution_count": 177,
      "outputs": []
    },
    {
      "cell_type": "markdown",
      "metadata": {
        "id": "AC90k4nTBWKm"
      },
      "source": [
        "# LSTM model"
      ]
    },
    {
      "cell_type": "code",
      "metadata": {
        "id": "W6MHNiwa7KZ-"
      },
      "source": [
        "LSTM_model = tf.keras.Sequential([\n",
        "  \n",
        "    tf.keras.layers.InputLayer(input_shape=(past,1)),\n",
        "    tf.keras.layers.LSTM(32, return_sequences=False),\n",
        "    \n",
        "    tf.keras.layers.Dense(future,\n",
        "                          kernel_initializer=tf.initializers.zeros()),\n",
        "    \n",
        "    tf.keras.layers.Reshape([future,1])\n",
        "])\n",
        "\n"
      ],
      "execution_count": 178,
      "outputs": []
    },
    {
      "cell_type": "code",
      "metadata": {
        "colab": {
          "base_uri": "https://localhost:8080/"
        },
        "id": "6FEchvmS8N_T",
        "outputId": "074c0bc6-2819-47e3-a287-e6955bad407d"
      },
      "source": [
        "LSTM_model.compile(\n",
        "    loss=tf.losses.MeanSquaredError(),\n",
        "    optimizer=tf.keras.optimizers.Adam(),\n",
        "    metrics=['accuracy','mse'],\n",
        ")\n",
        "LSTM_model.summary()"
      ],
      "execution_count": 179,
      "outputs": [
        {
          "output_type": "stream",
          "text": [
            "Model: \"sequential_1\"\n",
            "_________________________________________________________________\n",
            "Layer (type)                 Output Shape              Param #   \n",
            "=================================================================\n",
            "lstm (LSTM)                  (None, 32)                4352      \n",
            "_________________________________________________________________\n",
            "dense_4 (Dense)              (None, 6)                 198       \n",
            "_________________________________________________________________\n",
            "reshape (Reshape)            (None, 6, 1)              0         \n",
            "=================================================================\n",
            "Total params: 4,550\n",
            "Trainable params: 4,550\n",
            "Non-trainable params: 0\n",
            "_________________________________________________________________\n"
          ],
          "name": "stdout"
        }
      ]
    },
    {
      "cell_type": "code",
      "metadata": {
        "colab": {
          "base_uri": "https://localhost:8080/"
        },
        "id": "A3VUZOQ58oWC",
        "outputId": "8cce3901-f1b4-49ef-9633-35419b3e4286"
      },
      "source": [
        "history = LSTM_model.fit(train_temp_new,train_label_new, epochs=20)"
      ],
      "execution_count": 180,
      "outputs": [
        {
          "output_type": "stream",
          "text": [
            "Epoch 1/20\n",
            "2173/2173 [==============================] - 26s 11ms/step - loss: 0.0215 - accuracy: 3.3419e-05 - mse: 0.0215\n",
            "Epoch 2/20\n",
            "2173/2173 [==============================] - 24s 11ms/step - loss: 0.0018 - accuracy: 4.5361e-05 - mse: 0.0018\n",
            "Epoch 3/20\n",
            "2173/2173 [==============================] - 24s 11ms/step - loss: 0.0014 - accuracy: 3.1533e-05 - mse: 0.0014\n",
            "Epoch 4/20\n",
            "2173/2173 [==============================] - 24s 11ms/step - loss: 0.0013 - accuracy: 1.5761e-05 - mse: 0.0013\n",
            "Epoch 5/20\n",
            "2173/2173 [==============================] - 24s 11ms/step - loss: 0.0012 - accuracy: 4.7479e-05 - mse: 0.0012\n",
            "Epoch 6/20\n",
            "2173/2173 [==============================] - 24s 11ms/step - loss: 0.0012 - accuracy: 2.0799e-05 - mse: 0.0012\n",
            "Epoch 7/20\n",
            "2173/2173 [==============================] - 23s 11ms/step - loss: 0.0012 - accuracy: 3.7262e-05 - mse: 0.0012\n",
            "Epoch 8/20\n",
            "2173/2173 [==============================] - 23s 11ms/step - loss: 0.0011 - accuracy: 2.2265e-05 - mse: 0.0011\n",
            "Epoch 9/20\n",
            "2173/2173 [==============================] - 24s 11ms/step - loss: 0.0011 - accuracy: 1.9316e-05 - mse: 0.0011\n",
            "Epoch 10/20\n",
            "2173/2173 [==============================] - 24s 11ms/step - loss: 0.0011 - accuracy: 2.0805e-05 - mse: 0.0011\n",
            "Epoch 11/20\n",
            "2173/2173 [==============================] - 24s 11ms/step - loss: 0.0011 - accuracy: 1.9042e-05 - mse: 0.0011\n",
            "Epoch 12/20\n",
            "2173/2173 [==============================] - 23s 11ms/step - loss: 0.0011 - accuracy: 2.1458e-05 - mse: 0.0011\n",
            "Epoch 13/20\n",
            "2173/2173 [==============================] - 23s 11ms/step - loss: 0.0011 - accuracy: 2.4736e-05 - mse: 0.0011\n",
            "Epoch 14/20\n",
            "2173/2173 [==============================] - 23s 11ms/step - loss: 0.0011 - accuracy: 2.8136e-05 - mse: 0.0011\n",
            "Epoch 15/20\n",
            "2173/2173 [==============================] - 23s 11ms/step - loss: 0.0011 - accuracy: 2.9607e-05 - mse: 0.0011\n",
            "Epoch 16/20\n",
            "2173/2173 [==============================] - 23s 11ms/step - loss: 0.0011 - accuracy: 3.0103e-05 - mse: 0.0011\n",
            "Epoch 17/20\n",
            "2173/2173 [==============================] - 23s 11ms/step - loss: 0.0011 - accuracy: 3.2501e-05 - mse: 0.0011\n",
            "Epoch 18/20\n",
            "2173/2173 [==============================] - 24s 11ms/step - loss: 0.0011 - accuracy: 1.9275e-05 - mse: 0.0011\n",
            "Epoch 19/20\n",
            "2173/2173 [==============================] - 24s 11ms/step - loss: 0.0010 - accuracy: 2.9852e-05 - mse: 0.0010\n",
            "Epoch 20/20\n",
            "2173/2173 [==============================] - 23s 11ms/step - loss: 0.0011 - accuracy: 3.8774e-05 - mse: 0.0011\n"
          ],
          "name": "stdout"
        }
      ]
    },
    {
      "cell_type": "code",
      "metadata": {
        "colab": {
          "base_uri": "https://localhost:8080/"
        },
        "id": "uAJ1jS9M-ICM",
        "outputId": "7cddcbeb-e58c-477c-f201-4710a18a6d8d"
      },
      "source": [
        "LSTM_model.evaluate(test_temp_new,  test_label_new, verbose=2)"
      ],
      "execution_count": 181,
      "outputs": [
        {
          "output_type": "stream",
          "text": [
            "544/544 - 2s - loss: 9.7849e-04 - accuracy: 0.0000e+00 - mse: 9.7849e-04\n"
          ],
          "name": "stdout"
        },
        {
          "output_type": "execute_result",
          "data": {
            "text/plain": [
              "[0.0009784885914996266, 0.0, 0.0009784880094230175]"
            ]
          },
          "metadata": {
            "tags": []
          },
          "execution_count": 181
        }
      ]
    },
    {
      "cell_type": "markdown",
      "metadata": {
        "id": "5xexdaHH-ICO"
      },
      "source": [
        "## Scale back to prediction temperature"
      ]
    },
    {
      "cell_type": "code",
      "metadata": {
        "id": "1uC-QTjJ-ICP"
      },
      "source": [
        "y_predict_new = LSTM_model.predict(test_temp_new)"
      ],
      "execution_count": 182,
      "outputs": []
    },
    {
      "cell_type": "code",
      "metadata": {
        "colab": {
          "base_uri": "https://localhost:8080/"
        },
        "id": "s61dU1dA-oRv",
        "outputId": "b23c599d-d6d4-47c2-e28e-b4c8d1e7cb1d"
      },
      "source": [
        "y_predict_new.shape"
      ],
      "execution_count": 183,
      "outputs": [
        {
          "output_type": "execute_result",
          "data": {
            "text/plain": [
              "(17380, 6, 1)"
            ]
          },
          "metadata": {
            "tags": []
          },
          "execution_count": 183
        }
      ]
    },
    {
      "cell_type": "code",
      "metadata": {
        "id": "GF5LxWdo-ICQ"
      },
      "source": [
        "y_predict_LSTM = train_temp_min + y_predict_new * (train_temp_max-train_temp_min)"
      ],
      "execution_count": 184,
      "outputs": []
    },
    {
      "cell_type": "markdown",
      "metadata": {
        "id": "sIFSlPJA-ICR"
      },
      "source": [
        "##MSE_LSTM"
      ]
    },
    {
      "cell_type": "markdown",
      "metadata": {
        "id": "frzVdc_bBtPo"
      },
      "source": [
        "> First Method"
      ]
    },
    {
      "cell_type": "code",
      "metadata": {
        "id": "Ld0KoOKhOkPj"
      },
      "source": [
        "test_label_back= np.expand_dims(test_label, 2)"
      ],
      "execution_count": 185,
      "outputs": []
    },
    {
      "cell_type": "code",
      "metadata": {
        "colab": {
          "base_uri": "https://localhost:8080/"
        },
        "id": "_J_Oqzke_7Y8",
        "outputId": "b0e8fcf5-3d1e-4a11-8c66-41da8c218403"
      },
      "source": [
        "y_predict_LSTM.shape"
      ],
      "execution_count": 186,
      "outputs": [
        {
          "output_type": "execute_result",
          "data": {
            "text/plain": [
              "(17380, 6, 1)"
            ]
          },
          "metadata": {
            "tags": []
          },
          "execution_count": 186
        }
      ]
    },
    {
      "cell_type": "code",
      "metadata": {
        "colab": {
          "base_uri": "https://localhost:8080/"
        },
        "id": "We3oOK3uM-TS",
        "outputId": "c03d350a-bb51-4e9b-f1d8-c035cf7152c3"
      },
      "source": [
        "((y_predict_LSTM - test_label_back)**2).mean() # MSE in temperature terms"
      ],
      "execution_count": 187,
      "outputs": [
        {
          "output_type": "execute_result",
          "data": {
            "text/plain": [
              "1.7468450898670729"
            ]
          },
          "metadata": {
            "tags": []
          },
          "execution_count": 187
        }
      ]
    },
    {
      "cell_type": "markdown",
      "metadata": {
        "id": "GcXFsudkAN3m"
      },
      "source": [
        "> Second Method "
      ]
    },
    {
      "cell_type": "markdown",
      "metadata": {
        "id": "Zk2774zIB1_o"
      },
      "source": [
        "In order to use the MSE method of sklearn we rehape it back reducing dimension. "
      ]
    },
    {
      "cell_type": "code",
      "metadata": {
        "id": "y5C9Qrx1AQv_"
      },
      "source": [
        "y_predict_LSTM_reshaped = y_predict_LSTM.reshape(-1,6)"
      ],
      "execution_count": 188,
      "outputs": []
    },
    {
      "cell_type": "code",
      "metadata": {
        "colab": {
          "base_uri": "https://localhost:8080/"
        },
        "id": "iCwQ56QAApMT",
        "outputId": "c6f168e0-ec7a-4f57-8fa0-92c037c2ac19"
      },
      "source": [
        "y_predict_LSTM_reshaped.shape"
      ],
      "execution_count": 189,
      "outputs": [
        {
          "output_type": "execute_result",
          "data": {
            "text/plain": [
              "(17380, 6)"
            ]
          },
          "metadata": {
            "tags": []
          },
          "execution_count": 189
        }
      ]
    },
    {
      "cell_type": "code",
      "metadata": {
        "colab": {
          "base_uri": "https://localhost:8080/"
        },
        "id": "cBOBKndi-ICS",
        "outputId": "edf1a031-a667-4414-d35b-4ba11a632df2"
      },
      "source": [
        "# The mean squared error\n",
        "print('Mean squared error: %.2f'\n",
        "      % mean_squared_error(test_label, y_predict_LSTM_reshaped))\n",
        "# The coefficient of determination: 1 is perfect prediction\n",
        "print('Coefficient of determination: %.2f'\n",
        "      % r2_score(test_label, y_predict_LSTM_reshaped))"
      ],
      "execution_count": 190,
      "outputs": [
        {
          "output_type": "stream",
          "text": [
            "Mean squared error: 1.75\n",
            "Coefficient of determination: 0.97\n"
          ],
          "name": "stdout"
        }
      ]
    },
    {
      "cell_type": "markdown",
      "metadata": {
        "id": "Fo_CNPwX-ICS"
      },
      "source": [
        "## Plot the temp"
      ]
    },
    {
      "cell_type": "code",
      "metadata": {
        "id": "sdW8aEhW-ICT"
      },
      "source": [
        "z = np.linspace(past, past+future,future)"
      ],
      "execution_count": 191,
      "outputs": []
    },
    {
      "cell_type": "code",
      "metadata": {
        "colab": {
          "base_uri": "https://localhost:8080/",
          "height": 282
        },
        "id": "_CMzwDIc-ICU",
        "outputId": "43799fc3-3239-41fd-aa72-ce8bf54145b4"
      },
      "source": [
        "z = np.linspace(past, past+future,future)\n",
        "plt.plot(test_temp[0])\n",
        "plt.scatter(z,test_label[0])\n",
        "plt.scatter(z,y_predict_LSTM_reshaped[0])"
      ],
      "execution_count": 192,
      "outputs": [
        {
          "output_type": "execute_result",
          "data": {
            "text/plain": [
              "<matplotlib.collections.PathCollection at 0x7f2f0cc2a810>"
            ]
          },
          "metadata": {
            "tags": []
          },
          "execution_count": 192
        },
        {
          "output_type": "display_data",
          "data": {
            "image/png": "[encoded data removed]",
            "text/plain": [
              "<Figure size 432x288 with 1 Axes>"
            ]
          },
          "metadata": {
            "tags": [],
            "needs_background": "light"
          }
        }
      ]
    },
    {
      "cell_type": "markdown",
      "metadata": {
        "id": "8b5NDlaIEd0Y"
      },
      "source": [
        "# RNN Network"
      ]
    },
    {
      "cell_type": "code",
      "metadata": {
        "id": "f5WLEOy3EgVv"
      },
      "source": [
        "RNN_model = tf.keras.Sequential([\n",
        "  \n",
        "    tf.keras.layers.InputLayer(input_shape=(past,1)),\n",
        "    tf.keras.layers.SimpleRNN(128, return_sequences=True),\n",
        "    tf.keras.layers.SimpleRNN(64, return_sequences=False),\n",
        "    \n",
        "    tf.keras.layers.Dense(future,\n",
        "                          kernel_initializer=tf.initializers.zeros()),\n",
        "    \n",
        "    tf.keras.layers.Reshape([future,1])\n",
        "])"
      ],
      "execution_count": 193,
      "outputs": []
    },
    {
      "cell_type": "code",
      "metadata": {
        "colab": {
          "base_uri": "https://localhost:8080/"
        },
        "id": "NiZsT4zVGPkJ",
        "outputId": "5d77d874-17a9-4e95-a130-866963916be3"
      },
      "source": [
        "RNN_model.compile(\n",
        "    loss=tf.losses.MeanSquaredError(),\n",
        "    optimizer=tf.keras.optimizers.Adam(),\n",
        "    metrics=['accuracy','mse'],\n",
        ")\n",
        "RNN_model.summary()"
      ],
      "execution_count": 194,
      "outputs": [
        {
          "output_type": "stream",
          "text": [
            "Model: \"sequential_2\"\n",
            "_________________________________________________________________\n",
            "Layer (type)                 Output Shape              Param #   \n",
            "=================================================================\n",
            "simple_rnn (SimpleRNN)       (None, 24, 128)           16640     \n",
            "_________________________________________________________________\n",
            "simple_rnn_1 (SimpleRNN)     (None, 64)                12352     \n",
            "_________________________________________________________________\n",
            "dense_5 (Dense)              (None, 6)                 390       \n",
            "_________________________________________________________________\n",
            "reshape_1 (Reshape)          (None, 6, 1)              0         \n",
            "=================================================================\n",
            "Total params: 29,382\n",
            "Trainable params: 29,382\n",
            "Non-trainable params: 0\n",
            "_________________________________________________________________\n"
          ],
          "name": "stdout"
        }
      ]
    },
    {
      "cell_type": "code",
      "metadata": {
        "colab": {
          "base_uri": "https://localhost:8080/"
        },
        "id": "j35C0jFOGPkK",
        "outputId": "06656f53-c534-4cd3-b361-f6fbcc3a5125"
      },
      "source": [
        "history = RNN_model.fit(train_temp_new,train_label_new, epochs=20)"
      ],
      "execution_count": 195,
      "outputs": [
        {
          "output_type": "stream",
          "text": [
            "Epoch 1/20\n",
            "2173/2173 [==============================] - 32s 14ms/step - loss: 0.0179 - accuracy: 2.1243e-05 - mse: 0.0179\n",
            "Epoch 2/20\n",
            "2173/2173 [==============================] - 31s 14ms/step - loss: 0.0015 - accuracy: 2.1203e-05 - mse: 0.0015\n",
            "Epoch 3/20\n",
            "2173/2173 [==============================] - 30s 14ms/step - loss: 0.0013 - accuracy: 3.9933e-05 - mse: 0.0013\n",
            "Epoch 4/20\n",
            "2173/2173 [==============================] - 31s 14ms/step - loss: 0.0012 - accuracy: 2.5785e-05 - mse: 0.0012\n",
            "Epoch 5/20\n",
            "2173/2173 [==============================] - 30s 14ms/step - loss: 0.0012 - accuracy: 3.3589e-05 - mse: 0.0012\n",
            "Epoch 6/20\n",
            "2173/2173 [==============================] - 30s 14ms/step - loss: 0.0012 - accuracy: 2.5134e-05 - mse: 0.0012\n",
            "Epoch 7/20\n",
            "2173/2173 [==============================] - 30s 14ms/step - loss: 0.0011 - accuracy: 2.6904e-05 - mse: 0.0011\n",
            "Epoch 8/20\n",
            "2173/2173 [==============================] - 31s 14ms/step - loss: 0.0011 - accuracy: 2.0003e-05 - mse: 0.0011\n",
            "Epoch 9/20\n",
            "2173/2173 [==============================] - 31s 14ms/step - loss: 0.0011 - accuracy: 3.9094e-05 - mse: 0.0011\n",
            "Epoch 10/20\n",
            "2173/2173 [==============================] - 31s 14ms/step - loss: 0.0011 - accuracy: 2.8361e-05 - mse: 0.0011\n",
            "Epoch 11/20\n",
            "2173/2173 [==============================] - 31s 14ms/step - loss: 0.0011 - accuracy: 2.2342e-05 - mse: 0.0011\n",
            "Epoch 12/20\n",
            "2173/2173 [==============================] - 31s 14ms/step - loss: 0.0011 - accuracy: 1.8564e-05 - mse: 0.0011\n",
            "Epoch 13/20\n",
            "2173/2173 [==============================] - 31s 14ms/step - loss: 0.0011 - accuracy: 2.8401e-05 - mse: 0.0011\n",
            "Epoch 14/20\n",
            "2173/2173 [==============================] - 31s 14ms/step - loss: 0.0011 - accuracy: 2.4968e-05 - mse: 0.0011\n",
            "Epoch 15/20\n",
            "2173/2173 [==============================] - 31s 14ms/step - loss: 0.0011 - accuracy: 2.6666e-05 - mse: 0.0011\n",
            "Epoch 16/20\n",
            "2173/2173 [==============================] - 31s 14ms/step - loss: 0.0011 - accuracy: 1.7560e-05 - mse: 0.0011\n",
            "Epoch 17/20\n",
            "2173/2173 [==============================] - 31s 14ms/step - loss: 0.0010 - accuracy: 1.1829e-05 - mse: 0.0010\n",
            "Epoch 18/20\n",
            "2173/2173 [==============================] - 31s 14ms/step - loss: 0.0011 - accuracy: 1.6809e-05 - mse: 0.0011\n",
            "Epoch 19/20\n",
            "2173/2173 [==============================] - 31s 14ms/step - loss: 0.0010 - accuracy: 3.6974e-05 - mse: 0.0010\n",
            "Epoch 20/20\n",
            "2173/2173 [==============================] - 31s 14ms/step - loss: 0.0010 - accuracy: 5.0678e-05 - mse: 0.0010\n"
          ],
          "name": "stdout"
        }
      ]
    },
    {
      "cell_type": "code",
      "metadata": {
        "id": "mj-GEf1mGPkL",
        "colab": {
          "base_uri": "https://localhost:8080/"
        },
        "outputId": "1e0b162d-4ed5-4f5d-8306-3215d39bb408"
      },
      "source": [
        "RNN_model.evaluate(test_temp_new,  test_label_new, verbose=2)"
      ],
      "execution_count": 196,
      "outputs": [
        {
          "output_type": "stream",
          "text": [
            "544/544 - 3s - loss: 0.0010 - accuracy: 0.0000e+00 - mse: 0.0010\n"
          ],
          "name": "stdout"
        },
        {
          "output_type": "execute_result",
          "data": {
            "text/plain": [
              "[0.0010447994573041797, 0.0, 0.0010447994573041797]"
            ]
          },
          "metadata": {
            "tags": []
          },
          "execution_count": 196
        }
      ]
    },
    {
      "cell_type": "markdown",
      "metadata": {
        "id": "Ni4Ro5pMGPkM"
      },
      "source": [
        "## Scale back to prediction temperature"
      ]
    },
    {
      "cell_type": "code",
      "metadata": {
        "id": "8gdcBpb-GPkN"
      },
      "source": [
        "y_predict_new = RNN_model.predict(test_temp_new)"
      ],
      "execution_count": 197,
      "outputs": []
    },
    {
      "cell_type": "code",
      "metadata": {
        "id": "_gIQhcNSGPkN",
        "colab": {
          "base_uri": "https://localhost:8080/"
        },
        "outputId": "9298218e-4ca6-4c4e-e255-de1cc92d6ea8"
      },
      "source": [
        "y_predict_new.shape"
      ],
      "execution_count": 198,
      "outputs": [
        {
          "output_type": "execute_result",
          "data": {
            "text/plain": [
              "(17380, 6, 1)"
            ]
          },
          "metadata": {
            "tags": []
          },
          "execution_count": 198
        }
      ]
    },
    {
      "cell_type": "code",
      "metadata": {
        "id": "kO6Iu0O4GPkO"
      },
      "source": [
        "y_predict_RNN = train_temp_min + y_predict_new * (train_temp_max-train_temp_min)"
      ],
      "execution_count": 199,
      "outputs": []
    },
    {
      "cell_type": "markdown",
      "metadata": {
        "id": "gCBBTwkcGPkP"
      },
      "source": [
        "##MSE_RNN"
      ]
    },
    {
      "cell_type": "markdown",
      "metadata": {
        "id": "AXqE-LRnGPkQ"
      },
      "source": [
        "> First Method"
      ]
    },
    {
      "cell_type": "code",
      "metadata": {
        "id": "TWrGtsmTGPkQ"
      },
      "source": [
        "test_label_back= np.expand_dims(test_label, 2)"
      ],
      "execution_count": 200,
      "outputs": []
    },
    {
      "cell_type": "code",
      "metadata": {
        "id": "JX5MXqk8GPkQ",
        "colab": {
          "base_uri": "https://localhost:8080/"
        },
        "outputId": "0f84214a-e2db-4b9d-a9ac-3206ae5df490"
      },
      "source": [
        "y_predict_RNN.shape"
      ],
      "execution_count": 201,
      "outputs": [
        {
          "output_type": "execute_result",
          "data": {
            "text/plain": [
              "(17380, 6, 1)"
            ]
          },
          "metadata": {
            "tags": []
          },
          "execution_count": 201
        }
      ]
    },
    {
      "cell_type": "code",
      "metadata": {
        "id": "f-h-p3DhGPkR",
        "colab": {
          "base_uri": "https://localhost:8080/"
        },
        "outputId": "0d2299e1-6af3-4a0d-a9f7-4fd741af8301"
      },
      "source": [
        "((y_predict_RNN - test_label_back)**2).mean() # MSE in temperature terms"
      ],
      "execution_count": 202,
      "outputs": [
        {
          "output_type": "execute_result",
          "data": {
            "text/plain": [
              "1.8652271736941868"
            ]
          },
          "metadata": {
            "tags": []
          },
          "execution_count": 202
        }
      ]
    },
    {
      "cell_type": "markdown",
      "metadata": {
        "id": "Nwabd5HIGPkR"
      },
      "source": [
        "> Second Method "
      ]
    },
    {
      "cell_type": "markdown",
      "metadata": {
        "id": "fafWE_jUGPkS"
      },
      "source": [
        "In order to use the MSE method of sklearn we rehape it back reducing dimension. "
      ]
    },
    {
      "cell_type": "code",
      "metadata": {
        "id": "YdyZbBqcGPkS"
      },
      "source": [
        "y_predict_RNN_reshaped = y_predict_RNN.reshape(-1,6)"
      ],
      "execution_count": 203,
      "outputs": []
    },
    {
      "cell_type": "code",
      "metadata": {
        "id": "7yOZ806xGPkT",
        "colab": {
          "base_uri": "https://localhost:8080/"
        },
        "outputId": "215ffd76-0b20-4b76-df07-f9df5f30ab0b"
      },
      "source": [
        "y_predict_RNN_reshaped.shape"
      ],
      "execution_count": 204,
      "outputs": [
        {
          "output_type": "execute_result",
          "data": {
            "text/plain": [
              "(17380, 6)"
            ]
          },
          "metadata": {
            "tags": []
          },
          "execution_count": 204
        }
      ]
    },
    {
      "cell_type": "code",
      "metadata": {
        "id": "KUbIItqdGPkX",
        "colab": {
          "base_uri": "https://localhost:8080/"
        },
        "outputId": "336f0fb9-5890-46db-e03d-6916e6e4e063"
      },
      "source": [
        "# The mean squared error\n",
        "print('Mean squared error: %.2f'\n",
        "      % mean_squared_error(test_label, y_predict_RNN_reshaped))\n",
        "# The coefficient of determination: 1 is perfect prediction\n",
        "print('Coefficient of determination: %.2f'\n",
        "      % r2_score(test_label, y_predict_RNN_reshaped))"
      ],
      "execution_count": 205,
      "outputs": [
        {
          "output_type": "stream",
          "text": [
            "Mean squared error: 1.87\n",
            "Coefficient of determination: 0.97\n"
          ],
          "name": "stdout"
        }
      ]
    },
    {
      "cell_type": "markdown",
      "metadata": {
        "id": "wtoz7O89GPkY"
      },
      "source": [
        "## Plot the temp"
      ]
    },
    {
      "cell_type": "code",
      "metadata": {
        "id": "DH8qMmAWGPkY"
      },
      "source": [
        "z = np.linspace(past, past+future,future)"
      ],
      "execution_count": 206,
      "outputs": []
    },
    {
      "cell_type": "code",
      "metadata": {
        "id": "73O6CFudGPkY",
        "colab": {
          "base_uri": "https://localhost:8080/",
          "height": 282
        },
        "outputId": "3a393402-8e31-453e-c904-b5c2f97ca9e5"
      },
      "source": [
        "z = np.linspace(past, past+future,future)\n",
        "plt.plot(test_temp[0])\n",
        "plt.scatter(z,test_label[0])\n",
        "plt.scatter(z,y_predict_RNN_reshaped[0])"
      ],
      "execution_count": 207,
      "outputs": [
        {
          "output_type": "execute_result",
          "data": {
            "text/plain": [
              "<matplotlib.collections.PathCollection at 0x7f2f0e3321d0>"
            ]
          },
          "metadata": {
            "tags": []
          },
          "execution_count": 207
        },
        {
          "output_type": "display_data",
          "data": {
            "image/png": "[encoded data removed]",
            "text/plain": [
              "<Figure size 432x288 with 1 Axes>"
            ]
          },
          "metadata": {
            "tags": [],
            "needs_background": "light"
          }
        }
      ]
    },
    {
      "cell_type": "markdown",
      "metadata": {
        "id": "aEqTFmnfHUGt"
      },
      "source": [
        "# GRU Model"
      ]
    },
    {
      "cell_type": "code",
      "metadata": {
        "id": "3BTE1M4sHeKY"
      },
      "source": [
        "GRU_model = tf.keras.Sequential([\n",
        "  \n",
        "    tf.keras.layers.InputLayer(input_shape=(past,1)),\n",
        "    tf.keras.layers.GRU(128, return_sequences=True),\n",
        "    tf.keras.layers.SimpleRNN(128, return_sequences=False),\n",
        "\n",
        "\n",
        "\n",
        "    \n",
        "    tf.keras.layers.Dense(future,\n",
        "                          kernel_initializer=tf.initializers.zeros()),\n",
        "    \n",
        "    tf.keras.layers.Reshape([future,1])\n",
        "])\n",
        "\n"
      ],
      "execution_count": 208,
      "outputs": []
    },
    {
      "cell_type": "code",
      "metadata": {
        "id": "Yx0W4faKHeKZ",
        "colab": {
          "base_uri": "https://localhost:8080/"
        },
        "outputId": "77b4e591-c65e-4c7d-92f3-7bf17ef00689"
      },
      "source": [
        "GRU_model.compile(\n",
        "    loss=tf.losses.MeanSquaredError(),\n",
        "    optimizer=tf.keras.optimizers.Adam(),\n",
        "    metrics=['accuracy','mse'],\n",
        ")\n",
        "GRU_model.summary()"
      ],
      "execution_count": 209,
      "outputs": [
        {
          "output_type": "stream",
          "text": [
            "Model: \"sequential_3\"\n",
            "_________________________________________________________________\n",
            "Layer (type)                 Output Shape              Param #   \n",
            "=================================================================\n",
            "gru (GRU)                    (None, 24, 128)           50304     \n",
            "_________________________________________________________________\n",
            "simple_rnn_2 (SimpleRNN)     (None, 128)               32896     \n",
            "_________________________________________________________________\n",
            "dense_6 (Dense)              (None, 6)                 774       \n",
            "_________________________________________________________________\n",
            "reshape_2 (Reshape)          (None, 6, 1)              0         \n",
            "=================================================================\n",
            "Total params: 83,974\n",
            "Trainable params: 83,974\n",
            "Non-trainable params: 0\n",
            "_________________________________________________________________\n"
          ],
          "name": "stdout"
        }
      ]
    },
    {
      "cell_type": "code",
      "metadata": {
        "colab": {
          "base_uri": "https://localhost:8080/"
        },
        "id": "tP0sX6ljHeKa",
        "outputId": "106dd530-af8c-4f70-bdc7-691fe3071184"
      },
      "source": [
        "history = GRU_model.fit(train_temp_new,train_label_new, epochs=20)"
      ],
      "execution_count": 210,
      "outputs": [
        {
          "output_type": "stream",
          "text": [
            "Epoch 1/20\n",
            "2173/2173 [==============================] - 70s 31ms/step - loss: 0.0098 - accuracy: 3.1756e-05 - mse: 0.0098\n",
            "Epoch 2/20\n",
            "2173/2173 [==============================] - 68s 31ms/step - loss: 0.0012 - accuracy: 4.4239e-05 - mse: 0.0012\n",
            "Epoch 3/20\n",
            "2173/2173 [==============================] - 68s 31ms/step - loss: 0.0012 - accuracy: 2.1455e-05 - mse: 0.0012\n",
            "Epoch 4/20\n",
            "2173/2173 [==============================] - 69s 32ms/step - loss: 0.0012 - accuracy: 1.8890e-05 - mse: 0.0012\n",
            "Epoch 5/20\n",
            "2173/2173 [==============================] - 69s 32ms/step - loss: 0.0012 - accuracy: 1.9308e-05 - mse: 0.0012\n",
            "Epoch 6/20\n",
            "2173/2173 [==============================] - 70s 32ms/step - loss: 0.0011 - accuracy: 1.9592e-05 - mse: 0.0011\n",
            "Epoch 7/20\n",
            "2173/2173 [==============================] - 69s 32ms/step - loss: 0.0011 - accuracy: 3.7457e-05 - mse: 0.0011\n",
            "Epoch 8/20\n",
            "2173/2173 [==============================] - 68s 31ms/step - loss: 0.0011 - accuracy: 2.4015e-05 - mse: 0.0011\n",
            "Epoch 9/20\n",
            "2173/2173 [==============================] - 69s 32ms/step - loss: 0.0011 - accuracy: 4.5939e-05 - mse: 0.0011\n",
            "Epoch 10/20\n",
            "2173/2173 [==============================] - 70s 32ms/step - loss: 0.0011 - accuracy: 1.7119e-05 - mse: 0.0011\n",
            "Epoch 11/20\n",
            "2173/2173 [==============================] - 70s 32ms/step - loss: 0.0011 - accuracy: 3.4418e-05 - mse: 0.0011\n",
            "Epoch 12/20\n",
            "2173/2173 [==============================] - 69s 32ms/step - loss: 0.0011 - accuracy: 3.6098e-05 - mse: 0.0011\n",
            "Epoch 13/20\n",
            "2173/2173 [==============================] - 69s 32ms/step - loss: 0.0011 - accuracy: 2.9763e-05 - mse: 0.0011\n",
            "Epoch 14/20\n",
            "2173/2173 [==============================] - 68s 31ms/step - loss: 0.0011 - accuracy: 1.4196e-05 - mse: 0.0011\n",
            "Epoch 15/20\n",
            "2173/2173 [==============================] - 68s 31ms/step - loss: 0.0011 - accuracy: 3.3668e-05 - mse: 0.0011\n",
            "Epoch 16/20\n",
            "2173/2173 [==============================] - 68s 31ms/step - loss: 0.0010 - accuracy: 3.6556e-05 - mse: 0.0010\n",
            "Epoch 17/20\n",
            "2173/2173 [==============================] - 68s 31ms/step - loss: 0.0010 - accuracy: 1.9429e-05 - mse: 0.0010\n",
            "Epoch 18/20\n",
            "2173/2173 [==============================] - 68s 31ms/step - loss: 0.0010 - accuracy: 1.9802e-05 - mse: 0.0010\n",
            "Epoch 19/20\n",
            "2173/2173 [==============================] - 68s 31ms/step - loss: 0.0010 - accuracy: 2.7547e-05 - mse: 0.0010\n",
            "Epoch 20/20\n",
            "2173/2173 [==============================] - 68s 31ms/step - loss: 0.0010 - accuracy: 2.4648e-05 - mse: 0.0010\n"
          ],
          "name": "stdout"
        }
      ]
    },
    {
      "cell_type": "code",
      "metadata": {
        "id": "dLVYrALJHeKa",
        "colab": {
          "base_uri": "https://localhost:8080/"
        },
        "outputId": "2fcbebbc-9ca5-4188-b77b-a743d5b59c63"
      },
      "source": [
        "GRU_model.evaluate(test_temp_new,  test_label_new, verbose=2)"
      ],
      "execution_count": 211,
      "outputs": [
        {
          "output_type": "stream",
          "text": [
            "544/544 - 5s - loss: 9.3654e-04 - accuracy: 0.0000e+00 - mse: 9.3654e-04\n"
          ],
          "name": "stdout"
        },
        {
          "output_type": "execute_result",
          "data": {
            "text/plain": [
              "[0.0009365412988699973, 0.0, 0.0009365418227389455]"
            ]
          },
          "metadata": {
            "tags": []
          },
          "execution_count": 211
        }
      ]
    },
    {
      "cell_type": "markdown",
      "metadata": {
        "id": "9NM-sEgaHeKb"
      },
      "source": [
        "## Scale back to prediction temperature"
      ]
    },
    {
      "cell_type": "code",
      "metadata": {
        "id": "GQWAebi8HeKc"
      },
      "source": [
        "y_predict_new = GRU_model.predict(test_temp_new)"
      ],
      "execution_count": 212,
      "outputs": []
    },
    {
      "cell_type": "code",
      "metadata": {
        "colab": {
          "base_uri": "https://localhost:8080/"
        },
        "id": "CDhbN7n2HeKc",
        "outputId": "acfda681-1340-422e-cf44-c897185a0d26"
      },
      "source": [
        "y_predict_new.shape"
      ],
      "execution_count": 213,
      "outputs": [
        {
          "output_type": "execute_result",
          "data": {
            "text/plain": [
              "(17380, 6, 1)"
            ]
          },
          "metadata": {
            "tags": []
          },
          "execution_count": 213
        }
      ]
    },
    {
      "cell_type": "code",
      "metadata": {
        "id": "sWpa8KltHeKc"
      },
      "source": [
        "y_predict_GRU = train_temp_min + y_predict_new * (train_temp_max-train_temp_min)"
      ],
      "execution_count": 214,
      "outputs": []
    },
    {
      "cell_type": "markdown",
      "metadata": {
        "id": "xed1gBwIHeKd"
      },
      "source": [
        "##MSE_GRU"
      ]
    },
    {
      "cell_type": "markdown",
      "metadata": {
        "id": "75gtJh-dHeKd"
      },
      "source": [
        "> First Method"
      ]
    },
    {
      "cell_type": "code",
      "metadata": {
        "id": "4xYl3aTZHeKd"
      },
      "source": [
        "test_label_back= np.expand_dims(test_label, 2)"
      ],
      "execution_count": 215,
      "outputs": []
    },
    {
      "cell_type": "code",
      "metadata": {
        "colab": {
          "base_uri": "https://localhost:8080/"
        },
        "id": "vUn6MGLJHeKd",
        "outputId": "0236bb25-d4e9-4878-e237-becd7443464d"
      },
      "source": [
        "y_predict_GRU.shape"
      ],
      "execution_count": 216,
      "outputs": [
        {
          "output_type": "execute_result",
          "data": {
            "text/plain": [
              "(17380, 6, 1)"
            ]
          },
          "metadata": {
            "tags": []
          },
          "execution_count": 216
        }
      ]
    },
    {
      "cell_type": "code",
      "metadata": {
        "colab": {
          "base_uri": "https://localhost:8080/"
        },
        "id": "tvNObQPqHeKe",
        "outputId": "e0261ec4-184c-455e-d09f-bf98b25b91dc"
      },
      "source": [
        "((y_predict_GRU - test_label_back)**2).mean() # MSE in temperature terms"
      ],
      "execution_count": 217,
      "outputs": [
        {
          "output_type": "execute_result",
          "data": {
            "text/plain": [
              "1.6719592820945208"
            ]
          },
          "metadata": {
            "tags": []
          },
          "execution_count": 217
        }
      ]
    },
    {
      "cell_type": "markdown",
      "metadata": {
        "id": "92AiAL9cHeKe"
      },
      "source": [
        "> Second Method "
      ]
    },
    {
      "cell_type": "markdown",
      "metadata": {
        "id": "xBsuAStuHeKf"
      },
      "source": [
        "In order to use the MSE method of sklearn we rehape it back reducing dimension. "
      ]
    },
    {
      "cell_type": "code",
      "metadata": {
        "id": "q42PaZSKHeKg"
      },
      "source": [
        "y_predict_GRU_reshaped = y_predict_LSTM.reshape(-1,6)"
      ],
      "execution_count": 218,
      "outputs": []
    },
    {
      "cell_type": "code",
      "metadata": {
        "colab": {
          "base_uri": "https://localhost:8080/"
        },
        "id": "RQCBHIQHHeKh",
        "outputId": "3a407d08-c5ec-4f2e-850e-26a92cba32cf"
      },
      "source": [
        "y_predict_GRU_reshaped.shape"
      ],
      "execution_count": 219,
      "outputs": [
        {
          "output_type": "execute_result",
          "data": {
            "text/plain": [
              "(17380, 6)"
            ]
          },
          "metadata": {
            "tags": []
          },
          "execution_count": 219
        }
      ]
    },
    {
      "cell_type": "code",
      "metadata": {
        "colab": {
          "base_uri": "https://localhost:8080/"
        },
        "id": "hgORu7n0HeKh",
        "outputId": "f12ec992-eaf6-46b4-901a-1e1da3055240"
      },
      "source": [
        "# The mean squared error\n",
        "print('Mean squared error: %.2f'\n",
        "      % mean_squared_error(test_label, y_predict_GRU_reshaped))\n",
        "# The coefficient of determination: 1 is perfect prediction\n",
        "print('Coefficient of determination: %.2f'\n",
        "      % r2_score(test_label, y_predict_GRU_reshaped))"
      ],
      "execution_count": 220,
      "outputs": [
        {
          "output_type": "stream",
          "text": [
            "Mean squared error: 1.75\n",
            "Coefficient of determination: 0.97\n"
          ],
          "name": "stdout"
        }
      ]
    },
    {
      "cell_type": "markdown",
      "metadata": {
        "id": "VjZQGiNAHeKi"
      },
      "source": [
        "## Plot the temp"
      ]
    },
    {
      "cell_type": "code",
      "metadata": {
        "id": "9naN0dz7HeKi"
      },
      "source": [
        "z = np.linspace(past, past+future,future)"
      ],
      "execution_count": 221,
      "outputs": []
    },
    {
      "cell_type": "code",
      "metadata": {
        "colab": {
          "base_uri": "https://localhost:8080/",
          "height": 282
        },
        "id": "h_m2PfMjHeKi",
        "outputId": "aaacb246-c1f1-4c8a-fd6a-c5c56f713408"
      },
      "source": [
        "z = np.linspace(past, past+future,future)\n",
        "plt.plot(test_temp[0])\n",
        "plt.scatter(z,test_label[0])\n",
        "plt.scatter(z,y_predict_GRU_reshaped[0])"
      ],
      "execution_count": 222,
      "outputs": [
        {
          "output_type": "execute_result",
          "data": {
            "text/plain": [
              "<matplotlib.collections.PathCollection at 0x7f2f08efaf90>"
            ]
          },
          "metadata": {
            "tags": []
          },
          "execution_count": 222
        },
        {
          "output_type": "display_data",
          "data": {
            "image/png": "[encoded data removed]",
            "text/plain": [
              "<Figure size 432x288 with 1 Axes>"
            ]
          },
          "metadata": {
            "tags": [],
            "needs_background": "light"
          }
        }
      ]
    },
    {
      "cell_type": "code",
      "metadata": {
        "id": "vTd3_svRK5RI"
      },
      "source": [
        ""
      ],
      "execution_count": 222,
      "outputs": []
    },
    {
      "cell_type": "markdown",
      "metadata": {
        "id": "hvW_TxrbK5k8"
      },
      "source": [
        "# Wavenet Network"
      ]
    },
    {
      "cell_type": "code",
      "metadata": {
        "id": "h1L9c9pFQXCw"
      },
      "source": [
        ""
      ],
      "execution_count": 222,
      "outputs": []
    },
    {
      "cell_type": "code",
      "metadata": {
        "id": "WpRdnJVDK5k9"
      },
      "source": [
        "WAV_model = tf.keras.Sequential([        # 4 layers good for looking back at the 64 hrs of the data #put input shape= (None,19) for any sequence.\n",
        "    tf.keras.layers.InputLayer(input_shape=(past,1)),\n",
        "tf.keras.layers.Conv1D(filters=16,\n",
        "                           kernel_size=(2,),\n",
        "                           activation='relu',padding= 'causal' , dilation_rate = 1),\n",
        "    tf.keras.layers.Conv1D(filters=16,\n",
        "                           kernel_size=(2,),\n",
        "                           activation='relu',padding= 'causal' ,  dilation_rate = 2),\n",
        "    tf.keras.layers.Conv1D(filters=32,\n",
        "                           kernel_size=(2,),\n",
        "                           activation='relu', padding= 'causal' , dilation_rate = 4),\n",
        "     tf.keras.layers.Conv1D(filters=32,\n",
        "                           kernel_size=(past,),\n",
        "                           activation='relu' , dilation_rate = 1),\n",
        "  \n",
        "    tf.keras.layers.Dense(future,\n",
        "                          kernel_initializer=tf.initializers.zeros()),\n",
        "    # Shape => [batch, out_steps, features]\n",
        "    tf.keras.layers.Reshape([future,1])\n",
        "])"
      ],
      "execution_count": 223,
      "outputs": []
    },
    {
      "cell_type": "code",
      "metadata": {
        "colab": {
          "base_uri": "https://localhost:8080/"
        },
        "id": "NG2wk5-sK5k-",
        "outputId": "0425511b-b56e-4d19-afdd-3ad3d9adab92"
      },
      "source": [
        "WAV_model.compile(\n",
        "    loss=tf.losses.MeanSquaredError(),\n",
        "    optimizer=tf.keras.optimizers.Adam(),\n",
        "    metrics=['accuracy','mse'],\n",
        ")\n",
        "WAV_model.summary()"
      ],
      "execution_count": 224,
      "outputs": [
        {
          "output_type": "stream",
          "text": [
            "Model: \"sequential_4\"\n",
            "_________________________________________________________________\n",
            "Layer (type)                 Output Shape              Param #   \n",
            "=================================================================\n",
            "conv1d (Conv1D)              (None, 24, 16)            48        \n",
            "_________________________________________________________________\n",
            "conv1d_1 (Conv1D)            (None, 24, 16)            528       \n",
            "_________________________________________________________________\n",
            "conv1d_2 (Conv1D)            (None, 24, 32)            1056      \n",
            "_________________________________________________________________\n",
            "conv1d_3 (Conv1D)            (None, 1, 32)             24608     \n",
            "_________________________________________________________________\n",
            "dense_7 (Dense)              (None, 1, 6)              198       \n",
            "_________________________________________________________________\n",
            "reshape_3 (Reshape)          (None, 6, 1)              0         \n",
            "=================================================================\n",
            "Total params: 26,438\n",
            "Trainable params: 26,438\n",
            "Non-trainable params: 0\n",
            "_________________________________________________________________\n"
          ],
          "name": "stdout"
        }
      ]
    },
    {
      "cell_type": "code",
      "metadata": {
        "colab": {
          "base_uri": "https://localhost:8080/"
        },
        "id": "9kWphobAK5k-",
        "outputId": "45503d28-e635-4a5a-d04b-e555bbed3c96"
      },
      "source": [
        "history = WAV_model.fit(train_temp_new,train_label_new, epochs=20)"
      ],
      "execution_count": 225,
      "outputs": [
        {
          "output_type": "stream",
          "text": [
            "Epoch 1/20\n",
            "2173/2173 [==============================] - 10s 4ms/step - loss: 0.0167 - accuracy: 2.7692e-05 - mse: 0.0167\n",
            "Epoch 2/20\n",
            "2173/2173 [==============================] - 9s 4ms/step - loss: 0.0013 - accuracy: 2.7161e-05 - mse: 0.0013\n",
            "Epoch 3/20\n",
            "2173/2173 [==============================] - 9s 4ms/step - loss: 0.0012 - accuracy: 3.6586e-05 - mse: 0.0012\n",
            "Epoch 4/20\n",
            "2173/2173 [==============================] - 9s 4ms/step - loss: 0.0012 - accuracy: 2.4973e-05 - mse: 0.0012\n",
            "Epoch 5/20\n",
            "2173/2173 [==============================] - 10s 4ms/step - loss: 0.0012 - accuracy: 2.4466e-05 - mse: 0.0012\n",
            "Epoch 6/20\n",
            "2173/2173 [==============================] - 10s 5ms/step - loss: 0.0011 - accuracy: 2.6825e-05 - mse: 0.0011\n",
            "Epoch 7/20\n",
            "2173/2173 [==============================] - 10s 5ms/step - loss: 0.0011 - accuracy: 2.0902e-05 - mse: 0.0011\n",
            "Epoch 8/20\n",
            "2173/2173 [==============================] - 10s 4ms/step - loss: 0.0011 - accuracy: 3.4290e-05 - mse: 0.0011\n",
            "Epoch 9/20\n",
            "2173/2173 [==============================] - 10s 4ms/step - loss: 0.0011 - accuracy: 1.6927e-05 - mse: 0.0011\n",
            "Epoch 10/20\n",
            "2173/2173 [==============================] - 10s 4ms/step - loss: 0.0011 - accuracy: 1.3475e-05 - mse: 0.0011\n",
            "Epoch 11/20\n",
            "2173/2173 [==============================] - 10s 4ms/step - loss: 0.0011 - accuracy: 4.0273e-05 - mse: 0.0011\n",
            "Epoch 12/20\n",
            "2173/2173 [==============================] - 10s 4ms/step - loss: 0.0010 - accuracy: 1.5054e-05 - mse: 0.0010\n",
            "Epoch 13/20\n",
            "2173/2173 [==============================] - 10s 4ms/step - loss: 0.0011 - accuracy: 3.7497e-05 - mse: 0.0011\n",
            "Epoch 14/20\n",
            "2173/2173 [==============================] - 10s 5ms/step - loss: 0.0010 - accuracy: 2.5348e-05 - mse: 0.0010\n",
            "Epoch 15/20\n",
            "2173/2173 [==============================] - 10s 5ms/step - loss: 0.0010 - accuracy: 1.5781e-05 - mse: 0.0010\n",
            "Epoch 16/20\n",
            "2173/2173 [==============================] - 10s 5ms/step - loss: 0.0010 - accuracy: 2.5251e-05 - mse: 0.0010\n",
            "Epoch 17/20\n",
            "2173/2173 [==============================] - 10s 5ms/step - loss: 0.0010 - accuracy: 1.6892e-05 - mse: 0.0010\n",
            "Epoch 18/20\n",
            "2173/2173 [==============================] - 10s 5ms/step - loss: 0.0010 - accuracy: 3.0270e-05 - mse: 0.0010\n",
            "Epoch 19/20\n",
            "2173/2173 [==============================] - 10s 5ms/step - loss: 0.0010 - accuracy: 3.4235e-05 - mse: 0.0010\n",
            "Epoch 20/20\n",
            "2173/2173 [==============================] - 10s 5ms/step - loss: 9.9942e-04 - accuracy: 3.4116e-05 - mse: 9.9942e-04\n"
          ],
          "name": "stdout"
        }
      ]
    },
    {
      "cell_type": "code",
      "metadata": {
        "id": "zz85ah7-K5k_",
        "colab": {
          "base_uri": "https://localhost:8080/"
        },
        "outputId": "e7071a60-fead-4b43-8ccf-0b108f0e226a"
      },
      "source": [
        "WAV_model.evaluate(test_temp_new,  test_label_new, verbose=2)"
      ],
      "execution_count": 226,
      "outputs": [
        {
          "output_type": "stream",
          "text": [
            "544/544 - 1s - loss: 9.8474e-04 - accuracy: 0.0000e+00 - mse: 9.8474e-04\n"
          ],
          "name": "stdout"
        },
        {
          "output_type": "execute_result",
          "data": {
            "text/plain": [
              "[0.000984738115221262, 0.0, 0.0009847375331446528]"
            ]
          },
          "metadata": {
            "tags": []
          },
          "execution_count": 226
        }
      ]
    },
    {
      "cell_type": "markdown",
      "metadata": {
        "id": "3Lh_KjutK5k_"
      },
      "source": [
        "## Scale back to prediction temperature"
      ]
    },
    {
      "cell_type": "code",
      "metadata": {
        "id": "P1l1YwBsK5k_"
      },
      "source": [
        "y_predict_new = WAV_model.predict(test_temp_new)"
      ],
      "execution_count": 227,
      "outputs": []
    },
    {
      "cell_type": "code",
      "metadata": {
        "id": "a4pY3ekOK5lA",
        "colab": {
          "base_uri": "https://localhost:8080/"
        },
        "outputId": "377f5bfe-372d-4223-c9f4-c6137d22aa0c"
      },
      "source": [
        "y_predict_new.shape"
      ],
      "execution_count": 228,
      "outputs": [
        {
          "output_type": "execute_result",
          "data": {
            "text/plain": [
              "(17380, 6, 1)"
            ]
          },
          "metadata": {
            "tags": []
          },
          "execution_count": 228
        }
      ]
    },
    {
      "cell_type": "code",
      "metadata": {
        "id": "iiW-jiDIK5lA"
      },
      "source": [
        "y_predict_WAV = train_temp_min + y_predict_new * (train_temp_max-train_temp_min)"
      ],
      "execution_count": 229,
      "outputs": []
    },
    {
      "cell_type": "markdown",
      "metadata": {
        "id": "nTL3UE2QK5lA"
      },
      "source": [
        "##MSE_WAV"
      ]
    },
    {
      "cell_type": "markdown",
      "metadata": {
        "id": "M4PwZyiIK5lA"
      },
      "source": [
        "> First Method"
      ]
    },
    {
      "cell_type": "code",
      "metadata": {
        "id": "ei6wMoz8K5lB"
      },
      "source": [
        "test_label_back= np.expand_dims(test_label, 2)"
      ],
      "execution_count": 230,
      "outputs": []
    },
    {
      "cell_type": "code",
      "metadata": {
        "id": "wKxZAIw7K5lB",
        "colab": {
          "base_uri": "https://localhost:8080/"
        },
        "outputId": "d58f94cc-2fab-4467-afe2-58f9efcd0315"
      },
      "source": [
        "y_predict_WAV.shape"
      ],
      "execution_count": 231,
      "outputs": [
        {
          "output_type": "execute_result",
          "data": {
            "text/plain": [
              "(17380, 6, 1)"
            ]
          },
          "metadata": {
            "tags": []
          },
          "execution_count": 231
        }
      ]
    },
    {
      "cell_type": "code",
      "metadata": {
        "id": "LKSaCZ74K5lB",
        "colab": {
          "base_uri": "https://localhost:8080/"
        },
        "outputId": "87888627-1581-438a-9a04-5b7606f7e248"
      },
      "source": [
        "((y_predict_WAV - test_label_back)**2).mean() # MSE in temperature terms"
      ],
      "execution_count": 232,
      "outputs": [
        {
          "output_type": "execute_result",
          "data": {
            "text/plain": [
              "1.7580021085501458"
            ]
          },
          "metadata": {
            "tags": []
          },
          "execution_count": 232
        }
      ]
    },
    {
      "cell_type": "markdown",
      "metadata": {
        "id": "tWQkEA4sK5lC"
      },
      "source": [
        "> Second Method "
      ]
    },
    {
      "cell_type": "markdown",
      "metadata": {
        "id": "62lHgNf0K5lD"
      },
      "source": [
        "In order to use the MSE method of sklearn we rehape it back reducing dimension. "
      ]
    },
    {
      "cell_type": "code",
      "metadata": {
        "id": "xWLsKo1BK5lD"
      },
      "source": [
        "y_predict_WAV_reshaped = y_predict_WAV.reshape(-1,6)"
      ],
      "execution_count": 233,
      "outputs": []
    },
    {
      "cell_type": "code",
      "metadata": {
        "id": "QAjNmyfPK5lE",
        "colab": {
          "base_uri": "https://localhost:8080/"
        },
        "outputId": "8b48c71e-0832-4386-a24d-8ce819b5943b"
      },
      "source": [
        "y_predict_WAV_reshaped.shape"
      ],
      "execution_count": 234,
      "outputs": [
        {
          "output_type": "execute_result",
          "data": {
            "text/plain": [
              "(17380, 6)"
            ]
          },
          "metadata": {
            "tags": []
          },
          "execution_count": 234
        }
      ]
    },
    {
      "cell_type": "code",
      "metadata": {
        "id": "jlSmfoYFK5lE",
        "colab": {
          "base_uri": "https://localhost:8080/"
        },
        "outputId": "de0a43d5-3c5e-46c4-a941-6ea56fc87499"
      },
      "source": [
        "# The mean squared error\n",
        "print('Mean squared error: %.2f'\n",
        "      % mean_squared_error(test_label, y_predict_WAV_reshaped))\n",
        "# The coefficient of determination: 1 is perfect prediction\n",
        "print('Coefficient of determination: %.2f'\n",
        "      % r2_score(test_label, y_predict_WAV_reshaped))"
      ],
      "execution_count": 235,
      "outputs": [
        {
          "output_type": "stream",
          "text": [
            "Mean squared error: 1.76\n",
            "Coefficient of determination: 0.97\n"
          ],
          "name": "stdout"
        }
      ]
    },
    {
      "cell_type": "markdown",
      "metadata": {
        "id": "Fd88ruaZK5lF"
      },
      "source": [
        "## Plot the temp"
      ]
    },
    {
      "cell_type": "code",
      "metadata": {
        "id": "ln0KNeoHK5lF"
      },
      "source": [
        "z = np.linspace(past, past+future,future)"
      ],
      "execution_count": 236,
      "outputs": []
    },
    {
      "cell_type": "code",
      "metadata": {
        "id": "P1UCW7HPK5lG",
        "colab": {
          "base_uri": "https://localhost:8080/",
          "height": 282
        },
        "outputId": "83f17660-7cda-4528-fdcf-639add46582a"
      },
      "source": [
        "z = np.linspace(past, past+future,future)\n",
        "plt.plot(test_temp[0])\n",
        "plt.scatter(z,test_label[0])\n",
        "plt.scatter(z,y_predict_WAV_reshaped[0])"
      ],
      "execution_count": 237,
      "outputs": [
        {
          "output_type": "execute_result",
          "data": {
            "text/plain": [
              "<matplotlib.collections.PathCollection at 0x7f2f06b0f690>"
            ]
          },
          "metadata": {
            "tags": []
          },
          "execution_count": 237
        },
        {
          "output_type": "display_data",
          "data": {
            "image/png": "[encoded data removed]",
            "text/plain": [
              "<Figure size 432x288 with 1 Axes>"
            ]
          },
          "metadata": {
            "tags": [],
            "needs_background": "light"
          }
        }
      ]
    },
    {
      "cell_type": "code",
      "metadata": {
        "id": "IgbjMOEzgKtX"
      },
      "source": [
        ""
      ],
      "execution_count": 237,
      "outputs": []
    },
    {
      "cell_type": "markdown",
      "metadata": {
        "id": "cEmUEsIjgLCh"
      },
      "source": [
        "# Model comparison\n"
      ]
    },
    {
      "cell_type": "code",
      "metadata": {
        "id": "-x-4HpIogLCi",
        "colab": {
          "base_uri": "https://localhost:8080/",
          "height": 282
        },
        "outputId": "5e9c3c2c-fba3-4753-d3f5-03e791d73b84"
      },
      "source": [
        "i = 2\n",
        "z = np.linspace(past, past+future,future)\n",
        "plt.plot(test_temp[i])\n",
        "#plt.scatter(z,y_predict[i], label = 'NN')\n",
        "plt.scatter(z,test_label[i], label = 'True temperature')\n",
        "#plt.scatter(z,y_persistence[i], label= 'Persistence')\n",
        "#plt.scatter(z,predict_label[i], label='Linear regression')\n",
        "plt.scatter(z,y_predict_GRU_reshaped[i], label='GRU')\n",
        "plt.scatter(z,y_predict_LSTM_reshaped[i], label='LSTM')\n",
        "plt.scatter(z,y_predict_RNN_reshaped[i], label='RNN')\n",
        "plt.scatter(z,y_predict_WAV_reshaped[i], label='WAV')\n",
        "\n",
        "plt.legend(loc='best')\n",
        "\n"
      ],
      "execution_count": 238,
      "outputs": [
        {
          "output_type": "execute_result",
          "data": {
            "text/plain": [
              "<matplotlib.legend.Legend at 0x7f2f07375490>"
            ]
          },
          "metadata": {
            "tags": []
          },
          "execution_count": 238
        },
        {
          "output_type": "display_data",
          "data": {
            "image/png": "[encoded data removed]",
            "text/plain": [
              "<Figure size 432x288 with 1 Axes>"
            ]
          },
          "metadata": {
            "tags": [],
            "needs_background": "light"
          }
        }
      ]
    },
    {
      "cell_type": "markdown",
      "metadata": {
        "id": "4Li7estpgLCj"
      },
      "source": [
        "## MSE"
      ]
    },
    {
      "cell_type": "markdown",
      "metadata": {
        "id": "NmtYobX8gLCj"
      },
      "source": [
        "> We will check how MSE grows for predicted value on time axis."
      ]
    },
    {
      "cell_type": "code",
      "metadata": {
        "id": "MjyLi1mxgLCk"
      },
      "source": [
        "def mse(predict):\n",
        "  mse = np.ones((future,))\n",
        "  for i in range(future):\n",
        "     mse[i]= np.mean((test_label[:,i]-predict[:,i])**2)\n",
        "  return mse \n",
        "   "
      ],
      "execution_count": 239,
      "outputs": []
    },
    {
      "cell_type": "code",
      "metadata": {
        "id": "nPI2FEDtgLCm",
        "colab": {
          "base_uri": "https://localhost:8080/",
          "height": 282
        },
        "outputId": "8d95de47-27f3-487e-9b72-6a606bce207e"
      },
      "source": [
        "#plt.plot(mse(y_predict), label = 'NN')\n",
        "#plt.plot(mse(predict_label), label = 'Linear Regression')\n",
        "#plt.plot(mse(y_persistence), label = 'Persistence')\n",
        "plt.plot(mse(y_predict_GRU_reshaped), label = 'GRU')\n",
        "plt.plot(mse(y_predict_LSTM_reshaped), label = 'LSTM')\n",
        "plt.plot(mse(y_predict_RNN_reshaped), label = 'RNN')\n",
        "plt.plot(mse(y_predict_WAV_reshaped), label = 'WAV')\n",
        "plt.legend(loc='best')"
      ],
      "execution_count": 240,
      "outputs": [
        {
          "output_type": "execute_result",
          "data": {
            "text/plain": [
              "<matplotlib.legend.Legend at 0x7f2f06a5f510>"
            ]
          },
          "metadata": {
            "tags": []
          },
          "execution_count": 240
        },
        {
          "output_type": "display_data",
          "data": {
            "image/png": "[encoded data removed]",
            "text/plain": [
              "<Figure size 432x288 with 1 Axes>"
            ]
          },
          "metadata": {
            "tags": [],
            "needs_background": "light"
          }
        }
      ]
    },
    {
      "cell_type": "markdown",
      "metadata": {
        "id": "NsWhLR-mhfBN"
      },
      "source": [
        "# Comparison with Baseline models"
      ]
    },
    {
      "cell_type": "code",
      "metadata": {
        "colab": {
          "base_uri": "https://localhost:8080/",
          "height": 282
        },
        "id": "kDKBOHr1hsan",
        "outputId": "dce18ba8-4f8d-4292-9c1a-cea6ca13d7a4"
      },
      "source": [
        "plt.plot(mse(y_predict), label = 'NN')\n",
        "plt.plot(mse(predict_label), label = 'Linear Regression')\n",
        "plt.plot(mse(y_persistence), label = 'Persistence')\n",
        "plt.plot(mse(y_predict_GRU_reshaped), label = 'GRU')\n",
        "plt.plot(mse(y_predict_LSTM_reshaped), label = 'LSTM')\n",
        "plt.plot(mse(y_predict_RNN_reshaped), label = 'RNN')\n",
        "plt.plot(mse(y_predict_WAV_reshaped), label = 'WAV')\n",
        "plt.legend(loc='best')"
      ],
      "execution_count": 241,
      "outputs": [
        {
          "output_type": "execute_result",
          "data": {
            "text/plain": [
              "<matplotlib.legend.Legend at 0x7f2f06988790>"
            ]
          },
          "metadata": {
            "tags": []
          },
          "execution_count": 241
        },
        {
          "output_type": "display_data",
          "data": {
            "image/png": "[encoded data removed]",
            "text/plain": [
              "<Figure size 432x288 with 1 Axes>"
            ]
          },
          "metadata": {
            "tags": [],
            "needs_background": "light"
          }
        }
      ]
    },
    {
      "cell_type": "markdown",
      "metadata": {
        "id": "gvnKbv7U417V"
      },
      "source": [
        "12Hrs Data"
      ]
    },
    {
      "cell_type": "markdown",
      "metadata": {
        "id": "WwT1MW22sbir"
      },
      "source": [
        "![Unknown-3.png](data:image/png;base64,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)"
      ]
    },
    {
      "cell_type": "markdown",
      "metadata": {
        "id": "WXOsWeD047Sd"
      },
      "source": [
        "24 hrs data"
      ]
    },
    {
      "cell_type": "markdown",
      "metadata": {
        "id": "2PoNnIjF4wS_"
      },
      "source": [
        "![Unknown-5.png](data:image/png;base64,iVBORw0KGgoAAAANSUhEUgAAAWoAAAD4CAYAAADFAawfAAAABHNCSVQICAgIfAhkiAAAAAlwSFlzAAALEgAACxIB0t1+/AAAADh0RVh0U29mdHdhcmUAbWF0cGxvdGxpYiB2ZXJzaW9uMy4yLjIsIGh0dHA6Ly9tYXRwbG90bGliLm9yZy+WH4yJAAAgAElEQVR4nOzdd1yVZf/A8c/NYe+NIgLiQGWKogLi3qaPWVpp5cisp0xTM7PUzKw0V2amNhyVs8yG9mg5cIATXCigyEZk73nG/fuD4pe5MIHDuN6v1/N6Otzre3M8X65z3df1vSRZlhEEQRDqLx1tByAIgiDcn0jUgiAI9ZxI1IIgCPWcSNSCIAj1nEjUgiAI9ZxubZzU1tZWdnV1rY1TC4IgNErh4eFZsizb3W1brSRqV1dXzp07VxunFgRBaJQkSUq81zbR9SEIglDPiUQtCIJQz4lELQiCUM/VSh/13SiVSlJSUigrK6urSwpaYmhoiJOTE3p6etoORRAahTpL1CkpKZiZmeHq6ookSXV1WaGOybJMdnY2KSkptGrVStvhCEKjUGddH2VlZdjY2Igk3chJkoSNjY345iQINahaiVqSJEtJkn6QJClakqQoSZIC/s3FRJJuGsT7LAg1q7ot6tXAflmW2wM+QFTthSQIgtDwXMi4wKbITbVy7gcmakmSLICewNcAsixXyLKcVyvR1DJJkpg1a1bV6+XLl7Nw4UIAFi5ciLGxMRkZGVXbTU1N6zpEQRAaGFmW2Rq1lYn7J/L9te8pUZbU+DWq06JuBWQCmyRJOi9J0leSJJn8cydJkqZIknROkqRzmZmZNR5oTTAwMODHH38kKyvrrtttbW1ZsWJFHUclCEJDVaIsYc6xOSw5s4SgFkFsH7YdYz3jGr9OdRK1LuAHrJNluRNQDLz1z51kWf5CluUusix3sbO763R1rdPV1WXKlCmsWrXqrtsnTZrEzp07ycnJqePIBEFoaOLy4xi7bywHEg8wrdM0Pu37KRYGFrVyreoMz0sBUmRZPv3n6x+4S6J+GO/9eoWrNwse5RR36OhozrvDPR6436uvvoq3tzdvvvnmHdtMTU2ZNGkSq1ev5r333qvR+ARBaDx+T/id+aHzMVAYsL7/egIc/9X4imp7YItaluVbQLIkSe5//qgfcLVWo6pF5ubmPP/883z66ad33T5t2jS2bNlCYWFhHUcmCEJ9p9QoWXZ2GbOOzqKNVRt2Dd9V60kaqj/h5TVgqyRJ+kAcMPFRLlqdlm9tev311/Hz82PixDtvw9LSkrFjx7J27VotRCYIQn2VWZLJG0ffICIjgmfaP8PsLrPRU9TN7NtqJWpZli8AXWo5ljpjbW3NmDFj+Prrr5k0adId22fOnIm/vz8qlUoL0QmCUN+cvXWW2UdnU6IqYUnwEoa5DavT6zfZokyzZs267+iPxx9/nPLy8jqOShCE+kSWZTZHbubF31/ETN+MrUO31nmSBpBkWa7xk3bp0kX+58IBUVFRdOjQocavJdRP4v0WGrrCikIWhC7gYNJBBrgMYFHgIkz1a29uhSRJ4bIs37Xnos6KMgmCIDQU13OvMyNkBimFKbzR5Q2e7/i8VksjiEQtCILwN3vj9rLo5CJM9Ez4auBXdGmm/cdzIlELgiAAFeoKlp1dxo6YHfjZ+7G813LsjOvH5D2RqAVBaPJuFd9iVsgsLmVdYnzH8UzvPB09nfqz8IVI1IIgNGknb55kzrE5VGgqWNFrBQNdB2o7pDuIRC0IQpOkkTV8dfkrPjv/GW4Wbqzqs4pWFvVzVaImNY76bmVL169fzzfffFOncfTu3Rt3d3d8fHzw9/fnwoULdXr9+/nll19YsmSJtsMQhFqVX57Pa4dfY835NQxuNZhtw7bV2yQNokXNyy+/XKvnl2UZWZbR0bn9b+LWrVvp0qULmzZtYvbs2fzxxx+PfC21Wo1CoXikc4wYMYIRI0Y8ciyCUF9FZUcxI2QG6SXpzO06l2faP1PvVyVqUi3qu1m4cCHLly8HKlu6c+bMoWvXrrRr147jx48DlQlw9uzZ+Pv74+3tzYYNGwAoKiqiX79++Pn54eXlxc8//wxAQkIC7u7uPP/883h6epKcnHzP6wcEBJCamgpAcXExkyZNomvXrnTq1KnqfCUlJYwZM4aOHTvy+OOP061bN/6aUGRqasqsWbPw8fHh5MmTfPfdd3Tt2hVfX19eeukl1Go1arWaCRMm4OnpiZeXV1WZ108//ZSOHTvi7e3N008/DcDmzZuZOnVq1X307dsXb29v+vXrR1JSEgATJkxg2rRpBAYG4ubmxg8//FBzb4gg1KI91/fw7G/PotQo2TRoE2M7jK33SRq01aL+31tw63LNnrOZFwx59K/sKpWKM2fO8Ntvv/Hee+9x8OBBvv76aywsLDh79izl5eUEBQUxcOBAWrZsyZ49ezA3NycrK4vu3btXtUavX7/Oli1b6N69+32vt3//fkaOHAnABx98QN++fdm4cSN5eXl07dqV/v37s27dOqysrLh69SqRkZH4+vpWHV9cXEy3bt1YsWIFUVFRLF26lNDQUPT09HjllVfYunUrHh4epKamEhkZCUBeXuUCPUuWLCE+Ph4DA4Oqn/3da6+9xvjx4xk/fjwbN25k2rRp/PTTTwCkpaVx4sQJoqOjGTFiBE8++eQj/+4FobaUq8v56PRH7L6+m27Nu/Fxz4+xNrTWdljV1uS7Pv5p1KhRAHTu3JmEhAQAfv/9dy5dulTVcszPz+f69es4OTnx9ttvc+zYMXR0dEhNTSU9PR0AFxeX+ybpcePGUVFRQVFRUVUf9e+//84vv/xS1cIvKysjKSmJEydOMH36dAA8PT3x9vauOo9CoeCJJ54A4NChQ4SHh+Pv7w9AaWkp9vb2DB8+nLi4OF577TWGDRvGwIGVT7W9vb0ZN24cI0eOrPpj8XcnT57kxx9/BOC55567rYb3yJEj0dHRoWPHjlX3LAj1UUphCjNDZhKVE8WLXi/yqu+rKHQerYuwrmknUddAy7e2GBgYAJUJ8K/qebIss2bNGgYNGnTbvps3byYzM5Pw8HD09PRwdXWlrKwMABOTO1Yru83WrVvp3Lkzs2fP5rXXXuPHH39ElmV2796Nu7v7fY/9O0NDw6p+aVmWGT9+PB999NEd+128eJEDBw6wfv16du3axcaNG9m3bx/Hjh3j119/5YMPPuDy5ep/y/nr9/TXdQWhPjqWcoy5x+dWfob7rqF3y97aDulfafJ91NUxaNAg1q1bh1KpBODatWsUFxeTn5+Pvb09enp6HDlyhMTExIc6ryRJvP/++5w6dYro6GgGDRrEmjVrqhLf+fPnAQgKCmLXrl0AXL169Z4JtV+/fvzwww9VC/Tm5OSQmJhIVlYWGo2GJ554gsWLFxMREYFGoyE5OZk+ffqwdOlS8vPzKSoquu18gYGB7NixA6j8wxIcHPxQ9ycI2qLWqPns/Ge8euhVHE0d2fnYzgabpKGJdX2UlJTg5ORU9XrmzJnVOm7y5MkkJCTg5+eHLMvY2dnx008/MW7cOIYPH46XlxddunShffv2Dx2TkZERs2bNYtmyZXz22We8/vrreHt7o9FoaNWqFXv37uWVV15h/PjxdOzYkfbt2+Ph4YGFxZ1rs3Xs2JHFixczcOBANBoNenp6rF27FiMjIyZOnIhGowHgo48+Qq1W8+yzz5Kfn48sy0ybNg1LS8vbzrdmzRomTpzIsmXLsLOzY9OmTQ99f4JQ13LLcnnr+FuE3QxjZJuRvNPtHQx1DbUd1iMRZU4bALVajVKpxNDQkBs3btC/f39iYmLQ19fXdmj3JN5vQRsuZ15m5tGZ5JTm8Ha3txnVdlSDGNUBosxpg1dSUkKfPn1QKpXIssznn39er5O0INQ1WZbZFbOLJWeX4GDswDdDv8HDRrtL/tUkkagbADMzM/75DUUQhEqlqlLeP/k+v8b9So8WPVgSvAQLgzu7BhsykagFQWiwEgsSmREyg9jcWF7xfYWXvF9CR2p8YyREohYEoUE6lHSIeSfmodBRsK7/OoJaBGk7pFojErUgCA2KSqPi0/OfsilyE542nqzovQJHU0dth1WrRKIWBKHByCrN4s1jb3L21lnGtBvDnK5z0Fc0/gfrja8z5z4UCgW+vr54enoyevRoSkpKHvmcQ4cOvWudjL988sknNXIdQWjqzmecZ8yvY7iceZkPenzA/ID5TSJJQxNL1EZGRly4cIHIyEj09fVZv359tY77ayr53fz22293TBT5O5GoBeHRyLLMt1e/ZdL+SRjpGvHd0O8Y0bppleKtVqKWJClBkqTLkiRdkCSpUYwTCw4OJjY29p6lRTdv3syIESPo27cv/fr1Iy0tjZ49e1a1yP8qgerq6kpWVhbFxcUMGzYMHx8fPD092blzJ59++ik3b96kT58+9OnTB6gsvBQQEICfnx+jR4+umrbt6urKu+++W1UyNTo6GqgspTpx4kS8vLzw9vZm9+7d9z2PIDQmxcpiZh+bzcdnPybYKZjtj23H3br6tXAai4fpo+4jy3JWTVx06ZmlROdE18SpqrS3bs+crnOqta9KpeJ///sfgwcPvmdpUYCIiAguXbqEtbU1K1asYNCgQbzzzjuo1eo7Wsn79+/H0dGRffv2AZUV9iwsLFi5ciVHjhzB1taWrKwsFi9ezMGDBzExMWHp0qWsXLmSBQsWAGBra0tERASff/45y5cv56uvvuL999/HwsKiqr5Hbm7uA88jCI1BXF4cr4e8XjkEr/MMJnpMbDCzDGtak3qYWFpaWlXLOTg4mBdeeIHAwMC7lhYFGDBgANbWlTVr/f39mTRpEkqlkpEjR95WExrAy8uLWbNmMWfOHB577LG7FjA6deoUV69eJSiochhRRUUFAQEBVdv/XmL1r/KiBw8erCqMBGBlZcXevXvvex5BaOj2x+9nQdgCjHSN+HLAl3Rt3lXbIWlVdRO1DPwuSZIMbJBl+Yt/7iBJ0hRgCoCzs/N9T1bdlm9N+6uP+u/uVVr09OnTt5Uq7dmzJ8eOHWPfvn1MmDCBmTNn8vzzz1dtb9euHREREfz222/MmzePfv363dHClWWZAQMGsH379rvGd7cSq3fzoPMIQkOlVCtZGb6S76K+w9fOl+W9luNg4qDtsLSuug8Te8iy7AcMAV6VJKnnP3eQZfkLWZa7yLLcxc7OrkaDrE33Ki36T4mJiTg4OPDiiy8yefJkIiIibtt+8+ZNjI2NefbZZ5k9e3bVdjMzMwoLCwHo3r07oaGhxMbGApWrs1y7du2+8Q0YMIC1a9dWvc7Nzf1X5xGE+i69OJ1JBybxXdR3PNvhWTYO3iiS9J+qlahlWU798/8zgD1Ao/keMn/+fJRKJd7e3nh4eDB//vy77hcSEoKPjw+dOnVi586dVSuu/OXy5ctVaxW+9957zJs3D4ApU6YwePBg+vTpg52dHZs3b+aZZ57B29ubgICAqoeG9zJv3jxyc3Px9PTEx8eHI0eO/KvzCEJ9dibtDGP2jiEmN4ZlPZcxp+sc9HT0tB1WvfHAMqeSJJkAOrIsF/75338Ai2RZ3n+vY0SZU0G830J1yLLMxsiNfHr+U1zMXfik9ye4WbppOyyteNQypw7Anj+ftuoC2+6XpAVBEKqjsKKQeSfmcTj5MINcB/Fe4HuY6N1/Cbum6oGJWpblOMCnDmIRBKGJiMmJYWbITG4W3WSO/xzGdRjXZIfeVUeTGp4nCIL2/XrjVxadXIS5vjkbB2+kk30nbYdU74lELQhCnahQV7D0zFJ2XduFfzN/Pu75MbZGttoOq0EQiVoQhFqXVpTGzJCZRGZHMslzEq91eg1dHZF+qkv8pgRBqFWhqaG8dfwtVBoVn/T5hH7O/bQdUoPTpKrnpaenM3bsWNzc3OjcuTMBAQHs2bOHkJAQLCws8PX1pX379rzxxhtVxyxcuLBqevlf/irEJAjCvWlkDesuruO/B/+LnbEdOx7bIZL0v9RkErUsy4wcOZKePXsSFxdHeHg4O3bsICUlBais/XHhwgXOnz/P3r17CQ0N1XLEgtBw5Zfn8+qhV/n8wuc85vYYW4duxcXcRdthNVhNJlEfPnwYfX19Xn755aqfubi48Nprr922n5GREb6+vqSmptZ1iILQKERmRTLm1zGcSjvF/O7z+aDHBxjpGmk7rAZNK33Utz78kPKomp3ybNChPc3efvue269cuYKfn98Dz5Obm8v169fp2fOOciaCINyHLMvsiNnBx2c/xt7Inm+HfIunrae2w2oUmkyL+p9effVVfHx88Pf3B+D48eP4+PjQokULBg0aRLNmzQDuOQhfDM4XhP9XrCxmzrE5fHj6QwIdA9k1fJdI0jVIKy3q+7V8a4uHh0fV6igAa9euJSsriy5dKqfWBwcHs3fvXuLj4+nevTtjxozB19cXGxsb0tLSbjtXYWHhfZffEoSmJDY3lhkhM0gqTGK633QmeU5CR2qybcBa0WR+m3379qWsrIx169ZV/exuaxm2atWKt956i6VLlwKVdah/+eWXqlKlP/74Iz4+PigUiroJXBDqsV9v/MrY38ZSWFHIVwO/YrLXZJGka0GTGUctSRI//fQTM2bM4OOPP8bOzq5qGat/evnll1m+fDkJCQl4e3szdepUevTogSRJ2Nvb89VXX2nhDgSh/ihXl7PkzBJ+uPYDXRy68HHPj7Ezbjh16BuaB5Y5/TdEmVNBvN+NV3JhMrNCZhGVE8ULni8wtdNUMcuwBjxqmVNBEAQADiUdYv6J+UiSxGd9P6NXy17aDqlJEIlaEIQHUmqUfBrxKZuvbMbDxoMVvVfQwrSFtsNqMkSiFgThvtKL03nz2JtEZETwlPtTvOn/JvoKfW2H1aSIRC0Iwj2dSjvFnGNzKFWVsjR4KUPdhmo7pCZJJGpBEO6gkTV8eelL1l5Yi5uFG5sGbWqyaxnWByJRC4Jwm9yyXOaemEtoaijD3IaxoPsCjPWMtR1Wk9akRqabmpre8bOYmBh69+6Nr68vHTp0YMqUKRw4cABfX198fX0xNTXF3d0dX19fnn/+eUJCQpAk6bax1BcuXECSpDvKoQpCQ3Mx8yJj9o7hTNoZ5nefz0c9PhJJuh5o8i3qadOmMWPGDP7zn/8AcPnyZby8vBg0aBAAvXv3Zvny5VVTzUNCQvD09GTXrl1MnjwZgO3bt+PjI9b/FRouWZbZFr2N5eeW42DswLdDv8XDxkPbYQl/avKJOi0tDScnp6rXXl5eDzzGxcWFgoIC0tPTsbe3Z//+/QwdKh6yCA1TUUUR74a9y++Jv9O7ZW8WBy3GwsBC22EJf6OVRH181zWykotq9Jy2LU0JHtPuoY+bMWMGffv2JTAwkIEDBzJx4sRqFVx68skn+f777+nUqRN+fn4YGBj8m7AFQaticmKYdXQWKYUpzOw8kwkeE0RlyHqoSfVR383EiROJiopi9OjRhISE0L17d8rLyx943JgxY/j+++/Zvn07zzzzTB1EKgg166fYnxj32zhKlCV8PehrJnpOFEm6ntJKi/rftHxrk6OjI5MmTWLSpEl4enoSGRlJ586d73tMs2bN0NPT448//mD16tWEhYXVUbSC8GjKVGV8ePpD9sTuoVuzbizpuQRbI1tthyXcR7UTtSRJCuAckCrL8mO1F1Ld2r9/P/369UNPT49bt26RnZ1NixbVmxq7aNEiMjIyRMlTocFILEhkVsgsYnJjmOI9hVd8XkGhI/791ncP06KeDkQB5rUUS60rKSm57cHhzJkzSUlJYfr06RgaGgKwbNmyqtVdHiQwMLBW4hSE2nAw8SDzQ+ej0FHweb/PCXYK1nZIQjVVq8ypJElOwBbgA2Dmg1rUosypIN7v+kOpUbIqfBXfXv0WL1svVvRaQXPT5toOS/iHmihz+gnwJmB2n4tMAaYAODs7P2yMgiDUglvFt5h9dDYXMi8wtv1Y3ujyBnoKPW2HJTykByZqSZIeAzJkWQ6XJKn3vfaTZfkL4AuobFHXWISCIPwrYalhvHX8LcrV5SzrtYzBroO1HZLwL1WnRR0EjJAkaShgCJhLkvSdLMvP1m5ogiD8G2qNmg2XNrD+4npaW7ZmZe+VtLJope2whEfwwHHUsizPlWXZSZZlV+Bp4LBI0oJQP+WU5fDywZdZd3Edw1sPZ9uwbSJJ1wW1Es5+Db9Mq5XTN/kp5ILQWJzPOM8bR98gryyPhQELGdV2lJjAUttkGaL3wcGFkH0dXIKgogT0a7aQ1UMlalmWQ4CQGo1AEIRHIssy31z9hk/CP6G5aXO2DttKe+v22g6r8Us+A7/Ph+RTYOsOz+yAdoOhFv44Nqkp5AqFAl9fXzw9PRk+fDh5eXkAJCQkIEkSa9asqdp36tSpbN68GYAJEybQokWLqqnlWVlZuLq61nX4gnCHwopCZoTMYPm55fRq2Yudj+0USbq2Zd+Anc/B1wMgNx6Gr4b/hoH7kFpJ0tDEErWRkREXLlwgMjISa2tr1q5dW7XN3t6e1atXU1FRcddjFQoFGzdurKtQBeGBonOieWrvUxxNPsobXd5gVe9VmOnfcwSt8KiKMmHfG7C2K9w4DH3egWnnofMEUNRuL3KTStR/FxAQQGpqatVrOzs7+vXrx5YtW+66/+uvv86qVatQqVR1FaIg3JUsy/x4/UfG7RtHubqcjYM3Mt5jvOiPri0VJXBsGXzaCc5tBL/xlQm615ugb1InIWjlYeKRzV+QkRhXo+e0d3Gjz4Qp1dpXrVZz6NAhXnjhhdt+PmfOHIYMGcKkSZPuOMbZ2ZkePXrw7bffMnz48BqJWRAeVqmqlMWnFvPLjV8IaB7Akp5LsDa01nZYjZNGDRe2wpEPoTAN2j8G/ReCbds6D6VJjfooLS3F19eX1NRUOnTowIABA27b7ubmRrdu3di2bdtdj587dy7/+c9/GDZsWF2EKwi3SchPYObRmcTmxvJfn//ykvdLoqBSbZBluP47/PEuZEaBU1cYvRmcu2stJK0k6uq2fGvaX33UJSUlDBo0iLVr1zJt2u3jHt9++22efPJJevXqdcfxbdu2xdfXl127dtVVyIIAwP6E/bwb+i76Cn3W919PYAtREKxWpEbAHwsg4ThYt4Yx30KH4Q98SKhSa9h7KY3oW4W8NaTmH+Y2qRb1X4yNjfn0008ZOXIkr7zyym3b2rdvT8eOHfn111/x9/e/49h33nlHtKiFOqNUK1l+bjnborfhY+fD8l7LaWZSveqOwkPITYBDiyByNxjbwtDlfz4kvH9dlDKlmh/CU9hw7AbJOaW0b2bG6/3bYqhXs990mmSiBujUqRPe3t5s376d4ODbyz2+8847dOrU6a7HeXh44OfnR0RERF2EKTRhaUVpvHH0DS5lXeK5js8xw2+GKKhU00py4NhyOPMF6OhCz9kQOA0M71/NuahcxbbTiXx5PJ7MwnJ8Hc2YY12BSdbNGk/SUM0ypw9LlDkVxPv9aI6nHGfuibmoNWoWBS1igMuABx8kVJ+yFE5vgOMroaIQOj0Lvd8G8/uXf80trmBTWAJbwhLIL1XS08WcZ3LSSbuhoYhM9CtuMmn9PPRNjR46pJoocyoIQh1Qa9R8fvFzvrj0Be2s2rGy90pczF20HVbjoVHDpV1weDEUpFTOJOy/EOzv36i4lV/GV8fj2HYmiZIKNcPcLBiemkrK2RKuaZKxIYVuZp6Y23VD0qv5Uc8iUQtCPZFVmsVbx97i9K3TjGo7irld52Koa6jtsBqP2EOVIznSL4NjJ3h8PbS6/yo3CVnFbDh2g93hqahlmdFu5vSKSyLpdCnXVfE46RXT3cIXSwN/ZAMwD3RCtxa6p0SiFoR6IDw9nNlHZ1NQUcCiwEU83vZxbYfUeKRdgoPvVs4mtHSBJ74Gj1Ggc++Wb1RaAetCbrD30k10FTqMdzOhU3QSCSeLSFTH08pAj9bWvhgqTMBKgWVfN0x87WulNQ0iUQuCVsmyzOYrm1kdsRonMyfW9V+Hu7W7tsNqHPKS4cgHcHEHGFnCoI/A/wXQNbjnIeGJuXx+JJZD0RmY6CuY3toEt8hkksLyyJCT8Da2pqVJEDqSDjquRtgMaIuBm0WtzwoViVoQtCS/PJ95ofMISQ5hgMsAFgUuwlTfVNthNXyleXBiJZxaX/k6aDr0mFGZrO9ClmVOxGax9kgsp+JysDTW4x03Q+wu3SQ1FUqlNALNnLAzDEYjqTHwtcGmfxt0bR7+geG/JRK1IGjBlewrzAqZRXpxOm91fYux7ceKWh2PSlUOZ7+qrMtRmgc+z0Cft8Gy5V1312hkfr+azuchsVxKycfB3ID3WyowvHSLrCQNeoo8+lu2wUTPFaW+EuPg5lgGu6JjWPdps8kUZZoxYwaffPJJ1etBgwYxefLkqtezZs1i5cqVqFQq7OzseOutt4DKEqhOTk5oNJrbzufr68vp06frJnih0ZBlmV0xu3jut+dQaVRsGryJcR3GiST9KDQauPwDfNYFDrwNjn7w8nF4fN1dk7RSrWF3eAoDPznGy9+Fk19cwbJmMq/HpaG8kIqdopTB1i3xseqMrq0RFk+1xnVhH6wHtNFKkoYm1KIOCgpi165dvP7662g0GrKysigoKKjaHhYWxqpVq/jjjz9o164d33//PR999BGurq44Oztz/Pjxqmnl0dHRFBYW0q1bN23djtAAlShLeP/U++yN20uQYxAfBX+ElaGVtsNq2OKPVRbvT7sAzbzguT3Quu9ddy1Tqvn+XDLrj8aRmldKB3tjPrFRUhiVi0qvnNbGBjgat0Mjq1G2kLEZ6YWR8927S+pak0nUgYGBzJgxA4ArV67g6elJWloaubm5GBsbExUVhZ+fH5MnT2b69OmsW7eOkydPEhgYyDPPPMOOHTuqEvWOHTt4+umntXk7QgMTlxfHzJCZxOXH8arvq0zxnoKO1GS+0Na89KuVy19dPwDmTvD4BvAac9eRHIVlSr47lcTXJ+LJKirH39GEuepSsiPzkAwq8LO0wkLfhQrKUHaQaDmyO7oW9WtYpFYSdd6vN6i4WVyj59R3NMFyeOt7bnd0dERXV5ekpCTCwsKq6lGfPHkSC3386ScAACAASURBVAsLvLy80Gg0HDx4kA0bNpCXl8f27dsJDAxkzJgx+Pr6smbNGnR1ddm5cyfff/99jcYvNE6yLLMndg9LzizBSNeIDQM2EOAYoO2wGq6Cm5VlRy9sBX0zGLAIur4Eencm1pziCjaFxrMlLIGCMhV9nc14UpVN9sUCDAyV9LBphoHCiGKdAuTuRrgOCUSnFqZ/14Qm06KGylZ1WFgYYWFhzJw5k9TUVMLCwrCwsCAoKIi9e/fSp08fjIyMeOKJJ3j//ff55JNPcHBwwNPTk0OHDuHg4ICuri6enp7avh2hnrtVfIuFJxcSmhqKfzN/PurxEQ4mDtoOq2EqK4DQ1XByLchq6P4KBM8C4ztrcafll/LlsXi2n0miTKVmZCszBiSmUnC+EEsjCU/b5oBEgWEuxgOdaBfYo94/I9BKor5fy7c2BQUFERYWxuXLl/H09KRly5asWLECc3NzJk6cyJYtWzhx4kTVeojZ2dkcPnyYAQMGVHV/ODg48Mwzz2glfqFhkGWZX278wtIzS1HJKt7u9jZPuT8lujr+DVUFhG+Go0ugJBu8RkPfeWDleseu8VnFrA+5wY/nU9DIMNbVlO6xSSgjSnA0MsLbxgalppxcy2xajvLH2f3OUsb1VZNrUS9fvhw3NzcUCgXW1tbk5eVx5coVVq9ezeTJk0lOTsbAoHJA/KZNm9i+fTsDBgxg1KhRzJ07F2NjYw4dOqTlOxHqq4ySDBadXMTRlKP42fuxOGgxLc3vPjxMuA9Zhqs/w6H3ICcOXINh4PuVU7//4erNAj4PieW3y2noKXSY7GKE59VUdC+W0srIFmNLE4pUeWQ7ZtH6qWBaOdhq4YYeTZNK1F5eXmRlZTF27NjbflZUVMSRI0fo27dvVZIG+M9//sObb75JeXk5lpaWBAQEcOvWLdzc3LQRvlCPybLMvvh9fHT6IyrUFczxn8PYDmNFK/rfSDwJf8yHlLNg3xHG/QBt+t9RvP9cQg6fh9zgcHQGpga6zHQxpPWVdEwijXE2bIGuoS6ZFcmUtVfSbnRfDE3qZn3D2iDKnAq1oim931mlWbx/8n0OJx/Gx86HxUGLcbVw1XZYDU/mtcoWdPReMGteucq371j423Jjsixz7HrlLMIz8TlYm+gz1UpDy+g8rPRMaGZggVqj4qbqBuY9W+I+tA+6+vpavKnqE2VOBaGW7I/fzwenP6BEWcKszrN4ruNzYh3Dh1WYXtkHHb4F9Iyh7/zKh4X6xlW7qDUyB67cYu2RWK7cLKC5mQFL7GUc4gpwyDfF3NSRUlUhN1SXaD7cm27BE9FpRO/DAxO1JEmGwDHA4M/9f5Bl+d3aDkwQ6rOcshw+OPUBvyf+jpetF4uDFuNmKbrEHkp5EZz8DEI/BXU5+E+GXm+Cyf/3ISvVGn46n8q6ozeIyyymlbURa6w0WKcU09zIDH1TC3LK07hmEEPrp4Pp6TOk3o/g+Deq06IuB/rKslwkSZIecEKSpP/JsnzqYS8my3Kj/CUKt6uN7rT65I/EP1h8ajGFFYVM95vOBI8J6OqIL6fVplbB+W/gyEdQnAEdR0K/BWDz/6PBSivU7DybxJfH40nNK8XLzpivjFVY3izF3sAcjCGl+BolzUvxfHEI3q3bavGGat8D/3XJlZ+6oj9f6v35v4f+JBoaGpKdnY2NjY1I1o2YLMtkZ2djaFi/ZnbVhLyyPD488yH/i/8fHW068tXAr2hr1bgTRI2SZYj5X2Vt6Kxr4BwAT2+Dlv+/iHRBmZJvTyay8UQ82cUV9GhuwtJiNZapSiz1ranQK+NawTl0OhrT6ckRWDVvocUbqjvVagZIkqQAwoE2wFpZlu+oRiRJ0hRgCoCzs/Md53ByciIlJYXMzMxHClio/wwNDXFyctJ2GDXqcNJhFp1cRH5FPlN9pzLJaxJ6OmKh2WpLOVdZkyMpDGzaViZo96FVIzmyisrZFBrPN2GJFJarGNnClLElZVinaDBUWFFANhE5YVgGutD9PxMxtbpzoktj9lCjPiRJsgT2AK/Jshx5r/3uNupDEBqi/PJ8lp5Zyq9xv+Ju5c4HPT4Qhf0fRvYNOLQIrv4EJvbQZy50eh4UlW3E1LxSvjwWx46zSZSrNLzY3JShqcVYYYJC0iGtJJ740ss4D/HHd9BQDE0ab73uGhv1IctyniRJR4DBwD0TtSA0BsdSjrEwbCE5ZTm87PMyU7ymoFcL6+E1SsVZcPRjOPc1KAyg91wImAoGlYn2RmYR60NusOd8KpIMb9kaEZBegflNHVSyEQlFl0hWX8frySGM6vVBgxliV1uqM+rDDlD+maSNgAHA0lqPTBC0pLCikI/PfsxPsT/RxrINn/X7jI42HbUdVsNQlg9hn8Gpz0FZCn7PVyZps8oaJ5Gp+awLucFvkWlYKHRYYWGER7YGw0xdSjRlXMwLIUc/Hf9nxxDc7RV0FI1niN2jqE6Lujmw5c9+ah1glyzLe2s3LEHQjtDUUN4Ne5fM0kxe9HqRl31eRl/RtFtz1VJRAme+gBOroCwPPB6vnLBiW/mw9Ux8DmuPxHL0Wiat9fXYbGKES6EOurkKsivSiCg4i8pWTeCrz+Li3UkMOPiH6oz6uATcOcFeEBqRoooilp9bzu7ru3GzcOOTPp/gaSsqJD6QqgIitlQuf1WUDm0HVhZNau6DLMuExGTw+ZFYzibk0sPQgN0GRtiX6SKXyyQXx3C94BxmbRwInjqZ5m1E3/+9iMGfQpN3Ku0UC0IXkF6SzkTPibzq+yoGinuvVC0AGjVc2gUhH0JeEjgHwugt4BJAYZmS384msSUskWtpBTxpaMz7CmNMy3Sp0FQQVXCaGwUXcPb3YcRTC7B2bFwjhGqDSNRCk1WiLGFl+Ep2xuzE1dyVLYO34Gvvq+2w6jdZhqhf4fBiyIqB5j7w2CrUrfoSeiOb3TvOc+DKLQyUMi8YGfOZZIJ+mYICZT7n8k+SVBKDR59+PPvEasysG14VO20RiVpoks7eOsv80PncLLrJ8x2f57VOr2Go2/gm6dQYWYYbhyuH2qVdANt2MOYbYm368EPETX7adYRbBWW0MdDnEwsLOmap0CmVSCtNISY/lBzVLboMf5zBw+ZiaNp4h9jVFpGohSalRFnC6ojVbIveRkuzlmwevBk/Bz9th1W/JZ2CQ+9D4gmwcKZ4yBp+VAfxw+E0LqYcR6EjMcbFhmdMTLFKK0cuU5JYfJ3ovONUKJQEPPU0Xv0HoacvupP+LZGohSYjIj2C+aHzSSpMYlyHcUzrNA1jPeMHH9hUpV2q7OK4fgDZ1IHoTgtYmx/IgV9yUaqj6dDcnOUBbvjHF6CIr0ClUXGt8CIx+acxtDQj6KUJtA/sKYbY1QCRqIVGr0xVxprza/j26rc4mjqycdBG/Jv5P/jApirrOhz5AK7sQWVgwZEWr7AwLYjUkxK2pkU8392Fp6wtMDqWgHQyi3J1OVcLzhBbcJ7mbdx5fOZCmrcVIzhqkkjUQqN2MfMi807MI6Eggafcn2Jm55miFX0veclwdAnyhW2odAzYZfAUS/P7U1ZkRv+O9izybUGXEpncvdfQLc+hWFVETP4pEouj6dCjJxOeXiceENYSkaiFRqlcXc7aC2vZcmULDsYOfDnwS7o3767tsOqnogxUR5cjhW9Eo4Fv1IP5XDmcli1dmN3Hicc62COFp5O7NYpCjS7FFblE558kU5VG1yeeZMjgt0X/cy0TiVpodCKzInnnxDvE5cfxZLsnmdV5Fqb6YqTBP8mludz633KsI79GoSlnp6oXO4yeoUd3H3b6OeFmakD277Hk7TmJnqRHflk6UfmnUJqo6Tl1Ii6+YgZhXRGJWmg0KtQVrL+4no2RG7ExsmF9//UEtQjSdlj1zs3MLBL2rcIrYRPNKWafJpDzbV6hV0B39rS2haIKbn1/maRrhehKumSWJhGddw5zF3sGzXkT6+aO2r6FJkckaqFRuJp9lXdOvENsXiwj24xktv9szPXNtR1WvVFcruL3i0nkh37JsLytBEr5hBt0I6vrbHoG9WaYoR7KzBKSVh1DkSEDEqnFMcQWRuIa4MvT4z9G30j07WuLSNRCg6ZUK/ni8hd8eelLrA2tWdtvLT2demo7rHpBo5E5FZ/NnnOJ6F35nlek73GSskix8CN90EI6e/QCoDQhj2ubT2NUaoQkq7lRdJmU8gQ6PTGY5wdPQdLR0fKdCCJRCw1WTE4M80LnEZ0TzXC34czpOgcLAwtth6V1CVnF7I5IYU94Ml6Fx5it9wNuOqkU2XgjD/kSp9Z9kIH886nc3HUBM9kcXbUOUYWnydPNI3jqc/Tp2F7btyH8jUjUQoOj1CjZeHkj6y+tx0LfgtV9VtPXua+2w9Kq/FIl+y6lsTsihfDEHPooLvKt8Y+00o9FY+sO/b7DtP1jyDKkH7hKzqEEzBTm6KokLhacQLZT0GfJFEwsLbV9K8JdiEQtNCjXc68zL3QeV7OvMqTVEN7u+jaWhk0zuajUGo7HZrE7PIXfr6ZTodIw0jqRzxx20jz/Api4QJ8N6HiNRtZIxG0+gepKISa6ZqBRcT7/BFY+zRk05Q109cTKNfWZSNRCg6DSqNh8ZTOfX/gcUz1TVvZeyQCXAdoOSytibhWyOyKFn86nklFYjqWxHjM8ShhXvAXzlKNg2gyGrYBOz6Msl4lZ/huGmfoYKowpVhdzrfASrR/zZ/jwudq+FaGaRKIW6r24vDjmhc7jctZlBrgM4J1u72BjZKPtsOpUTnEFP19IZXdECpGpBejqSPR2t2d82zICkzegiPoFjKxgwCLwf5GSnHKi3v0RK6UtljqWpFckc00did9Lw/D2Gq3t2xEekkjUQr2l1qj59uq3rDm/BiM9I5b1XMYg10FNZpJFhUrD4egMdkekcCQ6A5VGxsPRnAWPdeTxViqszq6CP7aDnjH0mgMBr5IRlU7C3B+xV7TAXnIktTSBYpMiAhaMpbNN0+wiagxEohbqpYT8BOaFzuNi5kX6tOzDgoAF2Bo1/joSsiwTmVrAD+HJ/HLxJrklSmxNDZgY5MoTnZ1ob1IKx5fD15tA0oHuryAHvc71Q1fJe+sXmhk446DrREpxAgpnfbq8/wy6+qL/uaETiVqoVzSyhm1R21gdsRp9hT4fBX/EsFbDGn0rOr2gjJ/OV3ZtXEsvQl9XhwEdHXjSz4ngtrboVuRD6Eo4vQFU5eD3HMrur3Nx51n47QDNjFzQ03cksTgOm4CWBI2boO1bEmqQSNRCvZFckMy80HlEZETQy6kXCwIWYG9sr+2wak2ZUs2BK7fYHZHKieuZaGTwc7bkg8c9eczLEQtjPSgvqkzQoZ9CeQF4jSbfewoXvzuP+aEzNDN0pEy/lPjSG7R+sjPBwf20fVtCLRCJWtA6jaxhZ8xOVoWvQlfSZXHQYka0HtEoW9GyLHMuMZfd4Snsu5RGYbkKRwtDXundhlF+LXCz+7N4lKocTq2v7OYozgT3YaQ4jSN6zzWah6bgpt+BYt0iktRJeLzUlzZtBmr3xoRaJRK1oFWpRaksCF3AmVtnCHIMYmHgQpqZNNN2WDUuOaeEPX92bSRml2Csr2CwZzOe9HOiu5sNOjp//lFSq+DidghZAgUpqF2CiWrxJqkn8nE1kmmv34V8ZQEZRhl4TBuEu5WoCtgUiEQtaIUsy3x/7XtWnFuBJEksDFjIqLajGlUrWpZlTsRmsfFEPEdiMgEIcLPhtb5tGeLZDBODv338NBq4ugeOfAjZsZTadeac2VhKT+vT2swFDzNjcspzUTuX0P6/g1DoiY9uUyLebaHOpRWlsSBsAafSTtGteTcWBS7C0bTxlM4srVDz04VUNp6I53pGEbam+kzv15bRXZxwsvpHBTpZhuu/Vy4em36ZLBMvTpe9hGFkc9zMvNGz1CerPAdFZwu8nx6hnRsStO6BiVqSpJbAN4ADIANfyLK8urYDExqfCnUFW6O2suHSBjSyhvnd5zO63ehG04pOyy/l25OJbDuTRF6JEg9Hc1aM9uExn+YY6N5lgdeEE3BoEXLSaWLl9lzInEAzHXe8TDuCuUSOOh/HYS3w7RVc9zcj1CvVaVGrgFmyLEdIkmQGhEuS9Icsy1drOTahkZBlmd8Tf2dV+CpSi1IJbhHM293exsnMSduh1YjzSblsDE3gf5fT0MgyAzs2Y2KQK11bWd/9j1BqBBx+n/JrR7lU0o7ruc/hZtKJAIt2qDRq8nWKcH6uE84dW9T9zQj10gMTtSzLaUDan/9dKElSFNACEIlaeKDLmZdZdm4Z5zPO09aqLRsGbCDQMVDbYT0ypVrD/yJvsfFEPBeS8zAz0GVCoCvjA11paX2PAvsZ0XBkMbkX/+BsbluyS5+jnYU/Pe1dqNCoKDQpodWUAFwdxIIHwu0eqo9akiRXoBNwujaCERqPtKI0Vp9fzb64fdgY2rAwYCEj24xEoXOXLoAGJLe4gm1nkvj2ZCK3CspoZWvCeyM8eKKzE6YG9/g4ZUQjn1hF0skDnM5qC9JzdLDoTkcLB8rUFZQ1U+P6YhC6Jvp1ezNCg1HtRC1JkimwG3hdluWCu2yfAkwBcHZ2rrEAhYalWFnM15e/5pur3yDLMi96vcgLXi9gomei7dAeybX0QjaFJrDnfAplSg092tjy4ShPerez//+hdX+nUcO1A+QfWce1qze4nNMKa6Nn8bLuhpmeJaXqcjQd9Gk9LghJV6ygItyfJMvyg3eSJD1gL3BAluWVD9q/S5cu8rlz52ogPKGhUGvU/HzjZ9acX0NWaRZDWw1lut/0Bj2aQ6OROXotk42h8Ry/noWBrg6j/FowIbAV7s3M7n5QaS4FR7/k2uGfib6lR5HaCTczL1qZdcJIYUSJXI5FL0fsB3dAuluCF5osSZLCZVnucrdt1Rn1IQFfA1HVSdJC03Mq7RTLzi7jWu41fO18Wd1nNd523toO618rLlexOyKFzaEJxGUV42BuwOxB7jzT1Rnre3RPFMac5NrPG4i5mkBGmSVOxkF0tO6MvaEjsixTqluB6QhnWnR1bjSjXIS6U52ujyDgOeCyJEkX/vzZ27Is/1Z7YQkNQVx+HCvPreRoylFamLZgWa9lDHJpuGVIk3NK+OZkAjvOJlNYpsKnpSWrn/ZlqFdz9BR3dk8UZWVwbe/XxJwK5WYuWOrb09rsabrbu6Ovo0u5RonaRRfHp33RszKq+xsSGo3qjPo4ATTMT55QK/LK8lh3cR27YnZhoGvAjM4zGNdhHAYKA22H9tD+qr2x8UQ8B67cQpIkhng2Y1KPVvg5W92xf3FeLteO/0HM4V9IvZmLno4hrUy7MdCpM1Z6ZmhkmXJjJRYj3DD1cRTdG0KNEDMThWpTqpVsi97GhksbKFYWM7rdaP7r898GudpKuUrNvktpbAyNJzK1AAsjPV7q1ZrnurvgaHl767c4L5frZ05y7eh+kmPjAHA0bEWgw3AcjZqjkCTKqEDha4bjCA90jEX9Z6FmiUQtPJAsyxxKOsTK8JUkFyYT1CKINzq/QRurNtoO7aFlFZWz9VQS351OJLOwnDb2pnzwuCejOjlhpP//QwdLCvKJPXOSmLBjJF+9jCzLWOqa4W31GC3N3DFV6KKSNahtNNg/6YNhK8sG2+Uj1H8iUQv3dSX7CsvOLiM8PZw2lm1Y138dPVr00HZYD+3KzXw2hSbwy4WbVKg19Ha3Y1JQK4Lb2lYl2NLCgsqW86kTJEVeRNZoMNWVaGfcBQeL7jjoG6EjSZQpKjDq5YBV79bo6DfsceFCwyAStXBXt4pvseb8Gn658QvWhtbM7z6fUW1HoavTcP7JqDUyB6PS2RQaz6m4HIz0FDzl35IJQa60/rPuc1lREdfPhnHt5AkSL19A1mgwM9LFVc8RG7MBtDCxw1BHQimrwEUP+ye90bdv2GPChYan4XzqhDpRoixh05VNbI7cjFpWM8lzEpO9JmOmf49xw/VQYZmSXedS2BwWT3JOKS0sjXh7aHue6uKMhbEeZcVFXDl6iJiTx0m8dAGNWoW5hRluJhaYSj2wNW+PrZ4OsixTYaTCfGg7zDo7It1l5Icg1AWRqAWgcpWVn2MrJ6xklmYy2HUw0/2mN6jCSQlZxWwOS+D7c8kUV6jxd7Vi7pAODOzogLq8jBvnjnP45HESLp6vTM42tri3dEA30xETwwAcjQzRkyQqUKLwssB+eAcU5g1vJIvQ+IhELXAm7QzLzy0nKicKb1tvVvZeia+9r7bDqhZZljl5I5uNofEcis5AV0fiMW9HJga50t5GnxvhZ9i78msSLoajVioxtbHFy78LihuFyCp/HDT2WNhLaGQNaisZ61EeGLWxFsPqhHpFJOomLCE/gZXhKzmSfITmJs1ZGryUIa2GNIjRC2VKNb9cuMnG0HiibxVibaLPa33a8JSvPYXXLxGzYy2HL5yrTM7WNnj3G4RpRh5FsZYYJ7nT3ESBQpKokMoxDG6JdZ/W6BiJj4NQP4l/mU1Qfnk+6y+uZ0f0DvQV+kz3m86zHZ7FUNdQ26E9UHpBGd+dSmTr6SRyiito38yMJSPc8dTcJP7Mj/zw7TlUFeWYWFnj3W8wjnZOZP1xHeW5llgYd8TRRkItq9BpIWE3ygcDJ1FSVKj/RKJuQpRqJTtjdrLu4jqKlEU83uZxpnaaiq2RrbZDe6BLKXlsPBHPvstpqDQyA9pZMdxaBXFhxK0/S2p5OcYWlnj26U9r324UHLtKxikdikxMcDH0Q5IkKhRFmA3pgHm3lkh6Ylid0HCIRN0EyLLMkeQjrAxfSWJBIt2bd+eNLm/gbu2u7dDuS6XWcOBK5fC6c4m5WOjB+BbFtCu+wa0j4VwrL8PI3AKPnn1xDwhGylJzfXc4iReyaWHoTHsrCZWmHN02utiN6oaujai3ITRMIlE3clHZUSw/t5wzt87QyqIVa/utJbhFcL3uh84vUbL9bBLfhCVwK6+YLop0ZumnIideQXmtlEwzczr06E27gB7Y2LQg6psQYj67gZ2JNW2N3dHIGjT6OVj9xxvjTq2QFPX3XgWhOkSibqQySjJYc34NP8f+jIWBBe90e4cn2j2Bnk79rUMRm1HE5rB49pxLwq4gkV5SMva5sWjKS9ExMaVNQDDuAT1o4e5B4m9nubbhCsa6OTgaONDcQkKpLsLQXcZqVB8UFqL1LDQeIlE3MqWqUjZf2cymyE0oNUrGe4znRe8XMdevnw/NZFnm2PUsNh6LJeHSedxL4phQloCOsgwDExPaBAThHhCMs6cPBddTubztNLE5aTQ3NqODqTMajRrJMBmb4R0x7NyjXn9TEIR/SyTqRkIja9gXt49PIj4hoySDAS4DmOE3g5bmLbUd2l2VVKjYfTaJvQeOYZIaiXtpPN7qcvSMjGkbEIh7YDAuXr5oytVEbQ3h4Bd7sDC0w0WvGQozCaUqA7MOpZiNGIyOVW9t344g1CqRqBuBc7fOsezcMq5mX8XDxoNlPZfh5+Cn7bDuKiY1mz37TxB/JoyWBTfoqilD0jekXfcAOgQF4+Lth66eHqnHLhHy1m6kcmtaGBrjYW6CWlOOvlE0NgPboN99JDTwhXIFobpEom7AkgqSWBW+ioNJB3EwduDDHh8yzG0YOlL9qUmhLC/j6oVLHD9+mvSYK5gV3EQPDW0U+jTz9qN7/3608umMrr4+JWnZnFu1l7x4CTtjK9rpOiKZSKhVcVi1zcR4yFAkx/7aviVBqHMiUTdABRUFbLi4gW3R29DT0WOq71Se93geI13tP0CrKCvlZvRVbly+xNWI85SlJaAja9AgoWPqgHGn3gT26IpXV3/09A3QqNTc+CmMuKM3MdSxw8nABicLCZW6CCODk1gGO6HbYzQY3bnaiiA0FSJRNyBKjZLvY75n3cV15Jfn83jbx5nqOxU7YzutxVReUkJqzBVSrkaSdOUy6XGx8GdizjCwo9C+M219fBg+IJD2zvZVx+VcSeDS9jOU5ZriaGSCh4kjsqxBUl/ExuUGhn0GIrV/V3RvCAIiUTcIsixzLOUYy88tJ6Egga7NujLbfzbtrdvXeSxlxUWkRl8h+WokKVcvkxEfhyxrkHUUZBrak2juS4GlM126duJpfzf8nP9/5ZP8G6nE/HSOrBsVWBjY4arfDF0zCbUqG1Pd/Zj5WaLoMQHsX6vz+xKE+kwk6nouJieGZeeWcTrtNK7mrqzpu4ZeTr3qbBhaaWEBKVGRpFyNJDkqkszEeJBldHT1UNu2JMbBnyjsyTVtTj/Plkzp5EhwW7uqVbszwq9xbd9FCtIUmBlY00zfCkdzCY1Ghb58AivbM+gH9kfyWwJGlnVyT4LQ0IhEXU9llWbx2fnP+PH6j//X3p3Htn3edxx/P7zFUwcvSdThQ7J12LFT22iTNGuT2kkbJzESJ2i7tAtaNN2wrl06dMuwYcWKrNhQoGj/2D9Z22HG0haNsthuEyRxrqZOY1uy5Vu25EiWdZG6SB2keD/748fITnP4CGnS0vMCCFEW9eP3xyAff/08z+/54TA5eGLLEzy85uGCX7ASm4kw3HNS65h7TjJ54TwABqMJ96pmzJvv5u1YOQfm7Ei9gduaPHx3Qw3b2vzYzQay2SzDrx3lnVd7ScxYKbe4qDX6aHQJsjKNPnsMl/41rGsM6G75GjT9gxreUJTLUEFdYuLpOLtO7+JnJ35GKpvikdZH+Ob6b+IyuwryftFImKHTJxjOBfPU8AUADGYztWtaadx8CxdM1bw0buStgRnkBNwUcPFPn61l+03VeB0W0vEEA88fYHD/MNmEC7fFyipDDTqnIJONY5aHcJlex1IrEOu2Q8uPoXJFQc5HUZYiFdQlIiuzvDDwAj898lOC0SB31t/J4594nAZnQ17fZ256UhvGyIVzeGwEAKOljNq1rbR8+rNUr2njTNrFnuMhXjkeIpGO0VBl5W/uaGLHUwAgCwAAEg9JREFUhhpWeuwkwnP0/uYPdB+bwiCr8JlNrDXVggnS2RnK+D1O05uYAg5E+/3Q8nOoyO+5KMpyoYK6BHSPd/Ojzh9xYvIELZUt/PC2H7LZvzkvx56dGNdCOTfOHAmNAWAqsxJoaWPdnXdR19KOu2El3SOzPNc9wgvPDBOJDVBpM/HFzXXcv7GWjXXlzA9N0PvLN3ipd4EyYxU+o5k2ay0A6WwIm3gZu/EtjPU10LYDWr4N5aV5ZaSi3EguG9RCiF8A24FxKWV74UtaHqSUHBk/wtM9T7NvcB/eMi9P3vok966695ovWJFSMjMeYjgXzEOnTzI7EQLAYrNT29LOhrvuIdDSjqdxBTqdnr7QHLu6R9jT8SYjkQXKjHq2tfnYsaGW25rczJwepO/p19g3rMNuqsBvdOJzuMjKLJJBXPrfYTUcQF+/NhfO3wdXbT4/KkVZ9oSU8qNfIMTtwDyw60qDetOmTbKrqysP5S09M4kZ9r6zl47eDvpn+rEb7Xyl9Ss82vYoVqP1qo4lpSQSHF1cKjfUc5L5qUkAyhxOAi3tBFrbtWCub0TotL8AgjNxfntslOe6Rzg9NotOwKebPOzYWMPn1nqZ7TpL/8tniE9bqLA48RgEeqHdGUWvO0uFfg9l+m50DRtz4XwvOGvy/lkpynIihDgspdz0QT+7bEctpXxTCNGY76KWk3e752d6n2Hf+X0ks0nWu9fzg1t+wF2Nd11xQEspmR4ZZrjnxOKqjGh4GgCrq5xA6zrqcuFcVVu3GMwAs/EUL54cYXf3CG/3TyGlNin4/Xtb+UKLl+j+41z45R/pXHBQZbHSqPchHIK0jGMyHKNCtxuzrgfR+EloewBa/hsc/kJ8XIqi/Ak1Rl1AkXhE6577OhiYGcButPNA0wPsbN55RXdXkdksU8MXGMqNLw/3nCQ2EwHAXlFJXeu6xa65sibwvrXVyXSWN86Os/voCK/0jJNMZ2mosvLtO5q4Z3U56f0nCXZ0ciZTgddsZrW+GuyQYg6L+SAuuQejbhDReCu0PQpr7wWHrwCflKIoHyVvQS2EeAx4DKC+vj5fh73hSCk5HDpMR1/Hxe7Zc2Xds8xmmbhwXhtfPnWC4TOniM/NAuCo8tCwfiOBlnbq2tZR7qv+wItesllJ12BYmxQ8McbMQooqm4kvb6nnntoyDAd6mN57ggl9BT6TgWZzNVJK0row1rLf48zsxaCbgsZPQ9u3tXC2F+8SdUVR8hjUUsqngKdAG6PO13FvFNfSPcej84THRhg5c5rhnpOM9JwiHp0HwOnxsermLQRa26lrbcfp8X3k1Yi9oTme6x5h79HRxUnBu9p8bHfrsXe9Q+zlXqSpggqjA4/NSUZmkcYQrrKXsCVfQKeLQ+Pt0PbPsHY72Er/hreKslyooY+P4XLdc5mhjIXZGUZ7e4gExwgHx5gJjWnPQ2OL3TJAub+a1Vtuoa5VG8pwur0f8c6a4EycvcdGeK57lJ6xWfQ6wW0rK/leg4mqniDp/SnKzU6qDFXo7IK0TKOzDlNp2ktZfB9CD9T/GbT9uxbO1soCflqKolyrK1n18SvgM4AbCAHfl1L+/KN+Z6mv+nhP9xwZwJtx8jnXbWwytWKZl0SCY0RCQSKhUZILCxd/UQicbg/lvmrt4dce/tXNOCqvrIOdjad48USQ57pHODCgTQpuqHXwsIhRc2EWseDAbbHhyt3QNUkCi2sYt74DY3Q/Qm+AVZ+F1vthzRdUOCtKifioVR+XDeprsdSCOpvJMDMe4tDZN3n71KsMD/Vhi+rwJOxYowKZziy+Vqc34PL6KPf5KffXaGGcC2Wnx4fBePV7dSTSGd44O8Hu7hFePaNNCq52mXgkO0f9RBqzrMBjNmPVCaSUJPULONyDVKZ/iSHWDXoTrLojF86fV3s7K0oJ+ljL85aLdDLJzHiISGiUSDCY+zrGdHCE2YlxyGp/oTmAtQYnTq8XX0OjFsY+P+W+Gsr9fhxVHnT6j7/JUDYr6Tw/ze6jIzx/fIzZeJoGQ5Yn0vM0Ro3Y4mV4TG5MFkFWZkmZotiqz+GM7kIf7YWoCVZ/Dlr/UgtnS2H2ClEUpfCWVVAnF2K5IQltnDgSHNW+D44xNz0Jl/zrQl9mJm4XjBrCRFYkKff5+VTrHWzdcB9V7pqCbTN6NjjH7qMXJwVXpBf4TmqBlRk7TlMFbqMLvU2QlhmkbR5XbQ+28P+gmx+EKTM0bYXW70Hz3WApzTuPK4pydZZcUC/Mz2kBHBy7JJC15++uQX6X1VWOy+enrrWdcn8NxkoHR1O9PB9+jXPxXhwmB9tXbedbzTtprmguWM1jMwvsPapdKXgmOMfaaIRvZjI06CqotHioKNMuXEnKFFRFqao5imVsFyIahDFLLpz/BZrvArOjYHUqilIcN1xQSymJRsLv6YYXn4dGSUSj73m9vcpNha+alTdvodxfTYW/GlduMs9stSKlpCvURUdvB/sG95HKprjJcxNPbvoG2xq3FeQ+hPFUhqNDEQ72T/PWO5N09k/xiZlJ/kLqqTO5cVvqsOcmA+MiiaiJ4/YcwHThV4jYBJwvg+Zt2phz011gtue9RkVRSkdJBnU2m2F+aorwn3bGIe2RTiQWXyt0OlweHy6fn7WrP7MYxBX+apxeH0aT+QPfIxwP8+tTz9DR28H52fM4jA52Nu9kZwG653gqw5HBMAcGpjnYP0X3UISq+Vm2zs/zZb2V71qq8DhXYtYJslKSMCYxrkzidv4efX8HTE3CrBWatml7azRtA5MtrzUqilK6Siaos9kMe370JOHgGLPjQTLp9OLP9EYjLq+fcn819e03aZ2xrxqXvxqn24vecGWn8W73/EzvM7wy+AqpbIoNng08eeuTee2eY8k0hwfDHOyf5lD/JONDc2yILfDJVIbH9RacRitWczUGi9Y1p2WWlDVFWWuSCv3L6Pp2w4VpMNq04Yy2HbB6K5iubtMmRVGWhpIJap1OTzqVwl1Xz+rNn3zPWmNHZdV7Nhi6WuF4eHHHune754eaH+LB5gfz0j3PJ9J0DUxxqmeS0Dth5OQC61Jp7kDPQwYzemEDiw0ssJDJksgmiBqTOBqtuFfGKJt5HtH7WzgVBpNdmwhs26Gt2jDmf+hFUZQby5JdR/1h3fPO5p0fq3uWWclsaJ6zJycI9odJhmJUxNI0Sh3mS/aRXshK5jKSaDoJMorVq8PXaqC6NoQ+2AVDnTB5VnuxyaEtoWvbAavuBKMlHx+Boig3kGW1jvrDuuedzTtpqmi64uPIrCQTSZAajzE3PMdEf4TUeBR7NINFQg3aI55JM5eRDGclc9k08cQ8FuMsvgYT9U1pPPZ30I12wsgROD4Lx9EuOAlsgXUPQd1mqP8UGD54LF1RFGVJBPVi93z2GV65cLF7/rfb/o2tDVs/snu+NJDToRipUJT4WJTURAx9+uK/NkQmTSq1QCidIYKFWWlgLisxJqfx2BeoqRO0r4hQwUl0o10w1QdHAaEDXxus26mFc2AzVK2CAq3DVhRl6bmhgzocD7Pn3B6e7XtW655NDh5e8zAPNj34vu5Zyj8NZC2U0+MxZDK7+LqITjKQTpGIz6NLxJAZPdP6cpLCAFhwpCbxOKdpq4nTEBjFlTyidcvz83ACsFZpgbzhS1oo19ysls8pivKx3HBBLaWkM9hJR2/HYve80buRb6z/BlsbtmLRW8jMJFg4O30xkHPhLJMX9+RIWfSMmwSn9Rn6UnPY5qZwLcQp09mIW7wgHAisOOUkDdYLBPwzNHj7sM0dhOl+iAK9evC3w025UK7bDBUrVLesKEpe3TBBPR2fZu85bce6wdlBHEYHj9Y9wj2ObXij5aS6Y8y9eJbp8RgycckmSXYjsspCqMFGTyrFH8Lz9AfHaQlOsyoNVkM5tRYv6AKIsjTW7AQrbH3UekLUO7spi3RCKgYLwKQX6rbAzV/VuuaaDWo9s6IoBVfSqz6klHSOHeLF488zOHCO2gUPN+vW0ZJdhX3G/L5ANnqtGHxWYg4jp1NJ3opEeeP8NGIoyKa5GRrSOiymShLmKgD0mQQVchy/Y5q6ygEClv2You/kDmgA//pcp7wFApugvEF1y4qiFMQNsepDSkl2NkkqFGNmZILz5/pIhObwxSr5WnYrsBUAnc2I0WfFsMqK0WfF6LUybtLxx9AsB/unONhzAduFETbOzxHIGvhzk5ukyQ9lfgzpGOWEqLb0UufsoUb/Ogap3VGFMr82dBF4VAvm6pvUGmZFUUpC6QR1RjL6H4cQuXk9u16QsOuIrdXhXdWAtdqJwWtFZzMyNL3Agf4pDgyM0/nqJO6hYdZFY6ySJlabvaSNtWAFY2oOtxij2tRFvbULv+kQOp0EnVEL4rqvah1zYDO4AqpbVhSlJJVMUMdlnJ/UPs2MaZ72tRvZ3n4/t1esRkrJ+akYL/ZPcfDQAEf6xqkZGqEtFmctFpotPjKGerCBMRnGw3mqDX00mP+A2zaATgc4a3OB/KTWLfvXq4tKFEW5YZRMUFuNVr768F/RXN7MSDjDgbNT/HSgm2Nnx1gxPMrahQStOhtrLD6y+kawgykxgSd7mhpO0GA7QKU/BHqzNskXuOeSbrm22KenKIpyzUomqOOpDE+9nOFUzys0j43RFE+zXu+gxeJDGlaCPYslEcSb7qSWIzRUHMVpDYOrXpvoq3tcW4nhb1dX+SmKsqSUTFDrEkk2vnyGVosXjKsR+gzW5DDexOsETN00VJ3Aak9DzcbcSoyva18d/mKXriiKUlAlE9Qmiw4vwzgWDhKwnqDefRqzN7duOfAABH4I/nWgv/qbwyqKotzISiaoMZi5774+bTw58Hdat2z3FrsqRVGUoiudoAZ48L+KXYGiKErJufbd+BVFUZTrQgW1oihKiVNBrSiKUuKuKKiFEHcLIc4KIc4JIZ4odFGKoijKRZcNaiGEHvhP4PNAK/AlIURroQtTFEVRNFfSUW8Bzkkp+6WUSeDXwP2FLUtRFEV515UEdS0wdMn3w7k/ew8hxGNCiC4hRNfExES+6lMURVn28jaZKKV8Skq5SUq5yePx5OuwiqIoy96VXPAyAtRd8n0g92cf6vDhw5NCiMFrrMkNTF7j796o1DkvfcvtfEGd89Vq+LAfXPZWXEIIA9AL3IkW0J3Al6WUp66xmMu9X9eH3Y5mqVLnvPQtt/MFdc75dNmOWkqZFkJ8C3gJ0AO/KFRIK4qiKO93RXt9SClfAF4ocC2KoijKByjFKxOfKnYBRaDOeelbbucL6pzz5rJj1IqiKEpxlWJHrSiKolxCBbWiKEqJK5mgXo4bPwkhfiGEGBdCnCx2LdeDEKJOCPG6EOK0EOKUEOI7xa6p0IQQFiHEISHEsdw5/2uxa7pehBB6IUS3EOJ3xa7lehBCnBdCnBBCHBVCdOX12KUwRp3b+KkX2Ip2iXon8CUp5emiFlZgQojbgXlgl5Syvdj1FJoQohqollIeEUI4gMPAjqX831kIIQCblHJeCGEE9gPfkVIeKHJpBSeE+C6wCXBKKbcXu55CE0KcBzZJKfN+kU+pdNTLcuMnKeWbwHSx67hepJRjUsojuedzQA8fsG/MUiI187lvjblH8bujAhNCBIB7gJ8Vu5aloFSC+oo2flKWDiFEI7AROFjcSgovNwRwFBgH9kkpl/w5Az8B/h7IFruQ60gCLwshDgshHsvngUslqJVlRAhhB54F/lZKOVvsegpNSpmRUm5A2ydnixBiSQ9zCSG2A+NSysPFruU6u01KeTPa3v1/nRvazItSCeqr3vhJuTHlxmmfBZ6WUv5fseu5nqSUEeB14O5i11JgtwL35cZsfw3cIYT43+KWVHhSypHc13HgObQh3bwolaDuBJqEECuEECbgi8DeItek5FluYu3nQI+U8sfFrud6EEJ4hBDluedlaBPmZ4pbVWFJKf9RShmQUjai/b/8mpTykSKXVVBCCFtughwhhA3YBuRtNVdJBLWUMg28u/FTD/Cb5bDxkxDiV8DbwBohxLAQ4uvFrqnAbgW+gtZhHc09vlDsogqsGnhdCHEcrSHZJ6VcFsvVlhkfsF8IcQw4BDwvpXwxXwcvieV5iqIoyocriY5aURRF+XAqqBVFUUqcCmpFUZQSp4JaURSlxKmgVhRFKXEqqBVFUUqcCmpFUZQS9/96WNS/weZmygAAAABJRU5ErkJggg==)"
      ]
    },
    {
      "cell_type": "markdown",
      "metadata": {
        "id": "aKDYekVWejSG"
      },
      "source": [
        "# Conclusion"
      ]
    },
    {
      "cell_type": "markdown",
      "metadata": {
        "id": "Jq9VQlc9ey-M"
      },
      "source": [
        "> The networks designed for time series have much lesser parameters and perform significantly better than the simple models. In our multiple runs, wavnet inspired model outperformed other networks multiple times."
      ]
    }
  ]
}