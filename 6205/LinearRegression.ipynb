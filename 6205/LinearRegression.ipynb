{
  "nbformat": 4,
  "nbformat_minor": 0,
  "metadata": {
    "colab": {
      "name": "LinearRegression.ipynb",
      "provenance": [],
      "collapsed_sections": []
    },
    "kernelspec": {
      "name": "python3",
      "display_name": "Python 3"
    }
  },
  "cells": [
    {
      "cell_type": "code",
      "metadata": {
        "id": "smGzuV-VAHf9"
      },
      "source": [
        "import matplotlib.pyplot as plt\n",
        "import numpy as np\n",
        "from google.colab import files\n",
        "\n",
        "np.random.seed(1)"
      ],
      "execution_count": null,
      "outputs": []
    },
    {
      "cell_type": "code",
      "metadata": {
        "id": "w-BtEz0pHECk"
      },
      "source": [
        "# Total number of feature vectors\r\n",
        "N = 100"
      ],
      "execution_count": null,
      "outputs": []
    },
    {
      "cell_type": "code",
      "metadata": {
        "id": "mYYodjzPGtk7"
      },
      "source": [
        "# Create one-dimensional feature vectors that range from 0 to 5\r\n",
        "X = 5*np.random.rand(N,1)"
      ],
      "execution_count": null,
      "outputs": []
    },
    {
      "cell_type": "code",
      "metadata": {
        "id": "htjyTZE1G2fw"
      },
      "source": [
        "# True weight and bias\r\n",
        "w, b = 2, 1"
      ],
      "execution_count": null,
      "outputs": []
    },
    {
      "cell_type": "code",
      "metadata": {
        "id": "VAltvv4XG6nr"
      },
      "source": [
        "# Add randomness to the labels\r\n",
        "y = w*X + b + np.random.randn(N,1)"
      ],
      "execution_count": null,
      "outputs": []
    },
    {
      "cell_type": "code",
      "metadata": {
        "id": "5deD87UiDF4R",
        "colab": {
          "base_uri": "https://localhost:8080/",
          "height": 296
        },
        "outputId": "a1d9067a-7e4d-4bcd-dbc9-27fe0b87e95b"
      },
      "source": [
        "plt.plot(X,y,'ro')\n",
        "plt.grid()\n",
        "plt.xlabel('x')\n",
        "plt.ylabel('y')\n",
        "plt.legend(['data'])\n",
        "# plt.savefig('dataLinearRegression.png')\n",
        "# files.download('dataLinearRegression.png')"
      ],
      "execution_count": null,
      "outputs": [
        {
          "output_type": "execute_result",
          "data": {
            "text/plain": [
              "<matplotlib.legend.Legend at 0x7f9207dc4a58>"
            ]
          },
          "metadata": {
            "tags": []
          },
          "execution_count": 6
        },
        {
          "output_type": "display_data",
          "data": {
            "image/png": "[encoded data removed]",
            "text/plain": [
              "<Figure size 432x288 with 1 Axes>"
            ]
          },
          "metadata": {
            "tags": [],
            "needs_background": "light"
          }
        }
      ]
    },
    {
      "cell_type": "code",
      "metadata": {
        "id": "I0NF8owPIAO3",
        "colab": {
          "base_uri": "https://localhost:8080/",
          "height": 296
        },
        "outputId": "161c9c92-9db7-4279-d803-7f45e8240639"
      },
      "source": [
        "plt.plot(X,y, 'ro')\n",
        "plt.plot(X, w*X+b)\n",
        "plt.plot(X, (w-0.25)*X+(b+0.5),'k')\n",
        "plt.legend(['data','w=2, b=1','w=1.75, b=1.5'])\n",
        "plt.grid()\n",
        "plt.xlabel('x')\n",
        "plt.ylabel('y')\n",
        "# plt.savefig('LinearRegression.png')\n",
        "# files.download('LinearRegression.png')"
      ],
      "execution_count": null,
      "outputs": [
        {
          "output_type": "execute_result",
          "data": {
            "text/plain": [
              "Text(0, 0.5, 'y')"
            ]
          },
          "metadata": {
            "tags": []
          },
          "execution_count": 7
        },
        {
          "output_type": "display_data",
          "data": {
            "image/png": "[encoded data removed]",
            "text/plain": [
              "<Figure size 432x288 with 1 Axes>"
            ]
          },
          "metadata": {
            "tags": [],
            "needs_background": "light"
          }
        }
      ]
    },
    {
      "cell_type": "code",
      "metadata": {
        "id": "W3MF47S3CgM_"
      },
      "source": [
        "# Add a constant feature 1 to account for the bias term \r\n",
        "X_b = np.c_[X, np.ones((N, 1))]"
      ],
      "execution_count": null,
      "outputs": []
    },
    {
      "cell_type": "code",
      "metadata": {
        "id": "T7qKsT3rDKcZ",
        "colab": {
          "base_uri": "https://localhost:8080/"
        },
        "outputId": "b420421a-aacb-4b80-9206-e87df3830adc"
      },
      "source": [
        "print(X_b.shape)"
      ],
      "execution_count": null,
      "outputs": [
        {
          "output_type": "stream",
          "text": [
            "(100, 2)\n"
          ],
          "name": "stdout"
        }
      ]
    },
    {
      "cell_type": "code",
      "metadata": {
        "id": "k5IQQQypDtxs"
      },
      "source": [
        "# Linear regression using gradient descent\n",
        "eta = 0.01\n",
        "iterations = 1000\n",
        "\n",
        "theta = np.random.randn(2,1)\n",
        "\n",
        "for i in range(iterations):\n",
        "  gradients = 2/N*(X_b.T @ (X_b @ theta- y))\n",
        "  theta -= eta* gradients"
      ],
      "execution_count": null,
      "outputs": []
    },
    {
      "cell_type": "code",
      "metadata": {
        "id": "5T5gESCbEIqo",
        "colab": {
          "base_uri": "https://localhost:8080/"
        },
        "outputId": "e4731af3-a0ff-4e94-c775-9b351b1f8de9"
      },
      "source": [
        "print(\"Weight and bias from gradient descent linear regression: {}, {}\".format(theta[0][0], theta[1][0]))"
      ],
      "execution_count": null,
      "outputs": [
        {
          "output_type": "stream",
          "text": [
            "Weight and bias from gradient descent linear regression: 1.938787827283204, 1.231151817478208\n"
          ],
          "name": "stdout"
        }
      ]
    },
    {
      "cell_type": "code",
      "metadata": {
        "id": "yj39OfPREWxM",
        "colab": {
          "base_uri": "https://localhost:8080/"
        },
        "outputId": "93ce9b83-0752-41ca-c224-77a0a41cd8bf"
      },
      "source": [
        "# Linear regression using scikit-learn LinearRegression\n",
        "from sklearn.linear_model import LinearRegression\n",
        "\n",
        "lin_reg = LinearRegression()\n",
        "lin_reg.fit(X,y)\n",
        "\n",
        "print(\"Weight and bias from sklearn LinearRegression: {}, {}\".format(lin_reg.coef_[0][0], lin_reg.intercept_[0]))"
      ],
      "execution_count": null,
      "outputs": [
        {
          "output_type": "stream",
          "text": [
            "Weight and bias from sklearn LinearRegression: 1.9369850175310641, 1.2369572541489076\n"
          ],
          "name": "stdout"
        }
      ]
    },
    {
      "cell_type": "code",
      "metadata": {
        "id": "JGJr2nDHRFeA"
      },
      "source": [
        "# Mini-batch gradient descent linear regression\n",
        "eta_0, eta_1 = 0.1, 0.01 # Learning rate hyperparameters\n",
        "def learning_scheduler(t):\n",
        "  return eta_0*(1-t) + t*eta_1\n",
        "\n",
        "theta = np.random.randn(2,1)\n",
        "\n",
        "epochs = 50\n",
        "batch_size = 10\n",
        "batches_per_epoch = np.int(N/batch_size)\n",
        "\n",
        "for epoch in range(epochs):\n",
        "  for i in range(batches_per_epoch):\n",
        "    ind = np.random.choice(N, size=batch_size, replace=False)\n",
        "    xt = X_b[ind]\n",
        "    yt = y[ind]\n",
        "    grad_loss = 2/batch_size * xt.T @ (xt @ theta-yt)\n",
        "    eta = learning_scheduler( (epoch * batches_per_epoch + i)/ (epochs * batches_per_epoch))\n",
        "    theta -= eta*grad_loss"
      ],
      "execution_count": null,
      "outputs": []
    },
    {
      "cell_type": "code",
      "metadata": {
        "id": "YZ9aG23IScty",
        "colab": {
          "base_uri": "https://localhost:8080/"
        },
        "outputId": "54d216fa-813c-4071-fddc-f65ff6d3d850"
      },
      "source": [
        "print(\"Weight and bias from batch-gradient descent linear regression: {}, {}\".format(theta[0][0], theta[1][0]))"
      ],
      "execution_count": null,
      "outputs": [
        {
          "output_type": "stream",
          "text": [
            "Weight and bias from batch-gradient descent linear regression: 1.9311244051343082, 1.260133591076117\n"
          ],
          "name": "stdout"
        }
      ]
    }
  ]
}