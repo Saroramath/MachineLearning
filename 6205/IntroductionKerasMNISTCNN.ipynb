{
  "nbformat": 4,
  "nbformat_minor": 0,
  "metadata": {
    "colab": {
      "name": "IntroductionKerasMNISTCNN.ipynb",
      "provenance": [],
      "collapsed_sections": [],
      "include_colab_link": true
    },
    "kernelspec": {
      "name": "python3",
      "display_name": "Python 3"
    },
    "accelerator": "GPU",
    "widgets": {
      "application/vnd.jupyter.widget-state+json": {
        "eeeb3b64ac4241f3836ffea988ffa364": {
          "model_module": "@jupyter-widgets/controls",
          "model_name": "HBoxModel",
          "state": {
            "_view_name": "HBoxView",
            "_dom_classes": [],
            "_model_name": "HBoxModel",
            "_view_module": "@jupyter-widgets/controls",
            "_model_module_version": "1.5.0",
            "_view_count": null,
            "_view_module_version": "1.5.0",
            "box_style": "",
            "layout": "IPY_MODEL_4e88514dd4124de4877a2b2ed0243419",
            "_model_module": "@jupyter-widgets/controls",
            "children": [
              "IPY_MODEL_8c08b21bed3242d58f91ad2229ef4095",
              "IPY_MODEL_fe4c4cae2e20447988e8607d7270e01f"
            ]
          }
        },
        "4e88514dd4124de4877a2b2ed0243419": {
          "model_module": "@jupyter-widgets/base",
          "model_name": "LayoutModel",
          "state": {
            "_view_name": "LayoutView",
            "grid_template_rows": null,
            "right": null,
            "justify_content": null,
            "_view_module": "@jupyter-widgets/base",
            "overflow": null,
            "_model_module_version": "1.2.0",
            "_view_count": null,
            "flex_flow": null,
            "width": null,
            "min_width": null,
            "border": null,
            "align_items": null,
            "bottom": null,
            "_model_module": "@jupyter-widgets/base",
            "top": null,
            "grid_column": null,
            "overflow_y": null,
            "overflow_x": null,
            "grid_auto_flow": null,
            "grid_area": null,
            "grid_template_columns": null,
            "flex": null,
            "_model_name": "LayoutModel",
            "justify_items": null,
            "grid_row": null,
            "max_height": null,
            "align_content": null,
            "visibility": null,
            "align_self": null,
            "height": null,
            "min_height": null,
            "padding": null,
            "grid_auto_rows": null,
            "grid_gap": null,
            "max_width": null,
            "order": null,
            "_view_module_version": "1.2.0",
            "grid_template_areas": null,
            "object_position": null,
            "object_fit": null,
            "grid_auto_columns": null,
            "margin": null,
            "display": null,
            "left": null
          }
        },
        "8c08b21bed3242d58f91ad2229ef4095": {
          "model_module": "@jupyter-widgets/controls",
          "model_name": "FloatProgressModel",
          "state": {
            "_view_name": "ProgressView",
            "style": "IPY_MODEL_ef767d674e3d4262807f6be7b3174b90",
            "_dom_classes": [],
            "description": "Dl Completed...: 100%",
            "_model_name": "FloatProgressModel",
            "bar_style": "success",
            "max": 4,
            "_view_module": "@jupyter-widgets/controls",
            "_model_module_version": "1.5.0",
            "value": 4,
            "_view_count": null,
            "_view_module_version": "1.5.0",
            "orientation": "horizontal",
            "min": 0,
            "description_tooltip": null,
            "_model_module": "@jupyter-widgets/controls",
            "layout": "IPY_MODEL_9fda400f565c400bb24fdba3fa53c448"
          }
        },
        "fe4c4cae2e20447988e8607d7270e01f": {
          "model_module": "@jupyter-widgets/controls",
          "model_name": "HTMLModel",
          "state": {
            "_view_name": "HTMLView",
            "style": "IPY_MODEL_c698943489624a2593dcdb993ff90dee",
            "_dom_classes": [],
            "description": "",
            "_model_name": "HTMLModel",
            "placeholder": "​",
            "_view_module": "@jupyter-widgets/controls",
            "_model_module_version": "1.5.0",
            "value": " 4/4 [00:05&lt;00:00,  1.26s/ file]",
            "_view_count": null,
            "_view_module_version": "1.5.0",
            "description_tooltip": null,
            "_model_module": "@jupyter-widgets/controls",
            "layout": "IPY_MODEL_5115126f2c43432cb86ada57764b8f73"
          }
        },
        "ef767d674e3d4262807f6be7b3174b90": {
          "model_module": "@jupyter-widgets/controls",
          "model_name": "ProgressStyleModel",
          "state": {
            "_view_name": "StyleView",
            "_model_name": "ProgressStyleModel",
            "description_width": "initial",
            "_view_module": "@jupyter-widgets/base",
            "_model_module_version": "1.5.0",
            "_view_count": null,
            "_view_module_version": "1.2.0",
            "bar_color": null,
            "_model_module": "@jupyter-widgets/controls"
          }
        },
        "9fda400f565c400bb24fdba3fa53c448": {
          "model_module": "@jupyter-widgets/base",
          "model_name": "LayoutModel",
          "state": {
            "_view_name": "LayoutView",
            "grid_template_rows": null,
            "right": null,
            "justify_content": null,
            "_view_module": "@jupyter-widgets/base",
            "overflow": null,
            "_model_module_version": "1.2.0",
            "_view_count": null,
            "flex_flow": null,
            "width": null,
            "min_width": null,
            "border": null,
            "align_items": null,
            "bottom": null,
            "_model_module": "@jupyter-widgets/base",
            "top": null,
            "grid_column": null,
            "overflow_y": null,
            "overflow_x": null,
            "grid_auto_flow": null,
            "grid_area": null,
            "grid_template_columns": null,
            "flex": null,
            "_model_name": "LayoutModel",
            "justify_items": null,
            "grid_row": null,
            "max_height": null,
            "align_content": null,
            "visibility": null,
            "align_self": null,
            "height": null,
            "min_height": null,
            "padding": null,
            "grid_auto_rows": null,
            "grid_gap": null,
            "max_width": null,
            "order": null,
            "_view_module_version": "1.2.0",
            "grid_template_areas": null,
            "object_position": null,
            "object_fit": null,
            "grid_auto_columns": null,
            "margin": null,
            "display": null,
            "left": null
          }
        },
        "c698943489624a2593dcdb993ff90dee": {
          "model_module": "@jupyter-widgets/controls",
          "model_name": "DescriptionStyleModel",
          "state": {
            "_view_name": "StyleView",
            "_model_name": "DescriptionStyleModel",
            "description_width": "",
            "_view_module": "@jupyter-widgets/base",
            "_model_module_version": "1.5.0",
            "_view_count": null,
            "_view_module_version": "1.2.0",
            "_model_module": "@jupyter-widgets/controls"
          }
        },
        "5115126f2c43432cb86ada57764b8f73": {
          "model_module": "@jupyter-widgets/base",
          "model_name": "LayoutModel",
          "state": {
            "_view_name": "LayoutView",
            "grid_template_rows": null,
            "right": null,
            "justify_content": null,
            "_view_module": "@jupyter-widgets/base",
            "overflow": null,
            "_model_module_version": "1.2.0",
            "_view_count": null,
            "flex_flow": null,
            "width": null,
            "min_width": null,
            "border": null,
            "align_items": null,
            "bottom": null,
            "_model_module": "@jupyter-widgets/base",
            "top": null,
            "grid_column": null,
            "overflow_y": null,
            "overflow_x": null,
            "grid_auto_flow": null,
            "grid_area": null,
            "grid_template_columns": null,
            "flex": null,
            "_model_name": "LayoutModel",
            "justify_items": null,
            "grid_row": null,
            "max_height": null,
            "align_content": null,
            "visibility": null,
            "align_self": null,
            "height": null,
            "min_height": null,
            "padding": null,
            "grid_auto_rows": null,
            "grid_gap": null,
            "max_width": null,
            "order": null,
            "_view_module_version": "1.2.0",
            "grid_template_areas": null,
            "object_position": null,
            "object_fit": null,
            "grid_auto_columns": null,
            "margin": null,
            "display": null,
            "left": null
          }
        }
      }
    }
  },
  "cells": [
    {
      "cell_type": "markdown",
      "metadata": {
        "id": "view-in-github",
        "colab_type": "text"
      },
      "source": [
        "<a href=\"https://colab.research.google.com/github/Saroramath/MachineLearning/blob/main/6205/IntroductionKerasMNISTCNN.ipynb\" target=\"_parent\"><img src=\"https://colab.research.google.com/assets/colab-badge.svg\" alt=\"Open In Colab\"/></a>"
      ]
    },
    {
      "cell_type": "code",
      "metadata": {
        "id": "0Hct7P174L4N"
      },
      "source": [
        "import tensorflow as tf\r\n",
        "import tensorflow_datasets as tfds\r\n",
        "import numpy as np\r\n",
        "import matplotlib.pyplot as plt\r\n",
        "from tensorflow.keras.datasets import mnist"
      ],
      "execution_count": null,
      "outputs": []
    },
    {
      "cell_type": "code",
      "metadata": {
        "id": "xAB6JWQ_4U3K",
        "colab": {
          "base_uri": "https://localhost:8080/",
          "height": 220,
          "referenced_widgets": [
            "eeeb3b64ac4241f3836ffea988ffa364",
            "4e88514dd4124de4877a2b2ed0243419",
            "8c08b21bed3242d58f91ad2229ef4095",
            "fe4c4cae2e20447988e8607d7270e01f",
            "ef767d674e3d4262807f6be7b3174b90",
            "9fda400f565c400bb24fdba3fa53c448",
            "c698943489624a2593dcdb993ff90dee",
            "5115126f2c43432cb86ada57764b8f73"
          ]
        },
        "outputId": "3ceb9b20-d61a-4fce-9ac9-f6b788a34f17"
      },
      "source": [
        "# Step 1: Load the raw data\r\n",
        "(ds_train, ds_test), ds_info = tfds.load(\r\n",
        "    'mnist',\r\n",
        "    split=['train', 'test'],\r\n",
        "    shuffle_files=True,\r\n",
        "    as_supervised=True,\r\n",
        "    with_info=True,\r\n",
        ")"
      ],
      "execution_count": null,
      "outputs": [
        {
          "output_type": "stream",
          "text": [
            "\u001b[1mDownloading and preparing dataset mnist/3.0.1 (download: 11.06 MiB, generated: 21.00 MiB, total: 32.06 MiB) to /root/tensorflow_datasets/mnist/3.0.1...\u001b[0m\n"
          ],
          "name": "stdout"
        },
        {
          "output_type": "stream",
          "text": [
            "WARNING:absl:Dataset mnist is hosted on GCS. It will automatically be downloaded to your\n",
            "local data directory. If you'd instead prefer to read directly from our public\n",
            "GCS bucket (recommended if you're running on GCP), you can instead pass\n",
            "`try_gcs=True` to `tfds.load` or set `data_dir=gs://tfds-data/datasets`.\n",
            "\n"
          ],
          "name": "stderr"
        },
        {
          "output_type": "display_data",
          "data": {
            "application/vnd.jupyter.widget-view+json": {
              "model_id": "eeeb3b64ac4241f3836ffea988ffa364",
              "version_minor": 0,
              "version_major": 2
            },
            "text/plain": [
              "HBox(children=(FloatProgress(value=0.0, description='Dl Completed...', max=4.0, style=ProgressStyle(descriptio…"
            ]
          },
          "metadata": {
            "tags": []
          }
        },
        {
          "output_type": "stream",
          "text": [
            "\n",
            "\n",
            "\u001b[1mDataset mnist downloaded and prepared to /root/tensorflow_datasets/mnist/3.0.1. Subsequent calls will reuse this data.\u001b[0m\n"
          ],
          "name": "stdout"
        }
      ]
    },
    {
      "cell_type": "code",
      "metadata": {
        "id": "tu35v2wY4XoQ"
      },
      "source": [
        "# Step 2: Build the training/testing pipelines\r\n",
        "def normalize_img(image, label):\r\n",
        "  return tf.cast(image, tf.float32) / 255., label #tf.one_hot(label, 10)\r\n",
        "\r\n",
        "ds_train = ds_train.map(\r\n",
        "    normalize_img, num_parallel_calls=tf.data.experimental.AUTOTUNE)\r\n",
        "ds_train = ds_train.cache()\r\n",
        "ds_train = ds_train.shuffle(ds_info.splits['train'].num_examples)\r\n",
        "ds_train = ds_train.batch(128)\r\n",
        "ds_train = ds_train.prefetch(tf.data.experimental.AUTOTUNE)\r\n",
        "\r\n",
        "ds_test = ds_test.map(\r\n",
        "    normalize_img, num_parallel_calls=tf.data.experimental.AUTOTUNE)\r\n",
        "ds_test = ds_test.cache()\r\n",
        "ds_test = ds_test.batch(128)\r\n",
        "ds_test = ds_test.prefetch(tf.data.experimental.AUTOTUNE)"
      ],
      "execution_count": null,
      "outputs": []
    },
    {
      "cell_type": "code",
      "metadata": {
        "id": "F5sd-4ncprni",
        "colab": {
          "base_uri": "https://localhost:8080/"
        },
        "outputId": "c3c05caf-681e-4447-aa47-0073a45e87e8"
      },
      "source": [
        "# Step 3: Create the model\r\n",
        "inp = tf.keras.layers.Input(shape=(28, 28,1))\r\n",
        "b = tf.keras.layers.Conv2D(filters=16, kernel_size=(3,3), strides=(2,2), padding='same')(inp)\r\n",
        "b = tf.keras.layers.Conv2D(filters=32, kernel_size=(3,3), strides=(2,2), padding='same')(b)\r\n",
        "b = tf.keras.layers.Conv2D(filters=64, kernel_size=(3,3), strides=(2,2), padding='same')(b)\r\n",
        "b = tf.keras.layers.Conv2D(filters=128, kernel_size=(3,3), strides=(2,2), padding='same')(b)\r\n",
        "\r\n",
        "b = tf.keras.layers.GlobalAveragePooling2D()(b)\r\n",
        "b = tf.keras.layers.Dropout(0.3)(b)\r\n",
        "b = tf.keras.layers.Dense(32, activation='relu')(b)\r\n",
        "out = tf.keras.layers.Dense(10, activation='softmax')(b)\r\n",
        "\r\n",
        "model = tf.keras.models.Model(inp, out)\r\n",
        "\r\n",
        "# Summary of the model\r\n",
        "model.summary()"
      ],
      "execution_count": null,
      "outputs": [
        {
          "output_type": "stream",
          "text": [
            "Model: \"model\"\n",
            "_________________________________________________________________\n",
            "Layer (type)                 Output Shape              Param #   \n",
            "=================================================================\n",
            "input_1 (InputLayer)         [(None, 28, 28, 1)]       0         \n",
            "_________________________________________________________________\n",
            "conv2d (Conv2D)              (None, 14, 14, 16)        160       \n",
            "_________________________________________________________________\n",
            "conv2d_1 (Conv2D)            (None, 7, 7, 32)          4640      \n",
            "_________________________________________________________________\n",
            "conv2d_2 (Conv2D)            (None, 4, 4, 64)          18496     \n",
            "_________________________________________________________________\n",
            "conv2d_3 (Conv2D)            (None, 2, 2, 128)         73856     \n",
            "_________________________________________________________________\n",
            "global_average_pooling2d (Gl (None, 128)               0         \n",
            "_________________________________________________________________\n",
            "dropout (Dropout)            (None, 128)               0         \n",
            "_________________________________________________________________\n",
            "dense (Dense)                (None, 32)                4128      \n",
            "_________________________________________________________________\n",
            "dense_1 (Dense)              (None, 10)                330       \n",
            "=================================================================\n",
            "Total params: 101,610\n",
            "Trainable params: 101,610\n",
            "Non-trainable params: 0\n",
            "_________________________________________________________________\n"
          ],
          "name": "stdout"
        }
      ]
    },
    {
      "cell_type": "code",
      "metadata": {
        "id": "kpt8VhU-4a3q"
      },
      "source": [
        "# # Step 3: Create the model\r\n",
        "# inp = tf.keras.layers.Input(shape=(28,28,))\r\n",
        "# b = tf.keras.layers.Flatten()(inp)\r\n",
        "# b = tf.keras.layers.Dense(128, activation='relu')(b)\r\n",
        "# b = tf.keras.layers.Dense(128, activation='relu')(b)\r\n",
        "# out = tf.keras.layers.Dense(10, activation='softmax')(b)\r\n",
        "\r\n",
        "# model = tf.keras.models.Model(inp, out)\r\n",
        "\r\n",
        "# # Summary of the model\r\n",
        "# model.summary()"
      ],
      "execution_count": null,
      "outputs": []
    },
    {
      "cell_type": "code",
      "metadata": {
        "id": "CE5Gt-jJjsTL"
      },
      "source": [
        "# Compile the model, i.e. associate a loss function and the chosen variant of GD\r\n",
        "model.compile(\r\n",
        "    loss='sparse_categorical_crossentropy',\r\n",
        "    optimizer=tf.keras.optimizers.Adam(),\r\n",
        "    metrics=['accuracy'],\r\n",
        ")"
      ],
      "execution_count": null,
      "outputs": []
    },
    {
      "cell_type": "code",
      "metadata": {
        "colab": {
          "base_uri": "https://localhost:8080/"
        },
        "id": "tyg4nPiI4cud",
        "outputId": "e999dc20-d779-4bda-a354-b457d6da12c8"
      },
      "source": [
        "# Step 4: Train the model\r\n",
        "hist = model.fit(\r\n",
        "    ds_train,\r\n",
        "    epochs=50,\r\n",
        "    validation_data=ds_test,\r\n",
        "    callbacks=tf.keras.callbacks.EarlyStopping(patience=5)\r\n",
        ")"
      ],
      "execution_count": null,
      "outputs": [
        {
          "output_type": "stream",
          "text": [
            "Epoch 1/50\n",
            "469/469 [==============================] - 13s 7ms/step - loss: 0.7729 - accuracy: 0.7698 - val_loss: 0.2245 - val_accuracy: 0.9325\n",
            "Epoch 2/50\n",
            "469/469 [==============================] - 2s 4ms/step - loss: 0.2679 - accuracy: 0.9201 - val_loss: 0.1871 - val_accuracy: 0.9432\n",
            "Epoch 3/50\n",
            "469/469 [==============================] - 2s 4ms/step - loss: 0.2222 - accuracy: 0.9325 - val_loss: 0.1648 - val_accuracy: 0.9514\n",
            "Epoch 4/50\n",
            "469/469 [==============================] - 2s 4ms/step - loss: 0.1977 - accuracy: 0.9410 - val_loss: 0.1552 - val_accuracy: 0.9549\n",
            "Epoch 5/50\n",
            "469/469 [==============================] - 2s 4ms/step - loss: 0.1761 - accuracy: 0.9468 - val_loss: 0.1433 - val_accuracy: 0.9545\n",
            "Epoch 6/50\n",
            "469/469 [==============================] - 2s 4ms/step - loss: 0.1729 - accuracy: 0.9477 - val_loss: 0.1312 - val_accuracy: 0.9604\n",
            "Epoch 7/50\n",
            "469/469 [==============================] - 2s 4ms/step - loss: 0.1597 - accuracy: 0.9508 - val_loss: 0.1389 - val_accuracy: 0.9601\n",
            "Epoch 8/50\n",
            "469/469 [==============================] - 2s 4ms/step - loss: 0.1537 - accuracy: 0.9539 - val_loss: 0.1261 - val_accuracy: 0.9633\n",
            "Epoch 9/50\n",
            "469/469 [==============================] - 2s 4ms/step - loss: 0.1479 - accuracy: 0.9550 - val_loss: 0.1223 - val_accuracy: 0.9654\n",
            "Epoch 10/50\n",
            "469/469 [==============================] - 2s 4ms/step - loss: 0.1456 - accuracy: 0.9562 - val_loss: 0.1278 - val_accuracy: 0.9632\n",
            "Epoch 11/50\n",
            "469/469 [==============================] - 2s 4ms/step - loss: 0.1384 - accuracy: 0.9591 - val_loss: 0.1197 - val_accuracy: 0.9667\n",
            "Epoch 12/50\n",
            "469/469 [==============================] - 2s 4ms/step - loss: 0.1358 - accuracy: 0.9581 - val_loss: 0.1210 - val_accuracy: 0.9631\n",
            "Epoch 13/50\n",
            "469/469 [==============================] - 2s 4ms/step - loss: 0.1290 - accuracy: 0.9602 - val_loss: 0.1096 - val_accuracy: 0.9678\n",
            "Epoch 14/50\n",
            "469/469 [==============================] - 2s 4ms/step - loss: 0.1278 - accuracy: 0.9606 - val_loss: 0.1181 - val_accuracy: 0.9674\n",
            "Epoch 15/50\n",
            "469/469 [==============================] - 2s 4ms/step - loss: 0.1226 - accuracy: 0.9630 - val_loss: 0.1117 - val_accuracy: 0.9673\n",
            "Epoch 16/50\n",
            "469/469 [==============================] - 2s 4ms/step - loss: 0.1231 - accuracy: 0.9618 - val_loss: 0.1056 - val_accuracy: 0.9688\n",
            "Epoch 17/50\n",
            "469/469 [==============================] - 2s 4ms/step - loss: 0.1184 - accuracy: 0.9639 - val_loss: 0.1162 - val_accuracy: 0.9675\n",
            "Epoch 18/50\n",
            "469/469 [==============================] - 2s 4ms/step - loss: 0.1176 - accuracy: 0.9647 - val_loss: 0.1097 - val_accuracy: 0.9675\n",
            "Epoch 19/50\n",
            "469/469 [==============================] - 2s 4ms/step - loss: 0.1170 - accuracy: 0.9636 - val_loss: 0.1082 - val_accuracy: 0.9693\n",
            "Epoch 20/50\n",
            "469/469 [==============================] - 2s 4ms/step - loss: 0.1136 - accuracy: 0.9659 - val_loss: 0.1026 - val_accuracy: 0.9708\n",
            "Epoch 21/50\n",
            "469/469 [==============================] - 2s 4ms/step - loss: 0.1119 - accuracy: 0.9655 - val_loss: 0.1106 - val_accuracy: 0.9691\n",
            "Epoch 22/50\n",
            "469/469 [==============================] - 2s 4ms/step - loss: 0.1137 - accuracy: 0.9651 - val_loss: 0.1094 - val_accuracy: 0.9686\n",
            "Epoch 23/50\n",
            "469/469 [==============================] - 2s 4ms/step - loss: 0.1101 - accuracy: 0.9659 - val_loss: 0.1038 - val_accuracy: 0.9705\n",
            "Epoch 24/50\n",
            "469/469 [==============================] - 2s 4ms/step - loss: 0.1085 - accuracy: 0.9667 - val_loss: 0.1106 - val_accuracy: 0.9689\n",
            "Epoch 25/50\n",
            "469/469 [==============================] - 2s 4ms/step - loss: 0.1073 - accuracy: 0.9671 - val_loss: 0.1006 - val_accuracy: 0.9708\n",
            "Epoch 26/50\n",
            "469/469 [==============================] - 2s 4ms/step - loss: 0.1079 - accuracy: 0.9676 - val_loss: 0.1053 - val_accuracy: 0.9705\n",
            "Epoch 27/50\n",
            "469/469 [==============================] - 2s 4ms/step - loss: 0.1043 - accuracy: 0.9681 - val_loss: 0.1030 - val_accuracy: 0.9714\n",
            "Epoch 28/50\n",
            "469/469 [==============================] - 2s 4ms/step - loss: 0.1044 - accuracy: 0.9682 - val_loss: 0.1100 - val_accuracy: 0.9665\n",
            "Epoch 29/50\n",
            "469/469 [==============================] - 2s 4ms/step - loss: 0.1058 - accuracy: 0.9676 - val_loss: 0.1041 - val_accuracy: 0.9709\n",
            "Epoch 30/50\n",
            "469/469 [==============================] - 2s 4ms/step - loss: 0.1008 - accuracy: 0.9681 - val_loss: 0.0996 - val_accuracy: 0.9707\n",
            "Epoch 31/50\n",
            "469/469 [==============================] - 2s 4ms/step - loss: 0.1007 - accuracy: 0.9680 - val_loss: 0.1039 - val_accuracy: 0.9698\n",
            "Epoch 32/50\n",
            "469/469 [==============================] - 2s 4ms/step - loss: 0.0991 - accuracy: 0.9701 - val_loss: 0.1013 - val_accuracy: 0.9712\n",
            "Epoch 33/50\n",
            "469/469 [==============================] - 2s 4ms/step - loss: 0.0966 - accuracy: 0.9696 - val_loss: 0.1053 - val_accuracy: 0.9702\n",
            "Epoch 34/50\n",
            "469/469 [==============================] - 2s 4ms/step - loss: 0.0931 - accuracy: 0.9713 - val_loss: 0.1007 - val_accuracy: 0.9704\n",
            "Epoch 35/50\n",
            "469/469 [==============================] - 2s 4ms/step - loss: 0.0970 - accuracy: 0.9696 - val_loss: 0.1020 - val_accuracy: 0.9721\n"
          ],
          "name": "stdout"
        }
      ]
    },
    {
      "cell_type": "code",
      "metadata": {
        "colab": {
          "base_uri": "https://localhost:8080/",
          "height": 1000
        },
        "id": "Km6Wur6-44xs",
        "outputId": "085e985d-54a8-437b-ee7f-b7edcc6f2b8d"
      },
      "source": [
        "# Plot the training progress\r\n",
        "fig = plt.figure(figsize=(10,10))\r\n",
        "plt.plot(hist.history['loss'])\r\n",
        "plt.plot(hist.history['val_loss'])\r\n",
        "plt.title('Loss function')\r\n",
        "plt.ylabel('Loss')\r\n",
        "plt.xlabel('Epoch')\r\n",
        "plt.grid()\r\n",
        "plt.legend(['Training data', 'Test data'])\r\n",
        "plt.show()\r\n",
        "\r\n",
        "fig = plt.figure(figsize=(10,10))\r\n",
        "plt.plot(hist.history['accuracy'])\r\n",
        "plt.plot(hist.history['val_accuracy'])\r\n",
        "plt.title('Model accuracy')\r\n",
        "plt.ylabel('Accuracy')\r\n",
        "plt.xlabel('Epoch')\r\n",
        "plt.grid()\r\n",
        "plt.legend(['Training data', 'Test data'])"
      ],
      "execution_count": null,
      "outputs": [
        {
          "output_type": "display_data",
          "data": {
            "image/png": "[encoded data removed]",
            "text/plain": [
              "<Figure size 720x720 with 1 Axes>"
            ]
          },
          "metadata": {
            "tags": [],
            "needs_background": "light"
          }
        },
        {
          "output_type": "execute_result",
          "data": {
            "text/plain": [
              "<matplotlib.legend.Legend at 0x7fc4e036fe10>"
            ]
          },
          "metadata": {
            "tags": []
          },
          "execution_count": 8
        },
        {
          "output_type": "display_data",
          "data": {
            "image/png": "[encoded data removed]",
            "text/plain": [
              "<Figure size 720x720 with 1 Axes>"
            ]
          },
          "metadata": {
            "tags": [],
            "needs_background": "light"
          }
        }
      ]
    },
    {
      "cell_type": "code",
      "metadata": {
        "colab": {
          "base_uri": "https://localhost:8080/"
        },
        "id": "SXRMvcFH5Wc8",
        "outputId": "723c435d-67f9-479f-ddb9-5a6fa999d93b"
      },
      "source": [
        "# Step 5/6: Evaluate the model (we do no hyperparameter tuning here)\r\n",
        "loss_accuracy = model.evaluate(ds_test, verbose=0)\r\n",
        "\r\n",
        "print(\"Test Loss: {}\".format(loss_accuracy[0]))\r\n",
        "print(\"Test Accuracy: {}\".format(loss_accuracy[1]))"
      ],
      "execution_count": null,
      "outputs": [
        {
          "output_type": "stream",
          "text": [
            "Test Loss: 0.10196434706449509\n",
            "Test Accuracy: 0.972100019454956\n"
          ],
          "name": "stdout"
        }
      ]
    }
  ]
}